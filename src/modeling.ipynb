{
 "cells": [
  {
   "cell_type": "code",
   "execution_count": 1,
   "metadata": {
    "collapsed": false
   },
   "outputs": [
    {
     "name": "stdout",
     "output_type": "stream",
     "text": [
      "This non-commercial license of GraphLab Create for academic use is assigned to ref302@nyu.edu and will expire on October 13, 2017.\n"
     ]
    },
    {
     "name": "stderr",
     "output_type": "stream",
     "text": [
      "[INFO] graphlab.cython.cy_server: GraphLab Create v2.1 started. Logging: /tmp/graphlab_server_1480308849.log\n"
     ]
    }
   ],
   "source": [
    "%reload_ext autoreload\n",
    "%autoreload 2\n",
    "from scrape_GR_tools import *\n",
    "from scrape_explore import *\n",
    "from friend_groups import *\n",
    "from modeling import *\n",
    "#put this in scrape_GR_tools\n",
    "import pandas as pd\n",
    "\n",
    "import graphlab as gl\n",
    "\n",
    "import networkx as nx\n",
    "import nxpd as nxpd\n",
    "from IPython.display import display, Image\n",
    "import community\n",
    "\n",
    "from datetime import date, datetime\n",
    "grDateFormat = '%b %d, %Y'\n",
    "\n",
    "%matplotlib inline\n",
    "import matplotlib.pyplot as plt\n",
    "from matplotlib import colors\n",
    "\n",
    "from itertools import product"
   ]
  },
  {
   "cell_type": "markdown",
   "metadata": {},
   "source": [
    "SETTING UP DATA FOR PREDICTION"
   ]
  },
  {
   "cell_type": "code",
   "execution_count": 2,
   "metadata": {
    "collapsed": false
   },
   "outputs": [],
   "source": [
    "client = MongoClient(\"mongodb://35.163.255.3\") #bigCruncher"
   ]
  },
  {
   "cell_type": "code",
   "execution_count": 3,
   "metadata": {
    "collapsed": false
   },
   "outputs": [
    {
     "name": "stdout",
     "output_type": "stream",
     "text": [
      "Checking database 'goodreads_explore_from_book_tnc'\n",
      "Database has 0 comms (we now have 0 in total)\n",
      "\n",
      "Checking database 'goodreads_explore_from_book_ender'\n",
      "Database has 11 comms (we now have 11 in total)\n",
      "\n",
      "Checking database 'goodreads_explore_from_book_fault_in_our_stars'\n",
      "Database has 0 comms (we now have 11 in total)\n",
      "\n",
      "Checking database 'goodreads_explore_from_book_hedgehog'\n",
      "Database has 2 comms (we now have 13 in total)\n",
      "\n",
      "Checking database 'goodreads_explore_from_book_pride_and_prejudice'\n",
      "Database has 9 comms (we now have 22 in total)\n",
      "\n",
      "Checking database 'goodreads_explore_from_book_mice_and_men'\n",
      "Database has 11 comms (we now have 33 in total)\n",
      "\n",
      "Checking database 'goodreads_explore_from_book_jest'\n",
      "Database has 19 comms (we now have 52 in total)\n",
      "\n",
      "Checking database 'goodreads_explore_from_book_swiftly'\n",
      "Database has 0 comms (we now have 52 in total)\n",
      "\n",
      "Checking database 'goodreads_explore_from_book_lies'\n",
      "Database has 0 comms (we now have 52 in total)\n",
      "\n",
      "Checking database 'goodreads_explore_from_book_alchemist'\n",
      "Database has 7 comms (we now have 59 in total)\n",
      "\n",
      "Checking database 'goodreads_explore_from_book_house_of_leaves'\n",
      "Database has 7 comms (we now have 66 in total)\n",
      "\n",
      "Checking database 'goodreads_explore_from_book_sun_also_rises'\n",
      "Database has 8 comms (we now have 74 in total)\n",
      "\n",
      "Checking database 'goodreads_explore_from_book_divergent'\n",
      "Database has 0 comms (we now have 74 in total)\n",
      "\n",
      "Checking database 'goodreads_explore_from_book_game_of_thrones'\n",
      "Database has 3 comms (we now have 77 in total)\n",
      "\n",
      "Checking database 'goodreads_explore_from_book_manifesto'\n",
      "Database has 5 comms (we now have 82 in total)\n",
      "\n",
      "Finished collecting comms.  We have 82 comms in total.  Pruning...\n",
      "\n",
      "Comms 6 and 20 were identical; removing 6\n",
      "\n",
      "Comms 14 and 67 were identical; removing 14\n",
      "\n",
      "Comms 18 and 70 were identical; removing 18\n",
      "\n",
      "Comms 37 and 80 were identical; removing 37\n",
      "\n",
      "Comms 43 and 77 were identical; removing 43\n",
      "\n",
      "Comms 71 and 81 were identical; removing 71\n",
      "\n",
      "Began with 82 comms, now have 76 after pruning.\n"
     ]
    }
   ],
   "source": [
    "allComms = collectAllComms(client)"
   ]
  },
  {
   "cell_type": "code",
   "execution_count": 4,
   "metadata": {
    "collapsed": false,
    "scrolled": true
   },
   "outputs": [],
   "source": [
    "dbFull = client['goodreads_full']\n",
    "\n",
    "ratingsFull = dbFull['ratings']\n",
    "friendsFull = dbFull['friends']\n",
    "booksFull = dbFull['books']\n",
    "\n",
    "#updateCommsOfRaters2(booksFull, allComms)\n",
    "#updateCommsOfRaters(ratingsFull, booksFull, allComms)\n",
    "booksToRaterComms = getCommsOfRaters(ratingsFull, allComms)"
   ]
  },
  {
   "cell_type": "code",
   "execution_count": 5,
   "metadata": {
    "collapsed": false
   },
   "outputs": [],
   "source": [
    "glRatings = makeRecommenderInputs(ratingsFull, booksFull, allComms, booksToRaterComms, 20, 20)"
   ]
  },
  {
   "cell_type": "code",
   "execution_count": 7,
   "metadata": {
    "collapsed": true
   },
   "outputs": [],
   "source": [
    "glRatingsTrain, glRatingsTest = gl.recommender.util.random_split_by_user(glRatings, \n",
    "                                                    user_id=\"userID\", \n",
    "                                                    item_id=\"bookID\")"
   ]
  },
  {
   "cell_type": "code",
   "execution_count": 8,
   "metadata": {
    "collapsed": false
   },
   "outputs": [
    {
     "data": {
      "text/plain": [
       "0.69974554707379133"
      ]
     },
     "execution_count": 8,
     "metadata": {},
     "output_type": "execute_result"
    }
   ],
   "source": [
    "numRatingsByUser = glRatingsTrain.groupby(['userID'], {'numRatings': gl.aggregate.COUNT('rating')})['numRatings']\n",
    "numRatingsByUser = pd.Series(numRatingsByUser)\n",
    "(numRatingsByUser >= 20).mean()"
   ]
  },
  {
   "cell_type": "code",
   "execution_count": 9,
   "metadata": {
    "collapsed": false
   },
   "outputs": [
    {
     "data": {
      "text/plain": [
       "0.77953348382242282"
      ]
     },
     "execution_count": 9,
     "metadata": {},
     "output_type": "execute_result"
    }
   ],
   "source": [
    "numRatingsByBook = glRatingsTrain.groupby(['bookID'], {'numRatings': gl.aggregate.COUNT('rating')})['numRatings']\n",
    "numRatingsByBook = pd.Series(numRatingsByBook)\n",
    "(numRatingsByBook >= 20).mean()"
   ]
  },
  {
   "cell_type": "markdown",
   "metadata": {},
   "source": [
    "PREDICTION"
   ]
  },
  {
   "cell_type": "markdown",
   "metadata": {},
   "source": [
    "TRADITIONAL RECOMMENDER"
   ]
  },
  {
   "cell_type": "code",
   "execution_count": null,
   "metadata": {
    "collapsed": true
   },
   "outputs": [],
   "source": [
    "# make sure we train the recommender without community information\n",
    "\n",
    "glRatingsTrainWithComm = glRatingsTrain.copy()\n",
    "glRatingsTestWithComm = glRatingsTest.copy()\n",
    "\n",
    "if 'comm' in glRatingsTrain.column_names():\n",
    "    glRatingsTrain.remove_column('comm');\n",
    "if 'comm' in glRatingsTest.column_names():\n",
    "    glRatingsTest.remove_column('comm');"
   ]
  },
  {
   "cell_type": "code",
   "execution_count": null,
   "metadata": {
    "collapsed": false
   },
   "outputs": [],
   "source": [
    "degreesOfFreedomStats(glRatingsTrain)"
   ]
  },
  {
   "cell_type": "code",
   "execution_count": null,
   "metadata": {
    "collapsed": false
   },
   "outputs": [
    {
     "name": "stderr",
     "output_type": "stream",
     "text": [
      "[INFO] graphlab.deploy.job: Validating job.\n",
      "[INFO] graphlab.deploy.map_job: Validation complete. Job: 'Model-Parameter-Search-Nov-28-2016-00-01-3700000' ready for execution\n",
      "[INFO] graphlab.deploy.map_job: Job: 'Model-Parameter-Search-Nov-28-2016-00-01-3700000' scheduled.\n"
     ]
    }
   ],
   "source": [
    "\n",
    "models = gl.toolkits.model_parameter_search.grid_search.create((glRatingsTrain, glRatingsTest),\n",
    "                                                     gl.factorization_recommender.create,\n",
    "                                                     {'user_id': 'userID',\n",
    "                                                      'item_id': 'bookID',\n",
    "                                                      'target': 'rating',\n",
    "                                                      'num_factors': [2, 4, 8],\n",
    "                                                      'max_iterations': 2000,\n",
    "                                                      'regularization': [1e-3, 1e-4, 1e-5],\n",
    "                                                      'linear_regularization': 1e-4\n",
    "                                                      })\n",
    "'''\n",
    "models = gl.toolkits.model_parameter_search.grid_search.create((glRatingsTrain, glRatingsTest),\n",
    "                                                     gl.factorization_recommender.create,\n",
    "                                                     {'user_id': 'userID',\n",
    "                                                      'item_id': 'bookID',\n",
    "                                                      'target': 'rating',\n",
    "                                                      'num_factors': 0,\n",
    "                                                      'max_iterations': 2000,\n",
    "                                                      'regularization': 1e-3,\n",
    "                                                      'linear_regularization': [10**i for i in range(-4,0)]\n",
    "                                                      })\n",
    "'''"
   ]
  },
  {
   "cell_type": "code",
   "execution_count": 12,
   "metadata": {
    "collapsed": false
   },
   "outputs": [
    {
     "ename": "NameError",
     "evalue": "name 'models' is not defined",
     "output_type": "error",
     "traceback": [
      "\u001b[0;31m---------------------------------------------------------------------------\u001b[0m",
      "\u001b[0;31mNameError\u001b[0m                                 Traceback (most recent call last)",
      "\u001b[0;32m<ipython-input-12-c1e6bfe98bf2>\u001b[0m in \u001b[0;36m<module>\u001b[0;34m()\u001b[0m\n\u001b[0;32m----> 1\u001b[0;31m \u001b[0mmodels\u001b[0m\u001b[0;34m.\u001b[0m\u001b[0mget_status\u001b[0m\u001b[0;34m(\u001b[0m\u001b[0;34m)\u001b[0m\u001b[0;34m\u001b[0m\u001b[0m\n\u001b[0m\u001b[1;32m      2\u001b[0m \u001b[0;31m#models.get_results().sort('validation_rmse')\u001b[0m\u001b[0;34m\u001b[0m\u001b[0;34m\u001b[0m\u001b[0m\n",
      "\u001b[0;31mNameError\u001b[0m: name 'models' is not defined"
     ]
    }
   ],
   "source": [
    "models.get_status()\n",
    "#models.get_results().sort('validation_rmse')"
   ]
  },
  {
   "cell_type": "code",
   "execution_count": null,
   "metadata": {
    "collapsed": false
   },
   "outputs": [
    {
     "data": {
      "text/html": [
       "<pre>Recsys training: model = factorization_recommender</pre>"
      ],
      "text/plain": [
       "Recsys training: model = factorization_recommender"
      ]
     },
     "metadata": {},
     "output_type": "display_data"
    },
    {
     "data": {
      "text/html": [
       "<pre>Preparing data set.</pre>"
      ],
      "text/plain": [
       "Preparing data set."
      ]
     },
     "metadata": {},
     "output_type": "display_data"
    },
    {
     "data": {
      "text/html": [
       "<pre>    Data has 15583 observations with 533 users and 170 items.</pre>"
      ],
      "text/plain": [
       "    Data has 15583 observations with 533 users and 170 items."
      ]
     },
     "metadata": {},
     "output_type": "display_data"
    },
    {
     "data": {
      "text/html": [
       "<pre>    Data prepared in: 0.129172s</pre>"
      ],
      "text/plain": [
       "    Data prepared in: 0.129172s"
      ]
     },
     "metadata": {},
     "output_type": "display_data"
    },
    {
     "data": {
      "text/html": [
       "<pre>Training factorization_recommender for recommendations.</pre>"
      ],
      "text/plain": [
       "Training factorization_recommender for recommendations."
      ]
     },
     "metadata": {},
     "output_type": "display_data"
    },
    {
     "data": {
      "text/html": [
       "<pre>+--------------------------------+--------------------------------------------------+----------+</pre>"
      ],
      "text/plain": [
       "+--------------------------------+--------------------------------------------------+----------+"
      ]
     },
     "metadata": {},
     "output_type": "display_data"
    },
    {
     "data": {
      "text/html": [
       "<pre>| Parameter                      | Description                                      | Value    |</pre>"
      ],
      "text/plain": [
       "| Parameter                      | Description                                      | Value    |"
      ]
     },
     "metadata": {},
     "output_type": "display_data"
    },
    {
     "data": {
      "text/html": [
       "<pre>+--------------------------------+--------------------------------------------------+----------+</pre>"
      ],
      "text/plain": [
       "+--------------------------------+--------------------------------------------------+----------+"
      ]
     },
     "metadata": {},
     "output_type": "display_data"
    },
    {
     "data": {
      "text/html": [
       "<pre>| num_factors                    | Factor Dimension                                 | 0        |</pre>"
      ],
      "text/plain": [
       "| num_factors                    | Factor Dimension                                 | 0        |"
      ]
     },
     "metadata": {},
     "output_type": "display_data"
    },
    {
     "data": {
      "text/html": [
       "<pre>| regularization                 | L2 Regularization on Factors                     | 0.001    |</pre>"
      ],
      "text/plain": [
       "| regularization                 | L2 Regularization on Factors                     | 0.001    |"
      ]
     },
     "metadata": {},
     "output_type": "display_data"
    },
    {
     "data": {
      "text/html": [
       "<pre>| solver                         | Solver used for training                         | sgd      |</pre>"
      ],
      "text/plain": [
       "| solver                         | Solver used for training                         | sgd      |"
      ]
     },
     "metadata": {},
     "output_type": "display_data"
    },
    {
     "data": {
      "text/html": [
       "<pre>| linear_regularization          | L2 Regularization on Linear Coefficients         | 0.0001   |</pre>"
      ],
      "text/plain": [
       "| linear_regularization          | L2 Regularization on Linear Coefficients         | 0.0001   |"
      ]
     },
     "metadata": {},
     "output_type": "display_data"
    },
    {
     "data": {
      "text/html": [
       "<pre>| max_iterations                 | Maximum Number of Iterations                     | 200      |</pre>"
      ],
      "text/plain": [
       "| max_iterations                 | Maximum Number of Iterations                     | 200      |"
      ]
     },
     "metadata": {},
     "output_type": "display_data"
    },
    {
     "data": {
      "text/html": [
       "<pre>+--------------------------------+--------------------------------------------------+----------+</pre>"
      ],
      "text/plain": [
       "+--------------------------------+--------------------------------------------------+----------+"
      ]
     },
     "metadata": {},
     "output_type": "display_data"
    },
    {
     "data": {
      "text/html": [
       "<pre>  Optimizing model using SGD; tuning step size.</pre>"
      ],
      "text/plain": [
       "  Optimizing model using SGD; tuning step size."
      ]
     },
     "metadata": {},
     "output_type": "display_data"
    },
    {
     "data": {
      "text/html": [
       "<pre>  Using 10000 / 15583 points for tuning the step size.</pre>"
      ],
      "text/plain": [
       "  Using 10000 / 15583 points for tuning the step size."
      ]
     },
     "metadata": {},
     "output_type": "display_data"
    },
    {
     "data": {
      "text/html": [
       "<pre>+---------+-------------------+------------------------------------------+</pre>"
      ],
      "text/plain": [
       "+---------+-------------------+------------------------------------------+"
      ]
     },
     "metadata": {},
     "output_type": "display_data"
    },
    {
     "data": {
      "text/html": [
       "<pre>| Attempt | Initial Step Size | Estimated Objective Value                |</pre>"
      ],
      "text/plain": [
       "| Attempt | Initial Step Size | Estimated Objective Value                |"
      ]
     },
     "metadata": {},
     "output_type": "display_data"
    },
    {
     "data": {
      "text/html": [
       "<pre>+---------+-------------------+------------------------------------------+</pre>"
      ],
      "text/plain": [
       "+---------+-------------------+------------------------------------------+"
      ]
     },
     "metadata": {},
     "output_type": "display_data"
    },
    {
     "data": {
      "text/html": [
       "<pre>| 0       | 4.71724           | 0.743847                                 |</pre>"
      ],
      "text/plain": [
       "| 0       | 4.71724           | 0.743847                                 |"
      ]
     },
     "metadata": {},
     "output_type": "display_data"
    },
    {
     "data": {
      "text/html": [
       "<pre>| 1       | 2.35862           | 0.744571                                 |</pre>"
      ],
      "text/plain": [
       "| 1       | 2.35862           | 0.744571                                 |"
      ]
     },
     "metadata": {},
     "output_type": "display_data"
    },
    {
     "data": {
      "text/html": [
       "<pre>| 2       | 1.17931           | 0.743249                                 |</pre>"
      ],
      "text/plain": [
       "| 2       | 1.17931           | 0.743249                                 |"
      ]
     },
     "metadata": {},
     "output_type": "display_data"
    },
    {
     "data": {
      "text/html": [
       "<pre>| 3       | 0.589655          | 0.74414                                  |</pre>"
      ],
      "text/plain": [
       "| 3       | 0.589655          | 0.74414                                  |"
      ]
     },
     "metadata": {},
     "output_type": "display_data"
    },
    {
     "data": {
      "text/html": [
       "<pre>| 4       | 0.294828          | 0.74324                                  |</pre>"
      ],
      "text/plain": [
       "| 4       | 0.294828          | 0.74324                                  |"
      ]
     },
     "metadata": {},
     "output_type": "display_data"
    }
   ],
   "source": [
    "rec_engine_baseline = gl.factorization_recommender.create(   observation_data=glRatingsTrain, \n",
    "                                                    user_id=\"userID\", \n",
    "                                                    item_id=\"bookID\", \n",
    "                                                    target='rating',\n",
    "                                                    num_factors=0,\n",
    "                                                    solver='auto',\n",
    "                                                    max_iterations=200,\n",
    "                                                    regularization = 1e-3,\n",
    "                                                    linear_regularization = 1e-4\n",
    "                                                    )"
   ]
  },
  {
   "cell_type": "code",
   "execution_count": 17,
   "metadata": {
    "collapsed": false
   },
   "outputs": [
    {
     "data": {
      "text/plain": [
       "0.9148195693401144"
      ]
     },
     "execution_count": 17,
     "metadata": {},
     "output_type": "execute_result"
    }
   ],
   "source": [
    "rec_engine_baseline.evaluate_rmse(glRatingsTest, target='rating')['rmse_overall']"
   ]
  },
  {
   "cell_type": "code",
   "execution_count": 169,
   "metadata": {
    "collapsed": false
   },
   "outputs": [
    {
     "data": {
      "text/html": [
       "<pre>Recsys training: model = factorization_recommender</pre>"
      ],
      "text/plain": [
       "Recsys training: model = factorization_recommender"
      ]
     },
     "metadata": {},
     "output_type": "display_data"
    },
    {
     "data": {
      "text/html": [
       "<pre>Preparing data set.</pre>"
      ],
      "text/plain": [
       "Preparing data set."
      ]
     },
     "metadata": {},
     "output_type": "display_data"
    },
    {
     "data": {
      "text/html": [
       "<pre>    Data has 15583 observations with 533 users and 170 items.</pre>"
      ],
      "text/plain": [
       "    Data has 15583 observations with 533 users and 170 items."
      ]
     },
     "metadata": {},
     "output_type": "display_data"
    },
    {
     "data": {
      "text/html": [
       "<pre>    Data prepared in: 0.191837s</pre>"
      ],
      "text/plain": [
       "    Data prepared in: 0.191837s"
      ]
     },
     "metadata": {},
     "output_type": "display_data"
    },
    {
     "data": {
      "text/html": [
       "<pre>Training factorization_recommender for recommendations.</pre>"
      ],
      "text/plain": [
       "Training factorization_recommender for recommendations."
      ]
     },
     "metadata": {},
     "output_type": "display_data"
    },
    {
     "data": {
      "text/html": [
       "<pre>+--------------------------------+--------------------------------------------------+----------+</pre>"
      ],
      "text/plain": [
       "+--------------------------------+--------------------------------------------------+----------+"
      ]
     },
     "metadata": {},
     "output_type": "display_data"
    },
    {
     "data": {
      "text/html": [
       "<pre>| Parameter                      | Description                                      | Value    |</pre>"
      ],
      "text/plain": [
       "| Parameter                      | Description                                      | Value    |"
      ]
     },
     "metadata": {},
     "output_type": "display_data"
    },
    {
     "data": {
      "text/html": [
       "<pre>+--------------------------------+--------------------------------------------------+----------+</pre>"
      ],
      "text/plain": [
       "+--------------------------------+--------------------------------------------------+----------+"
      ]
     },
     "metadata": {},
     "output_type": "display_data"
    },
    {
     "data": {
      "text/html": [
       "<pre>| num_factors                    | Factor Dimension                                 | 4        |</pre>"
      ],
      "text/plain": [
       "| num_factors                    | Factor Dimension                                 | 4        |"
      ]
     },
     "metadata": {},
     "output_type": "display_data"
    },
    {
     "data": {
      "text/html": [
       "<pre>| regularization                 | L2 Regularization on Factors                     | 0.001    |</pre>"
      ],
      "text/plain": [
       "| regularization                 | L2 Regularization on Factors                     | 0.001    |"
      ]
     },
     "metadata": {},
     "output_type": "display_data"
    },
    {
     "data": {
      "text/html": [
       "<pre>| solver                         | Solver used for training                         | adagrad  |</pre>"
      ],
      "text/plain": [
       "| solver                         | Solver used for training                         | adagrad  |"
      ]
     },
     "metadata": {},
     "output_type": "display_data"
    },
    {
     "data": {
      "text/html": [
       "<pre>| linear_regularization          | L2 Regularization on Linear Coefficients         | 0.0001   |</pre>"
      ],
      "text/plain": [
       "| linear_regularization          | L2 Regularization on Linear Coefficients         | 0.0001   |"
      ]
     },
     "metadata": {},
     "output_type": "display_data"
    },
    {
     "data": {
      "text/html": [
       "<pre>| max_iterations                 | Maximum Number of Iterations                     | 200      |</pre>"
      ],
      "text/plain": [
       "| max_iterations                 | Maximum Number of Iterations                     | 200      |"
      ]
     },
     "metadata": {},
     "output_type": "display_data"
    },
    {
     "data": {
      "text/html": [
       "<pre>+--------------------------------+--------------------------------------------------+----------+</pre>"
      ],
      "text/plain": [
       "+--------------------------------+--------------------------------------------------+----------+"
      ]
     },
     "metadata": {},
     "output_type": "display_data"
    },
    {
     "data": {
      "text/html": [
       "<pre>  Optimizing model using SGD; tuning step size.</pre>"
      ],
      "text/plain": [
       "  Optimizing model using SGD; tuning step size."
      ]
     },
     "metadata": {},
     "output_type": "display_data"
    },
    {
     "data": {
      "text/html": [
       "<pre>  Using 10000 / 15583 points for tuning the step size.</pre>"
      ],
      "text/plain": [
       "  Using 10000 / 15583 points for tuning the step size."
      ]
     },
     "metadata": {},
     "output_type": "display_data"
    },
    {
     "data": {
      "text/html": [
       "<pre>+---------+-------------------+------------------------------------------+</pre>"
      ],
      "text/plain": [
       "+---------+-------------------+------------------------------------------+"
      ]
     },
     "metadata": {},
     "output_type": "display_data"
    },
    {
     "data": {
      "text/html": [
       "<pre>| Attempt | Initial Step Size | Estimated Objective Value                |</pre>"
      ],
      "text/plain": [
       "| Attempt | Initial Step Size | Estimated Objective Value                |"
      ]
     },
     "metadata": {},
     "output_type": "display_data"
    },
    {
     "data": {
      "text/html": [
       "<pre>+---------+-------------------+------------------------------------------+</pre>"
      ],
      "text/plain": [
       "+---------+-------------------+------------------------------------------+"
      ]
     },
     "metadata": {},
     "output_type": "display_data"
    },
    {
     "data": {
      "text/html": [
       "<pre>| 0       | 4.71724           | Not Viable                               |</pre>"
      ],
      "text/plain": [
       "| 0       | 4.71724           | Not Viable                               |"
      ]
     },
     "metadata": {},
     "output_type": "display_data"
    },
    {
     "data": {
      "text/html": [
       "<pre>| 1       | 1.17931           | Not Viable                               |</pre>"
      ],
      "text/plain": [
       "| 1       | 1.17931           | Not Viable                               |"
      ]
     },
     "metadata": {},
     "output_type": "display_data"
    },
    {
     "data": {
      "text/html": [
       "<pre>| 2       | 0.294828          | 0.796251                                 |</pre>"
      ],
      "text/plain": [
       "| 2       | 0.294828          | 0.796251                                 |"
      ]
     },
     "metadata": {},
     "output_type": "display_data"
    },
    {
     "data": {
      "text/html": [
       "<pre>| 3       | 0.147414          | 0.78141                                  |</pre>"
      ],
      "text/plain": [
       "| 3       | 0.147414          | 0.78141                                  |"
      ]
     },
     "metadata": {},
     "output_type": "display_data"
    },
    {
     "data": {
      "text/html": [
       "<pre>| 4       | 0.0737069         | 0.753429                                 |</pre>"
      ],
      "text/plain": [
       "| 4       | 0.0737069         | 0.753429                                 |"
      ]
     },
     "metadata": {},
     "output_type": "display_data"
    },
    {
     "data": {
      "text/html": [
       "<pre>| 5       | 0.0368535         | 0.774844                                 |</pre>"
      ],
      "text/plain": [
       "| 5       | 0.0368535         | 0.774844                                 |"
      ]
     },
     "metadata": {},
     "output_type": "display_data"
    },
    {
     "data": {
      "text/html": [
       "<pre>| 6       | 0.0184267         | 0.820722                                 |</pre>"
      ],
      "text/plain": [
       "| 6       | 0.0184267         | 0.820722                                 |"
      ]
     },
     "metadata": {},
     "output_type": "display_data"
    },
    {
     "data": {
      "text/html": [
       "<pre>| 7       | 0.00921337        | 0.874716                                 |</pre>"
      ],
      "text/plain": [
       "| 7       | 0.00921337        | 0.874716                                 |"
      ]
     },
     "metadata": {},
     "output_type": "display_data"
    },
    {
     "data": {
      "text/html": [
       "<pre>+---------+-------------------+------------------------------------------+</pre>"
      ],
      "text/plain": [
       "+---------+-------------------+------------------------------------------+"
      ]
     },
     "metadata": {},
     "output_type": "display_data"
    },
    {
     "data": {
      "text/html": [
       "<pre>| Final   | 0.0737069         | 0.753429                                 |</pre>"
      ],
      "text/plain": [
       "| Final   | 0.0737069         | 0.753429                                 |"
      ]
     },
     "metadata": {},
     "output_type": "display_data"
    },
    {
     "data": {
      "text/html": [
       "<pre>+---------+-------------------+------------------------------------------+</pre>"
      ],
      "text/plain": [
       "+---------+-------------------+------------------------------------------+"
      ]
     },
     "metadata": {},
     "output_type": "display_data"
    },
    {
     "data": {
      "text/html": [
       "<pre>Starting Optimization.</pre>"
      ],
      "text/plain": [
       "Starting Optimization."
      ]
     },
     "metadata": {},
     "output_type": "display_data"
    },
    {
     "data": {
      "text/html": [
       "<pre>+---------+--------------+-------------------+-----------------------+-------------+</pre>"
      ],
      "text/plain": [
       "+---------+--------------+-------------------+-----------------------+-------------+"
      ]
     },
     "metadata": {},
     "output_type": "display_data"
    },
    {
     "data": {
      "text/html": [
       "<pre>| Iter.   | Elapsed Time | Approx. Objective | Approx. Training RMSE | Step Size   |</pre>"
      ],
      "text/plain": [
       "| Iter.   | Elapsed Time | Approx. Objective | Approx. Training RMSE | Step Size   |"
      ]
     },
     "metadata": {},
     "output_type": "display_data"
    },
    {
     "data": {
      "text/html": [
       "<pre>+---------+--------------+-------------------+-----------------------+-------------+</pre>"
      ],
      "text/plain": [
       "+---------+--------------+-------------------+-----------------------+-------------+"
      ]
     },
     "metadata": {},
     "output_type": "display_data"
    },
    {
     "data": {
      "text/html": [
       "<pre>| Initial | 92us         | 0.970063          | 0.984918              |             |</pre>"
      ],
      "text/plain": [
       "| Initial | 92us         | 0.970063          | 0.984918              |             |"
      ]
     },
     "metadata": {},
     "output_type": "display_data"
    },
    {
     "data": {
      "text/html": [
       "<pre>+---------+--------------+-------------------+-----------------------+-------------+</pre>"
      ],
      "text/plain": [
       "+---------+--------------+-------------------+-----------------------+-------------+"
      ]
     },
     "metadata": {},
     "output_type": "display_data"
    },
    {
     "data": {
      "text/html": [
       "<pre>| 1       | 2.27s        | 0.88205           | 0.93093               | 0.0737069   |</pre>"
      ],
      "text/plain": [
       "| 1       | 2.27s        | 0.88205           | 0.93093               | 0.0737069   |"
      ]
     },
     "metadata": {},
     "output_type": "display_data"
    },
    {
     "data": {
      "text/html": [
       "<pre>| 2       | 4.65s        | 0.807362          | 0.886633              | 0.0737069   |</pre>"
      ],
      "text/plain": [
       "| 2       | 4.65s        | 0.807362          | 0.886633              | 0.0737069   |"
      ]
     },
     "metadata": {},
     "output_type": "display_data"
    },
    {
     "data": {
      "text/html": [
       "<pre>| 3       | 6.63s        | 0.791192          | 0.877292              | 0.0737069   |</pre>"
      ],
      "text/plain": [
       "| 3       | 6.63s        | 0.791192          | 0.877292              | 0.0737069   |"
      ]
     },
     "metadata": {},
     "output_type": "display_data"
    },
    {
     "data": {
      "text/html": [
       "<pre>| 4       | 9.17s        | 0.783368          | 0.872669              | 0.0737069   |</pre>"
      ],
      "text/plain": [
       "| 4       | 9.17s        | 0.783368          | 0.872669              | 0.0737069   |"
      ]
     },
     "metadata": {},
     "output_type": "display_data"
    },
    {
     "data": {
      "text/html": [
       "<pre>| 5       | 11.20s       | 0.778684          | 0.870188              | 0.0737069   |</pre>"
      ],
      "text/plain": [
       "| 5       | 11.20s       | 0.778684          | 0.870188              | 0.0737069   |"
      ]
     },
     "metadata": {},
     "output_type": "display_data"
    },
    {
     "data": {
      "text/html": [
       "<pre>| 6       | 13.62s       | 0.775246          | 0.86833               | 0.0737069   |</pre>"
      ],
      "text/plain": [
       "| 6       | 13.62s       | 0.775246          | 0.86833               | 0.0737069   |"
      ]
     },
     "metadata": {},
     "output_type": "display_data"
    },
    {
     "data": {
      "text/html": [
       "<pre>| 7       | 16.16s       | 0.772468          | 0.866819              | 0.0737069   |</pre>"
      ],
      "text/plain": [
       "| 7       | 16.16s       | 0.772468          | 0.866819              | 0.0737069   |"
      ]
     },
     "metadata": {},
     "output_type": "display_data"
    },
    {
     "data": {
      "text/html": [
       "<pre>| 8       | 18.39s       | 0.770544          | 0.865724              | 0.0737069   |</pre>"
      ],
      "text/plain": [
       "| 8       | 18.39s       | 0.770544          | 0.865724              | 0.0737069   |"
      ]
     },
     "metadata": {},
     "output_type": "display_data"
    },
    {
     "data": {
      "text/html": [
       "<pre>| 9       | 19.59s       | 0.76916           | 0.865022              | 0.0737069   |</pre>"
      ],
      "text/plain": [
       "| 9       | 19.59s       | 0.76916           | 0.865022              | 0.0737069   |"
      ]
     },
     "metadata": {},
     "output_type": "display_data"
    },
    {
     "data": {
      "text/html": [
       "<pre>| 10      | 21.82s       | 0.767356          | 0.864094              | 0.0737069   |</pre>"
      ],
      "text/plain": [
       "| 10      | 21.82s       | 0.767356          | 0.864094              | 0.0737069   |"
      ]
     },
     "metadata": {},
     "output_type": "display_data"
    },
    {
     "data": {
      "text/html": [
       "<pre>| 11      | 24.12s       | 0.766127          | 0.863373              | 0.0737069   |</pre>"
      ],
      "text/plain": [
       "| 11      | 24.12s       | 0.766127          | 0.863373              | 0.0737069   |"
      ]
     },
     "metadata": {},
     "output_type": "display_data"
    },
    {
     "data": {
      "text/html": [
       "<pre>| 12      | 26.00s       | 0.764968          | 0.862657              | 0.0737069   |</pre>"
      ],
      "text/plain": [
       "| 12      | 26.00s       | 0.764968          | 0.862657              | 0.0737069   |"
      ]
     },
     "metadata": {},
     "output_type": "display_data"
    },
    {
     "data": {
      "text/html": [
       "<pre>| 13      | 27.97s       | 0.763948          | 0.862011              | 0.0737069   |</pre>"
      ],
      "text/plain": [
       "| 13      | 27.97s       | 0.763948          | 0.862011              | 0.0737069   |"
      ]
     },
     "metadata": {},
     "output_type": "display_data"
    },
    {
     "data": {
      "text/html": [
       "<pre>| 14      | 29.10s       | 0.763026          | 0.861429              | 0.0737069   |</pre>"
      ],
      "text/plain": [
       "| 14      | 29.10s       | 0.763026          | 0.861429              | 0.0737069   |"
      ]
     },
     "metadata": {},
     "output_type": "display_data"
    },
    {
     "data": {
      "text/html": [
       "<pre>| 15      | 31.36s       | 0.762612          | 0.861111              | 0.0737069   |</pre>"
      ],
      "text/plain": [
       "| 15      | 31.36s       | 0.762612          | 0.861111              | 0.0737069   |"
      ]
     },
     "metadata": {},
     "output_type": "display_data"
    },
    {
     "data": {
      "text/html": [
       "<pre>| 16      | 33.53s       | 0.761803          | 0.860549              | 0.0737069   |</pre>"
      ],
      "text/plain": [
       "| 16      | 33.53s       | 0.761803          | 0.860549              | 0.0737069   |"
      ]
     },
     "metadata": {},
     "output_type": "display_data"
    },
    {
     "data": {
      "text/html": [
       "<pre>| 17      | 35.70s       | 0.761029          | 0.859947              | 0.0737069   |</pre>"
      ],
      "text/plain": [
       "| 17      | 35.70s       | 0.761029          | 0.859947              | 0.0737069   |"
      ]
     },
     "metadata": {},
     "output_type": "display_data"
    },
    {
     "data": {
      "text/html": [
       "<pre>| 18      | 38.06s       | 0.760482          | 0.859461              | 0.0737069   |</pre>"
      ],
      "text/plain": [
       "| 18      | 38.06s       | 0.760482          | 0.859461              | 0.0737069   |"
      ]
     },
     "metadata": {},
     "output_type": "display_data"
    },
    {
     "data": {
      "text/html": [
       "<pre>| 19      | 40.40s       | 0.759806          | 0.858808              | 0.0737069   |</pre>"
      ],
      "text/plain": [
       "| 19      | 40.40s       | 0.759806          | 0.858808              | 0.0737069   |"
      ]
     },
     "metadata": {},
     "output_type": "display_data"
    },
    {
     "data": {
      "text/html": [
       "<pre>| 20      | 42.52s       | 0.759211          | 0.858278              | 0.0737069   |</pre>"
      ],
      "text/plain": [
       "| 20      | 42.52s       | 0.759211          | 0.858278              | 0.0737069   |"
      ]
     },
     "metadata": {},
     "output_type": "display_data"
    },
    {
     "data": {
      "text/html": [
       "<pre>| 21      | 44.23s       | 0.758633          | 0.857684              | 0.0737069   |</pre>"
      ],
      "text/plain": [
       "| 21      | 44.23s       | 0.758633          | 0.857684              | 0.0737069   |"
      ]
     },
     "metadata": {},
     "output_type": "display_data"
    },
    {
     "data": {
      "text/html": [
       "<pre>| 22      | 46.15s       | 0.758186          | 0.857185              | 0.0737069   |</pre>"
      ],
      "text/plain": [
       "| 22      | 46.15s       | 0.758186          | 0.857185              | 0.0737069   |"
      ]
     },
     "metadata": {},
     "output_type": "display_data"
    },
    {
     "data": {
      "text/html": [
       "<pre>| 23      | 47.93s       | 0.757572          | 0.856518              | 0.0737069   |</pre>"
      ],
      "text/plain": [
       "| 23      | 47.93s       | 0.757572          | 0.856518              | 0.0737069   |"
      ]
     },
     "metadata": {},
     "output_type": "display_data"
    },
    {
     "data": {
      "text/html": [
       "<pre>| 24      | 49.88s       | 0.756972          | 0.855791              | 0.0737069   |</pre>"
      ],
      "text/plain": [
       "| 24      | 49.88s       | 0.756972          | 0.855791              | 0.0737069   |"
      ]
     },
     "metadata": {},
     "output_type": "display_data"
    },
    {
     "data": {
      "text/html": [
       "<pre>| 25      | 51.70s       | 0.75647           | 0.855072              | 0.0737069   |</pre>"
      ],
      "text/plain": [
       "| 25      | 51.70s       | 0.75647           | 0.855072              | 0.0737069   |"
      ]
     },
     "metadata": {},
     "output_type": "display_data"
    },
    {
     "data": {
      "text/html": [
       "<pre>| 26      | 53.51s       | 0.756026          | 0.854385              | 0.0737069   |</pre>"
      ],
      "text/plain": [
       "| 26      | 53.51s       | 0.756026          | 0.854385              | 0.0737069   |"
      ]
     },
     "metadata": {},
     "output_type": "display_data"
    },
    {
     "data": {
      "text/html": [
       "<pre>| 27      | 55.39s       | 0.75577           | 0.853772              | 0.0737069   |</pre>"
      ],
      "text/plain": [
       "| 27      | 55.39s       | 0.75577           | 0.853772              | 0.0737069   |"
      ]
     },
     "metadata": {},
     "output_type": "display_data"
    },
    {
     "data": {
      "text/html": [
       "<pre>| 28      | 57.83s       | 0.755105          | 0.852829              | 0.0737069   |</pre>"
      ],
      "text/plain": [
       "| 28      | 57.83s       | 0.755105          | 0.852829              | 0.0737069   |"
      ]
     },
     "metadata": {},
     "output_type": "display_data"
    },
    {
     "data": {
      "text/html": [
       "<pre>| 29      | 1m 0s        | 0.754706          | 0.852095              | 0.0737069   |</pre>"
      ],
      "text/plain": [
       "| 29      | 1m 0s        | 0.754706          | 0.852095              | 0.0737069   |"
      ]
     },
     "metadata": {},
     "output_type": "display_data"
    },
    {
     "data": {
      "text/html": [
       "<pre>| 30      | 1m 1s        | 0.754209          | 0.851236              | 0.0737069   |</pre>"
      ],
      "text/plain": [
       "| 30      | 1m 1s        | 0.754209          | 0.851236              | 0.0737069   |"
      ]
     },
     "metadata": {},
     "output_type": "display_data"
    },
    {
     "data": {
      "text/html": [
       "<pre>| 31      | 1m 3s        | 0.753534          | 0.850227              | 0.0737069   |</pre>"
      ],
      "text/plain": [
       "| 31      | 1m 3s        | 0.753534          | 0.850227              | 0.0737069   |"
      ]
     },
     "metadata": {},
     "output_type": "display_data"
    },
    {
     "data": {
      "text/html": [
       "<pre>| 32      | 1m 6s        | 0.753222          | 0.849371              | 0.0737069   |</pre>"
      ],
      "text/plain": [
       "| 32      | 1m 6s        | 0.753222          | 0.849371              | 0.0737069   |"
      ]
     },
     "metadata": {},
     "output_type": "display_data"
    },
    {
     "data": {
      "text/html": [
       "<pre>| 33      | 1m 8s        | 0.752791          | 0.848451              | 0.0737069   |</pre>"
      ],
      "text/plain": [
       "| 33      | 1m 8s        | 0.752791          | 0.848451              | 0.0737069   |"
      ]
     },
     "metadata": {},
     "output_type": "display_data"
    },
    {
     "data": {
      "text/html": [
       "<pre>| 34      | 1m 8s        | 0.752194          | 0.847378              | 0.0737069   |</pre>"
      ],
      "text/plain": [
       "| 34      | 1m 8s        | 0.752194          | 0.847378              | 0.0737069   |"
      ]
     },
     "metadata": {},
     "output_type": "display_data"
    },
    {
     "data": {
      "text/html": [
       "<pre>| 35      | 1m 11s       | 0.751647          | 0.846308              | 0.0737069   |</pre>"
      ],
      "text/plain": [
       "| 35      | 1m 11s       | 0.751647          | 0.846308              | 0.0737069   |"
      ]
     },
     "metadata": {},
     "output_type": "display_data"
    },
    {
     "data": {
      "text/html": [
       "<pre>| 36      | 1m 13s       | 0.751649          | 0.845499              | 0.0737069   |</pre>"
      ],
      "text/plain": [
       "| 36      | 1m 13s       | 0.751649          | 0.845499              | 0.0737069   |"
      ]
     },
     "metadata": {},
     "output_type": "display_data"
    },
    {
     "data": {
      "text/html": [
       "<pre>| 37      | 1m 15s       | 0.751146          | 0.844389              | 0.0737069   |</pre>"
      ],
      "text/plain": [
       "| 37      | 1m 15s       | 0.751146          | 0.844389              | 0.0737069   |"
      ]
     },
     "metadata": {},
     "output_type": "display_data"
    },
    {
     "data": {
      "text/html": [
       "<pre>| 38      | 1m 17s       | 0.750681          | 0.843296              | 0.0737069   |</pre>"
      ],
      "text/plain": [
       "| 38      | 1m 17s       | 0.750681          | 0.843296              | 0.0737069   |"
      ]
     },
     "metadata": {},
     "output_type": "display_data"
    },
    {
     "data": {
      "text/html": [
       "<pre>| 39      | 1m 17s       | 0.750384          | 0.842297              | 0.0737069   |</pre>"
      ],
      "text/plain": [
       "| 39      | 1m 17s       | 0.750384          | 0.842297              | 0.0737069   |"
      ]
     },
     "metadata": {},
     "output_type": "display_data"
    },
    {
     "data": {
      "text/html": [
       "<pre>| 40      | 1m 19s       | 0.750317          | 0.841418              | 0.0737069   |</pre>"
      ],
      "text/plain": [
       "| 40      | 1m 19s       | 0.750317          | 0.841418              | 0.0737069   |"
      ]
     },
     "metadata": {},
     "output_type": "display_data"
    },
    {
     "data": {
      "text/html": [
       "<pre>| 41      | 1m 22s       | 0.749997          | 0.84038               | 0.0737069   |</pre>"
      ],
      "text/plain": [
       "| 41      | 1m 22s       | 0.749997          | 0.84038               | 0.0737069   |"
      ]
     },
     "metadata": {},
     "output_type": "display_data"
    },
    {
     "data": {
      "text/html": [
       "<pre>| 42      | 1m 23s       | 0.749786          | 0.839378              | 0.0737069   |</pre>"
      ],
      "text/plain": [
       "| 42      | 1m 23s       | 0.749786          | 0.839378              | 0.0737069   |"
      ]
     },
     "metadata": {},
     "output_type": "display_data"
    },
    {
     "data": {
      "text/html": [
       "<pre>| 43      | 1m 25s       | 0.749455          | 0.838318              | 0.0737069   |</pre>"
      ],
      "text/plain": [
       "| 43      | 1m 25s       | 0.749455          | 0.838318              | 0.0737069   |"
      ]
     },
     "metadata": {},
     "output_type": "display_data"
    },
    {
     "data": {
      "text/html": [
       "<pre>| 44      | 1m 27s       | 0.74923           | 0.837288              | 0.0737069   |</pre>"
      ],
      "text/plain": [
       "| 44      | 1m 27s       | 0.74923           | 0.837288              | 0.0737069   |"
      ]
     },
     "metadata": {},
     "output_type": "display_data"
    },
    {
     "data": {
      "text/html": [
       "<pre>| 45      | 1m 29s       | 0.749239          | 0.836468              | 0.0737069   |</pre>"
      ],
      "text/plain": [
       "| 45      | 1m 29s       | 0.749239          | 0.836468              | 0.0737069   |"
      ]
     },
     "metadata": {},
     "output_type": "display_data"
    },
    {
     "data": {
      "text/html": [
       "<pre>| 46      | 1m 31s       | 0.749028          | 0.835535              | 0.0737069   |</pre>"
      ],
      "text/plain": [
       "| 46      | 1m 31s       | 0.749028          | 0.835535              | 0.0737069   |"
      ]
     },
     "metadata": {},
     "output_type": "display_data"
    },
    {
     "data": {
      "text/html": [
       "<pre>| 47      | 1m 33s       | 0.748766          | 0.834596              | 0.0737069   |</pre>"
      ],
      "text/plain": [
       "| 47      | 1m 33s       | 0.748766          | 0.834596              | 0.0737069   |"
      ]
     },
     "metadata": {},
     "output_type": "display_data"
    },
    {
     "data": {
      "text/html": [
       "<pre>| 48      | 1m 35s       | 0.748793          | 0.833765              | 0.0737069   |</pre>"
      ],
      "text/plain": [
       "| 48      | 1m 35s       | 0.748793          | 0.833765              | 0.0737069   |"
      ]
     },
     "metadata": {},
     "output_type": "display_data"
    },
    {
     "data": {
      "text/html": [
       "<pre>| 49      | 1m 37s       | 0.748744          | 0.832944              | 0.0737069   |</pre>"
      ],
      "text/plain": [
       "| 49      | 1m 37s       | 0.748744          | 0.832944              | 0.0737069   |"
      ]
     },
     "metadata": {},
     "output_type": "display_data"
    },
    {
     "data": {
      "text/html": [
       "<pre>| 50      | 1m 39s       | 0.748856          | 0.832265              | 0.0737069   |</pre>"
      ],
      "text/plain": [
       "| 50      | 1m 39s       | 0.748856          | 0.832265              | 0.0737069   |"
      ]
     },
     "metadata": {},
     "output_type": "display_data"
    },
    {
     "data": {
      "text/html": [
       "<pre>| 51      | 1m 40s       | 0.748906          | 0.831578              | 0.0737069   |</pre>"
      ],
      "text/plain": [
       "| 51      | 1m 40s       | 0.748906          | 0.831578              | 0.0737069   |"
      ]
     },
     "metadata": {},
     "output_type": "display_data"
    },
    {
     "data": {
      "text/html": [
       "<pre>| 52      | 1m 42s       | 0.748575          | 0.830639              | 0.0737069   |</pre>"
      ],
      "text/plain": [
       "| 52      | 1m 42s       | 0.748575          | 0.830639              | 0.0737069   |"
      ]
     },
     "metadata": {},
     "output_type": "display_data"
    },
    {
     "data": {
      "text/html": [
       "<pre>| 53      | 1m 44s       | 0.74857           | 0.829905              | 0.0737069   |</pre>"
      ],
      "text/plain": [
       "| 53      | 1m 44s       | 0.74857           | 0.829905              | 0.0737069   |"
      ]
     },
     "metadata": {},
     "output_type": "display_data"
    },
    {
     "data": {
      "text/html": [
       "<pre>| 54      | 1m 46s       | 0.749002          | 0.82949               | 0.0737069   |</pre>"
      ],
      "text/plain": [
       "| 54      | 1m 46s       | 0.749002          | 0.82949               | 0.0737069   |"
      ]
     },
     "metadata": {},
     "output_type": "display_data"
    },
    {
     "data": {
      "text/html": [
       "<pre>| 55      | 1m 47s       | 0.748593          | 0.828555              | 0.0737069   |</pre>"
      ],
      "text/plain": [
       "| 55      | 1m 47s       | 0.748593          | 0.828555              | 0.0737069   |"
      ]
     },
     "metadata": {},
     "output_type": "display_data"
    },
    {
     "data": {
      "text/html": [
       "<pre>| 56      | 1m 49s       | 0.748764          | 0.827994              | 0.0737069   |</pre>"
      ],
      "text/plain": [
       "| 56      | 1m 49s       | 0.748764          | 0.827994              | 0.0737069   |"
      ]
     },
     "metadata": {},
     "output_type": "display_data"
    },
    {
     "data": {
      "text/html": [
       "<pre>| 57      | 1m 51s       | 0.748826          | 0.827388              | 0.0737069   |</pre>"
      ],
      "text/plain": [
       "| 57      | 1m 51s       | 0.748826          | 0.827388              | 0.0737069   |"
      ]
     },
     "metadata": {},
     "output_type": "display_data"
    },
    {
     "data": {
      "text/html": [
       "<pre>| 58      | 1m 53s       | 0.749078          | 0.826943              | 0.0737069   |</pre>"
      ],
      "text/plain": [
       "| 58      | 1m 53s       | 0.749078          | 0.826943              | 0.0737069   |"
      ]
     },
     "metadata": {},
     "output_type": "display_data"
    },
    {
     "data": {
      "text/html": [
       "<pre>| 59      | 1m 55s       | 0.748907          | 0.826247              | 0.0737069   |</pre>"
      ],
      "text/plain": [
       "| 59      | 1m 55s       | 0.748907          | 0.826247              | 0.0737069   |"
      ]
     },
     "metadata": {},
     "output_type": "display_data"
    },
    {
     "data": {
      "text/html": [
       "<pre>| 60      | 1m 57s       | 0.749019          | 0.825723              | 0.0737069   |</pre>"
      ],
      "text/plain": [
       "| 60      | 1m 57s       | 0.749019          | 0.825723              | 0.0737069   |"
      ]
     },
     "metadata": {},
     "output_type": "display_data"
    },
    {
     "data": {
      "text/html": [
       "<pre>| 61      | 1m 58s       | 0.749262          | 0.825347              | 0.0737069   |</pre>"
      ],
      "text/plain": [
       "| 61      | 1m 58s       | 0.749262          | 0.825347              | 0.0737069   |"
      ]
     },
     "metadata": {},
     "output_type": "display_data"
    },
    {
     "data": {
      "text/html": [
       "<pre>| 62      | 1m 59s       | 0.749145          | 0.824743              | 0.0737069   |</pre>"
      ],
      "text/plain": [
       "| 62      | 1m 59s       | 0.749145          | 0.824743              | 0.0737069   |"
      ]
     },
     "metadata": {},
     "output_type": "display_data"
    },
    {
     "data": {
      "text/html": [
       "<pre>| 63      | 2m 1s        | 0.74935           | 0.824346              | 0.0737069   |</pre>"
      ],
      "text/plain": [
       "| 63      | 2m 1s        | 0.74935           | 0.824346              | 0.0737069   |"
      ]
     },
     "metadata": {},
     "output_type": "display_data"
    },
    {
     "data": {
      "text/html": [
       "<pre>| 64      | 2m 4s        | 0.749325          | 0.823826              | 0.0737069   |</pre>"
      ],
      "text/plain": [
       "| 64      | 2m 4s        | 0.749325          | 0.823826              | 0.0737069   |"
      ]
     },
     "metadata": {},
     "output_type": "display_data"
    },
    {
     "data": {
      "text/html": [
       "<pre>| 65      | 2m 6s        | 0.749335          | 0.823328              | 0.0737069   |</pre>"
      ],
      "text/plain": [
       "| 65      | 2m 6s        | 0.749335          | 0.823328              | 0.0737069   |"
      ]
     },
     "metadata": {},
     "output_type": "display_data"
    },
    {
     "data": {
      "text/html": [
       "<pre>| 66      | 2m 7s        | 0.749736          | 0.823109              | 0.0737069   |</pre>"
      ],
      "text/plain": [
       "| 66      | 2m 7s        | 0.749736          | 0.823109              | 0.0737069   |"
      ]
     },
     "metadata": {},
     "output_type": "display_data"
    },
    {
     "data": {
      "text/html": [
       "<pre>| 67      | 2m 9s        | 0.749563          | 0.822573              | 0.0737069   |</pre>"
      ],
      "text/plain": [
       "| 67      | 2m 9s        | 0.749563          | 0.822573              | 0.0737069   |"
      ]
     },
     "metadata": {},
     "output_type": "display_data"
    },
    {
     "data": {
      "text/html": [
       "<pre>| 68      | 2m 11s       | 0.749725          | 0.82224               | 0.0737069   |</pre>"
      ],
      "text/plain": [
       "| 68      | 2m 11s       | 0.749725          | 0.82224               | 0.0737069   |"
      ]
     },
     "metadata": {},
     "output_type": "display_data"
    },
    {
     "data": {
      "text/html": [
       "<pre>| 69      | 2m 14s       | 0.749854          | 0.821909              | 0.0737069   |</pre>"
      ],
      "text/plain": [
       "| 69      | 2m 14s       | 0.749854          | 0.821909              | 0.0737069   |"
      ]
     },
     "metadata": {},
     "output_type": "display_data"
    },
    {
     "data": {
      "text/html": [
       "<pre>| 70      | 2m 15s       | 0.749862          | 0.8215                | 0.0737069   |</pre>"
      ],
      "text/plain": [
       "| 70      | 2m 15s       | 0.749862          | 0.8215                | 0.0737069   |"
      ]
     },
     "metadata": {},
     "output_type": "display_data"
    },
    {
     "data": {
      "text/html": [
       "<pre>| 71      | 2m 17s       | 0.749923          | 0.821162              | 0.0737069   |</pre>"
      ],
      "text/plain": [
       "| 71      | 2m 17s       | 0.749923          | 0.821162              | 0.0737069   |"
      ]
     },
     "metadata": {},
     "output_type": "display_data"
    },
    {
     "data": {
      "text/html": [
       "<pre>| 72      | 2m 20s       | 0.750081          | 0.820873              | 0.0737069   |</pre>"
      ],
      "text/plain": [
       "| 72      | 2m 20s       | 0.750081          | 0.820873              | 0.0737069   |"
      ]
     },
     "metadata": {},
     "output_type": "display_data"
    },
    {
     "data": {
      "text/html": [
       "<pre>| 73      | 2m 20s       | 0.750156          | 0.820551              | 0.0737069   |</pre>"
      ],
      "text/plain": [
       "| 73      | 2m 20s       | 0.750156          | 0.820551              | 0.0737069   |"
      ]
     },
     "metadata": {},
     "output_type": "display_data"
    },
    {
     "data": {
      "text/html": [
       "<pre>| 74      | 2m 22s       | 0.750125          | 0.820194              | 0.0737069   |</pre>"
      ],
      "text/plain": [
       "| 74      | 2m 22s       | 0.750125          | 0.820194              | 0.0737069   |"
      ]
     },
     "metadata": {},
     "output_type": "display_data"
    },
    {
     "data": {
      "text/html": [
       "<pre>| 75      | 2m 24s       | 0.750199          | 0.819891              | 0.0737069   |</pre>"
      ],
      "text/plain": [
       "| 75      | 2m 24s       | 0.750199          | 0.819891              | 0.0737069   |"
      ]
     },
     "metadata": {},
     "output_type": "display_data"
    },
    {
     "data": {
      "text/html": [
       "<pre>| 76      | 2m 26s       | 0.750273          | 0.819621              | 0.0737069   |</pre>"
      ],
      "text/plain": [
       "| 76      | 2m 26s       | 0.750273          | 0.819621              | 0.0737069   |"
      ]
     },
     "metadata": {},
     "output_type": "display_data"
    },
    {
     "data": {
      "text/html": [
       "<pre>| 77      | 2m 28s       | 0.750806          | 0.819662              | 0.0737069   |</pre>"
      ],
      "text/plain": [
       "| 77      | 2m 28s       | 0.750806          | 0.819662              | 0.0737069   |"
      ]
     },
     "metadata": {},
     "output_type": "display_data"
    },
    {
     "data": {
      "text/html": [
       "<pre>| 78      | 2m 30s       | 0.750502          | 0.819173              | 0.0737069   |</pre>"
      ],
      "text/plain": [
       "| 78      | 2m 30s       | 0.750502          | 0.819173              | 0.0737069   |"
      ]
     },
     "metadata": {},
     "output_type": "display_data"
    },
    {
     "data": {
      "text/html": [
       "<pre>| 79      | 2m 32s       | 0.750566          | 0.818899              | 0.0737069   |</pre>"
      ],
      "text/plain": [
       "| 79      | 2m 32s       | 0.750566          | 0.818899              | 0.0737069   |"
      ]
     },
     "metadata": {},
     "output_type": "display_data"
    },
    {
     "data": {
      "text/html": [
       "<pre>| 80      | 2m 34s       | 0.750411          | 0.818505              | 0.0737069   |</pre>"
      ],
      "text/plain": [
       "| 80      | 2m 34s       | 0.750411          | 0.818505              | 0.0737069   |"
      ]
     },
     "metadata": {},
     "output_type": "display_data"
    },
    {
     "data": {
      "text/html": [
       "<pre>| 81      | 2m 36s       | 0.750788          | 0.818444              | 0.0737069   |</pre>"
      ],
      "text/plain": [
       "| 81      | 2m 36s       | 0.750788          | 0.818444              | 0.0737069   |"
      ]
     },
     "metadata": {},
     "output_type": "display_data"
    },
    {
     "data": {
      "text/html": [
       "<pre>| 82      | 2m 38s       | 0.75049           | 0.81799               | 0.0737069   |</pre>"
      ],
      "text/plain": [
       "| 82      | 2m 38s       | 0.75049           | 0.81799               | 0.0737069   |"
      ]
     },
     "metadata": {},
     "output_type": "display_data"
    },
    {
     "data": {
      "text/html": [
       "<pre>| 83      | 2m 38s       | 0.751084          | 0.818068              | 0.0737069   |</pre>"
      ],
      "text/plain": [
       "| 83      | 2m 38s       | 0.751084          | 0.818068              | 0.0737069   |"
      ]
     },
     "metadata": {},
     "output_type": "display_data"
    },
    {
     "data": {
      "text/html": [
       "<pre>| 84      | 2m 40s       | 0.750815          | 0.817631              | 0.0737069   |</pre>"
      ],
      "text/plain": [
       "| 84      | 2m 40s       | 0.750815          | 0.817631              | 0.0737069   |"
      ]
     },
     "metadata": {},
     "output_type": "display_data"
    },
    {
     "data": {
      "text/html": [
       "<pre>| 85      | 2m 43s       | 0.750891          | 0.817419              | 0.0737069   |</pre>"
      ],
      "text/plain": [
       "| 85      | 2m 43s       | 0.750891          | 0.817419              | 0.0737069   |"
      ]
     },
     "metadata": {},
     "output_type": "display_data"
    },
    {
     "data": {
      "text/html": [
       "<pre>| 86      | 2m 45s       | 0.751075          | 0.817293              | 0.0737069   |</pre>"
      ],
      "text/plain": [
       "| 86      | 2m 45s       | 0.751075          | 0.817293              | 0.0737069   |"
      ]
     },
     "metadata": {},
     "output_type": "display_data"
    },
    {
     "data": {
      "text/html": [
       "<pre>| 87      | 2m 47s       | 0.750849          | 0.816915              | 0.0737069   |</pre>"
      ],
      "text/plain": [
       "| 87      | 2m 47s       | 0.750849          | 0.816915              | 0.0737069   |"
      ]
     },
     "metadata": {},
     "output_type": "display_data"
    },
    {
     "data": {
      "text/html": [
       "<pre>| 88      | 2m 49s       | 0.751206          | 0.816901              | 0.0737069   |</pre>"
      ],
      "text/plain": [
       "| 88      | 2m 49s       | 0.751206          | 0.816901              | 0.0737069   |"
      ]
     },
     "metadata": {},
     "output_type": "display_data"
    },
    {
     "data": {
      "text/html": [
       "<pre>| 89      | 2m 50s       | 0.751193          | 0.816661              | 0.0737069   |</pre>"
      ],
      "text/plain": [
       "| 89      | 2m 50s       | 0.751193          | 0.816661              | 0.0737069   |"
      ]
     },
     "metadata": {},
     "output_type": "display_data"
    },
    {
     "data": {
      "text/html": [
       "<pre>| 90      | 2m 52s       | 0.751272          | 0.816476              | 0.0737069   |</pre>"
      ],
      "text/plain": [
       "| 90      | 2m 52s       | 0.751272          | 0.816476              | 0.0737069   |"
      ]
     },
     "metadata": {},
     "output_type": "display_data"
    },
    {
     "data": {
      "text/html": [
       "<pre>| 91      | 2m 54s       | 0.751532          | 0.816429              | 0.0737069   |</pre>"
      ],
      "text/plain": [
       "| 91      | 2m 54s       | 0.751532          | 0.816429              | 0.0737069   |"
      ]
     },
     "metadata": {},
     "output_type": "display_data"
    },
    {
     "data": {
      "text/html": [
       "<pre>| 92      | 2m 57s       | 0.751245          | 0.816033              | 0.0737069   |</pre>"
      ],
      "text/plain": [
       "| 92      | 2m 57s       | 0.751245          | 0.816033              | 0.0737069   |"
      ]
     },
     "metadata": {},
     "output_type": "display_data"
    },
    {
     "data": {
      "text/html": [
       "<pre>| 93      | 2m 58s       | 0.751412          | 0.815925              | 0.0737069   |</pre>"
      ],
      "text/plain": [
       "| 93      | 2m 58s       | 0.751412          | 0.815925              | 0.0737069   |"
      ]
     },
     "metadata": {},
     "output_type": "display_data"
    },
    {
     "data": {
      "text/html": [
       "<pre>| 94      | 2m 59s       | 0.751389          | 0.8157                | 0.0737069   |</pre>"
      ],
      "text/plain": [
       "| 94      | 2m 59s       | 0.751389          | 0.8157                | 0.0737069   |"
      ]
     },
     "metadata": {},
     "output_type": "display_data"
    },
    {
     "data": {
      "text/html": [
       "<pre>| 95      | 3m 2s        | 0.751815          | 0.815755              | 0.0737069   |</pre>"
      ],
      "text/plain": [
       "| 95      | 3m 2s        | 0.751815          | 0.815755              | 0.0737069   |"
      ]
     },
     "metadata": {},
     "output_type": "display_data"
    },
    {
     "data": {
      "text/html": [
       "<pre>| 96      | 3m 4s        | 0.751383          | 0.815309              | 0.0737069   |</pre>"
      ],
      "text/plain": [
       "| 96      | 3m 4s        | 0.751383          | 0.815309              | 0.0737069   |"
      ]
     },
     "metadata": {},
     "output_type": "display_data"
    },
    {
     "data": {
      "text/html": [
       "<pre>| 97      | 3m 6s        | 0.751704          | 0.815308              | 0.0737069   |</pre>"
      ],
      "text/plain": [
       "| 97      | 3m 6s        | 0.751704          | 0.815308              | 0.0737069   |"
      ]
     },
     "metadata": {},
     "output_type": "display_data"
    },
    {
     "data": {
      "text/html": [
       "<pre>| 98      | 3m 8s        | 0.751827          | 0.815198              | 0.0737069   |</pre>"
      ],
      "text/plain": [
       "| 98      | 3m 8s        | 0.751827          | 0.815198              | 0.0737069   |"
      ]
     },
     "metadata": {},
     "output_type": "display_data"
    },
    {
     "data": {
      "text/html": [
       "<pre>| 99      | 3m 8s        | 0.751674          | 0.814913              | 0.0737069   |</pre>"
      ],
      "text/plain": [
       "| 99      | 3m 8s        | 0.751674          | 0.814913              | 0.0737069   |"
      ]
     },
     "metadata": {},
     "output_type": "display_data"
    },
    {
     "data": {
      "text/html": [
       "<pre>| 100     | 3m 9s        | 0.751728          | 0.814744              | 0.0737069   |</pre>"
      ],
      "text/plain": [
       "| 100     | 3m 9s        | 0.751728          | 0.814744              | 0.0737069   |"
      ]
     },
     "metadata": {},
     "output_type": "display_data"
    },
    {
     "data": {
      "text/html": [
       "<pre>| 101     | 3m 12s       | 0.751897          | 0.81465               | 0.0737069   |</pre>"
      ],
      "text/plain": [
       "| 101     | 3m 12s       | 0.751897          | 0.81465               | 0.0737069   |"
      ]
     },
     "metadata": {},
     "output_type": "display_data"
    },
    {
     "data": {
      "text/html": [
       "<pre>| 102     | 3m 14s       | 0.75205           | 0.814547              | 0.0737069   |</pre>"
      ],
      "text/plain": [
       "| 102     | 3m 14s       | 0.75205           | 0.814547              | 0.0737069   |"
      ]
     },
     "metadata": {},
     "output_type": "display_data"
    },
    {
     "data": {
      "text/html": [
       "<pre>| 103     | 3m 16s       | 0.751943          | 0.814304              | 0.0737069   |</pre>"
      ],
      "text/plain": [
       "| 103     | 3m 16s       | 0.751943          | 0.814304              | 0.0737069   |"
      ]
     },
     "metadata": {},
     "output_type": "display_data"
    },
    {
     "data": {
      "text/html": [
       "<pre>| 104     | 3m 17s       | 0.751928          | 0.814131              | 0.0737069   |</pre>"
      ],
      "text/plain": [
       "| 104     | 3m 17s       | 0.751928          | 0.814131              | 0.0737069   |"
      ]
     },
     "metadata": {},
     "output_type": "display_data"
    },
    {
     "data": {
      "text/html": [
       "<pre>| 105     | 3m 19s       | 0.751931          | 0.813959              | 0.0737069   |</pre>"
      ],
      "text/plain": [
       "| 105     | 3m 19s       | 0.751931          | 0.813959              | 0.0737069   |"
      ]
     },
     "metadata": {},
     "output_type": "display_data"
    },
    {
     "data": {
      "text/html": [
       "<pre>| 106     | 3m 22s       | 0.752145          | 0.813912              | 0.0737069   |</pre>"
      ],
      "text/plain": [
       "| 106     | 3m 22s       | 0.752145          | 0.813912              | 0.0737069   |"
      ]
     },
     "metadata": {},
     "output_type": "display_data"
    },
    {
     "data": {
      "text/html": [
       "<pre>| 107     | 3m 24s       | 0.752156          | 0.813741              | 0.0737069   |</pre>"
      ],
      "text/plain": [
       "| 107     | 3m 24s       | 0.752156          | 0.813741              | 0.0737069   |"
      ]
     },
     "metadata": {},
     "output_type": "display_data"
    },
    {
     "data": {
      "text/html": [
       "<pre>| 108     | 3m 26s       | 0.752084          | 0.813545              | 0.0737069   |</pre>"
      ],
      "text/plain": [
       "| 108     | 3m 26s       | 0.752084          | 0.813545              | 0.0737069   |"
      ]
     },
     "metadata": {},
     "output_type": "display_data"
    },
    {
     "data": {
      "text/html": [
       "<pre>| 109     | 3m 28s       | 0.752494          | 0.813652              | 0.0737069   |</pre>"
      ],
      "text/plain": [
       "| 109     | 3m 28s       | 0.752494          | 0.813652              | 0.0737069   |"
      ]
     },
     "metadata": {},
     "output_type": "display_data"
    },
    {
     "data": {
      "text/html": [
       "<pre>| 110     | 3m 30s       | 0.752298          | 0.813369              | 0.0737069   |</pre>"
      ],
      "text/plain": [
       "| 110     | 3m 30s       | 0.752298          | 0.813369              | 0.0737069   |"
      ]
     },
     "metadata": {},
     "output_type": "display_data"
    },
    {
     "data": {
      "text/html": [
       "<pre>| 111     | 3m 31s       | 0.752303          | 0.813217              | 0.0737069   |</pre>"
      ],
      "text/plain": [
       "| 111     | 3m 31s       | 0.752303          | 0.813217              | 0.0737069   |"
      ]
     },
     "metadata": {},
     "output_type": "display_data"
    },
    {
     "data": {
      "text/html": [
       "<pre>| 112     | 3m 33s       | 0.752178          | 0.812997              | 0.0737069   |</pre>"
      ],
      "text/plain": [
       "| 112     | 3m 33s       | 0.752178          | 0.812997              | 0.0737069   |"
      ]
     },
     "metadata": {},
     "output_type": "display_data"
    },
    {
     "data": {
      "text/html": [
       "<pre>| 113     | 3m 35s       | 0.752304          | 0.812928              | 0.0737069   |</pre>"
      ],
      "text/plain": [
       "| 113     | 3m 35s       | 0.752304          | 0.812928              | 0.0737069   |"
      ]
     },
     "metadata": {},
     "output_type": "display_data"
    },
    {
     "data": {
      "text/html": [
       "<pre>| 114     | 3m 38s       | 0.75248           | 0.812895              | 0.0737069   |</pre>"
      ],
      "text/plain": [
       "| 114     | 3m 38s       | 0.75248           | 0.812895              | 0.0737069   |"
      ]
     },
     "metadata": {},
     "output_type": "display_data"
    },
    {
     "data": {
      "text/html": [
       "<pre>| 115     | 3m 40s       | 0.752615          | 0.812815              | 0.0737069   |</pre>"
      ],
      "text/plain": [
       "| 115     | 3m 40s       | 0.752615          | 0.812815              | 0.0737069   |"
      ]
     },
     "metadata": {},
     "output_type": "display_data"
    },
    {
     "data": {
      "text/html": [
       "<pre>| 116     | 3m 42s       | 0.752497          | 0.812612              | 0.0737069   |</pre>"
      ],
      "text/plain": [
       "| 116     | 3m 42s       | 0.752497          | 0.812612              | 0.0737069   |"
      ]
     },
     "metadata": {},
     "output_type": "display_data"
    },
    {
     "data": {
      "text/html": [
       "<pre>| 117     | 3m 44s       | 0.752735          | 0.812615              | 0.0737069   |</pre>"
      ],
      "text/plain": [
       "| 117     | 3m 44s       | 0.752735          | 0.812615              | 0.0737069   |"
      ]
     },
     "metadata": {},
     "output_type": "display_data"
    },
    {
     "data": {
      "text/html": [
       "<pre>| 118     | 3m 46s       | 0.752665          | 0.812435              | 0.0737069   |</pre>"
      ],
      "text/plain": [
       "| 118     | 3m 46s       | 0.752665          | 0.812435              | 0.0737069   |"
      ]
     },
     "metadata": {},
     "output_type": "display_data"
    },
    {
     "data": {
      "text/html": [
       "<pre>| 119     | 3m 49s       | 0.752514          | 0.812202              | 0.0737069   |</pre>"
      ],
      "text/plain": [
       "| 119     | 3m 49s       | 0.752514          | 0.812202              | 0.0737069   |"
      ]
     },
     "metadata": {},
     "output_type": "display_data"
    },
    {
     "data": {
      "text/html": [
       "<pre>| 120     | 3m 52s       | 0.752654          | 0.812156              | 0.0737069   |</pre>"
      ],
      "text/plain": [
       "| 120     | 3m 52s       | 0.752654          | 0.812156              | 0.0737069   |"
      ]
     },
     "metadata": {},
     "output_type": "display_data"
    },
    {
     "data": {
      "text/html": [
       "<pre>| 121     | 3m 52s       | 0.752717          | 0.812056              | 0.0737069   |</pre>"
      ],
      "text/plain": [
       "| 121     | 3m 52s       | 0.752717          | 0.812056              | 0.0737069   |"
      ]
     },
     "metadata": {},
     "output_type": "display_data"
    },
    {
     "data": {
      "text/html": [
       "<pre>| 122     | 3m 52s       | 0.75268           | 0.811905              | 0.0737069   |</pre>"
      ],
      "text/plain": [
       "| 122     | 3m 52s       | 0.75268           | 0.811905              | 0.0737069   |"
      ]
     },
     "metadata": {},
     "output_type": "display_data"
    },
    {
     "data": {
      "text/html": [
       "<pre>| 123     | 3m 54s       | 0.753156          | 0.812088              | 0.0737069   |</pre>"
      ],
      "text/plain": [
       "| 123     | 3m 54s       | 0.753156          | 0.812088              | 0.0737069   |"
      ]
     },
     "metadata": {},
     "output_type": "display_data"
    },
    {
     "data": {
      "text/html": [
       "<pre>| 124     | 3m 56s       | 0.752792          | 0.811735              | 0.0737069   |</pre>"
      ],
      "text/plain": [
       "| 124     | 3m 56s       | 0.752792          | 0.811735              | 0.0737069   |"
      ]
     },
     "metadata": {},
     "output_type": "display_data"
    },
    {
     "data": {
      "text/html": [
       "<pre>| 125     | 3m 58s       | 0.7528            | 0.811604              | 0.0737069   |</pre>"
      ],
      "text/plain": [
       "| 125     | 3m 58s       | 0.7528            | 0.811604              | 0.0737069   |"
      ]
     },
     "metadata": {},
     "output_type": "display_data"
    },
    {
     "data": {
      "text/html": [
       "<pre>| 126     | 4m 0s        | 0.752908          | 0.811534              | 0.0737069   |</pre>"
      ],
      "text/plain": [
       "| 126     | 4m 0s        | 0.752908          | 0.811534              | 0.0737069   |"
      ]
     },
     "metadata": {},
     "output_type": "display_data"
    },
    {
     "data": {
      "text/html": [
       "<pre>| 127     | 4m 2s        | 0.753251          | 0.811627              | 0.0737069   |</pre>"
      ],
      "text/plain": [
       "| 127     | 4m 2s        | 0.753251          | 0.811627              | 0.0737069   |"
      ]
     },
     "metadata": {},
     "output_type": "display_data"
    },
    {
     "data": {
      "text/html": [
       "<pre>| 128     | 4m 4s        | 0.752827          | 0.811232              | 0.0737069   |</pre>"
      ],
      "text/plain": [
       "| 128     | 4m 4s        | 0.752827          | 0.811232              | 0.0737069   |"
      ]
     },
     "metadata": {},
     "output_type": "display_data"
    },
    {
     "data": {
      "text/html": [
       "<pre>| 129     | 4m 6s        | 0.75294           | 0.811167              | 0.0737069   |</pre>"
      ],
      "text/plain": [
       "| 129     | 4m 6s        | 0.75294           | 0.811167              | 0.0737069   |"
      ]
     },
     "metadata": {},
     "output_type": "display_data"
    },
    {
     "data": {
      "text/html": [
       "<pre>| 130     | 4m 8s        | 0.753121          | 0.811158              | 0.0737069   |</pre>"
      ],
      "text/plain": [
       "| 130     | 4m 8s        | 0.753121          | 0.811158              | 0.0737069   |"
      ]
     },
     "metadata": {},
     "output_type": "display_data"
    },
    {
     "data": {
      "text/html": [
       "<pre>| 131     | 4m 10s       | 0.753062          | 0.810981              | 0.0737069   |</pre>"
      ],
      "text/plain": [
       "| 131     | 4m 10s       | 0.753062          | 0.810981              | 0.0737069   |"
      ]
     },
     "metadata": {},
     "output_type": "display_data"
    },
    {
     "data": {
      "text/html": [
       "<pre>| 132     | 4m 12s       | 0.753161          | 0.810925              | 0.0737069   |</pre>"
      ],
      "text/plain": [
       "| 132     | 4m 12s       | 0.753161          | 0.810925              | 0.0737069   |"
      ]
     },
     "metadata": {},
     "output_type": "display_data"
    },
    {
     "data": {
      "text/html": [
       "<pre>| 133     | 4m 15s       | 0.753239          | 0.810826              | 0.0737069   |</pre>"
      ],
      "text/plain": [
       "| 133     | 4m 15s       | 0.753239          | 0.810826              | 0.0737069   |"
      ]
     },
     "metadata": {},
     "output_type": "display_data"
    },
    {
     "data": {
      "text/html": [
       "<pre>| 134     | 4m 17s       | 0.75339           | 0.810777              | 0.0737069   |</pre>"
      ],
      "text/plain": [
       "| 134     | 4m 17s       | 0.75339           | 0.810777              | 0.0737069   |"
      ]
     },
     "metadata": {},
     "output_type": "display_data"
    },
    {
     "data": {
      "text/html": [
       "<pre>| 135     | 4m 19s       | 0.753149          | 0.810492              | 0.0737069   |</pre>"
      ],
      "text/plain": [
       "| 135     | 4m 19s       | 0.753149          | 0.810492              | 0.0737069   |"
      ]
     },
     "metadata": {},
     "output_type": "display_data"
    },
    {
     "data": {
      "text/html": [
       "<pre>| 136     | 4m 22s       | 0.753399          | 0.810514              | 0.0737069   |</pre>"
      ],
      "text/plain": [
       "| 136     | 4m 22s       | 0.753399          | 0.810514              | 0.0737069   |"
      ]
     },
     "metadata": {},
     "output_type": "display_data"
    },
    {
     "data": {
      "text/html": [
       "<pre>| 137     | 4m 24s       | 0.753427          | 0.810403              | 0.0737069   |</pre>"
      ],
      "text/plain": [
       "| 137     | 4m 24s       | 0.753427          | 0.810403              | 0.0737069   |"
      ]
     },
     "metadata": {},
     "output_type": "display_data"
    },
    {
     "data": {
      "text/html": [
       "<pre>| 138     | 4m 26s       | 0.753452          | 0.810282              | 0.0737069   |</pre>"
      ],
      "text/plain": [
       "| 138     | 4m 26s       | 0.753452          | 0.810282              | 0.0737069   |"
      ]
     },
     "metadata": {},
     "output_type": "display_data"
    },
    {
     "data": {
      "text/html": [
       "<pre>| 139     | 4m 28s       | 0.753442          | 0.810141              | 0.0737069   |</pre>"
      ],
      "text/plain": [
       "| 139     | 4m 28s       | 0.753442          | 0.810141              | 0.0737069   |"
      ]
     },
     "metadata": {},
     "output_type": "display_data"
    },
    {
     "data": {
      "text/html": [
       "<pre>| 140     | 4m 30s       | 0.753611          | 0.810124              | 0.0737069   |</pre>"
      ],
      "text/plain": [
       "| 140     | 4m 30s       | 0.753611          | 0.810124              | 0.0737069   |"
      ]
     },
     "metadata": {},
     "output_type": "display_data"
    },
    {
     "data": {
      "text/html": [
       "<pre>| 141     | 4m 30s       | 0.753517          | 0.809929              | 0.0737069   |</pre>"
      ],
      "text/plain": [
       "| 141     | 4m 30s       | 0.753517          | 0.809929              | 0.0737069   |"
      ]
     },
     "metadata": {},
     "output_type": "display_data"
    },
    {
     "data": {
      "text/html": [
       "<pre>| 142     | 4m 32s       | 0.753601          | 0.809845              | 0.0737069   |</pre>"
      ],
      "text/plain": [
       "| 142     | 4m 32s       | 0.753601          | 0.809845              | 0.0737069   |"
      ]
     },
     "metadata": {},
     "output_type": "display_data"
    },
    {
     "data": {
      "text/html": [
       "<pre>| 143     | 4m 35s       | 0.753531          | 0.809668              | 0.0737069   |</pre>"
      ],
      "text/plain": [
       "| 143     | 4m 35s       | 0.753531          | 0.809668              | 0.0737069   |"
      ]
     },
     "metadata": {},
     "output_type": "display_data"
    },
    {
     "data": {
      "text/html": [
       "<pre>| 144     | 4m 35s       | 0.753951          | 0.809811              | 0.0737069   |</pre>"
      ],
      "text/plain": [
       "| 144     | 4m 35s       | 0.753951          | 0.809811              | 0.0737069   |"
      ]
     },
     "metadata": {},
     "output_type": "display_data"
    },
    {
     "data": {
      "text/html": [
       "<pre>| 145     | 4m 37s       | 0.753806          | 0.809608              | 0.0737069   |</pre>"
      ],
      "text/plain": [
       "| 145     | 4m 37s       | 0.753806          | 0.809608              | 0.0737069   |"
      ]
     },
     "metadata": {},
     "output_type": "display_data"
    },
    {
     "data": {
      "text/html": [
       "<pre>| 146     | 4m 37s       | 0.754011          | 0.809644              | 0.0737069   |</pre>"
      ],
      "text/plain": [
       "| 146     | 4m 37s       | 0.754011          | 0.809644              | 0.0737069   |"
      ]
     },
     "metadata": {},
     "output_type": "display_data"
    },
    {
     "data": {
      "text/html": [
       "<pre>| 147     | 4m 39s       | 0.754219          | 0.809687              | 0.0737069   |</pre>"
      ],
      "text/plain": [
       "| 147     | 4m 39s       | 0.754219          | 0.809687              | 0.0737069   |"
      ]
     },
     "metadata": {},
     "output_type": "display_data"
    },
    {
     "data": {
      "text/html": [
       "<pre>| 148     | 4m 40s       | 0.753965          | 0.809402              | 0.0737069   |</pre>"
      ],
      "text/plain": [
       "| 148     | 4m 40s       | 0.753965          | 0.809402              | 0.0737069   |"
      ]
     },
     "metadata": {},
     "output_type": "display_data"
    },
    {
     "data": {
      "text/html": [
       "<pre>| 149     | 4m 42s       | 0.754258          | 0.809467              | 0.0737069   |</pre>"
      ],
      "text/plain": [
       "| 149     | 4m 42s       | 0.754258          | 0.809467              | 0.0737069   |"
      ]
     },
     "metadata": {},
     "output_type": "display_data"
    },
    {
     "data": {
      "text/html": [
       "<pre>| 150     | 4m 43s       | 0.754009          | 0.809167              | 0.0737069   |</pre>"
      ],
      "text/plain": [
       "| 150     | 4m 43s       | 0.754009          | 0.809167              | 0.0737069   |"
      ]
     },
     "metadata": {},
     "output_type": "display_data"
    },
    {
     "data": {
      "text/html": [
       "<pre>| 151     | 4m 44s       | 0.753989          | 0.80901               | 0.0737069   |</pre>"
      ],
      "text/plain": [
       "| 151     | 4m 44s       | 0.753989          | 0.80901               | 0.0737069   |"
      ]
     },
     "metadata": {},
     "output_type": "display_data"
    },
    {
     "data": {
      "text/html": [
       "<pre>| 152     | 4m 47s       | 0.753903          | 0.808815              | 0.0737069   |</pre>"
      ],
      "text/plain": [
       "| 152     | 4m 47s       | 0.753903          | 0.808815              | 0.0737069   |"
      ]
     },
     "metadata": {},
     "output_type": "display_data"
    },
    {
     "data": {
      "text/html": [
       "<pre>| 153     | 4m 48s       | 0.754114          | 0.808792              | 0.0737069   |</pre>"
      ],
      "text/plain": [
       "| 153     | 4m 48s       | 0.754114          | 0.808792              | 0.0737069   |"
      ]
     },
     "metadata": {},
     "output_type": "display_data"
    },
    {
     "data": {
      "text/html": [
       "<pre>| 154     | 4m 49s       | 0.753941          | 0.808542              | 0.0737069   |</pre>"
      ],
      "text/plain": [
       "| 154     | 4m 49s       | 0.753941          | 0.808542              | 0.0737069   |"
      ]
     },
     "metadata": {},
     "output_type": "display_data"
    },
    {
     "data": {
      "text/html": [
       "<pre>| 155     | 4m 51s       | 0.754351          | 0.808662              | 0.0737069   |</pre>"
      ],
      "text/plain": [
       "| 155     | 4m 51s       | 0.754351          | 0.808662              | 0.0737069   |"
      ]
     },
     "metadata": {},
     "output_type": "display_data"
    },
    {
     "data": {
      "text/html": [
       "<pre>| 156     | 4m 53s       | 0.754184          | 0.808392              | 0.0737069   |</pre>"
      ],
      "text/plain": [
       "| 156     | 4m 53s       | 0.754184          | 0.808392              | 0.0737069   |"
      ]
     },
     "metadata": {},
     "output_type": "display_data"
    },
    {
     "data": {
      "text/html": [
       "<pre>| 157     | 4m 55s       | 0.753979          | 0.808127              | 0.0737069   |</pre>"
      ],
      "text/plain": [
       "| 157     | 4m 55s       | 0.753979          | 0.808127              | 0.0737069   |"
      ]
     },
     "metadata": {},
     "output_type": "display_data"
    },
    {
     "data": {
      "text/html": [
       "<pre>| 158     | 4m 56s       | 0.754206          | 0.808112              | 0.0737069   |</pre>"
      ],
      "text/plain": [
       "| 158     | 4m 56s       | 0.754206          | 0.808112              | 0.0737069   |"
      ]
     },
     "metadata": {},
     "output_type": "display_data"
    },
    {
     "data": {
      "text/html": [
       "<pre>| 159     | 4m 58s       | 0.75422           | 0.807962              | 0.0737069   |</pre>"
      ],
      "text/plain": [
       "| 159     | 4m 58s       | 0.75422           | 0.807962              | 0.0737069   |"
      ]
     },
     "metadata": {},
     "output_type": "display_data"
    },
    {
     "data": {
      "text/html": [
       "<pre>| 160     | 5m 0s        | 0.754374          | 0.807904              | 0.0737069   |</pre>"
      ],
      "text/plain": [
       "| 160     | 5m 0s        | 0.754374          | 0.807904              | 0.0737069   |"
      ]
     },
     "metadata": {},
     "output_type": "display_data"
    },
    {
     "data": {
      "text/html": [
       "<pre>| 161     | 5m 2s        | 0.754329          | 0.807733              | 0.0737069   |</pre>"
      ],
      "text/plain": [
       "| 161     | 5m 2s        | 0.754329          | 0.807733              | 0.0737069   |"
      ]
     },
     "metadata": {},
     "output_type": "display_data"
    },
    {
     "data": {
      "text/html": [
       "<pre>| 162     | 5m 4s        | 0.754316          | 0.807573              | 0.0737069   |</pre>"
      ],
      "text/plain": [
       "| 162     | 5m 4s        | 0.754316          | 0.807573              | 0.0737069   |"
      ]
     },
     "metadata": {},
     "output_type": "display_data"
    },
    {
     "data": {
      "text/html": [
       "<pre>| 163     | 5m 6s        | 0.754564          | 0.807559              | 0.0737069   |</pre>"
      ],
      "text/plain": [
       "| 163     | 5m 6s        | 0.754564          | 0.807559              | 0.0737069   |"
      ]
     },
     "metadata": {},
     "output_type": "display_data"
    },
    {
     "name": "stderr",
     "output_type": "stream",
     "text": [
      "[ERROR] graphlab.toolkits._main: Toolkit error: Cancelled by user.\n"
     ]
    },
    {
     "ename": "ToolkitError",
     "evalue": "Cancelled by user.",
     "output_type": "error",
     "traceback": [
      "\u001b[0;31m---------------------------------------------------------------------------\u001b[0m",
      "\u001b[0;31mToolkitError\u001b[0m                              Traceback (most recent call last)",
      "\u001b[0;32m<ipython-input-169-595def6951cf>\u001b[0m in \u001b[0;36m<module>\u001b[0;34m()\u001b[0m\n\u001b[1;32m      7\u001b[0m                                                     \u001b[0mmax_iterations\u001b[0m\u001b[0;34m=\u001b[0m\u001b[0;36m200\u001b[0m\u001b[0;34m,\u001b[0m\u001b[0;34m\u001b[0m\u001b[0m\n\u001b[1;32m      8\u001b[0m                                                     \u001b[0mregularization\u001b[0m \u001b[0;34m=\u001b[0m \u001b[0;36m1e-3\u001b[0m\u001b[0;34m,\u001b[0m\u001b[0;34m\u001b[0m\u001b[0m\n\u001b[0;32m----> 9\u001b[0;31m                                                     \u001b[0mlinear_regularization\u001b[0m \u001b[0;34m=\u001b[0m \u001b[0;36m1e-4\u001b[0m\u001b[0;34m\u001b[0m\u001b[0m\n\u001b[0m\u001b[1;32m     10\u001b[0m                                                     )\n",
      "\u001b[0;32m/home/ubuntu/anaconda/lib/python2.7/site-packages/graphlab/toolkits/recommender/factorization_recommender.pyc\u001b[0m in \u001b[0;36mcreate\u001b[0;34m(observation_data, user_id, item_id, target, user_data, item_data, num_factors, regularization, linear_regularization, side_data_factorization, nmf, binary_target, max_iterations, sgd_step_size, random_seed, solver, verbose, **kwargs)\u001b[0m\n\u001b[1;32m    230\u001b[0m         \u001b[0mopts\u001b[0m\u001b[0;34m.\u001b[0m\u001b[0mupdate\u001b[0m\u001b[0;34m(\u001b[0m\u001b[0mkwargs\u001b[0m\u001b[0;34m)\u001b[0m\u001b[0;34m\u001b[0m\u001b[0m\n\u001b[1;32m    231\u001b[0m \u001b[0;34m\u001b[0m\u001b[0m\n\u001b[0;32m--> 232\u001b[0;31m     \u001b[0mresponse\u001b[0m \u001b[0;34m=\u001b[0m \u001b[0m_graphlab\u001b[0m\u001b[0;34m.\u001b[0m\u001b[0mtoolkits\u001b[0m\u001b[0;34m.\u001b[0m\u001b[0m_main\u001b[0m\u001b[0;34m.\u001b[0m\u001b[0mrun\u001b[0m\u001b[0;34m(\u001b[0m\u001b[0;34m'recsys_train'\u001b[0m\u001b[0;34m,\u001b[0m \u001b[0mopts\u001b[0m\u001b[0;34m,\u001b[0m \u001b[0mverbose\u001b[0m\u001b[0;34m)\u001b[0m\u001b[0;34m\u001b[0m\u001b[0m\n\u001b[0m\u001b[1;32m    233\u001b[0m \u001b[0;34m\u001b[0m\u001b[0m\n\u001b[1;32m    234\u001b[0m     \u001b[0;32mreturn\u001b[0m \u001b[0mFactorizationRecommender\u001b[0m\u001b[0;34m(\u001b[0m\u001b[0mresponse\u001b[0m\u001b[0;34m[\u001b[0m\u001b[0;34m'model'\u001b[0m\u001b[0;34m]\u001b[0m\u001b[0;34m)\u001b[0m\u001b[0;34m\u001b[0m\u001b[0m\n",
      "\u001b[0;32m/home/ubuntu/anaconda/lib/python2.7/site-packages/graphlab/toolkits/_main.pyc\u001b[0m in \u001b[0;36mrun\u001b[0;34m(toolkit_name, options, verbose, show_progress)\u001b[0m\n\u001b[1;32m     87\u001b[0m         \u001b[0m_get_metric_tracker\u001b[0m\u001b[0;34m(\u001b[0m\u001b[0;34m)\u001b[0m\u001b[0;34m.\u001b[0m\u001b[0mtrack\u001b[0m\u001b[0;34m(\u001b[0m\u001b[0mmetric_name\u001b[0m\u001b[0;34m,\u001b[0m \u001b[0mvalue\u001b[0m\u001b[0;34m=\u001b[0m\u001b[0;36m1\u001b[0m\u001b[0;34m,\u001b[0m \u001b[0mproperties\u001b[0m\u001b[0;34m=\u001b[0m\u001b[0mtrack_props\u001b[0m\u001b[0;34m,\u001b[0m \u001b[0msend_sys_info\u001b[0m\u001b[0;34m=\u001b[0m\u001b[0mFalse\u001b[0m\u001b[0;34m)\u001b[0m\u001b[0;34m\u001b[0m\u001b[0m\n\u001b[1;32m     88\u001b[0m \u001b[0;34m\u001b[0m\u001b[0m\n\u001b[0;32m---> 89\u001b[0;31m         \u001b[0;32mraise\u001b[0m \u001b[0mToolkitError\u001b[0m\u001b[0;34m(\u001b[0m\u001b[0mstr\u001b[0m\u001b[0;34m(\u001b[0m\u001b[0mmessage\u001b[0m\u001b[0;34m)\u001b[0m\u001b[0;34m)\u001b[0m\u001b[0;34m\u001b[0m\u001b[0m\n\u001b[0m",
      "\u001b[0;31mToolkitError\u001b[0m: Cancelled by user."
     ]
    }
   ],
   "source": [
    "rec_engine = gl.factorization_recommender.create(   observation_data=glRatingsTrain, \n",
    "                                                    user_id=\"userID\", \n",
    "                                                    item_id=\"bookID\", \n",
    "                                                    target='rating',\n",
    "                                                    num_factors=4,\n",
    "                                                    solver='auto',\n",
    "                                                    max_iterations=200,\n",
    "                                                    regularization = 1e-3,\n",
    "                                                    linear_regularization = 1e-4\n",
    "                                                    )"
   ]
  },
  {
   "cell_type": "code",
   "execution_count": null,
   "metadata": {
    "collapsed": false
   },
   "outputs": [],
   "source": [
    "print rec_engine.evaluate_rmse(glRatingsTest, target='rating')['rmse_overall']\n",
    "print rec_engine.evaluate_rmse(glRatingsTest, target='rating')['rmse_overall'] - rec_engine_baseline.evaluate_rmse(glRatingsTest, target='rating')['rmse_overall']"
   ]
  },
  {
   "cell_type": "code",
   "execution_count": null,
   "metadata": {
    "collapsed": true
   },
   "outputs": [],
   "source": [
    "0.897972073875\n",
    "-0.0168723871177"
   ]
  },
  {
   "cell_type": "markdown",
   "metadata": {},
   "source": [
    "SOCIAL MODELS"
   ]
  },
  {
   "cell_type": "code",
   "execution_count": 301,
   "metadata": {
    "collapsed": false
   },
   "outputs": [
    {
     "data": {
      "image/png": "[encoded data removed]",
      "text/plain": [
       "<matplotlib.figure.Figure at 0x7f58ddc20a90>"
      ]
     },
     "metadata": {},
     "output_type": "display_data"
    }
   ],
   "source": [
    "meanWeights = np.linspace(0,1,100)\n",
    "\n",
    "#SIMPLE PREDICTION FROM COMM MEANS\n",
    "rmsesSimple = []\n",
    "\n",
    "for weight in meanWeights:\n",
    "    rmsesSimple.append(\\\n",
    "                mixedPred(glRatingsTestWithComm, \\\n",
    "                          commMeansTrain, commBookMeansTrain, commBookMeansTrain, rec_engine, rec_engine, \\\n",
    "                          False, False, True, weight)[1])\n",
    "\n",
    "#SIMPLE PREDICTION FROM COMM MEANS (no book means)\n",
    "rmsesSimpleNoBookMeans = []\n",
    "\n",
    "for weight in meanWeights:\n",
    "    rmsesSimpleNoBookMeans.append(\\\n",
    "                mixedPred(glRatingsTestWithComm, \\\n",
    "                          commMeansTrain, commBookMeansTrain, commBookMeansTrain, rec_engine, rec_engine, \\\n",
    "                          False, False, False, weight)[1])\n",
    "    \n",
    "#FACTORIZING COMM MEANS\n",
    "'''\n",
    "rmsesFac = []\n",
    "for weight in meanWeights:\n",
    "    rmsesFac.append(\\\n",
    "                mixedPred(glRatingsTestWithComm, \\\n",
    "                          commMeansTrain, commBookMeansTrain, rec_engine_8, rec_engine_8 \\\n",
    "                          commMeans_rec_engine_baseline, True, False, True, weight)[1])\n",
    "'''\n",
    "plt.plot(meanWeights, rmsesSimple, '-');\n",
    "plt.plot(meanWeights, rmsesSimpleNoBookMeans, '-');\n",
    "#plt.plot(meanWeights, rmsesFac, '-')"
   ]
  },
  {
   "cell_type": "markdown",
   "metadata": {
    "collapsed": false
   },
   "source": [
    "USING COMMUNITY MEANS OF RECOMMENDER PREDICTIONS"
   ]
  },
  {
   "cell_type": "code",
   "execution_count": 310,
   "metadata": {
    "collapsed": false
   },
   "outputs": [],
   "source": [
    "test = [(bookID, userID) for bookID, userID in product(glRatings['bookID'].unique(), glRatings['userID'].unique())]"
   ]
  },
  {
   "cell_type": "code",
   "execution_count": 311,
   "metadata": {
    "collapsed": false
   },
   "outputs": [],
   "source": [
    "#test\n",
    "testDict = {}\n",
    "npTest = np.array(test)\n",
    "testDict['bookID'] = npTest[:,0]\n",
    "testDict['userID'] = npTest[:,1]\n",
    "sfTest = gl.SFrame(testDict)"
   ]
  },
  {
   "cell_type": "code",
   "execution_count": 312,
   "metadata": {
    "collapsed": false
   },
   "outputs": [],
   "source": [
    "allPreds = rec_engine.predict(sfTest)"
   ]
  },
  {
   "cell_type": "code",
   "execution_count": 313,
   "metadata": {
    "collapsed": false
   },
   "outputs": [
    {
     "data": {
      "text/html": [
       "<div style=\"max-height:1000px;max-width:1500px;overflow:auto;\"><table frame=\"box\" rules=\"cols\">\n",
       "    <tr>\n",
       "        <th style=\"padding-left: 1em; padding-right: 1em; text-align: center\">bookID</th>\n",
       "        <th style=\"padding-left: 1em; padding-right: 1em; text-align: center\">userID</th>\n",
       "        <th style=\"padding-left: 1em; padding-right: 1em; text-align: center\">preds</th>\n",
       "    </tr>\n",
       "    <tr>\n",
       "        <td style=\"padding-left: 1em; padding-right: 1em; text-align: center; vertical-align: top\">1934</td>\n",
       "        <td style=\"padding-left: 1em; padding-right: 1em; text-align: center; vertical-align: top\">32119</td>\n",
       "        <td style=\"padding-left: 1em; padding-right: 1em; text-align: center; vertical-align: top\">4.0474225383</td>\n",
       "    </tr>\n",
       "    <tr>\n",
       "        <td style=\"padding-left: 1em; padding-right: 1em; text-align: center; vertical-align: top\">1934</td>\n",
       "        <td style=\"padding-left: 1em; padding-right: 1em; text-align: center; vertical-align: top\">271433</td>\n",
       "        <td style=\"padding-left: 1em; padding-right: 1em; text-align: center; vertical-align: top\">4.0474225383</td>\n",
       "    </tr>\n",
       "    <tr>\n",
       "        <td style=\"padding-left: 1em; padding-right: 1em; text-align: center; vertical-align: top\">1934</td>\n",
       "        <td style=\"padding-left: 1em; padding-right: 1em; text-align: center; vertical-align: top\">9169100</td>\n",
       "        <td style=\"padding-left: 1em; padding-right: 1em; text-align: center; vertical-align: top\">4.0474225383</td>\n",
       "    </tr>\n",
       "    <tr>\n",
       "        <td style=\"padding-left: 1em; padding-right: 1em; text-align: center; vertical-align: top\">1934</td>\n",
       "        <td style=\"padding-left: 1em; padding-right: 1em; text-align: center; vertical-align: top\">94664</td>\n",
       "        <td style=\"padding-left: 1em; padding-right: 1em; text-align: center; vertical-align: top\">4.0474225383</td>\n",
       "    </tr>\n",
       "    <tr>\n",
       "        <td style=\"padding-left: 1em; padding-right: 1em; text-align: center; vertical-align: top\">1934</td>\n",
       "        <td style=\"padding-left: 1em; padding-right: 1em; text-align: center; vertical-align: top\">177</td>\n",
       "        <td style=\"padding-left: 1em; padding-right: 1em; text-align: center; vertical-align: top\">4.0474225383</td>\n",
       "    </tr>\n",
       "    <tr>\n",
       "        <td style=\"padding-left: 1em; padding-right: 1em; text-align: center; vertical-align: top\">1934</td>\n",
       "        <td style=\"padding-left: 1em; padding-right: 1em; text-align: center; vertical-align: top\">8940</td>\n",
       "        <td style=\"padding-left: 1em; padding-right: 1em; text-align: center; vertical-align: top\">4.0474225383</td>\n",
       "    </tr>\n",
       "    <tr>\n",
       "        <td style=\"padding-left: 1em; padding-right: 1em; text-align: center; vertical-align: top\">1934</td>\n",
       "        <td style=\"padding-left: 1em; padding-right: 1em; text-align: center; vertical-align: top\">20696854</td>\n",
       "        <td style=\"padding-left: 1em; padding-right: 1em; text-align: center; vertical-align: top\">4.0474225383</td>\n",
       "    </tr>\n",
       "    <tr>\n",
       "        <td style=\"padding-left: 1em; padding-right: 1em; text-align: center; vertical-align: top\">1934</td>\n",
       "        <td style=\"padding-left: 1em; padding-right: 1em; text-align: center; vertical-align: top\">47585</td>\n",
       "        <td style=\"padding-left: 1em; padding-right: 1em; text-align: center; vertical-align: top\">4.0474225383</td>\n",
       "    </tr>\n",
       "    <tr>\n",
       "        <td style=\"padding-left: 1em; padding-right: 1em; text-align: center; vertical-align: top\">1934</td>\n",
       "        <td style=\"padding-left: 1em; padding-right: 1em; text-align: center; vertical-align: top\">9069989</td>\n",
       "        <td style=\"padding-left: 1em; padding-right: 1em; text-align: center; vertical-align: top\">4.0474225383</td>\n",
       "    </tr>\n",
       "    <tr>\n",
       "        <td style=\"padding-left: 1em; padding-right: 1em; text-align: center; vertical-align: top\">1934</td>\n",
       "        <td style=\"padding-left: 1em; padding-right: 1em; text-align: center; vertical-align: top\">36208</td>\n",
       "        <td style=\"padding-left: 1em; padding-right: 1em; text-align: center; vertical-align: top\">4.0474225383</td>\n",
       "    </tr>\n",
       "</table>\n",
       "[90610 rows x 3 columns]<br/>Note: Only the head of the SFrame is printed.<br/>You can use print_rows(num_rows=m, num_columns=n) to print more rows and columns.\n",
       "</div>"
      ],
      "text/plain": [
       "Columns:\n",
       "\tbookID\tstr\n",
       "\tuserID\tstr\n",
       "\tpreds\tfloat\n",
       "\n",
       "Rows: 90610\n",
       "\n",
       "Data:\n",
       "+--------+----------+--------------+\n",
       "| bookID |  userID  |    preds     |\n",
       "+--------+----------+--------------+\n",
       "|  1934  |  32119   | 4.0474225383 |\n",
       "|  1934  |  271433  | 4.0474225383 |\n",
       "|  1934  | 9169100  | 4.0474225383 |\n",
       "|  1934  |  94664   | 4.0474225383 |\n",
       "|  1934  |   177    | 4.0474225383 |\n",
       "|  1934  |   8940   | 4.0474225383 |\n",
       "|  1934  | 20696854 | 4.0474225383 |\n",
       "|  1934  |  47585   | 4.0474225383 |\n",
       "|  1934  | 9069989  | 4.0474225383 |\n",
       "|  1934  |  36208   | 4.0474225383 |\n",
       "+--------+----------+--------------+\n",
       "[90610 rows x 3 columns]\n",
       "Note: Only the head of the SFrame is printed.\n",
       "You can use print_rows(num_rows=m, num_columns=n) to print more rows and columns."
      ]
     },
     "execution_count": 313,
     "metadata": {},
     "output_type": "execute_result"
    }
   ],
   "source": [
    "sfTest.add_column(allPreds, 'preds')"
   ]
  },
  {
   "cell_type": "code",
   "execution_count": 316,
   "metadata": {
    "collapsed": false
   },
   "outputs": [
    {
     "data": {
      "text/html": [
       "<div style=\"max-height:1000px;max-width:1500px;overflow:auto;\"><table frame=\"box\" rules=\"cols\">\n",
       "    <tr>\n",
       "        <th style=\"padding-left: 1em; padding-right: 1em; text-align: center\">bookID</th>\n",
       "        <th style=\"padding-left: 1em; padding-right: 1em; text-align: center\">userID</th>\n",
       "        <th style=\"padding-left: 1em; padding-right: 1em; text-align: center\">preds</th>\n",
       "        <th style=\"padding-left: 1em; padding-right: 1em; text-align: center\">comm</th>\n",
       "    </tr>\n",
       "    <tr>\n",
       "        <td style=\"padding-left: 1em; padding-right: 1em; text-align: center; vertical-align: top\">1934</td>\n",
       "        <td style=\"padding-left: 1em; padding-right: 1em; text-align: center; vertical-align: top\">32119</td>\n",
       "        <td style=\"padding-left: 1em; padding-right: 1em; text-align: center; vertical-align: top\">4.0474225383</td>\n",
       "        <td style=\"padding-left: 1em; padding-right: 1em; text-align: center; vertical-align: top\">8</td>\n",
       "    </tr>\n",
       "    <tr>\n",
       "        <td style=\"padding-left: 1em; padding-right: 1em; text-align: center; vertical-align: top\">1934</td>\n",
       "        <td style=\"padding-left: 1em; padding-right: 1em; text-align: center; vertical-align: top\">271433</td>\n",
       "        <td style=\"padding-left: 1em; padding-right: 1em; text-align: center; vertical-align: top\">4.0474225383</td>\n",
       "        <td style=\"padding-left: 1em; padding-right: 1em; text-align: center; vertical-align: top\">55</td>\n",
       "    </tr>\n",
       "    <tr>\n",
       "        <td style=\"padding-left: 1em; padding-right: 1em; text-align: center; vertical-align: top\">1934</td>\n",
       "        <td style=\"padding-left: 1em; padding-right: 1em; text-align: center; vertical-align: top\">9169100</td>\n",
       "        <td style=\"padding-left: 1em; padding-right: 1em; text-align: center; vertical-align: top\">4.0474225383</td>\n",
       "        <td style=\"padding-left: 1em; padding-right: 1em; text-align: center; vertical-align: top\">68</td>\n",
       "    </tr>\n",
       "    <tr>\n",
       "        <td style=\"padding-left: 1em; padding-right: 1em; text-align: center; vertical-align: top\">1934</td>\n",
       "        <td style=\"padding-left: 1em; padding-right: 1em; text-align: center; vertical-align: top\">94664</td>\n",
       "        <td style=\"padding-left: 1em; padding-right: 1em; text-align: center; vertical-align: top\">4.0474225383</td>\n",
       "        <td style=\"padding-left: 1em; padding-right: 1em; text-align: center; vertical-align: top\">30</td>\n",
       "    </tr>\n",
       "    <tr>\n",
       "        <td style=\"padding-left: 1em; padding-right: 1em; text-align: center; vertical-align: top\">1934</td>\n",
       "        <td style=\"padding-left: 1em; padding-right: 1em; text-align: center; vertical-align: top\">177</td>\n",
       "        <td style=\"padding-left: 1em; padding-right: 1em; text-align: center; vertical-align: top\">4.0474225383</td>\n",
       "        <td style=\"padding-left: 1em; padding-right: 1em; text-align: center; vertical-align: top\">31</td>\n",
       "    </tr>\n",
       "    <tr>\n",
       "        <td style=\"padding-left: 1em; padding-right: 1em; text-align: center; vertical-align: top\">1934</td>\n",
       "        <td style=\"padding-left: 1em; padding-right: 1em; text-align: center; vertical-align: top\">8940</td>\n",
       "        <td style=\"padding-left: 1em; padding-right: 1em; text-align: center; vertical-align: top\">4.0474225383</td>\n",
       "        <td style=\"padding-left: 1em; padding-right: 1em; text-align: center; vertical-align: top\">33</td>\n",
       "    </tr>\n",
       "    <tr>\n",
       "        <td style=\"padding-left: 1em; padding-right: 1em; text-align: center; vertical-align: top\">1934</td>\n",
       "        <td style=\"padding-left: 1em; padding-right: 1em; text-align: center; vertical-align: top\">20696854</td>\n",
       "        <td style=\"padding-left: 1em; padding-right: 1em; text-align: center; vertical-align: top\">4.0474225383</td>\n",
       "        <td style=\"padding-left: 1em; padding-right: 1em; text-align: center; vertical-align: top\">68</td>\n",
       "    </tr>\n",
       "    <tr>\n",
       "        <td style=\"padding-left: 1em; padding-right: 1em; text-align: center; vertical-align: top\">1934</td>\n",
       "        <td style=\"padding-left: 1em; padding-right: 1em; text-align: center; vertical-align: top\">47585</td>\n",
       "        <td style=\"padding-left: 1em; padding-right: 1em; text-align: center; vertical-align: top\">4.0474225383</td>\n",
       "        <td style=\"padding-left: 1em; padding-right: 1em; text-align: center; vertical-align: top\">73</td>\n",
       "    </tr>\n",
       "    <tr>\n",
       "        <td style=\"padding-left: 1em; padding-right: 1em; text-align: center; vertical-align: top\">1934</td>\n",
       "        <td style=\"padding-left: 1em; padding-right: 1em; text-align: center; vertical-align: top\">9069989</td>\n",
       "        <td style=\"padding-left: 1em; padding-right: 1em; text-align: center; vertical-align: top\">4.0474225383</td>\n",
       "        <td style=\"padding-left: 1em; padding-right: 1em; text-align: center; vertical-align: top\">48</td>\n",
       "    </tr>\n",
       "    <tr>\n",
       "        <td style=\"padding-left: 1em; padding-right: 1em; text-align: center; vertical-align: top\">1934</td>\n",
       "        <td style=\"padding-left: 1em; padding-right: 1em; text-align: center; vertical-align: top\">36208</td>\n",
       "        <td style=\"padding-left: 1em; padding-right: 1em; text-align: center; vertical-align: top\">4.0474225383</td>\n",
       "        <td style=\"padding-left: 1em; padding-right: 1em; text-align: center; vertical-align: top\">41</td>\n",
       "    </tr>\n",
       "</table>\n",
       "[90610 rows x 4 columns]<br/>Note: Only the head of the SFrame is printed.<br/>You can use print_rows(num_rows=m, num_columns=n) to print more rows and columns.\n",
       "</div>"
      ],
      "text/plain": [
       "Columns:\n",
       "\tbookID\tstr\n",
       "\tuserID\tstr\n",
       "\tpreds\tfloat\n",
       "\tcomm\tint\n",
       "\n",
       "Rows: 90610\n",
       "\n",
       "Data:\n",
       "+--------+----------+--------------+------+\n",
       "| bookID |  userID  |    preds     | comm |\n",
       "+--------+----------+--------------+------+\n",
       "|  1934  |  32119   | 4.0474225383 |  8   |\n",
       "|  1934  |  271433  | 4.0474225383 |  55  |\n",
       "|  1934  | 9169100  | 4.0474225383 |  68  |\n",
       "|  1934  |  94664   | 4.0474225383 |  30  |\n",
       "|  1934  |   177    | 4.0474225383 |  31  |\n",
       "|  1934  |   8940   | 4.0474225383 |  33  |\n",
       "|  1934  | 20696854 | 4.0474225383 |  68  |\n",
       "|  1934  |  47585   | 4.0474225383 |  73  |\n",
       "|  1934  | 9069989  | 4.0474225383 |  48  |\n",
       "|  1934  |  36208   | 4.0474225383 |  41  |\n",
       "+--------+----------+--------------+------+\n",
       "[90610 rows x 4 columns]\n",
       "Note: Only the head of the SFrame is printed.\n",
       "You can use print_rows(num_rows=m, num_columns=n) to print more rows and columns."
      ]
     },
     "execution_count": 316,
     "metadata": {},
     "output_type": "execute_result"
    }
   ],
   "source": [
    "commDict = {uID: i for i, comm in enumerate(allComms) for uID in comm}\n",
    "\n",
    "sfTest.add_column(sfTest['userID'].apply(lambda x: commDict[int(x)]), 'comm')"
   ]
  },
  {
   "cell_type": "code",
   "execution_count": 317,
   "metadata": {
    "collapsed": false
   },
   "outputs": [
    {
     "data": {
      "text/html": [
       "<div style=\"max-height:1000px;max-width:1500px;overflow:auto;\"><table frame=\"box\" rules=\"cols\">\n",
       "    <tr>\n",
       "        <th style=\"padding-left: 1em; padding-right: 1em; text-align: center\">bookID</th>\n",
       "        <th style=\"padding-left: 1em; padding-right: 1em; text-align: center\">comm</th>\n",
       "        <th style=\"padding-left: 1em; padding-right: 1em; text-align: center\">avgPreds</th>\n",
       "    </tr>\n",
       "    <tr>\n",
       "        <td style=\"padding-left: 1em; padding-right: 1em; text-align: center; vertical-align: top\">485894</td>\n",
       "        <td style=\"padding-left: 1em; padding-right: 1em; text-align: center; vertical-align: top\">49</td>\n",
       "        <td style=\"padding-left: 1em; padding-right: 1em; text-align: center; vertical-align: top\">3.94050595422</td>\n",
       "    </tr>\n",
       "    <tr>\n",
       "        <td style=\"padding-left: 1em; padding-right: 1em; text-align: center; vertical-align: top\">4407</td>\n",
       "        <td style=\"padding-left: 1em; padding-right: 1em; text-align: center; vertical-align: top\">30</td>\n",
       "        <td style=\"padding-left: 1em; padding-right: 1em; text-align: center; vertical-align: top\">4.00764683892</td>\n",
       "    </tr>\n",
       "    <tr>\n",
       "        <td style=\"padding-left: 1em; padding-right: 1em; text-align: center; vertical-align: top\">6334</td>\n",
       "        <td style=\"padding-left: 1em; padding-right: 1em; text-align: center; vertical-align: top\">49</td>\n",
       "        <td style=\"padding-left: 1em; padding-right: 1em; text-align: center; vertical-align: top\">3.59827108194</td>\n",
       "    </tr>\n",
       "    <tr>\n",
       "        <td style=\"padding-left: 1em; padding-right: 1em; text-align: center; vertical-align: top\">2429135</td>\n",
       "        <td style=\"padding-left: 1em; padding-right: 1em; text-align: center; vertical-align: top\">46</td>\n",
       "        <td style=\"padding-left: 1em; padding-right: 1em; text-align: center; vertical-align: top\">3.67751244714</td>\n",
       "    </tr>\n",
       "    <tr>\n",
       "        <td style=\"padding-left: 1em; padding-right: 1em; text-align: center; vertical-align: top\">2612</td>\n",
       "        <td style=\"padding-left: 1em; padding-right: 1em; text-align: center; vertical-align: top\">70</td>\n",
       "        <td style=\"padding-left: 1em; padding-right: 1em; text-align: center; vertical-align: top\">3.45247251798</td>\n",
       "    </tr>\n",
       "    <tr>\n",
       "        <td style=\"padding-left: 1em; padding-right: 1em; text-align: center; vertical-align: top\">4953</td>\n",
       "        <td style=\"padding-left: 1em; padding-right: 1em; text-align: center; vertical-align: top\">23</td>\n",
       "        <td style=\"padding-left: 1em; padding-right: 1em; text-align: center; vertical-align: top\">3.530410419</td>\n",
       "    </tr>\n",
       "    <tr>\n",
       "        <td style=\"padding-left: 1em; padding-right: 1em; text-align: center; vertical-align: top\">6149</td>\n",
       "        <td style=\"padding-left: 1em; padding-right: 1em; text-align: center; vertical-align: top\">2</td>\n",
       "        <td style=\"padding-left: 1em; padding-right: 1em; text-align: center; vertical-align: top\">3.84561092292</td>\n",
       "    </tr>\n",
       "    <tr>\n",
       "        <td style=\"padding-left: 1em; padding-right: 1em; text-align: center; vertical-align: top\">136251</td>\n",
       "        <td style=\"padding-left: 1em; padding-right: 1em; text-align: center; vertical-align: top\">59</td>\n",
       "        <td style=\"padding-left: 1em; padding-right: 1em; text-align: center; vertical-align: top\">4.23558766653</td>\n",
       "    </tr>\n",
       "    <tr>\n",
       "        <td style=\"padding-left: 1em; padding-right: 1em; text-align: center; vertical-align: top\">13497</td>\n",
       "        <td style=\"padding-left: 1em; padding-right: 1em; text-align: center; vertical-align: top\">58</td>\n",
       "        <td style=\"padding-left: 1em; padding-right: 1em; text-align: center; vertical-align: top\">3.72413637747</td>\n",
       "    </tr>\n",
       "    <tr>\n",
       "        <td style=\"padding-left: 1em; padding-right: 1em; text-align: center; vertical-align: top\">2122</td>\n",
       "        <td style=\"padding-left: 1em; padding-right: 1em; text-align: center; vertical-align: top\">60</td>\n",
       "        <td style=\"padding-left: 1em; padding-right: 1em; text-align: center; vertical-align: top\">3.81340293099</td>\n",
       "    </tr>\n",
       "</table>\n",
       "[11900 rows x 3 columns]<br/>Note: Only the head of the SFrame is printed.<br/>You can use print_rows(num_rows=m, num_columns=n) to print more rows and columns.\n",
       "</div>"
      ],
      "text/plain": [
       "Columns:\n",
       "\tbookID\tstr\n",
       "\tcomm\tint\n",
       "\tavgPreds\tfloat\n",
       "\n",
       "Rows: 11900\n",
       "\n",
       "Data:\n",
       "+---------+------+---------------+\n",
       "|  bookID | comm |    avgPreds   |\n",
       "+---------+------+---------------+\n",
       "|  485894 |  49  | 3.94050595422 |\n",
       "|   4407  |  30  | 4.00764683892 |\n",
       "|   6334  |  49  | 3.59827108194 |\n",
       "| 2429135 |  46  | 3.67751244714 |\n",
       "|   2612  |  70  | 3.45247251798 |\n",
       "|   4953  |  23  |  3.530410419  |\n",
       "|   6149  |  2   | 3.84561092292 |\n",
       "|  136251 |  59  | 4.23558766653 |\n",
       "|  13497  |  58  | 3.72413637747 |\n",
       "|   2122  |  60  | 3.81340293099 |\n",
       "+---------+------+---------------+\n",
       "[11900 rows x 3 columns]\n",
       "Note: Only the head of the SFrame is printed.\n",
       "You can use print_rows(num_rows=m, num_columns=n) to print more rows and columns."
      ]
     },
     "execution_count": 317,
     "metadata": {},
     "output_type": "execute_result"
    }
   ],
   "source": [
    "sfTest[['bookID', 'preds', 'comm']].groupby(['bookID', 'comm'], {'avgPreds': gl.aggregate.AVG('preds')})"
   ]
  },
  {
   "cell_type": "code",
   "execution_count": 318,
   "metadata": {
    "collapsed": true
   },
   "outputs": [],
   "source": [
    "factorCommBookMeansTrain = {}\n",
    "for row in sfTest:\n",
    "    factorCommBookMeansTrain[(row['bookID'], row['comm'])] = row['preds']\n"
   ]
  },
  {
   "cell_type": "code",
   "execution_count": 124,
   "metadata": {
    "collapsed": false
   },
   "outputs": [
    {
     "name": "stdout",
     "output_type": "stream",
     "text": [
      "\n"
     ]
    },
    {
     "data": {
      "text/plain": [
       "0.93128156655103222"
      ]
     },
     "execution_count": 124,
     "metadata": {},
     "output_type": "execute_result"
    }
   ],
   "source": [
    "mixedPred(glRatingsTestWithComm, \\\n",
    "                          commMeansTrain, commBookMeansTrain, factorCommBookMeansTrain, rec_engine, \\\n",
    "                          True, True, 0.5)[1]"
   ]
  },
  {
   "cell_type": "code",
   "execution_count": 320,
   "metadata": {
    "collapsed": false
   },
   "outputs": [
    {
     "data": {
      "text/plain": [
       "[<matplotlib.lines.Line2D at 0x7f58dd93d710>]"
      ]
     },
     "execution_count": 320,
     "metadata": {},
     "output_type": "execute_result"
    },
    {
     "data": {
      "image/png": "[encoded data removed]",
      "text/plain": [
       "<matplotlib.figure.Figure at 0x7f58dd3b6190>"
      ]
     },
     "metadata": {},
     "output_type": "display_data"
    }
   ],
   "source": [
    "meanWeights = np.linspace(0,1,100)\n",
    "\n",
    "#SIMPLE PREDICTION FROM COMM MEANS\n",
    "rmsesSimple = []\n",
    "\n",
    "for weight in meanWeights:\n",
    "    rmsesSimple.append(\\\n",
    "                mixedPred(glRatingsTestWithComm, \\\n",
    "                          commMeansTrain, commBookMeansTrain, commBookMeansTrain, rec_engine, rec_engine, \\\n",
    "                          False, False, True, weight)[1])\n",
    "\n",
    "#SIMPLE PREDICTION FROM COMM MEANS (no book means)\n",
    "rmsesSimpleNoBookMeans = []\n",
    "\n",
    "for weight in meanWeights:\n",
    "    rmsesSimpleNoBookMeans.append(\\\n",
    "                mixedPred(glRatingsTestWithComm, \\\n",
    "                          commMeansTrain, commBookMeansTrain, commBookMeansTrain, rec_engine, rec_engine, \\\n",
    "                          False, False, False, weight)[1])\n",
    "    \n",
    "#FACTORIZING COMM MEANS\n",
    "\n",
    "rmsesFac = []\n",
    "for weight in meanWeights:\n",
    "    rmsesFac.append(\\\n",
    "                mixedPred(glRatingsTestWithComm, \\\n",
    "                          commMeansTrain, commBookMeansTrain, factorCommBookMeansTrain, rec_engine, rec_engine, \\\n",
    "                          True, False, True, weight)[1])\n",
    "\n",
    "plt.plot(meanWeights, rmsesSimple, '-');\n",
    "plt.plot(meanWeights, rmsesSimpleNoBookMeans, '-');\n",
    "plt.plot(meanWeights, rmsesFac, '-')"
   ]
  },
  {
   "cell_type": "code",
   "execution_count": 321,
   "metadata": {
    "collapsed": false
   },
   "outputs": [
    {
     "name": "stdout",
     "output_type": "stream",
     "text": [
      "0.141414141414\n",
      "0.892687968099\n"
     ]
    }
   ],
   "source": [
    "print meanWeights[np.argmin(rmsesSimple)]\n",
    "print rmsesSimple[np.argmin(rmsesSimple)]"
   ]
  },
  {
   "cell_type": "markdown",
   "metadata": {},
   "source": [
    "FACTORIZATION RECOMMENDER FOR RAW (COMMUNITY-BOOK-RATING) DATA"
   ]
  },
  {
   "cell_type": "code",
   "execution_count": 21,
   "metadata": {
    "collapsed": false
   },
   "outputs": [],
   "source": [
    "glCommTrain = glRatingsTrainWithComm.copy()['bookID', 'comm', 'rating']\n",
    "glCommTest = glRatingsTestWithComm.copy()['bookID', 'comm', 'rating']"
   ]
  },
  {
   "cell_type": "code",
   "execution_count": 22,
   "metadata": {
    "collapsed": false
   },
   "outputs": [
    {
     "data": {
      "text/html": [
       "<div style=\"max-height:1000px;max-width:1500px;overflow:auto;\"><table frame=\"box\" rules=\"cols\">\n",
       "    <tr>\n",
       "        <th style=\"padding-left: 1em; padding-right: 1em; text-align: center\">bookID</th>\n",
       "        <th style=\"padding-left: 1em; padding-right: 1em; text-align: center\">comm</th>\n",
       "        <th style=\"padding-left: 1em; padding-right: 1em; text-align: center\">rating</th>\n",
       "    </tr>\n",
       "    <tr>\n",
       "        <td style=\"padding-left: 1em; padding-right: 1em; text-align: center; vertical-align: top\">5113</td>\n",
       "        <td style=\"padding-left: 1em; padding-right: 1em; text-align: center; vertical-align: top\">30</td>\n",
       "        <td style=\"padding-left: 1em; padding-right: 1em; text-align: center; vertical-align: top\">1</td>\n",
       "    </tr>\n",
       "    <tr>\n",
       "        <td style=\"padding-left: 1em; padding-right: 1em; text-align: center; vertical-align: top\">18490</td>\n",
       "        <td style=\"padding-left: 1em; padding-right: 1em; text-align: center; vertical-align: top\">30</td>\n",
       "        <td style=\"padding-left: 1em; padding-right: 1em; text-align: center; vertical-align: top\">4</td>\n",
       "    </tr>\n",
       "    <tr>\n",
       "        <td style=\"padding-left: 1em; padding-right: 1em; text-align: center; vertical-align: top\">10799</td>\n",
       "        <td style=\"padding-left: 1em; padding-right: 1em; text-align: center; vertical-align: top\">30</td>\n",
       "        <td style=\"padding-left: 1em; padding-right: 1em; text-align: center; vertical-align: top\">5</td>\n",
       "    </tr>\n",
       "    <tr>\n",
       "        <td style=\"padding-left: 1em; padding-right: 1em; text-align: center; vertical-align: top\">1885</td>\n",
       "        <td style=\"padding-left: 1em; padding-right: 1em; text-align: center; vertical-align: top\">30</td>\n",
       "        <td style=\"padding-left: 1em; padding-right: 1em; text-align: center; vertical-align: top\">3</td>\n",
       "    </tr>\n",
       "    <tr>\n",
       "        <td style=\"padding-left: 1em; padding-right: 1em; text-align: center; vertical-align: top\">16902</td>\n",
       "        <td style=\"padding-left: 1em; padding-right: 1em; text-align: center; vertical-align: top\">30</td>\n",
       "        <td style=\"padding-left: 1em; padding-right: 1em; text-align: center; vertical-align: top\">4</td>\n",
       "    </tr>\n",
       "    <tr>\n",
       "        <td style=\"padding-left: 1em; padding-right: 1em; text-align: center; vertical-align: top\">6288</td>\n",
       "        <td style=\"padding-left: 1em; padding-right: 1em; text-align: center; vertical-align: top\">30</td>\n",
       "        <td style=\"padding-left: 1em; padding-right: 1em; text-align: center; vertical-align: top\">4</td>\n",
       "    </tr>\n",
       "    <tr>\n",
       "        <td style=\"padding-left: 1em; padding-right: 1em; text-align: center; vertical-align: top\">49552</td>\n",
       "        <td style=\"padding-left: 1em; padding-right: 1em; text-align: center; vertical-align: top\">30</td>\n",
       "        <td style=\"padding-left: 1em; padding-right: 1em; text-align: center; vertical-align: top\">3</td>\n",
       "    </tr>\n",
       "    <tr>\n",
       "        <td style=\"padding-left: 1em; padding-right: 1em; text-align: center; vertical-align: top\">70401</td>\n",
       "        <td style=\"padding-left: 1em; padding-right: 1em; text-align: center; vertical-align: top\">30</td>\n",
       "        <td style=\"padding-left: 1em; padding-right: 1em; text-align: center; vertical-align: top\">4</td>\n",
       "    </tr>\n",
       "    <tr>\n",
       "        <td style=\"padding-left: 1em; padding-right: 1em; text-align: center; vertical-align: top\">4671</td>\n",
       "        <td style=\"padding-left: 1em; padding-right: 1em; text-align: center; vertical-align: top\">30</td>\n",
       "        <td style=\"padding-left: 1em; padding-right: 1em; text-align: center; vertical-align: top\">5</td>\n",
       "    </tr>\n",
       "    <tr>\n",
       "        <td style=\"padding-left: 1em; padding-right: 1em; text-align: center; vertical-align: top\">4981</td>\n",
       "        <td style=\"padding-left: 1em; padding-right: 1em; text-align: center; vertical-align: top\">30</td>\n",
       "        <td style=\"padding-left: 1em; padding-right: 1em; text-align: center; vertical-align: top\">4</td>\n",
       "    </tr>\n",
       "</table>\n",
       "[15583 rows x 3 columns]<br/>Note: Only the head of the SFrame is printed.<br/>You can use print_rows(num_rows=m, num_columns=n) to print more rows and columns.\n",
       "</div>"
      ],
      "text/plain": [
       "Columns:\n",
       "\tbookID\tstr\n",
       "\tcomm\tint\n",
       "\trating\tint\n",
       "\n",
       "Rows: 15583\n",
       "\n",
       "Data:\n",
       "+--------+------+--------+\n",
       "| bookID | comm | rating |\n",
       "+--------+------+--------+\n",
       "|  5113  |  30  |   1    |\n",
       "| 18490  |  30  |   4    |\n",
       "| 10799  |  30  |   5    |\n",
       "|  1885  |  30  |   3    |\n",
       "| 16902  |  30  |   4    |\n",
       "|  6288  |  30  |   4    |\n",
       "| 49552  |  30  |   3    |\n",
       "| 70401  |  30  |   4    |\n",
       "|  4671  |  30  |   5    |\n",
       "|  4981  |  30  |   4    |\n",
       "+--------+------+--------+\n",
       "[15583 rows x 3 columns]\n",
       "Note: Only the head of the SFrame is printed.\n",
       "You can use print_rows(num_rows=m, num_columns=n) to print more rows and columns."
      ]
     },
     "execution_count": 22,
     "metadata": {},
     "output_type": "execute_result"
    }
   ],
   "source": [
    "glCommTrain"
   ]
  },
  {
   "cell_type": "code",
   "execution_count": 23,
   "metadata": {
    "collapsed": false,
    "scrolled": true
   },
   "outputs": [
    {
     "name": "stdout",
     "output_type": "stream",
     "text": [
      "15583 observations\n",
      "70 users\n",
      "170 books\n",
      "\n",
      "A recommender with 0 factor(s) (plus linear terms) would use 1.5% of the degrees of freedom present in the data.\n",
      "(64.9 observations per model degree of freedom)\n",
      "\n",
      "A recommender with 1 factor(s) (plus linear terms) would use 3.1% of the degrees of freedom present in the data.\n",
      "(32.5 observations per model degree of freedom)\n",
      "\n",
      "A recommender with 2 factor(s) (plus linear terms) would use 4.6% of the degrees of freedom present in the data.\n",
      "(21.6 observations per model degree of freedom)\n",
      "\n",
      "A recommender with 3 factor(s) (plus linear terms) would use 6.2% of the degrees of freedom present in the data.\n",
      "(16.2 observations per model degree of freedom)\n",
      "\n",
      "A recommender with 4 factor(s) (plus linear terms) would use 7.7% of the degrees of freedom present in the data.\n",
      "(13.0 observations per model degree of freedom)\n",
      "\n",
      "A recommender with 5 factor(s) (plus linear terms) would use 9.2% of the degrees of freedom present in the data.\n",
      "(10.8 observations per model degree of freedom)\n",
      "\n",
      "A recommender with 6 factor(s) (plus linear terms) would use 10.8% of the degrees of freedom present in the data.\n",
      "(9.3 observations per model degree of freedom)\n",
      "\n",
      "A recommender with 7 factor(s) (plus linear terms) would use 12.3% of the degrees of freedom present in the data.\n",
      "(8.1 observations per model degree of freedom)\n",
      "\n",
      "A recommender with 8 factor(s) (plus linear terms) would use 13.9% of the degrees of freedom present in the data.\n",
      "(7.2 observations per model degree of freedom)\n",
      "\n"
     ]
    }
   ],
   "source": [
    "degreesOfFreedomStats(glCommTrain)"
   ]
  },
  {
   "cell_type": "code",
   "execution_count": 24,
   "metadata": {
    "collapsed": false
   },
   "outputs": [
    {
     "data": {
      "text/html": [
       "<pre>Recsys training: model = factorization_recommender</pre>"
      ],
      "text/plain": [
       "Recsys training: model = factorization_recommender"
      ]
     },
     "metadata": {},
     "output_type": "display_data"
    },
    {
     "data": {
      "text/html": [
       "<pre>Preparing data set.</pre>"
      ],
      "text/plain": [
       "Preparing data set."
      ]
     },
     "metadata": {},
     "output_type": "display_data"
    },
    {
     "data": {
      "text/html": [
       "<pre>    Data has 15583 observations with 70 users and 170 items.</pre>"
      ],
      "text/plain": [
       "    Data has 15583 observations with 70 users and 170 items."
      ]
     },
     "metadata": {},
     "output_type": "display_data"
    },
    {
     "data": {
      "text/html": [
       "<pre>    Data prepared in: 0.091261s</pre>"
      ],
      "text/plain": [
       "    Data prepared in: 0.091261s"
      ]
     },
     "metadata": {},
     "output_type": "display_data"
    },
    {
     "data": {
      "text/html": [
       "<pre>Training factorization_recommender for recommendations.</pre>"
      ],
      "text/plain": [
       "Training factorization_recommender for recommendations."
      ]
     },
     "metadata": {},
     "output_type": "display_data"
    },
    {
     "data": {
      "text/html": [
       "<pre>+--------------------------------+--------------------------------------------------+----------+</pre>"
      ],
      "text/plain": [
       "+--------------------------------+--------------------------------------------------+----------+"
      ]
     },
     "metadata": {},
     "output_type": "display_data"
    },
    {
     "data": {
      "text/html": [
       "<pre>| Parameter                      | Description                                      | Value    |</pre>"
      ],
      "text/plain": [
       "| Parameter                      | Description                                      | Value    |"
      ]
     },
     "metadata": {},
     "output_type": "display_data"
    },
    {
     "data": {
      "text/html": [
       "<pre>+--------------------------------+--------------------------------------------------+----------+</pre>"
      ],
      "text/plain": [
       "+--------------------------------+--------------------------------------------------+----------+"
      ]
     },
     "metadata": {},
     "output_type": "display_data"
    },
    {
     "data": {
      "text/html": [
       "<pre>| num_factors                    | Factor Dimension                                 | 0        |</pre>"
      ],
      "text/plain": [
       "| num_factors                    | Factor Dimension                                 | 0        |"
      ]
     },
     "metadata": {},
     "output_type": "display_data"
    },
    {
     "data": {
      "text/html": [
       "<pre>| regularization                 | L2 Regularization on Factors                     | 0.001    |</pre>"
      ],
      "text/plain": [
       "| regularization                 | L2 Regularization on Factors                     | 0.001    |"
      ]
     },
     "metadata": {},
     "output_type": "display_data"
    },
    {
     "data": {
      "text/html": [
       "<pre>| solver                         | Solver used for training                         | sgd      |</pre>"
      ],
      "text/plain": [
       "| solver                         | Solver used for training                         | sgd      |"
      ]
     },
     "metadata": {},
     "output_type": "display_data"
    },
    {
     "data": {
      "text/html": [
       "<pre>| linear_regularization          | L2 Regularization on Linear Coefficients         | 0.0001   |</pre>"
      ],
      "text/plain": [
       "| linear_regularization          | L2 Regularization on Linear Coefficients         | 0.0001   |"
      ]
     },
     "metadata": {},
     "output_type": "display_data"
    },
    {
     "data": {
      "text/html": [
       "<pre>| max_iterations                 | Maximum Number of Iterations                     | 200      |</pre>"
      ],
      "text/plain": [
       "| max_iterations                 | Maximum Number of Iterations                     | 200      |"
      ]
     },
     "metadata": {},
     "output_type": "display_data"
    },
    {
     "data": {
      "text/html": [
       "<pre>+--------------------------------+--------------------------------------------------+----------+</pre>"
      ],
      "text/plain": [
       "+--------------------------------+--------------------------------------------------+----------+"
      ]
     },
     "metadata": {},
     "output_type": "display_data"
    },
    {
     "data": {
      "text/html": [
       "<pre>  Optimizing model using SGD; tuning step size.</pre>"
      ],
      "text/plain": [
       "  Optimizing model using SGD; tuning step size."
      ]
     },
     "metadata": {},
     "output_type": "display_data"
    },
    {
     "data": {
      "text/html": [
       "<pre>  Using 10000 / 15583 points for tuning the step size.</pre>"
      ],
      "text/plain": [
       "  Using 10000 / 15583 points for tuning the step size."
      ]
     },
     "metadata": {},
     "output_type": "display_data"
    },
    {
     "data": {
      "text/html": [
       "<pre>+---------+-------------------+------------------------------------------+</pre>"
      ],
      "text/plain": [
       "+---------+-------------------+------------------------------------------+"
      ]
     },
     "metadata": {},
     "output_type": "display_data"
    },
    {
     "data": {
      "text/html": [
       "<pre>| Attempt | Initial Step Size | Estimated Objective Value                |</pre>"
      ],
      "text/plain": [
       "| Attempt | Initial Step Size | Estimated Objective Value                |"
      ]
     },
     "metadata": {},
     "output_type": "display_data"
    },
    {
     "data": {
      "text/html": [
       "<pre>+---------+-------------------+------------------------------------------+</pre>"
      ],
      "text/plain": [
       "+---------+-------------------+------------------------------------------+"
      ]
     },
     "metadata": {},
     "output_type": "display_data"
    },
    {
     "data": {
      "text/html": [
       "<pre>| 0       | 4.71724           | 0.866694                                 |</pre>"
      ],
      "text/plain": [
       "| 0       | 4.71724           | 0.866694                                 |"
      ]
     },
     "metadata": {},
     "output_type": "display_data"
    },
    {
     "data": {
      "text/html": [
       "<pre>| 1       | 2.35862           | 0.872708                                 |</pre>"
      ],
      "text/plain": [
       "| 1       | 2.35862           | 0.872708                                 |"
      ]
     },
     "metadata": {},
     "output_type": "display_data"
    },
    {
     "data": {
      "text/html": [
       "<pre>| 2       | 1.17931           | 0.866747                                 |</pre>"
      ],
      "text/plain": [
       "| 2       | 1.17931           | 0.866747                                 |"
      ]
     },
     "metadata": {},
     "output_type": "display_data"
    },
    {
     "data": {
      "text/html": [
       "<pre>| 3       | 0.589655          | 0.871322                                 |</pre>"
      ],
      "text/plain": [
       "| 3       | 0.589655          | 0.871322                                 |"
      ]
     },
     "metadata": {},
     "output_type": "display_data"
    },
    {
     "data": {
      "text/html": [
       "<pre>+---------+-------------------+------------------------------------------+</pre>"
      ],
      "text/plain": [
       "+---------+-------------------+------------------------------------------+"
      ]
     },
     "metadata": {},
     "output_type": "display_data"
    },
    {
     "data": {
      "text/html": [
       "<pre>| Final   | 4.71724           | 0.866694                                 |</pre>"
      ],
      "text/plain": [
       "| Final   | 4.71724           | 0.866694                                 |"
      ]
     },
     "metadata": {},
     "output_type": "display_data"
    },
    {
     "data": {
      "text/html": [
       "<pre>+---------+-------------------+------------------------------------------+</pre>"
      ],
      "text/plain": [
       "+---------+-------------------+------------------------------------------+"
      ]
     },
     "metadata": {},
     "output_type": "display_data"
    },
    {
     "data": {
      "text/html": [
       "<pre>Starting Optimization.</pre>"
      ],
      "text/plain": [
       "Starting Optimization."
      ]
     },
     "metadata": {},
     "output_type": "display_data"
    },
    {
     "data": {
      "text/html": [
       "<pre>+---------+--------------+-------------------+-----------------------+-------------+</pre>"
      ],
      "text/plain": [
       "+---------+--------------+-------------------+-----------------------+-------------+"
      ]
     },
     "metadata": {},
     "output_type": "display_data"
    },
    {
     "data": {
      "text/html": [
       "<pre>| Iter.   | Elapsed Time | Approx. Objective | Approx. Training RMSE | Step Size   |</pre>"
      ],
      "text/plain": [
       "| Iter.   | Elapsed Time | Approx. Objective | Approx. Training RMSE | Step Size   |"
      ]
     },
     "metadata": {},
     "output_type": "display_data"
    },
    {
     "data": {
      "text/html": [
       "<pre>+---------+--------------+-------------------+-----------------------+-------------+</pre>"
      ],
      "text/plain": [
       "+---------+--------------+-------------------+-----------------------+-------------+"
      ]
     },
     "metadata": {},
     "output_type": "display_data"
    },
    {
     "data": {
      "text/html": [
       "<pre>| Initial | 103us        | 0.969999          | 0.984885              |             |</pre>"
      ],
      "text/plain": [
       "| Initial | 103us        | 0.969999          | 0.984885              |             |"
      ]
     },
     "metadata": {},
     "output_type": "display_data"
    },
    {
     "data": {
      "text/html": [
       "<pre>+---------+--------------+-------------------+-----------------------+-------------+</pre>"
      ],
      "text/plain": [
       "+---------+--------------+-------------------+-----------------------+-------------+"
      ]
     },
     "metadata": {},
     "output_type": "display_data"
    },
    {
     "data": {
      "text/html": [
       "<pre>| 1       | 571.086ms    | DIVERGED          | DIVERGED              | 4.71724     |</pre>"
      ],
      "text/plain": [
       "| 1       | 571.086ms    | DIVERGED          | DIVERGED              | 4.71724     |"
      ]
     },
     "metadata": {},
     "output_type": "display_data"
    },
    {
     "data": {
      "text/html": [
       "<pre>| RESET   | 573.134ms    | 0.970022          | 0.984897              |             |</pre>"
      ],
      "text/plain": [
       "| RESET   | 573.134ms    | 0.970022          | 0.984897              |             |"
      ]
     },
     "metadata": {},
     "output_type": "display_data"
    },
    {
     "data": {
      "text/html": [
       "<pre>| 1       | 1.16s        | DIVERGED          | DIVERGED              | 2.35862     |</pre>"
      ],
      "text/plain": [
       "| 1       | 1.16s        | DIVERGED          | DIVERGED              | 2.35862     |"
      ]
     },
     "metadata": {},
     "output_type": "display_data"
    },
    {
     "data": {
      "text/html": [
       "<pre>| RESET   | 1.20s        | 0.970021          | 0.984896              |             |</pre>"
      ],
      "text/plain": [
       "| RESET   | 1.20s        | 0.970021          | 0.984896              |             |"
      ]
     },
     "metadata": {},
     "output_type": "display_data"
    },
    {
     "data": {
      "text/html": [
       "<pre>| 1       | 1.83s        | DIVERGED          | DIVERGED              | 1.17931     |</pre>"
      ],
      "text/plain": [
       "| 1       | 1.83s        | DIVERGED          | DIVERGED              | 1.17931     |"
      ]
     },
     "metadata": {},
     "output_type": "display_data"
    },
    {
     "data": {
      "text/html": [
       "<pre>| RESET   | 1.87s        | 0.97002           | 0.984896              |             |</pre>"
      ],
      "text/plain": [
       "| RESET   | 1.87s        | 0.97002           | 0.984896              |             |"
      ]
     },
     "metadata": {},
     "output_type": "display_data"
    },
    {
     "data": {
      "text/html": [
       "<pre>| 1       | 2.46s        | DIVERGED          | DIVERGED              | 0.589655    |</pre>"
      ],
      "text/plain": [
       "| 1       | 2.46s        | DIVERGED          | DIVERGED              | 0.589655    |"
      ]
     },
     "metadata": {},
     "output_type": "display_data"
    },
    {
     "data": {
      "text/html": [
       "<pre>| RESET   | 2.50s        | 0.970037          | 0.984904              |             |</pre>"
      ],
      "text/plain": [
       "| RESET   | 2.50s        | 0.970037          | 0.984904              |             |"
      ]
     },
     "metadata": {},
     "output_type": "display_data"
    },
    {
     "data": {
      "text/html": [
       "<pre>| 1       | 3.01s        | 1.66112           | 1.28381               | 0.294828    |</pre>"
      ],
      "text/plain": [
       "| 1       | 3.01s        | 1.66112           | 1.28381               | 0.294828    |"
      ]
     },
     "metadata": {},
     "output_type": "display_data"
    },
    {
     "data": {
      "text/html": [
       "<pre>| 2       | 3.56s        | 0.97813           | 0.987503              | 0.0527014   |</pre>"
      ],
      "text/plain": [
       "| 2       | 3.56s        | 0.97813           | 0.987503              | 0.0527014   |"
      ]
     },
     "metadata": {},
     "output_type": "display_data"
    },
    {
     "data": {
      "text/html": [
       "<pre>| 3       | 4.11s        | 0.912344          | 0.954002              | 0.028937    |</pre>"
      ],
      "text/plain": [
       "| 3       | 4.11s        | 0.912344          | 0.954002              | 0.028937    |"
      ]
     },
     "metadata": {},
     "output_type": "display_data"
    },
    {
     "data": {
      "text/html": [
       "<pre>| 4       | 4.68s        | 0.891384          | 0.943054              | 0.0196918   |</pre>"
      ],
      "text/plain": [
       "| 4       | 4.68s        | 0.891384          | 0.943054              | 0.0196918   |"
      ]
     },
     "metadata": {},
     "output_type": "display_data"
    },
    {
     "data": {
      "text/html": [
       "<pre>| 5       | 4.69s        | 0.884748          | 0.939437              | 0.0150681   |</pre>"
      ],
      "text/plain": [
       "| 5       | 4.69s        | 0.884748          | 0.939437              | 0.0150681   |"
      ]
     },
     "metadata": {},
     "output_type": "display_data"
    },
    {
     "data": {
      "text/html": [
       "<pre>| 6       | 5.23s        | 0.878646          | 0.93623               | 0.0122028   |</pre>"
      ],
      "text/plain": [
       "| 6       | 5.23s        | 0.878646          | 0.93623               | 0.0122028   |"
      ]
     },
     "metadata": {},
     "output_type": "display_data"
    },
    {
     "data": {
      "text/html": [
       "<pre>| 11      | 7.98s        | 0.865669          | 0.929322              | 0.00625533  |</pre>"
      ],
      "text/plain": [
       "| 11      | 7.98s        | 0.865669          | 0.929322              | 0.00625533  |"
      ]
     },
     "metadata": {},
     "output_type": "display_data"
    },
    {
     "data": {
      "text/html": [
       "<pre>| 16      | 10.73s       | 0.861585          | 0.927135              | 0.00420559  |</pre>"
      ],
      "text/plain": [
       "| 16      | 10.73s       | 0.861585          | 0.927135              | 0.00420559  |"
      ]
     },
     "metadata": {},
     "output_type": "display_data"
    },
    {
     "data": {
      "text/html": [
       "<pre>| 21      | 13.43s       | 0.859697          | 0.926126              | 0.00316763  |</pre>"
      ],
      "text/plain": [
       "| 21      | 13.43s       | 0.859697          | 0.926126              | 0.00316763  |"
      ]
     },
     "metadata": {},
     "output_type": "display_data"
    },
    {
     "data": {
      "text/html": [
       "<pre>| 26      | 16.15s       | 0.858092          | 0.925257              | 0.0025406   |</pre>"
      ],
      "text/plain": [
       "| 26      | 16.15s       | 0.858092          | 0.925257              | 0.0025406   |"
      ]
     },
     "metadata": {},
     "output_type": "display_data"
    },
    {
     "data": {
      "text/html": [
       "<pre>| 31      | 18.91s       | 0.856991          | 0.924669              | 0.00210849  |</pre>"
      ],
      "text/plain": [
       "| 31      | 18.91s       | 0.856991          | 0.924669              | 0.00210849  |"
      ]
     },
     "metadata": {},
     "output_type": "display_data"
    },
    {
     "data": {
      "text/html": [
       "<pre>| 36      | 21.65s       | 0.856379          | 0.924338              | 0.00180181  |</pre>"
      ],
      "text/plain": [
       "| 36      | 21.65s       | 0.856379          | 0.924338              | 0.00180181  |"
      ]
     },
     "metadata": {},
     "output_type": "display_data"
    },
    {
     "data": {
      "text/html": [
       "<pre>| 41      | 24.39s       | 0.855829          | 0.92403               | 0.00157548  |</pre>"
      ],
      "text/plain": [
       "| 41      | 24.39s       | 0.855829          | 0.92403               | 0.00157548  |"
      ]
     },
     "metadata": {},
     "output_type": "display_data"
    },
    {
     "data": {
      "text/html": [
       "<pre>| 46      | 27.24s       | 0.855332          | 0.923767              | 0.00139899  |</pre>"
      ],
      "text/plain": [
       "| 46      | 27.24s       | 0.855332          | 0.923767              | 0.00139899  |"
      ]
     },
     "metadata": {},
     "output_type": "display_data"
    },
    {
     "data": {
      "text/html": [
       "<pre>| 51      | 30.00s       | 0.854877          | 0.923523              | 0.00124026  |</pre>"
      ],
      "text/plain": [
       "| 51      | 30.00s       | 0.854877          | 0.923523              | 0.00124026  |"
      ]
     },
     "metadata": {},
     "output_type": "display_data"
    },
    {
     "data": {
      "text/html": [
       "<pre>| 56      | 32.28s       | 0.85429           | 0.923207              | 0.00107045  |</pre>"
      ],
      "text/plain": [
       "| 56      | 32.28s       | 0.85429           | 0.923207              | 0.00107045  |"
      ]
     },
     "metadata": {},
     "output_type": "display_data"
    },
    {
     "data": {
      "text/html": [
       "<pre>| 61      | 35.00s       | 0.853321          | 0.92268               | 0.000709894 |</pre>"
      ],
      "text/plain": [
       "| 61      | 35.00s       | 0.853321          | 0.92268               | 0.000709894 |"
      ]
     },
     "metadata": {},
     "output_type": "display_data"
    },
    {
     "data": {
      "text/html": [
       "<pre>| 66      | 37.79s       | 0.852379          | 0.92217               | 0.000397888 |</pre>"
      ],
      "text/plain": [
       "| 66      | 37.79s       | 0.852379          | 0.92217               | 0.000397888 |"
      ]
     },
     "metadata": {},
     "output_type": "display_data"
    },
    {
     "data": {
      "text/html": [
       "<pre>| 71      | 40.49s       | 0.851929          | 0.921926              | 0.000266354 |</pre>"
      ],
      "text/plain": [
       "| 71      | 40.49s       | 0.851929          | 0.921926              | 0.000266354 |"
      ]
     },
     "metadata": {},
     "output_type": "display_data"
    },
    {
     "data": {
      "text/html": [
       "<pre>| 76      | 43.20s       | 0.851767          | 0.921839              | 0.000212831 |</pre>"
      ],
      "text/plain": [
       "| 76      | 43.20s       | 0.851767          | 0.921839              | 0.000212831 |"
      ]
     },
     "metadata": {},
     "output_type": "display_data"
    },
    {
     "data": {
      "text/html": [
       "<pre>| 81      | 46.01s       | 0.85147           | 0.921678              | 0.000120645 |</pre>"
      ],
      "text/plain": [
       "| 81      | 46.01s       | 0.85147           | 0.921678              | 0.000120645 |"
      ]
     },
     "metadata": {},
     "output_type": "display_data"
    },
    {
     "data": {
      "text/html": [
       "<pre>| 86      | 48.74s       | 0.851295          | 0.921582              | 6.85847e-05 |</pre>"
      ],
      "text/plain": [
       "| 86      | 48.74s       | 0.851295          | 0.921582              | 6.85847e-05 |"
      ]
     },
     "metadata": {},
     "output_type": "display_data"
    },
    {
     "data": {
      "text/html": [
       "<pre>+---------+--------------+-------------------+-----------------------+-------------+</pre>"
      ],
      "text/plain": [
       "+---------+--------------+-------------------+-----------------------+-------------+"
      ]
     },
     "metadata": {},
     "output_type": "display_data"
    },
    {
     "data": {
      "text/html": [
       "<pre>Optimization Complete: Convergence on objective within bounds.</pre>"
      ],
      "text/plain": [
       "Optimization Complete: Convergence on objective within bounds."
      ]
     },
     "metadata": {},
     "output_type": "display_data"
    },
    {
     "data": {
      "text/html": [
       "<pre>Computing final objective value and training RMSE.</pre>"
      ],
      "text/plain": [
       "Computing final objective value and training RMSE."
      ]
     },
     "metadata": {},
     "output_type": "display_data"
    },
    {
     "data": {
      "text/html": [
       "<pre>       Final objective value: 0.851064</pre>"
      ],
      "text/plain": [
       "       Final objective value: 0.851064"
      ]
     },
     "metadata": {},
     "output_type": "display_data"
    },
    {
     "data": {
      "text/html": [
       "<pre>       Final training RMSE: 0.921457</pre>"
      ],
      "text/plain": [
       "       Final training RMSE: 0.921457"
      ]
     },
     "metadata": {},
     "output_type": "display_data"
    }
   ],
   "source": [
    "rec_engine_comm_baseline = gl.factorization_recommender.create(   observation_data=glCommTrain, \n",
    "                                                    user_id=\"comm\", \n",
    "                                                    item_id=\"bookID\", \n",
    "                                                    target='rating',\n",
    "                                                    num_factors=0,\n",
    "                                                    solver='auto',\n",
    "                                                    max_iterations=200,\n",
    "                                                    regularization = 1e-3,\n",
    "                                                    linear_regularization = 1e-4\n",
    "                                                    )"
   ]
  },
  {
   "cell_type": "code",
   "execution_count": 25,
   "metadata": {
    "collapsed": false
   },
   "outputs": [
    {
     "data": {
      "text/plain": [
       "0.9540824362433775"
      ]
     },
     "execution_count": 25,
     "metadata": {},
     "output_type": "execute_result"
    }
   ],
   "source": [
    "rec_engine_comm_baseline.evaluate_rmse(glCommTest, target='rating')['rmse_overall']"
   ]
  },
  {
   "cell_type": "code",
   "execution_count": 26,
   "metadata": {
    "collapsed": false
   },
   "outputs": [
    {
     "data": {
      "text/html": [
       "<pre>Recsys training: model = factorization_recommender</pre>"
      ],
      "text/plain": [
       "Recsys training: model = factorization_recommender"
      ]
     },
     "metadata": {},
     "output_type": "display_data"
    },
    {
     "data": {
      "text/html": [
       "<pre>Preparing data set.</pre>"
      ],
      "text/plain": [
       "Preparing data set."
      ]
     },
     "metadata": {},
     "output_type": "display_data"
    },
    {
     "data": {
      "text/html": [
       "<pre>    Data has 15583 observations with 70 users and 170 items.</pre>"
      ],
      "text/plain": [
       "    Data has 15583 observations with 70 users and 170 items."
      ]
     },
     "metadata": {},
     "output_type": "display_data"
    },
    {
     "data": {
      "text/html": [
       "<pre>    Data prepared in: 0.074922s</pre>"
      ],
      "text/plain": [
       "    Data prepared in: 0.074922s"
      ]
     },
     "metadata": {},
     "output_type": "display_data"
    },
    {
     "data": {
      "text/html": [
       "<pre>Training factorization_recommender for recommendations.</pre>"
      ],
      "text/plain": [
       "Training factorization_recommender for recommendations."
      ]
     },
     "metadata": {},
     "output_type": "display_data"
    },
    {
     "data": {
      "text/html": [
       "<pre>+--------------------------------+--------------------------------------------------+----------+</pre>"
      ],
      "text/plain": [
       "+--------------------------------+--------------------------------------------------+----------+"
      ]
     },
     "metadata": {},
     "output_type": "display_data"
    },
    {
     "data": {
      "text/html": [
       "<pre>| Parameter                      | Description                                      | Value    |</pre>"
      ],
      "text/plain": [
       "| Parameter                      | Description                                      | Value    |"
      ]
     },
     "metadata": {},
     "output_type": "display_data"
    },
    {
     "data": {
      "text/html": [
       "<pre>+--------------------------------+--------------------------------------------------+----------+</pre>"
      ],
      "text/plain": [
       "+--------------------------------+--------------------------------------------------+----------+"
      ]
     },
     "metadata": {},
     "output_type": "display_data"
    },
    {
     "data": {
      "text/html": [
       "<pre>| num_factors                    | Factor Dimension                                 | 4        |</pre>"
      ],
      "text/plain": [
       "| num_factors                    | Factor Dimension                                 | 4        |"
      ]
     },
     "metadata": {},
     "output_type": "display_data"
    },
    {
     "data": {
      "text/html": [
       "<pre>| regularization                 | L2 Regularization on Factors                     | 1e-06    |</pre>"
      ],
      "text/plain": [
       "| regularization                 | L2 Regularization on Factors                     | 1e-06    |"
      ]
     },
     "metadata": {},
     "output_type": "display_data"
    },
    {
     "data": {
      "text/html": [
       "<pre>| solver                         | Solver used for training                         | sgd      |</pre>"
      ],
      "text/plain": [
       "| solver                         | Solver used for training                         | sgd      |"
      ]
     },
     "metadata": {},
     "output_type": "display_data"
    },
    {
     "data": {
      "text/html": [
       "<pre>| linear_regularization          | L2 Regularization on Linear Coefficients         | 0.0001   |</pre>"
      ],
      "text/plain": [
       "| linear_regularization          | L2 Regularization on Linear Coefficients         | 0.0001   |"
      ]
     },
     "metadata": {},
     "output_type": "display_data"
    },
    {
     "data": {
      "text/html": [
       "<pre>| max_iterations                 | Maximum Number of Iterations                     | 200      |</pre>"
      ],
      "text/plain": [
       "| max_iterations                 | Maximum Number of Iterations                     | 200      |"
      ]
     },
     "metadata": {},
     "output_type": "display_data"
    },
    {
     "data": {
      "text/html": [
       "<pre>+--------------------------------+--------------------------------------------------+----------+</pre>"
      ],
      "text/plain": [
       "+--------------------------------+--------------------------------------------------+----------+"
      ]
     },
     "metadata": {},
     "output_type": "display_data"
    },
    {
     "data": {
      "text/html": [
       "<pre>  Optimizing model using SGD; tuning step size.</pre>"
      ],
      "text/plain": [
       "  Optimizing model using SGD; tuning step size."
      ]
     },
     "metadata": {},
     "output_type": "display_data"
    },
    {
     "data": {
      "text/html": [
       "<pre>  Using 10000 / 15583 points for tuning the step size.</pre>"
      ],
      "text/plain": [
       "  Using 10000 / 15583 points for tuning the step size."
      ]
     },
     "metadata": {},
     "output_type": "display_data"
    },
    {
     "data": {
      "text/html": [
       "<pre>+---------+-------------------+------------------------------------------+</pre>"
      ],
      "text/plain": [
       "+---------+-------------------+------------------------------------------+"
      ]
     },
     "metadata": {},
     "output_type": "display_data"
    },
    {
     "data": {
      "text/html": [
       "<pre>| Attempt | Initial Step Size | Estimated Objective Value                |</pre>"
      ],
      "text/plain": [
       "| Attempt | Initial Step Size | Estimated Objective Value                |"
      ]
     },
     "metadata": {},
     "output_type": "display_data"
    },
    {
     "data": {
      "text/html": [
       "<pre>+---------+-------------------+------------------------------------------+</pre>"
      ],
      "text/plain": [
       "+---------+-------------------+------------------------------------------+"
      ]
     },
     "metadata": {},
     "output_type": "display_data"
    },
    {
     "data": {
      "text/html": [
       "<pre>| 0       | 25                | Not Viable                               |</pre>"
      ],
      "text/plain": [
       "| 0       | 25                | Not Viable                               |"
      ]
     },
     "metadata": {},
     "output_type": "display_data"
    },
    {
     "data": {
      "text/html": [
       "<pre>| 1       | 6.25              | Not Viable                               |</pre>"
      ],
      "text/plain": [
       "| 1       | 6.25              | Not Viable                               |"
      ]
     },
     "metadata": {},
     "output_type": "display_data"
    },
    {
     "data": {
      "text/html": [
       "<pre>| 2       | 1.5625            | Not Viable                               |</pre>"
      ],
      "text/plain": [
       "| 2       | 1.5625            | Not Viable                               |"
      ]
     },
     "metadata": {},
     "output_type": "display_data"
    },
    {
     "data": {
      "text/html": [
       "<pre>| 3       | 0.390625          | Not Viable                               |</pre>"
      ],
      "text/plain": [
       "| 3       | 0.390625          | Not Viable                               |"
      ]
     },
     "metadata": {},
     "output_type": "display_data"
    },
    {
     "data": {
      "text/html": [
       "<pre>| 4       | 0.0976562         | 0.892803                                 |</pre>"
      ],
      "text/plain": [
       "| 4       | 0.0976562         | 0.892803                                 |"
      ]
     },
     "metadata": {},
     "output_type": "display_data"
    },
    {
     "data": {
      "text/html": [
       "<pre>| 5       | 0.0488281         | 0.862522                                 |</pre>"
      ],
      "text/plain": [
       "| 5       | 0.0488281         | 0.862522                                 |"
      ]
     },
     "metadata": {},
     "output_type": "display_data"
    },
    {
     "data": {
      "text/html": [
       "<pre>| 6       | 0.0244141         | 0.853701                                 |</pre>"
      ],
      "text/plain": [
       "| 6       | 0.0244141         | 0.853701                                 |"
      ]
     },
     "metadata": {},
     "output_type": "display_data"
    },
    {
     "data": {
      "text/html": [
       "<pre>| 7       | 0.012207          | 0.852796                                 |</pre>"
      ],
      "text/plain": [
       "| 7       | 0.012207          | 0.852796                                 |"
      ]
     },
     "metadata": {},
     "output_type": "display_data"
    },
    {
     "data": {
      "text/html": [
       "<pre>| 8       | 0.00610352        | 0.854596                                 |</pre>"
      ],
      "text/plain": [
       "| 8       | 0.00610352        | 0.854596                                 |"
      ]
     },
     "metadata": {},
     "output_type": "display_data"
    },
    {
     "data": {
      "text/html": [
       "<pre>| 9       | 0.00305176        | 0.865718                                 |</pre>"
      ],
      "text/plain": [
       "| 9       | 0.00305176        | 0.865718                                 |"
      ]
     },
     "metadata": {},
     "output_type": "display_data"
    },
    {
     "data": {
      "text/html": [
       "<pre>| 10      | 0.00152588        | 0.886116                                 |</pre>"
      ],
      "text/plain": [
       "| 10      | 0.00152588        | 0.886116                                 |"
      ]
     },
     "metadata": {},
     "output_type": "display_data"
    },
    {
     "data": {
      "text/html": [
       "<pre>+---------+-------------------+------------------------------------------+</pre>"
      ],
      "text/plain": [
       "+---------+-------------------+------------------------------------------+"
      ]
     },
     "metadata": {},
     "output_type": "display_data"
    },
    {
     "data": {
      "text/html": [
       "<pre>| Final   | 0.012207          | 0.852796                                 |</pre>"
      ],
      "text/plain": [
       "| Final   | 0.012207          | 0.852796                                 |"
      ]
     },
     "metadata": {},
     "output_type": "display_data"
    },
    {
     "data": {
      "text/html": [
       "<pre>+---------+-------------------+------------------------------------------+</pre>"
      ],
      "text/plain": [
       "+---------+-------------------+------------------------------------------+"
      ]
     },
     "metadata": {},
     "output_type": "display_data"
    },
    {
     "data": {
      "text/html": [
       "<pre>Starting Optimization.</pre>"
      ],
      "text/plain": [
       "Starting Optimization."
      ]
     },
     "metadata": {},
     "output_type": "display_data"
    },
    {
     "data": {
      "text/html": [
       "<pre>+---------+--------------+-------------------+-----------------------+-------------+</pre>"
      ],
      "text/plain": [
       "+---------+--------------+-------------------+-----------------------+-------------+"
      ]
     },
     "metadata": {},
     "output_type": "display_data"
    },
    {
     "data": {
      "text/html": [
       "<pre>| Iter.   | Elapsed Time | Approx. Objective | Approx. Training RMSE | Step Size   |</pre>"
      ],
      "text/plain": [
       "| Iter.   | Elapsed Time | Approx. Objective | Approx. Training RMSE | Step Size   |"
      ]
     },
     "metadata": {},
     "output_type": "display_data"
    },
    {
     "data": {
      "text/html": [
       "<pre>+---------+--------------+-------------------+-----------------------+-------------+</pre>"
      ],
      "text/plain": [
       "+---------+--------------+-------------------+-----------------------+-------------+"
      ]
     },
     "metadata": {},
     "output_type": "display_data"
    },
    {
     "data": {
      "text/html": [
       "<pre>| Initial | 93us         | 0.969999          | 0.984885              |             |</pre>"
      ],
      "text/plain": [
       "| Initial | 93us         | 0.969999          | 0.984885              |             |"
      ]
     },
     "metadata": {},
     "output_type": "display_data"
    },
    {
     "data": {
      "text/html": [
       "<pre>+---------+--------------+-------------------+-----------------------+-------------+</pre>"
      ],
      "text/plain": [
       "+---------+--------------+-------------------+-----------------------+-------------+"
      ]
     },
     "metadata": {},
     "output_type": "display_data"
    },
    {
     "data": {
      "text/html": [
       "<pre>| 1       | 573.544ms    | 0.90091           | 0.948446              | 0.012207    |</pre>"
      ],
      "text/plain": [
       "| 1       | 573.544ms    | 0.90091           | 0.948446              | 0.012207    |"
      ]
     },
     "metadata": {},
     "output_type": "display_data"
    },
    {
     "data": {
      "text/html": [
       "<pre>| 2       | 1.10s        | 0.870904          | 0.932399              | 0.00725834  |</pre>"
      ],
      "text/plain": [
       "| 2       | 1.10s        | 0.870904          | 0.932399              | 0.00725834  |"
      ]
     },
     "metadata": {},
     "output_type": "display_data"
    },
    {
     "data": {
      "text/html": [
       "<pre>| 3       | 1.65s        | 0.865631          | 0.929478              | 0.00535512  |</pre>"
      ],
      "text/plain": [
       "| 3       | 1.65s        | 0.865631          | 0.929478              | 0.00535512  |"
      ]
     },
     "metadata": {},
     "output_type": "display_data"
    },
    {
     "data": {
      "text/html": [
       "<pre>| 4       | 2.21s        | 0.863515          | 0.928315              | 0.00431584  |</pre>"
      ],
      "text/plain": [
       "| 4       | 2.21s        | 0.863515          | 0.928315              | 0.00431584  |"
      ]
     },
     "metadata": {},
     "output_type": "display_data"
    },
    {
     "data": {
      "text/html": [
       "<pre>| 5       | 2.85s        | 0.86155           | 0.927233              | 0.00365075  |</pre>"
      ],
      "text/plain": [
       "| 5       | 2.85s        | 0.86155           | 0.927233              | 0.00365075  |"
      ]
     },
     "metadata": {},
     "output_type": "display_data"
    },
    {
     "data": {
      "text/html": [
       "<pre>| 6       | 3.36s        | 0.860073          | 0.926438              | 0.00318417  |</pre>"
      ],
      "text/plain": [
       "| 6       | 3.36s        | 0.860073          | 0.926438              | 0.00318417  |"
      ]
     },
     "metadata": {},
     "output_type": "display_data"
    },
    {
     "data": {
      "text/html": [
       "<pre>| 10      | 5.52s        | 0.857406          | 0.924968              | 0.00217075  |</pre>"
      ],
      "text/plain": [
       "| 10      | 5.52s        | 0.857406          | 0.924968              | 0.00217075  |"
      ]
     },
     "metadata": {},
     "output_type": "display_data"
    },
    {
     "data": {
      "text/html": [
       "<pre>| 11      | 6.06s        | 0.857071          | 0.924785              | 0.002021    |</pre>"
      ],
      "text/plain": [
       "| 11      | 6.06s        | 0.857071          | 0.924785              | 0.002021    |"
      ]
     },
     "metadata": {},
     "output_type": "display_data"
    },
    {
     "data": {
      "text/html": [
       "<pre>| 15      | 8.17s        | 0.855782          | 0.924074              | 0.00160155  |</pre>"
      ],
      "text/plain": [
       "| 15      | 8.17s        | 0.855782          | 0.924074              | 0.00160155  |"
      ]
     },
     "metadata": {},
     "output_type": "display_data"
    },
    {
     "data": {
      "text/html": [
       "<pre>| 20      | 10.87s       | 0.854974          | 0.923629              | 0.00129074  |</pre>"
      ],
      "text/plain": [
       "| 20      | 10.87s       | 0.854974          | 0.923629              | 0.00129074  |"
      ]
     },
     "metadata": {},
     "output_type": "display_data"
    },
    {
     "data": {
      "text/html": [
       "<pre>| 25      | 13.01s       | 0.853495          | 0.922823              | 0.00077204  |</pre>"
      ],
      "text/plain": [
       "| 25      | 13.01s       | 0.853495          | 0.922823              | 0.00077204  |"
      ]
     },
     "metadata": {},
     "output_type": "display_data"
    },
    {
     "data": {
      "text/html": [
       "<pre>| 30      | 15.66s       | 0.852642          | 0.922356              | 0.000566235 |</pre>"
      ],
      "text/plain": [
       "| 30      | 15.66s       | 0.852642          | 0.922356              | 0.000566235 |"
      ]
     },
     "metadata": {},
     "output_type": "display_data"
    },
    {
     "data": {
      "text/html": [
       "<pre>| 35      | 18.30s       | 0.851729          | 0.921859              | 0.000299926 |</pre>"
      ],
      "text/plain": [
       "| 35      | 18.30s       | 0.851729          | 0.921859              | 0.000299926 |"
      ]
     },
     "metadata": {},
     "output_type": "display_data"
    },
    {
     "data": {
      "text/html": [
       "<pre>| 40      | 20.41s       | 0.851476          | 0.92172               | 0.000271344 |</pre>"
      ],
      "text/plain": [
       "| 40      | 20.41s       | 0.851476          | 0.92172               | 0.000271344 |"
      ]
     },
     "metadata": {},
     "output_type": "display_data"
    },
    {
     "data": {
      "text/html": [
       "<pre>| 45      | 23.08s       | 0.851257          | 0.921601              | 0.000248402 |</pre>"
      ],
      "text/plain": [
       "| 45      | 23.08s       | 0.851257          | 0.921601              | 0.000248402 |"
      ]
     },
     "metadata": {},
     "output_type": "display_data"
    },
    {
     "data": {
      "text/html": [
       "<pre>| 50      | 25.81s       | 0.851011          | 0.921466              | 0.000229529 |</pre>"
      ],
      "text/plain": [
       "| 50      | 25.81s       | 0.851011          | 0.921466              | 0.000229529 |"
      ]
     },
     "metadata": {},
     "output_type": "display_data"
    },
    {
     "data": {
      "text/html": [
       "<pre>| 51      | 26.37s       | 0.850961          | 0.921438              | 0.000226145 |</pre>"
      ],
      "text/plain": [
       "| 51      | 26.37s       | 0.850961          | 0.921438              | 0.000226145 |"
      ]
     },
     "metadata": {},
     "output_type": "display_data"
    },
    {
     "data": {
      "text/html": [
       "<pre>| 55      | 27.98s       | 0.850724          | 0.921309              | 0.000213694 |</pre>"
      ],
      "text/plain": [
       "| 55      | 27.98s       | 0.850724          | 0.921309              | 0.000213694 |"
      ]
     },
     "metadata": {},
     "output_type": "display_data"
    },
    {
     "data": {
      "text/html": [
       "<pre>| 60      | 30.71s       | 0.850422          | 0.921144              | 0.000200194 |</pre>"
      ],
      "text/plain": [
       "| 60      | 30.71s       | 0.850422          | 0.921144              | 0.000200194 |"
      ]
     },
     "metadata": {},
     "output_type": "display_data"
    },
    {
     "data": {
      "text/html": [
       "<pre>| 65      | 33.42s       | 0.850079          | 0.920957              | 0.00018853  |</pre>"
      ],
      "text/plain": [
       "| 65      | 33.42s       | 0.850079          | 0.920957              | 0.00018853  |"
      ]
     },
     "metadata": {},
     "output_type": "display_data"
    },
    {
     "data": {
      "text/html": [
       "<pre>| 70      | 36.16s       | 0.849705          | 0.920753              | 0.000178337 |</pre>"
      ],
      "text/plain": [
       "| 70      | 36.16s       | 0.849705          | 0.920753              | 0.000178337 |"
      ]
     },
     "metadata": {},
     "output_type": "display_data"
    },
    {
     "data": {
      "text/html": [
       "<pre>| 75      | 38.77s       | 0.849304          | 0.920535              | 0.000169344 |</pre>"
      ],
      "text/plain": [
       "| 75      | 38.77s       | 0.849304          | 0.920535              | 0.000169344 |"
      ]
     },
     "metadata": {},
     "output_type": "display_data"
    },
    {
     "data": {
      "text/html": [
       "<pre>| 80      | 41.39s       | 0.848867          | 0.920296              | 0.000161342 |</pre>"
      ],
      "text/plain": [
       "| 80      | 41.39s       | 0.848867          | 0.920296              | 0.000161342 |"
      ]
     },
     "metadata": {},
     "output_type": "display_data"
    },
    {
     "data": {
      "text/html": [
       "<pre>| 85      | 44.01s       | 0.848409          | 0.920046              | 0.00015417  |</pre>"
      ],
      "text/plain": [
       "| 85      | 44.01s       | 0.848409          | 0.920046              | 0.00015417  |"
      ]
     },
     "metadata": {},
     "output_type": "display_data"
    },
    {
     "data": {
      "text/html": [
       "<pre>| 90      | 46.65s       | 0.847922          | 0.919781              | 0.000147701 |</pre>"
      ],
      "text/plain": [
       "| 90      | 46.65s       | 0.847922          | 0.919781              | 0.000147701 |"
      ]
     },
     "metadata": {},
     "output_type": "display_data"
    },
    {
     "data": {
      "text/html": [
       "<pre>| 95      | 49.36s       | 0.847409          | 0.919501              | 0.000141831 |</pre>"
      ],
      "text/plain": [
       "| 95      | 49.36s       | 0.847409          | 0.919501              | 0.000141831 |"
      ]
     },
     "metadata": {},
     "output_type": "display_data"
    },
    {
     "data": {
      "text/html": [
       "<pre>| 100     | 52.08s       | 0.846888          | 0.919216              | 0.000136479 |</pre>"
      ],
      "text/plain": [
       "| 100     | 52.08s       | 0.846888          | 0.919216              | 0.000136479 |"
      ]
     },
     "metadata": {},
     "output_type": "display_data"
    },
    {
     "data": {
      "text/html": [
       "<pre>| 101     | 52.63s       | 0.846779          | 0.919157              | 0.000135464 |</pre>"
      ],
      "text/plain": [
       "| 101     | 52.63s       | 0.846779          | 0.919157              | 0.000135464 |"
      ]
     },
     "metadata": {},
     "output_type": "display_data"
    },
    {
     "data": {
      "text/html": [
       "<pre>| 105     | 54.81s       | 0.84635           | 0.918923              | 0.000131575 |</pre>"
      ],
      "text/plain": [
       "| 105     | 54.81s       | 0.84635           | 0.918923              | 0.000131575 |"
      ]
     },
     "metadata": {},
     "output_type": "display_data"
    },
    {
     "data": {
      "text/html": [
       "<pre>| 110     | 57.49s       | 0.84581           | 0.918628              | 0.000127063 |</pre>"
      ],
      "text/plain": [
       "| 110     | 57.49s       | 0.84581           | 0.918628              | 0.000127063 |"
      ]
     },
     "metadata": {},
     "output_type": "display_data"
    },
    {
     "data": {
      "text/html": [
       "<pre>| 115     | 1m 0s        | 0.845267          | 0.918332              | 0.000122897 |</pre>"
      ],
      "text/plain": [
       "| 115     | 1m 0s        | 0.845267          | 0.918332              | 0.000122897 |"
      ]
     },
     "metadata": {},
     "output_type": "display_data"
    },
    {
     "data": {
      "text/html": [
       "<pre>| 120     | 1m 2s        | 0.844733          | 0.91804               | 0.000119036 |</pre>"
      ],
      "text/plain": [
       "| 120     | 1m 2s        | 0.844733          | 0.91804               | 0.000119036 |"
      ]
     },
     "metadata": {},
     "output_type": "display_data"
    },
    {
     "data": {
      "text/html": [
       "<pre>| 125     | 1m 5s        | 0.844204          | 0.917751              | 0.000115447 |</pre>"
      ],
      "text/plain": [
       "| 125     | 1m 5s        | 0.844204          | 0.917751              | 0.000115447 |"
      ]
     },
     "metadata": {},
     "output_type": "display_data"
    },
    {
     "data": {
      "text/html": [
       "<pre>| 130     | 1m 7s        | 0.843697          | 0.917474              | 0.0001121   |</pre>"
      ],
      "text/plain": [
       "| 130     | 1m 7s        | 0.843697          | 0.917474              | 0.0001121   |"
      ]
     },
     "metadata": {},
     "output_type": "display_data"
    },
    {
     "data": {
      "text/html": [
       "<pre>| 135     | 1m 10s       | 0.843199          | 0.917201              | 0.000108972 |</pre>"
      ],
      "text/plain": [
       "| 135     | 1m 10s       | 0.843199          | 0.917201              | 0.000108972 |"
      ]
     },
     "metadata": {},
     "output_type": "display_data"
    },
    {
     "data": {
      "text/html": [
       "<pre>| 140     | 1m 13s       | 0.842713          | 0.916935              | 0.00010604  |</pre>"
      ],
      "text/plain": [
       "| 140     | 1m 13s       | 0.842713          | 0.916935              | 0.00010604  |"
      ]
     },
     "metadata": {},
     "output_type": "display_data"
    },
    {
     "data": {
      "text/html": [
       "<pre>| 145     | 1m 15s       | 0.842248          | 0.91668               | 0.000103285 |</pre>"
      ],
      "text/plain": [
       "| 145     | 1m 15s       | 0.842248          | 0.91668               | 0.000103285 |"
      ]
     },
     "metadata": {},
     "output_type": "display_data"
    },
    {
     "data": {
      "text/html": [
       "<pre>| 150     | 1m 18s       | 0.841808          | 0.916439              | 0.000100692 |</pre>"
      ],
      "text/plain": [
       "| 150     | 1m 18s       | 0.841808          | 0.916439              | 0.000100692 |"
      ]
     },
     "metadata": {},
     "output_type": "display_data"
    },
    {
     "data": {
      "text/html": [
       "<pre>| 155     | 1m 21s       | 0.841385          | 0.916208              | 9.82463e-05 |</pre>"
      ],
      "text/plain": [
       "| 155     | 1m 21s       | 0.841385          | 0.916208              | 9.82463e-05 |"
      ]
     },
     "metadata": {},
     "output_type": "display_data"
    },
    {
     "data": {
      "text/html": [
       "<pre>| 160     | 1m 23s       | 0.840991          | 0.915991              | 9.59346e-05 |</pre>"
      ],
      "text/plain": [
       "| 160     | 1m 23s       | 0.840991          | 0.915991              | 9.59346e-05 |"
      ]
     },
     "metadata": {},
     "output_type": "display_data"
    },
    {
     "data": {
      "text/html": [
       "<pre>| 165     | 1m 25s       | 0.84061           | 0.915783              | 9.37459e-05 |</pre>"
      ],
      "text/plain": [
       "| 165     | 1m 25s       | 0.84061           | 0.915783              | 9.37459e-05 |"
      ]
     },
     "metadata": {},
     "output_type": "display_data"
    },
    {
     "data": {
      "text/html": [
       "<pre>| 170     | 1m 28s       | 0.84025           | 0.915585              | 9.16702e-05 |</pre>"
      ],
      "text/plain": [
       "| 170     | 1m 28s       | 0.84025           | 0.915585              | 9.16702e-05 |"
      ]
     },
     "metadata": {},
     "output_type": "display_data"
    },
    {
     "data": {
      "text/html": [
       "<pre>| 175     | 1m 31s       | 0.839908          | 0.915397              | 8.96988e-05 |</pre>"
      ],
      "text/plain": [
       "| 175     | 1m 31s       | 0.839908          | 0.915397              | 8.96988e-05 |"
      ]
     },
     "metadata": {},
     "output_type": "display_data"
    },
    {
     "data": {
      "text/html": [
       "<pre>| 180     | 1m 33s       | 0.839588          | 0.915222              | 8.78235e-05 |</pre>"
      ],
      "text/plain": [
       "| 180     | 1m 33s       | 0.839588          | 0.915222              | 8.78235e-05 |"
      ]
     },
     "metadata": {},
     "output_type": "display_data"
    },
    {
     "data": {
      "text/html": [
       "<pre>| 185     | 1m 36s       | 0.839283          | 0.915054              | 8.60372e-05 |</pre>"
      ],
      "text/plain": [
       "| 185     | 1m 36s       | 0.839283          | 0.915054              | 8.60372e-05 |"
      ]
     },
     "metadata": {},
     "output_type": "display_data"
    },
    {
     "data": {
      "text/html": [
       "<pre>| 190     | 1m 38s       | 0.838994          | 0.914896              | 8.43334e-05 |</pre>"
      ],
      "text/plain": [
       "| 190     | 1m 38s       | 0.838994          | 0.914896              | 8.43334e-05 |"
      ]
     },
     "metadata": {},
     "output_type": "display_data"
    },
    {
     "data": {
      "text/html": [
       "<pre>| 195     | 1m 41s       | 0.838719          | 0.914745              | 8.27064e-05 |</pre>"
      ],
      "text/plain": [
       "| 195     | 1m 41s       | 0.838719          | 0.914745              | 8.27064e-05 |"
      ]
     },
     "metadata": {},
     "output_type": "display_data"
    },
    {
     "data": {
      "text/html": [
       "<pre>| 200     | 1m 44s       | 0.838458          | 0.914601              | 8.11508e-05 |</pre>"
      ],
      "text/plain": [
       "| 200     | 1m 44s       | 0.838458          | 0.914601              | 8.11508e-05 |"
      ]
     },
     "metadata": {},
     "output_type": "display_data"
    },
    {
     "data": {
      "text/html": [
       "<pre>+---------+--------------+-------------------+-----------------------+-------------+</pre>"
      ],
      "text/plain": [
       "+---------+--------------+-------------------+-----------------------+-------------+"
      ]
     },
     "metadata": {},
     "output_type": "display_data"
    },
    {
     "data": {
      "text/html": [
       "<pre>Optimization Complete: Maximum number of passes through the data reached.</pre>"
      ],
      "text/plain": [
       "Optimization Complete: Maximum number of passes through the data reached."
      ]
     },
     "metadata": {},
     "output_type": "display_data"
    },
    {
     "data": {
      "text/html": [
       "<pre>Computing final objective value and training RMSE.</pre>"
      ],
      "text/plain": [
       "Computing final objective value and training RMSE."
      ]
     },
     "metadata": {},
     "output_type": "display_data"
    },
    {
     "data": {
      "text/html": [
       "<pre>       Final objective value: 0.838134</pre>"
      ],
      "text/plain": [
       "       Final objective value: 0.838134"
      ]
     },
     "metadata": {},
     "output_type": "display_data"
    },
    {
     "data": {
      "text/html": [
       "<pre>       Final training RMSE: 0.914424</pre>"
      ],
      "text/plain": [
       "       Final training RMSE: 0.914424"
      ]
     },
     "metadata": {},
     "output_type": "display_data"
    }
   ],
   "source": [
    "rec_engine_comm = gl.factorization_recommender.create(   observation_data=glCommTrain, \n",
    "                                                    user_id=\"comm\", \n",
    "                                                    item_id=\"bookID\", \n",
    "                                                    target='rating',\n",
    "                                                    num_factors=4,\n",
    "                                                    solver='auto',\n",
    "                                                    max_iterations=200,\n",
    "                                                    regularization = 1e-6,\n",
    "                                                    linear_regularization = 1e-4\n",
    "                                                    )"
   ]
  },
  {
   "cell_type": "code",
   "execution_count": 27,
   "metadata": {
    "collapsed": false
   },
   "outputs": [
    {
     "name": "stdout",
     "output_type": "stream",
     "text": [
      "0.949743551074\n",
      "-0.00433888516916\n"
     ]
    }
   ],
   "source": [
    "print rec_engine_comm.evaluate_rmse(glCommTest, target='rating')['rmse_overall']\n",
    "print rec_engine_comm.evaluate_rmse(glCommTest, target='rating')['rmse_overall'] - rec_engine_comm_baseline.evaluate_rmse(glCommTest, target='rating')['rmse_overall']"
   ]
  },
  {
   "cell_type": "code",
   "execution_count": null,
   "metadata": {
    "collapsed": true
   },
   "outputs": [],
   "source": [
    "0.949743551074\n",
    "-0.00433888516916\n",
    "In [ ]:\n",
    "In [ ]:\n"
   ]
  },
  {
   "cell_type": "code",
   "execution_count": 28,
   "metadata": {
    "collapsed": false
   },
   "outputs": [
    {
     "data": {
      "text/plain": [
       "0.89795159351865173"
      ]
     },
     "execution_count": 28,
     "metadata": {},
     "output_type": "execute_result"
    }
   ],
   "source": [
    "mixedPred(glRatingsTestWithComm, \\\n",
    "          commMeansTrain, commBookMeansTrain, commBookMeansTrain, rec_engine, rec_engine_comm, \\\n",
    "          False, True, True, 0)[1]"
   ]
  },
  {
   "cell_type": "code",
   "execution_count": 121,
   "metadata": {
    "collapsed": false
   },
   "outputs": [
    {
     "data": {
      "image/png": "[encoded data removed]",
      "text/plain": [
       "<matplotlib.figure.Figure at 0x7f93afa09f10>"
      ]
     },
     "metadata": {},
     "output_type": "display_data"
    }
   ],
   "source": [
    "meanWeights = np.linspace(0,0.3,30)\n",
    "\n",
    "#SIMPLE PREDICTION FROM COMM MEANS\n",
    "rmsesSimple = []\n",
    "\n",
    "for weight in meanWeights:\n",
    "    rmsesSimple.append(\\\n",
    "                mixedPred(glRatingsTestWithComm, \\\n",
    "                          commMeansTrain, commBookMeansTrain, commBookMeansTrain, rec_engine, rec_engine, \\\n",
    "                          False, False, True, weight)[1])\n",
    "\n",
    "#FACTORIZATION RECOMMENDER FOR RAW (COMMUNITY-BOOK-RATING) DATA\n",
    "rmsesSocialRec = []\n",
    "\n",
    "for weight in meanWeights:\n",
    "    rmsesSocialRec.append(\\\n",
    "                mixedPred(glRatingsTestWithComm, \\\n",
    "                          commMeansTrain, commBookMeansTrain, commBookMeansTrain, rec_engine, rec_engine_comm, \\\n",
    "                          False, True, True, weight)[1])\n",
    "\n",
    "\n",
    "plt.plot(meanWeights, rmsesSimple, '-');\n",
    "plt.plot(meanWeights, rmsesSocialRec, '-');\n",
    "plt.axhline(rmsesSimple[0],color='k',linestyle='--');"
   ]
  },
  {
   "cell_type": "code",
   "execution_count": 32,
   "metadata": {
    "collapsed": false
   },
   "outputs": [
    {
     "name": "stderr",
     "output_type": "stream",
     "text": [
      "[INFO] graphlab.deploy.job: Validating job.\n",
      "[INFO] graphlab.deploy.job: Creating a LocalAsync environment called 'async'.\n",
      "[INFO] graphlab.deploy.map_job: Validation complete. Job: 'Model-Parameter-Search-Nov-28-2016-01-39-2000000' ready for execution\n",
      "[INFO] graphlab.deploy.map_job: Job: 'Model-Parameter-Search-Nov-28-2016-01-39-2000000' scheduled.\n",
      "[INFO] graphlab.deploy.job: Validating job.\n",
      "[INFO] graphlab.deploy.map_job: A job with name 'Model-Parameter-Search-Nov-28-2016-01-39-2000000' already exists. Renaming the job to 'Model-Parameter-Search-Nov-28-2016-01-39-2000000-b0524'.\n",
      "[INFO] graphlab.deploy.map_job: Validation complete. Job: 'Model-Parameter-Search-Nov-28-2016-01-39-2000000-b0524' ready for execution\n",
      "[INFO] graphlab.deploy.map_job: Job: 'Model-Parameter-Search-Nov-28-2016-01-39-2000000-b0524' scheduled.\n",
      "[INFO] graphlab.deploy.job: Validating job.\n",
      "[INFO] graphlab.deploy.map_job: Validation complete. Job: 'Model-Parameter-Search-Nov-28-2016-01-39-2000001' ready for execution\n",
      "[INFO] graphlab.deploy.map_job: Job: 'Model-Parameter-Search-Nov-28-2016-01-39-2000001' scheduled.\n"
     ]
    }
   ],
   "source": [
    "'''\n",
    "models = gl.toolkits.model_parameter_search.grid_search.create((glCommTrain, glCommTest),\n",
    "                                                     gl.factorization_recommender.create,\n",
    "                                                     {'user_id': 'comm',\n",
    "                                                      'item_id': 'bookID',\n",
    "                                                      'target': 'rating',\n",
    "                                                      'num_factors': [4, 8, 16, 32],\n",
    "                                                      'max_iterations': 1000,\n",
    "                                                      'regularization': [1e-5, 1e-6, 1e-7, 1e-8],\n",
    "                                                      'linear_regularization': 1e-4\n",
    "                                                      })\n",
    "                                                      '''"
   ]
  },
  {
   "cell_type": "code",
   "execution_count": 157,
   "metadata": {
    "collapsed": false
   },
   "outputs": [
    {
     "data": {
      "text/plain": [
       "{'Canceled': 0, 'Completed': 0, 'Failed': 0, 'Pending': 0, 'Running': 16}"
      ]
     },
     "execution_count": 157,
     "metadata": {},
     "output_type": "execute_result"
    }
   ],
   "source": [
    "models.get_status()"
   ]
  },
  {
   "cell_type": "code",
   "execution_count": 123,
   "metadata": {
    "collapsed": false
   },
   "outputs": [
    {
     "name": "stdout",
     "output_type": "stream",
     "text": [
      "0.144827586207\n",
      "0.892663869255\n",
      "\n",
      "0.124137931034\n",
      "0.896846389937\n"
     ]
    }
   ],
   "source": [
    "print meanWeights[np.argmin(rmsesSimple)]\n",
    "print rmsesSimple[np.argmin(rmsesSimple)]\n",
    "\n",
    "print ''\n",
    "\n",
    "print meanWeights[np.argmin(rmsesSocialRec)]\n",
    "print rmsesSocialRec[np.argmin(rmsesSocialRec)]"
   ]
  },
  {
   "cell_type": "code",
   "execution_count": 124,
   "metadata": {
    "collapsed": true
   },
   "outputs": [],
   "source": [
    "bestWeightComm = meanWeights[np.argmin(rmsesSimple)]\n",
    "\n",
    "predsComm = mixedPred(glRatingsTestWithComm, \\\n",
    "                          commMeansTrain, commBookMeansTrain, commBookMeansTrain, rec_engine, rec_engine_comm, \\\n",
    "                          False, False, True, bestWeightComm)[0]\n",
    "\n",
    "predsBase = mixedPred(glRatingsTestWithComm, \\\n",
    "                          commMeansTrain, commBookMeansTrain, commBookMeansTrain, rec_engine, rec_engine_comm, \\\n",
    "                          False, True, True, 0)[0]"
   ]
  },
  {
   "cell_type": "code",
   "execution_count": 125,
   "metadata": {
    "collapsed": false
   },
   "outputs": [
    {
     "data": {
      "text/html": [
       "<div style=\"max-height:1000px;max-width:1500px;overflow:auto;\"><table frame=\"box\" rules=\"cols\">\n",
       "    <tr>\n",
       "        <th style=\"padding-left: 1em; padding-right: 1em; text-align: center\">bookID</th>\n",
       "        <th style=\"padding-left: 1em; padding-right: 1em; text-align: center\">userID</th>\n",
       "        <th style=\"padding-left: 1em; padding-right: 1em; text-align: center\">comm</th>\n",
       "        <th style=\"padding-left: 1em; padding-right: 1em; text-align: center\">rating</th>\n",
       "        <th style=\"padding-left: 1em; padding-right: 1em; text-align: center\">predsComm</th>\n",
       "        <th style=\"padding-left: 1em; padding-right: 1em; text-align: center\">predsBase</th>\n",
       "    </tr>\n",
       "    <tr>\n",
       "        <td style=\"padding-left: 1em; padding-right: 1em; text-align: center; vertical-align: top\">394535</td>\n",
       "        <td style=\"padding-left: 1em; padding-right: 1em; text-align: center; vertical-align: top\">160216</td>\n",
       "        <td style=\"padding-left: 1em; padding-right: 1em; text-align: center; vertical-align: top\">30</td>\n",
       "        <td style=\"padding-left: 1em; padding-right: 1em; text-align: center; vertical-align: top\">5</td>\n",
       "        <td style=\"padding-left: 1em; padding-right: 1em; text-align: center; vertical-align: top\">4.02063938171</td>\n",
       "        <td style=\"padding-left: 1em; padding-right: 1em; text-align: center; vertical-align: top\">4.02719170742</td>\n",
       "    </tr>\n",
       "    <tr>\n",
       "        <td style=\"padding-left: 1em; padding-right: 1em; text-align: center; vertical-align: top\">9717</td>\n",
       "        <td style=\"padding-left: 1em; padding-right: 1em; text-align: center; vertical-align: top\">160216</td>\n",
       "        <td style=\"padding-left: 1em; padding-right: 1em; text-align: center; vertical-align: top\">30</td>\n",
       "        <td style=\"padding-left: 1em; padding-right: 1em; text-align: center; vertical-align: top\">3</td>\n",
       "        <td style=\"padding-left: 1em; padding-right: 1em; text-align: center; vertical-align: top\">3.74233595163</td>\n",
       "        <td style=\"padding-left: 1em; padding-right: 1em; text-align: center; vertical-align: top\">3.75515091118</td>\n",
       "    </tr>\n",
       "    <tr>\n",
       "        <td style=\"padding-left: 1em; padding-right: 1em; text-align: center; vertical-align: top\">7613</td>\n",
       "        <td style=\"padding-left: 1em; padding-right: 1em; text-align: center; vertical-align: top\">160216</td>\n",
       "        <td style=\"padding-left: 1em; padding-right: 1em; text-align: center; vertical-align: top\">30</td>\n",
       "        <td style=\"padding-left: 1em; padding-right: 1em; text-align: center; vertical-align: top\">4</td>\n",
       "        <td style=\"padding-left: 1em; padding-right: 1em; text-align: center; vertical-align: top\">3.74696593649</td>\n",
       "        <td style=\"padding-left: 1em; padding-right: 1em; text-align: center; vertical-align: top\">3.74645210316</td>\n",
       "    </tr>\n",
       "    <tr>\n",
       "        <td style=\"padding-left: 1em; padding-right: 1em; text-align: center; vertical-align: top\">2956</td>\n",
       "        <td style=\"padding-left: 1em; padding-right: 1em; text-align: center; vertical-align: top\">160216</td>\n",
       "        <td style=\"padding-left: 1em; padding-right: 1em; text-align: center; vertical-align: top\">30</td>\n",
       "        <td style=\"padding-left: 1em; padding-right: 1em; text-align: center; vertical-align: top\">2</td>\n",
       "        <td style=\"padding-left: 1em; padding-right: 1em; text-align: center; vertical-align: top\">3.86955629972</td>\n",
       "        <td style=\"padding-left: 1em; padding-right: 1em; text-align: center; vertical-align: top\">3.72044889887</td>\n",
       "    </tr>\n",
       "    <tr>\n",
       "        <td style=\"padding-left: 1em; padding-right: 1em; text-align: center; vertical-align: top\">6295</td>\n",
       "        <td style=\"padding-left: 1em; padding-right: 1em; text-align: center; vertical-align: top\">160216</td>\n",
       "        <td style=\"padding-left: 1em; padding-right: 1em; text-align: center; vertical-align: top\">30</td>\n",
       "        <td style=\"padding-left: 1em; padding-right: 1em; text-align: center; vertical-align: top\">3</td>\n",
       "        <td style=\"padding-left: 1em; padding-right: 1em; text-align: center; vertical-align: top\">3.75665295018</td>\n",
       "        <td style=\"padding-left: 1em; padding-right: 1em; text-align: center; vertical-align: top\">3.71849789635</td>\n",
       "    </tr>\n",
       "    <tr>\n",
       "        <td style=\"padding-left: 1em; padding-right: 1em; text-align: center; vertical-align: top\">19543</td>\n",
       "        <td style=\"padding-left: 1em; padding-right: 1em; text-align: center; vertical-align: top\">1</td>\n",
       "        <td style=\"padding-left: 1em; padding-right: 1em; text-align: center; vertical-align: top\">31</td>\n",
       "        <td style=\"padding-left: 1em; padding-right: 1em; text-align: center; vertical-align: top\">5</td>\n",
       "        <td style=\"padding-left: 1em; padding-right: 1em; text-align: center; vertical-align: top\">4.44285118763</td>\n",
       "        <td style=\"padding-left: 1em; padding-right: 1em; text-align: center; vertical-align: top\">4.6872050178</td>\n",
       "    </tr>\n",
       "    <tr>\n",
       "        <td style=\"padding-left: 1em; padding-right: 1em; text-align: center; vertical-align: top\">12296</td>\n",
       "        <td style=\"padding-left: 1em; padding-right: 1em; text-align: center; vertical-align: top\">1</td>\n",
       "        <td style=\"padding-left: 1em; padding-right: 1em; text-align: center; vertical-align: top\">31</td>\n",
       "        <td style=\"padding-left: 1em; padding-right: 1em; text-align: center; vertical-align: top\">3</td>\n",
       "        <td style=\"padding-left: 1em; padding-right: 1em; text-align: center; vertical-align: top\">3.62764927669</td>\n",
       "        <td style=\"padding-left: 1em; padding-right: 1em; text-align: center; vertical-align: top\">3.64926729935</td>\n",
       "    </tr>\n",
       "    <tr>\n",
       "        <td style=\"padding-left: 1em; padding-right: 1em; text-align: center; vertical-align: top\">10365</td>\n",
       "        <td style=\"padding-left: 1em; padding-right: 1em; text-align: center; vertical-align: top\">1</td>\n",
       "        <td style=\"padding-left: 1em; padding-right: 1em; text-align: center; vertical-align: top\">31</td>\n",
       "        <td style=\"padding-left: 1em; padding-right: 1em; text-align: center; vertical-align: top\">5</td>\n",
       "        <td style=\"padding-left: 1em; padding-right: 1em; text-align: center; vertical-align: top\">4.51229427253</td>\n",
       "        <td style=\"padding-left: 1em; padding-right: 1em; text-align: center; vertical-align: top\">4.42969894772</td>\n",
       "    </tr>\n",
       "    <tr>\n",
       "        <td style=\"padding-left: 1em; padding-right: 1em; text-align: center; vertical-align: top\">14497</td>\n",
       "        <td style=\"padding-left: 1em; padding-right: 1em; text-align: center; vertical-align: top\">1</td>\n",
       "        <td style=\"padding-left: 1em; padding-right: 1em; text-align: center; vertical-align: top\">31</td>\n",
       "        <td style=\"padding-left: 1em; padding-right: 1em; text-align: center; vertical-align: top\">4</td>\n",
       "        <td style=\"padding-left: 1em; padding-right: 1em; text-align: center; vertical-align: top\">4.30287935406</td>\n",
       "        <td style=\"padding-left: 1em; padding-right: 1em; text-align: center; vertical-align: top\">4.43885085757</td>\n",
       "    </tr>\n",
       "    <tr>\n",
       "        <td style=\"padding-left: 1em; padding-right: 1em; text-align: center; vertical-align: top\">48855</td>\n",
       "        <td style=\"padding-left: 1em; padding-right: 1em; text-align: center; vertical-align: top\">1</td>\n",
       "        <td style=\"padding-left: 1em; padding-right: 1em; text-align: center; vertical-align: top\">31</td>\n",
       "        <td style=\"padding-left: 1em; padding-right: 1em; text-align: center; vertical-align: top\">4</td>\n",
       "        <td style=\"padding-left: 1em; padding-right: 1em; text-align: center; vertical-align: top\">4.37227714375</td>\n",
       "        <td style=\"padding-left: 1em; padding-right: 1em; text-align: center; vertical-align: top\">4.4614213824</td>\n",
       "    </tr>\n",
       "</table>\n",
       "[3934 rows x 6 columns]<br/>Note: Only the head of the SFrame is printed.<br/>You can use print_rows(num_rows=m, num_columns=n) to print more rows and columns.\n",
       "</div>"
      ],
      "text/plain": [
       "Columns:\n",
       "\tbookID\tstr\n",
       "\tuserID\tint\n",
       "\tcomm\tint\n",
       "\trating\tint\n",
       "\tpredsComm\tfloat\n",
       "\tpredsBase\tfloat\n",
       "\n",
       "Rows: 3934\n",
       "\n",
       "Data:\n",
       "+--------+--------+------+--------+---------------+---------------+\n",
       "| bookID | userID | comm | rating |   predsComm   |   predsBase   |\n",
       "+--------+--------+------+--------+---------------+---------------+\n",
       "| 394535 | 160216 |  30  |   5    | 4.02063938171 | 4.02719170742 |\n",
       "|  9717  | 160216 |  30  |   3    | 3.74233595163 | 3.75515091118 |\n",
       "|  7613  | 160216 |  30  |   4    | 3.74696593649 | 3.74645210316 |\n",
       "|  2956  | 160216 |  30  |   2    | 3.86955629972 | 3.72044889887 |\n",
       "|  6295  | 160216 |  30  |   3    | 3.75665295018 | 3.71849789635 |\n",
       "| 19543  |   1    |  31  |   5    | 4.44285118763 |  4.6872050178 |\n",
       "| 12296  |   1    |  31  |   3    | 3.62764927669 | 3.64926729935 |\n",
       "| 10365  |   1    |  31  |   5    | 4.51229427253 | 4.42969894772 |\n",
       "| 14497  |   1    |  31  |   4    | 4.30287935406 | 4.43885085757 |\n",
       "| 48855  |   1    |  31  |   4    | 4.37227714375 |  4.4614213824 |\n",
       "+--------+--------+------+--------+---------------+---------------+\n",
       "[3934 rows x 6 columns]\n",
       "Note: Only the head of the SFrame is printed.\n",
       "You can use print_rows(num_rows=m, num_columns=n) to print more rows and columns."
      ]
     },
     "execution_count": 125,
     "metadata": {},
     "output_type": "execute_result"
    }
   ],
   "source": [
    "signTestFrame = glRatingsTestWithComm[['bookID','userID','comm','rating']].copy()\n",
    "signTestFrame.add_column(gl.SArray(predsComm), 'predsComm')\n",
    "signTestFrame.add_column(gl.SArray(predsBase), 'predsBase')"
   ]
  },
  {
   "cell_type": "code",
   "execution_count": 126,
   "metadata": {
    "collapsed": false
   },
   "outputs": [
    {
     "data": {
      "text/plain": [
       "0.51576004067107273"
      ]
     },
     "execution_count": 126,
     "metadata": {},
     "output_type": "execute_result"
    }
   ],
   "source": [
    "errsBase = np.abs(np.array(signTestFrame['rating'] - signTestFrame['predsBase']))\n",
    "errsBase\n",
    "\n",
    "errsComm = np.abs(np.array(signTestFrame['rating'] - signTestFrame['predsComm']))\n",
    "(errsComm < errsBase).mean()"
   ]
  },
  {
   "cell_type": "code",
   "execution_count": 127,
   "metadata": {
    "collapsed": false
   },
   "outputs": [],
   "source": [
    "roundedPredsBase = np.round(predsBase)\n",
    "roundedPredsComm = np.round(predsComm)"
   ]
  },
  {
   "cell_type": "code",
   "execution_count": 128,
   "metadata": {
    "collapsed": false
   },
   "outputs": [
    {
     "data": {
      "text/plain": [
       "0.42348754448398579"
      ]
     },
     "execution_count": 128,
     "metadata": {},
     "output_type": "execute_result"
    }
   ],
   "source": [
    "(roundedPredsBase == signTestFrame['rating']).mean()"
   ]
  },
  {
   "cell_type": "code",
   "execution_count": 129,
   "metadata": {
    "collapsed": false
   },
   "outputs": [
    {
     "data": {
      "text/plain": [
       "0.42069140823589224"
      ]
     },
     "execution_count": 129,
     "metadata": {},
     "output_type": "execute_result"
    }
   ],
   "source": [
    "(roundedPredsComm == signTestFrame['rating']).mean()"
   ]
  },
  {
   "cell_type": "code",
   "execution_count": 130,
   "metadata": {
    "collapsed": false
   },
   "outputs": [
    {
     "data": {
      "image/png": "[encoded data removed]",
      "text/plain": [
       "<matplotlib.figure.Figure at 0x7f938c3b6910>"
      ]
     },
     "metadata": {},
     "output_type": "display_data"
    }
   ],
   "source": [
    "preds_by_rating = []\n",
    "rating_cats = range(1,6)\n",
    "\n",
    "for rating in rating_cats:\n",
    "    preds_by_rating.append(list(predsBase[np.array(glRatingsTest['rating']) == rating]))\n",
    "\n",
    "plt.violinplot(preds_by_rating, positions=rating_cats);\n",
    "plt.xlabel('Observed rating');\n",
    "plt.ylabel('Predicted rating');\n",
    "for rating in rating_cats:\n",
    "    plt.axhline(rating,linestyle='--',linewidth=1,alpha=0.5)"
   ]
  },
  {
   "cell_type": "code",
   "execution_count": 152,
   "metadata": {
    "collapsed": false
   },
   "outputs": [
    {
     "name": "stdout",
     "output_type": "stream",
     "text": [
      "(0, 3.2848400712211192)\n",
      "(1, 3.4583918527565776)\n",
      "(2, 3.6915827127897818)\n",
      "(3, 3.9184163286921092)\n",
      "(4, 4.1266416383023667)\n"
     ]
    }
   ],
   "source": [
    "for i, category in enumerate(preds_by_rating):\n",
    "    print (i, np.mean(category))"
   ]
  },
  {
   "cell_type": "code",
   "execution_count": 163,
   "metadata": {
    "collapsed": false
   },
   "outputs": [
    {
     "data": {
      "text/plain": [
       "(array([   96.,     0.,   276.,     0.,     0.,   847.,     0.,  1499.,\n",
       "            0.,  1216.]),\n",
       " array([ 1. ,  1.4,  1.8,  2.2,  2.6,  3. ,  3.4,  3.8,  4.2,  4.6,  5. ]),\n",
       " <a list of 10 Patch objects>)"
      ]
     },
     "execution_count": 163,
     "metadata": {},
     "output_type": "execute_result"
    },
    {
     "data": {
      "image/png": "[encoded data removed]",
      "text/plain": [
       "<matplotlib.figure.Figure at 0x7f93af88fc90>"
      ]
     },
     "metadata": {},
     "output_type": "display_data"
    }
   ],
   "source": [
    "plt.hist(glRatingsTest['rating'])"
   ]
  },
  {
   "cell_type": "code",
   "execution_count": 164,
   "metadata": {
    "collapsed": true
   },
   "outputs": [],
   "source": [
    "coef_dict = rec_engine.get('coefficients')"
   ]
  },
  {
   "cell_type": "code",
   "execution_count": 166,
   "metadata": {
    "collapsed": false
   },
   "outputs": [
    {
     "data": {
      "text/html": [
       "<div style=\"max-height:1000px;max-width:1500px;overflow:auto;\"><table frame=\"box\" rules=\"cols\">\n",
       "    <tr>\n",
       "        <th style=\"padding-left: 1em; padding-right: 1em; text-align: center\">userID</th>\n",
       "        <th style=\"padding-left: 1em; padding-right: 1em; text-align: center\">linear_terms</th>\n",
       "        <th style=\"padding-left: 1em; padding-right: 1em; text-align: center\">factors</th>\n",
       "    </tr>\n",
       "    <tr>\n",
       "        <td style=\"padding-left: 1em; padding-right: 1em; text-align: center; vertical-align: top\">160216</td>\n",
       "        <td style=\"padding-left: 1em; padding-right: 1em; text-align: center; vertical-align: top\">-0.112027734518</td>\n",
       "        <td style=\"padding-left: 1em; padding-right: 1em; text-align: center; vertical-align: top\">[0.0097519736737,<br>0.0252745822072, ...</td>\n",
       "    </tr>\n",
       "    <tr>\n",
       "        <td style=\"padding-left: 1em; padding-right: 1em; text-align: center; vertical-align: top\">1</td>\n",
       "        <td style=\"padding-left: 1em; padding-right: 1em; text-align: center; vertical-align: top\">0.39820125699</td>\n",
       "        <td style=\"padding-left: 1em; padding-right: 1em; text-align: center; vertical-align: top\">[-0.00699024228379,<br>-0.0271312911063, ...</td>\n",
       "    </tr>\n",
       "    <tr>\n",
       "        <td style=\"padding-left: 1em; padding-right: 1em; text-align: center; vertical-align: top\">177</td>\n",
       "        <td style=\"padding-left: 1em; padding-right: 1em; text-align: center; vertical-align: top\">-0.268160998821</td>\n",
       "        <td style=\"padding-left: 1em; padding-right: 1em; text-align: center; vertical-align: top\">[0.00728796655312,<br>0.0196600388736, ...</td>\n",
       "    </tr>\n",
       "    <tr>\n",
       "        <td style=\"padding-left: 1em; padding-right: 1em; text-align: center; vertical-align: top\">270</td>\n",
       "        <td style=\"padding-left: 1em; padding-right: 1em; text-align: center; vertical-align: top\">-0.0685844495893</td>\n",
       "        <td style=\"padding-left: 1em; padding-right: 1em; text-align: center; vertical-align: top\">[-0.0102906404063,<br>-0.121005155146, ...</td>\n",
       "    </tr>\n",
       "    <tr>\n",
       "        <td style=\"padding-left: 1em; padding-right: 1em; text-align: center; vertical-align: top\">4852</td>\n",
       "        <td style=\"padding-left: 1em; padding-right: 1em; text-align: center; vertical-align: top\">-0.367633551359</td>\n",
       "        <td style=\"padding-left: 1em; padding-right: 1em; text-align: center; vertical-align: top\">[-0.006593931932,<br>-0.0461627207696, ...</td>\n",
       "    </tr>\n",
       "    <tr>\n",
       "        <td style=\"padding-left: 1em; padding-right: 1em; text-align: center; vertical-align: top\">44323</td>\n",
       "        <td style=\"padding-left: 1em; padding-right: 1em; text-align: center; vertical-align: top\">0.449285835028</td>\n",
       "        <td style=\"padding-left: 1em; padding-right: 1em; text-align: center; vertical-align: top\">[0.00444597098976,<br>0.0255383364856, ...</td>\n",
       "    </tr>\n",
       "    <tr>\n",
       "        <td style=\"padding-left: 1em; padding-right: 1em; text-align: center; vertical-align: top\">46020</td>\n",
       "        <td style=\"padding-left: 1em; padding-right: 1em; text-align: center; vertical-align: top\">0.533422529697</td>\n",
       "        <td style=\"padding-left: 1em; padding-right: 1em; text-align: center; vertical-align: top\">[0.00563824409619,<br>0.019762178883, ...</td>\n",
       "    </tr>\n",
       "    <tr>\n",
       "        <td style=\"padding-left: 1em; padding-right: 1em; text-align: center; vertical-align: top\">7099</td>\n",
       "        <td style=\"padding-left: 1em; padding-right: 1em; text-align: center; vertical-align: top\">0.169484212995</td>\n",
       "        <td style=\"padding-left: 1em; padding-right: 1em; text-align: center; vertical-align: top\">[-0.00122683122754,<br>0.0338310003281, ...</td>\n",
       "    </tr>\n",
       "    <tr>\n",
       "        <td style=\"padding-left: 1em; padding-right: 1em; text-align: center; vertical-align: top\">17893</td>\n",
       "        <td style=\"padding-left: 1em; padding-right: 1em; text-align: center; vertical-align: top\">0.0107212429866</td>\n",
       "        <td style=\"padding-left: 1em; padding-right: 1em; text-align: center; vertical-align: top\">[0.000461884250399,<br>0.0123364524916, ...</td>\n",
       "    </tr>\n",
       "    <tr>\n",
       "        <td style=\"padding-left: 1em; padding-right: 1em; text-align: center; vertical-align: top\">13136</td>\n",
       "        <td style=\"padding-left: 1em; padding-right: 1em; text-align: center; vertical-align: top\">-0.866620004177</td>\n",
       "        <td style=\"padding-left: 1em; padding-right: 1em; text-align: center; vertical-align: top\">[0.00617108587176,<br>0.00421393755823, ...</td>\n",
       "    </tr>\n",
       "</table>\n",
       "[533 rows x 3 columns]<br/>Note: Only the head of the SFrame is printed.<br/>You can use print_rows(num_rows=m, num_columns=n) to print more rows and columns.\n",
       "</div>"
      ],
      "text/plain": [
       "Columns:\n",
       "\tuserID\tint\n",
       "\tlinear_terms\tfloat\n",
       "\tfactors\tarray\n",
       "\n",
       "Rows: 533\n",
       "\n",
       "Data:\n",
       "+--------+------------------+-------------------------------+\n",
       "| userID |   linear_terms   |            factors            |\n",
       "+--------+------------------+-------------------------------+\n",
       "| 160216 | -0.112027734518  | [0.0097519736737, 0.025274... |\n",
       "|   1    |  0.39820125699   | [-0.00699024228379, -0.027... |\n",
       "|  177   | -0.268160998821  | [0.00728796655312, 0.01966... |\n",
       "|  270   | -0.0685844495893 | [-0.0102906404063, -0.1210... |\n",
       "|  4852  | -0.367633551359  | [-0.006593931932, -0.04616... |\n",
       "| 44323  |  0.449285835028  | [0.00444597098976, 0.02553... |\n",
       "| 46020  |  0.533422529697  | [0.00563824409619, 0.01976... |\n",
       "|  7099  |  0.169484212995  | [-0.00122683122754, 0.0338... |\n",
       "| 17893  | 0.0107212429866  | [0.000461884250399, 0.0123... |\n",
       "| 13136  | -0.866620004177  | [0.00617108587176, 0.00421... |\n",
       "+--------+------------------+-------------------------------+\n",
       "[533 rows x 3 columns]\n",
       "Note: Only the head of the SFrame is printed.\n",
       "You can use print_rows(num_rows=m, num_columns=n) to print more rows and columns."
      ]
     },
     "execution_count": 166,
     "metadata": {},
     "output_type": "execute_result"
    }
   ],
   "source": [
    "coef_dict['userID']"
   ]
  },
  {
   "cell_type": "code",
   "execution_count": 172,
   "metadata": {
    "collapsed": false
   },
   "outputs": [],
   "source": [
    "numCommsByBook = {k: len(v) for k, v in booksToRaterComms.items() if k in glRatings['bookID']}"
   ]
  },
  {
   "cell_type": "code",
   "execution_count": 286,
   "metadata": {
    "collapsed": false
   },
   "outputs": [
    {
     "data": {
      "text/plain": [
       "[(4473, 40),\n",
       " (6310, 40),\n",
       " (6514, 40),\n",
       " (7445, 40),\n",
       " (7588, 40),\n",
       " (1622, 40),\n",
       " (11275, 40),\n",
       " (37415, 40),\n",
       " (49041, 40),\n",
       " (62291, 40)]"
      ]
     },
     "execution_count": 286,
     "metadata": {},
     "output_type": "execute_result"
    }
   ],
   "source": [
    "[(k, v) for k, v in numCommsByBook.items() if v == 40]"
   ]
  },
  {
   "cell_type": "code",
   "execution_count": 287,
   "metadata": {
    "collapsed": false
   },
   "outputs": [
    {
     "name": "stdout",
     "output_type": "stream",
     "text": [
      "4473\n",
      "(u'A Prayer for Owen Meany', 234899)\n",
      "6310\n",
      "(u'Charlie and the Chocolate Factory\\n      \\n          (Charlie Bucket #1)', 478461)\n",
      "6514\n",
      "(u'The Bell Jar', 416788)\n",
      "7445\n",
      "(u'The Glass Castle', 603127)\n",
      "7588\n",
      "(u'A Portrait of the Artist as a Young Man', 97488)\n",
      "1622\n",
      "(u\"A Midsummer Night's Dream\", 336536)\n",
      "11275\n",
      "(u'The Wind-Up Bird Chronicle\\n      \\n          (\\u306d\\u3058\\u307e\\u304d\\u9ce5\\u30af\\u30ed\\u30cb\\u30af\\u30eb #1-3)', 146490)\n",
      "37415\n",
      "(u'Their Eyes Were Watching God', 184857)\n",
      "49041\n",
      "(u'New Moon\\n      \\n          (Twilight  #2)', 1146697)\n",
      "62291\n",
      "(u'A Storm of Swords\\n      \\n          (A Song of Ice and Fire #3)', 488072)\n"
     ]
    }
   ],
   "source": [
    "for bID in [k for k, v in numCommsByBook.items() if v  == 40]:\n",
    "    print bID\n",
    "    print bookTitle(bID)"
   ]
  },
  {
   "cell_type": "code",
   "execution_count": 331,
   "metadata": {
    "collapsed": false
   },
   "outputs": [
    {
     "name": "stdout",
     "output_type": "stream",
     "text": [
      "Community 31\n",
      "1 raters\n",
      "4.0 mean rating\n",
      "Earliest rating on Jan 08, 2007\n",
      "\n",
      "Total raters thus far: 1\n",
      "\n",
      "Community 50\n",
      "4 raters\n",
      "2.2 mean rating\n",
      "Earliest rating on Feb 20, 2007\n",
      "\n",
      "Total raters thus far: 5\n",
      "\n",
      "Community 33\n",
      "5 raters\n",
      "4.0 mean rating\n",
      "Earliest rating on Feb 22, 2007\n",
      "\n",
      "Total raters thus far: 10\n",
      "\n",
      "Community 21\n",
      "1 raters\n",
      "4.0 mean rating\n",
      "Earliest rating on Feb 24, 2007\n",
      "\n",
      "Total raters thus far: 11\n",
      "\n",
      "Community 27\n",
      "1 raters\n",
      "5.0 mean rating\n",
      "Earliest rating on Feb 27, 2007\n",
      "\n",
      "Total raters thus far: 12\n",
      "\n",
      "Community 20\n",
      "3 raters\n",
      "4.3 mean rating\n",
      "Earliest rating on Mar 03, 2007\n",
      "\n",
      "Total raters thus far: 15\n",
      "\n",
      "Community 60\n",
      "2 raters\n",
      "4.0 mean rating\n",
      "Earliest rating on Mar 11, 2007\n",
      "\n",
      "Total raters thus far: 17\n",
      "\n",
      "Community 61\n",
      "1 raters\n",
      "5.0 mean rating\n",
      "Earliest rating on Mar 15, 2007\n",
      "\n",
      "Total raters thus far: 18\n",
      "\n",
      "Community 1\n",
      "3 raters\n",
      "4.0 mean rating\n",
      "Earliest rating on Mar 16, 2007\n",
      "\n",
      "Total raters thus far: 21\n",
      "\n",
      "Community 66\n",
      "4 raters\n",
      "4.2 mean rating\n",
      "Earliest rating on Mar 20, 2007\n",
      "\n",
      "Total raters thus far: 25\n",
      "\n",
      "Community 75\n",
      "3 raters\n",
      "5.0 mean rating\n",
      "Earliest rating on Mar 20, 2007\n",
      "\n",
      "Total raters thus far: 28\n",
      "\n",
      "Community 38\n",
      "1 raters\n",
      "4.0 mean rating\n",
      "Earliest rating on Apr 02, 2007\n",
      "\n",
      "Total raters thus far: 29\n",
      "\n",
      "Community 17\n",
      "3 raters\n",
      "3.0 mean rating\n",
      "Earliest rating on Apr 18, 2007\n",
      "\n",
      "Total raters thus far: 32\n",
      "\n",
      "Community 71\n",
      "2 raters\n",
      "4.5 mean rating\n",
      "Earliest rating on Apr 25, 2007\n",
      "\n",
      "Total raters thus far: 34\n",
      "\n",
      "Community 73\n",
      "2 raters\n",
      "3.0 mean rating\n",
      "Earliest rating on Jun 04, 2007\n",
      "\n",
      "Total raters thus far: 36\n",
      "\n",
      "Community 46\n",
      "3 raters\n",
      "4.0 mean rating\n",
      "Earliest rating on Jun 22, 2007\n",
      "\n",
      "Total raters thus far: 39\n",
      "\n",
      "Community 25\n",
      "1 raters\n",
      "4.0 mean rating\n",
      "Earliest rating on Jun 29, 2007\n",
      "\n",
      "Total raters thus far: 40\n",
      "\n",
      "Community 40\n",
      "3 raters\n",
      "4.0 mean rating\n",
      "Earliest rating on Aug 06, 2007\n",
      "\n",
      "Total raters thus far: 43\n",
      "\n",
      "Community 32\n",
      "1 raters\n",
      "5.0 mean rating\n",
      "Earliest rating on Aug 22, 2007\n",
      "\n",
      "Total raters thus far: 44\n",
      "\n",
      "Community 65\n",
      "4 raters\n",
      "4.8 mean rating\n",
      "Earliest rating on Sep 12, 2007\n",
      "\n",
      "Total raters thus far: 48\n",
      "\n",
      "Community 19\n",
      "4 raters\n",
      "4.0 mean rating\n",
      "Earliest rating on Dec 26, 2007\n",
      "\n",
      "Total raters thus far: 52\n",
      "\n",
      "Community 41\n",
      "3 raters\n",
      "3.7 mean rating\n",
      "Earliest rating on Jan 15, 2008\n",
      "\n",
      "Total raters thus far: 55\n",
      "\n",
      "Community 22\n",
      "1 raters\n",
      "5.0 mean rating\n",
      "Earliest rating on Feb 27, 2008\n",
      "\n",
      "Total raters thus far: 56\n",
      "\n",
      "Community 49\n",
      "3 raters\n",
      "5.0 mean rating\n",
      "Earliest rating on Mar 04, 2008\n",
      "\n",
      "Total raters thus far: 59\n",
      "\n",
      "Community 53\n",
      "1 raters\n",
      "5.0 mean rating\n",
      "Earliest rating on Mar 07, 2008\n",
      "\n",
      "Total raters thus far: 60\n",
      "\n",
      "Community 63\n",
      "1 raters\n",
      "3.0 mean rating\n",
      "Earliest rating on Jan 04, 2009\n",
      "\n",
      "Total raters thus far: 61\n",
      "\n",
      "Community 11\n",
      "3 raters\n",
      "2.7 mean rating\n",
      "Earliest rating on Feb 15, 2009\n",
      "\n",
      "Total raters thus far: 64\n",
      "\n",
      "Community 35\n",
      "1 raters\n",
      "4.0 mean rating\n",
      "Earliest rating on Feb 24, 2009\n",
      "\n",
      "Total raters thus far: 65\n",
      "\n",
      "Community 45\n",
      "1 raters\n",
      "3.0 mean rating\n",
      "Earliest rating on Jun 13, 2009\n",
      "\n",
      "Total raters thus far: 66\n",
      "\n",
      "Community 30\n",
      "1 raters\n",
      "4.0 mean rating\n",
      "Earliest rating on Jul 25, 2009\n",
      "\n",
      "Total raters thus far: 67\n",
      "\n",
      "Community 48\n",
      "43 raters\n",
      "4.1 mean rating\n",
      "Earliest rating on Sep 21, 2010\n",
      "\n",
      "Total raters thus far: 110\n",
      "\n",
      "Community 4\n",
      "1 raters\n",
      "4.0 mean rating\n",
      "Earliest rating on Apr 11, 2011\n",
      "\n",
      "Total raters thus far: 111\n",
      "\n",
      "Community 2\n",
      "12 raters\n",
      "3.8 mean rating\n",
      "Earliest rating on May 31, 2011\n",
      "\n",
      "Total raters thus far: 123\n",
      "\n",
      "Community 18\n",
      "2 raters\n",
      "2.0 mean rating\n",
      "Earliest rating on Nov 17, 2011\n",
      "\n",
      "Total raters thus far: 125\n",
      "\n",
      "Community 43\n",
      "1 raters\n",
      "5.0 mean rating\n",
      "Earliest rating on Feb 15, 2012\n",
      "\n",
      "Total raters thus far: 126\n",
      "\n",
      "Community 10\n",
      "2 raters\n",
      "3.5 mean rating\n",
      "Earliest rating on Apr 30, 2012\n",
      "\n",
      "Total raters thus far: 128\n",
      "\n",
      "Community 55\n",
      "1 raters\n",
      "5.0 mean rating\n",
      "Earliest rating on May 02, 2013\n",
      "\n",
      "Total raters thus far: 129\n",
      "\n",
      "Community 47\n",
      "1 raters\n",
      "4.0 mean rating\n",
      "Earliest rating on Oct 17, 2013\n",
      "\n",
      "Total raters thus far: 130\n",
      "\n",
      "Community 70\n",
      "1 raters\n",
      "4.0 mean rating\n",
      "Earliest rating on Feb 02, 2014\n",
      "\n",
      "Total raters thus far: 131\n",
      "\n",
      "Community 16\n",
      "1 raters\n",
      "4.0 mean rating\n",
      "Earliest rating on Nov 14, 2014\n",
      "\n",
      "Total raters thus far: 132\n",
      "\n"
     ]
    }
   ],
   "source": [
    "testBID = 11275\n",
    "\n",
    "commIndices = []\n",
    "allCommBookRatings = []\n",
    "numRaters = []\n",
    "meanRatings = []\n",
    "earliestTimes = []\n",
    "\n",
    "for commIndex in booksToRaterComms[testBID]:\n",
    "    commRatings = ratingsFull.find({'userID': {'$in': allComms[commIndex]}})\n",
    "    commBookRatings = [(r['ratings'][str(testBID)][0], \\\n",
    "                        datetime.strptime(r['ratings'][str(testBID)][2], grDateFormat), \\\n",
    "                        r['userID'])\\\n",
    "                       for r in commRatings if str(testBID) in r['ratings'].keys()]\n",
    "    allCommBookRatings.append(commBookRatings)\n",
    "    \n",
    "    commIndices.append(commIndex)\n",
    "    numRaters.append(len(commBookRatings))\n",
    "    meanRatings.append(np.mean(np.array(commBookRatings)[:,0]))\n",
    "    earliestTimes.append(min(r[1] for r in commBookRatings))\n",
    "\n",
    "timeOrder = np.argsort(earliestTimes)\n",
    "\n",
    "numRatersCumSum = 0\n",
    "for i in timeOrder:\n",
    "    print 'Community %d' % commIndices[i]\n",
    "    print '%d raters' % numRaters[i]\n",
    "    numRatersCumSum += numRaters[i]\n",
    "    print '%.1f mean rating' % meanRatings[i]\n",
    "    print 'Earliest rating on %s' % datetime.strftime(earliestTimes[i], grDateFormat)\n",
    "    print '\\nTotal raters thus far: %d\\n' % numRatersCumSum"
   ]
  },
  {
   "cell_type": "code",
   "execution_count": 339,
   "metadata": {
    "collapsed": false
   },
   "outputs": [
    {
     "data": {
      "text/html": [
       "<div style=\"max-height:1000px;max-width:1500px;overflow:auto;\"><table frame=\"box\" rules=\"cols\">\n",
       "    <tr>\n",
       "        <th style=\"padding-left: 1em; padding-right: 1em; text-align: center\">bookID</th>\n",
       "        <th style=\"padding-left: 1em; padding-right: 1em; text-align: center\">userID</th>\n",
       "        <th style=\"padding-left: 1em; padding-right: 1em; text-align: center\">comm</th>\n",
       "        <th style=\"padding-left: 1em; padding-right: 1em; text-align: center\">rating</th>\n",
       "        <th style=\"padding-left: 1em; padding-right: 1em; text-align: center\">predsComm</th>\n",
       "        <th style=\"padding-left: 1em; padding-right: 1em; text-align: center\">predsBase</th>\n",
       "    </tr>\n",
       "    <tr>\n",
       "        <td style=\"padding-left: 1em; padding-right: 1em; text-align: center; vertical-align: top\">11275</td>\n",
       "        <td style=\"padding-left: 1em; padding-right: 1em; text-align: center; vertical-align: top\">8864511</td>\n",
       "        <td style=\"padding-left: 1em; padding-right: 1em; text-align: center; vertical-align: top\">48</td>\n",
       "        <td style=\"padding-left: 1em; padding-right: 1em; text-align: center; vertical-align: top\">4</td>\n",
       "        <td style=\"padding-left: 1em; padding-right: 1em; text-align: center; vertical-align: top\">3.8848849856</td>\n",
       "        <td style=\"padding-left: 1em; padding-right: 1em; text-align: center; vertical-align: top\">3.80561740489</td>\n",
       "    </tr>\n",
       "    <tr>\n",
       "        <td style=\"padding-left: 1em; padding-right: 1em; text-align: center; vertical-align: top\">11275</td>\n",
       "        <td style=\"padding-left: 1em; padding-right: 1em; text-align: center; vertical-align: top\">8068801</td>\n",
       "        <td style=\"padding-left: 1em; padding-right: 1em; text-align: center; vertical-align: top\">48</td>\n",
       "        <td style=\"padding-left: 1em; padding-right: 1em; text-align: center; vertical-align: top\">4</td>\n",
       "        <td style=\"padding-left: 1em; padding-right: 1em; text-align: center; vertical-align: top\">4.05736732805</td>\n",
       "        <td style=\"padding-left: 1em; padding-right: 1em; text-align: center; vertical-align: top\">4.00731046663</td>\n",
       "    </tr>\n",
       "    <tr>\n",
       "        <td style=\"padding-left: 1em; padding-right: 1em; text-align: center; vertical-align: top\">11275</td>\n",
       "        <td style=\"padding-left: 1em; padding-right: 1em; text-align: center; vertical-align: top\">7551020</td>\n",
       "        <td style=\"padding-left: 1em; padding-right: 1em; text-align: center; vertical-align: top\">48</td>\n",
       "        <td style=\"padding-left: 1em; padding-right: 1em; text-align: center; vertical-align: top\">4</td>\n",
       "        <td style=\"padding-left: 1em; padding-right: 1em; text-align: center; vertical-align: top\">3.62097712839</td>\n",
       "        <td style=\"padding-left: 1em; padding-right: 1em; text-align: center; vertical-align: top\">3.49701547508</td>\n",
       "    </tr>\n",
       "    <tr>\n",
       "        <td style=\"padding-left: 1em; padding-right: 1em; text-align: center; vertical-align: top\">11275</td>\n",
       "        <td style=\"padding-left: 1em; padding-right: 1em; text-align: center; vertical-align: top\">6512932</td>\n",
       "        <td style=\"padding-left: 1em; padding-right: 1em; text-align: center; vertical-align: top\">48</td>\n",
       "        <td style=\"padding-left: 1em; padding-right: 1em; text-align: center; vertical-align: top\">4</td>\n",
       "        <td style=\"padding-left: 1em; padding-right: 1em; text-align: center; vertical-align: top\">3.83948903149</td>\n",
       "        <td style=\"padding-left: 1em; padding-right: 1em; text-align: center; vertical-align: top\">3.75253342629</td>\n",
       "    </tr>\n",
       "    <tr>\n",
       "        <td style=\"padding-left: 1em; padding-right: 1em; text-align: center; vertical-align: top\">11275</td>\n",
       "        <td style=\"padding-left: 1em; padding-right: 1em; text-align: center; vertical-align: top\">9136579</td>\n",
       "        <td style=\"padding-left: 1em; padding-right: 1em; text-align: center; vertical-align: top\">48</td>\n",
       "        <td style=\"padding-left: 1em; padding-right: 1em; text-align: center; vertical-align: top\">1</td>\n",
       "        <td style=\"padding-left: 1em; padding-right: 1em; text-align: center; vertical-align: top\">4.42307089795</td>\n",
       "        <td style=\"padding-left: 1em; padding-right: 1em; text-align: center; vertical-align: top\">4.43494770561</td>\n",
       "    </tr>\n",
       "    <tr>\n",
       "        <td style=\"padding-left: 1em; padding-right: 1em; text-align: center; vertical-align: top\">11275</td>\n",
       "        <td style=\"padding-left: 1em; padding-right: 1em; text-align: center; vertical-align: top\">19571542</td>\n",
       "        <td style=\"padding-left: 1em; padding-right: 1em; text-align: center; vertical-align: top\">48</td>\n",
       "        <td style=\"padding-left: 1em; padding-right: 1em; text-align: center; vertical-align: top\">5</td>\n",
       "        <td style=\"padding-left: 1em; padding-right: 1em; text-align: center; vertical-align: top\">4.80670836147</td>\n",
       "        <td style=\"padding-left: 1em; padding-right: 1em; text-align: center; vertical-align: top\">4.8835560299</td>\n",
       "    </tr>\n",
       "    <tr>\n",
       "        <td style=\"padding-left: 1em; padding-right: 1em; text-align: center; vertical-align: top\">11275</td>\n",
       "        <td style=\"padding-left: 1em; padding-right: 1em; text-align: center; vertical-align: top\">4318144</td>\n",
       "        <td style=\"padding-left: 1em; padding-right: 1em; text-align: center; vertical-align: top\">48</td>\n",
       "        <td style=\"padding-left: 1em; padding-right: 1em; text-align: center; vertical-align: top\">5</td>\n",
       "        <td style=\"padding-left: 1em; padding-right: 1em; text-align: center; vertical-align: top\">4.57200901103</td>\n",
       "        <td style=\"padding-left: 1em; padding-right: 1em; text-align: center; vertical-align: top\">4.60910920882</td>\n",
       "    </tr>\n",
       "</table>\n",
       "[? rows x 6 columns]<br/>Note: Only the head of the SFrame is printed. This SFrame is lazily evaluated.<br/>You can use sf.materialize() to force materialization.\n",
       "</div>"
      ],
      "text/plain": [
       "Columns:\n",
       "\tbookID\tstr\n",
       "\tuserID\tint\n",
       "\tcomm\tint\n",
       "\trating\tint\n",
       "\tpredsComm\tfloat\n",
       "\tpredsBase\tfloat\n",
       "\n",
       "Rows: Unknown\n",
       "\n",
       "Data:\n",
       "+--------+----------+------+--------+---------------+---------------+\n",
       "| bookID |  userID  | comm | rating |   predsComm   |   predsBase   |\n",
       "+--------+----------+------+--------+---------------+---------------+\n",
       "| 11275  | 8864511  |  48  |   4    |  3.8848849856 | 3.80561740489 |\n",
       "| 11275  | 8068801  |  48  |   4    | 4.05736732805 | 4.00731046663 |\n",
       "| 11275  | 7551020  |  48  |   4    | 3.62097712839 | 3.49701547508 |\n",
       "| 11275  | 6512932  |  48  |   4    | 3.83948903149 | 3.75253342629 |\n",
       "| 11275  | 9136579  |  48  |   1    | 4.42307089795 | 4.43494770561 |\n",
       "| 11275  | 19571542 |  48  |   5    | 4.80670836147 |  4.8835560299 |\n",
       "| 11275  | 4318144  |  48  |   5    | 4.57200901103 | 4.60910920882 |\n",
       "+--------+----------+------+--------+---------------+---------------+\n",
       "[? rows x 6 columns]\n",
       "Note: Only the head of the SFrame is printed. This SFrame is lazily evaluated.\n",
       "You can use sf.materialize() to force materialization."
      ]
     },
     "execution_count": 339,
     "metadata": {},
     "output_type": "execute_result"
    }
   ],
   "source": [
    "relevantSTF = signTestFrame[signTestFrame.apply(lambda x: x['comm'] == 48 and x['bookID'] == str(testBID))]\n",
    "relevantSTF"
   ]
  },
  {
   "cell_type": "code",
   "execution_count": 340,
   "metadata": {
    "collapsed": false
   },
   "outputs": [
    {
     "data": {
      "text/plain": [
       "{4318144, 6512932, 7551020, 8068801, 8864511, 9136579, 19571542}"
      ]
     },
     "execution_count": 340,
     "metadata": {},
     "output_type": "execute_result"
    }
   ],
   "source": [
    "set(relevantSTF['userID']) & set(np.array(allCommBookRatings[np.argwhere(np.array(commIndices)==48)[0,0]])[:,2])"
   ]
  },
  {
   "cell_type": "code",
   "execution_count": null,
   "metadata": {
    "collapsed": false
   },
   "outputs": [],
   "source": [
    "set(relevantSTF['userID'])"
   ]
  },
  {
   "cell_type": "code",
   "execution_count": null,
   "metadata": {
    "collapsed": true
   },
   "outputs": [],
   "source": []
  }
 ],
 "metadata": {
  "anaconda-cloud": {},
  "kernelspec": {
   "display_name": "Python [conda root]",
   "language": "python",
   "name": "conda-root-py"
  },
  "language_info": {
   "codemirror_mode": {
    "name": "ipython",
    "version": 2
   },
   "file_extension": ".py",
   "mimetype": "text/x-python",
   "name": "python",
   "nbconvert_exporter": "python",
   "pygments_lexer": "ipython2",
   "version": "2.7.12"
  }
 },
 "nbformat": 4,
 "nbformat_minor": 1
}

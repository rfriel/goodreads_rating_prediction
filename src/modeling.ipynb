{
 "cells": [
  {
   "cell_type": "code",
   "execution_count": 35,
   "metadata": {
    "collapsed": false
   },
   "outputs": [],
   "source": [
    "%reload_ext autoreload\n",
    "%autoreload 2\n",
    "from scrape_GR_tools import *\n",
    "from scrape_explore import *\n",
    "from friend_groups import *\n",
    "from modeling import *\n",
    "#put this in scrape_GR_tools\n",
    "import pandas as pd\n",
    "\n",
    "import graphlab as gl\n",
    "\n",
    "import networkx as nx\n",
    "import nxpd as nxpd\n",
    "from IPython.display import display, Image\n",
    "import community\n",
    "\n",
    "from datetime import date, datetime\n",
    "grDateFormat = '%b %d, %Y'\n",
    "\n",
    "%matplotlib inline\n",
    "import matplotlib.pyplot as plt\n",
    "from matplotlib import colors\n",
    "\n",
    "from itertools import product"
   ]
  },
  {
   "cell_type": "markdown",
   "metadata": {},
   "source": [
    "SETTING UP DATA FOR PREDICTION"
   ]
  },
  {
   "cell_type": "code",
   "execution_count": 2,
   "metadata": {
    "collapsed": false
   },
   "outputs": [],
   "source": [
    "client = MongoClient(\"mongodb://35.163.255.3\") #bigCruncher"
   ]
  },
  {
   "cell_type": "code",
   "execution_count": 3,
   "metadata": {
    "collapsed": false
   },
   "outputs": [
    {
     "name": "stdout",
     "output_type": "stream",
     "text": [
      "Checking database 'goodreads_explore_from_book_tnc'\n",
      "Database has 0 comms (we now have 0 in total)\n",
      "\n",
      "Checking database 'goodreads_explore_from_book_ender'\n",
      "Database has 11 comms (we now have 11 in total)\n",
      "\n",
      "Checking database 'goodreads_explore_from_book_fault_in_our_stars'\n",
      "Database has 0 comms (we now have 11 in total)\n",
      "\n",
      "Checking database 'goodreads_explore_from_book_hedgehog'\n",
      "Database has 2 comms (we now have 13 in total)\n",
      "\n",
      "Checking database 'goodreads_explore_from_book_pride_and_prejudice'\n",
      "Database has 9 comms (we now have 22 in total)\n",
      "\n",
      "Checking database 'goodreads_explore_from_book_mice_and_men'\n",
      "Database has 11 comms (we now have 33 in total)\n",
      "\n",
      "Checking database 'goodreads_explore_from_book_jest'\n",
      "Database has 19 comms (we now have 52 in total)\n",
      "\n",
      "Checking database 'goodreads_explore_from_book_swiftly'\n",
      "Database has 0 comms (we now have 52 in total)\n",
      "\n",
      "Checking database 'goodreads_explore_from_book_lies'\n",
      "Database has 0 comms (we now have 52 in total)\n",
      "\n",
      "Checking database 'goodreads_explore_from_book_alchemist'\n",
      "Database has 7 comms (we now have 59 in total)\n",
      "\n",
      "Checking database 'goodreads_explore_from_book_house_of_leaves'\n",
      "Database has 7 comms (we now have 66 in total)\n",
      "\n",
      "Checking database 'goodreads_explore_from_book_sun_also_rises'\n",
      "Database has 8 comms (we now have 74 in total)\n",
      "\n",
      "Checking database 'goodreads_explore_from_book_divergent'\n",
      "Database has 0 comms (we now have 74 in total)\n",
      "\n",
      "Checking database 'goodreads_explore_from_book_game_of_thrones'\n",
      "Database has 3 comms (we now have 77 in total)\n",
      "\n",
      "Checking database 'goodreads_explore_from_book_manifesto'\n",
      "Database has 5 comms (we now have 82 in total)\n",
      "\n",
      "Finished collecting comms.  We have 82 comms in total.  Pruning...\n",
      "\n",
      "Comms 6 and 20 were identical; removing 6\n",
      "\n",
      "Comms 14 and 67 were identical; removing 14\n",
      "\n",
      "Comms 18 and 70 were identical; removing 18\n",
      "\n",
      "Comms 37 and 80 were identical; removing 37\n",
      "\n",
      "Comms 43 and 77 were identical; removing 43\n",
      "\n",
      "Comms 71 and 81 were identical; removing 71\n",
      "\n",
      "Began with 82 comms, now have 76 after pruning.\n"
     ]
    }
   ],
   "source": [
    "allComms = collectAllComms(client)"
   ]
  },
  {
   "cell_type": "code",
   "execution_count": 4,
   "metadata": {
    "collapsed": false,
    "scrolled": true
   },
   "outputs": [],
   "source": [
    "dbFull = client['goodreads_full']\n",
    "\n",
    "ratingsFull = dbFull['ratings']\n",
    "friendsFull = dbFull['friends']\n",
    "booksFull = dbFull['books']\n",
    "\n",
    "#updateCommsOfRaters2(booksFull, allComms)\n",
    "#updateCommsOfRaters(ratingsFull, booksFull, allComms)\n",
    "booksToRaterComms = getCommsOfRaters(ratingsFull, allComms)"
   ]
  },
  {
   "cell_type": "code",
   "execution_count": 47,
   "metadata": {
    "collapsed": false
   },
   "outputs": [],
   "source": [
    "glRatings = makeRecommenderInputs(ratingsFull, booksFull, allComms, booksToRaterComms, 20, 20, False)"
   ]
  },
  {
   "cell_type": "code",
   "execution_count": 60,
   "metadata": {
    "collapsed": false
   },
   "outputs": [],
   "source": [
    "'''\n",
    "glRatingsTrain, glRatingsTest = gl.recommender.util.random_split_by_user(glRatings, \n",
    "                                                    user_id=\"userID\", \n",
    "                                                    item_id=\"bookID\")\n",
    "'''\n",
    "\n",
    "glRatingsTrain, glRatingsTest = makeRecommenderInputs(ratingsFull, booksFull, allComms, booksToRaterComms, 20, 20,\\\n",
    "                                                     True, datetime.strptime('Sep 20, 2010', grDateFormat))"
   ]
  },
  {
   "cell_type": "code",
   "execution_count": null,
   "metadata": {
    "collapsed": false
   },
   "outputs": [],
   "source": []
  },
  {
   "cell_type": "code",
   "execution_count": 65,
   "metadata": {
    "collapsed": false
   },
   "outputs": [
    {
     "data": {
      "text/plain": [
       "0.7167553191489362"
      ]
     },
     "execution_count": 65,
     "metadata": {},
     "output_type": "execute_result"
    }
   ],
   "source": [
    "numRatingsByUser = glRatingsTrain.groupby(['userID'], {'numRatings': gl.aggregate.COUNT('rating')})['numRatings']\n",
    "numRatingsByUser = pd.Series(numRatingsByUser)\n",
    "(numRatingsByUser >= 20).mean()"
   ]
  },
  {
   "cell_type": "code",
   "execution_count": 66,
   "metadata": {
    "collapsed": false
   },
   "outputs": [
    {
     "data": {
      "text/plain": [
       "0.6322827125119389"
      ]
     },
     "execution_count": 66,
     "metadata": {},
     "output_type": "execute_result"
    }
   ],
   "source": [
    "numRatingsByBook = glRatingsTrain.groupby(['bookID'], {'numRatings': gl.aggregate.COUNT('rating')})['numRatings']\n",
    "numRatingsByBook = pd.Series(numRatingsByBook)\n",
    "(numRatingsByBook >= 20).mean()"
   ]
  },
  {
   "cell_type": "markdown",
   "metadata": {},
   "source": [
    "PREDICTION"
   ]
  },
  {
   "cell_type": "markdown",
   "metadata": {},
   "source": [
    "TRADITIONAL RECOMMENDER"
   ]
  },
  {
   "cell_type": "code",
   "execution_count": 67,
   "metadata": {
    "collapsed": true
   },
   "outputs": [],
   "source": [
    "# make sure we train the recommender without community information\n",
    "\n",
    "glRatingsTrainWithComm = glRatingsTrain.copy()\n",
    "glRatingsTestWithComm = glRatingsTest.copy()\n",
    "\n",
    "if 'comm' in glRatingsTrain.column_names():\n",
    "    glRatingsTrain.remove_column('comm');\n",
    "if 'comm' in glRatingsTest.column_names():\n",
    "    glRatingsTest.remove_column('comm');"
   ]
  },
  {
   "cell_type": "code",
   "execution_count": 68,
   "metadata": {
    "collapsed": false
   },
   "outputs": [
    {
     "name": "stdout",
     "output_type": "stream",
     "text": [
      "36916 observations\n",
      "752 users\n",
      "1047 books\n",
      "\n",
      "A recommender with 0 factor(s) (plus linear terms) would use 4.9% of the degrees of freedom present in the data.\n",
      "(20.5 observations per model degree of freedom)\n",
      "\n",
      "A recommender with 1 factor(s) (plus linear terms) would use 9.7% of the degrees of freedom present in the data.\n",
      "(10.3 observations per model degree of freedom)\n",
      "\n",
      "A recommender with 2 factor(s) (plus linear terms) would use 14.6% of the degrees of freedom present in the data.\n",
      "(6.8 observations per model degree of freedom)\n",
      "\n",
      "A recommender with 3 factor(s) (plus linear terms) would use 19.5% of the degrees of freedom present in the data.\n",
      "(5.1 observations per model degree of freedom)\n",
      "\n",
      "A recommender with 4 factor(s) (plus linear terms) would use 24.4% of the degrees of freedom present in the data.\n",
      "(4.1 observations per model degree of freedom)\n",
      "\n",
      "A recommender with 5 factor(s) (plus linear terms) would use 29.2% of the degrees of freedom present in the data.\n",
      "(3.4 observations per model degree of freedom)\n",
      "\n",
      "A recommender with 6 factor(s) (plus linear terms) would use 34.1% of the degrees of freedom present in the data.\n",
      "(2.9 observations per model degree of freedom)\n",
      "\n",
      "A recommender with 7 factor(s) (plus linear terms) would use 39.0% of the degrees of freedom present in the data.\n",
      "(2.6 observations per model degree of freedom)\n",
      "\n",
      "A recommender with 8 factor(s) (plus linear terms) would use 43.9% of the degrees of freedom present in the data.\n",
      "(2.3 observations per model degree of freedom)\n",
      "\n"
     ]
    }
   ],
   "source": [
    "degreesOfFreedomStats(glRatingsTrain)"
   ]
  },
  {
   "cell_type": "code",
   "execution_count": null,
   "metadata": {
    "collapsed": false
   },
   "outputs": [
    {
     "name": "stderr",
     "output_type": "stream",
     "text": [
      "[INFO] graphlab.deploy.job: Validating job.\n",
      "[INFO] graphlab.deploy.map_job: Validation complete. Job: 'Model-Parameter-Search-Nov-28-2016-00-01-3700000' ready for execution\n",
      "[INFO] graphlab.deploy.map_job: Job: 'Model-Parameter-Search-Nov-28-2016-00-01-3700000' scheduled.\n"
     ]
    }
   ],
   "source": [
    "\n",
    "models = gl.toolkits.model_parameter_search.grid_search.create((glRatingsTrain, glRatingsTest),\n",
    "                                                     gl.factorization_recommender.create,\n",
    "                                                     {'user_id': 'userID',\n",
    "                                                      'item_id': 'bookID',\n",
    "                                                      'target': 'rating',\n",
    "                                                      'num_factors': [2, 4, 8],\n",
    "                                                      'max_iterations': 2000,\n",
    "                                                      'regularization': [1e-3, 1e-4, 1e-5],\n",
    "                                                      'linear_regularization': 1e-4\n",
    "                                                      })\n",
    "'''\n",
    "models = gl.toolkits.model_parameter_search.grid_search.create((glRatingsTrain, glRatingsTest),\n",
    "                                                     gl.factorization_recommender.create,\n",
    "                                                     {'user_id': 'userID',\n",
    "                                                      'item_id': 'bookID',\n",
    "                                                      'target': 'rating',\n",
    "                                                      'num_factors': 0,\n",
    "                                                      'max_iterations': 2000,\n",
    "                                                      'regularization': 1e-3,\n",
    "                                                      'linear_regularization': [10**i for i in range(-4,0)]\n",
    "                                                      })\n",
    "'''"
   ]
  },
  {
   "cell_type": "code",
   "execution_count": 64,
   "metadata": {
    "collapsed": false
   },
   "outputs": [
    {
     "ename": "NameError",
     "evalue": "name 'models' is not defined",
     "output_type": "error",
     "traceback": [
      "\u001b[0;31m---------------------------------------------------------------------------\u001b[0m",
      "\u001b[0;31mNameError\u001b[0m                                 Traceback (most recent call last)",
      "\u001b[0;32m<ipython-input-64-c1e6bfe98bf2>\u001b[0m in \u001b[0;36m<module>\u001b[0;34m()\u001b[0m\n\u001b[0;32m----> 1\u001b[0;31m \u001b[0mmodels\u001b[0m\u001b[0;34m.\u001b[0m\u001b[0mget_status\u001b[0m\u001b[0;34m(\u001b[0m\u001b[0;34m)\u001b[0m\u001b[0;34m\u001b[0m\u001b[0m\n\u001b[0m\u001b[1;32m      2\u001b[0m \u001b[0;31m#models.get_results().sort('validation_rmse')\u001b[0m\u001b[0;34m\u001b[0m\u001b[0;34m\u001b[0m\u001b[0m\n",
      "\u001b[0;31mNameError\u001b[0m: name 'models' is not defined"
     ]
    }
   ],
   "source": [
    "models.get_status()\n",
    "#models.get_results().sort('validation_rmse')"
   ]
  },
  {
   "cell_type": "code",
   "execution_count": 69,
   "metadata": {
    "collapsed": false
   },
   "outputs": [
    {
     "data": {
      "text/html": [
       "<pre>Recsys training: model = factorization_recommender</pre>"
      ],
      "text/plain": [
       "Recsys training: model = factorization_recommender"
      ]
     },
     "metadata": {},
     "output_type": "display_data"
    },
    {
     "data": {
      "text/html": [
       "<pre>Preparing data set.</pre>"
      ],
      "text/plain": [
       "Preparing data set."
      ]
     },
     "metadata": {},
     "output_type": "display_data"
    },
    {
     "data": {
      "text/html": [
       "<pre>    Data has 36916 observations with 752 users and 1047 items.</pre>"
      ],
      "text/plain": [
       "    Data has 36916 observations with 752 users and 1047 items."
      ]
     },
     "metadata": {},
     "output_type": "display_data"
    },
    {
     "data": {
      "text/html": [
       "<pre>    Data prepared in: 0.129857s</pre>"
      ],
      "text/plain": [
       "    Data prepared in: 0.129857s"
      ]
     },
     "metadata": {},
     "output_type": "display_data"
    },
    {
     "data": {
      "text/html": [
       "<pre>Training factorization_recommender for recommendations.</pre>"
      ],
      "text/plain": [
       "Training factorization_recommender for recommendations."
      ]
     },
     "metadata": {},
     "output_type": "display_data"
    },
    {
     "data": {
      "text/html": [
       "<pre>+--------------------------------+--------------------------------------------------+----------+</pre>"
      ],
      "text/plain": [
       "+--------------------------------+--------------------------------------------------+----------+"
      ]
     },
     "metadata": {},
     "output_type": "display_data"
    },
    {
     "data": {
      "text/html": [
       "<pre>| Parameter                      | Description                                      | Value    |</pre>"
      ],
      "text/plain": [
       "| Parameter                      | Description                                      | Value    |"
      ]
     },
     "metadata": {},
     "output_type": "display_data"
    },
    {
     "data": {
      "text/html": [
       "<pre>+--------------------------------+--------------------------------------------------+----------+</pre>"
      ],
      "text/plain": [
       "+--------------------------------+--------------------------------------------------+----------+"
      ]
     },
     "metadata": {},
     "output_type": "display_data"
    },
    {
     "data": {
      "text/html": [
       "<pre>| num_factors                    | Factor Dimension                                 | 0        |</pre>"
      ],
      "text/plain": [
       "| num_factors                    | Factor Dimension                                 | 0        |"
      ]
     },
     "metadata": {},
     "output_type": "display_data"
    },
    {
     "data": {
      "text/html": [
       "<pre>| regularization                 | L2 Regularization on Factors                     | 0.001    |</pre>"
      ],
      "text/plain": [
       "| regularization                 | L2 Regularization on Factors                     | 0.001    |"
      ]
     },
     "metadata": {},
     "output_type": "display_data"
    },
    {
     "data": {
      "text/html": [
       "<pre>| solver                         | Solver used for training                         | sgd      |</pre>"
      ],
      "text/plain": [
       "| solver                         | Solver used for training                         | sgd      |"
      ]
     },
     "metadata": {},
     "output_type": "display_data"
    },
    {
     "data": {
      "text/html": [
       "<pre>| linear_regularization          | L2 Regularization on Linear Coefficients         | 0.0001   |</pre>"
      ],
      "text/plain": [
       "| linear_regularization          | L2 Regularization on Linear Coefficients         | 0.0001   |"
      ]
     },
     "metadata": {},
     "output_type": "display_data"
    },
    {
     "data": {
      "text/html": [
       "<pre>| max_iterations                 | Maximum Number of Iterations                     | 200      |</pre>"
      ],
      "text/plain": [
       "| max_iterations                 | Maximum Number of Iterations                     | 200      |"
      ]
     },
     "metadata": {},
     "output_type": "display_data"
    },
    {
     "data": {
      "text/html": [
       "<pre>+--------------------------------+--------------------------------------------------+----------+</pre>"
      ],
      "text/plain": [
       "+--------------------------------+--------------------------------------------------+----------+"
      ]
     },
     "metadata": {},
     "output_type": "display_data"
    },
    {
     "data": {
      "text/html": [
       "<pre>  Optimizing model using SGD; tuning step size.</pre>"
      ],
      "text/plain": [
       "  Optimizing model using SGD; tuning step size."
      ]
     },
     "metadata": {},
     "output_type": "display_data"
    },
    {
     "data": {
      "text/html": [
       "<pre>  Using 10000 / 36916 points for tuning the step size.</pre>"
      ],
      "text/plain": [
       "  Using 10000 / 36916 points for tuning the step size."
      ]
     },
     "metadata": {},
     "output_type": "display_data"
    },
    {
     "data": {
      "text/html": [
       "<pre>+---------+-------------------+------------------------------------------+</pre>"
      ],
      "text/plain": [
       "+---------+-------------------+------------------------------------------+"
      ]
     },
     "metadata": {},
     "output_type": "display_data"
    },
    {
     "data": {
      "text/html": [
       "<pre>| Attempt | Initial Step Size | Estimated Objective Value                |</pre>"
      ],
      "text/plain": [
       "| Attempt | Initial Step Size | Estimated Objective Value                |"
      ]
     },
     "metadata": {},
     "output_type": "display_data"
    },
    {
     "data": {
      "text/html": [
       "<pre>+---------+-------------------+------------------------------------------+</pre>"
      ],
      "text/plain": [
       "+---------+-------------------+------------------------------------------+"
      ]
     },
     "metadata": {},
     "output_type": "display_data"
    },
    {
     "data": {
      "text/html": [
       "<pre>| 0       | 1.99397           | 0.789588                                 |</pre>"
      ],
      "text/plain": [
       "| 0       | 1.99397           | 0.789588                                 |"
      ]
     },
     "metadata": {},
     "output_type": "display_data"
    },
    {
     "data": {
      "text/html": [
       "<pre>| 1       | 0.996983          | 0.794214                                 |</pre>"
      ],
      "text/plain": [
       "| 1       | 0.996983          | 0.794214                                 |"
      ]
     },
     "metadata": {},
     "output_type": "display_data"
    },
    {
     "data": {
      "text/html": [
       "<pre>| 2       | 0.498491          | 0.790641                                 |</pre>"
      ],
      "text/plain": [
       "| 2       | 0.498491          | 0.790641                                 |"
      ]
     },
     "metadata": {},
     "output_type": "display_data"
    },
    {
     "data": {
      "text/html": [
       "<pre>| 3       | 0.249246          | 0.753492                                 |</pre>"
      ],
      "text/plain": [
       "| 3       | 0.249246          | 0.753492                                 |"
      ]
     },
     "metadata": {},
     "output_type": "display_data"
    },
    {
     "data": {
      "text/html": [
       "<pre>| 4       | 0.124623          | 0.728489                                 |</pre>"
      ],
      "text/plain": [
       "| 4       | 0.124623          | 0.728489                                 |"
      ]
     },
     "metadata": {},
     "output_type": "display_data"
    },
    {
     "data": {
      "text/html": [
       "<pre>| 5       | 0.0623114         | 0.729689                                 |</pre>"
      ],
      "text/plain": [
       "| 5       | 0.0623114         | 0.729689                                 |"
      ]
     },
     "metadata": {},
     "output_type": "display_data"
    },
    {
     "data": {
      "text/html": [
       "<pre>| 6       | 0.0311557         | 0.743481                                 |</pre>"
      ],
      "text/plain": [
       "| 6       | 0.0311557         | 0.743481                                 |"
      ]
     },
     "metadata": {},
     "output_type": "display_data"
    },
    {
     "data": {
      "text/html": [
       "<pre>| 7       | 0.0155779         | 0.768387                                 |</pre>"
      ],
      "text/plain": [
       "| 7       | 0.0155779         | 0.768387                                 |"
      ]
     },
     "metadata": {},
     "output_type": "display_data"
    },
    {
     "data": {
      "text/html": [
       "<pre>+---------+-------------------+------------------------------------------+</pre>"
      ],
      "text/plain": [
       "+---------+-------------------+------------------------------------------+"
      ]
     },
     "metadata": {},
     "output_type": "display_data"
    },
    {
     "data": {
      "text/html": [
       "<pre>| Final   | 0.124623          | 0.728489                                 |</pre>"
      ],
      "text/plain": [
       "| Final   | 0.124623          | 0.728489                                 |"
      ]
     },
     "metadata": {},
     "output_type": "display_data"
    },
    {
     "data": {
      "text/html": [
       "<pre>+---------+-------------------+------------------------------------------+</pre>"
      ],
      "text/plain": [
       "+---------+-------------------+------------------------------------------+"
      ]
     },
     "metadata": {},
     "output_type": "display_data"
    },
    {
     "data": {
      "text/html": [
       "<pre>Starting Optimization.</pre>"
      ],
      "text/plain": [
       "Starting Optimization."
      ]
     },
     "metadata": {},
     "output_type": "display_data"
    },
    {
     "data": {
      "text/html": [
       "<pre>+---------+--------------+-------------------+-----------------------+-------------+</pre>"
      ],
      "text/plain": [
       "+---------+--------------+-------------------+-----------------------+-------------+"
      ]
     },
     "metadata": {},
     "output_type": "display_data"
    },
    {
     "data": {
      "text/html": [
       "<pre>| Iter.   | Elapsed Time | Approx. Objective | Approx. Training RMSE | Step Size   |</pre>"
      ],
      "text/plain": [
       "| Iter.   | Elapsed Time | Approx. Objective | Approx. Training RMSE | Step Size   |"
      ]
     },
     "metadata": {},
     "output_type": "display_data"
    },
    {
     "data": {
      "text/html": [
       "<pre>+---------+--------------+-------------------+-----------------------+-------------+</pre>"
      ],
      "text/plain": [
       "+---------+--------------+-------------------+-----------------------+-------------+"
      ]
     },
     "metadata": {},
     "output_type": "display_data"
    },
    {
     "data": {
      "text/html": [
       "<pre>| Initial | 89us         | 1.03828           | 1.01896               |             |</pre>"
      ],
      "text/plain": [
       "| Initial | 89us         | 1.03828           | 1.01896               |             |"
      ]
     },
     "metadata": {},
     "output_type": "display_data"
    },
    {
     "data": {
      "text/html": [
       "<pre>+---------+--------------+-------------------+-----------------------+-------------+</pre>"
      ],
      "text/plain": [
       "+---------+--------------+-------------------+-----------------------+-------------+"
      ]
     },
     "metadata": {},
     "output_type": "display_data"
    },
    {
     "data": {
      "text/html": [
       "<pre>| 1       | 634.19ms     | 1.10739           | 1.03497               | 0.124623    |</pre>"
      ],
      "text/plain": [
       "| 1       | 634.19ms     | 1.10739           | 1.03497               | 0.124623    |"
      ]
     },
     "metadata": {},
     "output_type": "display_data"
    },
    {
     "data": {
      "text/html": [
       "<pre>| 2       | 1.28s        | 0.894448          | 0.932442              | 0.0222518   |</pre>"
      ],
      "text/plain": [
       "| 2       | 1.28s        | 0.894448          | 0.932442              | 0.0222518   |"
      ]
     },
     "metadata": {},
     "output_type": "display_data"
    },
    {
     "data": {
      "text/html": [
       "<pre>| 3       | 2.14s        | 0.839761          | 0.903171              | 0.0122165   |</pre>"
      ],
      "text/plain": [
       "| 3       | 2.14s        | 0.839761          | 0.903171              | 0.0122165   |"
      ]
     },
     "metadata": {},
     "output_type": "display_data"
    },
    {
     "data": {
      "text/html": [
       "<pre>| 4       | 3.04s        | 0.827132          | 0.896265              | 0.00831321  |</pre>"
      ],
      "text/plain": [
       "| 4       | 3.04s        | 0.827132          | 0.896265              | 0.00831321  |"
      ]
     },
     "metadata": {},
     "output_type": "display_data"
    },
    {
     "data": {
      "text/html": [
       "<pre>| 5       | 3.69s        | 0.821513          | 0.893174              | 0.00636106  |</pre>"
      ],
      "text/plain": [
       "| 5       | 3.69s        | 0.821513          | 0.893174              | 0.00636106  |"
      ]
     },
     "metadata": {},
     "output_type": "display_data"
    },
    {
     "data": {
      "text/html": [
       "<pre>| 6       | 4.34s        | 0.817344          | 0.89088               | 0.00515139  |</pre>"
      ],
      "text/plain": [
       "| 6       | 4.34s        | 0.817344          | 0.89088               | 0.00515139  |"
      ]
     },
     "metadata": {},
     "output_type": "display_data"
    },
    {
     "data": {
      "text/html": [
       "<pre>| 10      | 6.92s        | 0.811043          | 0.88732               | 0.0029258   |</pre>"
      ],
      "text/plain": [
       "| 10      | 6.92s        | 0.811043          | 0.88732               | 0.0029258   |"
      ]
     },
     "metadata": {},
     "output_type": "display_data"
    },
    {
     "data": {
      "text/html": [
       "<pre>| 11      | 7.57s        | 0.810339          | 0.886913              | 0.0026406   |</pre>"
      ],
      "text/plain": [
       "| 11      | 7.57s        | 0.810339          | 0.886913              | 0.0026406   |"
      ]
     },
     "metadata": {},
     "output_type": "display_data"
    },
    {
     "data": {
      "text/html": [
       "<pre>| 15      | 10.20s       | 0.808147          | 0.88566               | 0.00189982  |</pre>"
      ],
      "text/plain": [
       "| 15      | 10.20s       | 0.808147          | 0.88566               | 0.00189982  |"
      ]
     },
     "metadata": {},
     "output_type": "display_data"
    },
    {
     "data": {
      "text/html": [
       "<pre>| 20      | 13.57s       | 0.806704          | 0.884825              | 0.00140658  |</pre>"
      ],
      "text/plain": [
       "| 20      | 13.57s       | 0.806704          | 0.884825              | 0.00140658  |"
      ]
     },
     "metadata": {},
     "output_type": "display_data"
    },
    {
     "data": {
      "text/html": [
       "<pre>| 25      | 16.84s       | 0.805919          | 0.884364              | 0.00111666  |</pre>"
      ],
      "text/plain": [
       "| 25      | 16.84s       | 0.805919          | 0.884364              | 0.00111666  |"
      ]
     },
     "metadata": {},
     "output_type": "display_data"
    },
    {
     "data": {
      "text/html": [
       "<pre>| 30      | 20.04s       | 0.805322          | 0.884016              | 0.000925835 |</pre>"
      ],
      "text/plain": [
       "| 30      | 20.04s       | 0.805322          | 0.884016              | 0.000925835 |"
      ]
     },
     "metadata": {},
     "output_type": "display_data"
    },
    {
     "data": {
      "text/html": [
       "<pre>| 35      | 23.34s       | 0.804916          | 0.883779              | 0.00079071  |</pre>"
      ],
      "text/plain": [
       "| 35      | 23.34s       | 0.804916          | 0.883779              | 0.00079071  |"
      ]
     },
     "metadata": {},
     "output_type": "display_data"
    },
    {
     "data": {
      "text/html": [
       "<pre>| 40      | 26.55s       | 0.804631          | 0.883608              | 0.000690004 |</pre>"
      ],
      "text/plain": [
       "| 40      | 26.55s       | 0.804631          | 0.883608              | 0.000690004 |"
      ]
     },
     "metadata": {},
     "output_type": "display_data"
    },
    {
     "data": {
      "text/html": [
       "<pre>| 45      | 30.27s       | 0.804385          | 0.883463              | 0.000612053 |</pre>"
      ],
      "text/plain": [
       "| 45      | 30.27s       | 0.804385          | 0.883463              | 0.000612053 |"
      ]
     },
     "metadata": {},
     "output_type": "display_data"
    },
    {
     "data": {
      "text/html": [
       "<pre>| 50      | 33.80s       | 0.804198          | 0.883351              | 0.000549926 |</pre>"
      ],
      "text/plain": [
       "| 50      | 33.80s       | 0.804198          | 0.883351              | 0.000549926 |"
      ]
     },
     "metadata": {},
     "output_type": "display_data"
    },
    {
     "data": {
      "text/html": [
       "<pre>| 51      | 34.49s       | 0.804166          | 0.883333              | 0.000538984 |</pre>"
      ],
      "text/plain": [
       "| 51      | 34.49s       | 0.804166          | 0.883333              | 0.000538984 |"
      ]
     },
     "metadata": {},
     "output_type": "display_data"
    },
    {
     "data": {
      "text/html": [
       "<pre>| 55      | 37.14s       | 0.804044          | 0.883258              | 0.00049925  |</pre>"
      ],
      "text/plain": [
       "| 55      | 37.14s       | 0.804044          | 0.883258              | 0.00049925  |"
      ]
     },
     "metadata": {},
     "output_type": "display_data"
    },
    {
     "data": {
      "text/html": [
       "<pre>| 60      | 40.40s       | 0.803915          | 0.883181              | 0.000457125 |</pre>"
      ],
      "text/plain": [
       "| 60      | 40.40s       | 0.803915          | 0.883181              | 0.000457125 |"
      ]
     },
     "metadata": {},
     "output_type": "display_data"
    },
    {
     "data": {
      "text/html": [
       "<pre>| 65      | 43.68s       | 0.80381           | 0.883118              | 0.000421556 |</pre>"
      ],
      "text/plain": [
       "| 65      | 43.68s       | 0.80381           | 0.883118              | 0.000421556 |"
      ]
     },
     "metadata": {},
     "output_type": "display_data"
    },
    {
     "data": {
      "text/html": [
       "<pre>| 70      | 46.94s       | 0.803714          | 0.88306               | 0.000391122 |</pre>"
      ],
      "text/plain": [
       "| 70      | 46.94s       | 0.803714          | 0.88306               | 0.000391122 |"
      ]
     },
     "metadata": {},
     "output_type": "display_data"
    },
    {
     "data": {
      "text/html": [
       "<pre>| 75      | 50.16s       | 0.803636          | 0.883013              | 0.000364787 |</pre>"
      ],
      "text/plain": [
       "| 75      | 50.16s       | 0.803636          | 0.883013              | 0.000364787 |"
      ]
     },
     "metadata": {},
     "output_type": "display_data"
    },
    {
     "data": {
      "text/html": [
       "<pre>| 80      | 53.43s       | 0.803565          | 0.88297               | 0.000341774 |</pre>"
      ],
      "text/plain": [
       "| 80      | 53.43s       | 0.803565          | 0.88297               | 0.000341774 |"
      ]
     },
     "metadata": {},
     "output_type": "display_data"
    },
    {
     "data": {
      "text/html": [
       "<pre>| 85      | 56.70s       | 0.803504          | 0.882933              | 0.000321493 |</pre>"
      ],
      "text/plain": [
       "| 85      | 56.70s       | 0.803504          | 0.882933              | 0.000321493 |"
      ]
     },
     "metadata": {},
     "output_type": "display_data"
    },
    {
     "data": {
      "text/html": [
       "<pre>| 90      | 59.94s       | 0.803449          | 0.882899              | 0.000303484 |</pre>"
      ],
      "text/plain": [
       "| 90      | 59.94s       | 0.803449          | 0.882899              | 0.000303484 |"
      ]
     },
     "metadata": {},
     "output_type": "display_data"
    },
    {
     "data": {
      "text/html": [
       "<pre>| 95      | 1m 3s        | 0.803402          | 0.88287               | 0.000287386 |</pre>"
      ],
      "text/plain": [
       "| 95      | 1m 3s        | 0.803402          | 0.88287               | 0.000287386 |"
      ]
     },
     "metadata": {},
     "output_type": "display_data"
    },
    {
     "data": {
      "text/html": [
       "<pre>| 100     | 1m 6s        | 0.803354          | 0.88284               | 0.000272909 |</pre>"
      ],
      "text/plain": [
       "| 100     | 1m 6s        | 0.803354          | 0.88284               | 0.000272909 |"
      ]
     },
     "metadata": {},
     "output_type": "display_data"
    },
    {
     "data": {
      "text/html": [
       "<pre>| 101     | 1m 7s        | 0.80335           | 0.882837              | 0.000270187 |</pre>"
      ],
      "text/plain": [
       "| 101     | 1m 7s        | 0.80335           | 0.882837              | 0.000270187 |"
      ]
     },
     "metadata": {},
     "output_type": "display_data"
    },
    {
     "data": {
      "text/html": [
       "<pre>| 105     | 1m 9s        | 0.80332           | 0.882819              | 0.000259821 |</pre>"
      ],
      "text/plain": [
       "| 105     | 1m 9s        | 0.80332           | 0.882819              | 0.000259821 |"
      ]
     },
     "metadata": {},
     "output_type": "display_data"
    },
    {
     "data": {
      "text/html": [
       "<pre>| 110     | 1m 12s       | 0.803281          | 0.882794              | 0.000247931 |</pre>"
      ],
      "text/plain": [
       "| 110     | 1m 12s       | 0.803281          | 0.882794              | 0.000247931 |"
      ]
     },
     "metadata": {},
     "output_type": "display_data"
    },
    {
     "data": {
      "text/html": [
       "<pre>| 115     | 1m 16s       | 0.803253          | 0.882776              | 0.000237081 |</pre>"
      ],
      "text/plain": [
       "| 115     | 1m 16s       | 0.803253          | 0.882776              | 0.000237081 |"
      ]
     },
     "metadata": {},
     "output_type": "display_data"
    },
    {
     "data": {
      "text/html": [
       "<pre>| 120     | 1m 19s       | 0.80322           | 0.882756              | 0.000227141 |</pre>"
      ],
      "text/plain": [
       "| 120     | 1m 19s       | 0.80322           | 0.882756              | 0.000227141 |"
      ]
     },
     "metadata": {},
     "output_type": "display_data"
    },
    {
     "data": {
      "text/html": [
       "<pre>| 125     | 1m 23s       | 0.803195          | 0.882739              | 0.000218001 |</pre>"
      ],
      "text/plain": [
       "| 125     | 1m 23s       | 0.803195          | 0.882739              | 0.000218001 |"
      ]
     },
     "metadata": {},
     "output_type": "display_data"
    },
    {
     "data": {
      "text/html": [
       "<pre>| 130     | 1m 26s       | 0.803166          | 0.882722              | 0.000209569 |</pre>"
      ],
      "text/plain": [
       "| 130     | 1m 26s       | 0.803166          | 0.882722              | 0.000209569 |"
      ]
     },
     "metadata": {},
     "output_type": "display_data"
    },
    {
     "data": {
      "text/html": [
       "<pre>| 135     | 1m 29s       | 0.803141          | 0.882706              | 0.000201764 |</pre>"
      ],
      "text/plain": [
       "| 135     | 1m 29s       | 0.803141          | 0.882706              | 0.000201764 |"
      ]
     },
     "metadata": {},
     "output_type": "display_data"
    },
    {
     "data": {
      "text/html": [
       "<pre>| 140     | 1m 32s       | 0.803121          | 0.882693              | 0.00019452  |</pre>"
      ],
      "text/plain": [
       "| 140     | 1m 32s       | 0.803121          | 0.882693              | 0.00019452  |"
      ]
     },
     "metadata": {},
     "output_type": "display_data"
    },
    {
     "data": {
      "text/html": [
       "<pre>| 145     | 1m 36s       | 0.803102          | 0.882681              | 0.000187778 |</pre>"
      ],
      "text/plain": [
       "| 145     | 1m 36s       | 0.803102          | 0.882681              | 0.000187778 |"
      ]
     },
     "metadata": {},
     "output_type": "display_data"
    },
    {
     "data": {
      "text/html": [
       "<pre>+---------+--------------+-------------------+-----------------------+-------------+</pre>"
      ],
      "text/plain": [
       "+---------+--------------+-------------------+-----------------------+-------------+"
      ]
     },
     "metadata": {},
     "output_type": "display_data"
    },
    {
     "data": {
      "text/html": [
       "<pre>Optimization Complete: Convergence on objective within bounds.</pre>"
      ],
      "text/plain": [
       "Optimization Complete: Convergence on objective within bounds."
      ]
     },
     "metadata": {},
     "output_type": "display_data"
    },
    {
     "data": {
      "text/html": [
       "<pre>Computing final objective value and training RMSE.</pre>"
      ],
      "text/plain": [
       "Computing final objective value and training RMSE."
      ]
     },
     "metadata": {},
     "output_type": "display_data"
    },
    {
     "data": {
      "text/html": [
       "<pre>       Final objective value: 0.802538</pre>"
      ],
      "text/plain": [
       "       Final objective value: 0.802538"
      ]
     },
     "metadata": {},
     "output_type": "display_data"
    },
    {
     "data": {
      "text/html": [
       "<pre>       Final training RMSE: 0.882361</pre>"
      ],
      "text/plain": [
       "       Final training RMSE: 0.882361"
      ]
     },
     "metadata": {},
     "output_type": "display_data"
    }
   ],
   "source": [
    "rec_engine_baseline = gl.factorization_recommender.create(   observation_data=glRatingsTrain, \n",
    "                                                    user_id=\"userID\", \n",
    "                                                    item_id=\"bookID\", \n",
    "                                                    target='rating',\n",
    "                                                    num_factors=0,\n",
    "                                                    solver='auto',\n",
    "                                                    max_iterations=200,\n",
    "                                                    regularization = 1e-3,\n",
    "                                                    linear_regularization = 1e-4\n",
    "                                                    )"
   ]
  },
  {
   "cell_type": "code",
   "execution_count": 70,
   "metadata": {
    "collapsed": false
   },
   "outputs": [
    {
     "data": {
      "text/plain": [
       "0.9566750346104202"
      ]
     },
     "execution_count": 70,
     "metadata": {},
     "output_type": "execute_result"
    }
   ],
   "source": [
    "rec_engine_baseline.evaluate_rmse(glRatingsTest, target='rating')['rmse_overall']"
   ]
  },
  {
   "cell_type": "code",
   "execution_count": 71,
   "metadata": {
    "collapsed": false
   },
   "outputs": [
    {
     "data": {
      "text/html": [
       "<pre>Recsys training: model = factorization_recommender</pre>"
      ],
      "text/plain": [
       "Recsys training: model = factorization_recommender"
      ]
     },
     "metadata": {},
     "output_type": "display_data"
    },
    {
     "data": {
      "text/html": [
       "<pre>Preparing data set.</pre>"
      ],
      "text/plain": [
       "Preparing data set."
      ]
     },
     "metadata": {},
     "output_type": "display_data"
    },
    {
     "data": {
      "text/html": [
       "<pre>    Data has 36916 observations with 752 users and 1047 items.</pre>"
      ],
      "text/plain": [
       "    Data has 36916 observations with 752 users and 1047 items."
      ]
     },
     "metadata": {},
     "output_type": "display_data"
    },
    {
     "data": {
      "text/html": [
       "<pre>    Data prepared in: 0.122543s</pre>"
      ],
      "text/plain": [
       "    Data prepared in: 0.122543s"
      ]
     },
     "metadata": {},
     "output_type": "display_data"
    },
    {
     "data": {
      "text/html": [
       "<pre>Training factorization_recommender for recommendations.</pre>"
      ],
      "text/plain": [
       "Training factorization_recommender for recommendations."
      ]
     },
     "metadata": {},
     "output_type": "display_data"
    },
    {
     "data": {
      "text/html": [
       "<pre>+--------------------------------+--------------------------------------------------+----------+</pre>"
      ],
      "text/plain": [
       "+--------------------------------+--------------------------------------------------+----------+"
      ]
     },
     "metadata": {},
     "output_type": "display_data"
    },
    {
     "data": {
      "text/html": [
       "<pre>| Parameter                      | Description                                      | Value    |</pre>"
      ],
      "text/plain": [
       "| Parameter                      | Description                                      | Value    |"
      ]
     },
     "metadata": {},
     "output_type": "display_data"
    },
    {
     "data": {
      "text/html": [
       "<pre>+--------------------------------+--------------------------------------------------+----------+</pre>"
      ],
      "text/plain": [
       "+--------------------------------+--------------------------------------------------+----------+"
      ]
     },
     "metadata": {},
     "output_type": "display_data"
    },
    {
     "data": {
      "text/html": [
       "<pre>| num_factors                    | Factor Dimension                                 | 4        |</pre>"
      ],
      "text/plain": [
       "| num_factors                    | Factor Dimension                                 | 4        |"
      ]
     },
     "metadata": {},
     "output_type": "display_data"
    },
    {
     "data": {
      "text/html": [
       "<pre>| regularization                 | L2 Regularization on Factors                     | 0.001    |</pre>"
      ],
      "text/plain": [
       "| regularization                 | L2 Regularization on Factors                     | 0.001    |"
      ]
     },
     "metadata": {},
     "output_type": "display_data"
    },
    {
     "data": {
      "text/html": [
       "<pre>| solver                         | Solver used for training                         | sgd      |</pre>"
      ],
      "text/plain": [
       "| solver                         | Solver used for training                         | sgd      |"
      ]
     },
     "metadata": {},
     "output_type": "display_data"
    },
    {
     "data": {
      "text/html": [
       "<pre>| linear_regularization          | L2 Regularization on Linear Coefficients         | 0.0001   |</pre>"
      ],
      "text/plain": [
       "| linear_regularization          | L2 Regularization on Linear Coefficients         | 0.0001   |"
      ]
     },
     "metadata": {},
     "output_type": "display_data"
    },
    {
     "data": {
      "text/html": [
       "<pre>| max_iterations                 | Maximum Number of Iterations                     | 200      |</pre>"
      ],
      "text/plain": [
       "| max_iterations                 | Maximum Number of Iterations                     | 200      |"
      ]
     },
     "metadata": {},
     "output_type": "display_data"
    },
    {
     "data": {
      "text/html": [
       "<pre>+--------------------------------+--------------------------------------------------+----------+</pre>"
      ],
      "text/plain": [
       "+--------------------------------+--------------------------------------------------+----------+"
      ]
     },
     "metadata": {},
     "output_type": "display_data"
    },
    {
     "data": {
      "text/html": [
       "<pre>  Optimizing model using SGD; tuning step size.</pre>"
      ],
      "text/plain": [
       "  Optimizing model using SGD; tuning step size."
      ]
     },
     "metadata": {},
     "output_type": "display_data"
    },
    {
     "data": {
      "text/html": [
       "<pre>  Using 10000 / 36916 points for tuning the step size.</pre>"
      ],
      "text/plain": [
       "  Using 10000 / 36916 points for tuning the step size."
      ]
     },
     "metadata": {},
     "output_type": "display_data"
    },
    {
     "data": {
      "text/html": [
       "<pre>+---------+-------------------+------------------------------------------+</pre>"
      ],
      "text/plain": [
       "+---------+-------------------+------------------------------------------+"
      ]
     },
     "metadata": {},
     "output_type": "display_data"
    },
    {
     "data": {
      "text/html": [
       "<pre>| Attempt | Initial Step Size | Estimated Objective Value                |</pre>"
      ],
      "text/plain": [
       "| Attempt | Initial Step Size | Estimated Objective Value                |"
      ]
     },
     "metadata": {},
     "output_type": "display_data"
    },
    {
     "data": {
      "text/html": [
       "<pre>+---------+-------------------+------------------------------------------+</pre>"
      ],
      "text/plain": [
       "+---------+-------------------+------------------------------------------+"
      ]
     },
     "metadata": {},
     "output_type": "display_data"
    },
    {
     "data": {
      "text/html": [
       "<pre>| 0       | 1.99397           | 1.0478                                   |</pre>"
      ],
      "text/plain": [
       "| 0       | 1.99397           | 1.0478                                   |"
      ]
     },
     "metadata": {},
     "output_type": "display_data"
    },
    {
     "data": {
      "text/html": [
       "<pre>| 1       | 0.996983          | No Decrease (1.22487 >= 1.04799)         |</pre>"
      ],
      "text/plain": [
       "| 1       | 0.996983          | No Decrease (1.22487 >= 1.04799)         |"
      ]
     },
     "metadata": {},
     "output_type": "display_data"
    },
    {
     "data": {
      "text/html": [
       "<pre>| 2       | 0.249246          | No Decrease (1.6237 >= 1.04799)          |</pre>"
      ],
      "text/plain": [
       "| 2       | 0.249246          | No Decrease (1.6237 >= 1.04799)          |"
      ]
     },
     "metadata": {},
     "output_type": "display_data"
    },
    {
     "data": {
      "text/html": [
       "<pre>| 3       | 0.0623114         | 0.719181                                 |</pre>"
      ],
      "text/plain": [
       "| 3       | 0.0623114         | 0.719181                                 |"
      ]
     },
     "metadata": {},
     "output_type": "display_data"
    },
    {
     "data": {
      "text/html": [
       "<pre>| 4       | 0.0311557         | 0.733088                                 |</pre>"
      ],
      "text/plain": [
       "| 4       | 0.0311557         | 0.733088                                 |"
      ]
     },
     "metadata": {},
     "output_type": "display_data"
    },
    {
     "data": {
      "text/html": [
       "<pre>| 5       | 0.0155779         | 0.758618                                 |</pre>"
      ],
      "text/plain": [
       "| 5       | 0.0155779         | 0.758618                                 |"
      ]
     },
     "metadata": {},
     "output_type": "display_data"
    },
    {
     "data": {
      "text/html": [
       "<pre>| 6       | 0.00778893        | 0.81101                                  |</pre>"
      ],
      "text/plain": [
       "| 6       | 0.00778893        | 0.81101                                  |"
      ]
     },
     "metadata": {},
     "output_type": "display_data"
    },
    {
     "data": {
      "text/html": [
       "<pre>+---------+-------------------+------------------------------------------+</pre>"
      ],
      "text/plain": [
       "+---------+-------------------+------------------------------------------+"
      ]
     },
     "metadata": {},
     "output_type": "display_data"
    },
    {
     "data": {
      "text/html": [
       "<pre>| Final   | 0.0623114         | 0.719181                                 |</pre>"
      ],
      "text/plain": [
       "| Final   | 0.0623114         | 0.719181                                 |"
      ]
     },
     "metadata": {},
     "output_type": "display_data"
    },
    {
     "data": {
      "text/html": [
       "<pre>+---------+-------------------+------------------------------------------+</pre>"
      ],
      "text/plain": [
       "+---------+-------------------+------------------------------------------+"
      ]
     },
     "metadata": {},
     "output_type": "display_data"
    },
    {
     "data": {
      "text/html": [
       "<pre>Starting Optimization.</pre>"
      ],
      "text/plain": [
       "Starting Optimization."
      ]
     },
     "metadata": {},
     "output_type": "display_data"
    },
    {
     "data": {
      "text/html": [
       "<pre>+---------+--------------+-------------------+-----------------------+-------------+</pre>"
      ],
      "text/plain": [
       "+---------+--------------+-------------------+-----------------------+-------------+"
      ]
     },
     "metadata": {},
     "output_type": "display_data"
    },
    {
     "data": {
      "text/html": [
       "<pre>| Iter.   | Elapsed Time | Approx. Objective | Approx. Training RMSE | Step Size   |</pre>"
      ],
      "text/plain": [
       "| Iter.   | Elapsed Time | Approx. Objective | Approx. Training RMSE | Step Size   |"
      ]
     },
     "metadata": {},
     "output_type": "display_data"
    },
    {
     "data": {
      "text/html": [
       "<pre>+---------+--------------+-------------------+-----------------------+-------------+</pre>"
      ],
      "text/plain": [
       "+---------+--------------+-------------------+-----------------------+-------------+"
      ]
     },
     "metadata": {},
     "output_type": "display_data"
    },
    {
     "data": {
      "text/html": [
       "<pre>| Initial | 96us         | 1.03829           | 1.01896               |             |</pre>"
      ],
      "text/plain": [
       "| Initial | 96us         | 1.03829           | 1.01896               |             |"
      ]
     },
     "metadata": {},
     "output_type": "display_data"
    },
    {
     "data": {
      "text/html": [
       "<pre>+---------+--------------+-------------------+-----------------------+-------------+</pre>"
      ],
      "text/plain": [
       "+---------+--------------+-------------------+-----------------------+-------------+"
      ]
     },
     "metadata": {},
     "output_type": "display_data"
    },
    {
     "data": {
      "text/html": [
       "<pre>| 1       | 735.205ms    | DIVERGED          | DIVERGED              | 0.0623114   |</pre>"
      ],
      "text/plain": [
       "| 1       | 735.205ms    | DIVERGED          | DIVERGED              | 0.0623114   |"
      ]
     },
     "metadata": {},
     "output_type": "display_data"
    },
    {
     "data": {
      "text/html": [
       "<pre>| RESET   | 742.267ms    | 1.03827           | 1.01896               |             |</pre>"
      ],
      "text/plain": [
       "| RESET   | 742.267ms    | 1.03827           | 1.01896               |             |"
      ]
     },
     "metadata": {},
     "output_type": "display_data"
    },
    {
     "data": {
      "text/html": [
       "<pre>| 1       | 1.40s        | 0.919034          | 0.950323              | 0.0311557   |</pre>"
      ],
      "text/plain": [
       "| 1       | 1.40s        | 0.919034          | 0.950323              | 0.0311557   |"
      ]
     },
     "metadata": {},
     "output_type": "display_data"
    },
    {
     "data": {
      "text/html": [
       "<pre>| 2       | 2.04s        | 0.845969          | 0.910118              | 0.0144901   |</pre>"
      ],
      "text/plain": [
       "| 2       | 2.04s        | 0.845969          | 0.910118              | 0.0144901   |"
      ]
     },
     "metadata": {},
     "output_type": "display_data"
    },
    {
     "data": {
      "text/html": [
       "<pre>| 3       | 2.69s        | 0.828864          | 0.900069              | 0.0094403   |</pre>"
      ],
      "text/plain": [
       "| 3       | 2.69s        | 0.828864          | 0.900069              | 0.0094403   |"
      ]
     },
     "metadata": {},
     "output_type": "display_data"
    },
    {
     "data": {
      "text/html": [
       "<pre>| 4       | 3.34s        | 0.821803          | 0.895601              | 0.0070006   |</pre>"
      ],
      "text/plain": [
       "| 4       | 3.34s        | 0.821803          | 0.895601              | 0.0070006   |"
      ]
     },
     "metadata": {},
     "output_type": "display_data"
    },
    {
     "data": {
      "text/html": [
       "<pre>| 5       | 4.02s        | 0.817519          | 0.892982              | 0.00556295  |</pre>"
      ],
      "text/plain": [
       "| 5       | 4.02s        | 0.817519          | 0.892982              | 0.00556295  |"
      ]
     },
     "metadata": {},
     "output_type": "display_data"
    },
    {
     "data": {
      "text/html": [
       "<pre>| 6       | 4.64s        | 0.814802          | 0.891243              | 0.00461517  |</pre>"
      ],
      "text/plain": [
       "| 6       | 4.64s        | 0.814802          | 0.891243              | 0.00461517  |"
      ]
     },
     "metadata": {},
     "output_type": "display_data"
    },
    {
     "data": {
      "text/html": [
       "<pre>| 9       | 6.59s        | 0.810787          | 0.888607              | 0.00305414  |</pre>"
      ],
      "text/plain": [
       "| 9       | 6.59s        | 0.810787          | 0.888607              | 0.00305414  |"
      ]
     },
     "metadata": {},
     "output_type": "display_data"
    },
    {
     "data": {
      "text/html": [
       "<pre>| 11      | 7.88s        | 0.80927           | 0.887602              | 0.00249217  |</pre>"
      ],
      "text/plain": [
       "| 11      | 7.88s        | 0.80927           | 0.887602              | 0.00249217  |"
      ]
     },
     "metadata": {},
     "output_type": "display_data"
    },
    {
     "data": {
      "text/html": [
       "<pre>| 14      | 9.90s        | 0.807741          | 0.886576              | 0.00195311  |</pre>"
      ],
      "text/plain": [
       "| 14      | 9.90s        | 0.807741          | 0.886576              | 0.00195311  |"
      ]
     },
     "metadata": {},
     "output_type": "display_data"
    },
    {
     "data": {
      "text/html": [
       "<pre>| 19      | 13.13s       | 0.806276          | 0.885576              | 0.00143558  |</pre>"
      ],
      "text/plain": [
       "| 19      | 13.13s       | 0.806276          | 0.885576              | 0.00143558  |"
      ]
     },
     "metadata": {},
     "output_type": "display_data"
    },
    {
     "data": {
      "text/html": [
       "<pre>| 24      | 16.36s       | 0.805407          | 0.884969              | 0.00113486  |</pre>"
      ],
      "text/plain": [
       "| 24      | 16.36s       | 0.805407          | 0.884969              | 0.00113486  |"
      ]
     },
     "metadata": {},
     "output_type": "display_data"
    },
    {
     "data": {
      "text/html": [
       "<pre>| 29      | 19.55s       | 0.804926          | 0.884612              | 0.000938311 |</pre>"
      ],
      "text/plain": [
       "| 29      | 19.55s       | 0.804926          | 0.884612              | 0.000938311 |"
      ]
     },
     "metadata": {},
     "output_type": "display_data"
    },
    {
     "data": {
      "text/html": [
       "<pre>| 34      | 22.78s       | 0.804521          | 0.884317              | 0.000799792 |</pre>"
      ],
      "text/plain": [
       "| 34      | 22.78s       | 0.804521          | 0.884317              | 0.000799792 |"
      ]
     },
     "metadata": {},
     "output_type": "display_data"
    },
    {
     "data": {
      "text/html": [
       "<pre>| 39      | 26.01s       | 0.804223          | 0.8841                | 0.00069691  |</pre>"
      ],
      "text/plain": [
       "| 39      | 26.01s       | 0.804223          | 0.8841                | 0.00069691  |"
      ]
     },
     "metadata": {},
     "output_type": "display_data"
    },
    {
     "data": {
      "text/html": [
       "<pre>| 44      | 29.27s       | 0.804009          | 0.883935              | 0.00061748  |</pre>"
      ],
      "text/plain": [
       "| 44      | 29.27s       | 0.804009          | 0.883935              | 0.00061748  |"
      ]
     },
     "metadata": {},
     "output_type": "display_data"
    },
    {
     "data": {
      "text/html": [
       "<pre>| 49      | 32.41s       | 0.803829          | 0.883797              | 0.000554304 |</pre>"
      ],
      "text/plain": [
       "| 49      | 32.41s       | 0.803829          | 0.883797              | 0.000554304 |"
      ]
     },
     "metadata": {},
     "output_type": "display_data"
    },
    {
     "data": {
      "text/html": [
       "<pre>| 51      | 33.72s       | 0.80375           | 0.883741              | 0.000532511 |</pre>"
      ],
      "text/plain": [
       "| 51      | 33.72s       | 0.80375           | 0.883741              | 0.000532511 |"
      ]
     },
     "metadata": {},
     "output_type": "display_data"
    },
    {
     "data": {
      "text/html": [
       "<pre>| 54      | 35.31s       | 0.803678          | 0.88368               | 0.000502855 |</pre>"
      ],
      "text/plain": [
       "| 54      | 35.31s       | 0.803678          | 0.88368               | 0.000502855 |"
      ]
     },
     "metadata": {},
     "output_type": "display_data"
    },
    {
     "data": {
      "text/html": [
       "<pre>| 59      | 38.52s       | 0.803553          | 0.883584              | 0.000460146 |</pre>"
      ],
      "text/plain": [
       "| 59      | 38.52s       | 0.803553          | 0.883584              | 0.000460146 |"
      ]
     },
     "metadata": {},
     "output_type": "display_data"
    },
    {
     "data": {
      "text/html": [
       "<pre>| 64      | 41.71s       | 0.803465          | 0.883511              | 0.000424123 |</pre>"
      ],
      "text/plain": [
       "| 64      | 41.71s       | 0.803465          | 0.883511              | 0.000424123 |"
      ]
     },
     "metadata": {},
     "output_type": "display_data"
    },
    {
     "data": {
      "text/html": [
       "<pre>| 69      | 44.91s       | 0.803376          | 0.88344               | 0.000393331 |</pre>"
      ],
      "text/plain": [
       "| 69      | 44.91s       | 0.803376          | 0.88344               | 0.000393331 |"
      ]
     },
     "metadata": {},
     "output_type": "display_data"
    },
    {
     "data": {
      "text/html": [
       "<pre>| 74      | 48.20s       | 0.803298          | 0.883377              | 0.000366708 |</pre>"
      ],
      "text/plain": [
       "| 74      | 48.20s       | 0.803298          | 0.883377              | 0.000366708 |"
      ]
     },
     "metadata": {},
     "output_type": "display_data"
    },
    {
     "data": {
      "text/html": [
       "<pre>| 79      | 51.41s       | 0.803242          | 0.883329              | 0.00034346  |</pre>"
      ],
      "text/plain": [
       "| 79      | 51.41s       | 0.803242          | 0.883329              | 0.00034346  |"
      ]
     },
     "metadata": {},
     "output_type": "display_data"
    },
    {
     "data": {
      "text/html": [
       "<pre>| 84      | 54.58s       | 0.803185          | 0.883281              | 0.000322984 |</pre>"
      ],
      "text/plain": [
       "| 84      | 54.58s       | 0.803185          | 0.883281              | 0.000322984 |"
      ]
     },
     "metadata": {},
     "output_type": "display_data"
    },
    {
     "data": {
      "text/html": [
       "<pre>| 89      | 57.82s       | 0.803138          | 0.88324               | 0.000304813 |</pre>"
      ],
      "text/plain": [
       "| 89      | 57.82s       | 0.803138          | 0.88324               | 0.000304813 |"
      ]
     },
     "metadata": {},
     "output_type": "display_data"
    },
    {
     "data": {
      "text/html": [
       "<pre>| 94      | 1m 1s        | 0.803091          | 0.8832                | 0.000288577 |</pre>"
      ],
      "text/plain": [
       "| 94      | 1m 1s        | 0.803091          | 0.8832                | 0.000288577 |"
      ]
     },
     "metadata": {},
     "output_type": "display_data"
    },
    {
     "data": {
      "text/html": [
       "<pre>| 99      | 1m 4s        | 0.803054          | 0.883167              | 0.000273983 |</pre>"
      ],
      "text/plain": [
       "| 99      | 1m 4s        | 0.803054          | 0.883167              | 0.000273983 |"
      ]
     },
     "metadata": {},
     "output_type": "display_data"
    },
    {
     "data": {
      "text/html": [
       "<pre>| 101     | 1m 5s        | 0.803037          | 0.883152              | 0.00026855  |</pre>"
      ],
      "text/plain": [
       "| 101     | 1m 5s        | 0.803037          | 0.883152              | 0.00026855  |"
      ]
     },
     "metadata": {},
     "output_type": "display_data"
    },
    {
     "data": {
      "text/html": [
       "<pre>| 104     | 1m 7s        | 0.803015          | 0.883133              | 0.000260794 |</pre>"
      ],
      "text/plain": [
       "| 104     | 1m 7s        | 0.803015          | 0.883133              | 0.000260794 |"
      ]
     },
     "metadata": {},
     "output_type": "display_data"
    },
    {
     "data": {
      "text/html": [
       "<pre>| 109     | 1m 10s       | 0.802987          | 0.883107              | 0.000248817 |</pre>"
      ],
      "text/plain": [
       "| 109     | 1m 10s       | 0.802987          | 0.883107              | 0.000248817 |"
      ]
     },
     "metadata": {},
     "output_type": "display_data"
    },
    {
     "data": {
      "text/html": [
       "<pre>| 114     | 1m 13s       | 0.802957          | 0.88308               | 0.000237891 |</pre>"
      ],
      "text/plain": [
       "| 114     | 1m 13s       | 0.802957          | 0.88308               | 0.000237891 |"
      ]
     },
     "metadata": {},
     "output_type": "display_data"
    },
    {
     "data": {
      "text/html": [
       "<pre>| 119     | 1m 17s       | 0.802931          | 0.883056              | 0.000227885 |</pre>"
      ],
      "text/plain": [
       "| 119     | 1m 17s       | 0.802931          | 0.883056              | 0.000227885 |"
      ]
     },
     "metadata": {},
     "output_type": "display_data"
    },
    {
     "data": {
      "text/html": [
       "<pre>| 124     | 1m 20s       | 0.802905          | 0.883032              | 0.000218686 |</pre>"
      ],
      "text/plain": [
       "| 124     | 1m 20s       | 0.802905          | 0.883032              | 0.000218686 |"
      ]
     },
     "metadata": {},
     "output_type": "display_data"
    },
    {
     "data": {
      "text/html": [
       "<pre>| 129     | 1m 23s       | 0.802885          | 0.883012              | 0.000210201 |</pre>"
      ],
      "text/plain": [
       "| 129     | 1m 23s       | 0.802885          | 0.883012              | 0.000210201 |"
      ]
     },
     "metadata": {},
     "output_type": "display_data"
    },
    {
     "data": {
      "text/html": [
       "<pre>| 134     | 1m 26s       | 0.802864          | 0.882993              | 0.00020235  |</pre>"
      ],
      "text/plain": [
       "| 134     | 1m 26s       | 0.802864          | 0.882993              | 0.00020235  |"
      ]
     },
     "metadata": {},
     "output_type": "display_data"
    },
    {
     "data": {
      "text/html": [
       "<pre>+---------+--------------+-------------------+-----------------------+-------------+</pre>"
      ],
      "text/plain": [
       "+---------+--------------+-------------------+-----------------------+-------------+"
      ]
     },
     "metadata": {},
     "output_type": "display_data"
    },
    {
     "data": {
      "text/html": [
       "<pre>Optimization Complete: Convergence on objective within bounds.</pre>"
      ],
      "text/plain": [
       "Optimization Complete: Convergence on objective within bounds."
      ]
     },
     "metadata": {},
     "output_type": "display_data"
    },
    {
     "data": {
      "text/html": [
       "<pre>Computing final objective value and training RMSE.</pre>"
      ],
      "text/plain": [
       "Computing final objective value and training RMSE."
      ]
     },
     "metadata": {},
     "output_type": "display_data"
    },
    {
     "data": {
      "text/html": [
       "<pre>       Final objective value: 0.802257</pre>"
      ],
      "text/plain": [
       "       Final objective value: 0.802257"
      ]
     },
     "metadata": {},
     "output_type": "display_data"
    },
    {
     "data": {
      "text/html": [
       "<pre>       Final training RMSE: 0.882646</pre>"
      ],
      "text/plain": [
       "       Final training RMSE: 0.882646"
      ]
     },
     "metadata": {},
     "output_type": "display_data"
    }
   ],
   "source": [
    "rec_engine = gl.factorization_recommender.create(   observation_data=glRatingsTrain, \n",
    "                                                    user_id=\"userID\", \n",
    "                                                    item_id=\"bookID\", \n",
    "                                                    target='rating',\n",
    "                                                    num_factors=4,\n",
    "                                                    solver='auto',\n",
    "                                                    max_iterations=200,\n",
    "                                                    regularization = 1e-3,\n",
    "                                                    linear_regularization = 1e-4\n",
    "                                                    )"
   ]
  },
  {
   "cell_type": "code",
   "execution_count": 72,
   "metadata": {
    "collapsed": false
   },
   "outputs": [
    {
     "name": "stdout",
     "output_type": "stream",
     "text": [
      "0.955881073855\n",
      "-0.000793960755124\n"
     ]
    }
   ],
   "source": [
    "print rec_engine.evaluate_rmse(glRatingsTest, target='rating')['rmse_overall']\n",
    "print rec_engine.evaluate_rmse(glRatingsTest, target='rating')['rmse_overall'] - rec_engine_baseline.evaluate_rmse(glRatingsTest, target='rating')['rmse_overall']"
   ]
  },
  {
   "cell_type": "code",
   "execution_count": null,
   "metadata": {
    "collapsed": true
   },
   "outputs": [],
   "source": [
    "0.897972073875\n",
    "-0.0168723871177"
   ]
  },
  {
   "cell_type": "markdown",
   "metadata": {},
   "source": [
    "SOCIAL MODELS"
   ]
  },
  {
   "cell_type": "code",
   "execution_count": 78,
   "metadata": {
    "collapsed": false
   },
   "outputs": [],
   "source": [
    "glCommMeansTrain, glCommBookMeansTrain, commMeansTrain, commBookMeansTrain = \\\n",
    "makeSocialModelInputs(glRatingsTrainWithComm)"
   ]
  },
  {
   "cell_type": "code",
   "execution_count": 90,
   "metadata": {
    "collapsed": false
   },
   "outputs": [
    {
     "data": {
      "image/png": "[encoded data removed]",
      "text/plain": [
       "<matplotlib.figure.Figure at 0x7faf64308650>"
      ]
     },
     "metadata": {},
     "output_type": "display_data"
    }
   ],
   "source": [
    "meanWeights = np.linspace(0,1,100)\n",
    "\n",
    "#SIMPLE PREDICTION FROM COMM MEANS\n",
    "rmsesSimple = []\n",
    "\n",
    "for weight in meanWeights:\n",
    "    rmsesSimple.append(\\\n",
    "                mixedPred(glRatingsTestWithComm, \\\n",
    "                          commMeansTrain, commBookMeansTrain, commBookMeansTrain, rec_engine, rec_engine, \\\n",
    "                          False, False, True, weight)[1])\n",
    "\n",
    "#SIMPLE PREDICTION FROM COMM MEANS (no book means)\n",
    "rmsesSimpleNoBookMeans = []\n",
    "\n",
    "for weight in meanWeights:\n",
    "    rmsesSimpleNoBookMeans.append(\\\n",
    "                mixedPred(glRatingsTestWithComm, \\\n",
    "                          commMeansTrain, commBookMeansTrain, commBookMeansTrain, rec_engine, rec_engine, \\\n",
    "                          False, False, False, weight)[1])\n",
    "    \n",
    "#FACTORIZING COMM MEANS\n",
    "'''\n",
    "rmsesFac = []\n",
    "for weight in meanWeights:\n",
    "    rmsesFac.append(\\\n",
    "                mixedPred(glRatingsTestWithComm, \\\n",
    "                          commMeansTrain, commBookMeansTrain, rec_engine_8, rec_engine_8 \\\n",
    "                          commMeans_rec_engine_baseline, True, False, True, weight)[1])\n",
    "'''\n",
    "plt.plot(meanWeights, rmsesSimple, '-');\n",
    "plt.plot(meanWeights, rmsesSimpleNoBookMeans, '-');\n",
    "#plt.plot(meanWeights, rmsesFac, '-')"
   ]
  },
  {
   "cell_type": "markdown",
   "metadata": {
    "collapsed": false
   },
   "source": [
    "USING COMMUNITY MEANS OF RECOMMENDER PREDICTIONS"
   ]
  },
  {
   "cell_type": "code",
   "execution_count": 289,
   "metadata": {
    "collapsed": false
   },
   "outputs": [],
   "source": [
    "test = [(bookID, userID) for bookID, userID in product(glRatings['bookID'].unique(), glRatings['userID'].unique())]"
   ]
  },
  {
   "cell_type": "code",
   "execution_count": 290,
   "metadata": {
    "collapsed": false
   },
   "outputs": [],
   "source": [
    "#test\n",
    "testDict = {}\n",
    "npTest = np.array(test)\n",
    "testDict['bookID'] = npTest[:,0]\n",
    "testDict['userID'] = npTest[:,1]\n",
    "sfTest = gl.SFrame(testDict)"
   ]
  },
  {
   "cell_type": "code",
   "execution_count": 291,
   "metadata": {
    "collapsed": false
   },
   "outputs": [],
   "source": [
    "allPreds = rec_engine.predict(sfTest)"
   ]
  },
  {
   "cell_type": "code",
   "execution_count": 292,
   "metadata": {
    "collapsed": false
   },
   "outputs": [
    {
     "data": {
      "text/html": [
       "<div style=\"max-height:1000px;max-width:1500px;overflow:auto;\"><table frame=\"box\" rules=\"cols\">\n",
       "    <tr>\n",
       "        <th style=\"padding-left: 1em; padding-right: 1em; text-align: center\">bookID</th>\n",
       "        <th style=\"padding-left: 1em; padding-right: 1em; text-align: center\">userID</th>\n",
       "        <th style=\"padding-left: 1em; padding-right: 1em; text-align: center\">preds</th>\n",
       "    </tr>\n",
       "    <tr>\n",
       "        <td style=\"padding-left: 1em; padding-right: 1em; text-align: center; vertical-align: top\">1162543</td>\n",
       "        <td style=\"padding-left: 1em; padding-right: 1em; text-align: center; vertical-align: top\">32119</td>\n",
       "        <td style=\"padding-left: 1em; padding-right: 1em; text-align: center; vertical-align: top\">3.12825850667</td>\n",
       "    </tr>\n",
       "    <tr>\n",
       "        <td style=\"padding-left: 1em; padding-right: 1em; text-align: center; vertical-align: top\">1162543</td>\n",
       "        <td style=\"padding-left: 1em; padding-right: 1em; text-align: center; vertical-align: top\">271433</td>\n",
       "        <td style=\"padding-left: 1em; padding-right: 1em; text-align: center; vertical-align: top\">3.12825850667</td>\n",
       "    </tr>\n",
       "    <tr>\n",
       "        <td style=\"padding-left: 1em; padding-right: 1em; text-align: center; vertical-align: top\">1162543</td>\n",
       "        <td style=\"padding-left: 1em; padding-right: 1em; text-align: center; vertical-align: top\">135475</td>\n",
       "        <td style=\"padding-left: 1em; padding-right: 1em; text-align: center; vertical-align: top\">3.12825850667</td>\n",
       "    </tr>\n",
       "    <tr>\n",
       "        <td style=\"padding-left: 1em; padding-right: 1em; text-align: center; vertical-align: top\">1162543</td>\n",
       "        <td style=\"padding-left: 1em; padding-right: 1em; text-align: center; vertical-align: top\">5247</td>\n",
       "        <td style=\"padding-left: 1em; padding-right: 1em; text-align: center; vertical-align: top\">3.12825850667</td>\n",
       "    </tr>\n",
       "    <tr>\n",
       "        <td style=\"padding-left: 1em; padding-right: 1em; text-align: center; vertical-align: top\">1162543</td>\n",
       "        <td style=\"padding-left: 1em; padding-right: 1em; text-align: center; vertical-align: top\">14871</td>\n",
       "        <td style=\"padding-left: 1em; padding-right: 1em; text-align: center; vertical-align: top\">3.12825850667</td>\n",
       "    </tr>\n",
       "    <tr>\n",
       "        <td style=\"padding-left: 1em; padding-right: 1em; text-align: center; vertical-align: top\">1162543</td>\n",
       "        <td style=\"padding-left: 1em; padding-right: 1em; text-align: center; vertical-align: top\">247244</td>\n",
       "        <td style=\"padding-left: 1em; padding-right: 1em; text-align: center; vertical-align: top\">3.12825850667</td>\n",
       "    </tr>\n",
       "    <tr>\n",
       "        <td style=\"padding-left: 1em; padding-right: 1em; text-align: center; vertical-align: top\">1162543</td>\n",
       "        <td style=\"padding-left: 1em; padding-right: 1em; text-align: center; vertical-align: top\">147129</td>\n",
       "        <td style=\"padding-left: 1em; padding-right: 1em; text-align: center; vertical-align: top\">3.12825850667</td>\n",
       "    </tr>\n",
       "    <tr>\n",
       "        <td style=\"padding-left: 1em; padding-right: 1em; text-align: center; vertical-align: top\">1162543</td>\n",
       "        <td style=\"padding-left: 1em; padding-right: 1em; text-align: center; vertical-align: top\">9169100</td>\n",
       "        <td style=\"padding-left: 1em; padding-right: 1em; text-align: center; vertical-align: top\">3.12825850667</td>\n",
       "    </tr>\n",
       "    <tr>\n",
       "        <td style=\"padding-left: 1em; padding-right: 1em; text-align: center; vertical-align: top\">1162543</td>\n",
       "        <td style=\"padding-left: 1em; padding-right: 1em; text-align: center; vertical-align: top\">94664</td>\n",
       "        <td style=\"padding-left: 1em; padding-right: 1em; text-align: center; vertical-align: top\">3.12825850667</td>\n",
       "    </tr>\n",
       "    <tr>\n",
       "        <td style=\"padding-left: 1em; padding-right: 1em; text-align: center; vertical-align: top\">1162543</td>\n",
       "        <td style=\"padding-left: 1em; padding-right: 1em; text-align: center; vertical-align: top\">24243723</td>\n",
       "        <td style=\"padding-left: 1em; padding-right: 1em; text-align: center; vertical-align: top\">3.12825850667</td>\n",
       "    </tr>\n",
       "</table>\n",
       "[1572207 rows x 3 columns]<br/>Note: Only the head of the SFrame is printed.<br/>You can use print_rows(num_rows=m, num_columns=n) to print more rows and columns.\n",
       "</div>"
      ],
      "text/plain": [
       "Columns:\n",
       "\tbookID\tstr\n",
       "\tuserID\tstr\n",
       "\tpreds\tfloat\n",
       "\n",
       "Rows: 1572207\n",
       "\n",
       "Data:\n",
       "+---------+----------+---------------+\n",
       "|  bookID |  userID  |     preds     |\n",
       "+---------+----------+---------------+\n",
       "| 1162543 |  32119   | 3.12825850667 |\n",
       "| 1162543 |  271433  | 3.12825850667 |\n",
       "| 1162543 |  135475  | 3.12825850667 |\n",
       "| 1162543 |   5247   | 3.12825850667 |\n",
       "| 1162543 |  14871   | 3.12825850667 |\n",
       "| 1162543 |  247244  | 3.12825850667 |\n",
       "| 1162543 |  147129  | 3.12825850667 |\n",
       "| 1162543 | 9169100  | 3.12825850667 |\n",
       "| 1162543 |  94664   | 3.12825850667 |\n",
       "| 1162543 | 24243723 | 3.12825850667 |\n",
       "+---------+----------+---------------+\n",
       "[1572207 rows x 3 columns]\n",
       "Note: Only the head of the SFrame is printed.\n",
       "You can use print_rows(num_rows=m, num_columns=n) to print more rows and columns."
      ]
     },
     "execution_count": 292,
     "metadata": {},
     "output_type": "execute_result"
    }
   ],
   "source": [
    "sfTest.add_column(allPreds, 'preds')"
   ]
  },
  {
   "cell_type": "code",
   "execution_count": 293,
   "metadata": {
    "collapsed": false
   },
   "outputs": [
    {
     "data": {
      "text/html": [
       "<div style=\"max-height:1000px;max-width:1500px;overflow:auto;\"><table frame=\"box\" rules=\"cols\">\n",
       "    <tr>\n",
       "        <th style=\"padding-left: 1em; padding-right: 1em; text-align: center\">bookID</th>\n",
       "        <th style=\"padding-left: 1em; padding-right: 1em; text-align: center\">userID</th>\n",
       "        <th style=\"padding-left: 1em; padding-right: 1em; text-align: center\">preds</th>\n",
       "        <th style=\"padding-left: 1em; padding-right: 1em; text-align: center\">comm</th>\n",
       "    </tr>\n",
       "    <tr>\n",
       "        <td style=\"padding-left: 1em; padding-right: 1em; text-align: center; vertical-align: top\">1162543</td>\n",
       "        <td style=\"padding-left: 1em; padding-right: 1em; text-align: center; vertical-align: top\">32119</td>\n",
       "        <td style=\"padding-left: 1em; padding-right: 1em; text-align: center; vertical-align: top\">3.12825850667</td>\n",
       "        <td style=\"padding-left: 1em; padding-right: 1em; text-align: center; vertical-align: top\">8</td>\n",
       "    </tr>\n",
       "    <tr>\n",
       "        <td style=\"padding-left: 1em; padding-right: 1em; text-align: center; vertical-align: top\">1162543</td>\n",
       "        <td style=\"padding-left: 1em; padding-right: 1em; text-align: center; vertical-align: top\">271433</td>\n",
       "        <td style=\"padding-left: 1em; padding-right: 1em; text-align: center; vertical-align: top\">3.12825850667</td>\n",
       "        <td style=\"padding-left: 1em; padding-right: 1em; text-align: center; vertical-align: top\">55</td>\n",
       "    </tr>\n",
       "    <tr>\n",
       "        <td style=\"padding-left: 1em; padding-right: 1em; text-align: center; vertical-align: top\">1162543</td>\n",
       "        <td style=\"padding-left: 1em; padding-right: 1em; text-align: center; vertical-align: top\">135475</td>\n",
       "        <td style=\"padding-left: 1em; padding-right: 1em; text-align: center; vertical-align: top\">3.12825850667</td>\n",
       "        <td style=\"padding-left: 1em; padding-right: 1em; text-align: center; vertical-align: top\">41</td>\n",
       "    </tr>\n",
       "    <tr>\n",
       "        <td style=\"padding-left: 1em; padding-right: 1em; text-align: center; vertical-align: top\">1162543</td>\n",
       "        <td style=\"padding-left: 1em; padding-right: 1em; text-align: center; vertical-align: top\">5247</td>\n",
       "        <td style=\"padding-left: 1em; padding-right: 1em; text-align: center; vertical-align: top\">3.12825850667</td>\n",
       "        <td style=\"padding-left: 1em; padding-right: 1em; text-align: center; vertical-align: top\">21</td>\n",
       "    </tr>\n",
       "    <tr>\n",
       "        <td style=\"padding-left: 1em; padding-right: 1em; text-align: center; vertical-align: top\">1162543</td>\n",
       "        <td style=\"padding-left: 1em; padding-right: 1em; text-align: center; vertical-align: top\">14871</td>\n",
       "        <td style=\"padding-left: 1em; padding-right: 1em; text-align: center; vertical-align: top\">3.12825850667</td>\n",
       "        <td style=\"padding-left: 1em; padding-right: 1em; text-align: center; vertical-align: top\">22</td>\n",
       "    </tr>\n",
       "    <tr>\n",
       "        <td style=\"padding-left: 1em; padding-right: 1em; text-align: center; vertical-align: top\">1162543</td>\n",
       "        <td style=\"padding-left: 1em; padding-right: 1em; text-align: center; vertical-align: top\">247244</td>\n",
       "        <td style=\"padding-left: 1em; padding-right: 1em; text-align: center; vertical-align: top\">3.12825850667</td>\n",
       "        <td style=\"padding-left: 1em; padding-right: 1em; text-align: center; vertical-align: top\">17</td>\n",
       "    </tr>\n",
       "    <tr>\n",
       "        <td style=\"padding-left: 1em; padding-right: 1em; text-align: center; vertical-align: top\">1162543</td>\n",
       "        <td style=\"padding-left: 1em; padding-right: 1em; text-align: center; vertical-align: top\">147129</td>\n",
       "        <td style=\"padding-left: 1em; padding-right: 1em; text-align: center; vertical-align: top\">3.12825850667</td>\n",
       "        <td style=\"padding-left: 1em; padding-right: 1em; text-align: center; vertical-align: top\">46</td>\n",
       "    </tr>\n",
       "    <tr>\n",
       "        <td style=\"padding-left: 1em; padding-right: 1em; text-align: center; vertical-align: top\">1162543</td>\n",
       "        <td style=\"padding-left: 1em; padding-right: 1em; text-align: center; vertical-align: top\">9169100</td>\n",
       "        <td style=\"padding-left: 1em; padding-right: 1em; text-align: center; vertical-align: top\">3.12825850667</td>\n",
       "        <td style=\"padding-left: 1em; padding-right: 1em; text-align: center; vertical-align: top\">68</td>\n",
       "    </tr>\n",
       "    <tr>\n",
       "        <td style=\"padding-left: 1em; padding-right: 1em; text-align: center; vertical-align: top\">1162543</td>\n",
       "        <td style=\"padding-left: 1em; padding-right: 1em; text-align: center; vertical-align: top\">94664</td>\n",
       "        <td style=\"padding-left: 1em; padding-right: 1em; text-align: center; vertical-align: top\">3.12825850667</td>\n",
       "        <td style=\"padding-left: 1em; padding-right: 1em; text-align: center; vertical-align: top\">30</td>\n",
       "    </tr>\n",
       "    <tr>\n",
       "        <td style=\"padding-left: 1em; padding-right: 1em; text-align: center; vertical-align: top\">1162543</td>\n",
       "        <td style=\"padding-left: 1em; padding-right: 1em; text-align: center; vertical-align: top\">24243723</td>\n",
       "        <td style=\"padding-left: 1em; padding-right: 1em; text-align: center; vertical-align: top\">3.12825850667</td>\n",
       "        <td style=\"padding-left: 1em; padding-right: 1em; text-align: center; vertical-align: top\">48</td>\n",
       "    </tr>\n",
       "</table>\n",
       "[1572207 rows x 4 columns]<br/>Note: Only the head of the SFrame is printed.<br/>You can use print_rows(num_rows=m, num_columns=n) to print more rows and columns.\n",
       "</div>"
      ],
      "text/plain": [
       "Columns:\n",
       "\tbookID\tstr\n",
       "\tuserID\tstr\n",
       "\tpreds\tfloat\n",
       "\tcomm\tint\n",
       "\n",
       "Rows: 1572207\n",
       "\n",
       "Data:\n",
       "+---------+----------+---------------+------+\n",
       "|  bookID |  userID  |     preds     | comm |\n",
       "+---------+----------+---------------+------+\n",
       "| 1162543 |  32119   | 3.12825850667 |  8   |\n",
       "| 1162543 |  271433  | 3.12825850667 |  55  |\n",
       "| 1162543 |  135475  | 3.12825850667 |  41  |\n",
       "| 1162543 |   5247   | 3.12825850667 |  21  |\n",
       "| 1162543 |  14871   | 3.12825850667 |  22  |\n",
       "| 1162543 |  247244  | 3.12825850667 |  17  |\n",
       "| 1162543 |  147129  | 3.12825850667 |  46  |\n",
       "| 1162543 | 9169100  | 3.12825850667 |  68  |\n",
       "| 1162543 |  94664   | 3.12825850667 |  30  |\n",
       "| 1162543 | 24243723 | 3.12825850667 |  48  |\n",
       "+---------+----------+---------------+------+\n",
       "[1572207 rows x 4 columns]\n",
       "Note: Only the head of the SFrame is printed.\n",
       "You can use print_rows(num_rows=m, num_columns=n) to print more rows and columns."
      ]
     },
     "execution_count": 293,
     "metadata": {},
     "output_type": "execute_result"
    }
   ],
   "source": [
    "commDict = {uID: i for i, comm in enumerate(allComms) for uID in comm}\n",
    "\n",
    "sfTest.add_column(sfTest['userID'].apply(lambda x: commDict[int(x)]), 'comm')"
   ]
  },
  {
   "cell_type": "code",
   "execution_count": 294,
   "metadata": {
    "collapsed": false
   },
   "outputs": [
    {
     "data": {
      "text/html": [
       "<div style=\"max-height:1000px;max-width:1500px;overflow:auto;\"><table frame=\"box\" rules=\"cols\">\n",
       "    <tr>\n",
       "        <th style=\"padding-left: 1em; padding-right: 1em; text-align: center\">bookID</th>\n",
       "        <th style=\"padding-left: 1em; padding-right: 1em; text-align: center\">comm</th>\n",
       "        <th style=\"padding-left: 1em; padding-right: 1em; text-align: center\">avgPreds</th>\n",
       "    </tr>\n",
       "    <tr>\n",
       "        <td style=\"padding-left: 1em; padding-right: 1em; text-align: center; vertical-align: top\">10569</td>\n",
       "        <td style=\"padding-left: 1em; padding-right: 1em; text-align: center; vertical-align: top\">55</td>\n",
       "        <td style=\"padding-left: 1em; padding-right: 1em; text-align: center; vertical-align: top\">3.9418471557</td>\n",
       "    </tr>\n",
       "    <tr>\n",
       "        <td style=\"padding-left: 1em; padding-right: 1em; text-align: center; vertical-align: top\">11278959</td>\n",
       "        <td style=\"padding-left: 1em; padding-right: 1em; text-align: center; vertical-align: top\">59</td>\n",
       "        <td style=\"padding-left: 1em; padding-right: 1em; text-align: center; vertical-align: top\">3.82443926753</td>\n",
       "    </tr>\n",
       "    <tr>\n",
       "        <td style=\"padding-left: 1em; padding-right: 1em; text-align: center; vertical-align: top\">28381</td>\n",
       "        <td style=\"padding-left: 1em; padding-right: 1em; text-align: center; vertical-align: top\">4</td>\n",
       "        <td style=\"padding-left: 1em; padding-right: 1em; text-align: center; vertical-align: top\">3.94098321618</td>\n",
       "    </tr>\n",
       "    <tr>\n",
       "        <td style=\"padding-left: 1em; padding-right: 1em; text-align: center; vertical-align: top\">17336704</td>\n",
       "        <td style=\"padding-left: 1em; padding-right: 1em; text-align: center; vertical-align: top\">24</td>\n",
       "        <td style=\"padding-left: 1em; padding-right: 1em; text-align: center; vertical-align: top\">3.82443926753</td>\n",
       "    </tr>\n",
       "    <tr>\n",
       "        <td style=\"padding-left: 1em; padding-right: 1em; text-align: center; vertical-align: top\">485894</td>\n",
       "        <td style=\"padding-left: 1em; padding-right: 1em; text-align: center; vertical-align: top\">49</td>\n",
       "        <td style=\"padding-left: 1em; padding-right: 1em; text-align: center; vertical-align: top\">3.90956268729</td>\n",
       "    </tr>\n",
       "    <tr>\n",
       "        <td style=\"padding-left: 1em; padding-right: 1em; text-align: center; vertical-align: top\">7937843</td>\n",
       "        <td style=\"padding-left: 1em; padding-right: 1em; text-align: center; vertical-align: top\">46</td>\n",
       "        <td style=\"padding-left: 1em; padding-right: 1em; text-align: center; vertical-align: top\">3.80291375042</td>\n",
       "    </tr>\n",
       "    <tr>\n",
       "        <td style=\"padding-left: 1em; padding-right: 1em; text-align: center; vertical-align: top\">29209</td>\n",
       "        <td style=\"padding-left: 1em; padding-right: 1em; text-align: center; vertical-align: top\">2</td>\n",
       "        <td style=\"padding-left: 1em; padding-right: 1em; text-align: center; vertical-align: top\">3.97591663421</td>\n",
       "    </tr>\n",
       "    <tr>\n",
       "        <td style=\"padding-left: 1em; padding-right: 1em; text-align: center; vertical-align: top\">420282</td>\n",
       "        <td style=\"padding-left: 1em; padding-right: 1em; text-align: center; vertical-align: top\">2</td>\n",
       "        <td style=\"padding-left: 1em; padding-right: 1em; text-align: center; vertical-align: top\">3.99267018856</td>\n",
       "    </tr>\n",
       "    <tr>\n",
       "        <td style=\"padding-left: 1em; padding-right: 1em; text-align: center; vertical-align: top\">216363</td>\n",
       "        <td style=\"padding-left: 1em; padding-right: 1em; text-align: center; vertical-align: top\">4</td>\n",
       "        <td style=\"padding-left: 1em; padding-right: 1em; text-align: center; vertical-align: top\">4.02006268025</td>\n",
       "    </tr>\n",
       "    <tr>\n",
       "        <td style=\"padding-left: 1em; padding-right: 1em; text-align: center; vertical-align: top\">11590</td>\n",
       "        <td style=\"padding-left: 1em; padding-right: 1em; text-align: center; vertical-align: top\">30</td>\n",
       "        <td style=\"padding-left: 1em; padding-right: 1em; text-align: center; vertical-align: top\">3.53122446955</td>\n",
       "    </tr>\n",
       "</table>\n",
       "[95688 rows x 3 columns]<br/>Note: Only the head of the SFrame is printed.<br/>You can use print_rows(num_rows=m, num_columns=n) to print more rows and columns.\n",
       "</div>"
      ],
      "text/plain": [
       "Columns:\n",
       "\tbookID\tstr\n",
       "\tcomm\tint\n",
       "\tavgPreds\tfloat\n",
       "\n",
       "Rows: 95688\n",
       "\n",
       "Data:\n",
       "+----------+------+---------------+\n",
       "|  bookID  | comm |    avgPreds   |\n",
       "+----------+------+---------------+\n",
       "|  10569   |  55  |  3.9418471557 |\n",
       "| 11278959 |  59  | 3.82443926753 |\n",
       "|  28381   |  4   | 3.94098321618 |\n",
       "| 17336704 |  24  | 3.82443926753 |\n",
       "|  485894  |  49  | 3.90956268729 |\n",
       "| 7937843  |  46  | 3.80291375042 |\n",
       "|  29209   |  2   | 3.97591663421 |\n",
       "|  420282  |  2   | 3.99267018856 |\n",
       "|  216363  |  4   | 4.02006268025 |\n",
       "|  11590   |  30  | 3.53122446955 |\n",
       "+----------+------+---------------+\n",
       "[95688 rows x 3 columns]\n",
       "Note: Only the head of the SFrame is printed.\n",
       "You can use print_rows(num_rows=m, num_columns=n) to print more rows and columns."
      ]
     },
     "execution_count": 294,
     "metadata": {},
     "output_type": "execute_result"
    }
   ],
   "source": [
    "sfTest[['bookID', 'preds', 'comm']].groupby(['bookID', 'comm'], {'avgPreds': gl.aggregate.AVG('preds')})"
   ]
  },
  {
   "cell_type": "code",
   "execution_count": 295,
   "metadata": {
    "collapsed": true
   },
   "outputs": [],
   "source": [
    "factorCommBookMeansTrain = {}\n",
    "for row in sfTest:\n",
    "    factorCommBookMeansTrain[(row['bookID'], row['comm'])] = row['preds']\n"
   ]
  },
  {
   "cell_type": "code",
   "execution_count": 355,
   "metadata": {
    "collapsed": false
   },
   "outputs": [
    {
     "data": {
      "text/plain": [
       "[<matplotlib.lines.Line2D at 0x7faf0c1c7fd0>]"
      ]
     },
     "execution_count": 355,
     "metadata": {},
     "output_type": "execute_result"
    },
    {
     "data": {
      "image/png": "[encoded data removed]",
      "text/plain": [
       "<matplotlib.figure.Figure at 0x7faf44693e90>"
      ]
     },
     "metadata": {},
     "output_type": "display_data"
    }
   ],
   "source": [
    "meanWeights = np.linspace(0,1,100)\n",
    "\n",
    "#SIMPLE PREDICTION FROM COMM MEANS\n",
    "rmsesSimple = []\n",
    "\n",
    "for weight in meanWeights:\n",
    "    rmsesSimple.append(\\\n",
    "                mixedPred(glRatingsTestWithComm, \\\n",
    "                          commMeansTrain, commBookMeansTrain, commBookMeansTrain, rec_engine, rec_engine, \\\n",
    "                          False, False, True, weight)[1])\n",
    "\n",
    "#SIMPLE PREDICTION FROM COMM MEANS (no book means)\n",
    "rmsesSimpleNoBookMeans = []\n",
    "\n",
    "for weight in meanWeights:\n",
    "    rmsesSimpleNoBookMeans.append(\\\n",
    "                mixedPred(glRatingsTestWithComm, \\\n",
    "                          commMeansTrain, commBookMeansTrain, commBookMeansTrain, rec_engine, rec_engine, \\\n",
    "                          False, False, False, weight)[1])\n",
    "    \n",
    "#FACTORIZING COMM MEANS\n",
    "\n",
    "rmsesFac = []\n",
    "for weight in meanWeights:\n",
    "    rmsesFac.append(\\\n",
    "                mixedPred(glRatingsTestWithComm, \\\n",
    "                          commMeansTrain, commBookMeansTrain, factorCommBookMeansTrain, rec_engine, rec_engine, \\\n",
    "                          True, False, True, weight)[1])\n",
    "\n",
    "plt.plot(meanWeights, rmsesSimple, '-');\n",
    "plt.plot(meanWeights, rmsesSimpleNoBookMeans, '-');\n",
    "plt.plot(meanWeights, rmsesFac, '-')"
   ]
  },
  {
   "cell_type": "code",
   "execution_count": 321,
   "metadata": {
    "collapsed": false
   },
   "outputs": [
    {
     "name": "stdout",
     "output_type": "stream",
     "text": [
      "0.141414141414\n",
      "0.892687968099\n"
     ]
    }
   ],
   "source": [
    "print meanWeights[np.argmin(rmsesSimple)]\n",
    "print rmsesSimple[np.argmin(rmsesSimple)]"
   ]
  },
  {
   "cell_type": "markdown",
   "metadata": {},
   "source": [
    "FACTORIZATION RECOMMENDER FOR RAW (COMMUNITY-BOOK-RATING) DATA"
   ]
  },
  {
   "cell_type": "code",
   "execution_count": 93,
   "metadata": {
    "collapsed": false
   },
   "outputs": [],
   "source": [
    "glCommTrain = glRatingsTrainWithComm.copy()['bookID', 'comm', 'rating']\n",
    "glCommTest = glRatingsTestWithComm.copy()['bookID', 'comm', 'rating']"
   ]
  },
  {
   "cell_type": "code",
   "execution_count": 94,
   "metadata": {
    "collapsed": false
   },
   "outputs": [
    {
     "data": {
      "text/html": [
       "<div style=\"max-height:1000px;max-width:1500px;overflow:auto;\"><table frame=\"box\" rules=\"cols\">\n",
       "    <tr>\n",
       "        <th style=\"padding-left: 1em; padding-right: 1em; text-align: center\">bookID</th>\n",
       "        <th style=\"padding-left: 1em; padding-right: 1em; text-align: center\">comm</th>\n",
       "        <th style=\"padding-left: 1em; padding-right: 1em; text-align: center\">rating</th>\n",
       "    </tr>\n",
       "    <tr>\n",
       "        <td style=\"padding-left: 1em; padding-right: 1em; text-align: center; vertical-align: top\">125404</td>\n",
       "        <td style=\"padding-left: 1em; padding-right: 1em; text-align: center; vertical-align: top\">72</td>\n",
       "        <td style=\"padding-left: 1em; padding-right: 1em; text-align: center; vertical-align: top\">5</td>\n",
       "    </tr>\n",
       "    <tr>\n",
       "        <td style=\"padding-left: 1em; padding-right: 1em; text-align: center; vertical-align: top\">8600</td>\n",
       "        <td style=\"padding-left: 1em; padding-right: 1em; text-align: center; vertical-align: top\">72</td>\n",
       "        <td style=\"padding-left: 1em; padding-right: 1em; text-align: center; vertical-align: top\">4</td>\n",
       "    </tr>\n",
       "    <tr>\n",
       "        <td style=\"padding-left: 1em; padding-right: 1em; text-align: center; vertical-align: top\">2657</td>\n",
       "        <td style=\"padding-left: 1em; padding-right: 1em; text-align: center; vertical-align: top\">72</td>\n",
       "        <td style=\"padding-left: 1em; padding-right: 1em; text-align: center; vertical-align: top\">5</td>\n",
       "    </tr>\n",
       "    <tr>\n",
       "        <td style=\"padding-left: 1em; padding-right: 1em; text-align: center; vertical-align: top\">4981</td>\n",
       "        <td style=\"padding-left: 1em; padding-right: 1em; text-align: center; vertical-align: top\">72</td>\n",
       "        <td style=\"padding-left: 1em; padding-right: 1em; text-align: center; vertical-align: top\">4</td>\n",
       "    </tr>\n",
       "    <tr>\n",
       "        <td style=\"padding-left: 1em; padding-right: 1em; text-align: center; vertical-align: top\">4983</td>\n",
       "        <td style=\"padding-left: 1em; padding-right: 1em; text-align: center; vertical-align: top\">72</td>\n",
       "        <td style=\"padding-left: 1em; padding-right: 1em; text-align: center; vertical-align: top\">4</td>\n",
       "    </tr>\n",
       "    <tr>\n",
       "        <td style=\"padding-left: 1em; padding-right: 1em; text-align: center; vertical-align: top\">17716</td>\n",
       "        <td style=\"padding-left: 1em; padding-right: 1em; text-align: center; vertical-align: top\">72</td>\n",
       "        <td style=\"padding-left: 1em; padding-right: 1em; text-align: center; vertical-align: top\">5</td>\n",
       "    </tr>\n",
       "    <tr>\n",
       "        <td style=\"padding-left: 1em; padding-right: 1em; text-align: center; vertical-align: top\">10037</td>\n",
       "        <td style=\"padding-left: 1em; padding-right: 1em; text-align: center; vertical-align: top\">72</td>\n",
       "        <td style=\"padding-left: 1em; padding-right: 1em; text-align: center; vertical-align: top\">5</td>\n",
       "    </tr>\n",
       "    <tr>\n",
       "        <td style=\"padding-left: 1em; padding-right: 1em; text-align: center; vertical-align: top\">4138</td>\n",
       "        <td style=\"padding-left: 1em; padding-right: 1em; text-align: center; vertical-align: top\">46</td>\n",
       "        <td style=\"padding-left: 1em; padding-right: 1em; text-align: center; vertical-align: top\">4</td>\n",
       "    </tr>\n",
       "    <tr>\n",
       "        <td style=\"padding-left: 1em; padding-right: 1em; text-align: center; vertical-align: top\">1097</td>\n",
       "        <td style=\"padding-left: 1em; padding-right: 1em; text-align: center; vertical-align: top\">72</td>\n",
       "        <td style=\"padding-left: 1em; padding-right: 1em; text-align: center; vertical-align: top\">5</td>\n",
       "    </tr>\n",
       "    <tr>\n",
       "        <td style=\"padding-left: 1em; padding-right: 1em; text-align: center; vertical-align: top\">2767</td>\n",
       "        <td style=\"padding-left: 1em; padding-right: 1em; text-align: center; vertical-align: top\">72</td>\n",
       "        <td style=\"padding-left: 1em; padding-right: 1em; text-align: center; vertical-align: top\">5</td>\n",
       "    </tr>\n",
       "</table>\n",
       "[36916 rows x 3 columns]<br/>Note: Only the head of the SFrame is printed.<br/>You can use print_rows(num_rows=m, num_columns=n) to print more rows and columns.\n",
       "</div>"
      ],
      "text/plain": [
       "Columns:\n",
       "\tbookID\tstr\n",
       "\tcomm\tint\n",
       "\trating\tint\n",
       "\n",
       "Rows: 36916\n",
       "\n",
       "Data:\n",
       "+--------+------+--------+\n",
       "| bookID | comm | rating |\n",
       "+--------+------+--------+\n",
       "| 125404 |  72  |   5    |\n",
       "|  8600  |  72  |   4    |\n",
       "|  2657  |  72  |   5    |\n",
       "|  4981  |  72  |   4    |\n",
       "|  4983  |  72  |   4    |\n",
       "| 17716  |  72  |   5    |\n",
       "| 10037  |  72  |   5    |\n",
       "|  4138  |  46  |   4    |\n",
       "|  1097  |  72  |   5    |\n",
       "|  2767  |  72  |   5    |\n",
       "+--------+------+--------+\n",
       "[36916 rows x 3 columns]\n",
       "Note: Only the head of the SFrame is printed.\n",
       "You can use print_rows(num_rows=m, num_columns=n) to print more rows and columns."
      ]
     },
     "execution_count": 94,
     "metadata": {},
     "output_type": "execute_result"
    }
   ],
   "source": [
    "glCommTrain"
   ]
  },
  {
   "cell_type": "code",
   "execution_count": 95,
   "metadata": {
    "collapsed": false,
    "scrolled": true
   },
   "outputs": [
    {
     "name": "stdout",
     "output_type": "stream",
     "text": [
      "36916 observations\n",
      "71 users\n",
      "1047 books\n",
      "\n",
      "A recommender with 0 factor(s) (plus linear terms) would use 3.0% of the degrees of freedom present in the data.\n",
      "(33.0 observations per model degree of freedom)\n",
      "\n",
      "A recommender with 1 factor(s) (plus linear terms) would use 6.1% of the degrees of freedom present in the data.\n",
      "(16.5 observations per model degree of freedom)\n",
      "\n",
      "A recommender with 2 factor(s) (plus linear terms) would use 9.1% of the degrees of freedom present in the data.\n",
      "(11.0 observations per model degree of freedom)\n",
      "\n",
      "A recommender with 3 factor(s) (plus linear terms) would use 12.1% of the degrees of freedom present in the data.\n",
      "(8.3 observations per model degree of freedom)\n",
      "\n",
      "A recommender with 4 factor(s) (plus linear terms) would use 15.1% of the degrees of freedom present in the data.\n",
      "(6.6 observations per model degree of freedom)\n",
      "\n",
      "A recommender with 5 factor(s) (plus linear terms) would use 18.2% of the degrees of freedom present in the data.\n",
      "(5.5 observations per model degree of freedom)\n",
      "\n",
      "A recommender with 6 factor(s) (plus linear terms) would use 21.2% of the degrees of freedom present in the data.\n",
      "(4.7 observations per model degree of freedom)\n",
      "\n",
      "A recommender with 7 factor(s) (plus linear terms) would use 24.2% of the degrees of freedom present in the data.\n",
      "(4.1 observations per model degree of freedom)\n",
      "\n",
      "A recommender with 8 factor(s) (plus linear terms) would use 27.3% of the degrees of freedom present in the data.\n",
      "(3.7 observations per model degree of freedom)\n",
      "\n"
     ]
    }
   ],
   "source": [
    "degreesOfFreedomStats(glCommTrain)"
   ]
  },
  {
   "cell_type": "code",
   "execution_count": 126,
   "metadata": {
    "collapsed": false
   },
   "outputs": [
    {
     "data": {
      "text/html": [
       "<pre>Recsys training: model = factorization_recommender</pre>"
      ],
      "text/plain": [
       "Recsys training: model = factorization_recommender"
      ]
     },
     "metadata": {},
     "output_type": "display_data"
    },
    {
     "data": {
      "text/html": [
       "<pre>Preparing data set.</pre>"
      ],
      "text/plain": [
       "Preparing data set."
      ]
     },
     "metadata": {},
     "output_type": "display_data"
    },
    {
     "data": {
      "text/html": [
       "<pre>    Data has 36916 observations with 71 users and 1047 items.</pre>"
      ],
      "text/plain": [
       "    Data has 36916 observations with 71 users and 1047 items."
      ]
     },
     "metadata": {},
     "output_type": "display_data"
    },
    {
     "data": {
      "text/html": [
       "<pre>    Data prepared in: 0.101007s</pre>"
      ],
      "text/plain": [
       "    Data prepared in: 0.101007s"
      ]
     },
     "metadata": {},
     "output_type": "display_data"
    },
    {
     "data": {
      "text/html": [
       "<pre>Training factorization_recommender for recommendations.</pre>"
      ],
      "text/plain": [
       "Training factorization_recommender for recommendations."
      ]
     },
     "metadata": {},
     "output_type": "display_data"
    },
    {
     "data": {
      "text/html": [
       "<pre>+--------------------------------+--------------------------------------------------+----------+</pre>"
      ],
      "text/plain": [
       "+--------------------------------+--------------------------------------------------+----------+"
      ]
     },
     "metadata": {},
     "output_type": "display_data"
    },
    {
     "data": {
      "text/html": [
       "<pre>| Parameter                      | Description                                      | Value    |</pre>"
      ],
      "text/plain": [
       "| Parameter                      | Description                                      | Value    |"
      ]
     },
     "metadata": {},
     "output_type": "display_data"
    },
    {
     "data": {
      "text/html": [
       "<pre>+--------------------------------+--------------------------------------------------+----------+</pre>"
      ],
      "text/plain": [
       "+--------------------------------+--------------------------------------------------+----------+"
      ]
     },
     "metadata": {},
     "output_type": "display_data"
    },
    {
     "data": {
      "text/html": [
       "<pre>| num_factors                    | Factor Dimension                                 | 0        |</pre>"
      ],
      "text/plain": [
       "| num_factors                    | Factor Dimension                                 | 0        |"
      ]
     },
     "metadata": {},
     "output_type": "display_data"
    },
    {
     "data": {
      "text/html": [
       "<pre>| regularization                 | L2 Regularization on Factors                     | 0.001    |</pre>"
      ],
      "text/plain": [
       "| regularization                 | L2 Regularization on Factors                     | 0.001    |"
      ]
     },
     "metadata": {},
     "output_type": "display_data"
    },
    {
     "data": {
      "text/html": [
       "<pre>| solver                         | Solver used for training                         | sgd      |</pre>"
      ],
      "text/plain": [
       "| solver                         | Solver used for training                         | sgd      |"
      ]
     },
     "metadata": {},
     "output_type": "display_data"
    },
    {
     "data": {
      "text/html": [
       "<pre>| linear_regularization          | L2 Regularization on Linear Coefficients         | 0.0001   |</pre>"
      ],
      "text/plain": [
       "| linear_regularization          | L2 Regularization on Linear Coefficients         | 0.0001   |"
      ]
     },
     "metadata": {},
     "output_type": "display_data"
    },
    {
     "data": {
      "text/html": [
       "<pre>| max_iterations                 | Maximum Number of Iterations                     | 200      |</pre>"
      ],
      "text/plain": [
       "| max_iterations                 | Maximum Number of Iterations                     | 200      |"
      ]
     },
     "metadata": {},
     "output_type": "display_data"
    },
    {
     "data": {
      "text/html": [
       "<pre>+--------------------------------+--------------------------------------------------+----------+</pre>"
      ],
      "text/plain": [
       "+--------------------------------+--------------------------------------------------+----------+"
      ]
     },
     "metadata": {},
     "output_type": "display_data"
    },
    {
     "data": {
      "text/html": [
       "<pre>  Optimizing model using SGD; tuning step size.</pre>"
      ],
      "text/plain": [
       "  Optimizing model using SGD; tuning step size."
      ]
     },
     "metadata": {},
     "output_type": "display_data"
    },
    {
     "data": {
      "text/html": [
       "<pre>  Using 10000 / 36916 points for tuning the step size.</pre>"
      ],
      "text/plain": [
       "  Using 10000 / 36916 points for tuning the step size."
      ]
     },
     "metadata": {},
     "output_type": "display_data"
    },
    {
     "data": {
      "text/html": [
       "<pre>+---------+-------------------+------------------------------------------+</pre>"
      ],
      "text/plain": [
       "+---------+-------------------+------------------------------------------+"
      ]
     },
     "metadata": {},
     "output_type": "display_data"
    },
    {
     "data": {
      "text/html": [
       "<pre>| Attempt | Initial Step Size | Estimated Objective Value                |</pre>"
      ],
      "text/plain": [
       "| Attempt | Initial Step Size | Estimated Objective Value                |"
      ]
     },
     "metadata": {},
     "output_type": "display_data"
    },
    {
     "data": {
      "text/html": [
       "<pre>+---------+-------------------+------------------------------------------+</pre>"
      ],
      "text/plain": [
       "+---------+-------------------+------------------------------------------+"
      ]
     },
     "metadata": {},
     "output_type": "display_data"
    },
    {
     "data": {
      "text/html": [
       "<pre>| 0       | 1.99397           | 0.882658                                 |</pre>"
      ],
      "text/plain": [
       "| 0       | 1.99397           | 0.882658                                 |"
      ]
     },
     "metadata": {},
     "output_type": "display_data"
    },
    {
     "data": {
      "text/html": [
       "<pre>| 1       | 0.996983          | 0.883327                                 |</pre>"
      ],
      "text/plain": [
       "| 1       | 0.996983          | 0.883327                                 |"
      ]
     },
     "metadata": {},
     "output_type": "display_data"
    },
    {
     "data": {
      "text/html": [
       "<pre>| 2       | 0.498491          | 0.879268                                 |</pre>"
      ],
      "text/plain": [
       "| 2       | 0.498491          | 0.879268                                 |"
      ]
     },
     "metadata": {},
     "output_type": "display_data"
    },
    {
     "data": {
      "text/html": [
       "<pre>| 3       | 0.249246          | 0.855517                                 |</pre>"
      ],
      "text/plain": [
       "| 3       | 0.249246          | 0.855517                                 |"
      ]
     },
     "metadata": {},
     "output_type": "display_data"
    },
    {
     "data": {
      "text/html": [
       "<pre>| 4       | 0.124623          | 0.835698                                 |</pre>"
      ],
      "text/plain": [
       "| 4       | 0.124623          | 0.835698                                 |"
      ]
     },
     "metadata": {},
     "output_type": "display_data"
    },
    {
     "data": {
      "text/html": [
       "<pre>| 5       | 0.0623114         | 0.840044                                 |</pre>"
      ],
      "text/plain": [
       "| 5       | 0.0623114         | 0.840044                                 |"
      ]
     },
     "metadata": {},
     "output_type": "display_data"
    },
    {
     "data": {
      "text/html": [
       "<pre>| 6       | 0.0311557         | 0.844448                                 |</pre>"
      ],
      "text/plain": [
       "| 6       | 0.0311557         | 0.844448                                 |"
      ]
     },
     "metadata": {},
     "output_type": "display_data"
    },
    {
     "data": {
      "text/html": [
       "<pre>| 7       | 0.0155779         | 0.863571                                 |</pre>"
      ],
      "text/plain": [
       "| 7       | 0.0155779         | 0.863571                                 |"
      ]
     },
     "metadata": {},
     "output_type": "display_data"
    },
    {
     "data": {
      "text/html": [
       "<pre>+---------+-------------------+------------------------------------------+</pre>"
      ],
      "text/plain": [
       "+---------+-------------------+------------------------------------------+"
      ]
     },
     "metadata": {},
     "output_type": "display_data"
    },
    {
     "data": {
      "text/html": [
       "<pre>| Final   | 0.124623          | 0.835698                                 |</pre>"
      ],
      "text/plain": [
       "| Final   | 0.124623          | 0.835698                                 |"
      ]
     },
     "metadata": {},
     "output_type": "display_data"
    },
    {
     "data": {
      "text/html": [
       "<pre>+---------+-------------------+------------------------------------------+</pre>"
      ],
      "text/plain": [
       "+---------+-------------------+------------------------------------------+"
      ]
     },
     "metadata": {},
     "output_type": "display_data"
    },
    {
     "data": {
      "text/html": [
       "<pre>Starting Optimization.</pre>"
      ],
      "text/plain": [
       "Starting Optimization."
      ]
     },
     "metadata": {},
     "output_type": "display_data"
    },
    {
     "data": {
      "text/html": [
       "<pre>+---------+--------------+-------------------+-----------------------+-------------+</pre>"
      ],
      "text/plain": [
       "+---------+--------------+-------------------+-----------------------+-------------+"
      ]
     },
     "metadata": {},
     "output_type": "display_data"
    },
    {
     "data": {
      "text/html": [
       "<pre>| Iter.   | Elapsed Time | Approx. Objective | Approx. Training RMSE | Step Size   |</pre>"
      ],
      "text/plain": [
       "| Iter.   | Elapsed Time | Approx. Objective | Approx. Training RMSE | Step Size   |"
      ]
     },
     "metadata": {},
     "output_type": "display_data"
    },
    {
     "data": {
      "text/html": [
       "<pre>+---------+--------------+-------------------+-----------------------+-------------+</pre>"
      ],
      "text/plain": [
       "+---------+--------------+-------------------+-----------------------+-------------+"
      ]
     },
     "metadata": {},
     "output_type": "display_data"
    },
    {
     "data": {
      "text/html": [
       "<pre>| Initial | 64us         | 1.03828           | 1.01896               |             |</pre>"
      ],
      "text/plain": [
       "| Initial | 64us         | 1.03828           | 1.01896               |             |"
      ]
     },
     "metadata": {},
     "output_type": "display_data"
    },
    {
     "data": {
      "text/html": [
       "<pre>+---------+--------------+-------------------+-----------------------+-------------+</pre>"
      ],
      "text/plain": [
       "+---------+--------------+-------------------+-----------------------+-------------+"
      ]
     },
     "metadata": {},
     "output_type": "display_data"
    },
    {
     "data": {
      "text/html": [
       "<pre>| 1       | 608.444ms    | 1.18964           | 1.07828               | 0.124623    |</pre>"
      ],
      "text/plain": [
       "| 1       | 608.444ms    | 1.18964           | 1.07828               | 0.124623    |"
      ]
     },
     "metadata": {},
     "output_type": "display_data"
    },
    {
     "data": {
      "text/html": [
       "<pre>| 2       | 1.21s        | 0.966849          | 0.975315              | 0.0222518   |</pre>"
      ],
      "text/plain": [
       "| 2       | 1.21s        | 0.966849          | 0.975315              | 0.0222518   |"
      ]
     },
     "metadata": {},
     "output_type": "display_data"
    },
    {
     "data": {
      "text/html": [
       "<pre>| 3       | 1.84s        | 0.919175          | 0.951043              | 0.0122165   |</pre>"
      ],
      "text/plain": [
       "| 3       | 1.84s        | 0.919175          | 0.951043              | 0.0122165   |"
      ]
     },
     "metadata": {},
     "output_type": "display_data"
    },
    {
     "data": {
      "text/html": [
       "<pre>| 4       | 2.42s        | 0.908121          | 0.945404              | 0.00831321  |</pre>"
      ],
      "text/plain": [
       "| 4       | 2.42s        | 0.908121          | 0.945404              | 0.00831321  |"
      ]
     },
     "metadata": {},
     "output_type": "display_data"
    },
    {
     "data": {
      "text/html": [
       "<pre>| 5       | 3.03s        | 0.903712          | 0.943123              | 0.00636106  |</pre>"
      ],
      "text/plain": [
       "| 5       | 3.03s        | 0.903712          | 0.943123              | 0.00636106  |"
      ]
     },
     "metadata": {},
     "output_type": "display_data"
    },
    {
     "data": {
      "text/html": [
       "<pre>| 6       | 3.62s        | 0.900825          | 0.941649              | 0.00515139  |</pre>"
      ],
      "text/plain": [
       "| 6       | 3.62s        | 0.900825          | 0.941649              | 0.00515139  |"
      ]
     },
     "metadata": {},
     "output_type": "display_data"
    },
    {
     "data": {
      "text/html": [
       "<pre>| 10      | 6.01s        | 0.895719          | 0.938973              | 0.0029258   |</pre>"
      ],
      "text/plain": [
       "| 10      | 6.01s        | 0.895719          | 0.938973              | 0.0029258   |"
      ]
     },
     "metadata": {},
     "output_type": "display_data"
    },
    {
     "data": {
      "text/html": [
       "<pre>| 11      | 6.59s        | 0.895427          | 0.938812              | 0.0026406   |</pre>"
      ],
      "text/plain": [
       "| 11      | 6.59s        | 0.895427          | 0.938812              | 0.0026406   |"
      ]
     },
     "metadata": {},
     "output_type": "display_data"
    },
    {
     "data": {
      "text/html": [
       "<pre>| 15      | 9.02s        | 0.893485          | 0.937783              | 0.00189982  |</pre>"
      ],
      "text/plain": [
       "| 15      | 9.02s        | 0.893485          | 0.937783              | 0.00189982  |"
      ]
     },
     "metadata": {},
     "output_type": "display_data"
    },
    {
     "data": {
      "text/html": [
       "<pre>| 20      | 12.06s       | 0.892173          | 0.937087              | 0.00140658  |</pre>"
      ],
      "text/plain": [
       "| 20      | 12.06s       | 0.892173          | 0.937087              | 0.00140658  |"
      ]
     },
     "metadata": {},
     "output_type": "display_data"
    },
    {
     "data": {
      "text/html": [
       "<pre>| 25      | 15.10s       | 0.891462          | 0.936706              | 0.00110861  |</pre>"
      ],
      "text/plain": [
       "| 25      | 15.10s       | 0.891462          | 0.936706              | 0.00110861  |"
      ]
     },
     "metadata": {},
     "output_type": "display_data"
    },
    {
     "data": {
      "text/html": [
       "<pre>| 30      | 18.07s       | 0.890854          | 0.936382              | 0.000911117 |</pre>"
      ],
      "text/plain": [
       "| 30      | 18.07s       | 0.890854          | 0.936382              | 0.000911117 |"
      ]
     },
     "metadata": {},
     "output_type": "display_data"
    },
    {
     "data": {
      "text/html": [
       "<pre>| 35      | 21.07s       | 0.890175          | 0.93602               | 0.000768914 |</pre>"
      ],
      "text/plain": [
       "| 35      | 21.07s       | 0.890175          | 0.93602               | 0.000768914 |"
      ]
     },
     "metadata": {},
     "output_type": "display_data"
    },
    {
     "data": {
      "text/html": [
       "<pre>| 40      | 24.08s       | 0.890089          | 0.935969              | 0.000653378 |</pre>"
      ],
      "text/plain": [
       "| 40      | 24.08s       | 0.890089          | 0.935969              | 0.000653378 |"
      ]
     },
     "metadata": {},
     "output_type": "display_data"
    },
    {
     "data": {
      "text/html": [
       "<pre>| 45      | 27.12s       | 0.889158          | 0.935471              | 0.000316996 |</pre>"
      ],
      "text/plain": [
       "| 45      | 27.12s       | 0.889158          | 0.935471              | 0.000316996 |"
      ]
     },
     "metadata": {},
     "output_type": "display_data"
    },
    {
     "data": {
      "text/html": [
       "<pre>| 50      | 30.12s       | 0.888582          | 0.935162              | 0.000146455 |</pre>"
      ],
      "text/plain": [
       "| 50      | 30.12s       | 0.888582          | 0.935162              | 0.000146455 |"
      ]
     },
     "metadata": {},
     "output_type": "display_data"
    },
    {
     "data": {
      "text/html": [
       "<pre>| 51      | 30.34s       | 0.888575          | 0.935158              | 0.000144296 |</pre>"
      ],
      "text/plain": [
       "| 51      | 30.34s       | 0.888575          | 0.935158              | 0.000144296 |"
      ]
     },
     "metadata": {},
     "output_type": "display_data"
    },
    {
     "data": {
      "text/html": [
       "<pre>| 55      | 32.73s       | 0.888411          | 0.93507               | 9.64152e-05 |</pre>"
      ],
      "text/plain": [
       "| 55      | 32.73s       | 0.888411          | 0.93507               | 9.64152e-05 |"
      ]
     },
     "metadata": {},
     "output_type": "display_data"
    },
    {
     "data": {
      "text/html": [
       "<pre>| 60      | 35.68s       | 0.888339          | 0.935032              | 7.59533e-05 |</pre>"
      ],
      "text/plain": [
       "| 60      | 35.68s       | 0.888339          | 0.935032              | 7.59533e-05 |"
      ]
     },
     "metadata": {},
     "output_type": "display_data"
    },
    {
     "data": {
      "text/html": [
       "<pre>| 65      | 38.67s       | 0.888231          | 0.934973              | 4.25307e-05 |</pre>"
      ],
      "text/plain": [
       "| 65      | 38.67s       | 0.888231          | 0.934973              | 4.25307e-05 |"
      ]
     },
     "metadata": {},
     "output_type": "display_data"
    },
    {
     "data": {
      "text/html": [
       "<pre>+---------+--------------+-------------------+-----------------------+-------------+</pre>"
      ],
      "text/plain": [
       "+---------+--------------+-------------------+-----------------------+-------------+"
      ]
     },
     "metadata": {},
     "output_type": "display_data"
    },
    {
     "data": {
      "text/html": [
       "<pre>Optimization Complete: Convergence on objective within bounds.</pre>"
      ],
      "text/plain": [
       "Optimization Complete: Convergence on objective within bounds."
      ]
     },
     "metadata": {},
     "output_type": "display_data"
    },
    {
     "data": {
      "text/html": [
       "<pre>Computing final objective value and training RMSE.</pre>"
      ],
      "text/plain": [
       "Computing final objective value and training RMSE."
      ]
     },
     "metadata": {},
     "output_type": "display_data"
    },
    {
     "data": {
      "text/html": [
       "<pre>       Final objective value: 0.888086</pre>"
      ],
      "text/plain": [
       "       Final objective value: 0.888086"
      ]
     },
     "metadata": {},
     "output_type": "display_data"
    },
    {
     "data": {
      "text/html": [
       "<pre>       Final training RMSE: 0.934896</pre>"
      ],
      "text/plain": [
       "       Final training RMSE: 0.934896"
      ]
     },
     "metadata": {},
     "output_type": "display_data"
    }
   ],
   "source": [
    "rec_engine_comm_baseline = gl.factorization_recommender.create(   observation_data=glCommTrain, \n",
    "                                                    user_id=\"comm\", \n",
    "                                                    item_id=\"bookID\", \n",
    "                                                    target='rating',\n",
    "                                                    num_factors=0,\n",
    "                                                    solver='auto',\n",
    "                                                    max_iterations=200,\n",
    "                                                    regularization = 1e-3,\n",
    "                                                    linear_regularization = 1e-4\n",
    "                                                    )"
   ]
  },
  {
   "cell_type": "code",
   "execution_count": 127,
   "metadata": {
    "collapsed": false
   },
   "outputs": [
    {
     "data": {
      "text/plain": [
       "0.956335736508758"
      ]
     },
     "execution_count": 127,
     "metadata": {},
     "output_type": "execute_result"
    }
   ],
   "source": [
    "rec_engine_comm_baseline.evaluate_rmse(glCommTest, target='rating')['rmse_overall']"
   ]
  },
  {
   "cell_type": "code",
   "execution_count": 329,
   "metadata": {
    "collapsed": false,
    "scrolled": true
   },
   "outputs": [
    {
     "data": {
      "text/html": [
       "<pre>Recsys training: model = factorization_recommender</pre>"
      ],
      "text/plain": [
       "Recsys training: model = factorization_recommender"
      ]
     },
     "metadata": {},
     "output_type": "display_data"
    },
    {
     "data": {
      "text/html": [
       "<pre>Preparing data set.</pre>"
      ],
      "text/plain": [
       "Preparing data set."
      ]
     },
     "metadata": {},
     "output_type": "display_data"
    },
    {
     "data": {
      "text/html": [
       "<pre>    Data has 36916 observations with 71 users and 1047 items.</pre>"
      ],
      "text/plain": [
       "    Data has 36916 observations with 71 users and 1047 items."
      ]
     },
     "metadata": {},
     "output_type": "display_data"
    },
    {
     "data": {
      "text/html": [
       "<pre>    Data prepared in: 0.131847s</pre>"
      ],
      "text/plain": [
       "    Data prepared in: 0.131847s"
      ]
     },
     "metadata": {},
     "output_type": "display_data"
    },
    {
     "data": {
      "text/html": [
       "<pre>Training factorization_recommender for recommendations.</pre>"
      ],
      "text/plain": [
       "Training factorization_recommender for recommendations."
      ]
     },
     "metadata": {},
     "output_type": "display_data"
    },
    {
     "data": {
      "text/html": [
       "<pre>+--------------------------------+--------------------------------------------------+----------+</pre>"
      ],
      "text/plain": [
       "+--------------------------------+--------------------------------------------------+----------+"
      ]
     },
     "metadata": {},
     "output_type": "display_data"
    },
    {
     "data": {
      "text/html": [
       "<pre>| Parameter                      | Description                                      | Value    |</pre>"
      ],
      "text/plain": [
       "| Parameter                      | Description                                      | Value    |"
      ]
     },
     "metadata": {},
     "output_type": "display_data"
    },
    {
     "data": {
      "text/html": [
       "<pre>+--------------------------------+--------------------------------------------------+----------+</pre>"
      ],
      "text/plain": [
       "+--------------------------------+--------------------------------------------------+----------+"
      ]
     },
     "metadata": {},
     "output_type": "display_data"
    },
    {
     "data": {
      "text/html": [
       "<pre>| num_factors                    | Factor Dimension                                 | 8        |</pre>"
      ],
      "text/plain": [
       "| num_factors                    | Factor Dimension                                 | 8        |"
      ]
     },
     "metadata": {},
     "output_type": "display_data"
    },
    {
     "data": {
      "text/html": [
       "<pre>| regularization                 | L2 Regularization on Factors                     | 0.01     |</pre>"
      ],
      "text/plain": [
       "| regularization                 | L2 Regularization on Factors                     | 0.01     |"
      ]
     },
     "metadata": {},
     "output_type": "display_data"
    },
    {
     "data": {
      "text/html": [
       "<pre>| solver                         | Solver used for training                         | sgd      |</pre>"
      ],
      "text/plain": [
       "| solver                         | Solver used for training                         | sgd      |"
      ]
     },
     "metadata": {},
     "output_type": "display_data"
    },
    {
     "data": {
      "text/html": [
       "<pre>| linear_regularization          | L2 Regularization on Linear Coefficients         | 0.0001   |</pre>"
      ],
      "text/plain": [
       "| linear_regularization          | L2 Regularization on Linear Coefficients         | 0.0001   |"
      ]
     },
     "metadata": {},
     "output_type": "display_data"
    },
    {
     "data": {
      "text/html": [
       "<pre>| max_iterations                 | Maximum Number of Iterations                     | 1000     |</pre>"
      ],
      "text/plain": [
       "| max_iterations                 | Maximum Number of Iterations                     | 1000     |"
      ]
     },
     "metadata": {},
     "output_type": "display_data"
    },
    {
     "data": {
      "text/html": [
       "<pre>+--------------------------------+--------------------------------------------------+----------+</pre>"
      ],
      "text/plain": [
       "+--------------------------------+--------------------------------------------------+----------+"
      ]
     },
     "metadata": {},
     "output_type": "display_data"
    },
    {
     "data": {
      "text/html": [
       "<pre>  Optimizing model using SGD; tuning step size.</pre>"
      ],
      "text/plain": [
       "  Optimizing model using SGD; tuning step size."
      ]
     },
     "metadata": {},
     "output_type": "display_data"
    },
    {
     "data": {
      "text/html": [
       "<pre>  Using 10000 / 36916 points for tuning the step size.</pre>"
      ],
      "text/plain": [
       "  Using 10000 / 36916 points for tuning the step size."
      ]
     },
     "metadata": {},
     "output_type": "display_data"
    },
    {
     "data": {
      "text/html": [
       "<pre>+---------+-------------------+------------------------------------------+</pre>"
      ],
      "text/plain": [
       "+---------+-------------------+------------------------------------------+"
      ]
     },
     "metadata": {},
     "output_type": "display_data"
    },
    {
     "data": {
      "text/html": [
       "<pre>| Attempt | Initial Step Size | Estimated Objective Value                |</pre>"
      ],
      "text/plain": [
       "| Attempt | Initial Step Size | Estimated Objective Value                |"
      ]
     },
     "metadata": {},
     "output_type": "display_data"
    },
    {
     "data": {
      "text/html": [
       "<pre>+---------+-------------------+------------------------------------------+</pre>"
      ],
      "text/plain": [
       "+---------+-------------------+------------------------------------------+"
      ]
     },
     "metadata": {},
     "output_type": "display_data"
    },
    {
     "data": {
      "text/html": [
       "<pre>| 0       | 0.199397          | Not Viable                               |</pre>"
      ],
      "text/plain": [
       "| 0       | 0.199397          | Not Viable                               |"
      ]
     },
     "metadata": {},
     "output_type": "display_data"
    },
    {
     "data": {
      "text/html": [
       "<pre>| 1       | 0.0498491         | Not Viable                               |</pre>"
      ],
      "text/plain": [
       "| 1       | 0.0498491         | Not Viable                               |"
      ]
     },
     "metadata": {},
     "output_type": "display_data"
    },
    {
     "data": {
      "text/html": [
       "<pre>| 2       | 0.0124623         | 0.899961                                 |</pre>"
      ],
      "text/plain": [
       "| 2       | 0.0124623         | 0.899961                                 |"
      ]
     },
     "metadata": {},
     "output_type": "display_data"
    },
    {
     "data": {
      "text/html": [
       "<pre>| 3       | 0.00623114        | 0.924447                                 |</pre>"
      ],
      "text/plain": [
       "| 3       | 0.00623114        | 0.924447                                 |"
      ]
     },
     "metadata": {},
     "output_type": "display_data"
    },
    {
     "data": {
      "text/html": [
       "<pre>| 4       | 0.00311557        | 0.945188                                 |</pre>"
      ],
      "text/plain": [
       "| 4       | 0.00311557        | 0.945188                                 |"
      ]
     },
     "metadata": {},
     "output_type": "display_data"
    },
    {
     "data": {
      "text/html": [
       "<pre>| 5       | 0.00155779        | 0.964431                                 |</pre>"
      ],
      "text/plain": [
       "| 5       | 0.00155779        | 0.964431                                 |"
      ]
     },
     "metadata": {},
     "output_type": "display_data"
    },
    {
     "data": {
      "text/html": [
       "<pre>+---------+-------------------+------------------------------------------+</pre>"
      ],
      "text/plain": [
       "+---------+-------------------+------------------------------------------+"
      ]
     },
     "metadata": {},
     "output_type": "display_data"
    },
    {
     "data": {
      "text/html": [
       "<pre>| Final   | 0.0124623         | 0.899961                                 |</pre>"
      ],
      "text/plain": [
       "| Final   | 0.0124623         | 0.899961                                 |"
      ]
     },
     "metadata": {},
     "output_type": "display_data"
    },
    {
     "data": {
      "text/html": [
       "<pre>+---------+-------------------+------------------------------------------+</pre>"
      ],
      "text/plain": [
       "+---------+-------------------+------------------------------------------+"
      ]
     },
     "metadata": {},
     "output_type": "display_data"
    },
    {
     "data": {
      "text/html": [
       "<pre>Starting Optimization.</pre>"
      ],
      "text/plain": [
       "Starting Optimization."
      ]
     },
     "metadata": {},
     "output_type": "display_data"
    },
    {
     "data": {
      "text/html": [
       "<pre>+---------+--------------+-------------------+-----------------------+-------------+</pre>"
      ],
      "text/plain": [
       "+---------+--------------+-------------------+-----------------------+-------------+"
      ]
     },
     "metadata": {},
     "output_type": "display_data"
    },
    {
     "data": {
      "text/html": [
       "<pre>| Iter.   | Elapsed Time | Approx. Objective | Approx. Training RMSE | Step Size   |</pre>"
      ],
      "text/plain": [
       "| Iter.   | Elapsed Time | Approx. Objective | Approx. Training RMSE | Step Size   |"
      ]
     },
     "metadata": {},
     "output_type": "display_data"
    },
    {
     "data": {
      "text/html": [
       "<pre>+---------+--------------+-------------------+-----------------------+-------------+</pre>"
      ],
      "text/plain": [
       "+---------+--------------+-------------------+-----------------------+-------------+"
      ]
     },
     "metadata": {},
     "output_type": "display_data"
    },
    {
     "data": {
      "text/html": [
       "<pre>| Initial | 112us        | 1.03828           | 1.01896               |             |</pre>"
      ],
      "text/plain": [
       "| Initial | 112us        | 1.03828           | 1.01896               |             |"
      ]
     },
     "metadata": {},
     "output_type": "display_data"
    },
    {
     "data": {
      "text/html": [
       "<pre>+---------+--------------+-------------------+-----------------------+-------------+</pre>"
      ],
      "text/plain": [
       "+---------+--------------+-------------------+-----------------------+-------------+"
      ]
     },
     "metadata": {},
     "output_type": "display_data"
    },
    {
     "data": {
      "text/html": [
       "<pre>| 1       | 1.19s        | DIVERGED          | DIVERGED              | 0.0124623   |</pre>"
      ],
      "text/plain": [
       "| 1       | 1.19s        | DIVERGED          | DIVERGED              | 0.0124623   |"
      ]
     },
     "metadata": {},
     "output_type": "display_data"
    },
    {
     "data": {
      "text/html": [
       "<pre>| RESET   | 1.30s        | 1.03829           | 1.01897               |             |</pre>"
      ],
      "text/plain": [
       "| RESET   | 1.30s        | 1.03829           | 1.01897               |             |"
      ]
     },
     "metadata": {},
     "output_type": "display_data"
    },
    {
     "data": {
      "text/html": [
       "<pre>| 1       | 2.52s        | 0.971964          | 0.984897              | 0.00623114  |</pre>"
      ],
      "text/plain": [
       "| 1       | 2.52s        | 0.971964          | 0.984897              | 0.00623114  |"
      ]
     },
     "metadata": {},
     "output_type": "display_data"
    },
    {
     "data": {
      "text/html": [
       "<pre>| 2       | 3.66s        | 0.928265          | 0.962132              | 0.00188806  |</pre>"
      ],
      "text/plain": [
       "| 2       | 3.66s        | 0.928265          | 0.962132              | 0.00188806  |"
      ]
     },
     "metadata": {},
     "output_type": "display_data"
    },
    {
     "data": {
      "text/html": [
       "<pre>| 3       | 4.76s        | 0.919447          | 0.957336              | 0.00111259  |</pre>"
      ],
      "text/plain": [
       "| 3       | 4.76s        | 0.919447          | 0.957336              | 0.00111259  |"
      ]
     },
     "metadata": {},
     "output_type": "display_data"
    },
    {
     "data": {
      "text/html": [
       "<pre>| 4       | 5.87s        | 0.915101          | 0.954929              | 0.000788666 |</pre>"
      ],
      "text/plain": [
       "| 4       | 5.87s        | 0.915101          | 0.954929              | 0.000788666 |"
      ]
     },
     "metadata": {},
     "output_type": "display_data"
    },
    {
     "data": {
      "text/html": [
       "<pre>| 5       | 6.88s        | 0.912446          | 0.953432              | 0.000610827 |</pre>"
      ],
      "text/plain": [
       "| 5       | 6.88s        | 0.912446          | 0.953432              | 0.000610827 |"
      ]
     },
     "metadata": {},
     "output_type": "display_data"
    },
    {
     "data": {
      "text/html": [
       "<pre>| 6       | 8.10s        | 0.910555          | 0.952353              | 0.000498434 |</pre>"
      ],
      "text/plain": [
       "| 6       | 8.10s        | 0.910555          | 0.952353              | 0.000498434 |"
      ]
     },
     "metadata": {},
     "output_type": "display_data"
    },
    {
     "data": {
      "text/html": [
       "<pre>| 7       | 9.33s        | 0.909247          | 0.951594              | 0.000420974 |</pre>"
      ],
      "text/plain": [
       "| 7       | 9.33s        | 0.909247          | 0.951594              | 0.000420974 |"
      ]
     },
     "metadata": {},
     "output_type": "display_data"
    },
    {
     "data": {
      "text/html": [
       "<pre>| 8       | 10.43s       | 0.90803           | 0.950891              | 0.000364351 |</pre>"
      ],
      "text/plain": [
       "| 8       | 10.43s       | 0.90803           | 0.950891              | 0.000364351 |"
      ]
     },
     "metadata": {},
     "output_type": "display_data"
    },
    {
     "data": {
      "text/html": [
       "<pre>| 9       | 11.38s       | 0.907234          | 0.950419              | 0.000321155 |</pre>"
      ],
      "text/plain": [
       "| 9       | 11.38s       | 0.907234          | 0.950419              | 0.000321155 |"
      ]
     },
     "metadata": {},
     "output_type": "display_data"
    },
    {
     "data": {
      "text/html": [
       "<pre>| 10      | 12.51s       | 0.906464          | 0.949965              | 0.000287115 |</pre>"
      ],
      "text/plain": [
       "| 10      | 12.51s       | 0.906464          | 0.949965              | 0.000287115 |"
      ]
     },
     "metadata": {},
     "output_type": "display_data"
    },
    {
     "data": {
      "text/html": [
       "<pre>| 11      | 13.72s       | 0.905748          | 0.949546              | 0.0002596   |</pre>"
      ],
      "text/plain": [
       "| 11      | 13.72s       | 0.905748          | 0.949546              | 0.0002596   |"
      ]
     },
     "metadata": {},
     "output_type": "display_data"
    },
    {
     "data": {
      "text/html": [
       "<pre>| 12      | 15.00s       | 0.905261          | 0.949249              | 0.000236897 |</pre>"
      ],
      "text/plain": [
       "| 12      | 15.00s       | 0.905261          | 0.949249              | 0.000236897 |"
      ]
     },
     "metadata": {},
     "output_type": "display_data"
    },
    {
     "data": {
      "text/html": [
       "<pre>| 13      | 16.21s       | 0.904763          | 0.948951              | 0.000217846 |</pre>"
      ],
      "text/plain": [
       "| 13      | 16.21s       | 0.904763          | 0.948951              | 0.000217846 |"
      ]
     },
     "metadata": {},
     "output_type": "display_data"
    },
    {
     "data": {
      "text/html": [
       "<pre>| 14      | 17.31s       | 0.904323          | 0.948685              | 0.000201631 |</pre>"
      ],
      "text/plain": [
       "| 14      | 17.31s       | 0.904323          | 0.948685              | 0.000201631 |"
      ]
     },
     "metadata": {},
     "output_type": "display_data"
    },
    {
     "data": {
      "text/html": [
       "<pre>| 15      | 18.35s       | 0.903907          | 0.948436              | 0.000187662 |</pre>"
      ],
      "text/plain": [
       "| 15      | 18.35s       | 0.903907          | 0.948436              | 0.000187662 |"
      ]
     },
     "metadata": {},
     "output_type": "display_data"
    },
    {
     "data": {
      "text/html": [
       "<pre>| 16      | 19.41s       | 0.903546          | 0.948217              | 0.000175504 |</pre>"
      ],
      "text/plain": [
       "| 16      | 19.41s       | 0.903546          | 0.948217              | 0.000175504 |"
      ]
     },
     "metadata": {},
     "output_type": "display_data"
    },
    {
     "data": {
      "text/html": [
       "<pre>| 17      | 20.55s       | 0.903242          | 0.94803               | 0.000164825 |</pre>"
      ],
      "text/plain": [
       "| 17      | 20.55s       | 0.903242          | 0.94803               | 0.000164825 |"
      ]
     },
     "metadata": {},
     "output_type": "display_data"
    },
    {
     "data": {
      "text/html": [
       "<pre>| 18      | 21.67s       | 0.902936          | 0.947843              | 0.000155371 |</pre>"
      ],
      "text/plain": [
       "| 18      | 21.67s       | 0.902936          | 0.947843              | 0.000155371 |"
      ]
     },
     "metadata": {},
     "output_type": "display_data"
    },
    {
     "data": {
      "text/html": [
       "<pre>| 19      | 22.01s       | 0.90266           | 0.947674              | 0.000146943 |</pre>"
      ],
      "text/plain": [
       "| 19      | 22.01s       | 0.90266           | 0.947674              | 0.000146943 |"
      ]
     },
     "metadata": {},
     "output_type": "display_data"
    },
    {
     "data": {
      "text/html": [
       "<pre>| 20      | 22.92s       | 0.902403          | 0.947516              | 0.000139382 |</pre>"
      ],
      "text/plain": [
       "| 20      | 22.92s       | 0.902403          | 0.947516              | 0.000139382 |"
      ]
     },
     "metadata": {},
     "output_type": "display_data"
    },
    {
     "data": {
      "text/html": [
       "<pre>| 21      | 23.86s       | 0.902127          | 0.947349              | 0.000132561 |</pre>"
      ],
      "text/plain": [
       "| 21      | 23.86s       | 0.902127          | 0.947349              | 0.000132561 |"
      ]
     },
     "metadata": {},
     "output_type": "display_data"
    },
    {
     "data": {
      "text/html": [
       "<pre>| 22      | 25.04s       | 0.901919          | 0.94722               | 0.000126377 |</pre>"
      ],
      "text/plain": [
       "| 22      | 25.04s       | 0.901919          | 0.94722               | 0.000126377 |"
      ]
     },
     "metadata": {},
     "output_type": "display_data"
    },
    {
     "data": {
      "text/html": [
       "<pre>| 23      | 26.24s       | 0.901729          | 0.9471                | 0.000120744 |</pre>"
      ],
      "text/plain": [
       "| 23      | 26.24s       | 0.901729          | 0.9471                | 0.000120744 |"
      ]
     },
     "metadata": {},
     "output_type": "display_data"
    },
    {
     "data": {
      "text/html": [
       "<pre>| 24      | 27.38s       | 0.901535          | 0.946979              | 0.000115591 |</pre>"
      ],
      "text/plain": [
       "| 24      | 27.38s       | 0.901535          | 0.946979              | 0.000115591 |"
      ]
     },
     "metadata": {},
     "output_type": "display_data"
    },
    {
     "data": {
      "text/html": [
       "<pre>| 25      | 28.59s       | 0.901345          | 0.946862              | 0.000110861 |</pre>"
      ],
      "text/plain": [
       "| 25      | 28.59s       | 0.901345          | 0.946862              | 0.000110861 |"
      ]
     },
     "metadata": {},
     "output_type": "display_data"
    },
    {
     "data": {
      "text/html": [
       "<pre>| 26      | 29.63s       | 0.901171          | 0.946753              | 0.000106502 |</pre>"
      ],
      "text/plain": [
       "| 26      | 29.63s       | 0.901171          | 0.946753              | 0.000106502 |"
      ]
     },
     "metadata": {},
     "output_type": "display_data"
    },
    {
     "data": {
      "text/html": [
       "<pre>| 27      | 30.79s       | 0.900989          | 0.946641              | 0.000102473 |</pre>"
      ],
      "text/plain": [
       "| 27      | 30.79s       | 0.900989          | 0.946641              | 0.000102473 |"
      ]
     },
     "metadata": {},
     "output_type": "display_data"
    },
    {
     "data": {
      "text/html": [
       "<pre>| 28      | 31.91s       | 0.900849          | 0.946552              | 9.87381e-05 |</pre>"
      ],
      "text/plain": [
       "| 28      | 31.91s       | 0.900849          | 0.946552              | 9.87381e-05 |"
      ]
     },
     "metadata": {},
     "output_type": "display_data"
    },
    {
     "data": {
      "text/html": [
       "<pre>| 29      | 33.01s       | 0.900698          | 0.946457              | 9.52656e-05 |</pre>"
      ],
      "text/plain": [
       "| 29      | 33.01s       | 0.900698          | 0.946457              | 9.52656e-05 |"
      ]
     },
     "metadata": {},
     "output_type": "display_data"
    },
    {
     "data": {
      "text/html": [
       "<pre>| 30      | 33.89s       | 0.900552          | 0.946366              | 9.20291e-05 |</pre>"
      ],
      "text/plain": [
       "| 30      | 33.89s       | 0.900552          | 0.946366              | 9.20291e-05 |"
      ]
     },
     "metadata": {},
     "output_type": "display_data"
    },
    {
     "data": {
      "text/html": [
       "<pre>| 31      | 35.11s       | 0.900415          | 0.946279              | 8.90053e-05 |</pre>"
      ],
      "text/plain": [
       "| 31      | 35.11s       | 0.900415          | 0.946279              | 8.90053e-05 |"
      ]
     },
     "metadata": {},
     "output_type": "display_data"
    },
    {
     "data": {
      "text/html": [
       "<pre>| 32      | 36.14s       | 0.900289          | 0.946199              | 8.61739e-05 |</pre>"
      ],
      "text/plain": [
       "| 32      | 36.14s       | 0.900289          | 0.946199              | 8.61739e-05 |"
      ]
     },
     "metadata": {},
     "output_type": "display_data"
    },
    {
     "data": {
      "text/html": [
       "<pre>| 33      | 37.26s       | 0.900162          | 0.946119              | 8.3517e-05  |</pre>"
      ],
      "text/plain": [
       "| 33      | 37.26s       | 0.900162          | 0.946119              | 8.3517e-05  |"
      ]
     },
     "metadata": {},
     "output_type": "display_data"
    },
    {
     "data": {
      "text/html": [
       "<pre>| 34      | 38.40s       | 0.900047          | 0.946046              | 8.10191e-05 |</pre>"
      ],
      "text/plain": [
       "| 34      | 38.40s       | 0.900047          | 0.946046              | 8.10191e-05 |"
      ]
     },
     "metadata": {},
     "output_type": "display_data"
    },
    {
     "data": {
      "text/html": [
       "<pre>| 35      | 39.71s       | 0.899925          | 0.945969              | 7.86663e-05 |</pre>"
      ],
      "text/plain": [
       "| 35      | 39.71s       | 0.899925          | 0.945969              | 7.86663e-05 |"
      ]
     },
     "metadata": {},
     "output_type": "display_data"
    },
    {
     "data": {
      "text/html": [
       "<pre>| 36      | 40.66s       | 0.899822          | 0.945903              | 7.64463e-05 |</pre>"
      ],
      "text/plain": [
       "| 36      | 40.66s       | 0.899822          | 0.945903              | 7.64463e-05 |"
      ]
     },
     "metadata": {},
     "output_type": "display_data"
    },
    {
     "data": {
      "text/html": [
       "<pre>| 37      | 41.62s       | 0.899707          | 0.945831              | 7.43481e-05 |</pre>"
      ],
      "text/plain": [
       "| 37      | 41.62s       | 0.899707          | 0.945831              | 7.43481e-05 |"
      ]
     },
     "metadata": {},
     "output_type": "display_data"
    },
    {
     "data": {
      "text/html": [
       "<pre>| 38      | 42.69s       | 0.899613          | 0.945771              | 7.2362e-05  |</pre>"
      ],
      "text/plain": [
       "| 38      | 42.69s       | 0.899613          | 0.945771              | 7.2362e-05  |"
      ]
     },
     "metadata": {},
     "output_type": "display_data"
    },
    {
     "data": {
      "text/html": [
       "<pre>| 39      | 43.93s       | 0.899517          | 0.945709              | 7.04793e-05 |</pre>"
      ],
      "text/plain": [
       "| 39      | 43.93s       | 0.899517          | 0.945709              | 7.04793e-05 |"
      ]
     },
     "metadata": {},
     "output_type": "display_data"
    },
    {
     "data": {
      "text/html": [
       "<pre>| 40      | 44.83s       | 0.899422          | 0.945649              | 6.86921e-05 |</pre>"
      ],
      "text/plain": [
       "| 40      | 44.83s       | 0.899422          | 0.945649              | 6.86921e-05 |"
      ]
     },
     "metadata": {},
     "output_type": "display_data"
    },
    {
     "data": {
      "text/html": [
       "<pre>| 41      | 45.97s       | 0.89933           | 0.94559               | 6.69932e-05 |</pre>"
      ],
      "text/plain": [
       "| 41      | 45.97s       | 0.89933           | 0.94559               | 6.69932e-05 |"
      ]
     },
     "metadata": {},
     "output_type": "display_data"
    },
    {
     "data": {
      "text/html": [
       "<pre>| 42      | 47.12s       | 0.89924           | 0.945532              | 6.53764e-05 |</pre>"
      ],
      "text/plain": [
       "| 42      | 47.12s       | 0.89924           | 0.945532              | 6.53764e-05 |"
      ]
     },
     "metadata": {},
     "output_type": "display_data"
    },
    {
     "data": {
      "text/html": [
       "<pre>| 43      | 48.42s       | 0.899152          | 0.945476              | 6.38357e-05 |</pre>"
      ],
      "text/plain": [
       "| 43      | 48.42s       | 0.899152          | 0.945476              | 6.38357e-05 |"
      ]
     },
     "metadata": {},
     "output_type": "display_data"
    },
    {
     "data": {
      "text/html": [
       "<pre>| 44      | 49.41s       | 0.899073          | 0.945425              | 6.23661e-05 |</pre>"
      ],
      "text/plain": [
       "| 44      | 49.41s       | 0.899073          | 0.945425              | 6.23661e-05 |"
      ]
     },
     "metadata": {},
     "output_type": "display_data"
    },
    {
     "data": {
      "text/html": [
       "<pre>| 45      | 50.55s       | 0.898992          | 0.945373              | 6.09625e-05 |</pre>"
      ],
      "text/plain": [
       "| 45      | 50.55s       | 0.898992          | 0.945373              | 6.09625e-05 |"
      ]
     },
     "metadata": {},
     "output_type": "display_data"
    },
    {
     "data": {
      "text/html": [
       "<pre>| 46      | 51.58s       | 0.898914          | 0.945323              | 5.96207e-05 |</pre>"
      ],
      "text/plain": [
       "| 46      | 51.58s       | 0.898914          | 0.945323              | 5.96207e-05 |"
      ]
     },
     "metadata": {},
     "output_type": "display_data"
    },
    {
     "data": {
      "text/html": [
       "<pre>| 47      | 52.76s       | 0.898839          | 0.945274              | 5.83368e-05 |</pre>"
      ],
      "text/plain": [
       "| 47      | 52.76s       | 0.898839          | 0.945274              | 5.83368e-05 |"
      ]
     },
     "metadata": {},
     "output_type": "display_data"
    },
    {
     "data": {
      "text/html": [
       "<pre>| 48      | 53.95s       | 0.898768          | 0.945228              | 5.71069e-05 |</pre>"
      ],
      "text/plain": [
       "| 48      | 53.95s       | 0.898768          | 0.945228              | 5.71069e-05 |"
      ]
     },
     "metadata": {},
     "output_type": "display_data"
    },
    {
     "data": {
      "text/html": [
       "<pre>| 49      | 55.11s       | 0.898694          | 0.945181              | 5.59279e-05 |</pre>"
      ],
      "text/plain": [
       "| 49      | 55.11s       | 0.898694          | 0.945181              | 5.59279e-05 |"
      ]
     },
     "metadata": {},
     "output_type": "display_data"
    },
    {
     "data": {
      "text/html": [
       "<pre>| 50      | 56.10s       | 0.898625          | 0.945136              | 5.47965e-05 |</pre>"
      ],
      "text/plain": [
       "| 50      | 56.10s       | 0.898625          | 0.945136              | 5.47965e-05 |"
      ]
     },
     "metadata": {},
     "output_type": "display_data"
    },
    {
     "data": {
      "text/html": [
       "<pre>| 51      | 57.23s       | 0.898557          | 0.945092              | 5.37101e-05 |</pre>"
      ],
      "text/plain": [
       "| 51      | 57.23s       | 0.898557          | 0.945092              | 5.37101e-05 |"
      ]
     },
     "metadata": {},
     "output_type": "display_data"
    },
    {
     "data": {
      "text/html": [
       "<pre>| 52      | 58.38s       | 0.89849           | 0.945049              | 5.26658e-05 |</pre>"
      ],
      "text/plain": [
       "| 52      | 58.38s       | 0.89849           | 0.945049              | 5.26658e-05 |"
      ]
     },
     "metadata": {},
     "output_type": "display_data"
    },
    {
     "data": {
      "text/html": [
       "<pre>| 53      | 59.51s       | 0.898428          | 0.945008              | 5.16614e-05 |</pre>"
      ],
      "text/plain": [
       "| 53      | 59.51s       | 0.898428          | 0.945008              | 5.16614e-05 |"
      ]
     },
     "metadata": {},
     "output_type": "display_data"
    },
    {
     "data": {
      "text/html": [
       "<pre>| 54      | 1m 0s        | 0.898369          | 0.94497               | 5.06946e-05 |</pre>"
      ],
      "text/plain": [
       "| 54      | 1m 0s        | 0.898369          | 0.94497               | 5.06946e-05 |"
      ]
     },
     "metadata": {},
     "output_type": "display_data"
    },
    {
     "data": {
      "text/html": [
       "<pre>| 55      | 1m 1s        | 0.898305          | 0.944928              | 4.97633e-05 |</pre>"
      ],
      "text/plain": [
       "| 55      | 1m 1s        | 0.898305          | 0.944928              | 4.97633e-05 |"
      ]
     },
     "metadata": {},
     "output_type": "display_data"
    },
    {
     "data": {
      "text/html": [
       "<pre>| 56      | 1m 2s        | 0.89825           | 0.944892              | 4.88656e-05 |</pre>"
      ],
      "text/plain": [
       "| 56      | 1m 2s        | 0.89825           | 0.944892              | 4.88656e-05 |"
      ]
     },
     "metadata": {},
     "output_type": "display_data"
    },
    {
     "data": {
      "text/html": [
       "<pre>| 57      | 1m 3s        | 0.898191          | 0.944854              | 4.79997e-05 |</pre>"
      ],
      "text/plain": [
       "| 57      | 1m 3s        | 0.898191          | 0.944854              | 4.79997e-05 |"
      ]
     },
     "metadata": {},
     "output_type": "display_data"
    },
    {
     "data": {
      "text/html": [
       "<pre>| 58      | 1m 5s        | 0.898135          | 0.944817              | 4.7164e-05  |</pre>"
      ],
      "text/plain": [
       "| 58      | 1m 5s        | 0.898135          | 0.944817              | 4.7164e-05  |"
      ]
     },
     "metadata": {},
     "output_type": "display_data"
    },
    {
     "data": {
      "text/html": [
       "<pre>| 59      | 1m 6s        | 0.898079          | 0.944781              | 4.63569e-05 |</pre>"
      ],
      "text/plain": [
       "| 59      | 1m 6s        | 0.898079          | 0.944781              | 4.63569e-05 |"
      ]
     },
     "metadata": {},
     "output_type": "display_data"
    },
    {
     "data": {
      "text/html": [
       "<pre>| 60      | 1m 7s        | 0.898027          | 0.944747              | 4.55769e-05 |</pre>"
      ],
      "text/plain": [
       "| 60      | 1m 7s        | 0.898027          | 0.944747              | 4.55769e-05 |"
      ]
     },
     "metadata": {},
     "output_type": "display_data"
    },
    {
     "data": {
      "text/html": [
       "<pre>| 61      | 1m 8s        | 0.897973          | 0.944712              | 4.48228e-05 |</pre>"
      ],
      "text/plain": [
       "| 61      | 1m 8s        | 0.897973          | 0.944712              | 4.48228e-05 |"
      ]
     },
     "metadata": {},
     "output_type": "display_data"
    },
    {
     "data": {
      "text/html": [
       "<pre>| 62      | 1m 9s        | 0.897921          | 0.944678              | 4.40932e-05 |</pre>"
      ],
      "text/plain": [
       "| 62      | 1m 9s        | 0.897921          | 0.944678              | 4.40932e-05 |"
      ]
     },
     "metadata": {},
     "output_type": "display_data"
    },
    {
     "data": {
      "text/html": [
       "<pre>| 63      | 1m 10s       | 0.897871          | 0.944645              | 4.3387e-05  |</pre>"
      ],
      "text/plain": [
       "| 63      | 1m 10s       | 0.897871          | 0.944645              | 4.3387e-05  |"
      ]
     },
     "metadata": {},
     "output_type": "display_data"
    },
    {
     "data": {
      "text/html": [
       "<pre>| 64      | 1m 11s       | 0.897823          | 0.944613              | 4.2703e-05  |</pre>"
      ],
      "text/plain": [
       "| 64      | 1m 11s       | 0.897823          | 0.944613              | 4.2703e-05  |"
      ]
     },
     "metadata": {},
     "output_type": "display_data"
    },
    {
     "data": {
      "text/html": [
       "<pre>| 65      | 1m 12s       | 0.897774          | 0.944581              | 4.20403e-05 |</pre>"
      ],
      "text/plain": [
       "| 65      | 1m 12s       | 0.897774          | 0.944581              | 4.20403e-05 |"
      ]
     },
     "metadata": {},
     "output_type": "display_data"
    },
    {
     "data": {
      "text/html": [
       "<pre>| 66      | 1m 13s       | 0.897727          | 0.94455               | 4.13978e-05 |</pre>"
      ],
      "text/plain": [
       "| 66      | 1m 13s       | 0.897727          | 0.94455               | 4.13978e-05 |"
      ]
     },
     "metadata": {},
     "output_type": "display_data"
    },
    {
     "data": {
      "text/html": [
       "<pre>| 67      | 1m 15s       | 0.897682          | 0.94452               | 4.07746e-05 |</pre>"
      ],
      "text/plain": [
       "| 67      | 1m 15s       | 0.897682          | 0.94452               | 4.07746e-05 |"
      ]
     },
     "metadata": {},
     "output_type": "display_data"
    },
    {
     "data": {
      "text/html": [
       "<pre>| 68      | 1m 16s       | 0.897637          | 0.944491              | 4.017e-05   |</pre>"
      ],
      "text/plain": [
       "| 68      | 1m 16s       | 0.897637          | 0.944491              | 4.017e-05   |"
      ]
     },
     "metadata": {},
     "output_type": "display_data"
    },
    {
     "data": {
      "text/html": [
       "<pre>| 69      | 1m 17s       | 0.897592          | 0.944461              | 3.9583e-05  |</pre>"
      ],
      "text/plain": [
       "| 69      | 1m 17s       | 0.897592          | 0.944461              | 3.9583e-05  |"
      ]
     },
     "metadata": {},
     "output_type": "display_data"
    },
    {
     "data": {
      "text/html": [
       "<pre>| 70      | 1m 17s       | 0.897549          | 0.944433              | 3.90129e-05 |</pre>"
      ],
      "text/plain": [
       "| 70      | 1m 17s       | 0.897549          | 0.944433              | 3.90129e-05 |"
      ]
     },
     "metadata": {},
     "output_type": "display_data"
    },
    {
     "data": {
      "text/html": [
       "<pre>| 71      | 1m 18s       | 0.897506          | 0.944404              | 3.8459e-05  |</pre>"
      ],
      "text/plain": [
       "| 71      | 1m 18s       | 0.897506          | 0.944404              | 3.8459e-05  |"
      ]
     },
     "metadata": {},
     "output_type": "display_data"
    },
    {
     "data": {
      "text/html": [
       "<pre>| 72      | 1m 20s       | 0.897464          | 0.944377              | 3.79207e-05 |</pre>"
      ],
      "text/plain": [
       "| 72      | 1m 20s       | 0.897464          | 0.944377              | 3.79207e-05 |"
      ]
     },
     "metadata": {},
     "output_type": "display_data"
    },
    {
     "data": {
      "text/html": [
       "<pre>| 73      | 1m 21s       | 0.897423          | 0.94435               | 3.73972e-05 |</pre>"
      ],
      "text/plain": [
       "| 73      | 1m 21s       | 0.897423          | 0.94435               | 3.73972e-05 |"
      ]
     },
     "metadata": {},
     "output_type": "display_data"
    },
    {
     "data": {
      "text/html": [
       "<pre>| 74      | 1m 22s       | 0.897383          | 0.944323              | 3.68879e-05 |</pre>"
      ],
      "text/plain": [
       "| 74      | 1m 22s       | 0.897383          | 0.944323              | 3.68879e-05 |"
      ]
     },
     "metadata": {},
     "output_type": "display_data"
    },
    {
     "data": {
      "text/html": [
       "<pre>| 75      | 1m 23s       | 0.897344          | 0.944297              | 3.63923e-05 |</pre>"
      ],
      "text/plain": [
       "| 75      | 1m 23s       | 0.897344          | 0.944297              | 3.63923e-05 |"
      ]
     },
     "metadata": {},
     "output_type": "display_data"
    },
    {
     "data": {
      "text/html": [
       "<pre>| 76      | 1m 24s       | 0.897304          | 0.944271              | 3.59099e-05 |</pre>"
      ],
      "text/plain": [
       "| 76      | 1m 24s       | 0.897304          | 0.944271              | 3.59099e-05 |"
      ]
     },
     "metadata": {},
     "output_type": "display_data"
    },
    {
     "data": {
      "text/html": [
       "<pre>| 77      | 1m 25s       | 0.897265          | 0.944245              | 3.54401e-05 |</pre>"
      ],
      "text/plain": [
       "| 77      | 1m 25s       | 0.897265          | 0.944245              | 3.54401e-05 |"
      ]
     },
     "metadata": {},
     "output_type": "display_data"
    },
    {
     "data": {
      "text/html": [
       "<pre>| 78      | 1m 26s       | 0.897229          | 0.944221              | 3.49824e-05 |</pre>"
      ],
      "text/plain": [
       "| 78      | 1m 26s       | 0.897229          | 0.944221              | 3.49824e-05 |"
      ]
     },
     "metadata": {},
     "output_type": "display_data"
    },
    {
     "data": {
      "text/html": [
       "<pre>| 79      | 1m 28s       | 0.897192          | 0.944197              | 3.45364e-05 |</pre>"
      ],
      "text/plain": [
       "| 79      | 1m 28s       | 0.897192          | 0.944197              | 3.45364e-05 |"
      ]
     },
     "metadata": {},
     "output_type": "display_data"
    },
    {
     "data": {
      "text/html": [
       "<pre>| 80      | 1m 29s       | 0.897155          | 0.944172              | 3.41016e-05 |</pre>"
      ],
      "text/plain": [
       "| 80      | 1m 29s       | 0.897155          | 0.944172              | 3.41016e-05 |"
      ]
     },
     "metadata": {},
     "output_type": "display_data"
    },
    {
     "data": {
      "text/html": [
       "<pre>| 81      | 1m 30s       | 0.89712           | 0.944149              | 3.36776e-05 |</pre>"
      ],
      "text/plain": [
       "| 81      | 1m 30s       | 0.89712           | 0.944149              | 3.36776e-05 |"
      ]
     },
     "metadata": {},
     "output_type": "display_data"
    },
    {
     "data": {
      "text/html": [
       "<pre>| 82      | 1m 31s       | 0.897086          | 0.944126              | 3.32641e-05 |</pre>"
      ],
      "text/plain": [
       "| 82      | 1m 31s       | 0.897086          | 0.944126              | 3.32641e-05 |"
      ]
     },
     "metadata": {},
     "output_type": "display_data"
    },
    {
     "data": {
      "text/html": [
       "<pre>| 83      | 1m 32s       | 0.897051          | 0.944103              | 3.28606e-05 |</pre>"
      ],
      "text/plain": [
       "| 83      | 1m 32s       | 0.897051          | 0.944103              | 3.28606e-05 |"
      ]
     },
     "metadata": {},
     "output_type": "display_data"
    },
    {
     "data": {
      "text/html": [
       "<pre>| 84      | 1m 33s       | 0.897017          | 0.94408               | 3.24667e-05 |</pre>"
      ],
      "text/plain": [
       "| 84      | 1m 33s       | 0.897017          | 0.94408               | 3.24667e-05 |"
      ]
     },
     "metadata": {},
     "output_type": "display_data"
    },
    {
     "data": {
      "text/html": [
       "<pre>| 85      | 1m 34s       | 0.896984          | 0.944058              | 3.20822e-05 |</pre>"
      ],
      "text/plain": [
       "| 85      | 1m 34s       | 0.896984          | 0.944058              | 3.20822e-05 |"
      ]
     },
     "metadata": {},
     "output_type": "display_data"
    },
    {
     "data": {
      "text/html": [
       "<pre>| 86      | 1m 35s       | 0.896951          | 0.944036              | 3.17067e-05 |</pre>"
      ],
      "text/plain": [
       "| 86      | 1m 35s       | 0.896951          | 0.944036              | 3.17067e-05 |"
      ]
     },
     "metadata": {},
     "output_type": "display_data"
    },
    {
     "data": {
      "text/html": [
       "<pre>| 87      | 1m 37s       | 0.89692           | 0.944015              | 3.13399e-05 |</pre>"
      ],
      "text/plain": [
       "| 87      | 1m 37s       | 0.89692           | 0.944015              | 3.13399e-05 |"
      ]
     },
     "metadata": {},
     "output_type": "display_data"
    },
    {
     "data": {
      "text/html": [
       "<pre>| 88      | 1m 38s       | 0.896887          | 0.943993              | 3.09814e-05 |</pre>"
      ],
      "text/plain": [
       "| 88      | 1m 38s       | 0.896887          | 0.943993              | 3.09814e-05 |"
      ]
     },
     "metadata": {},
     "output_type": "display_data"
    },
    {
     "data": {
      "text/html": [
       "<pre>| 89      | 1m 39s       | 0.896857          | 0.943973              | 3.06311e-05 |</pre>"
      ],
      "text/plain": [
       "| 89      | 1m 39s       | 0.896857          | 0.943973              | 3.06311e-05 |"
      ]
     },
     "metadata": {},
     "output_type": "display_data"
    },
    {
     "data": {
      "text/html": [
       "<pre>| 90      | 1m 40s       | 0.896825          | 0.943952              | 3.02886e-05 |</pre>"
      ],
      "text/plain": [
       "| 90      | 1m 40s       | 0.896825          | 0.943952              | 3.02886e-05 |"
      ]
     },
     "metadata": {},
     "output_type": "display_data"
    },
    {
     "data": {
      "text/html": [
       "<pre>| 91      | 1m 41s       | 0.896795          | 0.943932              | 2.99537e-05 |</pre>"
      ],
      "text/plain": [
       "| 91      | 1m 41s       | 0.896795          | 0.943932              | 2.99537e-05 |"
      ]
     },
     "metadata": {},
     "output_type": "display_data"
    },
    {
     "data": {
      "text/html": [
       "<pre>| 92      | 1m 43s       | 0.896765          | 0.943911              | 2.96261e-05 |</pre>"
      ],
      "text/plain": [
       "| 92      | 1m 43s       | 0.896765          | 0.943911              | 2.96261e-05 |"
      ]
     },
     "metadata": {},
     "output_type": "display_data"
    },
    {
     "data": {
      "text/html": [
       "<pre>| 93      | 1m 44s       | 0.896735          | 0.943892              | 2.93056e-05 |</pre>"
      ],
      "text/plain": [
       "| 93      | 1m 44s       | 0.896735          | 0.943892              | 2.93056e-05 |"
      ]
     },
     "metadata": {},
     "output_type": "display_data"
    },
    {
     "data": {
      "text/html": [
       "<pre>| 94      | 1m 45s       | 0.896706          | 0.943872              | 2.89919e-05 |</pre>"
      ],
      "text/plain": [
       "| 94      | 1m 45s       | 0.896706          | 0.943872              | 2.89919e-05 |"
      ]
     },
     "metadata": {},
     "output_type": "display_data"
    },
    {
     "data": {
      "text/html": [
       "<pre>| 95      | 1m 46s       | 0.896678          | 0.943853              | 2.86849e-05 |</pre>"
      ],
      "text/plain": [
       "| 95      | 1m 46s       | 0.896678          | 0.943853              | 2.86849e-05 |"
      ]
     },
     "metadata": {},
     "output_type": "display_data"
    },
    {
     "data": {
      "text/html": [
       "<pre>| 96      | 1m 47s       | 0.896649          | 0.943834              | 2.83843e-05 |</pre>"
      ],
      "text/plain": [
       "| 96      | 1m 47s       | 0.896649          | 0.943834              | 2.83843e-05 |"
      ]
     },
     "metadata": {},
     "output_type": "display_data"
    },
    {
     "data": {
      "text/html": [
       "<pre>| 97      | 1m 48s       | 0.896622          | 0.943816              | 2.809e-05   |</pre>"
      ],
      "text/plain": [
       "| 97      | 1m 48s       | 0.896622          | 0.943816              | 2.809e-05   |"
      ]
     },
     "metadata": {},
     "output_type": "display_data"
    },
    {
     "data": {
      "text/html": [
       "<pre>| 98      | 1m 49s       | 0.896595          | 0.943797              | 2.78017e-05 |</pre>"
      ],
      "text/plain": [
       "| 98      | 1m 49s       | 0.896595          | 0.943797              | 2.78017e-05 |"
      ]
     },
     "metadata": {},
     "output_type": "display_data"
    },
    {
     "data": {
      "text/html": [
       "<pre>| 99      | 1m 50s       | 0.896566          | 0.943778              | 2.75193e-05 |</pre>"
      ],
      "text/plain": [
       "| 99      | 1m 50s       | 0.896566          | 0.943778              | 2.75193e-05 |"
      ]
     },
     "metadata": {},
     "output_type": "display_data"
    },
    {
     "data": {
      "text/html": [
       "<pre>| 100     | 1m 52s       | 0.89654           | 0.943761              | 2.72425e-05 |</pre>"
      ],
      "text/plain": [
       "| 100     | 1m 52s       | 0.89654           | 0.943761              | 2.72425e-05 |"
      ]
     },
     "metadata": {},
     "output_type": "display_data"
    },
    {
     "data": {
      "text/html": [
       "<pre>| 101     | 1m 53s       | 0.896514          | 0.943743              | 2.69713e-05 |</pre>"
      ],
      "text/plain": [
       "| 101     | 1m 53s       | 0.896514          | 0.943743              | 2.69713e-05 |"
      ]
     },
     "metadata": {},
     "output_type": "display_data"
    },
    {
     "data": {
      "text/html": [
       "<pre>| 102     | 1m 54s       | 0.896488          | 0.943726              | 2.67054e-05 |</pre>"
      ],
      "text/plain": [
       "| 102     | 1m 54s       | 0.896488          | 0.943726              | 2.67054e-05 |"
      ]
     },
     "metadata": {},
     "output_type": "display_data"
    },
    {
     "data": {
      "text/html": [
       "<pre>| 103     | 1m 55s       | 0.896462          | 0.943708              | 2.64447e-05 |</pre>"
      ],
      "text/plain": [
       "| 103     | 1m 55s       | 0.896462          | 0.943708              | 2.64447e-05 |"
      ]
     },
     "metadata": {},
     "output_type": "display_data"
    },
    {
     "data": {
      "text/html": [
       "<pre>| 104     | 1m 56s       | 0.896437          | 0.943691              | 2.6189e-05  |</pre>"
      ],
      "text/plain": [
       "| 104     | 1m 56s       | 0.896437          | 0.943691              | 2.6189e-05  |"
      ]
     },
     "metadata": {},
     "output_type": "display_data"
    },
    {
     "data": {
      "text/html": [
       "<pre>| 105     | 1m 57s       | 0.896412          | 0.943675              | 2.59382e-05 |</pre>"
      ],
      "text/plain": [
       "| 105     | 1m 57s       | 0.896412          | 0.943675              | 2.59382e-05 |"
      ]
     },
     "metadata": {},
     "output_type": "display_data"
    },
    {
     "data": {
      "text/html": [
       "<pre>| 106     | 1m 58s       | 0.896387          | 0.943657              | 2.56922e-05 |</pre>"
      ],
      "text/plain": [
       "| 106     | 1m 58s       | 0.896387          | 0.943657              | 2.56922e-05 |"
      ]
     },
     "metadata": {},
     "output_type": "display_data"
    },
    {
     "data": {
      "text/html": [
       "<pre>| 107     | 2m 0s        | 0.896363          | 0.943641              | 2.54508e-05 |</pre>"
      ],
      "text/plain": [
       "| 107     | 2m 0s        | 0.896363          | 0.943641              | 2.54508e-05 |"
      ]
     },
     "metadata": {},
     "output_type": "display_data"
    },
    {
     "data": {
      "text/html": [
       "<pre>| 108     | 2m 1s        | 0.896339          | 0.943625              | 2.52139e-05 |</pre>"
      ],
      "text/plain": [
       "| 108     | 2m 1s        | 0.896339          | 0.943625              | 2.52139e-05 |"
      ]
     },
     "metadata": {},
     "output_type": "display_data"
    },
    {
     "data": {
      "text/html": [
       "<pre>| 109     | 2m 2s        | 0.896315          | 0.943609              | 2.49814e-05 |</pre>"
      ],
      "text/plain": [
       "| 109     | 2m 2s        | 0.896315          | 0.943609              | 2.49814e-05 |"
      ]
     },
     "metadata": {},
     "output_type": "display_data"
    },
    {
     "data": {
      "text/html": [
       "<pre>| 110     | 2m 3s        | 0.896292          | 0.943593              | 2.47531e-05 |</pre>"
      ],
      "text/plain": [
       "| 110     | 2m 3s        | 0.896292          | 0.943593              | 2.47531e-05 |"
      ]
     },
     "metadata": {},
     "output_type": "display_data"
    },
    {
     "data": {
      "text/html": [
       "<pre>| 111     | 2m 4s        | 0.896269          | 0.943577              | 2.4529e-05  |</pre>"
      ],
      "text/plain": [
       "| 111     | 2m 4s        | 0.896269          | 0.943577              | 2.4529e-05  |"
      ]
     },
     "metadata": {},
     "output_type": "display_data"
    },
    {
     "data": {
      "text/html": [
       "<pre>| 112     | 2m 5s        | 0.896245          | 0.943562              | 2.43089e-05 |</pre>"
      ],
      "text/plain": [
       "| 112     | 2m 5s        | 0.896245          | 0.943562              | 2.43089e-05 |"
      ]
     },
     "metadata": {},
     "output_type": "display_data"
    },
    {
     "data": {
      "text/html": [
       "<pre>| 113     | 2m 6s        | 0.896223          | 0.943546              | 2.40927e-05 |</pre>"
      ],
      "text/plain": [
       "| 113     | 2m 6s        | 0.896223          | 0.943546              | 2.40927e-05 |"
      ]
     },
     "metadata": {},
     "output_type": "display_data"
    },
    {
     "data": {
      "text/html": [
       "<pre>| 114     | 2m 7s        | 0.896201          | 0.943531              | 2.38803e-05 |</pre>"
      ],
      "text/plain": [
       "| 114     | 2m 7s        | 0.896201          | 0.943531              | 2.38803e-05 |"
      ]
     },
     "metadata": {},
     "output_type": "display_data"
    },
    {
     "data": {
      "text/html": [
       "<pre>| 115     | 2m 8s        | 0.896179          | 0.943516              | 2.36716e-05 |</pre>"
      ],
      "text/plain": [
       "| 115     | 2m 8s        | 0.896179          | 0.943516              | 2.36716e-05 |"
      ]
     },
     "metadata": {},
     "output_type": "display_data"
    },
    {
     "data": {
      "text/html": [
       "<pre>| 116     | 2m 10s       | 0.896156          | 0.943501              | 2.34665e-05 |</pre>"
      ],
      "text/plain": [
       "| 116     | 2m 10s       | 0.896156          | 0.943501              | 2.34665e-05 |"
      ]
     },
     "metadata": {},
     "output_type": "display_data"
    },
    {
     "data": {
      "text/html": [
       "<pre>| 117     | 2m 11s       | 0.896135          | 0.943487              | 2.3265e-05  |</pre>"
      ],
      "text/plain": [
       "| 117     | 2m 11s       | 0.896135          | 0.943487              | 2.3265e-05  |"
      ]
     },
     "metadata": {},
     "output_type": "display_data"
    },
    {
     "data": {
      "text/html": [
       "<pre>| 118     | 2m 12s       | 0.896112          | 0.943471              | 2.30669e-05 |</pre>"
      ],
      "text/plain": [
       "| 118     | 2m 12s       | 0.896112          | 0.943471              | 2.30669e-05 |"
      ]
     },
     "metadata": {},
     "output_type": "display_data"
    },
    {
     "data": {
      "text/html": [
       "<pre>| 119     | 2m 13s       | 0.896093          | 0.943458              | 2.28721e-05 |</pre>"
      ],
      "text/plain": [
       "| 119     | 2m 13s       | 0.896093          | 0.943458              | 2.28721e-05 |"
      ]
     },
     "metadata": {},
     "output_type": "display_data"
    },
    {
     "data": {
      "text/html": [
       "<pre>| 120     | 2m 14s       | 0.896071          | 0.943444              | 2.26806e-05 |</pre>"
      ],
      "text/plain": [
       "| 120     | 2m 14s       | 0.896071          | 0.943444              | 2.26806e-05 |"
      ]
     },
     "metadata": {},
     "output_type": "display_data"
    },
    {
     "data": {
      "text/html": [
       "<pre>| 121     | 2m 15s       | 0.896051          | 0.94343               | 2.24923e-05 |</pre>"
      ],
      "text/plain": [
       "| 121     | 2m 15s       | 0.896051          | 0.94343               | 2.24923e-05 |"
      ]
     },
     "metadata": {},
     "output_type": "display_data"
    },
    {
     "data": {
      "text/html": [
       "<pre>| 122     | 2m 16s       | 0.89603           | 0.943415              | 2.23071e-05 |</pre>"
      ],
      "text/plain": [
       "| 122     | 2m 16s       | 0.89603           | 0.943415              | 2.23071e-05 |"
      ]
     },
     "metadata": {},
     "output_type": "display_data"
    },
    {
     "data": {
      "text/html": [
       "<pre>| 123     | 2m 17s       | 0.89601           | 0.943402              | 2.21249e-05 |</pre>"
      ],
      "text/plain": [
       "| 123     | 2m 17s       | 0.89601           | 0.943402              | 2.21249e-05 |"
      ]
     },
     "metadata": {},
     "output_type": "display_data"
    },
    {
     "data": {
      "text/html": [
       "<pre>| 124     | 2m 18s       | 0.89599           | 0.943388              | 2.19456e-05 |</pre>"
      ],
      "text/plain": [
       "| 124     | 2m 18s       | 0.89599           | 0.943388              | 2.19456e-05 |"
      ]
     },
     "metadata": {},
     "output_type": "display_data"
    },
    {
     "data": {
      "text/html": [
       "<pre>| 125     | 2m 19s       | 0.89597           | 0.943375              | 2.17693e-05 |</pre>"
      ],
      "text/plain": [
       "| 125     | 2m 19s       | 0.89597           | 0.943375              | 2.17693e-05 |"
      ]
     },
     "metadata": {},
     "output_type": "display_data"
    },
    {
     "data": {
      "text/html": [
       "<pre>| 126     | 2m 20s       | 0.89595           | 0.943361              | 2.15957e-05 |</pre>"
      ],
      "text/plain": [
       "| 126     | 2m 20s       | 0.89595           | 0.943361              | 2.15957e-05 |"
      ]
     },
     "metadata": {},
     "output_type": "display_data"
    },
    {
     "data": {
      "text/html": [
       "<pre>| 127     | 2m 21s       | 0.895931          | 0.943348              | 2.14249e-05 |</pre>"
      ],
      "text/plain": [
       "| 127     | 2m 21s       | 0.895931          | 0.943348              | 2.14249e-05 |"
      ]
     },
     "metadata": {},
     "output_type": "display_data"
    },
    {
     "data": {
      "text/html": [
       "<pre>| 128     | 2m 23s       | 0.895911          | 0.943334              | 2.12568e-05 |</pre>"
      ],
      "text/plain": [
       "| 128     | 2m 23s       | 0.895911          | 0.943334              | 2.12568e-05 |"
      ]
     },
     "metadata": {},
     "output_type": "display_data"
    },
    {
     "data": {
      "text/html": [
       "<pre>| 129     | 2m 24s       | 0.895893          | 0.943322              | 2.10913e-05 |</pre>"
      ],
      "text/plain": [
       "| 129     | 2m 24s       | 0.895893          | 0.943322              | 2.10913e-05 |"
      ]
     },
     "metadata": {},
     "output_type": "display_data"
    },
    {
     "data": {
      "text/html": [
       "<pre>| 130     | 2m 25s       | 0.895875          | 0.94331               | 2.09283e-05 |</pre>"
      ],
      "text/plain": [
       "| 130     | 2m 25s       | 0.895875          | 0.94331               | 2.09283e-05 |"
      ]
     },
     "metadata": {},
     "output_type": "display_data"
    },
    {
     "data": {
      "text/html": [
       "<pre>| 131     | 2m 26s       | 0.895856          | 0.943297              | 2.07679e-05 |</pre>"
      ],
      "text/plain": [
       "| 131     | 2m 26s       | 0.895856          | 0.943297              | 2.07679e-05 |"
      ]
     },
     "metadata": {},
     "output_type": "display_data"
    },
    {
     "data": {
      "text/html": [
       "<pre>| 132     | 2m 28s       | 0.895837          | 0.943284              | 2.06099e-05 |</pre>"
      ],
      "text/plain": [
       "| 132     | 2m 28s       | 0.895837          | 0.943284              | 2.06099e-05 |"
      ]
     },
     "metadata": {},
     "output_type": "display_data"
    },
    {
     "data": {
      "text/html": [
       "<pre>| 133     | 2m 29s       | 0.895819          | 0.943271              | 2.04542e-05 |</pre>"
      ],
      "text/plain": [
       "| 133     | 2m 29s       | 0.895819          | 0.943271              | 2.04542e-05 |"
      ]
     },
     "metadata": {},
     "output_type": "display_data"
    },
    {
     "data": {
      "text/html": [
       "<pre>| 134     | 2m 30s       | 0.895801          | 0.943259              | 2.0301e-05  |</pre>"
      ],
      "text/plain": [
       "| 134     | 2m 30s       | 0.895801          | 0.943259              | 2.0301e-05  |"
      ]
     },
     "metadata": {},
     "output_type": "display_data"
    },
    {
     "data": {
      "text/html": [
       "<pre>| 135     | 2m 31s       | 0.895784          | 0.943247              | 2.01499e-05 |</pre>"
      ],
      "text/plain": [
       "| 135     | 2m 31s       | 0.895784          | 0.943247              | 2.01499e-05 |"
      ]
     },
     "metadata": {},
     "output_type": "display_data"
    },
    {
     "data": {
      "text/html": [
       "<pre>| 136     | 2m 32s       | 0.895766          | 0.943235              | 2.00012e-05 |</pre>"
      ],
      "text/plain": [
       "| 136     | 2m 32s       | 0.895766          | 0.943235              | 2.00012e-05 |"
      ]
     },
     "metadata": {},
     "output_type": "display_data"
    },
    {
     "data": {
      "text/html": [
       "<pre>| 137     | 2m 33s       | 0.895748          | 0.943223              | 1.98546e-05 |</pre>"
      ],
      "text/plain": [
       "| 137     | 2m 33s       | 0.895748          | 0.943223              | 1.98546e-05 |"
      ]
     },
     "metadata": {},
     "output_type": "display_data"
    },
    {
     "data": {
      "text/html": [
       "<pre>| 138     | 2m 34s       | 0.895731          | 0.943211              | 1.97101e-05 |</pre>"
      ],
      "text/plain": [
       "| 138     | 2m 34s       | 0.895731          | 0.943211              | 1.97101e-05 |"
      ]
     },
     "metadata": {},
     "output_type": "display_data"
    },
    {
     "data": {
      "text/html": [
       "<pre>| 139     | 2m 35s       | 0.895714          | 0.9432                | 1.95677e-05 |</pre>"
      ],
      "text/plain": [
       "| 139     | 2m 35s       | 0.895714          | 0.9432                | 1.95677e-05 |"
      ]
     },
     "metadata": {},
     "output_type": "display_data"
    },
    {
     "data": {
      "text/html": [
       "<pre>| 140     | 2m 37s       | 0.895697          | 0.943188              | 1.94274e-05 |</pre>"
      ],
      "text/plain": [
       "| 140     | 2m 37s       | 0.895697          | 0.943188              | 1.94274e-05 |"
      ]
     },
     "metadata": {},
     "output_type": "display_data"
    },
    {
     "data": {
      "text/html": [
       "<pre>| 141     | 2m 38s       | 0.89568           | 0.943176              | 1.92891e-05 |</pre>"
      ],
      "text/plain": [
       "| 141     | 2m 38s       | 0.89568           | 0.943176              | 1.92891e-05 |"
      ]
     },
     "metadata": {},
     "output_type": "display_data"
    },
    {
     "data": {
      "text/html": [
       "<pre>| 142     | 2m 39s       | 0.895663          | 0.943165              | 1.91527e-05 |</pre>"
      ],
      "text/plain": [
       "| 142     | 2m 39s       | 0.895663          | 0.943165              | 1.91527e-05 |"
      ]
     },
     "metadata": {},
     "output_type": "display_data"
    },
    {
     "data": {
      "text/html": [
       "<pre>| 143     | 2m 40s       | 0.895647          | 0.943154              | 1.90182e-05 |</pre>"
      ],
      "text/plain": [
       "| 143     | 2m 40s       | 0.895647          | 0.943154              | 1.90182e-05 |"
      ]
     },
     "metadata": {},
     "output_type": "display_data"
    },
    {
     "data": {
      "text/html": [
       "<pre>| 144     | 2m 41s       | 0.895631          | 0.943142              | 1.88856e-05 |</pre>"
      ],
      "text/plain": [
       "| 144     | 2m 41s       | 0.895631          | 0.943142              | 1.88856e-05 |"
      ]
     },
     "metadata": {},
     "output_type": "display_data"
    },
    {
     "data": {
      "text/html": [
       "<pre>| 145     | 2m 42s       | 0.895615          | 0.943131              | 1.87549e-05 |</pre>"
      ],
      "text/plain": [
       "| 145     | 2m 42s       | 0.895615          | 0.943131              | 1.87549e-05 |"
      ]
     },
     "metadata": {},
     "output_type": "display_data"
    },
    {
     "data": {
      "text/html": [
       "<pre>| 146     | 2m 43s       | 0.895598          | 0.94312               | 1.86259e-05 |</pre>"
      ],
      "text/plain": [
       "| 146     | 2m 43s       | 0.895598          | 0.94312               | 1.86259e-05 |"
      ]
     },
     "metadata": {},
     "output_type": "display_data"
    },
    {
     "data": {
      "text/html": [
       "<pre>| 147     | 2m 44s       | 0.895582          | 0.943109              | 1.84987e-05 |</pre>"
      ],
      "text/plain": [
       "| 147     | 2m 44s       | 0.895582          | 0.943109              | 1.84987e-05 |"
      ]
     },
     "metadata": {},
     "output_type": "display_data"
    },
    {
     "data": {
      "text/html": [
       "<pre>| 148     | 2m 45s       | 0.895567          | 0.943098              | 1.83732e-05 |</pre>"
      ],
      "text/plain": [
       "| 148     | 2m 45s       | 0.895567          | 0.943098              | 1.83732e-05 |"
      ]
     },
     "metadata": {},
     "output_type": "display_data"
    },
    {
     "data": {
      "text/html": [
       "<pre>| 149     | 2m 47s       | 0.895551          | 0.943087              | 1.82495e-05 |</pre>"
      ],
      "text/plain": [
       "| 149     | 2m 47s       | 0.895551          | 0.943087              | 1.82495e-05 |"
      ]
     },
     "metadata": {},
     "output_type": "display_data"
    },
    {
     "data": {
      "text/html": [
       "<pre>| 150     | 2m 48s       | 0.895536          | 0.943077              | 1.81273e-05 |</pre>"
      ],
      "text/plain": [
       "| 150     | 2m 48s       | 0.895536          | 0.943077              | 1.81273e-05 |"
      ]
     },
     "metadata": {},
     "output_type": "display_data"
    },
    {
     "data": {
      "text/html": [
       "<pre>| 151     | 2m 49s       | 0.89552           | 0.943066              | 1.80068e-05 |</pre>"
      ],
      "text/plain": [
       "| 151     | 2m 49s       | 0.89552           | 0.943066              | 1.80068e-05 |"
      ]
     },
     "metadata": {},
     "output_type": "display_data"
    },
    {
     "data": {
      "text/html": [
       "<pre>| 152     | 2m 50s       | 0.895505          | 0.943056              | 1.78879e-05 |</pre>"
      ],
      "text/plain": [
       "| 152     | 2m 50s       | 0.895505          | 0.943056              | 1.78879e-05 |"
      ]
     },
     "metadata": {},
     "output_type": "display_data"
    },
    {
     "data": {
      "text/html": [
       "<pre>| 153     | 2m 51s       | 0.89549           | 0.943045              | 1.77706e-05 |</pre>"
      ],
      "text/plain": [
       "| 153     | 2m 51s       | 0.89549           | 0.943045              | 1.77706e-05 |"
      ]
     },
     "metadata": {},
     "output_type": "display_data"
    },
    {
     "data": {
      "text/html": [
       "<pre>| 154     | 2m 52s       | 0.895474          | 0.943035              | 1.76548e-05 |</pre>"
      ],
      "text/plain": [
       "| 154     | 2m 52s       | 0.895474          | 0.943035              | 1.76548e-05 |"
      ]
     },
     "metadata": {},
     "output_type": "display_data"
    },
    {
     "data": {
      "text/html": [
       "<pre>| 155     | 2m 53s       | 0.89546           | 0.943025              | 1.75404e-05 |</pre>"
      ],
      "text/plain": [
       "| 155     | 2m 53s       | 0.89546           | 0.943025              | 1.75404e-05 |"
      ]
     },
     "metadata": {},
     "output_type": "display_data"
    },
    {
     "data": {
      "text/html": [
       "<pre>| 156     | 2m 54s       | 0.895445          | 0.943015              | 1.74276e-05 |</pre>"
      ],
      "text/plain": [
       "| 156     | 2m 54s       | 0.895445          | 0.943015              | 1.74276e-05 |"
      ]
     },
     "metadata": {},
     "output_type": "display_data"
    },
    {
     "data": {
      "text/html": [
       "<pre>| 157     | 2m 55s       | 0.895431          | 0.943004              | 1.73162e-05 |</pre>"
      ],
      "text/plain": [
       "| 157     | 2m 55s       | 0.895431          | 0.943004              | 1.73162e-05 |"
      ]
     },
     "metadata": {},
     "output_type": "display_data"
    },
    {
     "data": {
      "text/html": [
       "<pre>| 158     | 2m 57s       | 0.895416          | 0.942994              | 1.72062e-05 |</pre>"
      ],
      "text/plain": [
       "| 158     | 2m 57s       | 0.895416          | 0.942994              | 1.72062e-05 |"
      ]
     },
     "metadata": {},
     "output_type": "display_data"
    },
    {
     "data": {
      "text/html": [
       "<pre>| 159     | 2m 58s       | 0.895402          | 0.942985              | 1.70976e-05 |</pre>"
      ],
      "text/plain": [
       "| 159     | 2m 58s       | 0.895402          | 0.942985              | 1.70976e-05 |"
      ]
     },
     "metadata": {},
     "output_type": "display_data"
    },
    {
     "data": {
      "text/html": [
       "<pre>| 160     | 2m 59s       | 0.895388          | 0.942975              | 1.69904e-05 |</pre>"
      ],
      "text/plain": [
       "| 160     | 2m 59s       | 0.895388          | 0.942975              | 1.69904e-05 |"
      ]
     },
     "metadata": {},
     "output_type": "display_data"
    },
    {
     "data": {
      "text/html": [
       "<pre>| 161     | 3m 0s        | 0.895374          | 0.942965              | 1.68845e-05 |</pre>"
      ],
      "text/plain": [
       "| 161     | 3m 0s        | 0.895374          | 0.942965              | 1.68845e-05 |"
      ]
     },
     "metadata": {},
     "output_type": "display_data"
    },
    {
     "data": {
      "text/html": [
       "<pre>| 162     | 3m 1s        | 0.89536           | 0.942955              | 1.67799e-05 |</pre>"
      ],
      "text/plain": [
       "| 162     | 3m 1s        | 0.89536           | 0.942955              | 1.67799e-05 |"
      ]
     },
     "metadata": {},
     "output_type": "display_data"
    },
    {
     "data": {
      "text/html": [
       "<pre>| 163     | 3m 2s        | 0.895346          | 0.942946              | 1.66766e-05 |</pre>"
      ],
      "text/plain": [
       "| 163     | 3m 2s        | 0.895346          | 0.942946              | 1.66766e-05 |"
      ]
     },
     "metadata": {},
     "output_type": "display_data"
    },
    {
     "data": {
      "text/html": [
       "<pre>| 164     | 3m 3s        | 0.895332          | 0.942936              | 1.65745e-05 |</pre>"
      ],
      "text/plain": [
       "| 164     | 3m 3s        | 0.895332          | 0.942936              | 1.65745e-05 |"
      ]
     },
     "metadata": {},
     "output_type": "display_data"
    },
    {
     "data": {
      "text/html": [
       "<pre>| 165     | 3m 5s        | 0.895318          | 0.942927              | 1.64737e-05 |</pre>"
      ],
      "text/plain": [
       "| 165     | 3m 5s        | 0.895318          | 0.942927              | 1.64737e-05 |"
      ]
     },
     "metadata": {},
     "output_type": "display_data"
    },
    {
     "data": {
      "text/html": [
       "<pre>| 166     | 3m 6s        | 0.895305          | 0.942917              | 1.63741e-05 |</pre>"
      ],
      "text/plain": [
       "| 166     | 3m 6s        | 0.895305          | 0.942917              | 1.63741e-05 |"
      ]
     },
     "metadata": {},
     "output_type": "display_data"
    },
    {
     "data": {
      "text/html": [
       "<pre>| 167     | 3m 6s        | 0.895292          | 0.942908              | 1.62758e-05 |</pre>"
      ],
      "text/plain": [
       "| 167     | 3m 6s        | 0.895292          | 0.942908              | 1.62758e-05 |"
      ]
     },
     "metadata": {},
     "output_type": "display_data"
    },
    {
     "data": {
      "text/html": [
       "<pre>| 168     | 3m 7s        | 0.895278          | 0.942899              | 1.61786e-05 |</pre>"
      ],
      "text/plain": [
       "| 168     | 3m 7s        | 0.895278          | 0.942899              | 1.61786e-05 |"
      ]
     },
     "metadata": {},
     "output_type": "display_data"
    },
    {
     "data": {
      "text/html": [
       "<pre>| 169     | 3m 8s        | 0.895265          | 0.94289               | 1.60825e-05 |</pre>"
      ],
      "text/plain": [
       "| 169     | 3m 8s        | 0.895265          | 0.94289               | 1.60825e-05 |"
      ]
     },
     "metadata": {},
     "output_type": "display_data"
    },
    {
     "data": {
      "text/html": [
       "<pre>| 170     | 3m 9s        | 0.895252          | 0.94288               | 1.59876e-05 |</pre>"
      ],
      "text/plain": [
       "| 170     | 3m 9s        | 0.895252          | 0.94288               | 1.59876e-05 |"
      ]
     },
     "metadata": {},
     "output_type": "display_data"
    },
    {
     "data": {
      "text/html": [
       "<pre>| 171     | 3m 10s       | 0.895239          | 0.942872              | 1.58938e-05 |</pre>"
      ],
      "text/plain": [
       "| 171     | 3m 10s       | 0.895239          | 0.942872              | 1.58938e-05 |"
      ]
     },
     "metadata": {},
     "output_type": "display_data"
    },
    {
     "data": {
      "text/html": [
       "<pre>| 172     | 3m 11s       | 0.895226          | 0.942863              | 1.58011e-05 |</pre>"
      ],
      "text/plain": [
       "| 172     | 3m 11s       | 0.895226          | 0.942863              | 1.58011e-05 |"
      ]
     },
     "metadata": {},
     "output_type": "display_data"
    },
    {
     "data": {
      "text/html": [
       "<pre>| 173     | 3m 12s       | 0.895213          | 0.942854              | 1.57094e-05 |</pre>"
      ],
      "text/plain": [
       "| 173     | 3m 12s       | 0.895213          | 0.942854              | 1.57094e-05 |"
      ]
     },
     "metadata": {},
     "output_type": "display_data"
    },
    {
     "data": {
      "text/html": [
       "<pre>| 174     | 3m 13s       | 0.8952            | 0.942845              | 1.56189e-05 |</pre>"
      ],
      "text/plain": [
       "| 174     | 3m 13s       | 0.8952            | 0.942845              | 1.56189e-05 |"
      ]
     },
     "metadata": {},
     "output_type": "display_data"
    },
    {
     "data": {
      "text/html": [
       "<pre>| 175     | 3m 14s       | 0.895187          | 0.942836              | 1.55293e-05 |</pre>"
      ],
      "text/plain": [
       "| 175     | 3m 14s       | 0.895187          | 0.942836              | 1.55293e-05 |"
      ]
     },
     "metadata": {},
     "output_type": "display_data"
    },
    {
     "data": {
      "text/html": [
       "<pre>| 176     | 3m 15s       | 0.895175          | 0.942827              | 1.54408e-05 |</pre>"
      ],
      "text/plain": [
       "| 176     | 3m 15s       | 0.895175          | 0.942827              | 1.54408e-05 |"
      ]
     },
     "metadata": {},
     "output_type": "display_data"
    },
    {
     "data": {
      "text/html": [
       "<pre>| 177     | 3m 16s       | 0.895163          | 0.942819              | 1.53533e-05 |</pre>"
      ],
      "text/plain": [
       "| 177     | 3m 16s       | 0.895163          | 0.942819              | 1.53533e-05 |"
      ]
     },
     "metadata": {},
     "output_type": "display_data"
    },
    {
     "data": {
      "text/html": [
       "<pre>| 178     | 3m 17s       | 0.89515           | 0.94281               | 1.52668e-05 |</pre>"
      ],
      "text/plain": [
       "| 178     | 3m 17s       | 0.89515           | 0.94281               | 1.52668e-05 |"
      ]
     },
     "metadata": {},
     "output_type": "display_data"
    },
    {
     "data": {
      "text/html": [
       "<pre>| 179     | 3m 18s       | 0.895138          | 0.942802              | 1.51812e-05 |</pre>"
      ],
      "text/plain": [
       "| 179     | 3m 18s       | 0.895138          | 0.942802              | 1.51812e-05 |"
      ]
     },
     "metadata": {},
     "output_type": "display_data"
    },
    {
     "data": {
      "text/html": [
       "<pre>| 180     | 3m 19s       | 0.895126          | 0.942793              | 1.50966e-05 |</pre>"
      ],
      "text/plain": [
       "| 180     | 3m 19s       | 0.895126          | 0.942793              | 1.50966e-05 |"
      ]
     },
     "metadata": {},
     "output_type": "display_data"
    },
    {
     "data": {
      "text/html": [
       "<pre>| 181     | 3m 20s       | 0.895114          | 0.942785              | 1.50129e-05 |</pre>"
      ],
      "text/plain": [
       "| 181     | 3m 20s       | 0.895114          | 0.942785              | 1.50129e-05 |"
      ]
     },
     "metadata": {},
     "output_type": "display_data"
    },
    {
     "data": {
      "text/html": [
       "<pre>| 182     | 3m 21s       | 0.895102          | 0.942776              | 1.49302e-05 |</pre>"
      ],
      "text/plain": [
       "| 182     | 3m 21s       | 0.895102          | 0.942776              | 1.49302e-05 |"
      ]
     },
     "metadata": {},
     "output_type": "display_data"
    },
    {
     "data": {
      "text/html": [
       "<pre>| 183     | 3m 22s       | 0.89509           | 0.942768              | 1.48483e-05 |</pre>"
      ],
      "text/plain": [
       "| 183     | 3m 22s       | 0.89509           | 0.942768              | 1.48483e-05 |"
      ]
     },
     "metadata": {},
     "output_type": "display_data"
    },
    {
     "data": {
      "text/html": [
       "<pre>| 184     | 3m 24s       | 0.895078          | 0.94276               | 1.47674e-05 |</pre>"
      ],
      "text/plain": [
       "| 184     | 3m 24s       | 0.895078          | 0.94276               | 1.47674e-05 |"
      ]
     },
     "metadata": {},
     "output_type": "display_data"
    },
    {
     "data": {
      "text/html": [
       "<pre>| 185     | 3m 25s       | 0.895067          | 0.942752              | 1.46873e-05 |</pre>"
      ],
      "text/plain": [
       "| 185     | 3m 25s       | 0.895067          | 0.942752              | 1.46873e-05 |"
      ]
     },
     "metadata": {},
     "output_type": "display_data"
    },
    {
     "data": {
      "text/html": [
       "<pre>| 186     | 3m 26s       | 0.895055          | 0.942744              | 1.46081e-05 |</pre>"
      ],
      "text/plain": [
       "| 186     | 3m 26s       | 0.895055          | 0.942744              | 1.46081e-05 |"
      ]
     },
     "metadata": {},
     "output_type": "display_data"
    },
    {
     "data": {
      "text/html": [
       "<pre>| 187     | 3m 27s       | 0.895044          | 0.942736              | 1.45298e-05 |</pre>"
      ],
      "text/plain": [
       "| 187     | 3m 27s       | 0.895044          | 0.942736              | 1.45298e-05 |"
      ]
     },
     "metadata": {},
     "output_type": "display_data"
    },
    {
     "data": {
      "text/html": [
       "<pre>| 188     | 3m 28s       | 0.895032          | 0.942728              | 1.44522e-05 |</pre>"
      ],
      "text/plain": [
       "| 188     | 3m 28s       | 0.895032          | 0.942728              | 1.44522e-05 |"
      ]
     },
     "metadata": {},
     "output_type": "display_data"
    },
    {
     "data": {
      "text/html": [
       "<pre>| 189     | 3m 29s       | 0.895021          | 0.94272               | 1.43755e-05 |</pre>"
      ],
      "text/plain": [
       "| 189     | 3m 29s       | 0.895021          | 0.94272               | 1.43755e-05 |"
      ]
     },
     "metadata": {},
     "output_type": "display_data"
    },
    {
     "data": {
      "text/html": [
       "<pre>| 190     | 3m 30s       | 0.895009          | 0.942712              | 1.42997e-05 |</pre>"
      ],
      "text/plain": [
       "| 190     | 3m 30s       | 0.895009          | 0.942712              | 1.42997e-05 |"
      ]
     },
     "metadata": {},
     "output_type": "display_data"
    },
    {
     "data": {
      "text/html": [
       "<pre>| 191     | 3m 31s       | 0.894998          | 0.942704              | 1.42246e-05 |</pre>"
      ],
      "text/plain": [
       "| 191     | 3m 31s       | 0.894998          | 0.942704              | 1.42246e-05 |"
      ]
     },
     "metadata": {},
     "output_type": "display_data"
    },
    {
     "data": {
      "text/html": [
       "<pre>| 192     | 3m 32s       | 0.894987          | 0.942696              | 1.41503e-05 |</pre>"
      ],
      "text/plain": [
       "| 192     | 3m 32s       | 0.894987          | 0.942696              | 1.41503e-05 |"
      ]
     },
     "metadata": {},
     "output_type": "display_data"
    },
    {
     "data": {
      "text/html": [
       "<pre>| 193     | 3m 33s       | 0.894976          | 0.942688              | 1.40767e-05 |</pre>"
      ],
      "text/plain": [
       "| 193     | 3m 33s       | 0.894976          | 0.942688              | 1.40767e-05 |"
      ]
     },
     "metadata": {},
     "output_type": "display_data"
    },
    {
     "data": {
      "text/html": [
       "<pre>| 194     | 3m 34s       | 0.894965          | 0.942681              | 1.4004e-05  |</pre>"
      ],
      "text/plain": [
       "| 194     | 3m 34s       | 0.894965          | 0.942681              | 1.4004e-05  |"
      ]
     },
     "metadata": {},
     "output_type": "display_data"
    },
    {
     "data": {
      "text/html": [
       "<pre>| 195     | 3m 34s       | 0.894955          | 0.942673              | 1.39319e-05 |</pre>"
      ],
      "text/plain": [
       "| 195     | 3m 34s       | 0.894955          | 0.942673              | 1.39319e-05 |"
      ]
     },
     "metadata": {},
     "output_type": "display_data"
    },
    {
     "data": {
      "text/html": [
       "<pre>| 196     | 3m 36s       | 0.894943          | 0.942665              | 1.38607e-05 |</pre>"
      ],
      "text/plain": [
       "| 196     | 3m 36s       | 0.894943          | 0.942665              | 1.38607e-05 |"
      ]
     },
     "metadata": {},
     "output_type": "display_data"
    },
    {
     "data": {
      "text/html": [
       "<pre>| 197     | 3m 37s       | 0.894932          | 0.942658              | 1.37901e-05 |</pre>"
      ],
      "text/plain": [
       "| 197     | 3m 37s       | 0.894932          | 0.942658              | 1.37901e-05 |"
      ]
     },
     "metadata": {},
     "output_type": "display_data"
    },
    {
     "data": {
      "text/html": [
       "<pre>| 198     | 3m 38s       | 0.894922          | 0.942651              | 1.37202e-05 |</pre>"
      ],
      "text/plain": [
       "| 198     | 3m 38s       | 0.894922          | 0.942651              | 1.37202e-05 |"
      ]
     },
     "metadata": {},
     "output_type": "display_data"
    },
    {
     "data": {
      "text/html": [
       "<pre>| 199     | 3m 39s       | 0.894911          | 0.942643              | 1.36511e-05 |</pre>"
      ],
      "text/plain": [
       "| 199     | 3m 39s       | 0.894911          | 0.942643              | 1.36511e-05 |"
      ]
     },
     "metadata": {},
     "output_type": "display_data"
    },
    {
     "data": {
      "text/html": [
       "<pre>| 200     | 3m 40s       | 0.8949            | 0.942636              | 1.35827e-05 |</pre>"
      ],
      "text/plain": [
       "| 200     | 3m 40s       | 0.8949            | 0.942636              | 1.35827e-05 |"
      ]
     },
     "metadata": {},
     "output_type": "display_data"
    },
    {
     "data": {
      "text/html": [
       "<pre>| 201     | 3m 41s       | 0.89489           | 0.942628              | 1.35149e-05 |</pre>"
      ],
      "text/plain": [
       "| 201     | 3m 41s       | 0.89489           | 0.942628              | 1.35149e-05 |"
      ]
     },
     "metadata": {},
     "output_type": "display_data"
    },
    {
     "data": {
      "text/html": [
       "<pre>| 202     | 3m 43s       | 0.894879          | 0.942621              | 1.34478e-05 |</pre>"
      ],
      "text/plain": [
       "| 202     | 3m 43s       | 0.894879          | 0.942621              | 1.34478e-05 |"
      ]
     },
     "metadata": {},
     "output_type": "display_data"
    },
    {
     "data": {
      "text/html": [
       "<pre>| 203     | 3m 44s       | 0.894869          | 0.942614              | 1.33814e-05 |</pre>"
      ],
      "text/plain": [
       "| 203     | 3m 44s       | 0.894869          | 0.942614              | 1.33814e-05 |"
      ]
     },
     "metadata": {},
     "output_type": "display_data"
    },
    {
     "data": {
      "text/html": [
       "<pre>| 204     | 3m 45s       | 0.894859          | 0.942607              | 1.33156e-05 |</pre>"
      ],
      "text/plain": [
       "| 204     | 3m 45s       | 0.894859          | 0.942607              | 1.33156e-05 |"
      ]
     },
     "metadata": {},
     "output_type": "display_data"
    },
    {
     "data": {
      "text/html": [
       "<pre>| 205     | 3m 46s       | 0.894849          | 0.942599              | 1.32505e-05 |</pre>"
      ],
      "text/plain": [
       "| 205     | 3m 46s       | 0.894849          | 0.942599              | 1.32505e-05 |"
      ]
     },
     "metadata": {},
     "output_type": "display_data"
    },
    {
     "data": {
      "text/html": [
       "<pre>| 206     | 3m 47s       | 0.894838          | 0.942592              | 1.3186e-05  |</pre>"
      ],
      "text/plain": [
       "| 206     | 3m 47s       | 0.894838          | 0.942592              | 1.3186e-05  |"
      ]
     },
     "metadata": {},
     "output_type": "display_data"
    },
    {
     "data": {
      "text/html": [
       "<pre>| 207     | 3m 48s       | 0.894828          | 0.942585              | 1.31221e-05 |</pre>"
      ],
      "text/plain": [
       "| 207     | 3m 48s       | 0.894828          | 0.942585              | 1.31221e-05 |"
      ]
     },
     "metadata": {},
     "output_type": "display_data"
    },
    {
     "data": {
      "text/html": [
       "<pre>| 208     | 3m 49s       | 0.894818          | 0.942578              | 1.30588e-05 |</pre>"
      ],
      "text/plain": [
       "| 208     | 3m 49s       | 0.894818          | 0.942578              | 1.30588e-05 |"
      ]
     },
     "metadata": {},
     "output_type": "display_data"
    },
    {
     "data": {
      "text/html": [
       "<pre>| 209     | 3m 50s       | 0.894808          | 0.942571              | 1.29962e-05 |</pre>"
      ],
      "text/plain": [
       "| 209     | 3m 50s       | 0.894808          | 0.942571              | 1.29962e-05 |"
      ]
     },
     "metadata": {},
     "output_type": "display_data"
    },
    {
     "data": {
      "text/html": [
       "<pre>| 210     | 3m 52s       | 0.894798          | 0.942564              | 1.29341e-05 |</pre>"
      ],
      "text/plain": [
       "| 210     | 3m 52s       | 0.894798          | 0.942564              | 1.29341e-05 |"
      ]
     },
     "metadata": {},
     "output_type": "display_data"
    },
    {
     "data": {
      "text/html": [
       "<pre>| 211     | 3m 53s       | 0.894789          | 0.942557              | 1.28726e-05 |</pre>"
      ],
      "text/plain": [
       "| 211     | 3m 53s       | 0.894789          | 0.942557              | 1.28726e-05 |"
      ]
     },
     "metadata": {},
     "output_type": "display_data"
    },
    {
     "data": {
      "text/html": [
       "<pre>| 212     | 3m 54s       | 0.894779          | 0.94255               | 1.28118e-05 |</pre>"
      ],
      "text/plain": [
       "| 212     | 3m 54s       | 0.894779          | 0.94255               | 1.28118e-05 |"
      ]
     },
     "metadata": {},
     "output_type": "display_data"
    },
    {
     "data": {
      "text/html": [
       "<pre>| 213     | 3m 55s       | 0.894769          | 0.942544              | 1.27515e-05 |</pre>"
      ],
      "text/plain": [
       "| 213     | 3m 55s       | 0.894769          | 0.942544              | 1.27515e-05 |"
      ]
     },
     "metadata": {},
     "output_type": "display_data"
    },
    {
     "data": {
      "text/html": [
       "<pre>| 214     | 3m 56s       | 0.894759          | 0.942536              | 1.26917e-05 |</pre>"
      ],
      "text/plain": [
       "| 214     | 3m 56s       | 0.894759          | 0.942536              | 1.26917e-05 |"
      ]
     },
     "metadata": {},
     "output_type": "display_data"
    },
    {
     "data": {
      "text/html": [
       "<pre>| 215     | 3m 57s       | 0.89475           | 0.94253               | 1.26325e-05 |</pre>"
      ],
      "text/plain": [
       "| 215     | 3m 57s       | 0.89475           | 0.94253               | 1.26325e-05 |"
      ]
     },
     "metadata": {},
     "output_type": "display_data"
    },
    {
     "data": {
      "text/html": [
       "<pre>| 216     | 3m 58s       | 0.89474           | 0.942523              | 1.25739e-05 |</pre>"
      ],
      "text/plain": [
       "| 216     | 3m 58s       | 0.89474           | 0.942523              | 1.25739e-05 |"
      ]
     },
     "metadata": {},
     "output_type": "display_data"
    },
    {
     "data": {
      "text/html": [
       "<pre>| 217     | 3m 59s       | 0.894731          | 0.942517              | 1.25158e-05 |</pre>"
      ],
      "text/plain": [
       "| 217     | 3m 59s       | 0.894731          | 0.942517              | 1.25158e-05 |"
      ]
     },
     "metadata": {},
     "output_type": "display_data"
    },
    {
     "data": {
      "text/html": [
       "<pre>| 218     | 4m 0s        | 0.894721          | 0.94251               | 1.24582e-05 |</pre>"
      ],
      "text/plain": [
       "| 218     | 4m 0s        | 0.894721          | 0.94251               | 1.24582e-05 |"
      ]
     },
     "metadata": {},
     "output_type": "display_data"
    },
    {
     "data": {
      "text/html": [
       "<pre>| 219     | 4m 2s        | 0.894712          | 0.942503              | 1.24012e-05 |</pre>"
      ],
      "text/plain": [
       "| 219     | 4m 2s        | 0.894712          | 0.942503              | 1.24012e-05 |"
      ]
     },
     "metadata": {},
     "output_type": "display_data"
    },
    {
     "data": {
      "text/html": [
       "<pre>| 220     | 4m 3s        | 0.894703          | 0.942497              | 1.23447e-05 |</pre>"
      ],
      "text/plain": [
       "| 220     | 4m 3s        | 0.894703          | 0.942497              | 1.23447e-05 |"
      ]
     },
     "metadata": {},
     "output_type": "display_data"
    },
    {
     "data": {
      "text/html": [
       "<pre>| 221     | 4m 4s        | 0.894693          | 0.94249               | 1.22887e-05 |</pre>"
      ],
      "text/plain": [
       "| 221     | 4m 4s        | 0.894693          | 0.94249               | 1.22887e-05 |"
      ]
     },
     "metadata": {},
     "output_type": "display_data"
    },
    {
     "data": {
      "text/html": [
       "<pre>| 222     | 4m 5s        | 0.894684          | 0.942484              | 1.22332e-05 |</pre>"
      ],
      "text/plain": [
       "| 222     | 4m 5s        | 0.894684          | 0.942484              | 1.22332e-05 |"
      ]
     },
     "metadata": {},
     "output_type": "display_data"
    },
    {
     "data": {
      "text/html": [
       "<pre>| 223     | 4m 6s        | 0.894675          | 0.942477              | 1.21782e-05 |</pre>"
      ],
      "text/plain": [
       "| 223     | 4m 6s        | 0.894675          | 0.942477              | 1.21782e-05 |"
      ]
     },
     "metadata": {},
     "output_type": "display_data"
    },
    {
     "data": {
      "text/html": [
       "<pre>| 224     | 4m 7s        | 0.894666          | 0.942471              | 1.21237e-05 |</pre>"
      ],
      "text/plain": [
       "| 224     | 4m 7s        | 0.894666          | 0.942471              | 1.21237e-05 |"
      ]
     },
     "metadata": {},
     "output_type": "display_data"
    },
    {
     "data": {
      "text/html": [
       "<pre>| 225     | 4m 8s        | 0.894657          | 0.942465              | 1.20697e-05 |</pre>"
      ],
      "text/plain": [
       "| 225     | 4m 8s        | 0.894657          | 0.942465              | 1.20697e-05 |"
      ]
     },
     "metadata": {},
     "output_type": "display_data"
    },
    {
     "data": {
      "text/html": [
       "<pre>| 226     | 4m 10s       | 0.894648          | 0.942458              | 1.20161e-05 |</pre>"
      ],
      "text/plain": [
       "| 226     | 4m 10s       | 0.894648          | 0.942458              | 1.20161e-05 |"
      ]
     },
     "metadata": {},
     "output_type": "display_data"
    },
    {
     "data": {
      "text/html": [
       "<pre>| 227     | 4m 11s       | 0.894639          | 0.942452              | 1.19631e-05 |</pre>"
      ],
      "text/plain": [
       "| 227     | 4m 11s       | 0.894639          | 0.942452              | 1.19631e-05 |"
      ]
     },
     "metadata": {},
     "output_type": "display_data"
    },
    {
     "data": {
      "text/html": [
       "<pre>| 228     | 4m 12s       | 0.89463           | 0.942446              | 1.19105e-05 |</pre>"
      ],
      "text/plain": [
       "| 228     | 4m 12s       | 0.89463           | 0.942446              | 1.19105e-05 |"
      ]
     },
     "metadata": {},
     "output_type": "display_data"
    },
    {
     "data": {
      "text/html": [
       "<pre>| 229     | 4m 13s       | 0.894621          | 0.942439              | 1.18583e-05 |</pre>"
      ],
      "text/plain": [
       "| 229     | 4m 13s       | 0.894621          | 0.942439              | 1.18583e-05 |"
      ]
     },
     "metadata": {},
     "output_type": "display_data"
    },
    {
     "data": {
      "text/html": [
       "<pre>| 230     | 4m 14s       | 0.894613          | 0.942433              | 1.18066e-05 |</pre>"
      ],
      "text/plain": [
       "| 230     | 4m 14s       | 0.894613          | 0.942433              | 1.18066e-05 |"
      ]
     },
     "metadata": {},
     "output_type": "display_data"
    },
    {
     "data": {
      "text/html": [
       "<pre>| 231     | 4m 15s       | 0.894604          | 0.942427              | 1.17554e-05 |</pre>"
      ],
      "text/plain": [
       "| 231     | 4m 15s       | 0.894604          | 0.942427              | 1.17554e-05 |"
      ]
     },
     "metadata": {},
     "output_type": "display_data"
    },
    {
     "data": {
      "text/html": [
       "<pre>| 232     | 4m 16s       | 0.894595          | 0.942421              | 1.17046e-05 |</pre>"
      ],
      "text/plain": [
       "| 232     | 4m 16s       | 0.894595          | 0.942421              | 1.17046e-05 |"
      ]
     },
     "metadata": {},
     "output_type": "display_data"
    },
    {
     "data": {
      "text/html": [
       "<pre>| 233     | 4m 17s       | 0.894587          | 0.942415              | 1.16543e-05 |</pre>"
      ],
      "text/plain": [
       "| 233     | 4m 17s       | 0.894587          | 0.942415              | 1.16543e-05 |"
      ]
     },
     "metadata": {},
     "output_type": "display_data"
    },
    {
     "data": {
      "text/html": [
       "<pre>| 234     | 4m 19s       | 0.894578          | 0.942409              | 1.16043e-05 |</pre>"
      ],
      "text/plain": [
       "| 234     | 4m 19s       | 0.894578          | 0.942409              | 1.16043e-05 |"
      ]
     },
     "metadata": {},
     "output_type": "display_data"
    },
    {
     "data": {
      "text/html": [
       "<pre>| 235     | 4m 20s       | 0.894569          | 0.942403              | 1.15548e-05 |</pre>"
      ],
      "text/plain": [
       "| 235     | 4m 20s       | 0.894569          | 0.942403              | 1.15548e-05 |"
      ]
     },
     "metadata": {},
     "output_type": "display_data"
    },
    {
     "data": {
      "text/html": [
       "<pre>| 236     | 4m 21s       | 0.894561          | 0.942397              | 1.15057e-05 |</pre>"
      ],
      "text/plain": [
       "| 236     | 4m 21s       | 0.894561          | 0.942397              | 1.15057e-05 |"
      ]
     },
     "metadata": {},
     "output_type": "display_data"
    },
    {
     "data": {
      "text/html": [
       "<pre>| 237     | 4m 22s       | 0.894552          | 0.942391              | 1.14571e-05 |</pre>"
      ],
      "text/plain": [
       "| 237     | 4m 22s       | 0.894552          | 0.942391              | 1.14571e-05 |"
      ]
     },
     "metadata": {},
     "output_type": "display_data"
    },
    {
     "data": {
      "text/html": [
       "<pre>| 238     | 4m 23s       | 0.894544          | 0.942385              | 1.14088e-05 |</pre>"
      ],
      "text/plain": [
       "| 238     | 4m 23s       | 0.894544          | 0.942385              | 1.14088e-05 |"
      ]
     },
     "metadata": {},
     "output_type": "display_data"
    },
    {
     "data": {
      "text/html": [
       "<pre>| 239     | 4m 24s       | 0.894536          | 0.942379              | 1.1361e-05  |</pre>"
      ],
      "text/plain": [
       "| 239     | 4m 24s       | 0.894536          | 0.942379              | 1.1361e-05  |"
      ]
     },
     "metadata": {},
     "output_type": "display_data"
    },
    {
     "data": {
      "text/html": [
       "<pre>| 240     | 4m 25s       | 0.894527          | 0.942373              | 1.13135e-05 |</pre>"
      ],
      "text/plain": [
       "| 240     | 4m 25s       | 0.894527          | 0.942373              | 1.13135e-05 |"
      ]
     },
     "metadata": {},
     "output_type": "display_data"
    },
    {
     "data": {
      "text/html": [
       "<pre>| 241     | 4m 27s       | 0.894519          | 0.942367              | 1.12665e-05 |</pre>"
      ],
      "text/plain": [
       "| 241     | 4m 27s       | 0.894519          | 0.942367              | 1.12665e-05 |"
      ]
     },
     "metadata": {},
     "output_type": "display_data"
    },
    {
     "data": {
      "text/html": [
       "<pre>| 242     | 4m 28s       | 0.894511          | 0.942361              | 1.12198e-05 |</pre>"
      ],
      "text/plain": [
       "| 242     | 4m 28s       | 0.894511          | 0.942361              | 1.12198e-05 |"
      ]
     },
     "metadata": {},
     "output_type": "display_data"
    },
    {
     "data": {
      "text/html": [
       "<pre>| 243     | 4m 29s       | 0.894503          | 0.942356              | 1.11735e-05 |</pre>"
      ],
      "text/plain": [
       "| 243     | 4m 29s       | 0.894503          | 0.942356              | 1.11735e-05 |"
      ]
     },
     "metadata": {},
     "output_type": "display_data"
    },
    {
     "data": {
      "text/html": [
       "<pre>| 244     | 4m 30s       | 0.894495          | 0.94235               | 1.11276e-05 |</pre>"
      ],
      "text/plain": [
       "| 244     | 4m 30s       | 0.894495          | 0.94235               | 1.11276e-05 |"
      ]
     },
     "metadata": {},
     "output_type": "display_data"
    },
    {
     "data": {
      "text/html": [
       "<pre>| 245     | 4m 31s       | 0.894487          | 0.942344              | 1.10821e-05 |</pre>"
      ],
      "text/plain": [
       "| 245     | 4m 31s       | 0.894487          | 0.942344              | 1.10821e-05 |"
      ]
     },
     "metadata": {},
     "output_type": "display_data"
    },
    {
     "data": {
      "text/html": [
       "<pre>| 246     | 4m 33s       | 0.894479          | 0.942339              | 1.1037e-05  |</pre>"
      ],
      "text/plain": [
       "| 246     | 4m 33s       | 0.894479          | 0.942339              | 1.1037e-05  |"
      ]
     },
     "metadata": {},
     "output_type": "display_data"
    },
    {
     "data": {
      "text/html": [
       "<pre>| 247     | 4m 34s       | 0.894471          | 0.942333              | 1.09922e-05 |</pre>"
      ],
      "text/plain": [
       "| 247     | 4m 34s       | 0.894471          | 0.942333              | 1.09922e-05 |"
      ]
     },
     "metadata": {},
     "output_type": "display_data"
    },
    {
     "data": {
      "text/html": [
       "<pre>| 248     | 4m 35s       | 0.894463          | 0.942327              | 1.09477e-05 |</pre>"
      ],
      "text/plain": [
       "| 248     | 4m 35s       | 0.894463          | 0.942327              | 1.09477e-05 |"
      ]
     },
     "metadata": {},
     "output_type": "display_data"
    },
    {
     "data": {
      "text/html": [
       "<pre>| 249     | 4m 36s       | 0.894455          | 0.942322              | 1.09037e-05 |</pre>"
      ],
      "text/plain": [
       "| 249     | 4m 36s       | 0.894455          | 0.942322              | 1.09037e-05 |"
      ]
     },
     "metadata": {},
     "output_type": "display_data"
    },
    {
     "data": {
      "text/html": [
       "<pre>| 250     | 4m 37s       | 0.894447          | 0.942316              | 1.086e-05   |</pre>"
      ],
      "text/plain": [
       "| 250     | 4m 37s       | 0.894447          | 0.942316              | 1.086e-05   |"
      ]
     },
     "metadata": {},
     "output_type": "display_data"
    },
    {
     "data": {
      "text/html": [
       "<pre>| 251     | 4m 38s       | 0.894439          | 0.94231               | 1.08166e-05 |</pre>"
      ],
      "text/plain": [
       "| 251     | 4m 38s       | 0.894439          | 0.94231               | 1.08166e-05 |"
      ]
     },
     "metadata": {},
     "output_type": "display_data"
    },
    {
     "data": {
      "text/html": [
       "<pre>| 252     | 4m 39s       | 0.894431          | 0.942305              | 1.07736e-05 |</pre>"
      ],
      "text/plain": [
       "| 252     | 4m 39s       | 0.894431          | 0.942305              | 1.07736e-05 |"
      ]
     },
     "metadata": {},
     "output_type": "display_data"
    },
    {
     "data": {
      "text/html": [
       "<pre>| 253     | 4m 40s       | 0.894423          | 0.942299              | 1.07309e-05 |</pre>"
      ],
      "text/plain": [
       "| 253     | 4m 40s       | 0.894423          | 0.942299              | 1.07309e-05 |"
      ]
     },
     "metadata": {},
     "output_type": "display_data"
    },
    {
     "data": {
      "text/html": [
       "<pre>| 254     | 4m 41s       | 0.894416          | 0.942294              | 1.06886e-05 |</pre>"
      ],
      "text/plain": [
       "| 254     | 4m 41s       | 0.894416          | 0.942294              | 1.06886e-05 |"
      ]
     },
     "metadata": {},
     "output_type": "display_data"
    },
    {
     "data": {
      "text/html": [
       "<pre>| 255     | 4m 43s       | 0.894408          | 0.942289              | 1.06466e-05 |</pre>"
      ],
      "text/plain": [
       "| 255     | 4m 43s       | 0.894408          | 0.942289              | 1.06466e-05 |"
      ]
     },
     "metadata": {},
     "output_type": "display_data"
    },
    {
     "data": {
      "text/html": [
       "<pre>| 256     | 4m 44s       | 0.8944            | 0.942283              | 1.06049e-05 |</pre>"
      ],
      "text/plain": [
       "| 256     | 4m 44s       | 0.8944            | 0.942283              | 1.06049e-05 |"
      ]
     },
     "metadata": {},
     "output_type": "display_data"
    },
    {
     "data": {
      "text/html": [
       "<pre>| 257     | 4m 45s       | 0.894394          | 0.942278              | 1.05635e-05 |</pre>"
      ],
      "text/plain": [
       "| 257     | 4m 45s       | 0.894394          | 0.942278              | 1.05635e-05 |"
      ]
     },
     "metadata": {},
     "output_type": "display_data"
    },
    {
     "data": {
      "text/html": [
       "<pre>| 258     | 4m 46s       | 0.894386          | 0.942272              | 1.05225e-05 |</pre>"
      ],
      "text/plain": [
       "| 258     | 4m 46s       | 0.894386          | 0.942272              | 1.05225e-05 |"
      ]
     },
     "metadata": {},
     "output_type": "display_data"
    },
    {
     "data": {
      "text/html": [
       "<pre>| 259     | 4m 47s       | 0.894378          | 0.942267              | 1.04818e-05 |</pre>"
      ],
      "text/plain": [
       "| 259     | 4m 47s       | 0.894378          | 0.942267              | 1.04818e-05 |"
      ]
     },
     "metadata": {},
     "output_type": "display_data"
    },
    {
     "data": {
      "text/html": [
       "<pre>| 260     | 4m 48s       | 0.89437           | 0.942262              | 1.04414e-05 |</pre>"
      ],
      "text/plain": [
       "| 260     | 4m 48s       | 0.89437           | 0.942262              | 1.04414e-05 |"
      ]
     },
     "metadata": {},
     "output_type": "display_data"
    },
    {
     "data": {
      "text/html": [
       "<pre>| 261     | 4m 49s       | 0.894363          | 0.942257              | 1.04013e-05 |</pre>"
      ],
      "text/plain": [
       "| 261     | 4m 49s       | 0.894363          | 0.942257              | 1.04013e-05 |"
      ]
     },
     "metadata": {},
     "output_type": "display_data"
    },
    {
     "data": {
      "text/html": [
       "<pre>| 262     | 4m 50s       | 0.894355          | 0.942251              | 1.03615e-05 |</pre>"
      ],
      "text/plain": [
       "| 262     | 4m 50s       | 0.894355          | 0.942251              | 1.03615e-05 |"
      ]
     },
     "metadata": {},
     "output_type": "display_data"
    },
    {
     "data": {
      "text/html": [
       "<pre>| 263     | 4m 51s       | 0.894348          | 0.942246              | 1.0322e-05  |</pre>"
      ],
      "text/plain": [
       "| 263     | 4m 51s       | 0.894348          | 0.942246              | 1.0322e-05  |"
      ]
     },
     "metadata": {},
     "output_type": "display_data"
    },
    {
     "data": {
      "text/html": [
       "<pre>| 264     | 4m 53s       | 0.894341          | 0.942241              | 1.02828e-05 |</pre>"
      ],
      "text/plain": [
       "| 264     | 4m 53s       | 0.894341          | 0.942241              | 1.02828e-05 |"
      ]
     },
     "metadata": {},
     "output_type": "display_data"
    },
    {
     "data": {
      "text/html": [
       "<pre>| 265     | 4m 54s       | 0.894334          | 0.942236              | 1.02439e-05 |</pre>"
      ],
      "text/plain": [
       "| 265     | 4m 54s       | 0.894334          | 0.942236              | 1.02439e-05 |"
      ]
     },
     "metadata": {},
     "output_type": "display_data"
    },
    {
     "data": {
      "text/html": [
       "<pre>| 266     | 4m 55s       | 0.894327          | 0.942231              | 1.02053e-05 |</pre>"
      ],
      "text/plain": [
       "| 266     | 4m 55s       | 0.894327          | 0.942231              | 1.02053e-05 |"
      ]
     },
     "metadata": {},
     "output_type": "display_data"
    },
    {
     "data": {
      "text/html": [
       "<pre>| 267     | 4m 55s       | 0.894319          | 0.942225              | 1.0167e-05  |</pre>"
      ],
      "text/plain": [
       "| 267     | 4m 55s       | 0.894319          | 0.942225              | 1.0167e-05  |"
      ]
     },
     "metadata": {},
     "output_type": "display_data"
    },
    {
     "data": {
      "text/html": [
       "<pre>| 268     | 4m 56s       | 0.894312          | 0.94222               | 1.0129e-05  |</pre>"
      ],
      "text/plain": [
       "| 268     | 4m 56s       | 0.894312          | 0.94222               | 1.0129e-05  |"
      ]
     },
     "metadata": {},
     "output_type": "display_data"
    },
    {
     "data": {
      "text/html": [
       "<pre>| 269     | 4m 57s       | 0.894305          | 0.942215              | 1.00913e-05 |</pre>"
      ],
      "text/plain": [
       "| 269     | 4m 57s       | 0.894305          | 0.942215              | 1.00913e-05 |"
      ]
     },
     "metadata": {},
     "output_type": "display_data"
    },
    {
     "data": {
      "text/html": [
       "<pre>| 270     | 4m 59s       | 0.894298          | 0.94221               | 1.00538e-05 |</pre>"
      ],
      "text/plain": [
       "| 270     | 4m 59s       | 0.894298          | 0.94221               | 1.00538e-05 |"
      ]
     },
     "metadata": {},
     "output_type": "display_data"
    },
    {
     "data": {
      "text/html": [
       "<pre>| 271     | 5m 0s        | 0.89429           | 0.942205              | 1.00167e-05 |</pre>"
      ],
      "text/plain": [
       "| 271     | 5m 0s        | 0.89429           | 0.942205              | 1.00167e-05 |"
      ]
     },
     "metadata": {},
     "output_type": "display_data"
    },
    {
     "data": {
      "text/html": [
       "<pre>| 272     | 5m 1s        | 0.894284          | 0.9422                | 9.97976e-06 |</pre>"
      ],
      "text/plain": [
       "| 272     | 5m 1s        | 0.894284          | 0.9422                | 9.97976e-06 |"
      ]
     },
     "metadata": {},
     "output_type": "display_data"
    },
    {
     "data": {
      "text/html": [
       "<pre>| 273     | 5m 2s        | 0.894277          | 0.942195              | 9.94312e-06 |</pre>"
      ],
      "text/plain": [
       "| 273     | 5m 2s        | 0.894277          | 0.942195              | 9.94312e-06 |"
      ]
     },
     "metadata": {},
     "output_type": "display_data"
    },
    {
     "data": {
      "text/html": [
       "<pre>| 274     | 5m 3s        | 0.89427           | 0.94219               | 9.90676e-06 |</pre>"
      ],
      "text/plain": [
       "| 274     | 5m 3s        | 0.89427           | 0.94219               | 9.90676e-06 |"
      ]
     },
     "metadata": {},
     "output_type": "display_data"
    },
    {
     "data": {
      "text/html": [
       "<pre>| 275     | 5m 4s        | 0.894263          | 0.942185              | 9.87066e-06 |</pre>"
      ],
      "text/plain": [
       "| 275     | 5m 4s        | 0.894263          | 0.942185              | 9.87066e-06 |"
      ]
     },
     "metadata": {},
     "output_type": "display_data"
    },
    {
     "data": {
      "text/html": [
       "<pre>| 276     | 5m 5s        | 0.894256          | 0.94218               | 9.83483e-06 |</pre>"
      ],
      "text/plain": [
       "| 276     | 5m 5s        | 0.894256          | 0.94218               | 9.83483e-06 |"
      ]
     },
     "metadata": {},
     "output_type": "display_data"
    },
    {
     "data": {
      "text/html": [
       "<pre>| 277     | 5m 6s        | 0.894249          | 0.942175              | 9.79925e-06 |</pre>"
      ],
      "text/plain": [
       "| 277     | 5m 6s        | 0.894249          | 0.942175              | 9.79925e-06 |"
      ]
     },
     "metadata": {},
     "output_type": "display_data"
    },
    {
     "data": {
      "text/html": [
       "<pre>| 278     | 5m 8s        | 0.894242          | 0.94217               | 9.76393e-06 |</pre>"
      ],
      "text/plain": [
       "| 278     | 5m 8s        | 0.894242          | 0.94217               | 9.76393e-06 |"
      ]
     },
     "metadata": {},
     "output_type": "display_data"
    },
    {
     "data": {
      "text/html": [
       "<pre>| 279     | 5m 9s        | 0.894235          | 0.942165              | 9.72886e-06 |</pre>"
      ],
      "text/plain": [
       "| 279     | 5m 9s        | 0.894235          | 0.942165              | 9.72886e-06 |"
      ]
     },
     "metadata": {},
     "output_type": "display_data"
    },
    {
     "data": {
      "text/html": [
       "<pre>| 280     | 5m 10s       | 0.894229          | 0.942161              | 9.69404e-06 |</pre>"
      ],
      "text/plain": [
       "| 280     | 5m 10s       | 0.894229          | 0.942161              | 9.69404e-06 |"
      ]
     },
     "metadata": {},
     "output_type": "display_data"
    },
    {
     "data": {
      "text/html": [
       "<pre>| 281     | 5m 11s       | 0.894222          | 0.942156              | 9.65948e-06 |</pre>"
      ],
      "text/plain": [
       "| 281     | 5m 11s       | 0.894222          | 0.942156              | 9.65948e-06 |"
      ]
     },
     "metadata": {},
     "output_type": "display_data"
    },
    {
     "data": {
      "text/html": [
       "<pre>| 282     | 5m 12s       | 0.894215          | 0.942151              | 9.62515e-06 |</pre>"
      ],
      "text/plain": [
       "| 282     | 5m 12s       | 0.894215          | 0.942151              | 9.62515e-06 |"
      ]
     },
     "metadata": {},
     "output_type": "display_data"
    },
    {
     "data": {
      "text/html": [
       "<pre>| 283     | 5m 13s       | 0.894209          | 0.942146              | 9.59107e-06 |</pre>"
      ],
      "text/plain": [
       "| 283     | 5m 13s       | 0.894209          | 0.942146              | 9.59107e-06 |"
      ]
     },
     "metadata": {},
     "output_type": "display_data"
    },
    {
     "data": {
      "text/html": [
       "<pre>| 284     | 5m 14s       | 0.894202          | 0.942142              | 9.55724e-06 |</pre>"
      ],
      "text/plain": [
       "| 284     | 5m 14s       | 0.894202          | 0.942142              | 9.55724e-06 |"
      ]
     },
     "metadata": {},
     "output_type": "display_data"
    },
    {
     "data": {
      "text/html": [
       "<pre>| 285     | 5m 15s       | 0.894195          | 0.942137              | 9.52363e-06 |</pre>"
      ],
      "text/plain": [
       "| 285     | 5m 15s       | 0.894195          | 0.942137              | 9.52363e-06 |"
      ]
     },
     "metadata": {},
     "output_type": "display_data"
    },
    {
     "data": {
      "text/html": [
       "<pre>| 286     | 5m 16s       | 0.894189          | 0.942132              | 9.49027e-06 |</pre>"
      ],
      "text/plain": [
       "| 286     | 5m 16s       | 0.894189          | 0.942132              | 9.49027e-06 |"
      ]
     },
     "metadata": {},
     "output_type": "display_data"
    },
    {
     "data": {
      "text/html": [
       "<pre>| 287     | 5m 17s       | 0.894182          | 0.942127              | 9.45714e-06 |</pre>"
      ],
      "text/plain": [
       "| 287     | 5m 17s       | 0.894182          | 0.942127              | 9.45714e-06 |"
      ]
     },
     "metadata": {},
     "output_type": "display_data"
    },
    {
     "data": {
      "text/html": [
       "<pre>| 288     | 5m 19s       | 0.894175          | 0.942122              | 9.42424e-06 |</pre>"
      ],
      "text/plain": [
       "| 288     | 5m 19s       | 0.894175          | 0.942122              | 9.42424e-06 |"
      ]
     },
     "metadata": {},
     "output_type": "display_data"
    },
    {
     "data": {
      "text/html": [
       "<pre>| 289     | 5m 20s       | 0.894169          | 0.942118              | 9.39156e-06 |</pre>"
      ],
      "text/plain": [
       "| 289     | 5m 20s       | 0.894169          | 0.942118              | 9.39156e-06 |"
      ]
     },
     "metadata": {},
     "output_type": "display_data"
    },
    {
     "data": {
      "text/html": [
       "<pre>| 290     | 5m 21s       | 0.894163          | 0.942113              | 9.35911e-06 |</pre>"
      ],
      "text/plain": [
       "| 290     | 5m 21s       | 0.894163          | 0.942113              | 9.35911e-06 |"
      ]
     },
     "metadata": {},
     "output_type": "display_data"
    },
    {
     "data": {
      "text/html": [
       "<pre>| 291     | 5m 22s       | 0.894156          | 0.942109              | 9.32689e-06 |</pre>"
      ],
      "text/plain": [
       "| 291     | 5m 22s       | 0.894156          | 0.942109              | 9.32689e-06 |"
      ]
     },
     "metadata": {},
     "output_type": "display_data"
    },
    {
     "data": {
      "text/html": [
       "<pre>| 292     | 5m 23s       | 0.89415           | 0.942104              | 9.29489e-06 |</pre>"
      ],
      "text/plain": [
       "| 292     | 5m 23s       | 0.89415           | 0.942104              | 9.29489e-06 |"
      ]
     },
     "metadata": {},
     "output_type": "display_data"
    },
    {
     "data": {
      "text/html": [
       "<pre>| 293     | 5m 24s       | 0.894143          | 0.9421                | 9.2631e-06  |</pre>"
      ],
      "text/plain": [
       "| 293     | 5m 24s       | 0.894143          | 0.9421                | 9.2631e-06  |"
      ]
     },
     "metadata": {},
     "output_type": "display_data"
    },
    {
     "data": {
      "text/html": [
       "<pre>| 294     | 5m 26s       | 0.894137          | 0.942095              | 9.23153e-06 |</pre>"
      ],
      "text/plain": [
       "| 294     | 5m 26s       | 0.894137          | 0.942095              | 9.23153e-06 |"
      ]
     },
     "metadata": {},
     "output_type": "display_data"
    },
    {
     "data": {
      "text/html": [
       "<pre>| 295     | 5m 27s       | 0.894131          | 0.942091              | 9.20018e-06 |</pre>"
      ],
      "text/plain": [
       "| 295     | 5m 27s       | 0.894131          | 0.942091              | 9.20018e-06 |"
      ]
     },
     "metadata": {},
     "output_type": "display_data"
    },
    {
     "data": {
      "text/html": [
       "<pre>| 296     | 5m 28s       | 0.894124          | 0.942086              | 9.16904e-06 |</pre>"
      ],
      "text/plain": [
       "| 296     | 5m 28s       | 0.894124          | 0.942086              | 9.16904e-06 |"
      ]
     },
     "metadata": {},
     "output_type": "display_data"
    },
    {
     "data": {
      "text/html": [
       "<pre>| 297     | 5m 29s       | 0.894118          | 0.942082              | 9.13811e-06 |</pre>"
      ],
      "text/plain": [
       "| 297     | 5m 29s       | 0.894118          | 0.942082              | 9.13811e-06 |"
      ]
     },
     "metadata": {},
     "output_type": "display_data"
    },
    {
     "data": {
      "text/html": [
       "<pre>| 298     | 5m 30s       | 0.894112          | 0.942077              | 9.10738e-06 |</pre>"
      ],
      "text/plain": [
       "| 298     | 5m 30s       | 0.894112          | 0.942077              | 9.10738e-06 |"
      ]
     },
     "metadata": {},
     "output_type": "display_data"
    },
    {
     "data": {
      "text/html": [
       "<pre>| 299     | 5m 31s       | 0.894105          | 0.942073              | 9.07687e-06 |</pre>"
      ],
      "text/plain": [
       "| 299     | 5m 31s       | 0.894105          | 0.942073              | 9.07687e-06 |"
      ]
     },
     "metadata": {},
     "output_type": "display_data"
    },
    {
     "data": {
      "text/html": [
       "<pre>| 300     | 5m 32s       | 0.894099          | 0.942068              | 9.04655e-06 |</pre>"
      ],
      "text/plain": [
       "| 300     | 5m 32s       | 0.894099          | 0.942068              | 9.04655e-06 |"
      ]
     },
     "metadata": {},
     "output_type": "display_data"
    },
    {
     "data": {
      "text/html": [
       "<pre>| 301     | 5m 33s       | 0.894093          | 0.942064              | 9.01644e-06 |</pre>"
      ],
      "text/plain": [
       "| 301     | 5m 33s       | 0.894093          | 0.942064              | 9.01644e-06 |"
      ]
     },
     "metadata": {},
     "output_type": "display_data"
    },
    {
     "data": {
      "text/html": [
       "<pre>| 302     | 5m 35s       | 0.894087          | 0.942059              | 8.98653e-06 |</pre>"
      ],
      "text/plain": [
       "| 302     | 5m 35s       | 0.894087          | 0.942059              | 8.98653e-06 |"
      ]
     },
     "metadata": {},
     "output_type": "display_data"
    },
    {
     "data": {
      "text/html": [
       "<pre>| 303     | 5m 36s       | 0.894081          | 0.942055              | 8.95682e-06 |</pre>"
      ],
      "text/plain": [
       "| 303     | 5m 36s       | 0.894081          | 0.942055              | 8.95682e-06 |"
      ]
     },
     "metadata": {},
     "output_type": "display_data"
    },
    {
     "data": {
      "text/html": [
       "<pre>| 304     | 5m 37s       | 0.894075          | 0.942051              | 8.9273e-06  |</pre>"
      ],
      "text/plain": [
       "| 304     | 5m 37s       | 0.894075          | 0.942051              | 8.9273e-06  |"
      ]
     },
     "metadata": {},
     "output_type": "display_data"
    },
    {
     "data": {
      "text/html": [
       "<pre>| 305     | 5m 38s       | 0.894069          | 0.942046              | 8.89797e-06 |</pre>"
      ],
      "text/plain": [
       "| 305     | 5m 38s       | 0.894069          | 0.942046              | 8.89797e-06 |"
      ]
     },
     "metadata": {},
     "output_type": "display_data"
    },
    {
     "data": {
      "text/html": [
       "<pre>| 306     | 5m 39s       | 0.894063          | 0.942042              | 8.86884e-06 |</pre>"
      ],
      "text/plain": [
       "| 306     | 5m 39s       | 0.894063          | 0.942042              | 8.86884e-06 |"
      ]
     },
     "metadata": {},
     "output_type": "display_data"
    },
    {
     "data": {
      "text/html": [
       "<pre>| 307     | 5m 40s       | 0.894057          | 0.942038              | 8.8399e-06  |</pre>"
      ],
      "text/plain": [
       "| 307     | 5m 40s       | 0.894057          | 0.942038              | 8.8399e-06  |"
      ]
     },
     "metadata": {},
     "output_type": "display_data"
    },
    {
     "data": {
      "text/html": [
       "<pre>| 308     | 5m 41s       | 0.894051          | 0.942034              | 8.81115e-06 |</pre>"
      ],
      "text/plain": [
       "| 308     | 5m 41s       | 0.894051          | 0.942034              | 8.81115e-06 |"
      ]
     },
     "metadata": {},
     "output_type": "display_data"
    },
    {
     "data": {
      "text/html": [
       "<pre>| 309     | 5m 42s       | 0.894045          | 0.942029              | 8.78258e-06 |</pre>"
      ],
      "text/plain": [
       "| 309     | 5m 42s       | 0.894045          | 0.942029              | 8.78258e-06 |"
      ]
     },
     "metadata": {},
     "output_type": "display_data"
    },
    {
     "data": {
      "text/html": [
       "<pre>| 310     | 5m 43s       | 0.894039          | 0.942025              | 8.7542e-06  |</pre>"
      ],
      "text/plain": [
       "| 310     | 5m 43s       | 0.894039          | 0.942025              | 8.7542e-06  |"
      ]
     },
     "metadata": {},
     "output_type": "display_data"
    },
    {
     "data": {
      "text/html": [
       "<pre>| 311     | 5m 44s       | 0.894033          | 0.942021              | 8.726e-06   |</pre>"
      ],
      "text/plain": [
       "| 311     | 5m 44s       | 0.894033          | 0.942021              | 8.726e-06   |"
      ]
     },
     "metadata": {},
     "output_type": "display_data"
    },
    {
     "data": {
      "text/html": [
       "<pre>| 312     | 5m 45s       | 0.894027          | 0.942016              | 8.69798e-06 |</pre>"
      ],
      "text/plain": [
       "| 312     | 5m 45s       | 0.894027          | 0.942016              | 8.69798e-06 |"
      ]
     },
     "metadata": {},
     "output_type": "display_data"
    },
    {
     "data": {
      "text/html": [
       "<pre>| 313     | 5m 47s       | 0.894022          | 0.942012              | 8.67014e-06 |</pre>"
      ],
      "text/plain": [
       "| 313     | 5m 47s       | 0.894022          | 0.942012              | 8.67014e-06 |"
      ]
     },
     "metadata": {},
     "output_type": "display_data"
    },
    {
     "data": {
      "text/html": [
       "<pre>| 314     | 5m 48s       | 0.894016          | 0.942008              | 8.64248e-06 |</pre>"
      ],
      "text/plain": [
       "| 314     | 5m 48s       | 0.894016          | 0.942008              | 8.64248e-06 |"
      ]
     },
     "metadata": {},
     "output_type": "display_data"
    },
    {
     "data": {
      "text/html": [
       "<pre>| 315     | 5m 49s       | 0.89401           | 0.942004              | 8.61499e-06 |</pre>"
      ],
      "text/plain": [
       "| 315     | 5m 49s       | 0.89401           | 0.942004              | 8.61499e-06 |"
      ]
     },
     "metadata": {},
     "output_type": "display_data"
    },
    {
     "data": {
      "text/html": [
       "<pre>| 316     | 5m 50s       | 0.894004          | 0.942                 | 8.58768e-06 |</pre>"
      ],
      "text/plain": [
       "| 316     | 5m 50s       | 0.894004          | 0.942                 | 8.58768e-06 |"
      ]
     },
     "metadata": {},
     "output_type": "display_data"
    },
    {
     "data": {
      "text/html": [
       "<pre>| 317     | 5m 51s       | 0.893998          | 0.941996              | 8.56054e-06 |</pre>"
      ],
      "text/plain": [
       "| 317     | 5m 51s       | 0.893998          | 0.941996              | 8.56054e-06 |"
      ]
     },
     "metadata": {},
     "output_type": "display_data"
    },
    {
     "data": {
      "text/html": [
       "<pre>| 318     | 5m 52s       | 0.893992          | 0.941991              | 8.53357e-06 |</pre>"
      ],
      "text/plain": [
       "| 318     | 5m 52s       | 0.893992          | 0.941991              | 8.53357e-06 |"
      ]
     },
     "metadata": {},
     "output_type": "display_data"
    },
    {
     "data": {
      "text/html": [
       "<pre>| 319     | 5m 53s       | 0.893987          | 0.941987              | 8.50677e-06 |</pre>"
      ],
      "text/plain": [
       "| 319     | 5m 53s       | 0.893987          | 0.941987              | 8.50677e-06 |"
      ]
     },
     "metadata": {},
     "output_type": "display_data"
    },
    {
     "data": {
      "text/html": [
       "<pre>| 320     | 5m 54s       | 0.893981          | 0.941983              | 8.48014e-06 |</pre>"
      ],
      "text/plain": [
       "| 320     | 5m 54s       | 0.893981          | 0.941983              | 8.48014e-06 |"
      ]
     },
     "metadata": {},
     "output_type": "display_data"
    },
    {
     "data": {
      "text/html": [
       "<pre>| 321     | 5m 55s       | 0.893975          | 0.941979              | 8.45368e-06 |</pre>"
      ],
      "text/plain": [
       "| 321     | 5m 55s       | 0.893975          | 0.941979              | 8.45368e-06 |"
      ]
     },
     "metadata": {},
     "output_type": "display_data"
    },
    {
     "data": {
      "text/html": [
       "<pre>| 322     | 5m 56s       | 0.89397           | 0.941975              | 8.42738e-06 |</pre>"
      ],
      "text/plain": [
       "| 322     | 5m 56s       | 0.89397           | 0.941975              | 8.42738e-06 |"
      ]
     },
     "metadata": {},
     "output_type": "display_data"
    },
    {
     "data": {
      "text/html": [
       "<pre>| 323     | 5m 57s       | 0.893964          | 0.941971              | 8.40124e-06 |</pre>"
      ],
      "text/plain": [
       "| 323     | 5m 57s       | 0.893964          | 0.941971              | 8.40124e-06 |"
      ]
     },
     "metadata": {},
     "output_type": "display_data"
    },
    {
     "data": {
      "text/html": [
       "<pre>| 324     | 5m 58s       | 0.893959          | 0.941967              | 8.37527e-06 |</pre>"
      ],
      "text/plain": [
       "| 324     | 5m 58s       | 0.893959          | 0.941967              | 8.37527e-06 |"
      ]
     },
     "metadata": {},
     "output_type": "display_data"
    },
    {
     "data": {
      "text/html": [
       "<pre>| 325     | 5m 59s       | 0.893953          | 0.941963              | 8.34945e-06 |</pre>"
      ],
      "text/plain": [
       "| 325     | 5m 59s       | 0.893953          | 0.941963              | 8.34945e-06 |"
      ]
     },
     "metadata": {},
     "output_type": "display_data"
    },
    {
     "data": {
      "text/html": [
       "<pre>| 326     | 6m 0s        | 0.893948          | 0.941959              | 8.3238e-06  |</pre>"
      ],
      "text/plain": [
       "| 326     | 6m 0s        | 0.893948          | 0.941959              | 8.3238e-06  |"
      ]
     },
     "metadata": {},
     "output_type": "display_data"
    },
    {
     "data": {
      "text/html": [
       "<pre>| 327     | 6m 1s        | 0.893942          | 0.941955              | 8.2983e-06  |</pre>"
      ],
      "text/plain": [
       "| 327     | 6m 1s        | 0.893942          | 0.941955              | 8.2983e-06  |"
      ]
     },
     "metadata": {},
     "output_type": "display_data"
    },
    {
     "data": {
      "text/html": [
       "<pre>| 328     | 6m 2s        | 0.893936          | 0.941951              | 8.27295e-06 |</pre>"
      ],
      "text/plain": [
       "| 328     | 6m 2s        | 0.893936          | 0.941951              | 8.27295e-06 |"
      ]
     },
     "metadata": {},
     "output_type": "display_data"
    },
    {
     "data": {
      "text/html": [
       "<pre>| 329     | 6m 3s        | 0.893931          | 0.941947              | 8.24777e-06 |</pre>"
      ],
      "text/plain": [
       "| 329     | 6m 3s        | 0.893931          | 0.941947              | 8.24777e-06 |"
      ]
     },
     "metadata": {},
     "output_type": "display_data"
    },
    {
     "data": {
      "text/html": [
       "<pre>| 330     | 6m 5s        | 0.893926          | 0.941943              | 8.22273e-06 |</pre>"
      ],
      "text/plain": [
       "| 330     | 6m 5s        | 0.893926          | 0.941943              | 8.22273e-06 |"
      ]
     },
     "metadata": {},
     "output_type": "display_data"
    },
    {
     "data": {
      "text/html": [
       "<pre>| 331     | 6m 6s        | 0.89392           | 0.941939              | 8.19784e-06 |</pre>"
      ],
      "text/plain": [
       "| 331     | 6m 6s        | 0.89392           | 0.941939              | 8.19784e-06 |"
      ]
     },
     "metadata": {},
     "output_type": "display_data"
    },
    {
     "data": {
      "text/html": [
       "<pre>| 332     | 6m 7s        | 0.893915          | 0.941935              | 8.17311e-06 |</pre>"
      ],
      "text/plain": [
       "| 332     | 6m 7s        | 0.893915          | 0.941935              | 8.17311e-06 |"
      ]
     },
     "metadata": {},
     "output_type": "display_data"
    },
    {
     "data": {
      "text/html": [
       "<pre>| 333     | 6m 8s        | 0.893909          | 0.941931              | 8.14852e-06 |</pre>"
      ],
      "text/plain": [
       "| 333     | 6m 8s        | 0.893909          | 0.941931              | 8.14852e-06 |"
      ]
     },
     "metadata": {},
     "output_type": "display_data"
    },
    {
     "data": {
      "text/html": [
       "<pre>| 334     | 6m 9s        | 0.893904          | 0.941928              | 8.12409e-06 |</pre>"
      ],
      "text/plain": [
       "| 334     | 6m 9s        | 0.893904          | 0.941928              | 8.12409e-06 |"
      ]
     },
     "metadata": {},
     "output_type": "display_data"
    },
    {
     "data": {
      "text/html": [
       "<pre>| 335     | 6m 10s       | 0.893899          | 0.941924              | 8.09979e-06 |</pre>"
      ],
      "text/plain": [
       "| 335     | 6m 10s       | 0.893899          | 0.941924              | 8.09979e-06 |"
      ]
     },
     "metadata": {},
     "output_type": "display_data"
    },
    {
     "data": {
      "text/html": [
       "<pre>| 336     | 6m 12s       | 0.893893          | 0.94192               | 8.07565e-06 |</pre>"
      ],
      "text/plain": [
       "| 336     | 6m 12s       | 0.893893          | 0.94192               | 8.07565e-06 |"
      ]
     },
     "metadata": {},
     "output_type": "display_data"
    },
    {
     "data": {
      "text/html": [
       "<pre>| 337     | 6m 13s       | 0.893888          | 0.941916              | 8.05164e-06 |</pre>"
      ],
      "text/plain": [
       "| 337     | 6m 13s       | 0.893888          | 0.941916              | 8.05164e-06 |"
      ]
     },
     "metadata": {},
     "output_type": "display_data"
    },
    {
     "data": {
      "text/html": [
       "<pre>| 338     | 6m 14s       | 0.893883          | 0.941912              | 8.02778e-06 |</pre>"
      ],
      "text/plain": [
       "| 338     | 6m 14s       | 0.893883          | 0.941912              | 8.02778e-06 |"
      ]
     },
     "metadata": {},
     "output_type": "display_data"
    },
    {
     "data": {
      "text/html": [
       "<pre>| 339     | 6m 15s       | 0.893877          | 0.941908              | 8.00406e-06 |</pre>"
      ],
      "text/plain": [
       "| 339     | 6m 15s       | 0.893877          | 0.941908              | 8.00406e-06 |"
      ]
     },
     "metadata": {},
     "output_type": "display_data"
    },
    {
     "data": {
      "text/html": [
       "<pre>| 340     | 6m 16s       | 0.893872          | 0.941905              | 7.98048e-06 |</pre>"
      ],
      "text/plain": [
       "| 340     | 6m 16s       | 0.893872          | 0.941905              | 7.98048e-06 |"
      ]
     },
     "metadata": {},
     "output_type": "display_data"
    },
    {
     "data": {
      "text/html": [
       "<pre>| 341     | 6m 17s       | 0.893867          | 0.941901              | 7.95704e-06 |</pre>"
      ],
      "text/plain": [
       "| 341     | 6m 17s       | 0.893867          | 0.941901              | 7.95704e-06 |"
      ]
     },
     "metadata": {},
     "output_type": "display_data"
    },
    {
     "data": {
      "text/html": [
       "<pre>| 342     | 6m 18s       | 0.893862          | 0.941897              | 7.93373e-06 |</pre>"
      ],
      "text/plain": [
       "| 342     | 6m 18s       | 0.893862          | 0.941897              | 7.93373e-06 |"
      ]
     },
     "metadata": {},
     "output_type": "display_data"
    },
    {
     "data": {
      "text/html": [
       "<pre>| 343     | 6m 19s       | 0.893856          | 0.941893              | 7.91057e-06 |</pre>"
      ],
      "text/plain": [
       "| 343     | 6m 19s       | 0.893856          | 0.941893              | 7.91057e-06 |"
      ]
     },
     "metadata": {},
     "output_type": "display_data"
    },
    {
     "data": {
      "text/html": [
       "<pre>| 344     | 6m 20s       | 0.893851          | 0.94189               | 7.88753e-06 |</pre>"
      ],
      "text/plain": [
       "| 344     | 6m 20s       | 0.893851          | 0.94189               | 7.88753e-06 |"
      ]
     },
     "metadata": {},
     "output_type": "display_data"
    },
    {
     "data": {
      "text/html": [
       "<pre>| 345     | 6m 21s       | 0.893846          | 0.941886              | 7.86463e-06 |</pre>"
      ],
      "text/plain": [
       "| 345     | 6m 21s       | 0.893846          | 0.941886              | 7.86463e-06 |"
      ]
     },
     "metadata": {},
     "output_type": "display_data"
    },
    {
     "data": {
      "text/html": [
       "<pre>| 346     | 6m 22s       | 0.893841          | 0.941882              | 7.84187e-06 |</pre>"
      ],
      "text/plain": [
       "| 346     | 6m 22s       | 0.893841          | 0.941882              | 7.84187e-06 |"
      ]
     },
     "metadata": {},
     "output_type": "display_data"
    },
    {
     "data": {
      "text/html": [
       "<pre>| 347     | 6m 23s       | 0.893836          | 0.941879              | 7.81923e-06 |</pre>"
      ],
      "text/plain": [
       "| 347     | 6m 23s       | 0.893836          | 0.941879              | 7.81923e-06 |"
      ]
     },
     "metadata": {},
     "output_type": "display_data"
    },
    {
     "data": {
      "text/html": [
       "<pre>| 348     | 6m 25s       | 0.893831          | 0.941875              | 7.79672e-06 |</pre>"
      ],
      "text/plain": [
       "| 348     | 6m 25s       | 0.893831          | 0.941875              | 7.79672e-06 |"
      ]
     },
     "metadata": {},
     "output_type": "display_data"
    },
    {
     "data": {
      "text/html": [
       "<pre>| 349     | 6m 26s       | 0.893826          | 0.941871              | 7.77435e-06 |</pre>"
      ],
      "text/plain": [
       "| 349     | 6m 26s       | 0.893826          | 0.941871              | 7.77435e-06 |"
      ]
     },
     "metadata": {},
     "output_type": "display_data"
    },
    {
     "data": {
      "text/html": [
       "<pre>| 350     | 6m 27s       | 0.893821          | 0.941868              | 7.7521e-06  |</pre>"
      ],
      "text/plain": [
       "| 350     | 6m 27s       | 0.893821          | 0.941868              | 7.7521e-06  |"
      ]
     },
     "metadata": {},
     "output_type": "display_data"
    },
    {
     "data": {
      "text/html": [
       "<pre>| 351     | 6m 28s       | 0.893816          | 0.941864              | 7.72998e-06 |</pre>"
      ],
      "text/plain": [
       "| 351     | 6m 28s       | 0.893816          | 0.941864              | 7.72998e-06 |"
      ]
     },
     "metadata": {},
     "output_type": "display_data"
    },
    {
     "data": {
      "text/html": [
       "<pre>| 352     | 6m 29s       | 0.893811          | 0.94186               | 7.70798e-06 |</pre>"
      ],
      "text/plain": [
       "| 352     | 6m 29s       | 0.893811          | 0.94186               | 7.70798e-06 |"
      ]
     },
     "metadata": {},
     "output_type": "display_data"
    },
    {
     "data": {
      "text/html": [
       "<pre>| 353     | 6m 30s       | 0.893806          | 0.941857              | 7.68611e-06 |</pre>"
      ],
      "text/plain": [
       "| 353     | 6m 30s       | 0.893806          | 0.941857              | 7.68611e-06 |"
      ]
     },
     "metadata": {},
     "output_type": "display_data"
    },
    {
     "data": {
      "text/html": [
       "<pre>| 354     | 6m 31s       | 0.893801          | 0.941853              | 7.66436e-06 |</pre>"
      ],
      "text/plain": [
       "| 354     | 6m 31s       | 0.893801          | 0.941853              | 7.66436e-06 |"
      ]
     },
     "metadata": {},
     "output_type": "display_data"
    },
    {
     "data": {
      "text/html": [
       "<pre>| 355     | 6m 32s       | 0.893796          | 0.941849              | 7.64274e-06 |</pre>"
      ],
      "text/plain": [
       "| 355     | 6m 32s       | 0.893796          | 0.941849              | 7.64274e-06 |"
      ]
     },
     "metadata": {},
     "output_type": "display_data"
    },
    {
     "data": {
      "text/html": [
       "<pre>| 356     | 6m 33s       | 0.893791          | 0.941846              | 7.62124e-06 |</pre>"
      ],
      "text/plain": [
       "| 356     | 6m 33s       | 0.893791          | 0.941846              | 7.62124e-06 |"
      ]
     },
     "metadata": {},
     "output_type": "display_data"
    },
    {
     "data": {
      "text/html": [
       "<pre>| 357     | 6m 34s       | 0.893786          | 0.941842              | 7.59986e-06 |</pre>"
      ],
      "text/plain": [
       "| 357     | 6m 34s       | 0.893786          | 0.941842              | 7.59986e-06 |"
      ]
     },
     "metadata": {},
     "output_type": "display_data"
    },
    {
     "data": {
      "text/html": [
       "<pre>| 358     | 6m 35s       | 0.893781          | 0.941839              | 7.57859e-06 |</pre>"
      ],
      "text/plain": [
       "| 358     | 6m 35s       | 0.893781          | 0.941839              | 7.57859e-06 |"
      ]
     },
     "metadata": {},
     "output_type": "display_data"
    },
    {
     "data": {
      "text/html": [
       "<pre>| 359     | 6m 36s       | 0.893776          | 0.941835              | 7.55745e-06 |</pre>"
      ],
      "text/plain": [
       "| 359     | 6m 36s       | 0.893776          | 0.941835              | 7.55745e-06 |"
      ]
     },
     "metadata": {},
     "output_type": "display_data"
    },
    {
     "data": {
      "text/html": [
       "<pre>| 360     | 6m 38s       | 0.893771          | 0.941832              | 7.53642e-06 |</pre>"
      ],
      "text/plain": [
       "| 360     | 6m 38s       | 0.893771          | 0.941832              | 7.53642e-06 |"
      ]
     },
     "metadata": {},
     "output_type": "display_data"
    },
    {
     "data": {
      "text/html": [
       "<pre>| 361     | 6m 39s       | 0.893766          | 0.941828              | 7.51551e-06 |</pre>"
      ],
      "text/plain": [
       "| 361     | 6m 39s       | 0.893766          | 0.941828              | 7.51551e-06 |"
      ]
     },
     "metadata": {},
     "output_type": "display_data"
    },
    {
     "data": {
      "text/html": [
       "<pre>| 362     | 6m 40s       | 0.893761          | 0.941825              | 7.49472e-06 |</pre>"
      ],
      "text/plain": [
       "| 362     | 6m 40s       | 0.893761          | 0.941825              | 7.49472e-06 |"
      ]
     },
     "metadata": {},
     "output_type": "display_data"
    },
    {
     "data": {
      "text/html": [
       "<pre>| 363     | 6m 41s       | 0.893757          | 0.941821              | 7.47404e-06 |</pre>"
      ],
      "text/plain": [
       "| 363     | 6m 41s       | 0.893757          | 0.941821              | 7.47404e-06 |"
      ]
     },
     "metadata": {},
     "output_type": "display_data"
    },
    {
     "data": {
      "text/html": [
       "<pre>| 364     | 6m 42s       | 0.893752          | 0.941818              | 7.45348e-06 |</pre>"
      ],
      "text/plain": [
       "| 364     | 6m 42s       | 0.893752          | 0.941818              | 7.45348e-06 |"
      ]
     },
     "metadata": {},
     "output_type": "display_data"
    },
    {
     "data": {
      "text/html": [
       "<pre>| 365     | 6m 43s       | 0.893747          | 0.941814              | 7.43303e-06 |</pre>"
      ],
      "text/plain": [
       "| 365     | 6m 43s       | 0.893747          | 0.941814              | 7.43303e-06 |"
      ]
     },
     "metadata": {},
     "output_type": "display_data"
    },
    {
     "data": {
      "text/html": [
       "<pre>| 366     | 6m 45s       | 0.893742          | 0.941811              | 7.41269e-06 |</pre>"
      ],
      "text/plain": [
       "| 366     | 6m 45s       | 0.893742          | 0.941811              | 7.41269e-06 |"
      ]
     },
     "metadata": {},
     "output_type": "display_data"
    },
    {
     "data": {
      "text/html": [
       "<pre>| 367     | 6m 46s       | 0.893738          | 0.941807              | 7.39246e-06 |</pre>"
      ],
      "text/plain": [
       "| 367     | 6m 46s       | 0.893738          | 0.941807              | 7.39246e-06 |"
      ]
     },
     "metadata": {},
     "output_type": "display_data"
    },
    {
     "data": {
      "text/html": [
       "<pre>| 368     | 6m 47s       | 0.893733          | 0.941804              | 7.37234e-06 |</pre>"
      ],
      "text/plain": [
       "| 368     | 6m 47s       | 0.893733          | 0.941804              | 7.37234e-06 |"
      ]
     },
     "metadata": {},
     "output_type": "display_data"
    },
    {
     "data": {
      "text/html": [
       "<pre>| 369     | 6m 48s       | 0.893728          | 0.9418                | 7.35233e-06 |</pre>"
      ],
      "text/plain": [
       "| 369     | 6m 48s       | 0.893728          | 0.9418                | 7.35233e-06 |"
      ]
     },
     "metadata": {},
     "output_type": "display_data"
    },
    {
     "data": {
      "text/html": [
       "<pre>| 370     | 6m 49s       | 0.893724          | 0.941797              | 7.33243e-06 |</pre>"
      ],
      "text/plain": [
       "| 370     | 6m 49s       | 0.893724          | 0.941797              | 7.33243e-06 |"
      ]
     },
     "metadata": {},
     "output_type": "display_data"
    },
    {
     "data": {
      "text/html": [
       "<pre>| 371     | 6m 50s       | 0.893719          | 0.941794              | 7.31263e-06 |</pre>"
      ],
      "text/plain": [
       "| 371     | 6m 50s       | 0.893719          | 0.941794              | 7.31263e-06 |"
      ]
     },
     "metadata": {},
     "output_type": "display_data"
    },
    {
     "data": {
      "text/html": [
       "<pre>| 372     | 6m 51s       | 0.893714          | 0.94179               | 7.29294e-06 |</pre>"
      ],
      "text/plain": [
       "| 372     | 6m 51s       | 0.893714          | 0.94179               | 7.29294e-06 |"
      ]
     },
     "metadata": {},
     "output_type": "display_data"
    },
    {
     "data": {
      "text/html": [
       "<pre>| 373     | 6m 53s       | 0.89371           | 0.941787              | 7.27336e-06 |</pre>"
      ],
      "text/plain": [
       "| 373     | 6m 53s       | 0.89371           | 0.941787              | 7.27336e-06 |"
      ]
     },
     "metadata": {},
     "output_type": "display_data"
    },
    {
     "data": {
      "text/html": [
       "<pre>| 374     | 6m 54s       | 0.893705          | 0.941784              | 7.25388e-06 |</pre>"
      ],
      "text/plain": [
       "| 374     | 6m 54s       | 0.893705          | 0.941784              | 7.25388e-06 |"
      ]
     },
     "metadata": {},
     "output_type": "display_data"
    },
    {
     "data": {
      "text/html": [
       "<pre>| 375     | 6m 55s       | 0.8937            | 0.94178               | 7.23451e-06 |</pre>"
      ],
      "text/plain": [
       "| 375     | 6m 55s       | 0.8937            | 0.94178               | 7.23451e-06 |"
      ]
     },
     "metadata": {},
     "output_type": "display_data"
    },
    {
     "data": {
      "text/html": [
       "<pre>| 376     | 6m 56s       | 0.893696          | 0.941777              | 7.21524e-06 |</pre>"
      ],
      "text/plain": [
       "| 376     | 6m 56s       | 0.893696          | 0.941777              | 7.21524e-06 |"
      ]
     },
     "metadata": {},
     "output_type": "display_data"
    },
    {
     "data": {
      "text/html": [
       "<pre>| 377     | 6m 57s       | 0.893691          | 0.941774              | 7.19607e-06 |</pre>"
      ],
      "text/plain": [
       "| 377     | 6m 57s       | 0.893691          | 0.941774              | 7.19607e-06 |"
      ]
     },
     "metadata": {},
     "output_type": "display_data"
    },
    {
     "data": {
      "text/html": [
       "<pre>| 378     | 6m 58s       | 0.893687          | 0.94177               | 7.17701e-06 |</pre>"
      ],
      "text/plain": [
       "| 378     | 6m 58s       | 0.893687          | 0.94177               | 7.17701e-06 |"
      ]
     },
     "metadata": {},
     "output_type": "display_data"
    },
    {
     "data": {
      "text/html": [
       "<pre>| 379     | 6m 59s       | 0.893682          | 0.941767              | 7.15804e-06 |</pre>"
      ],
      "text/plain": [
       "| 379     | 6m 59s       | 0.893682          | 0.941767              | 7.15804e-06 |"
      ]
     },
     "metadata": {},
     "output_type": "display_data"
    },
    {
     "data": {
      "text/html": [
       "<pre>| 380     | 7m 0s        | 0.893678          | 0.941764              | 7.13918e-06 |</pre>"
      ],
      "text/plain": [
       "| 380     | 7m 0s        | 0.893678          | 0.941764              | 7.13918e-06 |"
      ]
     },
     "metadata": {},
     "output_type": "display_data"
    },
    {
     "data": {
      "text/html": [
       "<pre>| 381     | 7m 1s        | 0.893672          | 0.94176               | 7.12041e-06 |</pre>"
      ],
      "text/plain": [
       "| 381     | 7m 1s        | 0.893672          | 0.94176               | 7.12041e-06 |"
      ]
     },
     "metadata": {},
     "output_type": "display_data"
    },
    {
     "data": {
      "text/html": [
       "<pre>| 382     | 7m 3s        | 0.893669          | 0.941757              | 7.10175e-06 |</pre>"
      ],
      "text/plain": [
       "| 382     | 7m 3s        | 0.893669          | 0.941757              | 7.10175e-06 |"
      ]
     },
     "metadata": {},
     "output_type": "display_data"
    },
    {
     "data": {
      "text/html": [
       "<pre>| 383     | 7m 4s        | 0.893664          | 0.941754              | 7.08318e-06 |</pre>"
      ],
      "text/plain": [
       "| 383     | 7m 4s        | 0.893664          | 0.941754              | 7.08318e-06 |"
      ]
     },
     "metadata": {},
     "output_type": "display_data"
    },
    {
     "data": {
      "text/html": [
       "<pre>| 384     | 7m 5s        | 0.89366           | 0.941751              | 7.0647e-06  |</pre>"
      ],
      "text/plain": [
       "| 384     | 7m 5s        | 0.89366           | 0.941751              | 7.0647e-06  |"
      ]
     },
     "metadata": {},
     "output_type": "display_data"
    },
    {
     "data": {
      "text/html": [
       "<pre>| 385     | 7m 6s        | 0.893655          | 0.941747              | 7.04633e-06 |</pre>"
      ],
      "text/plain": [
       "| 385     | 7m 6s        | 0.893655          | 0.941747              | 7.04633e-06 |"
      ]
     },
     "metadata": {},
     "output_type": "display_data"
    },
    {
     "data": {
      "text/html": [
       "<pre>| 386     | 7m 7s        | 0.893651          | 0.941744              | 7.02804e-06 |</pre>"
      ],
      "text/plain": [
       "| 386     | 7m 7s        | 0.893651          | 0.941744              | 7.02804e-06 |"
      ]
     },
     "metadata": {},
     "output_type": "display_data"
    },
    {
     "data": {
      "text/html": [
       "<pre>| 387     | 7m 8s        | 0.893646          | 0.941741              | 7.00986e-06 |</pre>"
      ],
      "text/plain": [
       "| 387     | 7m 8s        | 0.893646          | 0.941741              | 7.00986e-06 |"
      ]
     },
     "metadata": {},
     "output_type": "display_data"
    },
    {
     "data": {
      "text/html": [
       "<pre>| 388     | 7m 9s        | 0.893642          | 0.941738              | 6.99176e-06 |</pre>"
      ],
      "text/plain": [
       "| 388     | 7m 9s        | 0.893642          | 0.941738              | 6.99176e-06 |"
      ]
     },
     "metadata": {},
     "output_type": "display_data"
    },
    {
     "data": {
      "text/html": [
       "<pre>| 389     | 7m 10s       | 0.893637          | 0.941734              | 6.97377e-06 |</pre>"
      ],
      "text/plain": [
       "| 389     | 7m 10s       | 0.893637          | 0.941734              | 6.97377e-06 |"
      ]
     },
     "metadata": {},
     "output_type": "display_data"
    },
    {
     "data": {
      "text/html": [
       "<pre>| 390     | 7m 12s       | 0.893633          | 0.941731              | 6.95586e-06 |</pre>"
      ],
      "text/plain": [
       "| 390     | 7m 12s       | 0.893633          | 0.941731              | 6.95586e-06 |"
      ]
     },
     "metadata": {},
     "output_type": "display_data"
    },
    {
     "data": {
      "text/html": [
       "<pre>| 391     | 7m 13s       | 0.893629          | 0.941728              | 6.93804e-06 |</pre>"
      ],
      "text/plain": [
       "| 391     | 7m 13s       | 0.893629          | 0.941728              | 6.93804e-06 |"
      ]
     },
     "metadata": {},
     "output_type": "display_data"
    },
    {
     "data": {
      "text/html": [
       "<pre>| 392     | 7m 14s       | 0.893624          | 0.941725              | 6.92032e-06 |</pre>"
      ],
      "text/plain": [
       "| 392     | 7m 14s       | 0.893624          | 0.941725              | 6.92032e-06 |"
      ]
     },
     "metadata": {},
     "output_type": "display_data"
    },
    {
     "data": {
      "text/html": [
       "<pre>| 393     | 7m 15s       | 0.89362           | 0.941722              | 6.90268e-06 |</pre>"
      ],
      "text/plain": [
       "| 393     | 7m 15s       | 0.89362           | 0.941722              | 6.90268e-06 |"
      ]
     },
     "metadata": {},
     "output_type": "display_data"
    },
    {
     "data": {
      "text/html": [
       "<pre>| 394     | 7m 16s       | 0.893616          | 0.941719              | 6.88514e-06 |</pre>"
      ],
      "text/plain": [
       "| 394     | 7m 16s       | 0.893616          | 0.941719              | 6.88514e-06 |"
      ]
     },
     "metadata": {},
     "output_type": "display_data"
    },
    {
     "data": {
      "text/html": [
       "<pre>| 395     | 7m 17s       | 0.893611          | 0.941715              | 6.86768e-06 |</pre>"
      ],
      "text/plain": [
       "| 395     | 7m 17s       | 0.893611          | 0.941715              | 6.86768e-06 |"
      ]
     },
     "metadata": {},
     "output_type": "display_data"
    },
    {
     "data": {
      "text/html": [
       "<pre>| 396     | 7m 18s       | 0.893607          | 0.941712              | 6.85032e-06 |</pre>"
      ],
      "text/plain": [
       "| 396     | 7m 18s       | 0.893607          | 0.941712              | 6.85032e-06 |"
      ]
     },
     "metadata": {},
     "output_type": "display_data"
    },
    {
     "data": {
      "text/html": [
       "<pre>| 397     | 7m 20s       | 0.893603          | 0.941709              | 6.83304e-06 |</pre>"
      ],
      "text/plain": [
       "| 397     | 7m 20s       | 0.893603          | 0.941709              | 6.83304e-06 |"
      ]
     },
     "metadata": {},
     "output_type": "display_data"
    },
    {
     "data": {
      "text/html": [
       "<pre>| 398     | 7m 21s       | 0.893598          | 0.941706              | 6.81584e-06 |</pre>"
      ],
      "text/plain": [
       "| 398     | 7m 21s       | 0.893598          | 0.941706              | 6.81584e-06 |"
      ]
     },
     "metadata": {},
     "output_type": "display_data"
    },
    {
     "data": {
      "text/html": [
       "<pre>| 399     | 7m 22s       | 0.893594          | 0.941703              | 6.79874e-06 |</pre>"
      ],
      "text/plain": [
       "| 399     | 7m 22s       | 0.893594          | 0.941703              | 6.79874e-06 |"
      ]
     },
     "metadata": {},
     "output_type": "display_data"
    },
    {
     "data": {
      "text/html": [
       "<pre>| 400     | 7m 23s       | 0.89359           | 0.9417                | 6.78172e-06 |</pre>"
      ],
      "text/plain": [
       "| 400     | 7m 23s       | 0.89359           | 0.9417                | 6.78172e-06 |"
      ]
     },
     "metadata": {},
     "output_type": "display_data"
    },
    {
     "data": {
      "text/html": [
       "<pre>| 401     | 7m 24s       | 0.893586          | 0.941697              | 6.76478e-06 |</pre>"
      ],
      "text/plain": [
       "| 401     | 7m 24s       | 0.893586          | 0.941697              | 6.76478e-06 |"
      ]
     },
     "metadata": {},
     "output_type": "display_data"
    },
    {
     "data": {
      "text/html": [
       "<pre>| 402     | 7m 25s       | 0.893582          | 0.941694              | 6.74793e-06 |</pre>"
      ],
      "text/plain": [
       "| 402     | 7m 25s       | 0.893582          | 0.941694              | 6.74793e-06 |"
      ]
     },
     "metadata": {},
     "output_type": "display_data"
    },
    {
     "data": {
      "text/html": [
       "<pre>| 403     | 7m 26s       | 0.893578          | 0.941691              | 6.73116e-06 |</pre>"
      ],
      "text/plain": [
       "| 403     | 7m 26s       | 0.893578          | 0.941691              | 6.73116e-06 |"
      ]
     },
     "metadata": {},
     "output_type": "display_data"
    },
    {
     "data": {
      "text/html": [
       "<pre>| 404     | 7m 27s       | 0.893573          | 0.941688              | 6.71448e-06 |</pre>"
      ],
      "text/plain": [
       "| 404     | 7m 27s       | 0.893573          | 0.941688              | 6.71448e-06 |"
      ]
     },
     "metadata": {},
     "output_type": "display_data"
    },
    {
     "data": {
      "text/html": [
       "<pre>| 405     | 7m 29s       | 0.893569          | 0.941685              | 6.69787e-06 |</pre>"
      ],
      "text/plain": [
       "| 405     | 7m 29s       | 0.893569          | 0.941685              | 6.69787e-06 |"
      ]
     },
     "metadata": {},
     "output_type": "display_data"
    },
    {
     "data": {
      "text/html": [
       "<pre>| 406     | 7m 30s       | 0.893565          | 0.941681              | 6.68135e-06 |</pre>"
      ],
      "text/plain": [
       "| 406     | 7m 30s       | 0.893565          | 0.941681              | 6.68135e-06 |"
      ]
     },
     "metadata": {},
     "output_type": "display_data"
    },
    {
     "data": {
      "text/html": [
       "<pre>| 407     | 7m 31s       | 0.893561          | 0.941678              | 6.66491e-06 |</pre>"
      ],
      "text/plain": [
       "| 407     | 7m 31s       | 0.893561          | 0.941678              | 6.66491e-06 |"
      ]
     },
     "metadata": {},
     "output_type": "display_data"
    },
    {
     "data": {
      "text/html": [
       "<pre>| 408     | 7m 32s       | 0.893557          | 0.941675              | 6.64856e-06 |</pre>"
      ],
      "text/plain": [
       "| 408     | 7m 32s       | 0.893557          | 0.941675              | 6.64856e-06 |"
      ]
     },
     "metadata": {},
     "output_type": "display_data"
    },
    {
     "data": {
      "text/html": [
       "<pre>| 409     | 7m 33s       | 0.893552          | 0.941672              | 6.63228e-06 |</pre>"
      ],
      "text/plain": [
       "| 409     | 7m 33s       | 0.893552          | 0.941672              | 6.63228e-06 |"
      ]
     },
     "metadata": {},
     "output_type": "display_data"
    },
    {
     "data": {
      "text/html": [
       "<pre>| 410     | 7m 34s       | 0.893548          | 0.941669              | 6.61608e-06 |</pre>"
      ],
      "text/plain": [
       "| 410     | 7m 34s       | 0.893548          | 0.941669              | 6.61608e-06 |"
      ]
     },
     "metadata": {},
     "output_type": "display_data"
    },
    {
     "data": {
      "text/html": [
       "<pre>| 411     | 7m 35s       | 0.893544          | 0.941666              | 6.59996e-06 |</pre>"
      ],
      "text/plain": [
       "| 411     | 7m 35s       | 0.893544          | 0.941666              | 6.59996e-06 |"
      ]
     },
     "metadata": {},
     "output_type": "display_data"
    },
    {
     "data": {
      "text/html": [
       "<pre>| 412     | 7m 37s       | 0.89354           | 0.941663              | 6.58392e-06 |</pre>"
      ],
      "text/plain": [
       "| 412     | 7m 37s       | 0.89354           | 0.941663              | 6.58392e-06 |"
      ]
     },
     "metadata": {},
     "output_type": "display_data"
    },
    {
     "data": {
      "text/html": [
       "<pre>| 413     | 7m 38s       | 0.893536          | 0.94166               | 6.56795e-06 |</pre>"
      ],
      "text/plain": [
       "| 413     | 7m 38s       | 0.893536          | 0.94166               | 6.56795e-06 |"
      ]
     },
     "metadata": {},
     "output_type": "display_data"
    },
    {
     "data": {
      "text/html": [
       "<pre>| 414     | 7m 39s       | 0.893532          | 0.941658              | 6.55207e-06 |</pre>"
      ],
      "text/plain": [
       "| 414     | 7m 39s       | 0.893532          | 0.941658              | 6.55207e-06 |"
      ]
     },
     "metadata": {},
     "output_type": "display_data"
    },
    {
     "data": {
      "text/html": [
       "<pre>| 415     | 7m 40s       | 0.893528          | 0.941655              | 6.53626e-06 |</pre>"
      ],
      "text/plain": [
       "| 415     | 7m 40s       | 0.893528          | 0.941655              | 6.53626e-06 |"
      ]
     },
     "metadata": {},
     "output_type": "display_data"
    },
    {
     "data": {
      "text/html": [
       "<pre>| 416     | 7m 41s       | 0.893524          | 0.941652              | 6.52052e-06 |</pre>"
      ],
      "text/plain": [
       "| 416     | 7m 41s       | 0.893524          | 0.941652              | 6.52052e-06 |"
      ]
     },
     "metadata": {},
     "output_type": "display_data"
    },
    {
     "data": {
      "text/html": [
       "<pre>| 417     | 7m 42s       | 0.89352           | 0.941649              | 6.50487e-06 |</pre>"
      ],
      "text/plain": [
       "| 417     | 7m 42s       | 0.89352           | 0.941649              | 6.50487e-06 |"
      ]
     },
     "metadata": {},
     "output_type": "display_data"
    },
    {
     "data": {
      "text/html": [
       "<pre>| 418     | 7m 44s       | 0.893516          | 0.941646              | 6.48928e-06 |</pre>"
      ],
      "text/plain": [
       "| 418     | 7m 44s       | 0.893516          | 0.941646              | 6.48928e-06 |"
      ]
     },
     "metadata": {},
     "output_type": "display_data"
    },
    {
     "data": {
      "text/html": [
       "<pre>| 419     | 7m 45s       | 0.893512          | 0.941643              | 6.47378e-06 |</pre>"
      ],
      "text/plain": [
       "| 419     | 7m 45s       | 0.893512          | 0.941643              | 6.47378e-06 |"
      ]
     },
     "metadata": {},
     "output_type": "display_data"
    },
    {
     "data": {
      "text/html": [
       "<pre>| 420     | 7m 46s       | 0.893508          | 0.94164               | 6.45834e-06 |</pre>"
      ],
      "text/plain": [
       "| 420     | 7m 46s       | 0.893508          | 0.94164               | 6.45834e-06 |"
      ]
     },
     "metadata": {},
     "output_type": "display_data"
    },
    {
     "data": {
      "text/html": [
       "<pre>| 421     | 7m 47s       | 0.893504          | 0.941637              | 6.44298e-06 |</pre>"
      ],
      "text/plain": [
       "| 421     | 7m 47s       | 0.893504          | 0.941637              | 6.44298e-06 |"
      ]
     },
     "metadata": {},
     "output_type": "display_data"
    },
    {
     "data": {
      "text/html": [
       "<pre>| 422     | 7m 48s       | 0.8935            | 0.941634              | 6.42769e-06 |</pre>"
      ],
      "text/plain": [
       "| 422     | 7m 48s       | 0.8935            | 0.941634              | 6.42769e-06 |"
      ]
     },
     "metadata": {},
     "output_type": "display_data"
    },
    {
     "data": {
      "text/html": [
       "<pre>| 423     | 7m 50s       | 0.893496          | 0.941631              | 6.41248e-06 |</pre>"
      ],
      "text/plain": [
       "| 423     | 7m 50s       | 0.893496          | 0.941631              | 6.41248e-06 |"
      ]
     },
     "metadata": {},
     "output_type": "display_data"
    },
    {
     "data": {
      "text/html": [
       "<pre>| 424     | 7m 51s       | 0.893492          | 0.941628              | 6.39733e-06 |</pre>"
      ],
      "text/plain": [
       "| 424     | 7m 51s       | 0.893492          | 0.941628              | 6.39733e-06 |"
      ]
     },
     "metadata": {},
     "output_type": "display_data"
    },
    {
     "data": {
      "text/html": [
       "<pre>| 425     | 7m 52s       | 0.893488          | 0.941626              | 6.38226e-06 |</pre>"
      ],
      "text/plain": [
       "| 425     | 7m 52s       | 0.893488          | 0.941626              | 6.38226e-06 |"
      ]
     },
     "metadata": {},
     "output_type": "display_data"
    },
    {
     "data": {
      "text/html": [
       "<pre>| 426     | 7m 53s       | 0.893484          | 0.941623              | 6.36726e-06 |</pre>"
      ],
      "text/plain": [
       "| 426     | 7m 53s       | 0.893484          | 0.941623              | 6.36726e-06 |"
      ]
     },
     "metadata": {},
     "output_type": "display_data"
    },
    {
     "data": {
      "text/html": [
       "<pre>| 427     | 7m 54s       | 0.89348           | 0.94162               | 6.35233e-06 |</pre>"
      ],
      "text/plain": [
       "| 427     | 7m 54s       | 0.89348           | 0.94162               | 6.35233e-06 |"
      ]
     },
     "metadata": {},
     "output_type": "display_data"
    },
    {
     "data": {
      "text/html": [
       "<pre>| 428     | 7m 56s       | 0.893477          | 0.941617              | 6.33746e-06 |</pre>"
      ],
      "text/plain": [
       "| 428     | 7m 56s       | 0.893477          | 0.941617              | 6.33746e-06 |"
      ]
     },
     "metadata": {},
     "output_type": "display_data"
    },
    {
     "data": {
      "text/html": [
       "<pre>| 429     | 7m 57s       | 0.893473          | 0.941614              | 6.32267e-06 |</pre>"
      ],
      "text/plain": [
       "| 429     | 7m 57s       | 0.893473          | 0.941614              | 6.32267e-06 |"
      ]
     },
     "metadata": {},
     "output_type": "display_data"
    },
    {
     "data": {
      "text/html": [
       "<pre>| 430     | 7m 58s       | 0.893469          | 0.941611              | 6.30795e-06 |</pre>"
      ],
      "text/plain": [
       "| 430     | 7m 58s       | 0.893469          | 0.941611              | 6.30795e-06 |"
      ]
     },
     "metadata": {},
     "output_type": "display_data"
    },
    {
     "data": {
      "text/html": [
       "<pre>| 431     | 7m 59s       | 0.893465          | 0.941609              | 6.29329e-06 |</pre>"
      ],
      "text/plain": [
       "| 431     | 7m 59s       | 0.893465          | 0.941609              | 6.29329e-06 |"
      ]
     },
     "metadata": {},
     "output_type": "display_data"
    },
    {
     "data": {
      "text/html": [
       "<pre>| 432     | 8m 0s        | 0.893461          | 0.941606              | 6.27871e-06 |</pre>"
      ],
      "text/plain": [
       "| 432     | 8m 0s        | 0.893461          | 0.941606              | 6.27871e-06 |"
      ]
     },
     "metadata": {},
     "output_type": "display_data"
    },
    {
     "data": {
      "text/html": [
       "<pre>| 433     | 8m 1s        | 0.893457          | 0.941603              | 6.26419e-06 |</pre>"
      ],
      "text/plain": [
       "| 433     | 8m 1s        | 0.893457          | 0.941603              | 6.26419e-06 |"
      ]
     },
     "metadata": {},
     "output_type": "display_data"
    },
    {
     "data": {
      "text/html": [
       "<pre>| 434     | 8m 2s        | 0.893454          | 0.9416                | 6.24974e-06 |</pre>"
      ],
      "text/plain": [
       "| 434     | 8m 2s        | 0.893454          | 0.9416                | 6.24974e-06 |"
      ]
     },
     "metadata": {},
     "output_type": "display_data"
    },
    {
     "data": {
      "text/html": [
       "<pre>| 435     | 8m 3s        | 0.89345           | 0.941597              | 6.23535e-06 |</pre>"
      ],
      "text/plain": [
       "| 435     | 8m 3s        | 0.89345           | 0.941597              | 6.23535e-06 |"
      ]
     },
     "metadata": {},
     "output_type": "display_data"
    },
    {
     "data": {
      "text/html": [
       "<pre>| 436     | 8m 5s        | 0.893446          | 0.941595              | 6.22103e-06 |</pre>"
      ],
      "text/plain": [
       "| 436     | 8m 5s        | 0.893446          | 0.941595              | 6.22103e-06 |"
      ]
     },
     "metadata": {},
     "output_type": "display_data"
    },
    {
     "data": {
      "text/html": [
       "<pre>| 437     | 8m 6s        | 0.893442          | 0.941592              | 6.20678e-06 |</pre>"
      ],
      "text/plain": [
       "| 437     | 8m 6s        | 0.893442          | 0.941592              | 6.20678e-06 |"
      ]
     },
     "metadata": {},
     "output_type": "display_data"
    },
    {
     "data": {
      "text/html": [
       "<pre>| 438     | 8m 7s        | 0.893438          | 0.941589              | 6.19259e-06 |</pre>"
      ],
      "text/plain": [
       "| 438     | 8m 7s        | 0.893438          | 0.941589              | 6.19259e-06 |"
      ]
     },
     "metadata": {},
     "output_type": "display_data"
    },
    {
     "data": {
      "text/html": [
       "<pre>| 439     | 8m 8s        | 0.893435          | 0.941586              | 6.17846e-06 |</pre>"
      ],
      "text/plain": [
       "| 439     | 8m 8s        | 0.893435          | 0.941586              | 6.17846e-06 |"
      ]
     },
     "metadata": {},
     "output_type": "display_data"
    },
    {
     "data": {
      "text/html": [
       "<pre>| 440     | 8m 9s        | 0.893431          | 0.941583              | 6.1644e-06  |</pre>"
      ],
      "text/plain": [
       "| 440     | 8m 9s        | 0.893431          | 0.941583              | 6.1644e-06  |"
      ]
     },
     "metadata": {},
     "output_type": "display_data"
    },
    {
     "data": {
      "text/html": [
       "<pre>| 441     | 8m 10s       | 0.893427          | 0.941581              | 6.15041e-06 |</pre>"
      ],
      "text/plain": [
       "| 441     | 8m 10s       | 0.893427          | 0.941581              | 6.15041e-06 |"
      ]
     },
     "metadata": {},
     "output_type": "display_data"
    },
    {
     "data": {
      "text/html": [
       "<pre>| 442     | 8m 11s       | 0.893424          | 0.941578              | 6.13647e-06 |</pre>"
      ],
      "text/plain": [
       "| 442     | 8m 11s       | 0.893424          | 0.941578              | 6.13647e-06 |"
      ]
     },
     "metadata": {},
     "output_type": "display_data"
    },
    {
     "data": {
      "text/html": [
       "<pre>| 443     | 8m 12s       | 0.89342           | 0.941575              | 6.1226e-06  |</pre>"
      ],
      "text/plain": [
       "| 443     | 8m 12s       | 0.89342           | 0.941575              | 6.1226e-06  |"
      ]
     },
     "metadata": {},
     "output_type": "display_data"
    },
    {
     "data": {
      "text/html": [
       "<pre>| 444     | 8m 13s       | 0.893416          | 0.941573              | 6.1088e-06  |</pre>"
      ],
      "text/plain": [
       "| 444     | 8m 13s       | 0.893416          | 0.941573              | 6.1088e-06  |"
      ]
     },
     "metadata": {},
     "output_type": "display_data"
    },
    {
     "data": {
      "text/html": [
       "<pre>| 445     | 8m 14s       | 0.893412          | 0.94157               | 6.09505e-06 |</pre>"
      ],
      "text/plain": [
       "| 445     | 8m 14s       | 0.893412          | 0.94157               | 6.09505e-06 |"
      ]
     },
     "metadata": {},
     "output_type": "display_data"
    },
    {
     "data": {
      "text/html": [
       "<pre>| 446     | 8m 15s       | 0.893409          | 0.941567              | 6.08137e-06 |</pre>"
      ],
      "text/plain": [
       "| 446     | 8m 15s       | 0.893409          | 0.941567              | 6.08137e-06 |"
      ]
     },
     "metadata": {},
     "output_type": "display_data"
    },
    {
     "data": {
      "text/html": [
       "<pre>| 447     | 8m 17s       | 0.893405          | 0.941565              | 6.06775e-06 |</pre>"
      ],
      "text/plain": [
       "| 447     | 8m 17s       | 0.893405          | 0.941565              | 6.06775e-06 |"
      ]
     },
     "metadata": {},
     "output_type": "display_data"
    },
    {
     "data": {
      "text/html": [
       "<pre>| 448     | 8m 18s       | 0.893402          | 0.941562              | 6.05418e-06 |</pre>"
      ],
      "text/plain": [
       "| 448     | 8m 18s       | 0.893402          | 0.941562              | 6.05418e-06 |"
      ]
     },
     "metadata": {},
     "output_type": "display_data"
    },
    {
     "data": {
      "text/html": [
       "<pre>| 449     | 8m 19s       | 0.893398          | 0.941559              | 6.04068e-06 |</pre>"
      ],
      "text/plain": [
       "| 449     | 8m 19s       | 0.893398          | 0.941559              | 6.04068e-06 |"
      ]
     },
     "metadata": {},
     "output_type": "display_data"
    },
    {
     "data": {
      "text/html": [
       "<pre>| 450     | 8m 20s       | 0.893394          | 0.941557              | 6.02724e-06 |</pre>"
      ],
      "text/plain": [
       "| 450     | 8m 20s       | 0.893394          | 0.941557              | 6.02724e-06 |"
      ]
     },
     "metadata": {},
     "output_type": "display_data"
    },
    {
     "data": {
      "text/html": [
       "<pre>| 451     | 8m 21s       | 0.89339           | 0.941554              | 6.01386e-06 |</pre>"
      ],
      "text/plain": [
       "| 451     | 8m 21s       | 0.89339           | 0.941554              | 6.01386e-06 |"
      ]
     },
     "metadata": {},
     "output_type": "display_data"
    },
    {
     "data": {
      "text/html": [
       "<pre>| 452     | 8m 22s       | 0.893387          | 0.941551              | 6.00054e-06 |</pre>"
      ],
      "text/plain": [
       "| 452     | 8m 22s       | 0.893387          | 0.941551              | 6.00054e-06 |"
      ]
     },
     "metadata": {},
     "output_type": "display_data"
    },
    {
     "data": {
      "text/html": [
       "<pre>| 453     | 8m 23s       | 0.893383          | 0.941549              | 5.98728e-06 |</pre>"
      ],
      "text/plain": [
       "| 453     | 8m 23s       | 0.893383          | 0.941549              | 5.98728e-06 |"
      ]
     },
     "metadata": {},
     "output_type": "display_data"
    },
    {
     "data": {
      "text/html": [
       "<pre>| 454     | 8m 24s       | 0.89338           | 0.941546              | 5.97407e-06 |</pre>"
      ],
      "text/plain": [
       "| 454     | 8m 24s       | 0.89338           | 0.941546              | 5.97407e-06 |"
      ]
     },
     "metadata": {},
     "output_type": "display_data"
    },
    {
     "data": {
      "text/html": [
       "<pre>| 455     | 8m 25s       | 0.893376          | 0.941543              | 5.96093e-06 |</pre>"
      ],
      "text/plain": [
       "| 455     | 8m 25s       | 0.893376          | 0.941543              | 5.96093e-06 |"
      ]
     },
     "metadata": {},
     "output_type": "display_data"
    },
    {
     "data": {
      "text/html": [
       "<pre>| 456     | 8m 27s       | 0.893373          | 0.941541              | 5.94784e-06 |</pre>"
      ],
      "text/plain": [
       "| 456     | 8m 27s       | 0.893373          | 0.941541              | 5.94784e-06 |"
      ]
     },
     "metadata": {},
     "output_type": "display_data"
    },
    {
     "data": {
      "text/html": [
       "<pre>| 457     | 8m 28s       | 0.893369          | 0.941538              | 5.93481e-06 |</pre>"
      ],
      "text/plain": [
       "| 457     | 8m 28s       | 0.893369          | 0.941538              | 5.93481e-06 |"
      ]
     },
     "metadata": {},
     "output_type": "display_data"
    },
    {
     "data": {
      "text/html": [
       "<pre>| 458     | 8m 29s       | 0.893366          | 0.941536              | 5.92183e-06 |</pre>"
      ],
      "text/plain": [
       "| 458     | 8m 29s       | 0.893366          | 0.941536              | 5.92183e-06 |"
      ]
     },
     "metadata": {},
     "output_type": "display_data"
    },
    {
     "data": {
      "text/html": [
       "<pre>| 459     | 8m 30s       | 0.893362          | 0.941533              | 5.90892e-06 |</pre>"
      ],
      "text/plain": [
       "| 459     | 8m 30s       | 0.893362          | 0.941533              | 5.90892e-06 |"
      ]
     },
     "metadata": {},
     "output_type": "display_data"
    },
    {
     "data": {
      "text/html": [
       "<pre>| 460     | 8m 31s       | 0.893358          | 0.94153               | 5.89606e-06 |</pre>"
      ],
      "text/plain": [
       "| 460     | 8m 31s       | 0.893358          | 0.94153               | 5.89606e-06 |"
      ]
     },
     "metadata": {},
     "output_type": "display_data"
    },
    {
     "data": {
      "text/html": [
       "<pre>| 461     | 8m 32s       | 0.893355          | 0.941528              | 5.88325e-06 |</pre>"
      ],
      "text/plain": [
       "| 461     | 8m 32s       | 0.893355          | 0.941528              | 5.88325e-06 |"
      ]
     },
     "metadata": {},
     "output_type": "display_data"
    },
    {
     "data": {
      "text/html": [
       "<pre>| 462     | 8m 33s       | 0.893351          | 0.941525              | 5.8705e-06  |</pre>"
      ],
      "text/plain": [
       "| 462     | 8m 33s       | 0.893351          | 0.941525              | 5.8705e-06  |"
      ]
     },
     "metadata": {},
     "output_type": "display_data"
    },
    {
     "data": {
      "text/html": [
       "<pre>| 463     | 8m 34s       | 0.893348          | 0.941522              | 5.85781e-06 |</pre>"
      ],
      "text/plain": [
       "| 463     | 8m 34s       | 0.893348          | 0.941522              | 5.85781e-06 |"
      ]
     },
     "metadata": {},
     "output_type": "display_data"
    },
    {
     "data": {
      "text/html": [
       "<pre>| 464     | 8m 35s       | 0.893344          | 0.94152               | 5.84517e-06 |</pre>"
      ],
      "text/plain": [
       "| 464     | 8m 35s       | 0.893344          | 0.94152               | 5.84517e-06 |"
      ]
     },
     "metadata": {},
     "output_type": "display_data"
    },
    {
     "data": {
      "text/html": [
       "<pre>| 465     | 8m 37s       | 0.893341          | 0.941517              | 5.83258e-06 |</pre>"
      ],
      "text/plain": [
       "| 465     | 8m 37s       | 0.893341          | 0.941517              | 5.83258e-06 |"
      ]
     },
     "metadata": {},
     "output_type": "display_data"
    },
    {
     "data": {
      "text/html": [
       "<pre>| 466     | 8m 37s       | 0.893337          | 0.941515              | 5.82005e-06 |</pre>"
      ],
      "text/plain": [
       "| 466     | 8m 37s       | 0.893337          | 0.941515              | 5.82005e-06 |"
      ]
     },
     "metadata": {},
     "output_type": "display_data"
    },
    {
     "data": {
      "text/html": [
       "<pre>| 467     | 8m 38s       | 0.893334          | 0.941512              | 5.80757e-06 |</pre>"
      ],
      "text/plain": [
       "| 467     | 8m 38s       | 0.893334          | 0.941512              | 5.80757e-06 |"
      ]
     },
     "metadata": {},
     "output_type": "display_data"
    },
    {
     "data": {
      "text/html": [
       "<pre>| 468     | 8m 39s       | 0.89333           | 0.94151               | 5.79515e-06 |</pre>"
      ],
      "text/plain": [
       "| 468     | 8m 39s       | 0.89333           | 0.94151               | 5.79515e-06 |"
      ]
     },
     "metadata": {},
     "output_type": "display_data"
    },
    {
     "data": {
      "text/html": [
       "<pre>| 469     | 8m 41s       | 0.893327          | 0.941507              | 5.78277e-06 |</pre>"
      ],
      "text/plain": [
       "| 469     | 8m 41s       | 0.893327          | 0.941507              | 5.78277e-06 |"
      ]
     },
     "metadata": {},
     "output_type": "display_data"
    },
    {
     "data": {
      "text/html": [
       "<pre>| 470     | 8m 42s       | 0.893323          | 0.941505              | 5.77046e-06 |</pre>"
      ],
      "text/plain": [
       "| 470     | 8m 42s       | 0.893323          | 0.941505              | 5.77046e-06 |"
      ]
     },
     "metadata": {},
     "output_type": "display_data"
    },
    {
     "data": {
      "text/html": [
       "<pre>| 471     | 8m 43s       | 0.89332           | 0.941502              | 5.75819e-06 |</pre>"
      ],
      "text/plain": [
       "| 471     | 8m 43s       | 0.89332           | 0.941502              | 5.75819e-06 |"
      ]
     },
     "metadata": {},
     "output_type": "display_data"
    },
    {
     "data": {
      "text/html": [
       "<pre>| 472     | 8m 44s       | 0.893317          | 0.9415                | 5.74598e-06 |</pre>"
      ],
      "text/plain": [
       "| 472     | 8m 44s       | 0.893317          | 0.9415                | 5.74598e-06 |"
      ]
     },
     "metadata": {},
     "output_type": "display_data"
    },
    {
     "data": {
      "text/html": [
       "<pre>| 473     | 8m 45s       | 0.893313          | 0.941497              | 5.73381e-06 |</pre>"
      ],
      "text/plain": [
       "| 473     | 8m 45s       | 0.893313          | 0.941497              | 5.73381e-06 |"
      ]
     },
     "metadata": {},
     "output_type": "display_data"
    },
    {
     "data": {
      "text/html": [
       "<pre>| 474     | 8m 46s       | 0.89331           | 0.941494              | 5.7217e-06  |</pre>"
      ],
      "text/plain": [
       "| 474     | 8m 46s       | 0.89331           | 0.941494              | 5.7217e-06  |"
      ]
     },
     "metadata": {},
     "output_type": "display_data"
    },
    {
     "data": {
      "text/html": [
       "<pre>| 475     | 8m 48s       | 0.893306          | 0.941492              | 5.70964e-06 |</pre>"
      ],
      "text/plain": [
       "| 475     | 8m 48s       | 0.893306          | 0.941492              | 5.70964e-06 |"
      ]
     },
     "metadata": {},
     "output_type": "display_data"
    },
    {
     "data": {
      "text/html": [
       "<pre>| 476     | 8m 49s       | 0.893303          | 0.94149               | 5.69763e-06 |</pre>"
      ],
      "text/plain": [
       "| 476     | 8m 49s       | 0.893303          | 0.94149               | 5.69763e-06 |"
      ]
     },
     "metadata": {},
     "output_type": "display_data"
    },
    {
     "data": {
      "text/html": [
       "<pre>| 477     | 8m 50s       | 0.8933            | 0.941487              | 5.68567e-06 |</pre>"
      ],
      "text/plain": [
       "| 477     | 8m 50s       | 0.8933            | 0.941487              | 5.68567e-06 |"
      ]
     },
     "metadata": {},
     "output_type": "display_data"
    },
    {
     "data": {
      "text/html": [
       "<pre>+---------+--------------+-------------------+-----------------------+-------------+</pre>"
      ],
      "text/plain": [
       "+---------+--------------+-------------------+-----------------------+-------------+"
      ]
     },
     "metadata": {},
     "output_type": "display_data"
    },
    {
     "data": {
      "text/html": [
       "<pre>Optimization Complete: Convergence on objective within bounds.</pre>"
      ],
      "text/plain": [
       "Optimization Complete: Convergence on objective within bounds."
      ]
     },
     "metadata": {},
     "output_type": "display_data"
    },
    {
     "data": {
      "text/html": [
       "<pre>Computing final objective value and training RMSE.</pre>"
      ],
      "text/plain": [
       "Computing final objective value and training RMSE."
      ]
     },
     "metadata": {},
     "output_type": "display_data"
    },
    {
     "data": {
      "text/html": [
       "<pre>       Final objective value: 0.893278</pre>"
      ],
      "text/plain": [
       "       Final objective value: 0.893278"
      ]
     },
     "metadata": {},
     "output_type": "display_data"
    },
    {
     "data": {
      "text/html": [
       "<pre>       Final training RMSE: 0.941476</pre>"
      ],
      "text/plain": [
       "       Final training RMSE: 0.941476"
      ]
     },
     "metadata": {},
     "output_type": "display_data"
    }
   ],
   "source": [
    "rec_engine_comm = gl.factorization_recommender.create(   observation_data=glCommTrain, \n",
    "                                                    user_id=\"comm\", \n",
    "                                                    item_id=\"bookID\", \n",
    "                                                    target='rating',\n",
    "                                                    num_factors=8,\n",
    "                                                    solver='auto',\n",
    "                                                    max_iterations=1000,\n",
    "                                                    regularization = 1e-2,\n",
    "                                                    linear_regularization = 1e-4\n",
    "                                                    )"
   ]
  },
  {
   "cell_type": "code",
   "execution_count": 330,
   "metadata": {
    "collapsed": false
   },
   "outputs": [
    {
     "name": "stdout",
     "output_type": "stream",
     "text": [
      "0.951449118697\n",
      "-0.00488661781159\n"
     ]
    }
   ],
   "source": [
    "print rec_engine_comm.evaluate_rmse(glCommTest, target='rating')['rmse_overall']\n",
    "print rec_engine_comm.evaluate_rmse(glCommTest, target='rating')['rmse_overall'] - rec_engine_comm_baseline.evaluate_rmse(glCommTest, target='rating')['rmse_overall']"
   ]
  },
  {
   "cell_type": "code",
   "execution_count": null,
   "metadata": {
    "collapsed": true
   },
   "outputs": [],
   "source": [
    "0.951427617389\n",
    "-0.00490811912023\n",
    "In [ ]:\n"
   ]
  },
  {
   "cell_type": "code",
   "execution_count": 331,
   "metadata": {
    "collapsed": false
   },
   "outputs": [
    {
     "data": {
      "image/png": "[encoded data removed]",
      "text/plain": [
       "<matplotlib.figure.Figure at 0x7faf202f3090>"
      ]
     },
     "metadata": {},
     "output_type": "display_data"
    }
   ],
   "source": [
    "meanWeights = np.linspace(0,1,30)\n",
    "\n",
    "#SIMPLE PREDICTION FROM COMM MEANS\n",
    "rmsesSimple = []\n",
    "\n",
    "for weight in meanWeights:\n",
    "    rmsesSimple.append(\\\n",
    "                mixedPred(glRatingsTestWithComm, \\\n",
    "                          commMeansTrain, commBookMeansTrain, commBookMeansTrain, rec_engine, rec_engine, \\\n",
    "                          False, False, True, weight)[1])\n",
    "\n",
    "#SIMPLE PREDICTION FROM COMM MEANS (no book means)\n",
    "rmsesSimpleNoBookMeans = []\n",
    "\n",
    "for weight in meanWeights:\n",
    "    rmsesSimpleNoBookMeans.append(\\\n",
    "                mixedPred(glRatingsTestWithComm, \\\n",
    "                          commMeansTrain, commBookMeansTrain, commBookMeansTrain, rec_engine, rec_engine, \\\n",
    "                          False, False, False, weight)[1])\n",
    "    \n",
    "    \n",
    "#FACTORIZATION RECOMMENDER FOR RAW (COMMUNITY-BOOK-RATING) DATA\n",
    "rmsesSocialRec = []\n",
    "\n",
    "for weight in meanWeights:\n",
    "    rmsesSocialRec.append(\\\n",
    "                mixedPred(glRatingsTestWithComm, \\\n",
    "                          commMeansTrain, commBookMeansTrain, commBookMeansTrain, rec_engine, rec_engine_comm, \\\n",
    "                          False, True, True, weight)[1])\n",
    "\n",
    "\n",
    "plt.plot(meanWeights, rmsesSimple, '-');\n",
    "plt.plot(meanWeights, rmsesSimpleNoBookMeans, '-');\n",
    "plt.plot(meanWeights, rmsesSocialRec, '-');\n",
    "plt.axhline(rmsesSimple[0],color='k',linestyle='--');"
   ]
  },
  {
   "cell_type": "code",
   "execution_count": null,
   "metadata": {
    "collapsed": false
   },
   "outputs": [
    {
     "name": "stderr",
     "output_type": "stream",
     "text": [
      "[INFO] graphlab.deploy.job: Validating job.\n",
      "[INFO] graphlab.deploy.map_job: Validation complete. Job: 'Model-Parameter-Search-Nov-28-2016-16-56-1800000' ready for execution\n",
      "[INFO] graphlab.deploy.map_job: Job: 'Model-Parameter-Search-Nov-28-2016-16-56-1800000' scheduled.\n"
     ]
    }
   ],
   "source": [
    "\n",
    "models = gl.toolkits.model_parameter_search.grid_search.create((glCommTrain, glCommTest),\n",
    "                                                     gl.factorization_recommender.create,\n",
    "                                                     {'user_id': 'comm',\n",
    "                                                      'item_id': 'bookID',\n",
    "                                                      'target': 'rating',\n",
    "                                                      'num_factors': [8, 32],\n",
    "                                                      'max_iterations': 1000,\n",
    "                                                      'regularization': [1e-2, 1e-3, 1e-4, 1e-7],\n",
    "                                                      'linear_regularization': 1e-4\n",
    "                                                      },\n",
    "                                                      perform_trial_run=False)\n",
    "                                                      "
   ]
  },
  {
   "cell_type": "code",
   "execution_count": 328,
   "metadata": {
    "collapsed": false
   },
   "outputs": [
    {
     "data": {
      "text/plain": [
       "{'Canceled': 0, 'Completed': 0, 'Failed': 0, 'Pending': 0, 'Running': 8}"
      ]
     },
     "execution_count": 328,
     "metadata": {},
     "output_type": "execute_result"
    }
   ],
   "source": [
    "models.get_status()\n",
    "#models.get_results(wait=False).sort('validation_rmse')"
   ]
  },
  {
   "cell_type": "code",
   "execution_count": 332,
   "metadata": {
    "collapsed": false
   },
   "outputs": [
    {
     "name": "stdout",
     "output_type": "stream",
     "text": [
      "0.172413793103\n",
      "0.951493506422\n",
      "\n",
      "0.413793103448\n",
      "0.946817252892\n",
      "\n",
      "0.586206896552\n",
      "0.94799687232\n"
     ]
    }
   ],
   "source": [
    "print meanWeights[np.argmin(rmsesSimple)]\n",
    "print rmsesSimple[np.argmin(rmsesSimple)]\n",
    "\n",
    "print ''\n",
    "\n",
    "print meanWeights[np.argmin(rmsesSimpleNoBookMeans)]\n",
    "print rmsesSimpleNoBookMeans[np.argmin(rmsesSimpleNoBookMeans)]\n",
    "\n",
    "print ''\n",
    "\n",
    "\n",
    "print meanWeights[np.argmin(rmsesSocialRec)]\n",
    "print rmsesSocialRec[np.argmin(rmsesSocialRec)]"
   ]
  },
  {
   "cell_type": "code",
   "execution_count": 356,
   "metadata": {
    "collapsed": false
   },
   "outputs": [],
   "source": [
    "bestWeightComm = meanWeights[np.argmin(rmsesSocialRec)]\n",
    "\n",
    "predsComm = mixedPred(glRatingsTestWithComm, \\\n",
    "                          commMeansTrain, commBookMeansTrain, commBookMeansTrain, rec_engine, rec_engine_comm, \\\n",
    "                          False, True, True, bestWeightComm)[0]\n",
    "\n",
    "predsBase = mixedPred(glRatingsTestWithComm, \\\n",
    "                          commMeansTrain, commBookMeansTrain, commBookMeansTrain, rec_engine, rec_engine_comm, \\\n",
    "                          False, True, True, 0)[0]"
   ]
  },
  {
   "cell_type": "code",
   "execution_count": 357,
   "metadata": {
    "collapsed": false
   },
   "outputs": [
    {
     "data": {
      "text/html": [
       "<div style=\"max-height:1000px;max-width:1500px;overflow:auto;\"><table frame=\"box\" rules=\"cols\">\n",
       "    <tr>\n",
       "        <th style=\"padding-left: 1em; padding-right: 1em; text-align: center\">bookID</th>\n",
       "        <th style=\"padding-left: 1em; padding-right: 1em; text-align: center\">userID</th>\n",
       "        <th style=\"padding-left: 1em; padding-right: 1em; text-align: center\">comm</th>\n",
       "        <th style=\"padding-left: 1em; padding-right: 1em; text-align: center\">rating</th>\n",
       "        <th style=\"padding-left: 1em; padding-right: 1em; text-align: center\">predsComm</th>\n",
       "        <th style=\"padding-left: 1em; padding-right: 1em; text-align: center\">predsBase</th>\n",
       "    </tr>\n",
       "    <tr>\n",
       "        <td style=\"padding-left: 1em; padding-right: 1em; text-align: center; vertical-align: top\">13586707</td>\n",
       "        <td style=\"padding-left: 1em; padding-right: 1em; text-align: center; vertical-align: top\">12436</td>\n",
       "        <td style=\"padding-left: 1em; padding-right: 1em; text-align: center; vertical-align: top\">72</td>\n",
       "        <td style=\"padding-left: 1em; padding-right: 1em; text-align: center; vertical-align: top\">5</td>\n",
       "        <td style=\"padding-left: 1em; padding-right: 1em; text-align: center; vertical-align: top\">3.84530643507</td>\n",
       "        <td style=\"padding-left: 1em; padding-right: 1em; text-align: center; vertical-align: top\">3.82443926753</td>\n",
       "    </tr>\n",
       "    <tr>\n",
       "        <td style=\"padding-left: 1em; padding-right: 1em; text-align: center; vertical-align: top\">18143977</td>\n",
       "        <td style=\"padding-left: 1em; padding-right: 1em; text-align: center; vertical-align: top\">12436</td>\n",
       "        <td style=\"padding-left: 1em; padding-right: 1em; text-align: center; vertical-align: top\">72</td>\n",
       "        <td style=\"padding-left: 1em; padding-right: 1em; text-align: center; vertical-align: top\">4</td>\n",
       "        <td style=\"padding-left: 1em; padding-right: 1em; text-align: center; vertical-align: top\">3.84530643507</td>\n",
       "        <td style=\"padding-left: 1em; padding-right: 1em; text-align: center; vertical-align: top\">3.82443926753</td>\n",
       "    </tr>\n",
       "    <tr>\n",
       "        <td style=\"padding-left: 1em; padding-right: 1em; text-align: center; vertical-align: top\">6194</td>\n",
       "        <td style=\"padding-left: 1em; padding-right: 1em; text-align: center; vertical-align: top\">12436</td>\n",
       "        <td style=\"padding-left: 1em; padding-right: 1em; text-align: center; vertical-align: top\">72</td>\n",
       "        <td style=\"padding-left: 1em; padding-right: 1em; text-align: center; vertical-align: top\">5</td>\n",
       "        <td style=\"padding-left: 1em; padding-right: 1em; text-align: center; vertical-align: top\">4.06904374693</td>\n",
       "        <td style=\"padding-left: 1em; padding-right: 1em; text-align: center; vertical-align: top\">4.07425403119</td>\n",
       "    </tr>\n",
       "    <tr>\n",
       "        <td style=\"padding-left: 1em; padding-right: 1em; text-align: center; vertical-align: top\">7331435</td>\n",
       "        <td style=\"padding-left: 1em; padding-right: 1em; text-align: center; vertical-align: top\">12436</td>\n",
       "        <td style=\"padding-left: 1em; padding-right: 1em; text-align: center; vertical-align: top\">72</td>\n",
       "        <td style=\"padding-left: 1em; padding-right: 1em; text-align: center; vertical-align: top\">5</td>\n",
       "        <td style=\"padding-left: 1em; padding-right: 1em; text-align: center; vertical-align: top\">3.83443618905</td>\n",
       "        <td style=\"padding-left: 1em; padding-right: 1em; text-align: center; vertical-align: top\">3.81568183367</td>\n",
       "    </tr>\n",
       "    <tr>\n",
       "        <td style=\"padding-left: 1em; padding-right: 1em; text-align: center; vertical-align: top\">29981</td>\n",
       "        <td style=\"padding-left: 1em; padding-right: 1em; text-align: center; vertical-align: top\">160216</td>\n",
       "        <td style=\"padding-left: 1em; padding-right: 1em; text-align: center; vertical-align: top\">30</td>\n",
       "        <td style=\"padding-left: 1em; padding-right: 1em; text-align: center; vertical-align: top\">5</td>\n",
       "        <td style=\"padding-left: 1em; padding-right: 1em; text-align: center; vertical-align: top\">3.74549441924</td>\n",
       "        <td style=\"padding-left: 1em; padding-right: 1em; text-align: center; vertical-align: top\">3.70912572863</td>\n",
       "    </tr>\n",
       "    <tr>\n",
       "        <td style=\"padding-left: 1em; padding-right: 1em; text-align: center; vertical-align: top\">3590</td>\n",
       "        <td style=\"padding-left: 1em; padding-right: 1em; text-align: center; vertical-align: top\">1</td>\n",
       "        <td style=\"padding-left: 1em; padding-right: 1em; text-align: center; vertical-align: top\">31</td>\n",
       "        <td style=\"padding-left: 1em; padding-right: 1em; text-align: center; vertical-align: top\">5</td>\n",
       "        <td style=\"padding-left: 1em; padding-right: 1em; text-align: center; vertical-align: top\">4.21903250119</td>\n",
       "        <td style=\"padding-left: 1em; padding-right: 1em; text-align: center; vertical-align: top\">4.3035163496</td>\n",
       "    </tr>\n",
       "    <tr>\n",
       "        <td style=\"padding-left: 1em; padding-right: 1em; text-align: center; vertical-align: top\">22034</td>\n",
       "        <td style=\"padding-left: 1em; padding-right: 1em; text-align: center; vertical-align: top\">1</td>\n",
       "        <td style=\"padding-left: 1em; padding-right: 1em; text-align: center; vertical-align: top\">31</td>\n",
       "        <td style=\"padding-left: 1em; padding-right: 1em; text-align: center; vertical-align: top\">5</td>\n",
       "        <td style=\"padding-left: 1em; padding-right: 1em; text-align: center; vertical-align: top\">4.2866201033</td>\n",
       "        <td style=\"padding-left: 1em; padding-right: 1em; text-align: center; vertical-align: top\">4.38256946172</td>\n",
       "    </tr>\n",
       "    <tr>\n",
       "        <td style=\"padding-left: 1em; padding-right: 1em; text-align: center; vertical-align: top\">9418327</td>\n",
       "        <td style=\"padding-left: 1em; padding-right: 1em; text-align: center; vertical-align: top\">1</td>\n",
       "        <td style=\"padding-left: 1em; padding-right: 1em; text-align: center; vertical-align: top\">31</td>\n",
       "        <td style=\"padding-left: 1em; padding-right: 1em; text-align: center; vertical-align: top\">4</td>\n",
       "        <td style=\"padding-left: 1em; padding-right: 1em; text-align: center; vertical-align: top\">4.07772581014</td>\n",
       "        <td style=\"padding-left: 1em; padding-right: 1em; text-align: center; vertical-align: top\">4.14890132369</td>\n",
       "    </tr>\n",
       "    <tr>\n",
       "        <td style=\"padding-left: 1em; padding-right: 1em; text-align: center; vertical-align: top\">23772</td>\n",
       "        <td style=\"padding-left: 1em; padding-right: 1em; text-align: center; vertical-align: top\">1</td>\n",
       "        <td style=\"padding-left: 1em; padding-right: 1em; text-align: center; vertical-align: top\">31</td>\n",
       "        <td style=\"padding-left: 1em; padding-right: 1em; text-align: center; vertical-align: top\">5</td>\n",
       "        <td style=\"padding-left: 1em; padding-right: 1em; text-align: center; vertical-align: top\">4.43713567657</td>\n",
       "        <td style=\"padding-left: 1em; padding-right: 1em; text-align: center; vertical-align: top\">4.51316607482</td>\n",
       "    </tr>\n",
       "    <tr>\n",
       "        <td style=\"padding-left: 1em; padding-right: 1em; text-align: center; vertical-align: top\">19321</td>\n",
       "        <td style=\"padding-left: 1em; padding-right: 1em; text-align: center; vertical-align: top\">1</td>\n",
       "        <td style=\"padding-left: 1em; padding-right: 1em; text-align: center; vertical-align: top\">31</td>\n",
       "        <td style=\"padding-left: 1em; padding-right: 1em; text-align: center; vertical-align: top\">5</td>\n",
       "        <td style=\"padding-left: 1em; padding-right: 1em; text-align: center; vertical-align: top\">4.15721555832</td>\n",
       "        <td style=\"padding-left: 1em; padding-right: 1em; text-align: center; vertical-align: top\">4.23527287626</td>\n",
       "    </tr>\n",
       "</table>\n",
       "[29898 rows x 6 columns]<br/>Note: Only the head of the SFrame is printed.<br/>You can use print_rows(num_rows=m, num_columns=n) to print more rows and columns.\n",
       "</div>"
      ],
      "text/plain": [
       "Columns:\n",
       "\tbookID\tstr\n",
       "\tuserID\tint\n",
       "\tcomm\tint\n",
       "\trating\tint\n",
       "\tpredsComm\tfloat\n",
       "\tpredsBase\tfloat\n",
       "\n",
       "Rows: 29898\n",
       "\n",
       "Data:\n",
       "+----------+--------+------+--------+---------------+---------------+\n",
       "|  bookID  | userID | comm | rating |   predsComm   |   predsBase   |\n",
       "+----------+--------+------+--------+---------------+---------------+\n",
       "| 13586707 | 12436  |  72  |   5    | 3.84530643507 | 3.82443926753 |\n",
       "| 18143977 | 12436  |  72  |   4    | 3.84530643507 | 3.82443926753 |\n",
       "|   6194   | 12436  |  72  |   5    | 4.06904374693 | 4.07425403119 |\n",
       "| 7331435  | 12436  |  72  |   5    | 3.83443618905 | 3.81568183367 |\n",
       "|  29981   | 160216 |  30  |   5    | 3.74549441924 | 3.70912572863 |\n",
       "|   3590   |   1    |  31  |   5    | 4.21903250119 |  4.3035163496 |\n",
       "|  22034   |   1    |  31  |   5    |  4.2866201033 | 4.38256946172 |\n",
       "| 9418327  |   1    |  31  |   4    | 4.07772581014 | 4.14890132369 |\n",
       "|  23772   |   1    |  31  |   5    | 4.43713567657 | 4.51316607482 |\n",
       "|  19321   |   1    |  31  |   5    | 4.15721555832 | 4.23527287626 |\n",
       "+----------+--------+------+--------+---------------+---------------+\n",
       "[29898 rows x 6 columns]\n",
       "Note: Only the head of the SFrame is printed.\n",
       "You can use print_rows(num_rows=m, num_columns=n) to print more rows and columns."
      ]
     },
     "execution_count": 357,
     "metadata": {},
     "output_type": "execute_result"
    }
   ],
   "source": [
    "signTestFrame = glRatingsTestWithComm[['bookID','userID','comm','rating']].copy()\n",
    "signTestFrame.add_column(gl.SArray(predsComm), 'predsComm')\n",
    "signTestFrame.add_column(gl.SArray(predsBase), 'predsBase')"
   ]
  },
  {
   "cell_type": "code",
   "execution_count": 358,
   "metadata": {
    "collapsed": false
   },
   "outputs": [
    {
     "data": {
      "text/plain": [
       "0.51331192721921204"
      ]
     },
     "execution_count": 358,
     "metadata": {},
     "output_type": "execute_result"
    }
   ],
   "source": [
    "errsBase = np.abs(np.array(signTestFrame['rating'] - signTestFrame['predsBase']))\n",
    "errsBase\n",
    "\n",
    "errsComm = np.abs(np.array(signTestFrame['rating'] - signTestFrame['predsComm']))\n",
    "(errsComm < errsBase).mean()"
   ]
  },
  {
   "cell_type": "code",
   "execution_count": 359,
   "metadata": {
    "collapsed": false
   },
   "outputs": [],
   "source": [
    "roundedPredsBase = np.round(predsBase)\n",
    "roundedPredsComm = np.round(predsComm)"
   ]
  },
  {
   "cell_type": "code",
   "execution_count": 360,
   "metadata": {
    "collapsed": false
   },
   "outputs": [
    {
     "data": {
      "text/plain": [
       "0.40072914576225832"
      ]
     },
     "execution_count": 360,
     "metadata": {},
     "output_type": "execute_result"
    }
   ],
   "source": [
    "(roundedPredsBase == signTestFrame['rating']).mean()"
   ]
  },
  {
   "cell_type": "code",
   "execution_count": 361,
   "metadata": {
    "collapsed": false
   },
   "outputs": [
    {
     "data": {
      "text/plain": [
       "0.40206702789484244"
      ]
     },
     "execution_count": 361,
     "metadata": {},
     "output_type": "execute_result"
    }
   ],
   "source": [
    "(roundedPredsComm == signTestFrame['rating']).mean()"
   ]
  },
  {
   "cell_type": "code",
   "execution_count": 362,
   "metadata": {
    "collapsed": false
   },
   "outputs": [
    {
     "data": {
      "image/png": "[encoded data removed]",
      "text/plain": [
       "<matplotlib.figure.Figure at 0x7faf6425efd0>"
      ]
     },
     "metadata": {},
     "output_type": "display_data"
    }
   ],
   "source": [
    "preds_by_rating = []\n",
    "rating_cats = range(1,6)\n",
    "\n",
    "for rating in rating_cats:\n",
    "    preds_by_rating.append(list(predsComm[np.array(glRatingsTest['rating']) == rating]))\n",
    "\n",
    "plt.violinplot(preds_by_rating, positions=rating_cats);\n",
    "plt.xlabel('Observed rating');\n",
    "plt.ylabel('Predicted rating');\n",
    "for rating in rating_cats:\n",
    "    plt.axhline(rating,linestyle='--',linewidth=1,alpha=0.5)"
   ]
  },
  {
   "cell_type": "code",
   "execution_count": 363,
   "metadata": {
    "collapsed": false
   },
   "outputs": [
    {
     "name": "stdout",
     "output_type": "stream",
     "text": [
      "(0, 3.6616672598583904)\n",
      "(1, 3.7309468424457921)\n",
      "(2, 3.7822331719620581)\n",
      "(3, 3.857221283958113)\n",
      "(4, 3.9397659592893821)\n"
     ]
    }
   ],
   "source": [
    "for i, category in enumerate(preds_by_rating):\n",
    "    print (i, np.mean(category))"
   ]
  },
  {
   "cell_type": "code",
   "execution_count": 353,
   "metadata": {
    "collapsed": false
   },
   "outputs": [
    {
     "data": {
      "text/plain": [
       "(array([   941.,      0.,   2826.,      0.,      0.,   8850.,      0.,\n",
       "         13455.,      0.,  10844.]),\n",
       " array([ 1. ,  1.4,  1.8,  2.2,  2.6,  3. ,  3.4,  3.8,  4.2,  4.6,  5. ]),\n",
       " <a list of 10 Patch objects>)"
      ]
     },
     "execution_count": 353,
     "metadata": {},
     "output_type": "execute_result"
    },
    {
     "data": {
      "image/png": "[encoded data removed]",
      "text/plain": [
       "<matplotlib.figure.Figure at 0x7faf20483b50>"
      ]
     },
     "metadata": {},
     "output_type": "display_data"
    }
   ],
   "source": [
    "plt.hist(glRatingsTrain['rating'])"
   ]
  },
  {
   "cell_type": "code",
   "execution_count": 164,
   "metadata": {
    "collapsed": true
   },
   "outputs": [],
   "source": [
    "coef_dict = rec_engine.get('coefficients')"
   ]
  },
  {
   "cell_type": "code",
   "execution_count": 166,
   "metadata": {
    "collapsed": false
   },
   "outputs": [
    {
     "data": {
      "text/html": [
       "<div style=\"max-height:1000px;max-width:1500px;overflow:auto;\"><table frame=\"box\" rules=\"cols\">\n",
       "    <tr>\n",
       "        <th style=\"padding-left: 1em; padding-right: 1em; text-align: center\">userID</th>\n",
       "        <th style=\"padding-left: 1em; padding-right: 1em; text-align: center\">linear_terms</th>\n",
       "        <th style=\"padding-left: 1em; padding-right: 1em; text-align: center\">factors</th>\n",
       "    </tr>\n",
       "    <tr>\n",
       "        <td style=\"padding-left: 1em; padding-right: 1em; text-align: center; vertical-align: top\">160216</td>\n",
       "        <td style=\"padding-left: 1em; padding-right: 1em; text-align: center; vertical-align: top\">-0.112027734518</td>\n",
       "        <td style=\"padding-left: 1em; padding-right: 1em; text-align: center; vertical-align: top\">[0.0097519736737,<br>0.0252745822072, ...</td>\n",
       "    </tr>\n",
       "    <tr>\n",
       "        <td style=\"padding-left: 1em; padding-right: 1em; text-align: center; vertical-align: top\">1</td>\n",
       "        <td style=\"padding-left: 1em; padding-right: 1em; text-align: center; vertical-align: top\">0.39820125699</td>\n",
       "        <td style=\"padding-left: 1em; padding-right: 1em; text-align: center; vertical-align: top\">[-0.00699024228379,<br>-0.0271312911063, ...</td>\n",
       "    </tr>\n",
       "    <tr>\n",
       "        <td style=\"padding-left: 1em; padding-right: 1em; text-align: center; vertical-align: top\">177</td>\n",
       "        <td style=\"padding-left: 1em; padding-right: 1em; text-align: center; vertical-align: top\">-0.268160998821</td>\n",
       "        <td style=\"padding-left: 1em; padding-right: 1em; text-align: center; vertical-align: top\">[0.00728796655312,<br>0.0196600388736, ...</td>\n",
       "    </tr>\n",
       "    <tr>\n",
       "        <td style=\"padding-left: 1em; padding-right: 1em; text-align: center; vertical-align: top\">270</td>\n",
       "        <td style=\"padding-left: 1em; padding-right: 1em; text-align: center; vertical-align: top\">-0.0685844495893</td>\n",
       "        <td style=\"padding-left: 1em; padding-right: 1em; text-align: center; vertical-align: top\">[-0.0102906404063,<br>-0.121005155146, ...</td>\n",
       "    </tr>\n",
       "    <tr>\n",
       "        <td style=\"padding-left: 1em; padding-right: 1em; text-align: center; vertical-align: top\">4852</td>\n",
       "        <td style=\"padding-left: 1em; padding-right: 1em; text-align: center; vertical-align: top\">-0.367633551359</td>\n",
       "        <td style=\"padding-left: 1em; padding-right: 1em; text-align: center; vertical-align: top\">[-0.006593931932,<br>-0.0461627207696, ...</td>\n",
       "    </tr>\n",
       "    <tr>\n",
       "        <td style=\"padding-left: 1em; padding-right: 1em; text-align: center; vertical-align: top\">44323</td>\n",
       "        <td style=\"padding-left: 1em; padding-right: 1em; text-align: center; vertical-align: top\">0.449285835028</td>\n",
       "        <td style=\"padding-left: 1em; padding-right: 1em; text-align: center; vertical-align: top\">[0.00444597098976,<br>0.0255383364856, ...</td>\n",
       "    </tr>\n",
       "    <tr>\n",
       "        <td style=\"padding-left: 1em; padding-right: 1em; text-align: center; vertical-align: top\">46020</td>\n",
       "        <td style=\"padding-left: 1em; padding-right: 1em; text-align: center; vertical-align: top\">0.533422529697</td>\n",
       "        <td style=\"padding-left: 1em; padding-right: 1em; text-align: center; vertical-align: top\">[0.00563824409619,<br>0.019762178883, ...</td>\n",
       "    </tr>\n",
       "    <tr>\n",
       "        <td style=\"padding-left: 1em; padding-right: 1em; text-align: center; vertical-align: top\">7099</td>\n",
       "        <td style=\"padding-left: 1em; padding-right: 1em; text-align: center; vertical-align: top\">0.169484212995</td>\n",
       "        <td style=\"padding-left: 1em; padding-right: 1em; text-align: center; vertical-align: top\">[-0.00122683122754,<br>0.0338310003281, ...</td>\n",
       "    </tr>\n",
       "    <tr>\n",
       "        <td style=\"padding-left: 1em; padding-right: 1em; text-align: center; vertical-align: top\">17893</td>\n",
       "        <td style=\"padding-left: 1em; padding-right: 1em; text-align: center; vertical-align: top\">0.0107212429866</td>\n",
       "        <td style=\"padding-left: 1em; padding-right: 1em; text-align: center; vertical-align: top\">[0.000461884250399,<br>0.0123364524916, ...</td>\n",
       "    </tr>\n",
       "    <tr>\n",
       "        <td style=\"padding-left: 1em; padding-right: 1em; text-align: center; vertical-align: top\">13136</td>\n",
       "        <td style=\"padding-left: 1em; padding-right: 1em; text-align: center; vertical-align: top\">-0.866620004177</td>\n",
       "        <td style=\"padding-left: 1em; padding-right: 1em; text-align: center; vertical-align: top\">[0.00617108587176,<br>0.00421393755823, ...</td>\n",
       "    </tr>\n",
       "</table>\n",
       "[533 rows x 3 columns]<br/>Note: Only the head of the SFrame is printed.<br/>You can use print_rows(num_rows=m, num_columns=n) to print more rows and columns.\n",
       "</div>"
      ],
      "text/plain": [
       "Columns:\n",
       "\tuserID\tint\n",
       "\tlinear_terms\tfloat\n",
       "\tfactors\tarray\n",
       "\n",
       "Rows: 533\n",
       "\n",
       "Data:\n",
       "+--------+------------------+-------------------------------+\n",
       "| userID |   linear_terms   |            factors            |\n",
       "+--------+------------------+-------------------------------+\n",
       "| 160216 | -0.112027734518  | [0.0097519736737, 0.025274... |\n",
       "|   1    |  0.39820125699   | [-0.00699024228379, -0.027... |\n",
       "|  177   | -0.268160998821  | [0.00728796655312, 0.01966... |\n",
       "|  270   | -0.0685844495893 | [-0.0102906404063, -0.1210... |\n",
       "|  4852  | -0.367633551359  | [-0.006593931932, -0.04616... |\n",
       "| 44323  |  0.449285835028  | [0.00444597098976, 0.02553... |\n",
       "| 46020  |  0.533422529697  | [0.00563824409619, 0.01976... |\n",
       "|  7099  |  0.169484212995  | [-0.00122683122754, 0.0338... |\n",
       "| 17893  | 0.0107212429866  | [0.000461884250399, 0.0123... |\n",
       "| 13136  | -0.866620004177  | [0.00617108587176, 0.00421... |\n",
       "+--------+------------------+-------------------------------+\n",
       "[533 rows x 3 columns]\n",
       "Note: Only the head of the SFrame is printed.\n",
       "You can use print_rows(num_rows=m, num_columns=n) to print more rows and columns."
      ]
     },
     "execution_count": 166,
     "metadata": {},
     "output_type": "execute_result"
    }
   ],
   "source": [
    "coef_dict['userID']"
   ]
  },
  {
   "cell_type": "code",
   "execution_count": 16,
   "metadata": {
    "collapsed": false
   },
   "outputs": [],
   "source": [
    "s = set(glRatings['bookID'].unique())\n",
    "numCommsByBook = {k: len(v) for k, v in booksToRaterComms.items() if str(k) in s}"
   ]
  },
  {
   "cell_type": "code",
   "execution_count": 17,
   "metadata": {
    "collapsed": false
   },
   "outputs": [
    {
     "data": {
      "text/plain": [
       "[(6310, 40),\n",
       " (49041, 40),\n",
       " (7445, 40),\n",
       " (6514, 40),\n",
       " (4473, 40),\n",
       " (37415, 40),\n",
       " (62291, 40),\n",
       " (11275, 40),\n",
       " (7588, 40),\n",
       " (1622, 40)]"
      ]
     },
     "execution_count": 17,
     "metadata": {},
     "output_type": "execute_result"
    }
   ],
   "source": [
    "[(k, v) for k, v in numCommsByBook.items() if v == 40]"
   ]
  },
  {
   "cell_type": "code",
   "execution_count": 18,
   "metadata": {
    "collapsed": false
   },
   "outputs": [
    {
     "name": "stdout",
     "output_type": "stream",
     "text": [
      "6310\n",
      "(u'Charlie and the Chocolate Factory\\n      \\n          (Charlie Bucket #1)', 478462)\n",
      "49041\n",
      "(u'New Moon\\n      \\n          (Twilight  #2)', 1146697)\n",
      "7445\n",
      "(u'The Glass Castle', 603127)\n",
      "6514\n",
      "(u'The Bell Jar', 416788)\n",
      "4473\n",
      "(u'A Prayer for Owen Meany', 234912)\n",
      "37415\n",
      "(u'Their Eyes Were Watching God', 184857)\n",
      "62291\n",
      "(u'A Storm of Swords\\n      \\n          (A Song of Ice and Fire #3)', 488072)\n",
      "11275\n",
      "(u'The Wind-Up Bird Chronicle\\n      \\n          (\\u306d\\u3058\\u307e\\u304d\\u9ce5\\u30af\\u30ed\\u30cb\\u30af\\u30eb #1-3)', 146490)\n",
      "7588\n",
      "(u'A Portrait of the Artist as a Young Man', 97488)\n",
      "1622\n",
      "(u\"A Midsummer Night's Dream\", 336536)\n"
     ]
    }
   ],
   "source": [
    "for bID in [k for k, v in numCommsByBook.items() if v  == 40]:\n",
    "    print bID\n",
    "    print bookTitle(bID)"
   ]
  },
  {
   "cell_type": "code",
   "execution_count": 20,
   "metadata": {
    "collapsed": false
   },
   "outputs": [
    {
     "name": "stdout",
     "output_type": "stream",
     "text": [
      "Community 31\n",
      "1 raters\n",
      "4.0 mean rating\n",
      "Earliest rating on Jan 08, 2007\n",
      "\n",
      "Total raters thus far: 1\n",
      "\n",
      "Community 50\n",
      "3 raters\n",
      "3.0 mean rating\n",
      "Earliest rating on Feb 20, 2007\n",
      "\n",
      "Total raters thus far: 4\n",
      "\n",
      "Community 33\n",
      "4 raters\n",
      "3.8 mean rating\n",
      "Earliest rating on Feb 22, 2007\n",
      "\n",
      "Total raters thus far: 8\n",
      "\n",
      "Community 21\n",
      "1 raters\n",
      "4.0 mean rating\n",
      "Earliest rating on Feb 24, 2007\n",
      "\n",
      "Total raters thus far: 9\n",
      "\n",
      "Community 27\n",
      "1 raters\n",
      "5.0 mean rating\n",
      "Earliest rating on Feb 27, 2007\n",
      "\n",
      "Total raters thus far: 10\n",
      "\n",
      "Community 20\n",
      "3 raters\n",
      "4.3 mean rating\n",
      "Earliest rating on Mar 03, 2007\n",
      "\n",
      "Total raters thus far: 13\n",
      "\n",
      "Community 60\n",
      "2 raters\n",
      "4.0 mean rating\n",
      "Earliest rating on Mar 11, 2007\n",
      "\n",
      "Total raters thus far: 15\n",
      "\n",
      "Community 61\n",
      "1 raters\n",
      "5.0 mean rating\n",
      "Earliest rating on Mar 15, 2007\n",
      "\n",
      "Total raters thus far: 16\n",
      "\n",
      "Community 1\n",
      "3 raters\n",
      "4.0 mean rating\n",
      "Earliest rating on Mar 16, 2007\n",
      "\n",
      "Total raters thus far: 19\n",
      "\n",
      "Community 66\n",
      "3 raters\n",
      "4.3 mean rating\n",
      "Earliest rating on Mar 20, 2007\n",
      "\n",
      "Total raters thus far: 22\n",
      "\n",
      "Community 75\n",
      "3 raters\n",
      "5.0 mean rating\n",
      "Earliest rating on Mar 20, 2007\n",
      "\n",
      "Total raters thus far: 25\n",
      "\n",
      "Community 38\n",
      "1 raters\n",
      "4.0 mean rating\n",
      "Earliest rating on Apr 02, 2007\n",
      "\n",
      "Total raters thus far: 26\n",
      "\n",
      "Community 17\n",
      "3 raters\n",
      "3.0 mean rating\n",
      "Earliest rating on Apr 18, 2007\n",
      "\n",
      "Total raters thus far: 29\n",
      "\n",
      "Community 71\n",
      "2 raters\n",
      "4.5 mean rating\n",
      "Earliest rating on Apr 25, 2007\n",
      "\n",
      "Total raters thus far: 31\n",
      "\n",
      "Community 73\n",
      "2 raters\n",
      "3.0 mean rating\n",
      "Earliest rating on Jun 04, 2007\n",
      "\n",
      "Total raters thus far: 33\n",
      "\n",
      "Community 46\n",
      "3 raters\n",
      "4.0 mean rating\n",
      "Earliest rating on Jun 22, 2007\n",
      "\n",
      "Total raters thus far: 36\n",
      "\n",
      "Community 25\n",
      "1 raters\n",
      "4.0 mean rating\n",
      "Earliest rating on Jun 29, 2007\n",
      "\n",
      "Total raters thus far: 37\n",
      "\n",
      "Community 40\n",
      "3 raters\n",
      "4.0 mean rating\n",
      "Earliest rating on Aug 06, 2007\n",
      "\n",
      "Total raters thus far: 40\n",
      "\n",
      "Community 32\n",
      "1 raters\n",
      "5.0 mean rating\n",
      "Earliest rating on Aug 22, 2007\n",
      "\n",
      "Total raters thus far: 41\n",
      "\n",
      "Community 65\n",
      "4 raters\n",
      "4.8 mean rating\n",
      "Earliest rating on Sep 12, 2007\n",
      "\n",
      "Total raters thus far: 45\n",
      "\n",
      "Community 19\n",
      "4 raters\n",
      "4.0 mean rating\n",
      "Earliest rating on Dec 26, 2007\n",
      "\n",
      "Total raters thus far: 49\n",
      "\n",
      "Community 41\n",
      "3 raters\n",
      "3.7 mean rating\n",
      "Earliest rating on Jan 15, 2008\n",
      "\n",
      "Total raters thus far: 52\n",
      "\n",
      "Community 22\n",
      "1 raters\n",
      "5.0 mean rating\n",
      "Earliest rating on Feb 27, 2008\n",
      "\n",
      "Total raters thus far: 53\n",
      "\n",
      "Community 49\n",
      "3 raters\n",
      "5.0 mean rating\n",
      "Earliest rating on Mar 04, 2008\n",
      "\n",
      "Total raters thus far: 56\n",
      "\n",
      "Community 53\n",
      "1 raters\n",
      "5.0 mean rating\n",
      "Earliest rating on Mar 07, 2008\n",
      "\n",
      "Total raters thus far: 57\n",
      "\n",
      "Community 63\n",
      "1 raters\n",
      "3.0 mean rating\n",
      "Earliest rating on Jan 04, 2009\n",
      "\n",
      "Total raters thus far: 58\n",
      "\n",
      "Community 11\n",
      "3 raters\n",
      "2.7 mean rating\n",
      "Earliest rating on Feb 15, 2009\n",
      "\n",
      "Total raters thus far: 61\n",
      "\n",
      "Community 35\n",
      "1 raters\n",
      "4.0 mean rating\n",
      "Earliest rating on Feb 24, 2009\n",
      "\n",
      "Total raters thus far: 62\n",
      "\n",
      "Community 45\n",
      "1 raters\n",
      "3.0 mean rating\n",
      "Earliest rating on Jun 13, 2009\n",
      "\n",
      "Total raters thus far: 63\n",
      "\n",
      "Community 30\n",
      "1 raters\n",
      "4.0 mean rating\n",
      "Earliest rating on Jul 25, 2009\n",
      "\n",
      "Total raters thus far: 64\n",
      "\n",
      "Community 48\n",
      "43 raters\n",
      "4.1 mean rating\n",
      "Earliest rating on Sep 21, 2010\n",
      "\n",
      "Total raters thus far: 107\n",
      "\n",
      "Community 4\n",
      "1 raters\n",
      "4.0 mean rating\n",
      "Earliest rating on Apr 11, 2011\n",
      "\n",
      "Total raters thus far: 108\n",
      "\n",
      "Community 2\n",
      "12 raters\n",
      "3.8 mean rating\n",
      "Earliest rating on May 31, 2011\n",
      "\n",
      "Total raters thus far: 120\n",
      "\n",
      "Community 18\n",
      "2 raters\n",
      "2.0 mean rating\n",
      "Earliest rating on Nov 17, 2011\n",
      "\n",
      "Total raters thus far: 122\n",
      "\n",
      "Community 43\n",
      "1 raters\n",
      "5.0 mean rating\n",
      "Earliest rating on Feb 15, 2012\n",
      "\n",
      "Total raters thus far: 123\n",
      "\n",
      "Community 10\n",
      "2 raters\n",
      "3.5 mean rating\n",
      "Earliest rating on Apr 30, 2012\n",
      "\n",
      "Total raters thus far: 125\n",
      "\n",
      "Community 55\n",
      "1 raters\n",
      "5.0 mean rating\n",
      "Earliest rating on May 02, 2013\n",
      "\n",
      "Total raters thus far: 126\n",
      "\n",
      "Community 47\n",
      "1 raters\n",
      "4.0 mean rating\n",
      "Earliest rating on Oct 17, 2013\n",
      "\n",
      "Total raters thus far: 127\n",
      "\n",
      "Community 70\n",
      "1 raters\n",
      "4.0 mean rating\n",
      "Earliest rating on Feb 02, 2014\n",
      "\n",
      "Total raters thus far: 128\n",
      "\n",
      "Community 16\n",
      "1 raters\n",
      "4.0 mean rating\n",
      "Earliest rating on Nov 14, 2014\n",
      "\n",
      "Total raters thus far: 129\n",
      "\n"
     ]
    }
   ],
   "source": [
    "testBID = 11275\n",
    "\n",
    "commIndices = []\n",
    "allCommBookRatings = []\n",
    "numRaters = []\n",
    "meanRatings = []\n",
    "earliestTimes = []\n",
    "\n",
    "uIDsInGL = set(glRatings['userID'].unique())\n",
    "\n",
    "for commIndex in booksToRaterComms[testBID]:\n",
    "    commRatings = ratingsFull.find({'userID': {'$in': list(set(allComms[commIndex]) & uIDsInGL)}})\n",
    "    commBookRatings = [(r['ratings'][str(testBID)][0], \\\n",
    "                        datetime.strptime(r['ratings'][str(testBID)][2], grDateFormat), \\\n",
    "                        r['userID'])\\\n",
    "                       for r in commRatings if str(testBID) in r['ratings'].keys()]\n",
    "    allCommBookRatings.append(commBookRatings)\n",
    "    \n",
    "    commIndices.append(commIndex)\n",
    "    numRaters.append(len(commBookRatings))\n",
    "    meanRatings.append(np.mean(np.array(commBookRatings)[:,0]))\n",
    "    earliestTimes.append(min(r[1] for r in commBookRatings))\n",
    "\n",
    "timeOrder = np.argsort(earliestTimes)\n",
    "\n",
    "numRatersCumSum = 0\n",
    "for i in timeOrder:\n",
    "    print 'Community %d' % commIndices[i]\n",
    "    print '%d raters' % numRaters[i]\n",
    "    numRatersCumSum += numRaters[i]\n",
    "    print '%.1f mean rating' % meanRatings[i]\n",
    "    print 'Earliest rating on %s' % datetime.strftime(earliestTimes[i], grDateFormat)\n",
    "    print '\\nTotal raters thus far: %d\\n' % numRatersCumSum"
   ]
  },
  {
   "cell_type": "code",
   "execution_count": 103,
   "metadata": {
    "collapsed": false
   },
   "outputs": [
    {
     "name": "stdout",
     "output_type": "stream",
     "text": [
      "+--------+------+--------+----------+\n",
      "| bookID | comm | rating |  userID  |\n",
      "+--------+------+--------+----------+\n",
      "| 11275  |  48  |   4    | 5455905  |\n",
      "| 11275  |  48  |   4    | 8943786  |\n",
      "| 11275  |  48  |   3    | 19569261 |\n",
      "| 11275  |  48  |   4    | 8864511  |\n",
      "| 11275  |  48  |   4    | 23434392 |\n",
      "| 11275  |  48  |   5    | 9069989  |\n",
      "| 11275  |  48  |   5    | 48801419 |\n",
      "| 11275  |  48  |   4    | 8068801  |\n",
      "| 11275  |  48  |   4    | 7551020  |\n",
      "| 11275  |  48  |   5    | 2392247  |\n",
      "| 11275  |  48  |   4    | 6512932  |\n",
      "| 11275  |  48  |   3    | 5011787  |\n",
      "| 11275  |  48  |   4    | 5724539  |\n",
      "| 11275  |  48  |   5    | 40547054 |\n",
      "| 11275  |  48  |   1    | 9136579  |\n",
      "| 11275  |  48  |   5    | 20931024 |\n",
      "| 11275  |  48  |   4    | 8481252  |\n",
      "| 11275  |  48  |   5    | 25218011 |\n",
      "| 11275  |  48  |   4    | 6308393  |\n",
      "| 11275  |  48  |   5    | 20187777 |\n",
      "| 11275  |  48  |   5    | 43756219 |\n",
      "| 11275  |  48  |   3    | 26363295 |\n",
      "| 11275  |  48  |   4    | 7756517  |\n",
      "| 11275  |  48  |   5    | 42492733 |\n",
      "| 11275  |  48  |   5    | 19571542 |\n",
      "| 11275  |  48  |   5    | 5473130  |\n",
      "| 11275  |  48  |   4    | 4365464  |\n",
      "| 11275  |  48  |   5    | 4318144  |\n",
      "| 11275  |  48  |   4    | 14810189 |\n",
      "| 11275  |  48  |   4    | 7865435  |\n",
      "| 11275  |  48  |   4    | 18828555 |\n",
      "| 11275  |  48  |   5    | 5285276  |\n",
      "| 11275  |  48  |   5    | 17645156 |\n",
      "| 11275  |  48  |   4    | 13395605 |\n",
      "| 11275  |  48  |   4    | 12070558 |\n",
      "| 11275  |  48  |   3    | 20194939 |\n",
      "| 11275  |  48  |   5    | 20123295 |\n",
      "| 11275  |  48  |   4    | 3145513  |\n",
      "| 11275  |  48  |   4    | 19134258 |\n",
      "| 11275  |  48  |   5    | 5250698  |\n",
      "| 11275  |  48  |   4    | 4011888  |\n",
      "| 11275  |  48  |   5    | 21171872 |\n",
      "+--------+------+--------+----------+\n",
      "[42 rows x 4 columns]\n",
      "\n"
     ]
    }
   ],
   "source": [
    "relevantGLratings = glRatings[glRatings.apply(lambda x: x['comm'] == 48 and x['bookID'] == str(testBID))]\n",
    "relevantGLratings.print_rows(num_rows=42)"
   ]
  },
  {
   "cell_type": "code",
   "execution_count": 124,
   "metadata": {
    "collapsed": false
   },
   "outputs": [
    {
     "name": "stdout",
     "output_type": "stream",
     "text": [
      "0.607146395116\n",
      "0.592260112867\n"
     ]
    }
   ],
   "source": [
    "relevantGLratings = signTestFrame[signTestFrame.apply(lambda x: x['comm'] == 48 and x['bookID'] == str(testBID))]\n",
    "relevantGLratings.add_column(gl.SArray(\\\n",
    "                             np.abs(np.array(relevantGLratings['rating'] - relevantGLratings['predsBase']))), \\\n",
    "                             'errsBase')\n",
    "relevantGLratings.add_column(gl.SArray(\\\n",
    "                             np.abs(np.array(relevantGLratings['rating'] - relevantGLratings['predsComm']))), \\\n",
    "                             'errsComm')\n",
    "\n",
    "#relevantGLratings.print_rows(num_rows=42, num_columns=8)\n",
    "print relevantGLratings['errsBase'].mean()\n",
    "print relevantGLratings['errsComm'].mean()"
   ]
  },
  {
   "cell_type": "code",
   "execution_count": 182,
   "metadata": {
    "collapsed": false
   },
   "outputs": [
    {
     "data": {
      "image/png": "[encoded data removed]",
      "text/plain": [
       "<matplotlib.figure.Figure at 0x7fae8d871f90>"
      ]
     },
     "metadata": {},
     "output_type": "display_data"
    }
   ],
   "source": [
    "numRatingsByUser = glRatingsTest.groupby(['userID'], {'numRatings': gl.aggregate.COUNT('rating')})\n",
    "plt.hist(numRatingsByUser['numRatings']);"
   ]
  },
  {
   "cell_type": "code",
   "execution_count": 215,
   "metadata": {
    "collapsed": false
   },
   "outputs": [],
   "source": [
    "pdRatingsTest = signTestFrame.to_dataframe()"
   ]
  },
  {
   "cell_type": "code",
   "execution_count": 216,
   "metadata": {
    "collapsed": false
   },
   "outputs": [],
   "source": [
    "numRatingsByUserDict = {r['userID']: r['numRatings'] for r in numRatingsByUser}"
   ]
  },
  {
   "cell_type": "code",
   "execution_count": 217,
   "metadata": {
    "collapsed": true
   },
   "outputs": [],
   "source": [
    "pdRatingsTest['numRatingsByUser'] = pdRatingsTest['userID'].apply(lambda x: numRatingsByUserDict[x])"
   ]
  },
  {
   "cell_type": "code",
   "execution_count": 335,
   "metadata": {
    "collapsed": false
   },
   "outputs": [
    {
     "data": {
      "text/plain": [
       "count    29898.000000\n",
       "mean        74.188508\n",
       "std         52.130276\n",
       "min          1.000000\n",
       "25%         35.000000\n",
       "50%         62.000000\n",
       "75%        106.000000\n",
       "max        235.000000\n",
       "Name: numRatingsByUser, dtype: float64"
      ]
     },
     "execution_count": 335,
     "metadata": {},
     "output_type": "execute_result"
    }
   ],
   "source": [
    "pdRatingsTest['numRatingsByUser'].describe()"
   ]
  },
  {
   "cell_type": "code",
   "execution_count": 340,
   "metadata": {
    "collapsed": false
   },
   "outputs": [
    {
     "name": "stdout",
     "output_type": "stream",
     "text": [
      "0.272794166834\n"
     ]
    }
   ],
   "source": [
    "numRatingsCutoff = 100\n",
    "pdManyRatings = pdRatingsTest[pdRatingsTest['numRatingsByUser'] > numRatingsCutoff]\n",
    "print (pdRatingsTest['numRatingsByUser'] > numRatingsCutoff).mean()"
   ]
  },
  {
   "cell_type": "code",
   "execution_count": 341,
   "metadata": {
    "collapsed": false
   },
   "outputs": [
    {
     "data": {
      "text/plain": [
       "(8156, 7)"
      ]
     },
     "execution_count": 341,
     "metadata": {},
     "output_type": "execute_result"
    }
   ],
   "source": [
    "pdManyRatings.shape"
   ]
  },
  {
   "cell_type": "code",
   "execution_count": 342,
   "metadata": {
    "collapsed": false
   },
   "outputs": [
    {
     "name": "stdout",
     "output_type": "stream",
     "text": [
      "0.989289071209\n",
      "0.984511079475\n"
     ]
    }
   ],
   "source": [
    "print rmse(pdManyRatings['rating'], pdManyRatings['predsBase'])\n",
    "print rmse(pdManyRatings['rating'], pdManyRatings['predsComm'])"
   ]
  },
  {
   "cell_type": "code",
   "execution_count": 343,
   "metadata": {
    "collapsed": false
   },
   "outputs": [],
   "source": [
    "meanWeights = np.linspace(0,1,30)\n",
    "\n",
    "rmsesSimpleManyRatings = []\n",
    "for weight in meanWeights:\n",
    "    rmsesSimpleManyRatings.append(mixedPred(gl.SFrame(pdManyRatings[['userID','bookID','comm','rating']]), \\\n",
    "                          commMeansTrain, commBookMeansTrain, factorCommBookMeansTrain, rec_engine, rec_engine_comm, \\\n",
    "                          False, True, True, weight)[1])"
   ]
  },
  {
   "cell_type": "code",
   "execution_count": 344,
   "metadata": {
    "collapsed": false
   },
   "outputs": [
    {
     "data": {
      "text/plain": [
       "[<matplotlib.lines.Line2D at 0x7faf2c5cd7d0>]"
      ]
     },
     "execution_count": 344,
     "metadata": {},
     "output_type": "execute_result"
    },
    {
     "data": {
      "image/png": "[encoded data removed]",
      "text/plain": [
       "<matplotlib.figure.Figure at 0x7faf844447d0>"
      ]
     },
     "metadata": {},
     "output_type": "display_data"
    }
   ],
   "source": [
    "plt.plot(meanWeights, rmsesSimpleManyRatings)"
   ]
  },
  {
   "cell_type": "code",
   "execution_count": 345,
   "metadata": {
    "collapsed": false
   },
   "outputs": [
    {
     "name": "stdout",
     "output_type": "stream",
     "text": [
      "0.896551724138\n",
      "0.977213305294\n"
     ]
    }
   ],
   "source": [
    "print meanWeights[np.argmin(rmsesSimpleManyRatings)]\n",
    "print rmsesSimpleManyRatings[np.argmin(rmsesSimpleManyRatings)]"
   ]
  },
  {
   "cell_type": "code",
   "execution_count": null,
   "metadata": {
    "collapsed": true
   },
   "outputs": [],
   "source": [
    "0.448275862069\n",
    "0.975802682569\n",
    "In [ ]:\n"
   ]
  }
 ],
 "metadata": {
  "anaconda-cloud": {},
  "kernelspec": {
   "display_name": "Python [conda root]",
   "language": "python",
   "name": "conda-root-py"
  },
  "language_info": {
   "codemirror_mode": {
    "name": "ipython",
    "version": 2
   },
   "file_extension": ".py",
   "mimetype": "text/x-python",
   "name": "python",
   "nbconvert_exporter": "python",
   "pygments_lexer": "ipython2",
   "version": "2.7.12"
  }
 },
 "nbformat": 4,
 "nbformat_minor": 1
}

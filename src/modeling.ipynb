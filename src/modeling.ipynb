{
 "cells": [
  {
   "cell_type": "code",
   "execution_count": 202,
   "metadata": {
    "collapsed": true
   },
   "outputs": [],
   "source": [
    "%reload_ext autoreload\n",
    "%autoreload 2\n",
    "from scrape_GR_tools import *\n",
    "from scrape_explore import *\n",
    "from friend_groups import *\n",
    "from modeling import *\n",
    "#put this in scrape_GR_tools\n",
    "import pandas as pd\n",
    "\n",
    "import graphlab as gl\n",
    "gl.set_runtime_config('GRAPHLAB_DEFAULT_NUM_PYLAMBDA_WORKERS', 36)\n",
    "\n",
    "import networkx as nx\n",
    "import nxpd as nxpd\n",
    "from IPython.display import display, Image\n",
    "import community\n",
    "\n",
    "from datetime import date, datetime\n",
    "grDateFormat = '%b %d, %Y'\n",
    "\n",
    "%matplotlib inline\n",
    "import matplotlib.pyplot as plt\n",
    "from matplotlib import colors\n",
    "\n",
    "from itertools import product\n",
    "from collections import defaultdict"
   ]
  },
  {
   "cell_type": "markdown",
   "metadata": {},
   "source": [
    "SETTING UP DATA FOR PREDICTION"
   ]
  },
  {
   "cell_type": "code",
   "execution_count": 203,
   "metadata": {
    "collapsed": true
   },
   "outputs": [],
   "source": [
    "mongoClientName = \"mongodb://34.212.222.251\" # replace XXX with the location of your mongo client\n",
    "# here I used one of my Amazon EC2 instances and its associated storage as a central location for MongoDB\n",
    "client = MongoClient(mongoClientName)"
   ]
  },
  {
   "cell_type": "code",
   "execution_count": 204,
   "metadata": {},
   "outputs": [
    {
     "name": "stdout",
     "output_type": "stream",
     "text": [
      "Checking database 'goodreads_explore_from_book_manifesto'\n",
      "Database has 5 comms (we now have 5 in total)\n",
      "\n",
      "Checking database 'goodreads_explore_from_book_jest'\n",
      "Database has 4 comms (we now have 9 in total)\n",
      "\n",
      "Checking database 'goodreads_explore_from_book_ender'\n",
      "Database has 11 comms (we now have 20 in total)\n",
      "\n",
      "Checking database 'goodreads_explore_from_book_huckFinn'\n",
      "Database has 6 comms (we now have 26 in total)\n",
      "\n",
      "Checking database 'goodreads_explore_from_book_eatPrayLove'\n",
      "Database has 3 comms (we now have 29 in total)\n",
      "\n",
      "Checking database 'goodreads_explore_from_book_mice'\n",
      "Database has 15 comms (we now have 44 in total)\n",
      "\n",
      "Checking database 'goodreads_explore_from_book_valis'\n",
      "Database has 1 comms (we now have 45 in total)\n",
      "\n",
      "Checking database 'goodreads_explore_from_book_leaves'\n",
      "Database has 8 comms (we now have 53 in total)\n",
      "\n",
      "Checking database 'goodreads_explore_from_book_mistborn'\n",
      "Database has 9 comms (we now have 62 in total)\n",
      "\n",
      "Checking database 'goodreads_explore_from_book_atlas662'\n",
      "Database has 7 comms (we now have 69 in total)\n",
      "\n",
      "Checking database 'goodreads_explore_from_book_catsCradle'\n",
      "Database has 1 comms (we now have 70 in total)\n",
      "\n",
      "Checking database 'goodreads_explore_from_book_secret'\n",
      "Database has 2 comms (we now have 72 in total)\n",
      "\n",
      "Checking database 'goodreads_explore_from_book_thrones'\n",
      "Database has 6 comms (we now have 78 in total)\n",
      "\n",
      "Checking database 'goodreads_explore_from_book_pride'\n",
      "Database has 12 comms (we now have 90 in total)\n",
      "\n",
      "Checking database 'goodreads_explore_from_book_hedgehog'\n",
      "Database has 5 comms (we now have 95 in total)\n",
      "\n",
      "Checking database 'goodreads_explore_from_book_sun'\n",
      "Database has 10 comms (we now have 105 in total)\n",
      "\n",
      "Checking database 'goodreads_explore_from_book_dorianGray'\n",
      "Database has 11 comms (we now have 116 in total)\n",
      "\n",
      "Checking database 'goodreads_explore_from_book_androidsDream'\n",
      "Comms collection malformed or empty: expected 1 record, found 0 records\n",
      "\n",
      "Checking database 'goodreads_explore_from_book_alchemist'\n",
      "Comms collection malformed or empty: expected 1 record, found 0 records\n",
      "\n",
      "Checking database 'goodreads_explore_from_book_rothfussName'\n",
      "Database has 8 comms (we now have 124 in total)\n",
      "\n",
      "Finished collecting comms.  We have 124 comms in total.  Pruning...\n",
      "\n",
      "Comms 4 and 101 were identical; removing 4\n",
      "\n",
      "Comms 15 and 89 were identical; removing 15\n",
      "\n",
      "Comms 80 and 95 were identical; removing 80\n",
      "\n",
      "Comms 82 and 103 were identical; removing 82\n",
      "\n",
      "Began with 124 comms, now have 120 after pruning.\n"
     ]
    }
   ],
   "source": [
    "allComms = collectAllComms(client)"
   ]
  },
  {
   "cell_type": "code",
   "execution_count": 205,
   "metadata": {
    "collapsed": true,
    "scrolled": true
   },
   "outputs": [],
   "source": [
    "dbFull = client['goodreads_full']\n",
    "\n",
    "ratingsFull = dbFull['ratings']\n",
    "friendsFull = dbFull['friends']\n",
    "booksFull = dbFull['books']\n",
    "\n",
    "#updateCommsOfRaters2(booksFull, allComms)\n",
    "#updateCommsOfRaters(ratingsFull, booksFull, allComms)\n",
    "booksToRaterComms = getCommsOfRaters(ratingsFull, allComms)"
   ]
  },
  {
   "cell_type": "code",
   "execution_count": 247,
   "metadata": {
    "collapsed": true
   },
   "outputs": [],
   "source": [
    "glRatings = makeRecommenderInputs(ratingsFull, booksFull, allComms, booksToRaterComms, 15, 30, False)\n",
    "outlierDict, glRatingsNoOutliers = removeGlOutliers(glRatings)"
   ]
  },
  {
   "cell_type": "code",
   "execution_count": 248,
   "metadata": {
    "collapsed": true
   },
   "outputs": [],
   "source": [
    "glRatings = glRatingsNoOutliers"
   ]
  },
  {
   "cell_type": "code",
   "execution_count": 249,
   "metadata": {
    "collapsed": true
   },
   "outputs": [],
   "source": [
    "trainSplitRmses = []\n",
    "trainSplitRmsesFake = []"
   ]
  },
  {
   "cell_type": "code",
   "execution_count": 250,
   "metadata": {},
   "outputs": [
    {
     "data": {
      "text/plain": [
       "\"\\n\\nglRatingsTrain, glRatingsTest = makeRecommenderInputs(ratingsFull, booksFull, allComms, booksToRaterComms, 20, 20,                                                     True, datetime.strptime('Apr 17, 2013', grDateFormat))\\n\\nglRatingsTrain = glRatingsTrain[glRatingsTrain['comm'].apply(lambda x: outlierDict[x])]\\nglRatingsTest = glRatingsTest[glRatingsTest['comm'].apply(lambda x: outlierDict[x])]\\n\""
      ]
     },
     "execution_count": 250,
     "metadata": {},
     "output_type": "execute_result"
    }
   ],
   "source": [
    "glRatingsTrain, glRatingsTest = gl.recommender.util.random_split_by_user(glRatings, \n",
    "                                                    user_id=\"userID\", \n",
    "                                                    item_id=\"bookID\",\n",
    "                                                    max_num_users=None,\n",
    "                                                    item_test_proportion=0.1)\n",
    "'''\n",
    "\n",
    "glRatingsTrain, glRatingsTest = makeRecommenderInputs(ratingsFull, booksFull, allComms, booksToRaterComms, 20, 20,\\\n",
    "                                                     True, datetime.strptime('Apr 17, 2013', grDateFormat))\n",
    "\n",
    "glRatingsTrain = glRatingsTrain[glRatingsTrain['comm'].apply(lambda x: outlierDict[x])]\n",
    "glRatingsTest = glRatingsTest[glRatingsTest['comm'].apply(lambda x: outlierDict[x])]\n",
    "'''"
   ]
  },
  {
   "cell_type": "code",
   "execution_count": 241,
   "metadata": {
    "collapsed": true
   },
   "outputs": [],
   "source": [
    "# EDA comparing movielens to GR\n",
    "# loading data\n",
    "\n",
    "header = ['user_id', 'item_id', 'rating', 'timestamp']\n",
    "df_ml = pd.read_csv('ml-100k/u.data', sep='\\t', names=header)\n",
    "df_ml = df_ml.rename(columns={'user_id':'userID','item_id':'bookID'})\n",
    "\n",
    "df_gr = makeRecommenderInputs(ratingsFull, booksFull, allComms, booksToRaterComms, 15, 30, False).to_dataframe()"
   ]
  },
  {
   "cell_type": "code",
   "execution_count": 242,
   "metadata": {},
   "outputs": [
    {
     "name": "stdout",
     "output_type": "stream",
     "text": [
      "movielens: ratings per user stats\n",
      "\n",
      "count    943.000000\n",
      "mean     106.044539\n",
      "std      100.931743\n",
      "min       20.000000\n",
      "25%       33.000000\n",
      "50%       65.000000\n",
      "75%      148.000000\n",
      "max      737.000000\n",
      "Name: rating, dtype: float64\n",
      "\n",
      "\n",
      "goodreads: ratings per user stats\n",
      "\n",
      "count    1094.000000\n",
      "mean       50.437843\n",
      "std        25.713555\n",
      "min         7.000000\n",
      "25%        33.000000\n",
      "50%        43.000000\n",
      "75%        59.000000\n",
      "max       237.000000\n",
      "Name: rating, dtype: float64\n",
      "\n",
      "\n",
      "movielens: ratings per item stats\n",
      "\n",
      "count    1682.000000\n",
      "mean       59.453032\n",
      "std        80.383846\n",
      "min         1.000000\n",
      "25%         6.000000\n",
      "50%        27.000000\n",
      "75%        80.000000\n",
      "max       583.000000\n",
      "Name: rating, dtype: float64\n",
      "\n",
      "\n",
      "goodreads: ratings per item stats\n",
      "\n",
      "count    1473.000000\n",
      "mean       37.460285\n",
      "std        55.875030\n",
      "min        15.000000\n",
      "25%        17.000000\n",
      "50%        21.000000\n",
      "75%        31.000000\n",
      "max       465.000000\n",
      "Name: rating, dtype: float64\n"
     ]
    }
   ],
   "source": [
    "# EDA comparing movielens to GR\n",
    "\n",
    "df_ml_users = df_ml.groupby(['userID'])['rating'].count()\n",
    "print 'movielens: ratings per user stats\\n'\n",
    "print df_ml_users.describe()\n",
    "\n",
    "print '\\n\\ngoodreads: ratings per user stats\\n'\n",
    "df_gr_users = df_gr.groupby(['userID'])['rating'].count()\n",
    "print df_gr_users.describe()\n",
    "\n",
    "df_ml_items = df_ml.groupby(['bookID'])['rating'].count()\n",
    "print '\\n\\nmovielens: ratings per item stats\\n'\n",
    "print df_ml_items.describe()\n",
    "\n",
    "print '\\n\\ngoodreads: ratings per item stats\\n'\n",
    "df_gr_items = df_gr.groupby(['bookID'])['rating'].count()\n",
    "print df_gr_items.describe()"
   ]
  },
  {
   "cell_type": "code",
   "execution_count": 243,
   "metadata": {},
   "outputs": [
    {
     "data": {
      "image/png": "[encoded data removed]",
      "text/plain": [
       "<matplotlib.figure.Figure at 0x7fb6ceed0950>"
      ]
     },
     "metadata": {},
     "output_type": "display_data"
    }
   ],
   "source": [
    "histStuff= plt.hist(df_ml_users,alpha=0.25,normed=True,log=True,bins=np.linspace(0,300,30),label='ml');\n",
    "plt.hist(df_gr_users,alpha=0.25,bins=histStuff[1],normed=True,log=True,color='r',label='gr');\n",
    "plt.legend(title='PDF: ratings per user');"
   ]
  },
  {
   "cell_type": "code",
   "execution_count": 244,
   "metadata": {},
   "outputs": [
    {
     "data": {
      "image/png": "[encoded data removed]",
      "text/plain": [
       "<matplotlib.figure.Figure at 0x7fb6483dac10>"
      ]
     },
     "metadata": {},
     "output_type": "display_data"
    }
   ],
   "source": [
    "histStuff= plt.hist(df_ml_items,alpha=0.25,normed=True,log=True,bins=np.linspace(0,300,30),label='ml');\n",
    "plt.hist(df_gr_items,alpha=0.25,bins=histStuff[1],normed=True,log=True,color='r',label='gr');\n",
    "plt.legend(title='PDF: ratings per items');"
   ]
  },
  {
   "cell_type": "code",
   "execution_count": 245,
   "metadata": {},
   "outputs": [
    {
     "data": {
      "image/png": "[encoded data removed]",
      "text/plain": [
       "<matplotlib.figure.Figure at 0x7fb6e0194450>"
      ]
     },
     "metadata": {},
     "output_type": "display_data"
    }
   ],
   "source": [
    "plt.plot(df_ml_users,df_ml_users.rank()/len(df_ml_users.rank()),'o',label='ml');\n",
    "plt.plot(df_gr_users,df_gr_users.rank()/len(df_gr_users.rank()),'o',label='gr');\n",
    "plt.axis([0,300,0,1])\n",
    "plt.legend(title='CDF: ratings per user');"
   ]
  },
  {
   "cell_type": "code",
   "execution_count": 246,
   "metadata": {},
   "outputs": [
    {
     "data": {
      "image/png": "[encoded data removed]",
      "text/plain": [
       "<matplotlib.figure.Figure at 0x7fb6cfc46610>"
      ]
     },
     "metadata": {},
     "output_type": "display_data"
    }
   ],
   "source": [
    "plt.plot(df_ml_items,df_ml_items.rank()/len(df_ml_items.rank()),'o',label='ml');\n",
    "plt.plot(df_gr_items,df_gr_items.rank()/len(df_gr_items.rank()),'o',label='gr');\n",
    "plt.axis([0,100,0,1])\n",
    "plt.legend(title='CDF: ratings per item');"
   ]
  },
  {
   "cell_type": "code",
   "execution_count": 170,
   "metadata": {
    "collapsed": true
   },
   "outputs": [],
   "source": [
    "# testing on movielens\n",
    "\n",
    "header = ['user_id', 'item_id', 'rating', 'timestamp']\n",
    "df_ml = pd.read_csv('ml-100k/u.data', sep='\\t', names=header)\n",
    "df_ml = df_ml.rename(columns={'user_id':'userID','item_id':'bookID'})\n",
    "\n",
    "glRatings = gl.SFrame(df_ml)\n",
    "\n",
    "glRatingsTrain, glRatingsTest = gl.recommender.util.random_split_by_user(glRatings, \n",
    "                                                    user_id=\"userID\", \n",
    "                                                    item_id=\"bookID\",\n",
    "                                                    max_num_users=None,\n",
    "                                                    item_test_proportion=0.1)\n",
    "                                                    "
   ]
  },
  {
   "cell_type": "code",
   "execution_count": 171,
   "metadata": {
    "collapsed": true
   },
   "outputs": [],
   "source": [
    "# removing intercept and user/book means\n",
    "\n",
    "intercept = glRatingsTrain['rating'].mean()\n",
    "\n",
    "glRatingsTrain['rating'] = glRatingsTrain['rating'] - intercept\n",
    "\n",
    "userMeans = glRatingsTrain.groupby(['userID'],{'userMeans': gl.aggregate.AVG('rating')})\n",
    "bookMeans = glRatingsTrain.groupby(['bookID'],{'bookMeans': gl.aggregate.AVG('rating')})\n",
    "\n",
    "userMeansDict = defaultdict(float,{u['userID']:u['userMeans'] for u in userMeans})\n",
    "bookMeansDict = defaultdict(float,{b['bookID']:b['bookMeans'] for b in bookMeans})\n",
    "\n",
    "userShiftsTrain = glRatingsTrain.apply(lambda x: userMeansDict[x['userID']])\n",
    "bookShiftsTrain = glRatingsTrain.apply(lambda x: bookMeansDict[x['bookID']])\n",
    "\n",
    "glRatingsTrain['rating'] = glRatingsTrain['rating'] - userShiftsTrain - bookShiftsTrain"
   ]
  },
  {
   "cell_type": "code",
   "execution_count": 172,
   "metadata": {
    "collapsed": true
   },
   "outputs": [],
   "source": [
    "# removing intercept and user/book means\n",
    "\n",
    "# removing train means from test here is not data leakage -- it's a hack to mimic a recommender that memorizes\n",
    "# the means from the training data and uses them to predict\n",
    "# (to get around the fact that graphlab's recommenders can't use ALS optimization with linear/intercept terms)\n",
    "\n",
    "glRatingsTest['rating'] = glRatingsTest['rating'] - intercept\n",
    "\n",
    "userShiftsTest = glRatingsTest.apply(lambda x: userMeansDict[x['userID']])\n",
    "bookShiftsTest = glRatingsTest.apply(lambda x: bookMeansDict[x['bookID']])\n",
    "\n",
    "glRatingsTest['rating'] = glRatingsTest['rating'] - userShiftsTest - bookShiftsTest"
   ]
  },
  {
   "cell_type": "code",
   "execution_count": 179,
   "metadata": {},
   "outputs": [
    {
     "name": "stdout",
     "output_type": "stream",
     "text": [
      "39417\n",
      "4369\n",
      "0.0997807518385\n"
     ]
    }
   ],
   "source": [
    "print glRatingsTrain.shape[0]\n",
    "print glRatingsTest.shape[0]\n",
    "print float(glRatingsTest.shape[0]) / (glRatingsTest.shape[0] + glRatingsTrain.shape[0])"
   ]
  },
  {
   "cell_type": "code",
   "execution_count": 180,
   "metadata": {},
   "outputs": [
    {
     "data": {
      "text/plain": [
       "count     453.000000\n",
       "mean       96.657837\n",
       "std        86.729387\n",
       "min        18.000000\n",
       "25%        54.000000\n",
       "50%        70.000000\n",
       "75%       108.000000\n",
       "max      1093.000000\n",
       "dtype: float64"
      ]
     },
     "execution_count": 180,
     "metadata": {},
     "output_type": "execute_result"
    }
   ],
   "source": [
    "numRatingsByUser = glRatings.groupby(['userID'], {'numRatings': gl.aggregate.COUNT('rating')})['numRatings']\n",
    "numRatingsByUser = pd.Series(numRatingsByUser)\n",
    "numRatingsByUser.describe()\n",
    "#(numRatingsByUser >= 20).mean()"
   ]
  },
  {
   "cell_type": "code",
   "execution_count": 181,
   "metadata": {},
   "outputs": [
    {
     "data": {
      "text/plain": [
       "count    2278.000000\n",
       "mean       19.221247\n",
       "std        31.956743\n",
       "min         1.000000\n",
       "25%         5.000000\n",
       "50%         7.000000\n",
       "75%        18.000000\n",
       "max       305.000000\n",
       "dtype: float64"
      ]
     },
     "execution_count": 181,
     "metadata": {},
     "output_type": "execute_result"
    }
   ],
   "source": [
    "numRatingsByBook = glRatings.groupby(['bookID'], {'numRatings': gl.aggregate.COUNT('rating')})['numRatings']\n",
    "numRatingsByBook = pd.Series(numRatingsByBook)\n",
    "(numRatingsByBook >= 20).mean()\n",
    "numRatingsByBook.describe()"
   ]
  },
  {
   "cell_type": "markdown",
   "metadata": {},
   "source": [
    "PREDICTION"
   ]
  },
  {
   "cell_type": "markdown",
   "metadata": {},
   "source": [
    "TRADITIONAL RECOMMENDER"
   ]
  },
  {
   "cell_type": "code",
   "execution_count": 182,
   "metadata": {
    "collapsed": true
   },
   "outputs": [],
   "source": [
    "# make sure we train the recommender without community information\n",
    "\n",
    "glRatingsTrainWithComm = glRatingsTrain.copy()\n",
    "glRatingsTestWithComm = glRatingsTest.copy()\n",
    "\n",
    "if 'comm' in glRatingsTrain.column_names():\n",
    "    glRatingsTrain.remove_column('comm');\n",
    "if 'comm' in glRatingsTest.column_names():\n",
    "    glRatingsTest.remove_column('comm');"
   ]
  },
  {
   "cell_type": "code",
   "execution_count": 183,
   "metadata": {},
   "outputs": [
    {
     "name": "stdout",
     "output_type": "stream",
     "text": [
      "39417 observations\n",
      "453 users\n",
      "2245 books\n",
      "\n",
      "A recommender with 0 factor(s) (plus linear terms) would use 6.8% of the degrees of freedom present in the data.\n",
      "(14.6 observations per model degree of freedom)\n",
      "\n",
      "A recommender with 1 factor(s) (plus linear terms) would use 13.7% of the degrees of freedom present in the data.\n",
      "(7.3 observations per model degree of freedom)\n",
      "\n",
      "A recommender with 2 factor(s) (plus linear terms) would use 20.5% of the degrees of freedom present in the data.\n",
      "(4.9 observations per model degree of freedom)\n",
      "\n",
      "A recommender with 3 factor(s) (plus linear terms) would use 27.4% of the degrees of freedom present in the data.\n",
      "(3.7 observations per model degree of freedom)\n",
      "\n",
      "A recommender with 4 factor(s) (plus linear terms) would use 34.2% of the degrees of freedom present in the data.\n",
      "(2.9 observations per model degree of freedom)\n",
      "\n",
      "A recommender with 5 factor(s) (plus linear terms) would use 41.1% of the degrees of freedom present in the data.\n",
      "(2.4 observations per model degree of freedom)\n",
      "\n",
      "A recommender with 6 factor(s) (plus linear terms) would use 47.9% of the degrees of freedom present in the data.\n",
      "(2.1 observations per model degree of freedom)\n",
      "\n",
      "A recommender with 7 factor(s) (plus linear terms) would use 54.8% of the degrees of freedom present in the data.\n",
      "(1.8 observations per model degree of freedom)\n",
      "\n",
      "A recommender with 8 factor(s) (plus linear terms) would use 61.6% of the degrees of freedom present in the data.\n",
      "(1.6 observations per model degree of freedom)\n",
      "\n"
     ]
    }
   ],
   "source": [
    "degreesOfFreedomStats(glRatingsTrain)"
   ]
  },
  {
   "cell_type": "code",
   "execution_count": 14,
   "metadata": {},
   "outputs": [
    {
     "data": {
      "image/png": "[encoded data removed]",
      "text/plain": [
       "<matplotlib.figure.Figure at 0x7fb74d4af590>"
      ]
     },
     "metadata": {},
     "output_type": "display_data"
    }
   ],
   "source": [
    "\n",
    "#TRANSFORMING TO UNIFORM DISTRIBUTION\n",
    "rating_cats = range(1,6)\n",
    "rating_counts = np.array([sum(np.array(glRatingsTrain['rating']) == rating) for rating in rating_cats])\n",
    "transformed_ratings = 1 + np.cumsum(4*rating_counts/float(rating_counts.sum()))\n",
    "transformed_rating_dict = dict(zip(rating_cats,transformed_ratings))\n",
    "transformed_rating_dict_inv = {v:k for (k,v) in transformed_rating_dict.items()}\n",
    "\n",
    "plt.figure(figsize=(12,4))\n",
    "plt.subplot(121)\n",
    "plt.hist(glRatingsTest['rating'],normed=True,alpha=1,bins=[0.5,2.5,4.5,6.5]);\n",
    "plt.subplot(122)\n",
    "plt.hist(glRatingsTest['rating'].apply(lambda x: transformed_rating_dict[x]),normed=True,alpha=0.5,color='r',\\\n",
    "        bins=[0.5,2.5,4.5,6.5]);"
   ]
  },
  {
   "cell_type": "code",
   "execution_count": 263,
   "metadata": {
    "collapsed": true
   },
   "outputs": [],
   "source": [
    "#the two lines below scale to uniform dist\n",
    "#glRatingsTrain['rating'] = glRatingsTrain['rating'].apply(lambda x: transformed_rating_dict[x])\n",
    "#glRatingsTest['rating'] = glRatingsTest['rating'].apply(lambda x: transformed_rating_dict[x])"
   ]
  },
  {
   "cell_type": "code",
   "execution_count": 251,
   "metadata": {
    "collapsed": true,
    "scrolled": false
   },
   "outputs": [],
   "source": [
    "file_path_train='gl_gr_train'\n",
    "file_path_test='gl_gr_test'\n",
    "file_path_all='gl_gr_all'\n",
    "\n",
    "glRatingsTrain['userID','bookID','rating'].export_csv(file_path_train,header=True,delimiter='\\t')\n",
    "glRatingsTest['userID','bookID','rating'].export_csv(file_path_test,header=True,delimiter='\\t')\n",
    "glRatings['userID','bookID','rating'].export_csv(file_path_all,header=True,delimiter='\\t')\n",
    "#glRatingsTrain = gl.SFrame.read_csv(file_path_train,header=True,delimiter='\\t')\n",
    "#glRatingsTest = gl.SFrame.read_csv(file_path_test,header=True,delimiter='\\t')"
   ]
  },
  {
   "cell_type": "code",
   "execution_count": 252,
   "metadata": {
    "collapsed": true
   },
   "outputs": [],
   "source": [
    "from surprise import SVD, KNNBaseline\n",
    "from surprise import Dataset, Reader\n",
    "from surprise import evaluate, GridSearch, print_perf"
   ]
  },
  {
   "cell_type": "code",
   "execution_count": 260,
   "metadata": {
    "collapsed": true
   },
   "outputs": [],
   "source": [
    "reader = Reader(line_format='user item rating', sep='\\t', skip_lines=1)\n",
    "surpriseTrain = Dataset.load_from_file(file_path_train, reader=reader).build_full_trainset()\n",
    "\n",
    "train_folds = Dataset.load_from_file(file_path_all, reader=reader)\n",
    "train_folds.split(5)"
   ]
  },
  {
   "cell_type": "code",
   "execution_count": 263,
   "metadata": {
    "scrolled": true
   },
   "outputs": [
    {
     "name": "stdout",
     "output_type": "stream",
     "text": [
      "------------\n",
      "Parameters combination 1 of 12\n",
      "params:  {'k': 10}\n",
      "Estimating biases using als...\n",
      "Computing the msd similarity matrix...\n",
      "Done computing similarity matrix.\n",
      "Estimating biases using als...\n",
      "Computing the msd similarity matrix...\n",
      "Done computing similarity matrix.\n",
      "Estimating biases using als...\n",
      "Computing the msd similarity matrix...\n",
      "Done computing similarity matrix.\n",
      "Estimating biases using als...\n",
      "Computing the msd similarity matrix...\n",
      "Done computing similarity matrix.\n",
      "Estimating biases using als...\n",
      "Computing the msd similarity matrix...\n",
      "Done computing similarity matrix.\n",
      "------------\n",
      "Mean RMSE: 0.9478\n",
      "Mean FCP : 0.6303\n",
      "------------\n",
      "------------\n",
      "Parameters combination 2 of 12\n",
      "params:  {'k': 15}\n",
      "Estimating biases using als...\n",
      "Computing the msd similarity matrix...\n",
      "Done computing similarity matrix.\n",
      "Estimating biases using als...\n",
      "Computing the msd similarity matrix...\n",
      "Done computing similarity matrix.\n",
      "Estimating biases using als...\n",
      "Computing the msd similarity matrix...\n",
      "Done computing similarity matrix.\n",
      "Estimating biases using als...\n",
      "Computing the msd similarity matrix...\n",
      "Done computing similarity matrix.\n",
      "Estimating biases using als...\n",
      "Computing the msd similarity matrix...\n",
      "Done computing similarity matrix.\n",
      "------------\n",
      "Mean RMSE: 0.9385\n",
      "Mean FCP : 0.6367\n",
      "------------\n",
      "------------\n",
      "Parameters combination 3 of 12\n",
      "params:  {'k': 20}\n",
      "Estimating biases using als...\n",
      "Computing the msd similarity matrix...\n",
      "Done computing similarity matrix.\n",
      "Estimating biases using als...\n",
      "Computing the msd similarity matrix...\n",
      "Done computing similarity matrix.\n",
      "Estimating biases using als...\n",
      "Computing the msd similarity matrix...\n",
      "Done computing similarity matrix.\n",
      "Estimating biases using als...\n",
      "Computing the msd similarity matrix...\n",
      "Done computing similarity matrix.\n",
      "Estimating biases using als...\n",
      "Computing the msd similarity matrix...\n",
      "Done computing similarity matrix.\n",
      "------------\n",
      "Mean RMSE: 0.9342\n",
      "Mean FCP : 0.6397\n",
      "------------\n",
      "------------\n",
      "Parameters combination 4 of 12\n",
      "params:  {'k': 25}\n",
      "Estimating biases using als...\n",
      "Computing the msd similarity matrix...\n",
      "Done computing similarity matrix.\n",
      "Estimating biases using als...\n",
      "Computing the msd similarity matrix...\n",
      "Done computing similarity matrix.\n",
      "Estimating biases using als...\n",
      "Computing the msd similarity matrix...\n",
      "Done computing similarity matrix.\n",
      "Estimating biases using als...\n",
      "Computing the msd similarity matrix...\n",
      "Done computing similarity matrix.\n",
      "Estimating biases using als...\n",
      "Computing the msd similarity matrix...\n",
      "Done computing similarity matrix.\n",
      "------------\n",
      "Mean RMSE: 0.9327\n",
      "Mean FCP : 0.6401\n",
      "------------\n",
      "------------\n",
      "Parameters combination 5 of 12\n",
      "params:  {'k': 30}\n",
      "Estimating biases using als...\n",
      "Computing the msd similarity matrix...\n",
      "Done computing similarity matrix.\n",
      "Estimating biases using als...\n",
      "Computing the msd similarity matrix...\n",
      "Done computing similarity matrix.\n",
      "Estimating biases using als...\n",
      "Computing the msd similarity matrix...\n",
      "Done computing similarity matrix.\n",
      "Estimating biases using als...\n",
      "Computing the msd similarity matrix...\n",
      "Done computing similarity matrix.\n",
      "Estimating biases using als...\n",
      "Computing the msd similarity matrix...\n",
      "Done computing similarity matrix.\n",
      "------------\n",
      "Mean RMSE: 0.9315\n",
      "Mean FCP : 0.6420\n",
      "------------\n",
      "------------\n",
      "Parameters combination 6 of 12\n",
      "params:  {'k': 35}\n",
      "Estimating biases using als...\n",
      "Computing the msd similarity matrix...\n",
      "Done computing similarity matrix.\n",
      "Estimating biases using als...\n",
      "Computing the msd similarity matrix...\n",
      "Done computing similarity matrix.\n",
      "Estimating biases using als...\n",
      "Computing the msd similarity matrix...\n",
      "Done computing similarity matrix.\n",
      "Estimating biases using als...\n",
      "Computing the msd similarity matrix...\n",
      "Done computing similarity matrix.\n",
      "Estimating biases using als...\n",
      "Computing the msd similarity matrix...\n",
      "Done computing similarity matrix.\n",
      "------------\n",
      "Mean RMSE: 0.9315\n",
      "Mean FCP : 0.6412\n",
      "------------\n",
      "------------\n",
      "Parameters combination 7 of 12\n",
      "params:  {'k': 40}\n",
      "Estimating biases using als...\n",
      "Computing the msd similarity matrix...\n",
      "Done computing similarity matrix.\n",
      "Estimating biases using als...\n",
      "Computing the msd similarity matrix...\n",
      "Done computing similarity matrix.\n",
      "Estimating biases using als...\n",
      "Computing the msd similarity matrix...\n",
      "Done computing similarity matrix.\n",
      "Estimating biases using als...\n",
      "Computing the msd similarity matrix...\n",
      "Done computing similarity matrix.\n",
      "Estimating biases using als...\n",
      "Computing the msd similarity matrix...\n",
      "Done computing similarity matrix.\n",
      "------------\n",
      "Mean RMSE: 0.9312\n",
      "Mean FCP : 0.6415\n",
      "------------\n",
      "------------\n",
      "Parameters combination 8 of 12\n",
      "params:  {'k': 45}\n",
      "Estimating biases using als...\n",
      "Computing the msd similarity matrix...\n",
      "Done computing similarity matrix.\n",
      "Estimating biases using als...\n",
      "Computing the msd similarity matrix...\n",
      "Done computing similarity matrix.\n",
      "Estimating biases using als...\n",
      "Computing the msd similarity matrix...\n",
      "Done computing similarity matrix.\n",
      "Estimating biases using als...\n",
      "Computing the msd similarity matrix...\n",
      "Done computing similarity matrix.\n",
      "Estimating biases using als...\n",
      "Computing the msd similarity matrix...\n",
      "Done computing similarity matrix.\n",
      "------------\n",
      "Mean RMSE: 0.9310\n",
      "Mean FCP : 0.6415\n",
      "------------\n",
      "------------\n",
      "Parameters combination 9 of 12\n",
      "params:  {'k': 50}\n",
      "Estimating biases using als...\n",
      "Computing the msd similarity matrix...\n",
      "Done computing similarity matrix.\n",
      "Estimating biases using als...\n",
      "Computing the msd similarity matrix...\n",
      "Done computing similarity matrix.\n",
      "Estimating biases using als...\n",
      "Computing the msd similarity matrix...\n",
      "Done computing similarity matrix.\n",
      "Estimating biases using als...\n",
      "Computing the msd similarity matrix...\n",
      "Done computing similarity matrix.\n",
      "Estimating biases using als...\n",
      "Computing the msd similarity matrix...\n",
      "Done computing similarity matrix.\n",
      "------------\n",
      "Mean RMSE: 0.9309\n",
      "Mean FCP : 0.6417\n",
      "------------\n",
      "------------\n",
      "Parameters combination 10 of 12\n",
      "params:  {'k': 55}\n",
      "Estimating biases using als...\n",
      "Computing the msd similarity matrix...\n",
      "Done computing similarity matrix.\n",
      "Estimating biases using als...\n",
      "Computing the msd similarity matrix...\n",
      "Done computing similarity matrix.\n",
      "Estimating biases using als...\n",
      "Computing the msd similarity matrix...\n",
      "Done computing similarity matrix.\n",
      "Estimating biases using als...\n",
      "Computing the msd similarity matrix...\n",
      "Done computing similarity matrix.\n",
      "Estimating biases using als...\n",
      "Computing the msd similarity matrix...\n",
      "Done computing similarity matrix.\n",
      "------------\n",
      "Mean RMSE: 0.9310\n",
      "Mean FCP : 0.6423\n",
      "------------\n",
      "------------\n",
      "Parameters combination 11 of 12\n",
      "params:  {'k': 60}\n",
      "Estimating biases using als...\n",
      "Computing the msd similarity matrix...\n",
      "Done computing similarity matrix.\n",
      "Estimating biases using als...\n",
      "Computing the msd similarity matrix...\n",
      "Done computing similarity matrix.\n",
      "Estimating biases using als...\n",
      "Computing the msd similarity matrix...\n",
      "Done computing similarity matrix.\n",
      "Estimating biases using als...\n",
      "Computing the msd similarity matrix...\n",
      "Done computing similarity matrix.\n",
      "Estimating biases using als...\n",
      "Computing the msd similarity matrix...\n",
      "Done computing similarity matrix.\n",
      "------------\n",
      "Mean RMSE: 0.9315\n",
      "Mean FCP : 0.6409\n",
      "------------\n",
      "------------\n",
      "Parameters combination 12 of 12\n",
      "params:  {'k': 65}\n",
      "Estimating biases using als...\n",
      "Computing the msd similarity matrix...\n",
      "Done computing similarity matrix.\n",
      "Estimating biases using als...\n",
      "Computing the msd similarity matrix...\n",
      "Done computing similarity matrix.\n",
      "Estimating biases using als...\n",
      "Computing the msd similarity matrix...\n",
      "Done computing similarity matrix.\n",
      "Estimating biases using als...\n",
      "Computing the msd similarity matrix...\n",
      "Done computing similarity matrix.\n",
      "Estimating biases using als...\n",
      "Computing the msd similarity matrix...\n",
      "Done computing similarity matrix.\n",
      "------------\n",
      "Mean RMSE: 0.9318\n",
      "Mean FCP : 0.6398\n",
      "------------\n"
     ]
    }
   ],
   "source": [
    "kNNBaseline_GridSearch = GridSearch(KNNBaseline, {'k':range(10,70,5)}, measures=['rmse','fcp'])\n",
    "kNNBaseline_GridSearch.evaluate(train_folds)"
   ]
  },
  {
   "cell_type": "code",
   "execution_count": 264,
   "metadata": {},
   "outputs": [
    {
     "data": {
      "text/plain": [
       "[<matplotlib.lines.Line2D at 0x7fb648456390>]"
      ]
     },
     "execution_count": 264,
     "metadata": {},
     "output_type": "execute_result"
    },
    {
     "data": {
      "image/png": "[encoded data removed]",
      "text/plain": [
       "<matplotlib.figure.Figure at 0x7fb640f91390>"
      ]
     },
     "metadata": {},
     "output_type": "display_data"
    }
   ],
   "source": [
    "plt.figure(figsize=(10,6))\n",
    "plt.subplot(121)\n",
    "plt.plot([kNNBaseline_GridSearch.cv_results['params'][i]['k'] for i in range(12)],\n",
    "        [kNNBaseline_GridSearch.cv_results['scores'][i]['RMSE'] for i in range(12)])\n",
    "plt.subplot(122)\n",
    "plt.plot([kNNBaseline_GridSearch.cv_results['params'][i]['k'] for i in range(12)],\n",
    "        [kNNBaseline_GridSearch.cv_results['scores'][i]['FCP'] for i in range(12)])"
   ]
  },
  {
   "cell_type": "code",
   "execution_count": 265,
   "metadata": {},
   "outputs": [
    {
     "name": "stdout",
     "output_type": "stream",
     "text": [
      "Estimating biases using als...\n",
      "Computing the msd similarity matrix...\n",
      "Done computing similarity matrix.\n"
     ]
    },
    {
     "data": {
      "text/plain": [
       "0.9096383138000893"
      ]
     },
     "execution_count": 265,
     "metadata": {},
     "output_type": "execute_result"
    }
   ],
   "source": [
    "gr_KNNBaseline = KNNBaseline(k=kNNBaseline_GridSearch.best_params['rmse']['k'])\n",
    "\n",
    "gr_KNNBaseline.train(surpriseTrain)\n",
    "\n",
    "\n",
    "preds=[gr_KNNBaseline.predict(str(row['userID']),str(row['bookID']),row['rating']) for row in glRatingsTest]\n",
    "preds_est = np.array([preds[i].est for i in range(len(preds))])\n",
    "preds_true = np.array([preds[i].r_ui for i in range(len(preds))])\n",
    "\n",
    "errs = preds_true - preds_est\n",
    "rmse = np.sqrt((errs**2).mean())\n",
    "rmse"
   ]
  },
  {
   "cell_type": "code",
   "execution_count": 257,
   "metadata": {
    "scrolled": true
   },
   "outputs": [
    {
     "name": "stdout",
     "output_type": "stream",
     "text": [
      "------------\n",
      "Parameters combination 1 of 12\n",
      "params:  {'lr_all': 0.001, 'reg_all': 0.01, 'n_factors': 2, 'n_epochs': 200}\n",
      "------------\n",
      "Mean RMSE: 0.9399\n",
      "Mean FCP : 0.6192\n",
      "------------\n",
      "------------\n",
      "Parameters combination 2 of 12\n",
      "params:  {'lr_all': 0.001, 'reg_all': 0.01, 'n_factors': 20, 'n_epochs': 200}\n",
      "------------\n",
      "Mean RMSE: 0.9484\n",
      "Mean FCP : 0.6118\n",
      "------------\n",
      "------------\n",
      "Parameters combination 3 of 12\n",
      "params:  {'lr_all': 0.001, 'reg_all': 0.01, 'n_factors': 80, 'n_epochs': 200}\n",
      "------------\n",
      "Mean RMSE: 0.9555\n",
      "Mean FCP : 0.6152\n",
      "------------\n",
      "------------\n",
      "Parameters combination 4 of 12\n",
      "params:  {'lr_all': 0.001, 'reg_all': 0.001, 'n_factors': 2, 'n_epochs': 200}\n",
      "------------\n",
      "Mean RMSE: 0.9445\n",
      "Mean FCP : 0.6156\n",
      "------------\n",
      "------------\n",
      "Parameters combination 5 of 12\n",
      "params:  {'lr_all': 0.001, 'reg_all': 0.001, 'n_factors': 20, 'n_epochs': 200}\n",
      "------------\n",
      "Mean RMSE: 0.9566\n",
      "Mean FCP : 0.6135\n",
      "------------\n",
      "------------\n",
      "Parameters combination 6 of 12\n",
      "params:  {'lr_all': 0.001, 'reg_all': 0.001, 'n_factors': 80, 'n_epochs': 200}\n",
      "------------\n",
      "Mean RMSE: 0.9605\n",
      "Mean FCP : 0.6116\n",
      "------------\n",
      "------------\n",
      "Parameters combination 7 of 12\n",
      "params:  {'lr_all': 0.0001, 'reg_all': 0.01, 'n_factors': 2, 'n_epochs': 200}\n",
      "------------\n",
      "Mean RMSE: 0.9592\n",
      "Mean FCP : 0.6062\n",
      "------------\n",
      "------------\n",
      "Parameters combination 8 of 12\n",
      "params:  {'lr_all': 0.0001, 'reg_all': 0.01, 'n_factors': 20, 'n_epochs': 200}\n",
      "------------\n",
      "Mean RMSE: 0.9598\n",
      "Mean FCP : 0.6024\n",
      "------------\n",
      "------------\n",
      "Parameters combination 9 of 12\n",
      "params:  {'lr_all': 0.0001, 'reg_all': 0.01, 'n_factors': 80, 'n_epochs': 200}\n",
      "------------\n",
      "Mean RMSE: 0.9635\n",
      "Mean FCP : 0.5958\n",
      "------------\n",
      "------------\n",
      "Parameters combination 10 of 12\n",
      "params:  {'lr_all': 0.0001, 'reg_all': 0.001, 'n_factors': 2, 'n_epochs': 200}\n",
      "------------\n",
      "Mean RMSE: 0.9593\n",
      "Mean FCP : 0.6073\n",
      "------------\n",
      "------------\n",
      "Parameters combination 11 of 12\n",
      "params:  {'lr_all': 0.0001, 'reg_all': 0.001, 'n_factors': 20, 'n_epochs': 200}\n",
      "------------\n",
      "Mean RMSE: 0.9605\n",
      "Mean FCP : 0.6011\n",
      "------------\n",
      "------------\n",
      "Parameters combination 12 of 12\n",
      "params:  {'lr_all': 0.0001, 'reg_all': 0.001, 'n_factors': 80, 'n_epochs': 200}\n",
      "------------\n",
      "Mean RMSE: 0.9630\n",
      "Mean FCP : 0.5942\n",
      "------------\n"
     ]
    }
   ],
   "source": [
    "SVD_GridSearch = GridSearch(SVD, {'n_factors': [2,20,80], 'reg_all': [1e-2,1e-3],\n",
    "                                  'n_epochs':[200], 'lr_all': [1e-3,1e-4]}, \n",
    "                            measures=['rmse','fcp'])\n",
    "SVD_GridSearch.evaluate(train_folds)"
   ]
  },
  {
   "cell_type": "code",
   "execution_count": 258,
   "metadata": {},
   "outputs": [
    {
     "name": "stdout",
     "output_type": "stream",
     "text": [
      "+----------------+----------------+--------+-----------+---------+\n",
      "|      FCP       |      RMSE      | lr_all | n_factors | reg_all |\n",
      "+----------------+----------------+--------+-----------+---------+\n",
      "| 0.619165894711 | 0.939940088448 | 0.001  |     2     |   0.01  |\n",
      "| 0.615586750004 | 0.944476152799 | 0.001  |     2     |  0.001  |\n",
      "| 0.611790482744 | 0.948389293751 | 0.001  |     20    |   0.01  |\n",
      "| 0.615166501414 | 0.955549029095 | 0.001  |     80    |   0.01  |\n",
      "| 0.613494850398 | 0.956551866543 | 0.001  |     20    |  0.001  |\n",
      "| 0.606217027831 | 0.959206814845 | 0.0001 |     2     |   0.01  |\n",
      "| 0.607307151311 | 0.959301105976 | 0.0001 |     2     |  0.001  |\n",
      "| 0.602427205532 | 0.959799600507 | 0.0001 |     20    |   0.01  |\n",
      "| 0.601136830545 |  0.9605012361  | 0.0001 |     20    |  0.001  |\n",
      "| 0.611581382287 | 0.960530790463 | 0.001  |     80    |  0.001  |\n",
      "| 0.594188716894 | 0.963041832645 | 0.0001 |     80    |  0.001  |\n",
      "| 0.595790559296 | 0.963539639718 | 0.0001 |     80    |   0.01  |\n",
      "+----------------+----------------+--------+-----------+---------+\n",
      "[12 rows x 5 columns]\n",
      "\n"
     ]
    }
   ],
   "source": [
    "#[d1.update(SVD_GridSearch.param_combinations[i]) for i, d1 in enumerate(SVD_GridSearch.param_combinations)]\n",
    "gl.SFrame({'reg_all': SVD_GridSearch.cv_results['reg_all'], 'n_factors': [d['n_factors'] for d in SVD_GridSearch.cv_results['params']],\n",
    "         'lr_all': SVD_GridSearch.cv_results['lr_all'],\n",
    "           'RMSE': [s['RMSE'] for s in SVD_GridSearch.cv_results['scores']],\n",
    "         'FCP': [s['FCP'] for s in SVD_GridSearch.cv_results['scores']]}).sort('RMSE').print_rows(24)"
   ]
  },
  {
   "cell_type": "code",
   "execution_count": 266,
   "metadata": {},
   "outputs": [
    {
     "data": {
      "text/plain": [
       "0.92415201536741598"
      ]
     },
     "execution_count": 266,
     "metadata": {},
     "output_type": "execute_result"
    }
   ],
   "source": [
    "#gr_SVD = SVD(lr_all=0.001, n_epochs=200, n_factors=80, reg_all=0.005)\n",
    "gr_SVD = SVD_GridSearch.best_estimator['rmse']\n",
    "gr_SVD.train(surpriseTrain)\n",
    "\n",
    "\n",
    "preds=[gr_SVD.predict(str(row['userID']),str(row['bookID']),row['rating']) for row in glRatingsTest]\n",
    "preds_est = np.array([preds[i].est for i in range(len(preds))])\n",
    "preds_true = np.array([preds[i].r_ui for i in range(len(preds))])\n",
    "\n",
    "errs = preds_true - preds_est\n",
    "rmse = np.sqrt((errs**2).mean())\n",
    "rmse"
   ]
  },
  {
   "cell_type": "code",
   "execution_count": null,
   "metadata": {},
   "outputs": [],
   "source": [
    "epochs = [5, 20, 50, 100, 200, 400, 800, 1600]\n",
    "rmses = []\n",
    "\n",
    "for ep in epochs:\n",
    "    gr_SVD = SVD(lr_all=0.001, n_epochs=ep, n_factors=80, reg_all=0.02, reg_bu=1e-8, reg_bi=1e-8)\n",
    "    \n",
    "    gr_SVD.train(surpriseTrain)\n",
    "\n",
    "    preds=[gr_SVD.predict(str(row['userID']),str(row['bookID']),row['rating']) for row in glRatingsTest]\n",
    "    preds_est = np.array([preds[i].est for i in range(len(preds))])\n",
    "    preds_true = np.array([preds[i].r_ui for i in range(len(preds))])\n",
    "\n",
    "    errs = preds_true - preds_est\n",
    "    rmse = np.sqrt((errs**2).mean())\n",
    "    rmses.append(rmse)"
   ]
  },
  {
   "cell_type": "code",
   "execution_count": null,
   "metadata": {},
   "outputs": [],
   "source": [
    "plt.plot(epochs,rmses)"
   ]
  },
  {
   "cell_type": "code",
   "execution_count": null,
   "metadata": {},
   "outputs": [],
   "source": [
    "rmses"
   ]
  },
  {
   "cell_type": "code",
   "execution_count": 747,
   "metadata": {},
   "outputs": [
    {
     "ename": "IndexError",
     "evalue": "list index out of range",
     "output_type": "error",
     "traceback": [
      "\u001b[0;31m---------------------------------------------------------------------------\u001b[0m",
      "\u001b[0;31mIndexError\u001b[0m                                Traceback (most recent call last)",
      "\u001b[0;32m<ipython-input-747-cb97eaded293>\u001b[0m in \u001b[0;36m<module>\u001b[0;34m()\u001b[0m\n\u001b[1;32m      8\u001b[0m     \u001b[0mloadings_argsort\u001b[0m \u001b[0;34m=\u001b[0m \u001b[0mnp\u001b[0m\u001b[0;34m.\u001b[0m\u001b[0margsort\u001b[0m\u001b[0;34m(\u001b[0m\u001b[0mfactor\u001b[0m\u001b[0;34m)\u001b[0m\u001b[0;34m\u001b[0m\u001b[0m\n\u001b[1;32m      9\u001b[0m     \u001b[0;32mfor\u001b[0m \u001b[0mj\u001b[0m \u001b[0;32min\u001b[0m \u001b[0mrange\u001b[0m\u001b[0;34m(\u001b[0m\u001b[0;36m5\u001b[0m\u001b[0;34m)\u001b[0m\u001b[0;34m:\u001b[0m\u001b[0;34m\u001b[0m\u001b[0m\n\u001b[0;32m---> 10\u001b[0;31m         \u001b[0;32mprint\u001b[0m \u001b[0mbookTitle\u001b[0m\u001b[0;34m(\u001b[0m\u001b[0mto_outer_iid\u001b[0m\u001b[0;34m[\u001b[0m\u001b[0mloadings_argsort\u001b[0m\u001b[0;34m[\u001b[0m\u001b[0mj\u001b[0m\u001b[0;34m]\u001b[0m\u001b[0;34m]\u001b[0m\u001b[0;34m)\u001b[0m\u001b[0;34m\u001b[0m\u001b[0m\n\u001b[0m\u001b[1;32m     11\u001b[0m         \u001b[0;32mprint\u001b[0m \u001b[0mfactor\u001b[0m\u001b[0;34m[\u001b[0m\u001b[0mloadings_argsort\u001b[0m\u001b[0;34m[\u001b[0m\u001b[0mj\u001b[0m\u001b[0;34m]\u001b[0m\u001b[0;34m]\u001b[0m\u001b[0;34m\u001b[0m\u001b[0m\n\u001b[1;32m     12\u001b[0m     \u001b[0;32mprint\u001b[0m \u001b[0;34m'\\n'\u001b[0m\u001b[0;34m\u001b[0m\u001b[0m\n",
      "\u001b[0;32m/home/ubuntu/goodreads_rating_prediction/src/scrape_explore.pyc\u001b[0m in \u001b[0;36mbookTitle\u001b[0;34m(bookID)\u001b[0m\n\u001b[1;32m     27\u001b[0m     \u001b[0msoup\u001b[0m \u001b[0;34m=\u001b[0m \u001b[0mBeautifulSoup\u001b[0m\u001b[0;34m(\u001b[0m\u001b[0mrequests\u001b[0m\u001b[0;34m.\u001b[0m\u001b[0mget\u001b[0m\u001b[0;34m(\u001b[0m\u001b[0murlBook\u001b[0m\u001b[0;34m,\u001b[0m\u001b[0mcookies\u001b[0m\u001b[0;34m=\u001b[0m\u001b[0mcookies\u001b[0m\u001b[0;34m(\u001b[0m\u001b[0;34m)\u001b[0m\u001b[0;34m)\u001b[0m\u001b[0;34m.\u001b[0m\u001b[0mcontent\u001b[0m\u001b[0;34m,\u001b[0m \u001b[0;34m'lxml'\u001b[0m\u001b[0;34m)\u001b[0m\u001b[0;34m\u001b[0m\u001b[0m\n\u001b[1;32m     28\u001b[0m \u001b[0;34m\u001b[0m\u001b[0m\n\u001b[0;32m---> 29\u001b[0;31m     \u001b[0mtitle\u001b[0m \u001b[0;34m=\u001b[0m \u001b[0msoup\u001b[0m\u001b[0;34m.\u001b[0m\u001b[0mselect\u001b[0m\u001b[0;34m(\u001b[0m\u001b[0;34m'.bookTitle'\u001b[0m\u001b[0;34m)\u001b[0m\u001b[0;34m[\u001b[0m\u001b[0;36m0\u001b[0m\u001b[0;34m]\u001b[0m\u001b[0;34m.\u001b[0m\u001b[0mtext\u001b[0m\u001b[0;34m.\u001b[0m\u001b[0mstrip\u001b[0m\u001b[0;34m(\u001b[0m\u001b[0;34m)\u001b[0m\u001b[0;34m\u001b[0m\u001b[0m\n\u001b[0m\u001b[1;32m     30\u001b[0m \u001b[0;34m\u001b[0m\u001b[0m\n\u001b[1;32m     31\u001b[0m     \u001b[0;32mtry\u001b[0m\u001b[0;34m:\u001b[0m\u001b[0;34m\u001b[0m\u001b[0m\n",
      "\u001b[0;31mIndexError\u001b[0m: list index out of range"
     ]
    }
   ],
   "source": [
    "to_outer_iid = {surpriseTrain.to_inner_iid(bID): bID for bID in glRatingsTrain['bookID']}\n",
    "\n",
    "\n",
    "factor_norms_sq = np.array([gr_SVD.qi[:,i].dot(gr_SVD.qi[:,i]) for i in range(80)])\n",
    "factor_argsort = np.argsort(factor_norms_sq)\n",
    "for i in range(1):\n",
    "    factor = gr_SVD.qi[:,factor_argsort[i]]\n",
    "    loadings_argsort = np.argsort(factor)\n",
    "    for j in range(5):\n",
    "        print bookTitle(to_outer_iid[loadings_argsort[j]])\n",
    "        print factor[loadings_argsort[j]]\n",
    "    print '\\n'\n",
    "    for j in range(5):\n",
    "        print bookTitle(to_outer_iid[loadings_argsort[::-1][j]])\n",
    "        print factor[loadings_argsort[::-1][j]]"
   ]
  },
  {
   "cell_type": "code",
   "execution_count": 745,
   "metadata": {},
   "outputs": [
    {
     "data": {
      "text/plain": [
       "array([ 20, 209, 203, ...,  39,  19, 132])"
      ]
     },
     "execution_count": 745,
     "metadata": {},
     "output_type": "execute_result"
    }
   ],
   "source": [
    "loadings_argsort"
   ]
  },
  {
   "cell_type": "markdown",
   "metadata": {},
   "source": [
    "SOCIAL MODELS"
   ]
  },
  {
   "cell_type": "code",
   "execution_count": 484,
   "metadata": {
    "collapsed": true
   },
   "outputs": [],
   "source": [
    "glCommMeansTrain, glCommBookMeansTrain, commMeansTrain, commBookMeansTrain = \\\n",
    "makeSocialModelInputs(glRatingsTrainWithComm)"
   ]
  },
  {
   "cell_type": "code",
   "execution_count": 644,
   "metadata": {
    "collapsed": true
   },
   "outputs": [],
   "source": [
    "numRatingsByUser = glRatingsTrain.groupby(['userID'], {'numRatings': gl.aggregate.COUNT('rating')})\n",
    "numRatingsByUserDict = defaultdict(int, {r['userID']: r['numRatings'] for r in numRatingsByUser})\n",
    "\n",
    "numRatingsByBook = glRatingsTrain.groupby(['bookID'], {'numRatings': gl.aggregate.COUNT('rating')})\n",
    "numRatingsByBookDict = defaultdict(int, {r['bookID']: r['numRatings'] for r in numRatingsByBook})\n",
    "\n",
    "numTrainRatings_Test = np.array(glRatingsTestWithComm['bookID'].apply(lambda x: numRatingsByBookDict[x]))"
   ]
  },
  {
   "cell_type": "code",
   "execution_count": 650,
   "metadata": {},
   "outputs": [
    {
     "data": {
      "text/plain": [
       "0.50606620188751883"
      ]
     },
     "execution_count": 650,
     "metadata": {},
     "output_type": "execute_result"
    },
    {
     "data": {
      "image/png": "[encoded data removed]",
      "text/plain": [
       "<matplotlib.figure.Figure at 0x7f0a04367dd0>"
      ]
     },
     "metadata": {},
     "output_type": "display_data"
    }
   ],
   "source": [
    "adjXmax = 100.\n",
    "adjX = numTrainRatings_Test.copy()\n",
    "adjX[adjX>adjXmax] = adjXmax\n",
    "adjWeights = np.tan(2.7*(adjX-(adjXmax/2))/adjXmax)\n",
    "adjWeights = adjWeights / (max(adjWeights)-min(adjWeights))\n",
    "adjWeights = adjWeights - min(adjWeights)\n",
    "\n",
    "#plt.plot(numTrainRatings_Test, adjWeights, 'o')\n",
    "plt.hist(adjWeights)\n",
    "np.median(adjWeights)"
   ]
  },
  {
   "cell_type": "code",
   "execution_count": 487,
   "metadata": {},
   "outputs": [
    {
     "data": {
      "text/plain": [
       "[<matplotlib.lines.Line2D at 0x7f09e85d7590>]"
      ]
     },
     "execution_count": 487,
     "metadata": {},
     "output_type": "execute_result"
    },
    {
     "data": {
      "image/png": "[encoded data removed]",
      "text/plain": [
       "<matplotlib.figure.Figure at 0x7f0a9c3eb150>"
      ]
     },
     "metadata": {},
     "output_type": "display_data"
    }
   ],
   "source": [
    "'''\n",
    "adjWeights=(100. - np.linspace(0,100,100))/100.\n",
    "adjWeights[adjWeights<0]=0\n",
    "adjWeights = adjWeights**(0.5)\n",
    "plt.plot(np.linspace(0,100,100), adjWeights)\n",
    "'''\n",
    "adjX = np.linspace(0,150,100)\n",
    "adjWeights = 0.5*(adjX<30) + 0.5*(adjX < 150)\n",
    "adjWeights2 = np.tan(-2.7*(adjX-75)/150)\n",
    "adjWeights2 = adjWeights2 / (2*max(adjWeights2))\n",
    "adjWeights2 = adjWeights2 - min(adjWeights2)\n",
    "plt.plot(adjX, adjWeights)\n",
    "plt.plot(adjX, adjWeights2)\n"
   ]
  },
  {
   "cell_type": "code",
   "execution_count": 658,
   "metadata": {},
   "outputs": [
    {
     "data": {
      "text/plain": [
       "'\\nrmsesFake = []\\n\\nfor weight in meanWeights:\\n    rmsesFake.append(                mixedPred(glRatingsTestFakeComms,                           fakeCommMeansTrain, fakeCommBookMeansTrain, fakeCommBookMeansTrain, rec_engine, rec_engine,                           numTrainRatings_Test,                          False, False, False, weight)[1])\\n\\n#FACTORIZING COMM MEANS\\nrmsesFac = []\\nfor weight in meanWeights:\\n    rmsesFac.append(                mixedPred(glRatingsTestWithComm,                           commMeansTrain, commBookMeansTrain, rec_engine_8, rec_engine_8                           commMeans_rec_engine_baseline, True, False, True, weight)[1])\\n'"
      ]
     },
     "execution_count": 658,
     "metadata": {},
     "output_type": "execute_result"
    }
   ],
   "source": [
    "rec_engine = surprisePredWrapper(gr_SVD)\n",
    "\n",
    "meanWeights = np.linspace(0,0.5,20)\n",
    "\n",
    "#SIMPLE PREDICTION FROM COMM MEANS\n",
    "\n",
    "rmsesSimpleNew = []\n",
    "\n",
    "for weight in meanWeights:\n",
    "    rmsesSimpleNew.append(\\\n",
    "                mixedPred(glRatingsTestWithComm, \\\n",
    "                          commMeansTrain, commBookMeansTrain, commBookMeansTrain, rec_engine, rec_engine, \\\n",
    "                          numTrainRatings_Test, \\\n",
    "                          False, False, True, weight)[1])\n",
    "\n",
    "\n",
    "'''\n",
    "#SIMPLE PREDICTION FROM COMM MEANS (no book means)\n",
    "rmsesSimpleNoBookMeans = []\n",
    "\n",
    "for weight in meanWeights:\n",
    "    rmsesSimpleNoBookMeans.append(\\\n",
    "                mixedPred(glRatingsTestWithComm, \\\n",
    "                          commMeansTrain, commBookMeansTrain, commBookMeansTrain, rec_engine, rec_engine, \\\n",
    "                          numTrainRatings_Test, \\\n",
    "                          False, False, False, weight)[1])\n",
    "\n",
    "trainSplitRmses.append(rmsesSimpleNoBookMeans)\n",
    "'''    \n",
    "#SANITY CHECK\n",
    "'''\n",
    "rmsesFake = []\n",
    "\n",
    "for weight in meanWeights:\n",
    "    rmsesFake.append(\\\n",
    "                mixedPred(glRatingsTestFakeComms, \\\n",
    "                          fakeCommMeansTrain, fakeCommBookMeansTrain, fakeCommBookMeansTrain, rec_engine, rec_engine, \\\n",
    "                          numTrainRatings_Test,\\\n",
    "                          False, False, False, weight)[1])\n",
    "\n",
    "#FACTORIZING COMM MEANS\n",
    "rmsesFac = []\n",
    "for weight in meanWeights:\n",
    "    rmsesFac.append(\\\n",
    "                mixedPred(glRatingsTestWithComm, \\\n",
    "                          commMeansTrain, commBookMeansTrain, rec_engine_8, rec_engine_8 \\\n",
    "                          commMeans_rec_engine_baseline, True, False, True, weight)[1])\n",
    "'''"
   ]
  },
  {
   "cell_type": "code",
   "execution_count": 663,
   "metadata": {},
   "outputs": [
    {
     "data": {
      "image/png": "[encoded data removed]",
      "text/plain": [
       "<matplotlib.figure.Figure at 0x7f0a0411c090>"
      ]
     },
     "metadata": {},
     "output_type": "display_data"
    }
   ],
   "source": [
    "plt.plot(meanWeights, rmsesSimple)\n",
    "optimalWeight = meanWeights[np.argmin(rmsesSimple)]"
   ]
  },
  {
   "cell_type": "code",
   "execution_count": 664,
   "metadata": {
    "collapsed": true
   },
   "outputs": [],
   "source": [
    "optimalPreds = pd.Series(mixedPred(glRatingsTestWithComm, \\\n",
    "                          commMeansTrain, commBookMeansTrain, commBookMeansTrain, rec_engine, rec_engine, \\\n",
    "                          numTrainRatings_Test, \\\n",
    "                          False, False, True, optimalWeight)[0])"
   ]
  },
  {
   "cell_type": "code",
   "execution_count": 665,
   "metadata": {},
   "outputs": [
    {
     "data": {
      "image/png": "[encoded data removed]",
      "text/plain": [
       "<matplotlib.figure.Figure at 0x7f0a0439f750>"
      ]
     },
     "metadata": {},
     "output_type": "display_data"
    }
   ],
   "source": [
    "plt.hist(glRatingsTest['rating'],normed=True,bins=[0.5,1.5,2.5,3.5,4.5,5.5],alpha=0.5);\n",
    "plt.hist(optimalPreds,normed=True,bins=[0.5,1.5,2.5,3.5,4.5,5.5],alpha=0.5,color='r');"
   ]
  },
  {
   "cell_type": "code",
   "execution_count": 666,
   "metadata": {},
   "outputs": [
    {
     "data": {
      "image/png": "[encoded data removed]",
      "text/plain": [
       "<matplotlib.figure.Figure at 0x7f09f12693d0>"
      ]
     },
     "metadata": {},
     "output_type": "display_data"
    }
   ],
   "source": [
    "preds_by_rating = []\n",
    "rating_cats = range(1,6)\n",
    "\n",
    "for rating in rating_cats:\n",
    "    preds_by_rating.append(list(optimalPreds[pd.Series(glRatingsTestWithComm['rating'] == rating).astype(bool)]))\n",
    "\n",
    "plt.violinplot(preds_by_rating, positions=rating_cats,showmeans=True);\n",
    "plt.plot([1,5],[1,5])\n",
    "plt.xlabel('Observed rating');\n",
    "plt.ylabel('Predicted rating');"
   ]
  },
  {
   "cell_type": "code",
   "execution_count": 337,
   "metadata": {},
   "outputs": [
    {
     "data": {
      "image/png": "[encoded data removed]",
      "text/plain": [
       "<matplotlib.figure.Figure at 0x7fdf941e9910>"
      ]
     },
     "metadata": {},
     "output_type": "display_data"
    }
   ],
   "source": [
    "preds_by_rating = []\n",
    "rating_cats = range(1,6)\n",
    "\n",
    "interval_eps = 0.001;\n",
    "transformed_rating_intervals = [(transformed_rating_dict[r] - 0.001, transformed_rating_dict[r] + 0.001)\\\n",
    "                                for r in rating_cats]\n",
    "\n",
    "for rating in rating_cats:\n",
    "    preds_by_rating.append(list(optimalPreds[pd.Series(glRatingsTestWithComm['rating'] == rating).astype(bool)]))\n",
    "\n",
    "plt.violinplot(preds_by_rating, positions=[transformed_rating_dict[r] for r in rating_cats],showmeans=True);\n",
    "plt.plot([min(transformed_rating_dict),max(transformed_rating_dict)],[min(transformed_rating_dict),max(transformed_rating_dict)])\n",
    "plt.xlabel('Observed rating');\n",
    "plt.ylabel('Predicted rating');"
   ]
  },
  {
   "cell_type": "code",
   "execution_count": 667,
   "metadata": {},
   "outputs": [
    {
     "data": {
      "image/png": "[encoded data removed]",
      "text/plain": [
       "<matplotlib.figure.Figure at 0x7f09f1237590>"
      ]
     },
     "metadata": {},
     "output_type": "display_data"
    }
   ],
   "source": [
    "plt.figure(figsize=(14,8))\n",
    "\n",
    "blueLabel = {0: 'Ensemble Models', 1: None, 2: None}\n",
    "greenLabel = defaultdict(lambda: None,{0: 'Fake Community Models'})\n",
    "\n",
    "for i, rmsesSimpleNoBookMeans in enumerate(trainSplitRmses):\n",
    "    plt.plot(meanWeights, rmsesSimpleNoBookMeans, '-', color='b', label=blueLabel[i], alpha=0.85);\n",
    "#plt.plot(meanWeights, rmsesFake, '-', label='Sanity check');\n",
    "plt.axhline(rmsesSimpleNoBookMeans[0],color='k',linestyle='--', label='Base Model');\n",
    "#plt.axhline(rmsesSimpleNoBookMeans[np.argmin(rmsesSimpleNoBookMeans)],linestyle='--',label='Best Combined Model')\n",
    "\n",
    "for i, curve in enumerate([curve for bootstrapRmsesFake in trainSplitRmsesFake for curve in bootstrapRmsesFake]):\n",
    "    plt.plot(meanWeights, curve, color='g', label=greenLabel[i], alpha=0.25)\n",
    "#plt.axhline(np.mean(bootstrapRmsesFake),linestyle='--',color='g',label='Mean Sanity Check Model')\n",
    "\n",
    "plt.xlabel('Ensemble weight',fontsize=16)\n",
    "plt.ylabel('RMSE',fontsize=16)\n",
    "plt.xticks(fontsize=14)\n",
    "plt.yticks(fontsize=14)\n",
    "plt.legend(loc='best',fontsize=16);"
   ]
  },
  {
   "cell_type": "code",
   "execution_count": 338,
   "metadata": {},
   "outputs": [
    {
     "name": "stdout",
     "output_type": "stream",
     "text": [
      "\n",
      "0.315789473684\n",
      "0.898996257624\n"
     ]
    }
   ],
   "source": [
    "#print meanWeights[np.argmin(rmsesFake)]\n",
    "#print rmsesFake[np.argmin(rmsesFake)]\n",
    "\n",
    "print ''\n",
    "\n",
    "print meanWeights[np.argmin(rmsesSimpleNoBookMeans)]\n",
    "print rmsesSimpleNoBookMeans[np.argmin(rmsesSimpleNoBookMeans)]"
   ]
  },
  {
   "cell_type": "markdown",
   "metadata": {},
   "source": [
    "USING COMMUNITY MEANS OF RECOMMENDER PREDICTIONS"
   ]
  },
  {
   "cell_type": "code",
   "execution_count": 208,
   "metadata": {
    "collapsed": true
   },
   "outputs": [],
   "source": [
    "test = [(bookID, userID) for bookID, userID in product(glRatings['bookID'].unique(), glRatings['userID'].unique())]"
   ]
  },
  {
   "cell_type": "code",
   "execution_count": 209,
   "metadata": {
    "collapsed": true
   },
   "outputs": [],
   "source": [
    "#test\n",
    "testDict = {}\n",
    "npTest = np.array(test)\n",
    "testDict['bookID'] = npTest[:,0]\n",
    "testDict['userID'] = npTest[:,1]\n",
    "sfTest = gl.SFrame(testDict)"
   ]
  },
  {
   "cell_type": "code",
   "execution_count": 210,
   "metadata": {
    "collapsed": true
   },
   "outputs": [],
   "source": [
    "allPreds = rec_engine.predict(sfTest)"
   ]
  },
  {
   "cell_type": "code",
   "execution_count": 211,
   "metadata": {},
   "outputs": [
    {
     "data": {
      "text/html": [
       "<div style=\"max-height:1000px;max-width:1500px;overflow:auto;\"><table frame=\"box\" rules=\"cols\">\n",
       "    <tr>\n",
       "        <th style=\"padding-left: 1em; padding-right: 1em; text-align: center\">bookID</th>\n",
       "        <th style=\"padding-left: 1em; padding-right: 1em; text-align: center\">userID</th>\n",
       "        <th style=\"padding-left: 1em; padding-right: 1em; text-align: center\">preds</th>\n",
       "    </tr>\n",
       "    <tr>\n",
       "        <td style=\"padding-left: 1em; padding-right: 1em; text-align: center; vertical-align: top\">1162543</td>\n",
       "        <td style=\"padding-left: 1em; padding-right: 1em; text-align: center; vertical-align: top\">32119</td>\n",
       "        <td style=\"padding-left: 1em; padding-right: 1em; text-align: center; vertical-align: top\">2.07435641835</td>\n",
       "    </tr>\n",
       "    <tr>\n",
       "        <td style=\"padding-left: 1em; padding-right: 1em; text-align: center; vertical-align: top\">1162543</td>\n",
       "        <td style=\"padding-left: 1em; padding-right: 1em; text-align: center; vertical-align: top\">271433</td>\n",
       "        <td style=\"padding-left: 1em; padding-right: 1em; text-align: center; vertical-align: top\">2.68663620884</td>\n",
       "    </tr>\n",
       "    <tr>\n",
       "        <td style=\"padding-left: 1em; padding-right: 1em; text-align: center; vertical-align: top\">1162543</td>\n",
       "        <td style=\"padding-left: 1em; padding-right: 1em; text-align: center; vertical-align: top\">5247</td>\n",
       "        <td style=\"padding-left: 1em; padding-right: 1em; text-align: center; vertical-align: top\">1.881069127</td>\n",
       "    </tr>\n",
       "    <tr>\n",
       "        <td style=\"padding-left: 1em; padding-right: 1em; text-align: center; vertical-align: top\">1162543</td>\n",
       "        <td style=\"padding-left: 1em; padding-right: 1em; text-align: center; vertical-align: top\">14871</td>\n",
       "        <td style=\"padding-left: 1em; padding-right: 1em; text-align: center; vertical-align: top\">2.45840641329</td>\n",
       "    </tr>\n",
       "    <tr>\n",
       "        <td style=\"padding-left: 1em; padding-right: 1em; text-align: center; vertical-align: top\">1162543</td>\n",
       "        <td style=\"padding-left: 1em; padding-right: 1em; text-align: center; vertical-align: top\">247244</td>\n",
       "        <td style=\"padding-left: 1em; padding-right: 1em; text-align: center; vertical-align: top\">2.21480927816</td>\n",
       "    </tr>\n",
       "    <tr>\n",
       "        <td style=\"padding-left: 1em; padding-right: 1em; text-align: center; vertical-align: top\">1162543</td>\n",
       "        <td style=\"padding-left: 1em; padding-right: 1em; text-align: center; vertical-align: top\">94602</td>\n",
       "        <td style=\"padding-left: 1em; padding-right: 1em; text-align: center; vertical-align: top\">2.3777080937</td>\n",
       "    </tr>\n",
       "    <tr>\n",
       "        <td style=\"padding-left: 1em; padding-right: 1em; text-align: center; vertical-align: top\">1162543</td>\n",
       "        <td style=\"padding-left: 1em; padding-right: 1em; text-align: center; vertical-align: top\">9169100</td>\n",
       "        <td style=\"padding-left: 1em; padding-right: 1em; text-align: center; vertical-align: top\">2.04542950553</td>\n",
       "    </tr>\n",
       "    <tr>\n",
       "        <td style=\"padding-left: 1em; padding-right: 1em; text-align: center; vertical-align: top\">1162543</td>\n",
       "        <td style=\"padding-left: 1em; padding-right: 1em; text-align: center; vertical-align: top\">11773284</td>\n",
       "        <td style=\"padding-left: 1em; padding-right: 1em; text-align: center; vertical-align: top\">3.02855442599</td>\n",
       "    </tr>\n",
       "    <tr>\n",
       "        <td style=\"padding-left: 1em; padding-right: 1em; text-align: center; vertical-align: top\">1162543</td>\n",
       "        <td style=\"padding-left: 1em; padding-right: 1em; text-align: center; vertical-align: top\">94664</td>\n",
       "        <td style=\"padding-left: 1em; padding-right: 1em; text-align: center; vertical-align: top\">2.71134952976</td>\n",
       "    </tr>\n",
       "    <tr>\n",
       "        <td style=\"padding-left: 1em; padding-right: 1em; text-align: center; vertical-align: top\">1162543</td>\n",
       "        <td style=\"padding-left: 1em; padding-right: 1em; text-align: center; vertical-align: top\">24243723</td>\n",
       "        <td style=\"padding-left: 1em; padding-right: 1em; text-align: center; vertical-align: top\">2.98973484204</td>\n",
       "    </tr>\n",
       "</table>\n",
       "[2107204 rows x 3 columns]<br/>Note: Only the head of the SFrame is printed.<br/>You can use print_rows(num_rows=m, num_columns=n) to print more rows and columns.\n",
       "</div>"
      ],
      "text/plain": [
       "Columns:\n",
       "\tbookID\tstr\n",
       "\tuserID\tstr\n",
       "\tpreds\tfloat\n",
       "\n",
       "Rows: 2107204\n",
       "\n",
       "Data:\n",
       "+---------+----------+---------------+\n",
       "|  bookID |  userID  |     preds     |\n",
       "+---------+----------+---------------+\n",
       "| 1162543 |  32119   | 2.07435641835 |\n",
       "| 1162543 |  271433  | 2.68663620884 |\n",
       "| 1162543 |   5247   |  1.881069127  |\n",
       "| 1162543 |  14871   | 2.45840641329 |\n",
       "| 1162543 |  247244  | 2.21480927816 |\n",
       "| 1162543 |  94602   |  2.3777080937 |\n",
       "| 1162543 | 9169100  | 2.04542950553 |\n",
       "| 1162543 | 11773284 | 3.02855442599 |\n",
       "| 1162543 |  94664   | 2.71134952976 |\n",
       "| 1162543 | 24243723 | 2.98973484204 |\n",
       "+---------+----------+---------------+\n",
       "[2107204 rows x 3 columns]\n",
       "Note: Only the head of the SFrame is printed.\n",
       "You can use print_rows(num_rows=m, num_columns=n) to print more rows and columns."
      ]
     },
     "execution_count": 211,
     "metadata": {},
     "output_type": "execute_result"
    }
   ],
   "source": [
    "sfTest.add_column(gl.SArray(allPreds), 'preds')"
   ]
  },
  {
   "cell_type": "code",
   "execution_count": 212,
   "metadata": {},
   "outputs": [
    {
     "data": {
      "text/html": [
       "<div style=\"max-height:1000px;max-width:1500px;overflow:auto;\"><table frame=\"box\" rules=\"cols\">\n",
       "    <tr>\n",
       "        <th style=\"padding-left: 1em; padding-right: 1em; text-align: center\">bookID</th>\n",
       "        <th style=\"padding-left: 1em; padding-right: 1em; text-align: center\">userID</th>\n",
       "        <th style=\"padding-left: 1em; padding-right: 1em; text-align: center\">preds</th>\n",
       "        <th style=\"padding-left: 1em; padding-right: 1em; text-align: center\">comm</th>\n",
       "    </tr>\n",
       "    <tr>\n",
       "        <td style=\"padding-left: 1em; padding-right: 1em; text-align: center; vertical-align: top\">1162543</td>\n",
       "        <td style=\"padding-left: 1em; padding-right: 1em; text-align: center; vertical-align: top\">32119</td>\n",
       "        <td style=\"padding-left: 1em; padding-right: 1em; text-align: center; vertical-align: top\">2.07435641835</td>\n",
       "        <td style=\"padding-left: 1em; padding-right: 1em; text-align: center; vertical-align: top\">8</td>\n",
       "    </tr>\n",
       "    <tr>\n",
       "        <td style=\"padding-left: 1em; padding-right: 1em; text-align: center; vertical-align: top\">1162543</td>\n",
       "        <td style=\"padding-left: 1em; padding-right: 1em; text-align: center; vertical-align: top\">271433</td>\n",
       "        <td style=\"padding-left: 1em; padding-right: 1em; text-align: center; vertical-align: top\">2.68663620884</td>\n",
       "        <td style=\"padding-left: 1em; padding-right: 1em; text-align: center; vertical-align: top\">51</td>\n",
       "    </tr>\n",
       "    <tr>\n",
       "        <td style=\"padding-left: 1em; padding-right: 1em; text-align: center; vertical-align: top\">1162543</td>\n",
       "        <td style=\"padding-left: 1em; padding-right: 1em; text-align: center; vertical-align: top\">5247</td>\n",
       "        <td style=\"padding-left: 1em; padding-right: 1em; text-align: center; vertical-align: top\">1.881069127</td>\n",
       "        <td style=\"padding-left: 1em; padding-right: 1em; text-align: center; vertical-align: top\">69</td>\n",
       "    </tr>\n",
       "    <tr>\n",
       "        <td style=\"padding-left: 1em; padding-right: 1em; text-align: center; vertical-align: top\">1162543</td>\n",
       "        <td style=\"padding-left: 1em; padding-right: 1em; text-align: center; vertical-align: top\">14871</td>\n",
       "        <td style=\"padding-left: 1em; padding-right: 1em; text-align: center; vertical-align: top\">2.45840641329</td>\n",
       "        <td style=\"padding-left: 1em; padding-right: 1em; text-align: center; vertical-align: top\">22</td>\n",
       "    </tr>\n",
       "    <tr>\n",
       "        <td style=\"padding-left: 1em; padding-right: 1em; text-align: center; vertical-align: top\">1162543</td>\n",
       "        <td style=\"padding-left: 1em; padding-right: 1em; text-align: center; vertical-align: top\">247244</td>\n",
       "        <td style=\"padding-left: 1em; padding-right: 1em; text-align: center; vertical-align: top\">2.21480927816</td>\n",
       "        <td style=\"padding-left: 1em; padding-right: 1em; text-align: center; vertical-align: top\">17</td>\n",
       "    </tr>\n",
       "    <tr>\n",
       "        <td style=\"padding-left: 1em; padding-right: 1em; text-align: center; vertical-align: top\">1162543</td>\n",
       "        <td style=\"padding-left: 1em; padding-right: 1em; text-align: center; vertical-align: top\">94602</td>\n",
       "        <td style=\"padding-left: 1em; padding-right: 1em; text-align: center; vertical-align: top\">2.3777080937</td>\n",
       "        <td style=\"padding-left: 1em; padding-right: 1em; text-align: center; vertical-align: top\">42</td>\n",
       "    </tr>\n",
       "    <tr>\n",
       "        <td style=\"padding-left: 1em; padding-right: 1em; text-align: center; vertical-align: top\">1162543</td>\n",
       "        <td style=\"padding-left: 1em; padding-right: 1em; text-align: center; vertical-align: top\">9169100</td>\n",
       "        <td style=\"padding-left: 1em; padding-right: 1em; text-align: center; vertical-align: top\">2.04542950553</td>\n",
       "        <td style=\"padding-left: 1em; padding-right: 1em; text-align: center; vertical-align: top\">64</td>\n",
       "    </tr>\n",
       "    <tr>\n",
       "        <td style=\"padding-left: 1em; padding-right: 1em; text-align: center; vertical-align: top\">1162543</td>\n",
       "        <td style=\"padding-left: 1em; padding-right: 1em; text-align: center; vertical-align: top\">11773284</td>\n",
       "        <td style=\"padding-left: 1em; padding-right: 1em; text-align: center; vertical-align: top\">3.02855442599</td>\n",
       "        <td style=\"padding-left: 1em; padding-right: 1em; text-align: center; vertical-align: top\">42</td>\n",
       "    </tr>\n",
       "    <tr>\n",
       "        <td style=\"padding-left: 1em; padding-right: 1em; text-align: center; vertical-align: top\">1162543</td>\n",
       "        <td style=\"padding-left: 1em; padding-right: 1em; text-align: center; vertical-align: top\">94664</td>\n",
       "        <td style=\"padding-left: 1em; padding-right: 1em; text-align: center; vertical-align: top\">2.71134952976</td>\n",
       "        <td style=\"padding-left: 1em; padding-right: 1em; text-align: center; vertical-align: top\">30</td>\n",
       "    </tr>\n",
       "    <tr>\n",
       "        <td style=\"padding-left: 1em; padding-right: 1em; text-align: center; vertical-align: top\">1162543</td>\n",
       "        <td style=\"padding-left: 1em; padding-right: 1em; text-align: center; vertical-align: top\">24243723</td>\n",
       "        <td style=\"padding-left: 1em; padding-right: 1em; text-align: center; vertical-align: top\">2.98973484204</td>\n",
       "        <td style=\"padding-left: 1em; padding-right: 1em; text-align: center; vertical-align: top\">44</td>\n",
       "    </tr>\n",
       "</table>\n",
       "[2107204 rows x 4 columns]<br/>Note: Only the head of the SFrame is printed.<br/>You can use print_rows(num_rows=m, num_columns=n) to print more rows and columns.\n",
       "</div>"
      ],
      "text/plain": [
       "Columns:\n",
       "\tbookID\tstr\n",
       "\tuserID\tstr\n",
       "\tpreds\tfloat\n",
       "\tcomm\tint\n",
       "\n",
       "Rows: 2107204\n",
       "\n",
       "Data:\n",
       "+---------+----------+---------------+------+\n",
       "|  bookID |  userID  |     preds     | comm |\n",
       "+---------+----------+---------------+------+\n",
       "| 1162543 |  32119   | 2.07435641835 |  8   |\n",
       "| 1162543 |  271433  | 2.68663620884 |  51  |\n",
       "| 1162543 |   5247   |  1.881069127  |  69  |\n",
       "| 1162543 |  14871   | 2.45840641329 |  22  |\n",
       "| 1162543 |  247244  | 2.21480927816 |  17  |\n",
       "| 1162543 |  94602   |  2.3777080937 |  42  |\n",
       "| 1162543 | 9169100  | 2.04542950553 |  64  |\n",
       "| 1162543 | 11773284 | 3.02855442599 |  42  |\n",
       "| 1162543 |  94664   | 2.71134952976 |  30  |\n",
       "| 1162543 | 24243723 | 2.98973484204 |  44  |\n",
       "+---------+----------+---------------+------+\n",
       "[2107204 rows x 4 columns]\n",
       "Note: Only the head of the SFrame is printed.\n",
       "You can use print_rows(num_rows=m, num_columns=n) to print more rows and columns."
      ]
     },
     "execution_count": 212,
     "metadata": {},
     "output_type": "execute_result"
    }
   ],
   "source": [
    "commDict = {uID: i for i, comm in enumerate(allComms) for uID in comm}\n",
    "\n",
    "sfTest.add_column(sfTest['userID'].apply(lambda x: commDict[int(x)]), 'comm')"
   ]
  },
  {
   "cell_type": "code",
   "execution_count": 213,
   "metadata": {},
   "outputs": [
    {
     "data": {
      "text/html": [
       "<div style=\"max-height:1000px;max-width:1500px;overflow:auto;\"><table frame=\"box\" rules=\"cols\">\n",
       "    <tr>\n",
       "        <th style=\"padding-left: 1em; padding-right: 1em; text-align: center\">bookID</th>\n",
       "        <th style=\"padding-left: 1em; padding-right: 1em; text-align: center\">comm</th>\n",
       "        <th style=\"padding-left: 1em; padding-right: 1em; text-align: center\">avgPreds</th>\n",
       "    </tr>\n",
       "    <tr>\n",
       "        <td style=\"padding-left: 1em; padding-right: 1em; text-align: center; vertical-align: top\">10569</td>\n",
       "        <td style=\"padding-left: 1em; padding-right: 1em; text-align: center; vertical-align: top\">55</td>\n",
       "        <td style=\"padding-left: 1em; padding-right: 1em; text-align: center; vertical-align: top\">4.25975653626</td>\n",
       "    </tr>\n",
       "    <tr>\n",
       "        <td style=\"padding-left: 1em; padding-right: 1em; text-align: center; vertical-align: top\">11278959</td>\n",
       "        <td style=\"padding-left: 1em; padding-right: 1em; text-align: center; vertical-align: top\">59</td>\n",
       "        <td style=\"padding-left: 1em; padding-right: 1em; text-align: center; vertical-align: top\">3.39406133016</td>\n",
       "    </tr>\n",
       "    <tr>\n",
       "        <td style=\"padding-left: 1em; padding-right: 1em; text-align: center; vertical-align: top\">28381</td>\n",
       "        <td style=\"padding-left: 1em; padding-right: 1em; text-align: center; vertical-align: top\">4</td>\n",
       "        <td style=\"padding-left: 1em; padding-right: 1em; text-align: center; vertical-align: top\">4.14808230681</td>\n",
       "    </tr>\n",
       "    <tr>\n",
       "        <td style=\"padding-left: 1em; padding-right: 1em; text-align: center; vertical-align: top\">17336704</td>\n",
       "        <td style=\"padding-left: 1em; padding-right: 1em; text-align: center; vertical-align: top\">24</td>\n",
       "        <td style=\"padding-left: 1em; padding-right: 1em; text-align: center; vertical-align: top\">3.5963875691</td>\n",
       "    </tr>\n",
       "    <tr>\n",
       "        <td style=\"padding-left: 1em; padding-right: 1em; text-align: center; vertical-align: top\">485894</td>\n",
       "        <td style=\"padding-left: 1em; padding-right: 1em; text-align: center; vertical-align: top\">49</td>\n",
       "        <td style=\"padding-left: 1em; padding-right: 1em; text-align: center; vertical-align: top\">3.72801938803</td>\n",
       "    </tr>\n",
       "    <tr>\n",
       "        <td style=\"padding-left: 1em; padding-right: 1em; text-align: center; vertical-align: top\">7937843</td>\n",
       "        <td style=\"padding-left: 1em; padding-right: 1em; text-align: center; vertical-align: top\">46</td>\n",
       "        <td style=\"padding-left: 1em; padding-right: 1em; text-align: center; vertical-align: top\">3.67293725445</td>\n",
       "    </tr>\n",
       "    <tr>\n",
       "        <td style=\"padding-left: 1em; padding-right: 1em; text-align: center; vertical-align: top\">33453</td>\n",
       "        <td style=\"padding-left: 1em; padding-right: 1em; text-align: center; vertical-align: top\">45</td>\n",
       "        <td style=\"padding-left: 1em; padding-right: 1em; text-align: center; vertical-align: top\">3.56789518135</td>\n",
       "    </tr>\n",
       "    <tr>\n",
       "        <td style=\"padding-left: 1em; padding-right: 1em; text-align: center; vertical-align: top\">420282</td>\n",
       "        <td style=\"padding-left: 1em; padding-right: 1em; text-align: center; vertical-align: top\">2</td>\n",
       "        <td style=\"padding-left: 1em; padding-right: 1em; text-align: center; vertical-align: top\">3.76337596362</td>\n",
       "    </tr>\n",
       "    <tr>\n",
       "        <td style=\"padding-left: 1em; padding-right: 1em; text-align: center; vertical-align: top\">17401600</td>\n",
       "        <td style=\"padding-left: 1em; padding-right: 1em; text-align: center; vertical-align: top\">60</td>\n",
       "        <td style=\"padding-left: 1em; padding-right: 1em; text-align: center; vertical-align: top\">4.35406963591</td>\n",
       "    </tr>\n",
       "    <tr>\n",
       "        <td style=\"padding-left: 1em; padding-right: 1em; text-align: center; vertical-align: top\">216363</td>\n",
       "        <td style=\"padding-left: 1em; padding-right: 1em; text-align: center; vertical-align: top\">4</td>\n",
       "        <td style=\"padding-left: 1em; padding-right: 1em; text-align: center; vertical-align: top\">3.57949151096</td>\n",
       "    </tr>\n",
       "</table>\n",
       "[135124 rows x 3 columns]<br/>Note: Only the head of the SFrame is printed.<br/>You can use print_rows(num_rows=m, num_columns=n) to print more rows and columns.\n",
       "</div>"
      ],
      "text/plain": [
       "Columns:\n",
       "\tbookID\tstr\n",
       "\tcomm\tint\n",
       "\tavgPreds\tfloat\n",
       "\n",
       "Rows: 135124\n",
       "\n",
       "Data:\n",
       "+----------+------+---------------+\n",
       "|  bookID  | comm |    avgPreds   |\n",
       "+----------+------+---------------+\n",
       "|  10569   |  55  | 4.25975653626 |\n",
       "| 11278959 |  59  | 3.39406133016 |\n",
       "|  28381   |  4   | 4.14808230681 |\n",
       "| 17336704 |  24  |  3.5963875691 |\n",
       "|  485894  |  49  | 3.72801938803 |\n",
       "| 7937843  |  46  | 3.67293725445 |\n",
       "|  33453   |  45  | 3.56789518135 |\n",
       "|  420282  |  2   | 3.76337596362 |\n",
       "| 17401600 |  60  | 4.35406963591 |\n",
       "|  216363  |  4   | 3.57949151096 |\n",
       "+----------+------+---------------+\n",
       "[135124 rows x 3 columns]\n",
       "Note: Only the head of the SFrame is printed.\n",
       "You can use print_rows(num_rows=m, num_columns=n) to print more rows and columns."
      ]
     },
     "execution_count": 213,
     "metadata": {},
     "output_type": "execute_result"
    }
   ],
   "source": [
    "sfTest[['bookID', 'preds', 'comm']].groupby(['bookID', 'comm'], {'avgPreds': gl.aggregate.AVG('preds')})"
   ]
  },
  {
   "cell_type": "code",
   "execution_count": 214,
   "metadata": {
    "collapsed": true
   },
   "outputs": [],
   "source": [
    "factorCommBookMeansTrain = {(row['bookID'], row['comm']):  row['preds'] for row in sfTest}"
   ]
  },
  {
   "cell_type": "code",
   "execution_count": 238,
   "metadata": {},
   "outputs": [
    {
     "data": {
      "text/plain": [
       "[<matplotlib.lines.Line2D at 0x7f0c480dea50>]"
      ]
     },
     "execution_count": 238,
     "metadata": {},
     "output_type": "execute_result"
    },
    {
     "data": {
      "image/png": "[encoded data removed]",
      "text/plain": [
       "<matplotlib.figure.Figure at 0x7f0ae83c8210>"
      ]
     },
     "metadata": {},
     "output_type": "display_data"
    }
   ],
   "source": [
    "meanWeights = np.linspace(0,1,20)\n",
    "\n",
    "#SIMPLE PREDICTION FROM COMM MEANS\n",
    "rmsesSimple = []\n",
    "\n",
    "for weight in meanWeights:\n",
    "    rmsesSimple.append(\\\n",
    "                mixedPred(glRatingsTestWithComm, \\\n",
    "                          commMeansTrain, commBookMeansTrain, commBookMeansTrain, rec_engine, rec_engine, \\\n",
    "                          numTrainRatings_Test, \\\n",
    "                          False, False, True, weight)[1])\n",
    "\n",
    "#SIMPLE PREDICTION FROM COMM MEANS (no book means)\n",
    "rmsesSimpleNoBookMeans = []\n",
    "\n",
    "for weight in meanWeights:\n",
    "    rmsesSimpleNoBookMeans.append(\\\n",
    "                mixedPred(glRatingsTestWithComm, \\\n",
    "                          commMeansTrain, commBookMeansTrain, commBookMeansTrain, rec_engine, rec_engine, \\\n",
    "                          numTrainRatings_Test, \\\n",
    "                          False, False, False, weight)[1])\n",
    "    \n",
    "#FACTORIZING COMM MEANS\n",
    "\n",
    "rmsesFac = []\n",
    "for weight in meanWeights:\n",
    "    rmsesFac.append(\\\n",
    "                mixedPred(glRatingsTestWithComm, \\\n",
    "                          commMeansTrain, commBookMeansTrain, factorCommBookMeansTrain, rec_engine, rec_engine, \\\n",
    "                          numTrainRatings_Test, \\\n",
    "                          True, False, True, weight)[1])\n",
    "\n",
    "plt.plot(meanWeights, rmsesSimple, '-');\n",
    "plt.plot(meanWeights, rmsesSimpleNoBookMeans, '-');\n",
    "plt.plot(meanWeights, rmsesFac, '-')"
   ]
  },
  {
   "cell_type": "code",
   "execution_count": 239,
   "metadata": {},
   "outputs": [
    {
     "name": "stdout",
     "output_type": "stream",
     "text": [
      "0.105263157895\n",
      "0.86507521851\n"
     ]
    }
   ],
   "source": [
    "print meanWeights[np.argmin(rmsesSimple)]\n",
    "print rmsesSimple[np.argmin(rmsesSimple)]"
   ]
  },
  {
   "cell_type": "code",
   "execution_count": 157,
   "metadata": {
    "collapsed": true
   },
   "outputs": [],
   "source": [
    "predsBase = np.array(rec_engine.predict(glRatingsTestWithComm['bookID', 'userID']))"
   ]
  },
  {
   "cell_type": "markdown",
   "metadata": {},
   "source": [
    "FACTORIZATION RECOMMENDER FOR RAW (COMMUNITY-BOOK-RATING) DATA"
   ]
  },
  {
   "cell_type": "code",
   "execution_count": 497,
   "metadata": {},
   "outputs": [
    {
     "data": {
      "text/html": [
       "<div style=\"max-height:1000px;max-width:1500px;overflow:auto;\"><table frame=\"box\" rules=\"cols\">\n",
       "    <tr>\n",
       "        <th style=\"padding-left: 1em; padding-right: 1em; text-align: center\">bookID</th>\n",
       "        <th style=\"padding-left: 1em; padding-right: 1em; text-align: center\">comm</th>\n",
       "        <th style=\"padding-left: 1em; padding-right: 1em; text-align: center\">rating</th>\n",
       "    </tr>\n",
       "    <tr>\n",
       "        <td style=\"padding-left: 1em; padding-right: 1em; text-align: center; vertical-align: top\">7937843</td>\n",
       "        <td style=\"padding-left: 1em; padding-right: 1em; text-align: center; vertical-align: top\">46</td>\n",
       "        <td style=\"padding-left: 1em; padding-right: 1em; text-align: center; vertical-align: top\">4.0</td>\n",
       "    </tr>\n",
       "    <tr>\n",
       "        <td style=\"padding-left: 1em; padding-right: 1em; text-align: center; vertical-align: top\">4407</td>\n",
       "        <td style=\"padding-left: 1em; padding-right: 1em; text-align: center; vertical-align: top\">30</td>\n",
       "        <td style=\"padding-left: 1em; padding-right: 1em; text-align: center; vertical-align: top\">3.0</td>\n",
       "    </tr>\n",
       "    <tr>\n",
       "        <td style=\"padding-left: 1em; padding-right: 1em; text-align: center; vertical-align: top\">64582</td>\n",
       "        <td style=\"padding-left: 1em; padding-right: 1em; text-align: center; vertical-align: top\">46</td>\n",
       "        <td style=\"padding-left: 1em; padding-right: 1em; text-align: center; vertical-align: top\">4.0</td>\n",
       "    </tr>\n",
       "    <tr>\n",
       "        <td style=\"padding-left: 1em; padding-right: 1em; text-align: center; vertical-align: top\">20910157</td>\n",
       "        <td style=\"padding-left: 1em; padding-right: 1em; text-align: center; vertical-align: top\">41</td>\n",
       "        <td style=\"padding-left: 1em; padding-right: 1em; text-align: center; vertical-align: top\">3.0</td>\n",
       "    </tr>\n",
       "    <tr>\n",
       "        <td style=\"padding-left: 1em; padding-right: 1em; text-align: center; vertical-align: top\">7770</td>\n",
       "        <td style=\"padding-left: 1em; padding-right: 1em; text-align: center; vertical-align: top\">58</td>\n",
       "        <td style=\"padding-left: 1em; padding-right: 1em; text-align: center; vertical-align: top\">5.0</td>\n",
       "    </tr>\n",
       "    <tr>\n",
       "        <td style=\"padding-left: 1em; padding-right: 1em; text-align: center; vertical-align: top\">2429135</td>\n",
       "        <td style=\"padding-left: 1em; padding-right: 1em; text-align: center; vertical-align: top\">46</td>\n",
       "        <td style=\"padding-left: 1em; padding-right: 1em; text-align: center; vertical-align: top\">3.5</td>\n",
       "    </tr>\n",
       "    <tr>\n",
       "        <td style=\"padding-left: 1em; padding-right: 1em; text-align: center; vertical-align: top\">4953</td>\n",
       "        <td style=\"padding-left: 1em; padding-right: 1em; text-align: center; vertical-align: top\">23</td>\n",
       "        <td style=\"padding-left: 1em; padding-right: 1em; text-align: center; vertical-align: top\">2.0</td>\n",
       "    </tr>\n",
       "    <tr>\n",
       "        <td style=\"padding-left: 1em; padding-right: 1em; text-align: center; vertical-align: top\">116257</td>\n",
       "        <td style=\"padding-left: 1em; padding-right: 1em; text-align: center; vertical-align: top\">75</td>\n",
       "        <td style=\"padding-left: 1em; padding-right: 1em; text-align: center; vertical-align: top\">4.5</td>\n",
       "    </tr>\n",
       "    <tr>\n",
       "        <td style=\"padding-left: 1em; padding-right: 1em; text-align: center; vertical-align: top\">10441</td>\n",
       "        <td style=\"padding-left: 1em; padding-right: 1em; text-align: center; vertical-align: top\">49</td>\n",
       "        <td style=\"padding-left: 1em; padding-right: 1em; text-align: center; vertical-align: top\">2.0</td>\n",
       "    </tr>\n",
       "    <tr>\n",
       "        <td style=\"padding-left: 1em; padding-right: 1em; text-align: center; vertical-align: top\">5355</td>\n",
       "        <td style=\"padding-left: 1em; padding-right: 1em; text-align: center; vertical-align: top\">13</td>\n",
       "        <td style=\"padding-left: 1em; padding-right: 1em; text-align: center; vertical-align: top\">4.0</td>\n",
       "    </tr>\n",
       "</table>\n",
       "[21141 rows x 3 columns]<br/>Note: Only the head of the SFrame is printed.<br/>You can use print_rows(num_rows=m, num_columns=n) to print more rows and columns.\n",
       "</div>"
      ],
      "text/plain": [
       "Columns:\n",
       "\tbookID\tstr\n",
       "\tcomm\tint\n",
       "\trating\tfloat\n",
       "\n",
       "Rows: 21141\n",
       "\n",
       "Data:\n",
       "+----------+------+--------+\n",
       "|  bookID  | comm | rating |\n",
       "+----------+------+--------+\n",
       "| 7937843  |  46  |  4.0   |\n",
       "|   4407   |  30  |  3.0   |\n",
       "|  64582   |  46  |  4.0   |\n",
       "| 20910157 |  41  |  3.0   |\n",
       "|   7770   |  58  |  5.0   |\n",
       "| 2429135  |  46  |  3.5   |\n",
       "|   4953   |  23  |  2.0   |\n",
       "|  116257  |  75  |  4.5   |\n",
       "|  10441   |  49  |  2.0   |\n",
       "|   5355   |  13  |  4.0   |\n",
       "+----------+------+--------+\n",
       "[21141 rows x 3 columns]\n",
       "Note: Only the head of the SFrame is printed.\n",
       "You can use print_rows(num_rows=m, num_columns=n) to print more rows and columns."
      ]
     },
     "execution_count": 497,
     "metadata": {},
     "output_type": "execute_result"
    }
   ],
   "source": [
    "#glCommTrain = glRatingsTrainWithComm.copy()['bookID', 'comm', 'rating']\n",
    "#glCommTest = glRatingsTestWithComm.copy()['bookID', 'comm', 'rating']\n",
    "glCommTrain = glCommBookMeansTrain.copy()\n",
    "\n",
    "glCommTrain['rating'] = glCommTrain['meanBookRatingByComm']\n",
    "glCommTrain.remove_column('meanBookRatingByComm')"
   ]
  },
  {
   "cell_type": "code",
   "execution_count": 498,
   "metadata": {},
   "outputs": [
    {
     "data": {
      "text/html": [
       "<div style=\"max-height:1000px;max-width:1500px;overflow:auto;\"><table frame=\"box\" rules=\"cols\">\n",
       "    <tr>\n",
       "        <th style=\"padding-left: 1em; padding-right: 1em; text-align: center\">bookID</th>\n",
       "        <th style=\"padding-left: 1em; padding-right: 1em; text-align: center\">comm</th>\n",
       "        <th style=\"padding-left: 1em; padding-right: 1em; text-align: center\">rating</th>\n",
       "    </tr>\n",
       "    <tr>\n",
       "        <td style=\"padding-left: 1em; padding-right: 1em; text-align: center; vertical-align: top\">485894</td>\n",
       "        <td style=\"padding-left: 1em; padding-right: 1em; text-align: center; vertical-align: top\">49</td>\n",
       "        <td style=\"padding-left: 1em; padding-right: 1em; text-align: center; vertical-align: top\">3.0</td>\n",
       "    </tr>\n",
       "    <tr>\n",
       "        <td style=\"padding-left: 1em; padding-right: 1em; text-align: center; vertical-align: top\">5043</td>\n",
       "        <td style=\"padding-left: 1em; padding-right: 1em; text-align: center; vertical-align: top\">24</td>\n",
       "        <td style=\"padding-left: 1em; padding-right: 1em; text-align: center; vertical-align: top\">3.0</td>\n",
       "    </tr>\n",
       "    <tr>\n",
       "        <td style=\"padding-left: 1em; padding-right: 1em; text-align: center; vertical-align: top\">10441</td>\n",
       "        <td style=\"padding-left: 1em; padding-right: 1em; text-align: center; vertical-align: top\">49</td>\n",
       "        <td style=\"padding-left: 1em; padding-right: 1em; text-align: center; vertical-align: top\">3.0</td>\n",
       "    </tr>\n",
       "    <tr>\n",
       "        <td style=\"padding-left: 1em; padding-right: 1em; text-align: center; vertical-align: top\">1</td>\n",
       "        <td style=\"padding-left: 1em; padding-right: 1em; text-align: center; vertical-align: top\">4</td>\n",
       "        <td style=\"padding-left: 1em; padding-right: 1em; text-align: center; vertical-align: top\">4.0</td>\n",
       "    </tr>\n",
       "    <tr>\n",
       "        <td style=\"padding-left: 1em; padding-right: 1em; text-align: center; vertical-align: top\">4137</td>\n",
       "        <td style=\"padding-left: 1em; padding-right: 1em; text-align: center; vertical-align: top\">60</td>\n",
       "        <td style=\"padding-left: 1em; padding-right: 1em; text-align: center; vertical-align: top\">4.0</td>\n",
       "    </tr>\n",
       "    <tr>\n",
       "        <td style=\"padding-left: 1em; padding-right: 1em; text-align: center; vertical-align: top\">37442</td>\n",
       "        <td style=\"padding-left: 1em; padding-right: 1em; text-align: center; vertical-align: top\">13</td>\n",
       "        <td style=\"padding-left: 1em; padding-right: 1em; text-align: center; vertical-align: top\">3.0</td>\n",
       "    </tr>\n",
       "    <tr>\n",
       "        <td style=\"padding-left: 1em; padding-right: 1em; text-align: center; vertical-align: top\">8337</td>\n",
       "        <td style=\"padding-left: 1em; padding-right: 1em; text-align: center; vertical-align: top\">69</td>\n",
       "        <td style=\"padding-left: 1em; padding-right: 1em; text-align: center; vertical-align: top\">5.0</td>\n",
       "    </tr>\n",
       "    <tr>\n",
       "        <td style=\"padding-left: 1em; padding-right: 1em; text-align: center; vertical-align: top\">21</td>\n",
       "        <td style=\"padding-left: 1em; padding-right: 1em; text-align: center; vertical-align: top\">49</td>\n",
       "        <td style=\"padding-left: 1em; padding-right: 1em; text-align: center; vertical-align: top\">5.0</td>\n",
       "    </tr>\n",
       "    <tr>\n",
       "        <td style=\"padding-left: 1em; padding-right: 1em; text-align: center; vertical-align: top\">5093</td>\n",
       "        <td style=\"padding-left: 1em; padding-right: 1em; text-align: center; vertical-align: top\">36</td>\n",
       "        <td style=\"padding-left: 1em; padding-right: 1em; text-align: center; vertical-align: top\">1.0</td>\n",
       "    </tr>\n",
       "    <tr>\n",
       "        <td style=\"padding-left: 1em; padding-right: 1em; text-align: center; vertical-align: top\">4667024</td>\n",
       "        <td style=\"padding-left: 1em; padding-right: 1em; text-align: center; vertical-align: top\">46</td>\n",
       "        <td style=\"padding-left: 1em; padding-right: 1em; text-align: center; vertical-align: top\">4.0</td>\n",
       "    </tr>\n",
       "</table>\n",
       "[4385 rows x 3 columns]<br/>Note: Only the head of the SFrame is printed.<br/>You can use print_rows(num_rows=m, num_columns=n) to print more rows and columns.\n",
       "</div>"
      ],
      "text/plain": [
       "Columns:\n",
       "\tbookID\tstr\n",
       "\tcomm\tint\n",
       "\trating\tfloat\n",
       "\n",
       "Rows: 4385\n",
       "\n",
       "Data:\n",
       "+---------+------+--------+\n",
       "|  bookID | comm | rating |\n",
       "+---------+------+--------+\n",
       "|  485894 |  49  |  3.0   |\n",
       "|   5043  |  24  |  3.0   |\n",
       "|  10441  |  49  |  3.0   |\n",
       "|    1    |  4   |  4.0   |\n",
       "|   4137  |  60  |  4.0   |\n",
       "|  37442  |  13  |  3.0   |\n",
       "|   8337  |  69  |  5.0   |\n",
       "|    21   |  49  |  5.0   |\n",
       "|   5093  |  36  |  1.0   |\n",
       "| 4667024 |  46  |  4.0   |\n",
       "+---------+------+--------+\n",
       "[4385 rows x 3 columns]\n",
       "Note: Only the head of the SFrame is printed.\n",
       "You can use print_rows(num_rows=m, num_columns=n) to print more rows and columns."
      ]
     },
     "execution_count": 498,
     "metadata": {},
     "output_type": "execute_result"
    }
   ],
   "source": [
    "glCommMeansTest, glCommBookMeansTest, commMeansTest, commBookMeansTest = \\\n",
    "makeSocialModelInputs(glRatingsTestWithComm)\n",
    "\n",
    "glCommTest = glCommBookMeansTest.copy()\n",
    "glCommTest['rating'] = glCommTest['meanBookRatingByComm']\n",
    "glCommTest.remove_column('meanBookRatingByComm')"
   ]
  },
  {
   "cell_type": "code",
   "execution_count": 499,
   "metadata": {
    "collapsed": true,
    "scrolled": false
   },
   "outputs": [],
   "source": [
    "file_path_train_comm='gl_gr_train_comm'\n",
    "file_path_test_comm='gl_gr_test_comm'\n",
    "\n",
    "glCommTrain['comm','bookID','rating'].export_csv(file_path_train_comm,header=True,delimiter='\\t')\n",
    "glCommTest['comm','bookID','rating'].export_csv(file_path_test_comm,header=True,delimiter='\\t')\n",
    "\n",
    "#glCommTrain = gl.SFrame.read_csv(file_path_train_comm,header=True,delimiter='\\t')\n",
    "#glCommTest = gl.SFrame.read_csv(file_path_test_comm,header=True,delimiter='\\t')"
   ]
  },
  {
   "cell_type": "code",
   "execution_count": 500,
   "metadata": {
    "collapsed": true
   },
   "outputs": [],
   "source": [
    "reader = Reader(line_format='user item rating', sep='\\t', skip_lines=1)\n",
    "surpriseTrainComm = Dataset.load_from_file(file_path_train_comm, reader=reader).build_full_trainset()\n",
    "\n",
    "train_folds_comm = Dataset.load_from_file(file_path_train_comm, reader=reader)\n",
    "train_folds_comm.split(5)"
   ]
  },
  {
   "cell_type": "code",
   "execution_count": 501,
   "metadata": {},
   "outputs": [
    {
     "data": {
      "text/plain": [
       "{'lr_all': 0.001, 'n_epochs': 200, 'n_factors': 80, 'reg_all': 0.005}"
      ]
     },
     "execution_count": 501,
     "metadata": {},
     "output_type": "execute_result"
    }
   ],
   "source": [
    "SVD_GridSearch.best_params['rmse']"
   ]
  },
  {
   "cell_type": "code",
   "execution_count": 502,
   "metadata": {
    "collapsed": true
   },
   "outputs": [],
   "source": [
    "gr_SVD_comm = SVD(lr_all=0.001, n_epochs=200, n_factors=80, reg_all=0.005)\n",
    "gr_SVD_comm.train(surpriseTrainComm)"
   ]
  },
  {
   "cell_type": "code",
   "execution_count": 668,
   "metadata": {},
   "outputs": [
    {
     "data": {
      "image/png": "[encoded data removed]",
      "text/plain": [
       "<matplotlib.figure.Figure at 0x7f09e5378790>"
      ]
     },
     "metadata": {},
     "output_type": "display_data"
    }
   ],
   "source": [
    "rec_engine_comm = surprisePredWrapper(gr_SVD_comm)\n",
    "\n",
    "meanWeights = np.linspace(0,1,20)\n",
    "\n",
    "#SIMPLE PREDICTION FROM COMM MEANS\n",
    "\n",
    "rmsesSimple = []\n",
    "for weight in meanWeights:\n",
    "    rmsesSimple.append(\\\n",
    "                mixedPred(glRatingsTestWithComm, \\\n",
    "                          commMeansTrain, commBookMeansTrain, commBookMeansTrain, rec_engine, rec_engine, \\\n",
    "                          numTrainRatings_Test, \\\n",
    "                          False, False, True, weight)[1])\n",
    "\n",
    "#SIMPLE PREDICTION FROM COMM MEANS (no book means)\n",
    "rmsesSimpleNoBookMeans = []\n",
    "\n",
    "for weight in meanWeights:\n",
    "    rmsesSimpleNoBookMeans.append(\\\n",
    "                mixedPred(glRatingsTestWithComm, \\\n",
    "                          commMeansTrain, commBookMeansTrain, commBookMeansTrain, rec_engine, rec_engine, \\\n",
    "                          numTrainRatings_Test, \\\n",
    "                          False, False, False, weight)[1])\n",
    "                          \n",
    "\n",
    "#FACTORIZATION RECOMMENDER FOR RAW (COMMUNITY-BOOK-RATING) DATA\n",
    "rmsesSocialRec = []\n",
    "\n",
    "for weight in meanWeights:\n",
    "    rmsesSocialRec.append(\\\n",
    "                mixedPred(glRatingsTestWithComm, \\\n",
    "                          commMeansTrain, commBookMeansTrain, commBookMeansTrain, rec_engine, rec_engine_comm, \\\n",
    "                          numTrainRatings_Test, \\\n",
    "                          False, True, False, weight)[1])\n",
    "\n",
    "\n",
    "plt.plot(meanWeights, rmsesSimple, '-');\n",
    "plt.plot(meanWeights, rmsesSimpleNoBookMeans, '-');\n",
    "plt.plot(meanWeights, rmsesSocialRec, '-');\n"
   ]
  },
  {
   "cell_type": "code",
   "execution_count": 669,
   "metadata": {},
   "outputs": [
    {
     "name": "stdout",
     "output_type": "stream",
     "text": [
      "0.263157894737\n",
      "0.886030994763\n",
      "\n",
      "0.105263157895\n",
      "0.891465926694\n",
      "\n",
      "0.210526315789\n",
      "0.890843390946\n"
     ]
    }
   ],
   "source": [
    "print meanWeights[np.argmin(rmsesSimple)]\n",
    "print rmsesSimple[np.argmin(rmsesSimple)]\n",
    "\n",
    "print ''\n",
    "\n",
    "print meanWeights[np.argmin(rmsesSimpleNoBookMeans)]\n",
    "print rmsesSimpleNoBookMeans[np.argmin(rmsesSimpleNoBookMeans)]\n",
    "\n",
    "print ''\n",
    "\n",
    "\n",
    "print meanWeights[np.argmin(rmsesSocialRec)]\n",
    "print rmsesSocialRec[np.argmin(rmsesSocialRec)]"
   ]
  },
  {
   "cell_type": "code",
   "execution_count": 670,
   "metadata": {
    "collapsed": true
   },
   "outputs": [],
   "source": [
    "bestWeightComm = meanWeights[np.argmin(rmsesSimple)]\n",
    "\n",
    "predsComm = mixedPred(glRatingsTestWithComm, \\\n",
    "                          commMeansTrain, commBookMeansTrain, commBookMeansTrain, rec_engine, rec_engine_comm, \\\n",
    "                          numTrainRatings_Test, \\\n",
    "                          False, False, True, bestWeightComm)[0]\n",
    "\n",
    "predsBase = mixedPred(glRatingsTestWithComm, \\\n",
    "                          commMeansTrain, commBookMeansTrain, commBookMeansTrain, rec_engine, rec_engine_comm, \\\n",
    "                          numTrainRatings_Test, \\\n",
    "                          False, False, True, 0)[0]"
   ]
  },
  {
   "cell_type": "code",
   "execution_count": 671,
   "metadata": {},
   "outputs": [
    {
     "data": {
      "text/html": [
       "<div style=\"max-height:1000px;max-width:1500px;overflow:auto;\"><table frame=\"box\" rules=\"cols\">\n",
       "    <tr>\n",
       "        <th style=\"padding-left: 1em; padding-right: 1em; text-align: center\">bookID</th>\n",
       "        <th style=\"padding-left: 1em; padding-right: 1em; text-align: center\">userID</th>\n",
       "        <th style=\"padding-left: 1em; padding-right: 1em; text-align: center\">comm</th>\n",
       "        <th style=\"padding-left: 1em; padding-right: 1em; text-align: center\">rating</th>\n",
       "        <th style=\"padding-left: 1em; padding-right: 1em; text-align: center\">predsComm</th>\n",
       "        <th style=\"padding-left: 1em; padding-right: 1em; text-align: center\">predsBase</th>\n",
       "    </tr>\n",
       "    <tr>\n",
       "        <td style=\"padding-left: 1em; padding-right: 1em; text-align: center; vertical-align: top\">18490</td>\n",
       "        <td style=\"padding-left: 1em; padding-right: 1em; text-align: center; vertical-align: top\">160216</td>\n",
       "        <td style=\"padding-left: 1em; padding-right: 1em; text-align: center; vertical-align: top\">30</td>\n",
       "        <td style=\"padding-left: 1em; padding-right: 1em; text-align: center; vertical-align: top\">4</td>\n",
       "        <td style=\"padding-left: 1em; padding-right: 1em; text-align: center; vertical-align: top\">3.71746775162</td>\n",
       "        <td style=\"padding-left: 1em; padding-right: 1em; text-align: center; vertical-align: top\">3.97370623434</td>\n",
       "    </tr>\n",
       "    <tr>\n",
       "        <td style=\"padding-left: 1em; padding-right: 1em; text-align: center; vertical-align: top\">2956</td>\n",
       "        <td style=\"padding-left: 1em; padding-right: 1em; text-align: center; vertical-align: top\">160216</td>\n",
       "        <td style=\"padding-left: 1em; padding-right: 1em; text-align: center; vertical-align: top\">30</td>\n",
       "        <td style=\"padding-left: 1em; padding-right: 1em; text-align: center; vertical-align: top\">2</td>\n",
       "        <td style=\"padding-left: 1em; padding-right: 1em; text-align: center; vertical-align: top\">4.07973416146</td>\n",
       "        <td style=\"padding-left: 1em; padding-right: 1em; text-align: center; vertical-align: top\">3.84035350484</td>\n",
       "    </tr>\n",
       "    <tr>\n",
       "        <td style=\"padding-left: 1em; padding-right: 1em; text-align: center; vertical-align: top\">3690</td>\n",
       "        <td style=\"padding-left: 1em; padding-right: 1em; text-align: center; vertical-align: top\">160216</td>\n",
       "        <td style=\"padding-left: 1em; padding-right: 1em; text-align: center; vertical-align: top\">30</td>\n",
       "        <td style=\"padding-left: 1em; padding-right: 1em; text-align: center; vertical-align: top\">4</td>\n",
       "        <td style=\"padding-left: 1em; padding-right: 1em; text-align: center; vertical-align: top\">4.23164070992</td>\n",
       "        <td style=\"padding-left: 1em; padding-right: 1em; text-align: center; vertical-align: top\">4.24059542213</td>\n",
       "    </tr>\n",
       "    <tr>\n",
       "        <td style=\"padding-left: 1em; padding-right: 1em; text-align: center; vertical-align: top\">1852</td>\n",
       "        <td style=\"padding-left: 1em; padding-right: 1em; text-align: center; vertical-align: top\">160216</td>\n",
       "        <td style=\"padding-left: 1em; padding-right: 1em; text-align: center; vertical-align: top\">30</td>\n",
       "        <td style=\"padding-left: 1em; padding-right: 1em; text-align: center; vertical-align: top\">5</td>\n",
       "        <td style=\"padding-left: 1em; padding-right: 1em; text-align: center; vertical-align: top\">4.02244596266</td>\n",
       "        <td style=\"padding-left: 1em; padding-right: 1em; text-align: center; vertical-align: top\">4.01859607326</td>\n",
       "    </tr>\n",
       "    <tr>\n",
       "        <td style=\"padding-left: 1em; padding-right: 1em; text-align: center; vertical-align: top\">51933</td>\n",
       "        <td style=\"padding-left: 1em; padding-right: 1em; text-align: center; vertical-align: top\">160216</td>\n",
       "        <td style=\"padding-left: 1em; padding-right: 1em; text-align: center; vertical-align: top\">30</td>\n",
       "        <td style=\"padding-left: 1em; padding-right: 1em; text-align: center; vertical-align: top\">5</td>\n",
       "        <td style=\"padding-left: 1em; padding-right: 1em; text-align: center; vertical-align: top\">4.03612129368</td>\n",
       "        <td style=\"padding-left: 1em; padding-right: 1em; text-align: center; vertical-align: top\">4.03602860608</td>\n",
       "    </tr>\n",
       "    <tr>\n",
       "        <td style=\"padding-left: 1em; padding-right: 1em; text-align: center; vertical-align: top\">3876</td>\n",
       "        <td style=\"padding-left: 1em; padding-right: 1em; text-align: center; vertical-align: top\">160216</td>\n",
       "        <td style=\"padding-left: 1em; padding-right: 1em; text-align: center; vertical-align: top\">30</td>\n",
       "        <td style=\"padding-left: 1em; padding-right: 1em; text-align: center; vertical-align: top\">3</td>\n",
       "        <td style=\"padding-left: 1em; padding-right: 1em; text-align: center; vertical-align: top\">3.96018133696</td>\n",
       "        <td style=\"padding-left: 1em; padding-right: 1em; text-align: center; vertical-align: top\">4.04094711872</td>\n",
       "    </tr>\n",
       "    <tr>\n",
       "        <td style=\"padding-left: 1em; padding-right: 1em; text-align: center; vertical-align: top\">298275</td>\n",
       "        <td style=\"padding-left: 1em; padding-right: 1em; text-align: center; vertical-align: top\">160216</td>\n",
       "        <td style=\"padding-left: 1em; padding-right: 1em; text-align: center; vertical-align: top\">30</td>\n",
       "        <td style=\"padding-left: 1em; padding-right: 1em; text-align: center; vertical-align: top\">3</td>\n",
       "        <td style=\"padding-left: 1em; padding-right: 1em; text-align: center; vertical-align: top\">3.96940903402</td>\n",
       "        <td style=\"padding-left: 1em; padding-right: 1em; text-align: center; vertical-align: top\">3.96525453014</td>\n",
       "    </tr>\n",
       "    <tr>\n",
       "        <td style=\"padding-left: 1em; padding-right: 1em; text-align: center; vertical-align: top\">2794</td>\n",
       "        <td style=\"padding-left: 1em; padding-right: 1em; text-align: center; vertical-align: top\">160216</td>\n",
       "        <td style=\"padding-left: 1em; padding-right: 1em; text-align: center; vertical-align: top\">30</td>\n",
       "        <td style=\"padding-left: 1em; padding-right: 1em; text-align: center; vertical-align: top\">3</td>\n",
       "        <td style=\"padding-left: 1em; padding-right: 1em; text-align: center; vertical-align: top\">4.04125484531</td>\n",
       "        <td style=\"padding-left: 1em; padding-right: 1em; text-align: center; vertical-align: top\">4.04504839431</td>\n",
       "    </tr>\n",
       "    <tr>\n",
       "        <td style=\"padding-left: 1em; padding-right: 1em; text-align: center; vertical-align: top\">37415</td>\n",
       "        <td style=\"padding-left: 1em; padding-right: 1em; text-align: center; vertical-align: top\">1</td>\n",
       "        <td style=\"padding-left: 1em; padding-right: 1em; text-align: center; vertical-align: top\">67</td>\n",
       "        <td style=\"padding-left: 1em; padding-right: 1em; text-align: center; vertical-align: top\">2</td>\n",
       "        <td style=\"padding-left: 1em; padding-right: 1em; text-align: center; vertical-align: top\">3.97181537208</td>\n",
       "        <td style=\"padding-left: 1em; padding-right: 1em; text-align: center; vertical-align: top\">3.96642583509</td>\n",
       "    </tr>\n",
       "    <tr>\n",
       "        <td style=\"padding-left: 1em; padding-right: 1em; text-align: center; vertical-align: top\">6310</td>\n",
       "        <td style=\"padding-left: 1em; padding-right: 1em; text-align: center; vertical-align: top\">1</td>\n",
       "        <td style=\"padding-left: 1em; padding-right: 1em; text-align: center; vertical-align: top\">67</td>\n",
       "        <td style=\"padding-left: 1em; padding-right: 1em; text-align: center; vertical-align: top\">5</td>\n",
       "        <td style=\"padding-left: 1em; padding-right: 1em; text-align: center; vertical-align: top\">4.14909256181</td>\n",
       "        <td style=\"padding-left: 1em; padding-right: 1em; text-align: center; vertical-align: top\">4.24007403442</td>\n",
       "    </tr>\n",
       "</table>\n",
       "[5715 rows x 6 columns]<br/>Note: Only the head of the SFrame is printed.<br/>You can use print_rows(num_rows=m, num_columns=n) to print more rows and columns.\n",
       "</div>"
      ],
      "text/plain": [
       "Columns:\n",
       "\tbookID\tstr\n",
       "\tuserID\tint\n",
       "\tcomm\tint\n",
       "\trating\tint\n",
       "\tpredsComm\tfloat\n",
       "\tpredsBase\tfloat\n",
       "\n",
       "Rows: 5715\n",
       "\n",
       "Data:\n",
       "+--------+--------+------+--------+---------------+---------------+\n",
       "| bookID | userID | comm | rating |   predsComm   |   predsBase   |\n",
       "+--------+--------+------+--------+---------------+---------------+\n",
       "| 18490  | 160216 |  30  |   4    | 3.71746775162 | 3.97370623434 |\n",
       "|  2956  | 160216 |  30  |   2    | 4.07973416146 | 3.84035350484 |\n",
       "|  3690  | 160216 |  30  |   4    | 4.23164070992 | 4.24059542213 |\n",
       "|  1852  | 160216 |  30  |   5    | 4.02244596266 | 4.01859607326 |\n",
       "| 51933  | 160216 |  30  |   5    | 4.03612129368 | 4.03602860608 |\n",
       "|  3876  | 160216 |  30  |   3    | 3.96018133696 | 4.04094711872 |\n",
       "| 298275 | 160216 |  30  |   3    | 3.96940903402 | 3.96525453014 |\n",
       "|  2794  | 160216 |  30  |   3    | 4.04125484531 | 4.04504839431 |\n",
       "| 37415  |   1    |  67  |   2    | 3.97181537208 | 3.96642583509 |\n",
       "|  6310  |   1    |  67  |   5    | 4.14909256181 | 4.24007403442 |\n",
       "+--------+--------+------+--------+---------------+---------------+\n",
       "[5715 rows x 6 columns]\n",
       "Note: Only the head of the SFrame is printed.\n",
       "You can use print_rows(num_rows=m, num_columns=n) to print more rows and columns."
      ]
     },
     "execution_count": 671,
     "metadata": {},
     "output_type": "execute_result"
    }
   ],
   "source": [
    "signTestFrame = glRatingsTestWithComm[['bookID','userID','comm','rating']].copy()\n",
    "signTestFrame.add_column(gl.SArray(predsComm), 'predsComm')\n",
    "signTestFrame.add_column(gl.SArray(predsBase), 'predsBase')"
   ]
  },
  {
   "cell_type": "code",
   "execution_count": 672,
   "metadata": {},
   "outputs": [
    {
     "data": {
      "text/plain": [
       "0.52178477690288716"
      ]
     },
     "execution_count": 672,
     "metadata": {},
     "output_type": "execute_result"
    }
   ],
   "source": [
    "errsBase = np.abs(np.array(signTestFrame['rating'] - signTestFrame['predsBase'])**2)\n",
    "errsBase\n",
    "\n",
    "errsComm = np.abs(np.array(signTestFrame['rating'] - signTestFrame['predsComm'])**2)\n",
    "(errsComm < errsBase).mean()"
   ]
  },
  {
   "cell_type": "code",
   "execution_count": 673,
   "metadata": {},
   "outputs": [
    {
     "data": {
      "text/html": [
       "<div style=\"max-height:1000px;max-width:1500px;overflow:auto;\"><table frame=\"box\" rules=\"cols\">\n",
       "    <tr>\n",
       "        <th style=\"padding-left: 1em; padding-right: 1em; text-align: center\">bookID</th>\n",
       "        <th style=\"padding-left: 1em; padding-right: 1em; text-align: center\">userID</th>\n",
       "        <th style=\"padding-left: 1em; padding-right: 1em; text-align: center\">comm</th>\n",
       "        <th style=\"padding-left: 1em; padding-right: 1em; text-align: center\">rating</th>\n",
       "        <th style=\"padding-left: 1em; padding-right: 1em; text-align: center\">predsComm</th>\n",
       "        <th style=\"padding-left: 1em; padding-right: 1em; text-align: center\">predsBase</th>\n",
       "        <th style=\"padding-left: 1em; padding-right: 1em; text-align: center\">errsComm</th>\n",
       "        <th style=\"padding-left: 1em; padding-right: 1em; text-align: center\">errsBase</th>\n",
       "    </tr>\n",
       "    <tr>\n",
       "        <td style=\"padding-left: 1em; padding-right: 1em; text-align: center; vertical-align: top\">18490</td>\n",
       "        <td style=\"padding-left: 1em; padding-right: 1em; text-align: center; vertical-align: top\">160216</td>\n",
       "        <td style=\"padding-left: 1em; padding-right: 1em; text-align: center; vertical-align: top\">30</td>\n",
       "        <td style=\"padding-left: 1em; padding-right: 1em; text-align: center; vertical-align: top\">4</td>\n",
       "        <td style=\"padding-left: 1em; padding-right: 1em; text-align: center; vertical-align: top\">3.71746775162</td>\n",
       "        <td style=\"padding-left: 1em; padding-right: 1em; text-align: center; vertical-align: top\">3.97370623434</td>\n",
       "        <td style=\"padding-left: 1em; padding-right: 1em; text-align: center; vertical-align: top\">0.0798244713763</td>\n",
       "        <td style=\"padding-left: 1em; padding-right: 1em; text-align: center; vertical-align: top\">0.000691362112721</td>\n",
       "    </tr>\n",
       "    <tr>\n",
       "        <td style=\"padding-left: 1em; padding-right: 1em; text-align: center; vertical-align: top\">2956</td>\n",
       "        <td style=\"padding-left: 1em; padding-right: 1em; text-align: center; vertical-align: top\">160216</td>\n",
       "        <td style=\"padding-left: 1em; padding-right: 1em; text-align: center; vertical-align: top\">30</td>\n",
       "        <td style=\"padding-left: 1em; padding-right: 1em; text-align: center; vertical-align: top\">2</td>\n",
       "        <td style=\"padding-left: 1em; padding-right: 1em; text-align: center; vertical-align: top\">4.07973416146</td>\n",
       "        <td style=\"padding-left: 1em; padding-right: 1em; text-align: center; vertical-align: top\">3.84035350484</td>\n",
       "        <td style=\"padding-left: 1em; padding-right: 1em; text-align: center; vertical-align: top\">4.32529418234</td>\n",
       "        <td style=\"padding-left: 1em; padding-right: 1em; text-align: center; vertical-align: top\">3.38690102277</td>\n",
       "    </tr>\n",
       "    <tr>\n",
       "        <td style=\"padding-left: 1em; padding-right: 1em; text-align: center; vertical-align: top\">3690</td>\n",
       "        <td style=\"padding-left: 1em; padding-right: 1em; text-align: center; vertical-align: top\">160216</td>\n",
       "        <td style=\"padding-left: 1em; padding-right: 1em; text-align: center; vertical-align: top\">30</td>\n",
       "        <td style=\"padding-left: 1em; padding-right: 1em; text-align: center; vertical-align: top\">4</td>\n",
       "        <td style=\"padding-left: 1em; padding-right: 1em; text-align: center; vertical-align: top\">4.23164070992</td>\n",
       "        <td style=\"padding-left: 1em; padding-right: 1em; text-align: center; vertical-align: top\">4.24059542213</td>\n",
       "        <td style=\"padding-left: 1em; padding-right: 1em; text-align: center; vertical-align: top\">0.0536574184921</td>\n",
       "        <td style=\"padding-left: 1em; padding-right: 1em; text-align: center; vertical-align: top\">0.0578861571498</td>\n",
       "    </tr>\n",
       "    <tr>\n",
       "        <td style=\"padding-left: 1em; padding-right: 1em; text-align: center; vertical-align: top\">1852</td>\n",
       "        <td style=\"padding-left: 1em; padding-right: 1em; text-align: center; vertical-align: top\">160216</td>\n",
       "        <td style=\"padding-left: 1em; padding-right: 1em; text-align: center; vertical-align: top\">30</td>\n",
       "        <td style=\"padding-left: 1em; padding-right: 1em; text-align: center; vertical-align: top\">5</td>\n",
       "        <td style=\"padding-left: 1em; padding-right: 1em; text-align: center; vertical-align: top\">4.02244596266</td>\n",
       "        <td style=\"padding-left: 1em; padding-right: 1em; text-align: center; vertical-align: top\">4.01859607326</td>\n",
       "        <td style=\"padding-left: 1em; padding-right: 1em; text-align: center; vertical-align: top\">0.955611895923</td>\n",
       "        <td style=\"padding-left: 1em; padding-right: 1em; text-align: center; vertical-align: top\">0.963153667414</td>\n",
       "    </tr>\n",
       "    <tr>\n",
       "        <td style=\"padding-left: 1em; padding-right: 1em; text-align: center; vertical-align: top\">51933</td>\n",
       "        <td style=\"padding-left: 1em; padding-right: 1em; text-align: center; vertical-align: top\">160216</td>\n",
       "        <td style=\"padding-left: 1em; padding-right: 1em; text-align: center; vertical-align: top\">30</td>\n",
       "        <td style=\"padding-left: 1em; padding-right: 1em; text-align: center; vertical-align: top\">5</td>\n",
       "        <td style=\"padding-left: 1em; padding-right: 1em; text-align: center; vertical-align: top\">4.03612129368</td>\n",
       "        <td style=\"padding-left: 1em; padding-right: 1em; text-align: center; vertical-align: top\">4.03602860608</td>\n",
       "        <td style=\"padding-left: 1em; padding-right: 1em; text-align: center; vertical-align: top\">0.929062160498</td>\n",
       "        <td style=\"padding-left: 1em; padding-right: 1em; text-align: center; vertical-align: top\">0.929240848287</td>\n",
       "    </tr>\n",
       "    <tr>\n",
       "        <td style=\"padding-left: 1em; padding-right: 1em; text-align: center; vertical-align: top\">3876</td>\n",
       "        <td style=\"padding-left: 1em; padding-right: 1em; text-align: center; vertical-align: top\">160216</td>\n",
       "        <td style=\"padding-left: 1em; padding-right: 1em; text-align: center; vertical-align: top\">30</td>\n",
       "        <td style=\"padding-left: 1em; padding-right: 1em; text-align: center; vertical-align: top\">3</td>\n",
       "        <td style=\"padding-left: 1em; padding-right: 1em; text-align: center; vertical-align: top\">3.96018133696</td>\n",
       "        <td style=\"padding-left: 1em; padding-right: 1em; text-align: center; vertical-align: top\">4.04094711872</td>\n",
       "        <td style=\"padding-left: 1em; padding-right: 1em; text-align: center; vertical-align: top\">0.921948199854</td>\n",
       "        <td style=\"padding-left: 1em; padding-right: 1em; text-align: center; vertical-align: top\">1.08357090398</td>\n",
       "    </tr>\n",
       "    <tr>\n",
       "        <td style=\"padding-left: 1em; padding-right: 1em; text-align: center; vertical-align: top\">298275</td>\n",
       "        <td style=\"padding-left: 1em; padding-right: 1em; text-align: center; vertical-align: top\">160216</td>\n",
       "        <td style=\"padding-left: 1em; padding-right: 1em; text-align: center; vertical-align: top\">30</td>\n",
       "        <td style=\"padding-left: 1em; padding-right: 1em; text-align: center; vertical-align: top\">3</td>\n",
       "        <td style=\"padding-left: 1em; padding-right: 1em; text-align: center; vertical-align: top\">3.96940903402</td>\n",
       "        <td style=\"padding-left: 1em; padding-right: 1em; text-align: center; vertical-align: top\">3.96525453014</td>\n",
       "        <td style=\"padding-left: 1em; padding-right: 1em; text-align: center; vertical-align: top\">0.93975387523</td>\n",
       "        <td style=\"padding-left: 1em; padding-right: 1em; text-align: center; vertical-align: top\">0.931716307965</td>\n",
       "    </tr>\n",
       "    <tr>\n",
       "        <td style=\"padding-left: 1em; padding-right: 1em; text-align: center; vertical-align: top\">2794</td>\n",
       "        <td style=\"padding-left: 1em; padding-right: 1em; text-align: center; vertical-align: top\">160216</td>\n",
       "        <td style=\"padding-left: 1em; padding-right: 1em; text-align: center; vertical-align: top\">30</td>\n",
       "        <td style=\"padding-left: 1em; padding-right: 1em; text-align: center; vertical-align: top\">3</td>\n",
       "        <td style=\"padding-left: 1em; padding-right: 1em; text-align: center; vertical-align: top\">4.04125484531</td>\n",
       "        <td style=\"padding-left: 1em; padding-right: 1em; text-align: center; vertical-align: top\">4.04504839431</td>\n",
       "        <td style=\"padding-left: 1em; padding-right: 1em; text-align: center; vertical-align: top\">1.08421165289</td>\n",
       "        <td style=\"padding-left: 1em; padding-right: 1em; text-align: center; vertical-align: top\">1.09212614644</td>\n",
       "    </tr>\n",
       "    <tr>\n",
       "        <td style=\"padding-left: 1em; padding-right: 1em; text-align: center; vertical-align: top\">37415</td>\n",
       "        <td style=\"padding-left: 1em; padding-right: 1em; text-align: center; vertical-align: top\">1</td>\n",
       "        <td style=\"padding-left: 1em; padding-right: 1em; text-align: center; vertical-align: top\">67</td>\n",
       "        <td style=\"padding-left: 1em; padding-right: 1em; text-align: center; vertical-align: top\">2</td>\n",
       "        <td style=\"padding-left: 1em; padding-right: 1em; text-align: center; vertical-align: top\">3.97181537208</td>\n",
       "        <td style=\"padding-left: 1em; padding-right: 1em; text-align: center; vertical-align: top\">3.96642583509</td>\n",
       "        <td style=\"padding-left: 1em; padding-right: 1em; text-align: center; vertical-align: top\">3.88805586159</td>\n",
       "        <td style=\"padding-left: 1em; padding-right: 1em; text-align: center; vertical-align: top\">3.86683056489</td>\n",
       "    </tr>\n",
       "    <tr>\n",
       "        <td style=\"padding-left: 1em; padding-right: 1em; text-align: center; vertical-align: top\">6310</td>\n",
       "        <td style=\"padding-left: 1em; padding-right: 1em; text-align: center; vertical-align: top\">1</td>\n",
       "        <td style=\"padding-left: 1em; padding-right: 1em; text-align: center; vertical-align: top\">67</td>\n",
       "        <td style=\"padding-left: 1em; padding-right: 1em; text-align: center; vertical-align: top\">5</td>\n",
       "        <td style=\"padding-left: 1em; padding-right: 1em; text-align: center; vertical-align: top\">4.14909256181</td>\n",
       "        <td style=\"padding-left: 1em; padding-right: 1em; text-align: center; vertical-align: top\">4.24007403442</td>\n",
       "        <td style=\"padding-left: 1em; padding-right: 1em; text-align: center; vertical-align: top\">0.724043468375</td>\n",
       "        <td style=\"padding-left: 1em; padding-right: 1em; text-align: center; vertical-align: top\">0.577487473169</td>\n",
       "    </tr>\n",
       "</table>\n",
       "[5715 rows x 8 columns]<br/>Note: Only the head of the SFrame is printed.<br/>You can use print_rows(num_rows=m, num_columns=n) to print more rows and columns.\n",
       "</div>"
      ],
      "text/plain": [
       "Columns:\n",
       "\tbookID\tstr\n",
       "\tuserID\tint\n",
       "\tcomm\tint\n",
       "\trating\tint\n",
       "\tpredsComm\tfloat\n",
       "\tpredsBase\tfloat\n",
       "\terrsComm\tfloat\n",
       "\terrsBase\tfloat\n",
       "\n",
       "Rows: 5715\n",
       "\n",
       "Data:\n",
       "+--------+--------+------+--------+---------------+---------------+\n",
       "| bookID | userID | comm | rating |   predsComm   |   predsBase   |\n",
       "+--------+--------+------+--------+---------------+---------------+\n",
       "| 18490  | 160216 |  30  |   4    | 3.71746775162 | 3.97370623434 |\n",
       "|  2956  | 160216 |  30  |   2    | 4.07973416146 | 3.84035350484 |\n",
       "|  3690  | 160216 |  30  |   4    | 4.23164070992 | 4.24059542213 |\n",
       "|  1852  | 160216 |  30  |   5    | 4.02244596266 | 4.01859607326 |\n",
       "| 51933  | 160216 |  30  |   5    | 4.03612129368 | 4.03602860608 |\n",
       "|  3876  | 160216 |  30  |   3    | 3.96018133696 | 4.04094711872 |\n",
       "| 298275 | 160216 |  30  |   3    | 3.96940903402 | 3.96525453014 |\n",
       "|  2794  | 160216 |  30  |   3    | 4.04125484531 | 4.04504839431 |\n",
       "| 37415  |   1    |  67  |   2    | 3.97181537208 | 3.96642583509 |\n",
       "|  6310  |   1    |  67  |   5    | 4.14909256181 | 4.24007403442 |\n",
       "+--------+--------+------+--------+---------------+---------------+\n",
       "+-----------------+-------------------+\n",
       "|     errsComm    |      errsBase     |\n",
       "+-----------------+-------------------+\n",
       "| 0.0798244713763 | 0.000691362112721 |\n",
       "|  4.32529418234  |   3.38690102277   |\n",
       "| 0.0536574184921 |  0.0578861571498  |\n",
       "|  0.955611895923 |   0.963153667414  |\n",
       "|  0.929062160498 |   0.929240848287  |\n",
       "|  0.921948199854 |   1.08357090398   |\n",
       "|  0.93975387523  |   0.931716307965  |\n",
       "|  1.08421165289  |   1.09212614644   |\n",
       "|  3.88805586159  |   3.86683056489   |\n",
       "|  0.724043468375 |   0.577487473169  |\n",
       "+-----------------+-------------------+\n",
       "[5715 rows x 8 columns]\n",
       "Note: Only the head of the SFrame is printed.\n",
       "You can use print_rows(num_rows=m, num_columns=n) to print more rows and columns."
      ]
     },
     "execution_count": 673,
     "metadata": {},
     "output_type": "execute_result"
    }
   ],
   "source": [
    "signTestFrame.add_column(gl.SArray(errsComm), 'errsComm')\n",
    "signTestFrame.add_column(gl.SArray(errsBase), 'errsBase')"
   ]
  },
  {
   "cell_type": "code",
   "execution_count": 674,
   "metadata": {},
   "outputs": [
    {
     "data": {
      "text/html": [
       "<div style=\"max-height:1000px;max-width:1500px;overflow:auto;\"><table frame=\"box\" rules=\"cols\">\n",
       "    <tr>\n",
       "        <th style=\"padding-left: 1em; padding-right: 1em; text-align: center\">rating</th>\n",
       "        <th style=\"padding-left: 1em; padding-right: 1em; text-align: center\">errsBaseAvg</th>\n",
       "        <th style=\"padding-left: 1em; padding-right: 1em; text-align: center\">errsCommAvg</th>\n",
       "    </tr>\n",
       "    <tr>\n",
       "        <td style=\"padding-left: 1em; padding-right: 1em; text-align: center; vertical-align: top\">1</td>\n",
       "        <td style=\"padding-left: 1em; padding-right: 1em; text-align: center; vertical-align: top\">5.29546282365</td>\n",
       "        <td style=\"padding-left: 1em; padding-right: 1em; text-align: center; vertical-align: top\">5.26720772137</td>\n",
       "    </tr>\n",
       "    <tr>\n",
       "        <td style=\"padding-left: 1em; padding-right: 1em; text-align: center; vertical-align: top\">2</td>\n",
       "        <td style=\"padding-left: 1em; padding-right: 1em; text-align: center; vertical-align: top\">2.05434217211</td>\n",
       "        <td style=\"padding-left: 1em; padding-right: 1em; text-align: center; vertical-align: top\">2.0700315958</td>\n",
       "    </tr>\n",
       "    <tr>\n",
       "        <td style=\"padding-left: 1em; padding-right: 1em; text-align: center; vertical-align: top\">3</td>\n",
       "        <td style=\"padding-left: 1em; padding-right: 1em; text-align: center; vertical-align: top\">0.573810889699</td>\n",
       "        <td style=\"padding-left: 1em; padding-right: 1em; text-align: center; vertical-align: top\">0.559723086919</td>\n",
       "    </tr>\n",
       "    <tr>\n",
       "        <td style=\"padding-left: 1em; padding-right: 1em; text-align: center; vertical-align: top\">4</td>\n",
       "        <td style=\"padding-left: 1em; padding-right: 1em; text-align: center; vertical-align: top\">0.218707347517</td>\n",
       "        <td style=\"padding-left: 1em; padding-right: 1em; text-align: center; vertical-align: top\">0.193539382636</td>\n",
       "    </tr>\n",
       "    <tr>\n",
       "        <td style=\"padding-left: 1em; padding-right: 1em; text-align: center; vertical-align: top\">5</td>\n",
       "        <td style=\"padding-left: 1em; padding-right: 1em; text-align: center; vertical-align: top\">0.996144936364</td>\n",
       "        <td style=\"padding-left: 1em; padding-right: 1em; text-align: center; vertical-align: top\">0.999498142704</td>\n",
       "    </tr>\n",
       "</table>\n",
       "[5 rows x 3 columns]<br/>\n",
       "</div>"
      ],
      "text/plain": [
       "Columns:\n",
       "\trating\tint\n",
       "\terrsBaseAvg\tfloat\n",
       "\terrsCommAvg\tfloat\n",
       "\n",
       "Rows: 5\n",
       "\n",
       "Data:\n",
       "+--------+----------------+----------------+\n",
       "| rating |  errsBaseAvg   |  errsCommAvg   |\n",
       "+--------+----------------+----------------+\n",
       "|   1    | 5.29546282365  | 5.26720772137  |\n",
       "|   2    | 2.05434217211  |  2.0700315958  |\n",
       "|   3    | 0.573810889699 | 0.559723086919 |\n",
       "|   4    | 0.218707347517 | 0.193539382636 |\n",
       "|   5    | 0.996144936364 | 0.999498142704 |\n",
       "+--------+----------------+----------------+\n",
       "[5 rows x 3 columns]"
      ]
     },
     "execution_count": 674,
     "metadata": {},
     "output_type": "execute_result"
    }
   ],
   "source": [
    "signTestFrame.groupby(['rating'], {'errsCommAvg': gl.aggregate.AVG('errsComm'),\\\n",
    "                                  'errsBaseAvg': gl.aggregate.AVG('errsBase')}).sort('rating')"
   ]
  },
  {
   "cell_type": "code",
   "execution_count": 675,
   "metadata": {
    "collapsed": true
   },
   "outputs": [],
   "source": [
    "roundedPredsBase = np.round(predsBase)\n",
    "roundedPredsComm = np.round(predsComm)"
   ]
  },
  {
   "cell_type": "code",
   "execution_count": 676,
   "metadata": {},
   "outputs": [
    {
     "data": {
      "text/plain": [
       "0.42204724409448818"
      ]
     },
     "execution_count": 676,
     "metadata": {},
     "output_type": "execute_result"
    }
   ],
   "source": [
    "(roundedPredsBase == signTestFrame['rating']).mean()"
   ]
  },
  {
   "cell_type": "code",
   "execution_count": 677,
   "metadata": {},
   "outputs": [
    {
     "data": {
      "text/plain": [
       "0.42274715660542433"
      ]
     },
     "execution_count": 677,
     "metadata": {},
     "output_type": "execute_result"
    }
   ],
   "source": [
    "(roundedPredsComm == signTestFrame['rating']).mean()"
   ]
  },
  {
   "cell_type": "code",
   "execution_count": 678,
   "metadata": {},
   "outputs": [
    {
     "data": {
      "image/png": "[encoded data removed]",
      "text/plain": [
       "<matplotlib.figure.Figure at 0x7f0a041ac290>"
      ]
     },
     "metadata": {},
     "output_type": "display_data"
    }
   ],
   "source": [
    "preds_by_rating = []\n",
    "rating_cats = range(1,6)\n",
    "\n",
    "for rating in rating_cats:\n",
    "    preds_by_rating.append(list(predsComm[np.array(glRatingsTest['rating']) == rating]\\\n",
    "                          -predsBase[np.array(glRatingsTest['rating']) == rating]))\n",
    "\n",
    "plt.violinplot(preds_by_rating, positions=rating_cats);\n",
    "plt.xlabel('Observed rating');\n",
    "plt.ylabel('Predicted rating');\n",
    "#for rating in rating_cats:\n",
    "#    plt.axhline(rating,linestyle='--',linewidth=1,alpha=0.5)"
   ]
  },
  {
   "cell_type": "code",
   "execution_count": 680,
   "metadata": {},
   "outputs": [
    {
     "name": "stdout",
     "output_type": "stream",
     "text": [
      "(1, 0.010254312137463417)\n",
      "(2, 0.011249610651759667)\n",
      "(3, 0.0060427418890518503)\n",
      "(4, 0.00025073161466848681)\n",
      "(5, -0.010010548353368565)\n"
     ]
    }
   ],
   "source": [
    "for i, category in enumerate(preds_by_rating):\n",
    "    print (i+1, np.median(category))"
   ]
  },
  {
   "cell_type": "code",
   "execution_count": 681,
   "metadata": {},
   "outputs": [
    {
     "data": {
      "text/plain": [
       "3.7992144357159514"
      ]
     },
     "execution_count": 681,
     "metadata": {},
     "output_type": "execute_result"
    },
    {
     "data": {
      "image/png": "[encoded data removed]",
      "text/plain": [
       "<matplotlib.figure.Figure at 0x7f0a04233a50>"
      ]
     },
     "metadata": {},
     "output_type": "display_data"
    }
   ],
   "source": [
    "plt.hist(glRatingsTrain['rating'])\n",
    "(glRatingsTrain['rating']).mean()"
   ]
  },
  {
   "cell_type": "code",
   "execution_count": 963,
   "metadata": {
    "collapsed": true
   },
   "outputs": [],
   "source": [
    "coef_dict = rec_engine.get('coefficients')"
   ]
  },
  {
   "cell_type": "code",
   "execution_count": 964,
   "metadata": {},
   "outputs": [
    {
     "data": {
      "text/html": [
       "<div style=\"max-height:1000px;max-width:1500px;overflow:auto;\"><table frame=\"box\" rules=\"cols\">\n",
       "    <tr>\n",
       "        <th style=\"padding-left: 1em; padding-right: 1em; text-align: center\">userID</th>\n",
       "        <th style=\"padding-left: 1em; padding-right: 1em; text-align: center\">linear_terms</th>\n",
       "        <th style=\"padding-left: 1em; padding-right: 1em; text-align: center\">factors</th>\n",
       "    </tr>\n",
       "    <tr>\n",
       "        <td style=\"padding-left: 1em; padding-right: 1em; text-align: center; vertical-align: top\">13389</td>\n",
       "        <td style=\"padding-left: 1em; padding-right: 1em; text-align: center; vertical-align: top\">0.449082821608</td>\n",
       "        <td style=\"padding-left: 1em; padding-right: 1em; text-align: center; vertical-align: top\">[-2.9401418189e-08,<br>-2.47457433034e-06, ...</td>\n",
       "    </tr>\n",
       "    <tr>\n",
       "        <td style=\"padding-left: 1em; padding-right: 1em; text-align: center; vertical-align: top\">147129</td>\n",
       "        <td style=\"padding-left: 1em; padding-right: 1em; text-align: center; vertical-align: top\">0.018716853112</td>\n",
       "        <td style=\"padding-left: 1em; padding-right: 1em; text-align: center; vertical-align: top\">[6.31890827663e-07,<br>-1.23543497921e-06, ...</td>\n",
       "    </tr>\n",
       "    <tr>\n",
       "        <td style=\"padding-left: 1em; padding-right: 1em; text-align: center; vertical-align: top\">82625</td>\n",
       "        <td style=\"padding-left: 1em; padding-right: 1em; text-align: center; vertical-align: top\">0.256159394979</td>\n",
       "        <td style=\"padding-left: 1em; padding-right: 1em; text-align: center; vertical-align: top\">[1.29775025925e-06,<br>1.10020755528e-06, ...</td>\n",
       "    </tr>\n",
       "    <tr>\n",
       "        <td style=\"padding-left: 1em; padding-right: 1em; text-align: center; vertical-align: top\">12251</td>\n",
       "        <td style=\"padding-left: 1em; padding-right: 1em; text-align: center; vertical-align: top\">0.671747028828</td>\n",
       "        <td style=\"padding-left: 1em; padding-right: 1em; text-align: center; vertical-align: top\">[-1.14628380743e-06,<br>-3.97139643837e-07, ...</td>\n",
       "    </tr>\n",
       "    <tr>\n",
       "        <td style=\"padding-left: 1em; padding-right: 1em; text-align: center; vertical-align: top\">160216</td>\n",
       "        <td style=\"padding-left: 1em; padding-right: 1em; text-align: center; vertical-align: top\">0.0298878327012</td>\n",
       "        <td style=\"padding-left: 1em; padding-right: 1em; text-align: center; vertical-align: top\">[5.05336538481e-06,<br>7.61476530897e-06, ...</td>\n",
       "    </tr>\n",
       "    <tr>\n",
       "        <td style=\"padding-left: 1em; padding-right: 1em; text-align: center; vertical-align: top\">1</td>\n",
       "        <td style=\"padding-left: 1em; padding-right: 1em; text-align: center; vertical-align: top\">0.368342787027</td>\n",
       "        <td style=\"padding-left: 1em; padding-right: 1em; text-align: center; vertical-align: top\">[-3.67200627807e-05,<br>5.10490754095e-05, ...</td>\n",
       "    </tr>\n",
       "    <tr>\n",
       "        <td style=\"padding-left: 1em; padding-right: 1em; text-align: center; vertical-align: top\">546</td>\n",
       "        <td style=\"padding-left: 1em; padding-right: 1em; text-align: center; vertical-align: top\">0.484111756086</td>\n",
       "        <td style=\"padding-left: 1em; padding-right: 1em; text-align: center; vertical-align: top\">[-2.40624467551e-06,<br>-3.51996568497e-05, ...</td>\n",
       "    </tr>\n",
       "    <tr>\n",
       "        <td style=\"padding-left: 1em; padding-right: 1em; text-align: center; vertical-align: top\">609</td>\n",
       "        <td style=\"padding-left: 1em; padding-right: 1em; text-align: center; vertical-align: top\">-0.215856999159</td>\n",
       "        <td style=\"padding-left: 1em; padding-right: 1em; text-align: center; vertical-align: top\">[-2.25407035259e-07,<br>8.75285149959e-06, ...</td>\n",
       "    </tr>\n",
       "    <tr>\n",
       "        <td style=\"padding-left: 1em; padding-right: 1em; text-align: center; vertical-align: top\">657</td>\n",
       "        <td style=\"padding-left: 1em; padding-right: 1em; text-align: center; vertical-align: top\">0.242997214198</td>\n",
       "        <td style=\"padding-left: 1em; padding-right: 1em; text-align: center; vertical-align: top\">[3.48835055775e-06,<br>1.58360251135e-06, ...</td>\n",
       "    </tr>\n",
       "    <tr>\n",
       "        <td style=\"padding-left: 1em; padding-right: 1em; text-align: center; vertical-align: top\">25943</td>\n",
       "        <td style=\"padding-left: 1em; padding-right: 1em; text-align: center; vertical-align: top\">-0.445351481438</td>\n",
       "        <td style=\"padding-left: 1em; padding-right: 1em; text-align: center; vertical-align: top\">[1.295065249e-05,<br>-2.90351563308e-05, ...</td>\n",
       "    </tr>\n",
       "</table>\n",
       "[940 rows x 3 columns]<br/>Note: Only the head of the SFrame is printed.<br/>You can use print_rows(num_rows=m, num_columns=n) to print more rows and columns.\n",
       "</div>"
      ],
      "text/plain": [
       "Columns:\n",
       "\tuserID\tint\n",
       "\tlinear_terms\tfloat\n",
       "\tfactors\tarray\n",
       "\n",
       "Rows: 940\n",
       "\n",
       "Data:\n",
       "+--------+-----------------+-------------------------------+\n",
       "| userID |   linear_terms  |            factors            |\n",
       "+--------+-----------------+-------------------------------+\n",
       "| 13389  |  0.449082821608 | [-2.9401418189e-08, -2.474... |\n",
       "| 147129 |  0.018716853112 | [6.31890827663e-07, -1.235... |\n",
       "| 82625  |  0.256159394979 | [1.29775025925e-06, 1.1002... |\n",
       "| 12251  |  0.671747028828 | [-1.14628380743e-06, -3.97... |\n",
       "| 160216 | 0.0298878327012 | [5.05336538481e-06, 7.6147... |\n",
       "|   1    |  0.368342787027 | [-3.67200627807e-05, 5.104... |\n",
       "|  546   |  0.484111756086 | [-2.40624467551e-06, -3.51... |\n",
       "|  609   | -0.215856999159 | [-2.25407035259e-07, 8.752... |\n",
       "|  657   |  0.242997214198 | [3.48835055775e-06, 1.5836... |\n",
       "| 25943  | -0.445351481438 | [1.295065249e-05, -2.90351... |\n",
       "+--------+-----------------+-------------------------------+\n",
       "[940 rows x 3 columns]\n",
       "Note: Only the head of the SFrame is printed.\n",
       "You can use print_rows(num_rows=m, num_columns=n) to print more rows and columns."
      ]
     },
     "execution_count": 964,
     "metadata": {},
     "output_type": "execute_result"
    }
   ],
   "source": [
    "coef_dict['userID']"
   ]
  },
  {
   "cell_type": "code",
   "execution_count": 881,
   "metadata": {
    "collapsed": true
   },
   "outputs": [],
   "source": [
    "s = set(glRatings['bookID'].unique())\n",
    "numCommsByBook = {k: len(v) for k, v in booksToRaterComms.items() if str(k) in s}"
   ]
  },
  {
   "cell_type": "code",
   "execution_count": 882,
   "metadata": {},
   "outputs": [
    {
     "data": {
      "text/plain": [
       "[(6310, 40),\n",
       " (49041, 40),\n",
       " (7445, 40),\n",
       " (6514, 40),\n",
       " (4473, 40),\n",
       " (37415, 40),\n",
       " (62291, 40),\n",
       " (11275, 40),\n",
       " (7588, 40),\n",
       " (1622, 40)]"
      ]
     },
     "execution_count": 882,
     "metadata": {},
     "output_type": "execute_result"
    }
   ],
   "source": [
    "[(k, v) for k, v in numCommsByBook.items() if v == 40]"
   ]
  },
  {
   "cell_type": "code",
   "execution_count": 892,
   "metadata": {},
   "outputs": [
    {
     "name": "stdout",
     "output_type": "stream",
     "text": [
      "2429135\n",
      "(u'The Girl with the Dragon Tattoo\\n      \\n          (Millennium #1)', 1766752)\n",
      "48855\n",
      "(u'The Diary of a Young Girl', 1900271)\n",
      "168668\n",
      "(u'Catch-22\\n      \\n          (Catch-22 #1)', 540094)\n",
      "13496\n",
      "(u'A Game of Thrones\\n      \\n          (A Song of Ice and Fire #1)', 1300530)\n",
      "41865\n",
      "(u'Twilight\\n      \\n          (Twilight  #1)', 3635695)\n",
      "43641\n",
      "(u'Water for Elephants', 1044043)\n",
      "3985\n",
      "(u'The Amazing Adventures of Kavalier & Clay', 147815)\n"
     ]
    }
   ],
   "source": [
    "for bID in [k for k, v in numCommsByBook.items() if v  == 50]:\n",
    "    print bID\n",
    "    print bookTitle(bID)"
   ]
  },
  {
   "cell_type": "code",
   "execution_count": 894,
   "metadata": {},
   "outputs": [
    {
     "name": "stdout",
     "output_type": "stream",
     "text": [
      "Community 46\n",
      "5 raters\n",
      "2.8 mean rating\n",
      "Earliest rating on Sep 25, 2008\n",
      "\n",
      "Total raters thus far: 5\n",
      "\n",
      "Community 10\n",
      "14 raters\n",
      "3.4 mean rating\n",
      "Earliest rating on Nov 17, 2008\n",
      "\n",
      "Total raters thus far: 22\n",
      "\n",
      "Community 70\n",
      "4 raters\n",
      "4.0 mean rating\n",
      "Earliest rating on Jan 23, 2009\n",
      "\n",
      "Total raters thus far: 26\n",
      "\n",
      "Community 65\n",
      "12 raters\n",
      "3.7 mean rating\n",
      "Earliest rating on Apr 11, 2009\n",
      "\n",
      "Total raters thus far: 41\n",
      "\n",
      "Community 21\n",
      "7 raters\n",
      "3.4 mean rating\n",
      "Earliest rating on Jul 15, 2009\n",
      "\n",
      "Total raters thus far: 50\n",
      "\n",
      "Community 33\n",
      "8 raters\n",
      "3.0 mean rating\n",
      "Earliest rating on Aug 05, 2009\n",
      "\n",
      "Total raters thus far: 58\n",
      "\n",
      "Community 23\n",
      "6 raters\n",
      "3.2 mean rating\n",
      "Earliest rating on Aug 05, 2009\n",
      "\n",
      "Total raters thus far: 64\n",
      "\n",
      "Community 49\n",
      "9 raters\n",
      "3.6 mean rating\n",
      "Earliest rating on Aug 05, 2009\n",
      "\n",
      "Total raters thus far: 73\n",
      "\n",
      "Community 68\n",
      "13 raters\n",
      "3.7 mean rating\n",
      "Earliest rating on Aug 28, 2009\n",
      "\n",
      "Total raters thus far: 86\n",
      "\n",
      "Community 17\n",
      "4 raters\n",
      "2.5 mean rating\n",
      "Earliest rating on Sep 23, 2009\n",
      "\n",
      "Total raters thus far: 90\n",
      "\n",
      "Community 67\n",
      "4 raters\n",
      "4.2 mean rating\n",
      "Earliest rating on Sep 30, 2009\n",
      "\n",
      "Total raters thus far: 94\n",
      "\n",
      "Community 63\n",
      "5 raters\n",
      "3.2 mean rating\n",
      "Earliest rating on Oct 25, 2009\n",
      "\n",
      "Total raters thus far: 101\n",
      "\n",
      "Community 73\n",
      "4 raters\n",
      "3.8 mean rating\n",
      "Earliest rating on Nov 25, 2009\n",
      "\n",
      "Total raters thus far: 107\n",
      "\n",
      "Community 7\n",
      "4 raters\n",
      "2.0 mean rating\n",
      "Earliest rating on Dec 01, 2009\n",
      "\n",
      "Total raters thus far: 114\n",
      "\n",
      "Community 18\n",
      "9 raters\n",
      "4.3 mean rating\n",
      "Earliest rating on Jan 26, 2010\n",
      "\n",
      "Total raters thus far: 127\n",
      "\n",
      "Community 71\n",
      "4 raters\n",
      "4.0 mean rating\n",
      "Earliest rating on Jan 31, 2010\n",
      "\n",
      "Total raters thus far: 131\n",
      "\n",
      "Community 50\n",
      "5 raters\n",
      "2.8 mean rating\n",
      "Earliest rating on Jun 03, 2010\n",
      "\n",
      "Total raters thus far: 142\n",
      "\n",
      "Community 22\n",
      "5 raters\n",
      "3.8 mean rating\n",
      "Earliest rating on Jul 11, 2010\n",
      "\n",
      "Total raters thus far: 148\n",
      "\n",
      "Community 15\n",
      "7 raters\n",
      "3.4 mean rating\n",
      "Earliest rating on Jul 11, 2010\n",
      "\n",
      "Total raters thus far: 155\n",
      "\n",
      "Community 48\n",
      "20 raters\n",
      "3.8 mean rating\n",
      "Earliest rating on Apr 18, 2011\n",
      "\n",
      "Total raters thus far: 180\n",
      "\n",
      "Community 2\n",
      "8 raters\n",
      "3.5 mean rating\n",
      "Earliest rating on Jul 18, 2012\n",
      "\n",
      "Total raters thus far: 199\n",
      "\n"
     ]
    }
   ],
   "source": [
    "testBID = 2429135\n",
    "\n",
    "commIndices = []\n",
    "allCommBookRatings = []\n",
    "numRaters = []\n",
    "meanRatings = []\n",
    "earliestTimes = []\n",
    "\n",
    "uIDsInGL = set(glRatings['userID'].unique())\n",
    "\n",
    "for commIndex in booksToRaterComms[testBID]:\n",
    "    commRatings = ratingsFull.find({'userID': {'$in': list(set(allComms[commIndex]) & uIDsInGL)}})\n",
    "    commBookRatings = [(r['ratings'][str(testBID)][0], \\\n",
    "                        datetime.strptime(r['ratings'][str(testBID)][2], grDateFormat), \\\n",
    "                        r['userID'])\\\n",
    "                       for r in commRatings if str(testBID) in r['ratings'].keys()]\n",
    "    allCommBookRatings.append(commBookRatings)\n",
    "    \n",
    "    commIndices.append(commIndex)\n",
    "    numRaters.append(len(commBookRatings))\n",
    "    meanRatings.append(np.mean(np.array(commBookRatings)[:,0]))\n",
    "    earliestTimes.append(min(r[1] for r in commBookRatings))\n",
    "\n",
    "timeOrder = np.argsort(earliestTimes)\n",
    "\n",
    "numRatersCumSum = 0\n",
    "for i in timeOrder:\n",
    "    numRatersCumSum += numRaters[i]\n",
    "    if numRaters[i] > 3:\n",
    "        print 'Community %d' % commIndices[i]\n",
    "        print '%d raters' % numRaters[i]\n",
    "        print '%.1f mean rating' % meanRatings[i]\n",
    "        print 'Earliest rating on %s' % datetime.strftime(earliestTimes[i], grDateFormat)\n",
    "        print '\\nTotal raters thus far: %d\\n' % numRatersCumSum"
   ]
  },
  {
   "cell_type": "code",
   "execution_count": 103,
   "metadata": {},
   "outputs": [
    {
     "name": "stdout",
     "output_type": "stream",
     "text": [
      "+--------+------+--------+----------+\n",
      "| bookID | comm | rating |  userID  |\n",
      "+--------+------+--------+----------+\n",
      "| 11275  |  48  |   4    | 5455905  |\n",
      "| 11275  |  48  |   4    | 8943786  |\n",
      "| 11275  |  48  |   3    | 19569261 |\n",
      "| 11275  |  48  |   4    | 8864511  |\n",
      "| 11275  |  48  |   4    | 23434392 |\n",
      "| 11275  |  48  |   5    | 9069989  |\n",
      "| 11275  |  48  |   5    | 48801419 |\n",
      "| 11275  |  48  |   4    | 8068801  |\n",
      "| 11275  |  48  |   4    | 7551020  |\n",
      "| 11275  |  48  |   5    | 2392247  |\n",
      "| 11275  |  48  |   4    | 6512932  |\n",
      "| 11275  |  48  |   3    | 5011787  |\n",
      "| 11275  |  48  |   4    | 5724539  |\n",
      "| 11275  |  48  |   5    | 40547054 |\n",
      "| 11275  |  48  |   1    | 9136579  |\n",
      "| 11275  |  48  |   5    | 20931024 |\n",
      "| 11275  |  48  |   4    | 8481252  |\n",
      "| 11275  |  48  |   5    | 25218011 |\n",
      "| 11275  |  48  |   4    | 6308393  |\n",
      "| 11275  |  48  |   5    | 20187777 |\n",
      "| 11275  |  48  |   5    | 43756219 |\n",
      "| 11275  |  48  |   3    | 26363295 |\n",
      "| 11275  |  48  |   4    | 7756517  |\n",
      "| 11275  |  48  |   5    | 42492733 |\n",
      "| 11275  |  48  |   5    | 19571542 |\n",
      "| 11275  |  48  |   5    | 5473130  |\n",
      "| 11275  |  48  |   4    | 4365464  |\n",
      "| 11275  |  48  |   5    | 4318144  |\n",
      "| 11275  |  48  |   4    | 14810189 |\n",
      "| 11275  |  48  |   4    | 7865435  |\n",
      "| 11275  |  48  |   4    | 18828555 |\n",
      "| 11275  |  48  |   5    | 5285276  |\n",
      "| 11275  |  48  |   5    | 17645156 |\n",
      "| 11275  |  48  |   4    | 13395605 |\n",
      "| 11275  |  48  |   4    | 12070558 |\n",
      "| 11275  |  48  |   3    | 20194939 |\n",
      "| 11275  |  48  |   5    | 20123295 |\n",
      "| 11275  |  48  |   4    | 3145513  |\n",
      "| 11275  |  48  |   4    | 19134258 |\n",
      "| 11275  |  48  |   5    | 5250698  |\n",
      "| 11275  |  48  |   4    | 4011888  |\n",
      "| 11275  |  48  |   5    | 21171872 |\n",
      "+--------+------+--------+----------+\n",
      "[42 rows x 4 columns]\n",
      "\n"
     ]
    }
   ],
   "source": [
    "relevantGLratings = glRatings[glRatings.apply(lambda x: x['comm'] == 48 and x['bookID'] == str(testBID))]\n",
    "relevantGLratings.print_rows(num_rows=42)"
   ]
  },
  {
   "cell_type": "code",
   "execution_count": 124,
   "metadata": {},
   "outputs": [
    {
     "name": "stdout",
     "output_type": "stream",
     "text": [
      "0.607146395116\n",
      "0.592260112867\n"
     ]
    }
   ],
   "source": [
    "relevantGLratings = signTestFrame[signTestFrame.apply(lambda x: x['comm'] == 48 and x['bookID'] == str(testBID))]\n",
    "relevantGLratings.add_column(gl.SArray(\\\n",
    "                             np.abs(np.array(relevantGLratings['rating'] - relevantGLratings['predsBase']))), \\\n",
    "                             'errsBase')\n",
    "relevantGLratings.add_column(gl.SArray(\\\n",
    "                             np.abs(np.array(relevantGLratings['rating'] - relevantGLratings['predsComm']))), \\\n",
    "                             'errsComm')\n",
    "\n",
    "#relevantGLratings.print_rows(num_rows=42, num_columns=8)\n",
    "print relevantGLratings['errsBase'].mean()\n",
    "print relevantGLratings['errsComm'].mean()"
   ]
  },
  {
   "cell_type": "code",
   "execution_count": 173,
   "metadata": {},
   "outputs": [
    {
     "data": {
      "image/png": "[encoded data removed]",
      "text/plain": [
       "<matplotlib.figure.Figure at 0x7fdfec71e450>"
      ]
     },
     "metadata": {},
     "output_type": "display_data"
    }
   ],
   "source": [
    "numRatingsByUser = glRatingsTrain.groupby(['userID'], {'numRatings': gl.aggregate.COUNT('rating')})\n",
    "plt.hist(numRatingsByUser['numRatings']);"
   ]
  },
  {
   "cell_type": "code",
   "execution_count": 682,
   "metadata": {
    "collapsed": true
   },
   "outputs": [],
   "source": [
    "pdRatingsTrain = glRatingsTrainWithComm.to_dataframe()\n",
    "pdRatingsTest = glRatingsTestWithComm.to_dataframe()"
   ]
  },
  {
   "cell_type": "code",
   "execution_count": 683,
   "metadata": {
    "collapsed": true
   },
   "outputs": [],
   "source": [
    "numRatingsByUser = glRatingsTrain.groupby(['userID'], {'numRatings': gl.aggregate.COUNT('rating')})\n",
    "numRatingsByUserDict = defaultdict(int, {r['userID']: r['numRatings'] for r in numRatingsByUser})\n",
    "\n",
    "numRatingsByBook = glRatingsTrain.groupby(['bookID'], {'numRatings': gl.aggregate.COUNT('rating')})\n",
    "numRatingsByBookDict = defaultdict(int, {r['bookID']: r['numRatings'] for r in numRatingsByBook})"
   ]
  },
  {
   "cell_type": "code",
   "execution_count": 684,
   "metadata": {
    "collapsed": true
   },
   "outputs": [],
   "source": [
    "pdRatingsTest['numRatingsByUser'] = pdRatingsTest['userID'].apply(lambda x: numRatingsByUserDict[x])\n",
    "pdRatingsTest['numRatingsByBook'] = pdRatingsTest['bookID'].apply(lambda x: numRatingsByBookDict[x])"
   ]
  },
  {
   "cell_type": "code",
   "execution_count": 685,
   "metadata": {},
   "outputs": [
    {
     "data": {
      "text/plain": [
       "count    5715.000000\n",
       "mean       94.543132\n",
       "std        66.651041\n",
       "min        15.000000\n",
       "25%        48.000000\n",
       "50%        76.000000\n",
       "75%       116.000000\n",
       "max       407.000000\n",
       "Name: numRatingsByUser, dtype: float64"
      ]
     },
     "execution_count": 685,
     "metadata": {},
     "output_type": "execute_result"
    }
   ],
   "source": [
    "pdRatingsTest['numRatingsByUser'].describe()"
   ]
  },
  {
   "cell_type": "code",
   "execution_count": 686,
   "metadata": {},
   "outputs": [
    {
     "data": {
      "text/plain": [
       "count    5715.000000\n",
       "mean       88.029221\n",
       "std        90.707186\n",
       "min         0.000000\n",
       "25%        26.000000\n",
       "50%        52.000000\n",
       "75%       110.000000\n",
       "max       419.000000\n",
       "Name: numRatingsByBook, dtype: float64"
      ]
     },
     "execution_count": 686,
     "metadata": {},
     "output_type": "execute_result"
    }
   ],
   "source": [
    "pdRatingsTest['numRatingsByBook'].describe()"
   ]
  },
  {
   "cell_type": "code",
   "execution_count": 691,
   "metadata": {},
   "outputs": [
    {
     "name": "stdout",
     "output_type": "stream",
     "text": [
      "0.513560804899\n"
     ]
    }
   ],
   "source": [
    "numRatingsCutoffHigh = 100000\n",
    "numRatingsCutoffLow = 50\n",
    "pdManyRatings = pdRatingsTest[(pdRatingsTest['numRatingsByBook'] > numRatingsCutoffLow) & (pdRatingsTest['numRatingsByBook'] < numRatingsCutoffHigh)]\n",
    "print ((pdRatingsTest['numRatingsByBook'] > numRatingsCutoffLow) & (pdRatingsTest['numRatingsByBook'] < numRatingsCutoffHigh)).mean()"
   ]
  },
  {
   "cell_type": "code",
   "execution_count": 692,
   "metadata": {},
   "outputs": [
    {
     "name": "stdout",
     "output_type": "stream",
     "text": [
      "0.48573928259\n"
     ]
    }
   ],
   "source": [
    "numRatingsCutoffHigh = 51\n",
    "numRatingsCutoffLow = 0\n",
    "pdFewRatings = pdRatingsTest[(pdRatingsTest['numRatingsByBook'] > numRatingsCutoffLow) & (pdRatingsTest['numRatingsByBook'] < numRatingsCutoffHigh)]\n",
    "print ((pdRatingsTest['numRatingsByBook'] > numRatingsCutoffLow) & (pdRatingsTest['numRatingsByBook'] < numRatingsCutoffHigh)).mean()"
   ]
  },
  {
   "cell_type": "code",
   "execution_count": 689,
   "metadata": {},
   "outputs": [
    {
     "name": "stdout",
     "output_type": "stream",
     "text": [
      "0.545756780402\n"
     ]
    }
   ],
   "source": [
    "numRatingsCutoffHigh = 100000\n",
    "numRatingsCutoffLow = 70\n",
    "pdManyRatings = pdRatingsTest[(pdRatingsTest['numRatingsByUser'] > numRatingsCutoffLow) & (pdRatingsTest['numRatingsByUser'] < numRatingsCutoffHigh)]\n",
    "print ((pdRatingsTest['numRatingsByUser'] > numRatingsCutoffLow) & (pdRatingsTest['numRatingsByUser'] < numRatingsCutoffHigh)).mean()"
   ]
  },
  {
   "cell_type": "code",
   "execution_count": 690,
   "metadata": {},
   "outputs": [
    {
     "name": "stdout",
     "output_type": "stream",
     "text": [
      "0.454243219598\n"
     ]
    }
   ],
   "source": [
    "numRatingsCutoffHigh = 71\n",
    "numRatingsCutoffLow = 0\n",
    "pdFewRatings = pdRatingsTest[(pdRatingsTest['numRatingsByUser'] > numRatingsCutoffLow) & (pdRatingsTest['numRatingsByUser'] < numRatingsCutoffHigh)]\n",
    "print ((pdRatingsTest['numRatingsByUser'] > numRatingsCutoffLow) & (pdRatingsTest['numRatingsByUser'] < numRatingsCutoffHigh)).mean()"
   ]
  },
  {
   "cell_type": "code",
   "execution_count": 575,
   "metadata": {
    "collapsed": true
   },
   "outputs": [],
   "source": [
    "meanWeights = np.linspace(0,1,20)\n",
    "\n",
    "rmsesSimple = []\n",
    "for weight in meanWeights:\n",
    "    rmsesSimple.append(mixedPred(glRatingsTestWithComm, \\\n",
    "                          commMeansTrain, commBookMeansTrain, commBookMeansTrain, rec_engine, rec_engine, \\\n",
    "                                            numTrainRatings_Test, \\\n",
    "                        False, False, True, weight)[1])\n",
    "\n",
    "\n",
    "rmsesSimpleManyRatings = []\n",
    "for weight in meanWeights:\n",
    "    rmsesSimpleManyRatings.append(mixedPred(gl.SFrame(pdManyRatings[['userID','bookID','comm','rating']]), \\\n",
    "                          commMeansTrain, commBookMeansTrain, commBookMeansTrain, rec_engine, rec_engine, \\\n",
    "                                            numTrainRatings_Test, \\\n",
    "                        False, False, True, weight)[1])\n",
    "    \n",
    "rmsesSimpleFewRatings = []\n",
    "for weight in meanWeights:\n",
    "    rmsesSimpleFewRatings.append(mixedPred(gl.SFrame(pdFewRatings[['userID','bookID','comm','rating']]), \\\n",
    "                          commMeansTrain, commBookMeansTrain, commBookMeansTrain, rec_engine, rec_engine, \\\n",
    "                                            numTrainRatings_Test, \\\n",
    "                        False, False, True, weight)[1])\n",
    "\n",
    "\n",
    "rmsesSocialRecManyRatings = []\n",
    "\n",
    "for weight in meanWeights:\n",
    "    rmsesSocialRecManyRatings.append(\\\n",
    "                mixedPred(gl.SFrame(pdManyRatings[['userID','bookID','comm','rating']]), \\\n",
    "                          commMeansTrain, commBookMeansTrain, commBookMeansTrain, rec_engine, rec_engine_comm, \\\n",
    "                          numTrainRatings_Test, \\\n",
    "                          False, True, False, weight)[1])\n",
    "    \n",
    "rmsesSocialRecFewRatings = []\n",
    "\n",
    "for weight in meanWeights:\n",
    "    rmsesSocialRecFewRatings.append(\\\n",
    "                mixedPred(gl.SFrame(pdFewRatings[['userID','bookID','comm','rating']]), \\\n",
    "                          commMeansTrain, commBookMeansTrain, commBookMeansTrain, rec_engine, rec_engine_comm, \\\n",
    "                          numTrainRatings_Test, \\\n",
    "                          False, True, False, weight)[1])"
   ]
  },
  {
   "cell_type": "code",
   "execution_count": 576,
   "metadata": {},
   "outputs": [
    {
     "data": {
      "text/plain": [
       "<matplotlib.legend.Legend at 0x7f0a0438b210>"
      ]
     },
     "execution_count": 576,
     "metadata": {},
     "output_type": "execute_result"
    },
    {
     "data": {
      "image/png": "[encoded data removed]",
      "text/plain": [
       "<matplotlib.figure.Figure at 0x7f0ad0246810>"
      ]
     },
     "metadata": {},
     "output_type": "display_data"
    }
   ],
   "source": [
    "plt.figure(figsize=(12,8))\n",
    "plt.plot(meanWeights, rmsesSimple,label='rmsesSimple')\n",
    "plt.plot(meanWeights, rmsesSimpleManyRatings,'-.',color='r',label='rmsesSimpleManyRatings')\n",
    "plt.plot(meanWeights, rmsesSimpleFewRatings,'-.',color='g',label='rmsesSimpleFewRatings')\n",
    "\n",
    "plt.plot(meanWeights, rmsesSocialRecManyRatings,'--',color='r',label='rmsesSocialRecManyRatings')\n",
    "plt.plot(meanWeights, rmsesSocialRecFewRatings,'--',color='g',label='rmsesSocialRecFewRatings')\n",
    "plt.legend()"
   ]
  },
  {
   "cell_type": "code",
   "execution_count": 577,
   "metadata": {},
   "outputs": [
    {
     "name": "stdout",
     "output_type": "stream",
     "text": [
      "0.886774861619\n",
      "0.896864239747\n",
      "0.874396819662\n"
     ]
    }
   ],
   "source": [
    "print min(rmsesSimple)\n",
    "print min(rmsesSimpleFewRatings)\n",
    "print min(rmsesSimpleManyRatings)"
   ]
  },
  {
   "cell_type": "code",
   "execution_count": 693,
   "metadata": {},
   "outputs": [
    {
     "data": {
      "text/plain": [
       "array([   24,    67,    68,    92,   102,   110,   111,   130,   136,\n",
       "         137,   148,   153,   157,   157,   168,   171,   175,   180,\n",
       "         187,   201,   210,   212,   213,   227,   253,   253,   254,\n",
       "         260,   267,   291,   294,   304,   310,   334,   336,   339,\n",
       "         342,   352,   361,   410,   417,   434,   435,   436,   437,\n",
       "         479,   537,   538,   543,   583,   652,   680,   742,   797,\n",
       "         802,   838,   855,   869,   933,   955,   985,  1037,  1041,\n",
       "        1165,  1215,  1244,  1296,  1495,  1655,  1761,  2374,  3410, 11292])"
      ]
     },
     "execution_count": 693,
     "metadata": {},
     "output_type": "execute_result"
    },
    {
     "data": {
      "image/png": "[encoded data removed]",
      "text/plain": [
       "<matplotlib.figure.Figure at 0x7f0c38043c90>"
      ]
     },
     "metadata": {},
     "output_type": "display_data"
    }
   ],
   "source": [
    "numRatingsByComm = glRatingsTrainWithComm.groupby(['comm'], {'numRatings': gl.aggregate.COUNT('rating')})\n",
    "plt.hist(numRatingsByComm['numRatings']);\n",
    "np.sort(numRatingsByComm['numRatings'])"
   ]
  },
  {
   "cell_type": "code",
   "execution_count": 694,
   "metadata": {
    "collapsed": true
   },
   "outputs": [],
   "source": [
    "pdRatingsTrain = glRatingsTrainWithComm.to_dataframe()\n",
    "pdRatingsTest = glRatingsTestWithComm.to_dataframe()"
   ]
  },
  {
   "cell_type": "code",
   "execution_count": 695,
   "metadata": {
    "collapsed": true
   },
   "outputs": [],
   "source": [
    "numRatingsByCommDict = defaultdict(int, {r['comm']: r['numRatings'] for r in numRatingsByComm})"
   ]
  },
  {
   "cell_type": "code",
   "execution_count": 696,
   "metadata": {
    "collapsed": true
   },
   "outputs": [],
   "source": [
    "pdRatingsTest['numRatingsByComm'] = pdRatingsTest['comm'].apply(lambda x: numRatingsByCommDict[x])"
   ]
  },
  {
   "cell_type": "code",
   "execution_count": 697,
   "metadata": {},
   "outputs": [
    {
     "data": {
      "text/plain": [
       "count     5715.000000\n",
       "mean      3360.497288\n",
       "std       4268.395299\n",
       "min         24.000000\n",
       "25%        583.000000\n",
       "50%       1215.000000\n",
       "75%       3410.000000\n",
       "max      11292.000000\n",
       "Name: numRatingsByComm, dtype: float64"
      ]
     },
     "execution_count": 697,
     "metadata": {},
     "output_type": "execute_result"
    }
   ],
   "source": [
    "pdRatingsTest['numRatingsByComm'].describe()"
   ]
  },
  {
   "cell_type": "code",
   "execution_count": 698,
   "metadata": {},
   "outputs": [
    {
     "name": "stdout",
     "output_type": "stream",
     "text": [
      "0.562379702537\n"
     ]
    }
   ],
   "source": [
    "numRatingsCutoff = 1000\n",
    "pdManyRatings = pdRatingsTest[(pdRatingsTest['numRatingsByComm'] > numRatingsCutoff) & (pdRatingsTest['numRatingsByComm'] > 0)]\n",
    "print ((pdRatingsTest['numRatingsByComm'] > numRatingsCutoff) & (pdRatingsTest['numRatingsByComm'] > 0)).mean()"
   ]
  },
  {
   "cell_type": "code",
   "execution_count": 699,
   "metadata": {},
   "outputs": [
    {
     "name": "stdout",
     "output_type": "stream",
     "text": [
      "0.437620297463\n"
     ]
    }
   ],
   "source": [
    "numRatingsCutoff = 1000\n",
    "pdFewRatings = pdRatingsTest[(pdRatingsTest['numRatingsByComm'] <= numRatingsCutoff) & (pdRatingsTest['numRatingsByComm'] > 0)]\n",
    "print ((pdRatingsTest['numRatingsByComm'] <= numRatingsCutoff) & (pdRatingsTest['numRatingsByComm'] > 0)).mean()"
   ]
  },
  {
   "cell_type": "code",
   "execution_count": 700,
   "metadata": {},
   "outputs": [
    {
     "ename": "ValueError",
     "evalue": "operands could not be broadcast together with shapes (5715,) (3214,) ",
     "output_type": "error",
     "traceback": [
      "\u001b[0;31m---------------------------------------------------------------------------\u001b[0m",
      "\u001b[0;31mValueError\u001b[0m                                Traceback (most recent call last)",
      "\u001b[0;32m<ipython-input-700-1f0b97aaf771>\u001b[0m in \u001b[0;36m<module>\u001b[0;34m()\u001b[0m\n\u001b[1;32m      3\u001b[0m \u001b[0mrmsesSimpleManyRatings\u001b[0m \u001b[0;34m=\u001b[0m \u001b[0;34m[\u001b[0m\u001b[0;34m]\u001b[0m\u001b[0;34m\u001b[0m\u001b[0m\n\u001b[1;32m      4\u001b[0m \u001b[0;32mfor\u001b[0m \u001b[0mweight\u001b[0m \u001b[0;32min\u001b[0m \u001b[0mmeanWeights\u001b[0m\u001b[0;34m:\u001b[0m\u001b[0;34m\u001b[0m\u001b[0m\n\u001b[0;32m----> 5\u001b[0;31m     \u001b[0mrmsesSimpleManyRatings\u001b[0m\u001b[0;34m.\u001b[0m\u001b[0mappend\u001b[0m\u001b[0;34m(\u001b[0m\u001b[0mmixedPred\u001b[0m\u001b[0;34m(\u001b[0m\u001b[0mgl\u001b[0m\u001b[0;34m.\u001b[0m\u001b[0mSFrame\u001b[0m\u001b[0;34m(\u001b[0m\u001b[0mpdManyRatings\u001b[0m\u001b[0;34m[\u001b[0m\u001b[0;34m[\u001b[0m\u001b[0;34m'userID'\u001b[0m\u001b[0;34m,\u001b[0m\u001b[0;34m'bookID'\u001b[0m\u001b[0;34m,\u001b[0m\u001b[0;34m'comm'\u001b[0m\u001b[0;34m,\u001b[0m\u001b[0;34m'rating'\u001b[0m\u001b[0;34m]\u001b[0m\u001b[0;34m]\u001b[0m\u001b[0;34m)\u001b[0m\u001b[0;34m,\u001b[0m                           \u001b[0mcommMeansTrain\u001b[0m\u001b[0;34m,\u001b[0m \u001b[0mcommBookMeansTrain\u001b[0m\u001b[0;34m,\u001b[0m \u001b[0mcommBookMeansTrain\u001b[0m\u001b[0;34m,\u001b[0m \u001b[0mrec_engine\u001b[0m\u001b[0;34m,\u001b[0m \u001b[0mrec_engine\u001b[0m\u001b[0;34m,\u001b[0m                                             \u001b[0mnumTrainRatings_Test\u001b[0m\u001b[0;34m,\u001b[0m                         \u001b[0mFalse\u001b[0m\u001b[0;34m,\u001b[0m \u001b[0mFalse\u001b[0m\u001b[0;34m,\u001b[0m \u001b[0mTrue\u001b[0m\u001b[0;34m,\u001b[0m \u001b[0mweight\u001b[0m\u001b[0;34m)\u001b[0m\u001b[0;34m[\u001b[0m\u001b[0;36m1\u001b[0m\u001b[0;34m]\u001b[0m\u001b[0;34m)\u001b[0m\u001b[0;34m\u001b[0m\u001b[0m\n\u001b[0m\u001b[1;32m      6\u001b[0m \u001b[0;34m\u001b[0m\u001b[0m\n\u001b[1;32m      7\u001b[0m \u001b[0mrmsesSimpleFewRatings\u001b[0m \u001b[0;34m=\u001b[0m \u001b[0;34m[\u001b[0m\u001b[0;34m]\u001b[0m\u001b[0;34m\u001b[0m\u001b[0m\n",
      "\u001b[0;32m/home/ubuntu/goodreads_rating_prediction/src/modeling.py\u001b[0m in \u001b[0;36mmixedPred\u001b[0;34m(glRatingsTestWithComm, commMeansTrain, commBookMeansTrain, factorCommBookMeansTrain, rec_engine, rec_engine_comm, numTrainRatings_Test, commMeansOverBaseRec, socialRec, useBookMeans, meanWeight)\u001b[0m\n\u001b[1;32m    231\u001b[0m     \u001b[0mpredsComm\u001b[0m\u001b[0;34m[\u001b[0m\u001b[0mpredsComm\u001b[0m\u001b[0;34m<\u001b[0m\u001b[0;36m0\u001b[0m\u001b[0;34m]\u001b[0m \u001b[0;34m=\u001b[0m \u001b[0mpredsBase\u001b[0m\u001b[0;34m[\u001b[0m\u001b[0mpredsComm\u001b[0m\u001b[0;34m<\u001b[0m\u001b[0;36m0\u001b[0m\u001b[0;34m]\u001b[0m\u001b[0;34m\u001b[0m\u001b[0m\n\u001b[1;32m    232\u001b[0m     \u001b[0;31m#preds = (1-meanWeight)*predsBase + meanWeight*predsComm\u001b[0m\u001b[0;34m\u001b[0m\u001b[0;34m\u001b[0m\u001b[0m\n\u001b[0;32m--> 233\u001b[0;31m     \u001b[0mpreds\u001b[0m \u001b[0;34m=\u001b[0m \u001b[0;34m(\u001b[0m\u001b[0;36m1\u001b[0m\u001b[0;34m-\u001b[0m\u001b[0madjWeights\u001b[0m\u001b[0;34m*\u001b[0m\u001b[0mmeanWeight\u001b[0m\u001b[0;34m)\u001b[0m\u001b[0;34m*\u001b[0m\u001b[0mpredsBase\u001b[0m \u001b[0;34m+\u001b[0m \u001b[0mmeanWeight\u001b[0m\u001b[0;34m*\u001b[0m\u001b[0madjWeights\u001b[0m\u001b[0;34m*\u001b[0m\u001b[0mpredsComm\u001b[0m\u001b[0;34m\u001b[0m\u001b[0m\n\u001b[0m\u001b[1;32m    234\u001b[0m     \u001b[0mpredRmse\u001b[0m \u001b[0;34m=\u001b[0m \u001b[0mrmse\u001b[0m\u001b[0;34m(\u001b[0m\u001b[0mpreds\u001b[0m\u001b[0;34m,\u001b[0m \u001b[0mglRatingsTestWithComm\u001b[0m\u001b[0;34m[\u001b[0m\u001b[0;34m'rating'\u001b[0m\u001b[0;34m]\u001b[0m\u001b[0;34m.\u001b[0m\u001b[0mto_numpy\u001b[0m\u001b[0;34m(\u001b[0m\u001b[0;34m)\u001b[0m\u001b[0;34m)\u001b[0m\u001b[0;34m\u001b[0m\u001b[0m\n\u001b[1;32m    235\u001b[0m     \u001b[0;32mreturn\u001b[0m \u001b[0mpreds\u001b[0m\u001b[0;34m,\u001b[0m \u001b[0mpredRmse\u001b[0m\u001b[0;34m\u001b[0m\u001b[0m\n",
      "\u001b[0;31mValueError\u001b[0m: operands could not be broadcast together with shapes (5715,) (3214,) "
     ]
    }
   ],
   "source": [
    "meanWeights = np.linspace(0,1,20)\n",
    "\n",
    "rmsesSimpleManyRatings = []\n",
    "for weight in meanWeights:\n",
    "    rmsesSimpleManyRatings.append(mixedPred(gl.SFrame(pdManyRatings[['userID','bookID','comm','rating']]), \\\n",
    "                          commMeansTrain, commBookMeansTrain, commBookMeansTrain, rec_engine, rec_engine, \\\n",
    "                                            numTrainRatings_Test, \\\n",
    "                        False, False, True, weight)[1])\n",
    "    \n",
    "rmsesSimpleFewRatings = []\n",
    "for weight in meanWeights:\n",
    "    rmsesSimpleFewRatings.append(mixedPred(gl.SFrame(pdFewRatings[['userID','bookID','comm','rating']]), \\\n",
    "                          commMeansTrain, commBookMeansTrain, commBookMeansTrain, rec_engine, rec_engine, \\\n",
    "                                            numTrainRatings_Test, \\\n",
    "                        False, False, True, weight)[1])\n",
    "\n",
    "\n",
    "rmsesSocialRecManyRatings = []\n",
    "\n",
    "for weight in meanWeights:\n",
    "    rmsesSocialRecManyRatings.append(\\\n",
    "                mixedPred(gl.SFrame(pdManyRatings[['userID','bookID','comm','rating']]), \\\n",
    "                          commMeansTrain, commBookMeansTrain, commBookMeansTrain, rec_engine, rec_engine_comm, \\\n",
    "                          numTrainRatings_Test, \\\n",
    "                          False, True, False, weight)[1])\n",
    "    \n",
    "rmsesSocialRecFewRatings = []\n",
    "\n",
    "for weight in meanWeights:\n",
    "    rmsesSocialRecFewRatings.append(\\\n",
    "                mixedPred(gl.SFrame(pdFewRatings[['userID','bookID','comm','rating']]), \\\n",
    "                          commMeansTrain, commBookMeansTrain, commBookMeansTrain, rec_engine, rec_engine_comm, \\\n",
    "                          numTrainRatings_Test, \\\n",
    "                          False, True, False, weight)[1])"
   ]
  },
  {
   "cell_type": "code",
   "execution_count": 540,
   "metadata": {
    "scrolled": true
   },
   "outputs": [
    {
     "data": {
      "text/plain": [
       "<matplotlib.legend.Legend at 0x7f09ece8d2d0>"
      ]
     },
     "execution_count": 540,
     "metadata": {},
     "output_type": "execute_result"
    },
    {
     "data": {
      "image/png": "[encoded data removed]",
      "text/plain": [
       "<matplotlib.figure.Figure at 0x7f0ab06a0910>"
      ]
     },
     "metadata": {},
     "output_type": "display_data"
    }
   ],
   "source": [
    "plt.figure(figsize=(12,8))\n",
    "plt.plot(meanWeights, rmsesSimple,label='rmsesSimple')\n",
    "plt.plot(meanWeights, rmsesSimpleManyRatings,'-.',color='r',label='rmsesSimpleManyRatings')\n",
    "plt.plot(meanWeights, rmsesSimpleFewRatings,'-.',color='g',label='rmsesSimpleFewRatings')\n",
    "\n",
    "plt.plot(meanWeights, rmsesSocialRecManyRatings,'--',color='r',label='rmsesSocialRecManyRatings')\n",
    "plt.plot(meanWeights, rmsesSocialRecFewRatings,'--',color='g',label='rmsesSocialRecFewRatings')\n",
    "plt.legend()"
   ]
  },
  {
   "cell_type": "code",
   "execution_count": 416,
   "metadata": {},
   "outputs": [
    {
     "name": "stdout",
     "output_type": "stream",
     "text": [
      "0.105263157895\n",
      "0.0526315789474\n",
      "0.105263157895\n"
     ]
    }
   ],
   "source": [
    "print meanWeights[np.argmin(rmsesSimple)]\n",
    "print meanWeights[np.argmin(rmsesSimpleManyRatings)]\n",
    "print meanWeights[np.argmin(rmsesSimpleFewRatings)]"
   ]
  },
  {
   "cell_type": "code",
   "execution_count": 414,
   "metadata": {},
   "outputs": [
    {
     "data": {
      "text/plain": [
       "count    4965.000000\n",
       "mean      124.497281\n",
       "std        81.539893\n",
       "min        18.000000\n",
       "25%        65.000000\n",
       "50%       102.000000\n",
       "75%       158.000000\n",
       "max       376.000000\n",
       "Name: userID, dtype: float64"
      ]
     },
     "execution_count": 414,
     "metadata": {},
     "output_type": "execute_result"
    }
   ],
   "source": [
    "pdManyRatings['userID'].apply(lambda x: numRatingsByUserDict[x]).describe()"
   ]
  },
  {
   "cell_type": "code",
   "execution_count": 415,
   "metadata": {},
   "outputs": [
    {
     "data": {
      "text/plain": [
       "count    4484.000000\n",
       "mean       98.522971\n",
       "std        70.383467\n",
       "min        15.000000\n",
       "25%        49.000000\n",
       "50%        81.000000\n",
       "75%       117.000000\n",
       "max       400.000000\n",
       "Name: userID, dtype: float64"
      ]
     },
     "execution_count": 415,
     "metadata": {},
     "output_type": "execute_result"
    }
   ],
   "source": [
    "pdFewRatings['userID'].apply(lambda x: numRatingsByUserDict[x]).describe()"
   ]
  },
  {
   "cell_type": "code",
   "execution_count": null,
   "metadata": {
    "collapsed": true
   },
   "outputs": [],
   "source": []
  }
 ],
 "metadata": {
  "anaconda-cloud": {},
  "kernelspec": {
   "display_name": "Python 2",
   "language": "python",
   "name": "python2"
  },
  "language_info": {
   "codemirror_mode": {
    "name": "ipython",
    "version": 2
   },
   "file_extension": ".py",
   "mimetype": "text/x-python",
   "name": "python",
   "nbconvert_exporter": "python",
   "pygments_lexer": "ipython2",
   "version": "2.7.13"
  }
 },
 "nbformat": 4,
 "nbformat_minor": 1
}

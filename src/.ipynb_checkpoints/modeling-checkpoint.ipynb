{
 "cells": [
  {
   "cell_type": "code",
   "execution_count": 2,
   "metadata": {
    "collapsed": false
   },
   "outputs": [
    {
     "name": "stdout",
     "output_type": "stream",
     "text": [
      "This non-commercial license of GraphLab Create for academic use is assigned to ref302@nyu.edu and will expire on October 13, 2017.\n"
     ]
    },
    {
     "name": "stderr",
     "output_type": "stream",
     "text": [
      "[INFO] graphlab.cython.cy_server: GraphLab Create v2.1 started. Logging: /tmp/graphlab_server_1480452787.log\n"
     ]
    }
   ],
   "source": [
    "%reload_ext autoreload\n",
    "%autoreload 2\n",
    "from scrape_GR_tools import *\n",
    "from scrape_explore import *\n",
    "from friend_groups import *\n",
    "from modeling import *\n",
    "#put this in scrape_GR_tools\n",
    "import pandas as pd\n",
    "\n",
    "import graphlab as gl\n",
    "\n",
    "import networkx as nx\n",
    "import nxpd as nxpd\n",
    "from IPython.display import display, Image\n",
    "import community\n",
    "\n",
    "from datetime import date, datetime\n",
    "grDateFormat = '%b %d, %Y'\n",
    "\n",
    "%matplotlib inline\n",
    "import matplotlib.pyplot as plt\n",
    "from matplotlib import colors\n",
    "\n",
    "from itertools import product"
   ]
  },
  {
   "cell_type": "markdown",
   "metadata": {},
   "source": [
    "SETTING UP DATA FOR PREDICTION"
   ]
  },
  {
   "cell_type": "code",
   "execution_count": 3,
   "metadata": {
    "collapsed": false
   },
   "outputs": [],
   "source": [
    "client = MongoClient(\"mongodb://35.163.255.3\") #bigCruncher"
   ]
  },
  {
   "cell_type": "code",
   "execution_count": 4,
   "metadata": {
    "collapsed": false
   },
   "outputs": [
    {
     "name": "stdout",
     "output_type": "stream",
     "text": [
      "Checking database 'goodreads_explore_from_book_tnc'\n",
      "Database has 0 comms (we now have 0 in total)\n",
      "\n",
      "Checking database 'goodreads_explore_from_book_ender'\n",
      "Database has 11 comms (we now have 11 in total)\n",
      "\n",
      "Checking database 'goodreads_explore_from_book_fault_in_our_stars'\n",
      "Database has 0 comms (we now have 11 in total)\n",
      "\n",
      "Checking database 'goodreads_explore_from_book_hedgehog'\n",
      "Database has 2 comms (we now have 13 in total)\n",
      "\n",
      "Checking database 'goodreads_explore_from_book_pride_and_prejudice'\n",
      "Database has 9 comms (we now have 22 in total)\n",
      "\n",
      "Checking database 'goodreads_explore_from_book_mice_and_men'\n",
      "Database has 11 comms (we now have 33 in total)\n",
      "\n",
      "Checking database 'goodreads_explore_from_book_jest'\n",
      "Database has 19 comms (we now have 52 in total)\n",
      "\n",
      "Checking database 'goodreads_explore_from_book_swiftly'\n",
      "Database has 0 comms (we now have 52 in total)\n",
      "\n",
      "Checking database 'goodreads_explore_from_book_lies'\n",
      "Database has 0 comms (we now have 52 in total)\n",
      "\n",
      "Checking database 'goodreads_explore_from_book_alchemist'\n",
      "Database has 7 comms (we now have 59 in total)\n",
      "\n",
      "Checking database 'goodreads_explore_from_book_house_of_leaves'\n",
      "Database has 7 comms (we now have 66 in total)\n",
      "\n",
      "Checking database 'goodreads_explore_from_book_sun_also_rises'\n",
      "Database has 8 comms (we now have 74 in total)\n",
      "\n",
      "Checking database 'goodreads_explore_from_book_divergent'\n",
      "Database has 0 comms (we now have 74 in total)\n",
      "\n",
      "Checking database 'goodreads_explore_from_book_game_of_thrones'\n",
      "Database has 3 comms (we now have 77 in total)\n",
      "\n",
      "Checking database 'goodreads_explore_from_book_atlas'\n",
      "Database has 7 comms (we now have 84 in total)\n",
      "\n",
      "Checking database 'goodreads_explore_from_book_manifesto'\n",
      "Database has 5 comms (we now have 89 in total)\n",
      "\n",
      "Finished collecting comms.  We have 89 comms in total.  Pruning...\n",
      "\n",
      "Comms 6 and 20 were identical; removing 6\n",
      "\n",
      "Comms 14 and 67 were identical; removing 14\n",
      "\n",
      "Comms 18 and 70 were identical; removing 18\n",
      "\n",
      "Comms 34 and 77 were identical; removing 34\n",
      "\n",
      "Comms 36 and 82 were identical; removing 36\n",
      "\n",
      "Comms 37 and 87 were identical; removing 37\n",
      "\n",
      "Comms 38 and 81 were identical; removing 38\n",
      "\n",
      "Comms 39 and 78 were identical; removing 39\n",
      "\n",
      "Comms 43 and 84 were identical; removing 43\n",
      "\n",
      "Comms 44 and 83 were identical; removing 44\n",
      "\n",
      "Comms 71 and 88 were identical; removing 71\n",
      "\n",
      "Began with 89 comms, now have 78 after pruning.\n"
     ]
    }
   ],
   "source": [
    "allComms = collectAllComms(client)"
   ]
  },
  {
   "cell_type": "code",
   "execution_count": 5,
   "metadata": {
    "collapsed": false,
    "scrolled": true
   },
   "outputs": [],
   "source": [
    "dbFull = client['goodreads_full']\n",
    "\n",
    "ratingsFull = dbFull['ratings']\n",
    "friendsFull = dbFull['friends']\n",
    "booksFull = dbFull['books']\n",
    "\n",
    "#updateCommsOfRaters2(booksFull, allComms)\n",
    "#updateCommsOfRaters(ratingsFull, booksFull, allComms)\n",
    "booksToRaterComms = getCommsOfRaters(ratingsFull, allComms)"
   ]
  },
  {
   "cell_type": "code",
   "execution_count": 6,
   "metadata": {
    "collapsed": false
   },
   "outputs": [
    {
     "data": {
      "text/html": [
       "<pre>Using default 16 lambda workers.</pre>"
      ],
      "text/plain": [
       "Using default 16 lambda workers."
      ]
     },
     "metadata": {},
     "output_type": "display_data"
    },
    {
     "data": {
      "text/html": [
       "<pre>To maximize the degree of parallelism, add the following code to the beginning of the program:</pre>"
      ],
      "text/plain": [
       "To maximize the degree of parallelism, add the following code to the beginning of the program:"
      ]
     },
     "metadata": {},
     "output_type": "display_data"
    },
    {
     "data": {
      "text/html": [
       "<pre>\"graphlab.set_runtime_config('GRAPHLAB_DEFAULT_NUM_PYLAMBDA_WORKERS', 36)\"</pre>"
      ],
      "text/plain": [
       "\"graphlab.set_runtime_config('GRAPHLAB_DEFAULT_NUM_PYLAMBDA_WORKERS', 36)\""
      ]
     },
     "metadata": {},
     "output_type": "display_data"
    },
    {
     "data": {
      "text/html": [
       "<pre>Note that increasing the degree of parallelism also increases the memory footprint.</pre>"
      ],
      "text/plain": [
       "Note that increasing the degree of parallelism also increases the memory footprint."
      ]
     },
     "metadata": {},
     "output_type": "display_data"
    }
   ],
   "source": [
    "glRatings = makeRecommenderInputs(ratingsFull, booksFull, allComms, booksToRaterComms, 20, 20, False)\n",
    "outlierDict, glRatingsNoOutliers = removeGlOutliers(glRatings)"
   ]
  },
  {
   "cell_type": "code",
   "execution_count": 343,
   "metadata": {
    "collapsed": true
   },
   "outputs": [],
   "source": [
    "trainSplitRmses = []\n",
    "trainSplitRmsesFake = []"
   ]
  },
  {
   "cell_type": "code",
   "execution_count": 375,
   "metadata": {
    "collapsed": false
   },
   "outputs": [
    {
     "data": {
      "text/plain": [
       "\"\\n\\nglRatingsTrain, glRatingsTest = makeRecommenderInputs(ratingsFull, booksFull, allComms, booksToRaterComms, 20, 20,                                                     True, datetime.strptime('Apr 17, 2013', grDateFormat))\\n\\nglRatingsTrain = glRatingsTrain[glRatingsTrain['comm'].apply(lambda x: outlierDict[x])]\\nglRatingsTest = glRatingsTest[glRatingsTest['comm'].apply(lambda x: outlierDict[x])]\\n\""
      ]
     },
     "execution_count": 375,
     "metadata": {},
     "output_type": "execute_result"
    }
   ],
   "source": [
    "glRatingsTrain, glRatingsTest = gl.recommender.util.random_split_by_user(glRatings, \n",
    "                                                    user_id=\"userID\", \n",
    "                                                    item_id=\"bookID\")\n",
    "'''\n",
    "\n",
    "glRatingsTrain, glRatingsTest = makeRecommenderInputs(ratingsFull, booksFull, allComms, booksToRaterComms, 20, 20,\\\n",
    "                                                     True, datetime.strptime('Apr 17, 2013', grDateFormat))\n",
    "\n",
    "glRatingsTrain = glRatingsTrain[glRatingsTrain['comm'].apply(lambda x: outlierDict[x])]\n",
    "glRatingsTest = glRatingsTest[glRatingsTest['comm'].apply(lambda x: outlierDict[x])]\n",
    "'''"
   ]
  },
  {
   "cell_type": "code",
   "execution_count": 262,
   "metadata": {
    "collapsed": false
   },
   "outputs": [
    {
     "name": "stdout",
     "output_type": "stream",
     "text": [
      "0.17097433297\n"
     ]
    }
   ],
   "source": [
    "print float(glRatingsTest.shape[0]) / (glRatingsTest.shape[0] + glRatingsTrain.shape[0])"
   ]
  },
  {
   "cell_type": "code",
   "execution_count": 263,
   "metadata": {
    "collapsed": false
   },
   "outputs": [
    {
     "data": {
      "text/plain": [
       "count    1183.000000\n",
       "mean       46.988166\n",
       "std        44.008708\n",
       "min         1.000000\n",
       "25%        16.000000\n",
       "50%        33.000000\n",
       "75%        62.000000\n",
       "max       349.000000\n",
       "dtype: float64"
      ]
     },
     "execution_count": 263,
     "metadata": {},
     "output_type": "execute_result"
    }
   ],
   "source": [
    "numRatingsByUser = glRatingsTrain.groupby(['userID'], {'numRatings': gl.aggregate.COUNT('rating')})['numRatings']\n",
    "numRatingsByUser = pd.Series(numRatingsByUser)\n",
    "(numRatingsByUser >= 20).mean()\n",
    "numRatingsByUser.describe()"
   ]
  },
  {
   "cell_type": "code",
   "execution_count": 264,
   "metadata": {
    "collapsed": false
   },
   "outputs": [
    {
     "data": {
      "text/plain": [
       "count    1332.000000\n",
       "mean       41.731982\n",
       "std        44.331459\n",
       "min        13.000000\n",
       "25%        20.000000\n",
       "50%        27.000000\n",
       "75%        44.000000\n",
       "max       427.000000\n",
       "dtype: float64"
      ]
     },
     "execution_count": 264,
     "metadata": {},
     "output_type": "execute_result"
    }
   ],
   "source": [
    "numRatingsByBook = glRatingsTrain.groupby(['bookID'], {'numRatings': gl.aggregate.COUNT('rating')})['numRatings']\n",
    "numRatingsByBook = pd.Series(numRatingsByBook)\n",
    "(numRatingsByBook >= 20).mean()\n",
    "numRatingsByBook.describe()"
   ]
  },
  {
   "cell_type": "markdown",
   "metadata": {},
   "source": [
    "PREDICTION"
   ]
  },
  {
   "cell_type": "markdown",
   "metadata": {},
   "source": [
    "TRADITIONAL RECOMMENDER"
   ]
  },
  {
   "cell_type": "code",
   "execution_count": 376,
   "metadata": {
    "collapsed": true
   },
   "outputs": [],
   "source": [
    "# make sure we train the recommender without community information\n",
    "\n",
    "glRatingsTrainWithComm = glRatingsTrain.copy()\n",
    "glRatingsTestWithComm = glRatingsTest.copy()\n",
    "\n",
    "if 'comm' in glRatingsTrain.column_names():\n",
    "    glRatingsTrain.remove_column('comm');\n",
    "if 'comm' in glRatingsTest.column_names():\n",
    "    glRatingsTest.remove_column('comm');"
   ]
  },
  {
   "cell_type": "code",
   "execution_count": 377,
   "metadata": {
    "collapsed": false
   },
   "outputs": [
    {
     "name": "stdout",
     "output_type": "stream",
     "text": [
      "55587 observations\n",
      "1183 users\n",
      "1332 books\n",
      "\n",
      "A recommender with 0 factor(s) (plus linear terms) would use 4.5% of the degrees of freedom present in the data.\n",
      "(22.1 observations per model degree of freedom)\n",
      "\n",
      "A recommender with 1 factor(s) (plus linear terms) would use 9.0% of the degrees of freedom present in the data.\n",
      "(11.1 observations per model degree of freedom)\n",
      "\n",
      "A recommender with 2 factor(s) (plus linear terms) would use 13.6% of the degrees of freedom present in the data.\n",
      "(7.4 observations per model degree of freedom)\n",
      "\n",
      "A recommender with 3 factor(s) (plus linear terms) would use 18.1% of the degrees of freedom present in the data.\n",
      "(5.5 observations per model degree of freedom)\n",
      "\n",
      "A recommender with 4 factor(s) (plus linear terms) would use 22.6% of the degrees of freedom present in the data.\n",
      "(4.4 observations per model degree of freedom)\n",
      "\n",
      "A recommender with 5 factor(s) (plus linear terms) would use 27.1% of the degrees of freedom present in the data.\n",
      "(3.7 observations per model degree of freedom)\n",
      "\n",
      "A recommender with 6 factor(s) (plus linear terms) would use 31.7% of the degrees of freedom present in the data.\n",
      "(3.2 observations per model degree of freedom)\n",
      "\n",
      "A recommender with 7 factor(s) (plus linear terms) would use 36.2% of the degrees of freedom present in the data.\n",
      "(2.8 observations per model degree of freedom)\n",
      "\n",
      "A recommender with 8 factor(s) (plus linear terms) would use 40.7% of the degrees of freedom present in the data.\n",
      "(2.5 observations per model degree of freedom)\n",
      "\n"
     ]
    }
   ],
   "source": [
    "degreesOfFreedomStats(glRatingsTrain)"
   ]
  },
  {
   "cell_type": "code",
   "execution_count": 48,
   "metadata": {
    "collapsed": false
   },
   "outputs": [
    {
     "name": "stderr",
     "output_type": "stream",
     "text": [
      "[INFO] graphlab.deploy.job: Validating job.\n",
      "[INFO] graphlab.deploy.map_job: Validation complete. Job: 'Model-Parameter-Search-Nov-29-2016-16-43-5800000' ready for execution\n",
      "[INFO] graphlab.deploy.map_job: Job: 'Model-Parameter-Search-Nov-29-2016-16-43-5800000' scheduled.\n",
      "[INFO] graphlab.deploy.job: Validating job.\n",
      "[INFO] graphlab.deploy.map_job: Validation complete. Job: 'Model-Parameter-Search-Nov-29-2016-16-43-5800001' ready for execution\n",
      "[INFO] graphlab.deploy.map_job: Job: 'Model-Parameter-Search-Nov-29-2016-16-43-5800001' scheduled.\n"
     ]
    },
    {
     "data": {
      "text/plain": [
       "\"\\nmodels = gl.toolkits.model_parameter_search.grid_search.create((glRatingsTrain, glRatingsTest),\\n                                                     gl.factorization_recommender.create,\\n                                                     {'user_id': 'userID',\\n                                                      'item_id': 'bookID',\\n                                                      'target': 'rating',\\n                                                      'num_factors': 0,\\n                                                      'max_iterations': 2000,\\n                                                      'regularization': 1e-3,\\n                                                      'linear_regularization': [10**i for i in range(-4,0)]\\n                                                      })\\n\""
      ]
     },
     "execution_count": 48,
     "metadata": {},
     "output_type": "execute_result"
    }
   ],
   "source": [
    "\n",
    "models = gl.toolkits.model_parameter_search.grid_search.create((glRatingsTrain, glRatingsTest),\n",
    "                                                     gl.factorization_recommender.create,\n",
    "                                                     {'user_id': 'userID',\n",
    "                                                      'item_id': 'bookID',\n",
    "                                                      'target': 'rating',\n",
    "                                                      'num_factors': [2, 4, 8],\n",
    "                                                      'max_iterations': 50,\n",
    "                                                      'regularization': [1e-2, 1e-3, 1e-5],\n",
    "                                                      'linear_regularization': [1e-4, 1e-10],\n",
    "                                                      },\n",
    "                                                      perform_trial_run=False\n",
    "                                                      )\n",
    "'''\n",
    "models = gl.toolkits.model_parameter_search.grid_search.create((glRatingsTrain, glRatingsTest),\n",
    "                                                     gl.factorization_recommender.create,\n",
    "                                                     {'user_id': 'userID',\n",
    "                                                      'item_id': 'bookID',\n",
    "                                                      'target': 'rating',\n",
    "                                                      'num_factors': 0,\n",
    "                                                      'max_iterations': 2000,\n",
    "                                                      'regularization': 1e-3,\n",
    "                                                      'linear_regularization': [10**i for i in range(-4,0)]\n",
    "                                                      })\n",
    "'''"
   ]
  },
  {
   "cell_type": "code",
   "execution_count": 50,
   "metadata": {
    "collapsed": false
   },
   "outputs": [
    {
     "name": "stderr",
     "output_type": "stream",
     "text": [
      "[INFO] graphlab.deploy._job: Sending cancel signal to the running job.\n",
      "[INFO] graphlab.deploy._job: Sending cancel signal to the running job.\n"
     ]
    }
   ],
   "source": [
    "models.cancel()\n",
    "#models.get_results().sort('validation_rmse')"
   ]
  },
  {
   "cell_type": "code",
   "execution_count": 348,
   "metadata": {
    "collapsed": false
   },
   "outputs": [
    {
     "data": {
      "text/html": [
       "<pre>Recsys training: model = factorization_recommender</pre>"
      ],
      "text/plain": [
       "Recsys training: model = factorization_recommender"
      ]
     },
     "metadata": {},
     "output_type": "display_data"
    },
    {
     "data": {
      "text/html": [
       "<pre>Preparing data set.</pre>"
      ],
      "text/plain": [
       "Preparing data set."
      ]
     },
     "metadata": {},
     "output_type": "display_data"
    },
    {
     "data": {
      "text/html": [
       "<pre>    Data has 55587 observations with 1183 users and 1332 items.</pre>"
      ],
      "text/plain": [
       "    Data has 55587 observations with 1183 users and 1332 items."
      ]
     },
     "metadata": {},
     "output_type": "display_data"
    },
    {
     "data": {
      "text/html": [
       "<pre>    Data prepared in: 0.118456s</pre>"
      ],
      "text/plain": [
       "    Data prepared in: 0.118456s"
      ]
     },
     "metadata": {},
     "output_type": "display_data"
    },
    {
     "data": {
      "text/html": [
       "<pre>Training factorization_recommender for recommendations.</pre>"
      ],
      "text/plain": [
       "Training factorization_recommender for recommendations."
      ]
     },
     "metadata": {},
     "output_type": "display_data"
    },
    {
     "data": {
      "text/html": [
       "<pre>+--------------------------------+--------------------------------------------------+----------+</pre>"
      ],
      "text/plain": [
       "+--------------------------------+--------------------------------------------------+----------+"
      ]
     },
     "metadata": {},
     "output_type": "display_data"
    },
    {
     "data": {
      "text/html": [
       "<pre>| Parameter                      | Description                                      | Value    |</pre>"
      ],
      "text/plain": [
       "| Parameter                      | Description                                      | Value    |"
      ]
     },
     "metadata": {},
     "output_type": "display_data"
    },
    {
     "data": {
      "text/html": [
       "<pre>+--------------------------------+--------------------------------------------------+----------+</pre>"
      ],
      "text/plain": [
       "+--------------------------------+--------------------------------------------------+----------+"
      ]
     },
     "metadata": {},
     "output_type": "display_data"
    },
    {
     "data": {
      "text/html": [
       "<pre>| num_factors                    | Factor Dimension                                 | 0        |</pre>"
      ],
      "text/plain": [
       "| num_factors                    | Factor Dimension                                 | 0        |"
      ]
     },
     "metadata": {},
     "output_type": "display_data"
    },
    {
     "data": {
      "text/html": [
       "<pre>| regularization                 | L2 Regularization on Factors                     | 0.001    |</pre>"
      ],
      "text/plain": [
       "| regularization                 | L2 Regularization on Factors                     | 0.001    |"
      ]
     },
     "metadata": {},
     "output_type": "display_data"
    },
    {
     "data": {
      "text/html": [
       "<pre>| solver                         | Solver used for training                         | sgd      |</pre>"
      ],
      "text/plain": [
       "| solver                         | Solver used for training                         | sgd      |"
      ]
     },
     "metadata": {},
     "output_type": "display_data"
    },
    {
     "data": {
      "text/html": [
       "<pre>| linear_regularization          | L2 Regularization on Linear Coefficients         | 1e-14    |</pre>"
      ],
      "text/plain": [
       "| linear_regularization          | L2 Regularization on Linear Coefficients         | 1e-14    |"
      ]
     },
     "metadata": {},
     "output_type": "display_data"
    },
    {
     "data": {
      "text/html": [
       "<pre>| max_iterations                 | Maximum Number of Iterations                     | 50       |</pre>"
      ],
      "text/plain": [
       "| max_iterations                 | Maximum Number of Iterations                     | 50       |"
      ]
     },
     "metadata": {},
     "output_type": "display_data"
    },
    {
     "data": {
      "text/html": [
       "<pre>+--------------------------------+--------------------------------------------------+----------+</pre>"
      ],
      "text/plain": [
       "+--------------------------------+--------------------------------------------------+----------+"
      ]
     },
     "metadata": {},
     "output_type": "display_data"
    },
    {
     "data": {
      "text/html": [
       "<pre>  Optimizing model using SGD; tuning step size.</pre>"
      ],
      "text/plain": [
       "  Optimizing model using SGD; tuning step size."
      ]
     },
     "metadata": {},
     "output_type": "display_data"
    },
    {
     "data": {
      "text/html": [
       "<pre>  Using 10000 / 55587 points for tuning the step size.</pre>"
      ],
      "text/plain": [
       "  Using 10000 / 55587 points for tuning the step size."
      ]
     },
     "metadata": {},
     "output_type": "display_data"
    },
    {
     "data": {
      "text/html": [
       "<pre>+---------+-------------------+------------------------------------------+</pre>"
      ],
      "text/plain": [
       "+---------+-------------------+------------------------------------------+"
      ]
     },
     "metadata": {},
     "output_type": "display_data"
    },
    {
     "data": {
      "text/html": [
       "<pre>| Attempt | Initial Step Size | Estimated Objective Value                |</pre>"
      ],
      "text/plain": [
       "| Attempt | Initial Step Size | Estimated Objective Value                |"
      ]
     },
     "metadata": {},
     "output_type": "display_data"
    },
    {
     "data": {
      "text/html": [
       "<pre>+---------+-------------------+------------------------------------------+</pre>"
      ],
      "text/plain": [
       "+---------+-------------------+------------------------------------------+"
      ]
     },
     "metadata": {},
     "output_type": "display_data"
    },
    {
     "data": {
      "text/html": [
       "<pre>| 0       | 1.32466           | 0.86442                                  |</pre>"
      ],
      "text/plain": [
       "| 0       | 1.32466           | 0.86442                                  |"
      ]
     },
     "metadata": {},
     "output_type": "display_data"
    },
    {
     "name": "stderr",
     "output_type": "stream",
     "text": [
      "[ERROR] graphlab.toolkits._main: Toolkit error: Cancelled by user.\n"
     ]
    },
    {
     "ename": "ToolkitError",
     "evalue": "Cancelled by user.",
     "output_type": "error",
     "traceback": [
      "\u001b[0;31m---------------------------------------------------------------------------\u001b[0m",
      "\u001b[0;31mToolkitError\u001b[0m                              Traceback (most recent call last)",
      "\u001b[0;32m<ipython-input-348-faa3ef5f1ae9>\u001b[0m in \u001b[0;36m<module>\u001b[0;34m()\u001b[0m\n\u001b[1;32m      7\u001b[0m                                                     \u001b[0mmax_iterations\u001b[0m\u001b[0;34m=\u001b[0m\u001b[0;36m50\u001b[0m\u001b[0;34m,\u001b[0m\u001b[0;34m\u001b[0m\u001b[0m\n\u001b[1;32m      8\u001b[0m                                                     \u001b[0mregularization\u001b[0m \u001b[0;34m=\u001b[0m \u001b[0;36m1e-3\u001b[0m\u001b[0;34m,\u001b[0m\u001b[0;34m\u001b[0m\u001b[0m\n\u001b[0;32m----> 9\u001b[0;31m                                                     \u001b[0mlinear_regularization\u001b[0m \u001b[0;34m=\u001b[0m \u001b[0;36m1e-14\u001b[0m\u001b[0;34m\u001b[0m\u001b[0m\n\u001b[0m\u001b[1;32m     10\u001b[0m                                                     )\n",
      "\u001b[0;32m/home/ubuntu/anaconda/lib/python2.7/site-packages/graphlab/toolkits/recommender/factorization_recommender.pyc\u001b[0m in \u001b[0;36mcreate\u001b[0;34m(observation_data, user_id, item_id, target, user_data, item_data, num_factors, regularization, linear_regularization, side_data_factorization, nmf, binary_target, max_iterations, sgd_step_size, random_seed, solver, verbose, **kwargs)\u001b[0m\n\u001b[1;32m    230\u001b[0m         \u001b[0mopts\u001b[0m\u001b[0;34m.\u001b[0m\u001b[0mupdate\u001b[0m\u001b[0;34m(\u001b[0m\u001b[0mkwargs\u001b[0m\u001b[0;34m)\u001b[0m\u001b[0;34m\u001b[0m\u001b[0m\n\u001b[1;32m    231\u001b[0m \u001b[0;34m\u001b[0m\u001b[0m\n\u001b[0;32m--> 232\u001b[0;31m     \u001b[0mresponse\u001b[0m \u001b[0;34m=\u001b[0m \u001b[0m_graphlab\u001b[0m\u001b[0;34m.\u001b[0m\u001b[0mtoolkits\u001b[0m\u001b[0;34m.\u001b[0m\u001b[0m_main\u001b[0m\u001b[0;34m.\u001b[0m\u001b[0mrun\u001b[0m\u001b[0;34m(\u001b[0m\u001b[0;34m'recsys_train'\u001b[0m\u001b[0;34m,\u001b[0m \u001b[0mopts\u001b[0m\u001b[0;34m,\u001b[0m \u001b[0mverbose\u001b[0m\u001b[0;34m)\u001b[0m\u001b[0;34m\u001b[0m\u001b[0m\n\u001b[0m\u001b[1;32m    233\u001b[0m \u001b[0;34m\u001b[0m\u001b[0m\n\u001b[1;32m    234\u001b[0m     \u001b[0;32mreturn\u001b[0m \u001b[0mFactorizationRecommender\u001b[0m\u001b[0;34m(\u001b[0m\u001b[0mresponse\u001b[0m\u001b[0;34m[\u001b[0m\u001b[0;34m'model'\u001b[0m\u001b[0;34m]\u001b[0m\u001b[0;34m)\u001b[0m\u001b[0;34m\u001b[0m\u001b[0m\n",
      "\u001b[0;32m/home/ubuntu/anaconda/lib/python2.7/site-packages/graphlab/toolkits/_main.pyc\u001b[0m in \u001b[0;36mrun\u001b[0;34m(toolkit_name, options, verbose, show_progress)\u001b[0m\n\u001b[1;32m     87\u001b[0m         \u001b[0m_get_metric_tracker\u001b[0m\u001b[0;34m(\u001b[0m\u001b[0;34m)\u001b[0m\u001b[0;34m.\u001b[0m\u001b[0mtrack\u001b[0m\u001b[0;34m(\u001b[0m\u001b[0mmetric_name\u001b[0m\u001b[0;34m,\u001b[0m \u001b[0mvalue\u001b[0m\u001b[0;34m=\u001b[0m\u001b[0;36m1\u001b[0m\u001b[0;34m,\u001b[0m \u001b[0mproperties\u001b[0m\u001b[0;34m=\u001b[0m\u001b[0mtrack_props\u001b[0m\u001b[0;34m,\u001b[0m \u001b[0msend_sys_info\u001b[0m\u001b[0;34m=\u001b[0m\u001b[0mFalse\u001b[0m\u001b[0;34m)\u001b[0m\u001b[0;34m\u001b[0m\u001b[0m\n\u001b[1;32m     88\u001b[0m \u001b[0;34m\u001b[0m\u001b[0m\n\u001b[0;32m---> 89\u001b[0;31m         \u001b[0;32mraise\u001b[0m \u001b[0mToolkitError\u001b[0m\u001b[0;34m(\u001b[0m\u001b[0mstr\u001b[0m\u001b[0;34m(\u001b[0m\u001b[0mmessage\u001b[0m\u001b[0;34m)\u001b[0m\u001b[0;34m)\u001b[0m\u001b[0;34m\u001b[0m\u001b[0m\n\u001b[0m",
      "\u001b[0;31mToolkitError\u001b[0m: Cancelled by user."
     ]
    }
   ],
   "source": [
    "rec_engine_baseline = gl.factorization_recommender.create(   observation_data=glRatingsTrain, \n",
    "                                                    user_id=\"userID\", \n",
    "                                                    item_id=\"bookID\", \n",
    "                                                    target='rating',\n",
    "                                                    num_factors=0,\n",
    "                                                    solver='auto',\n",
    "                                                    max_iterations=50,\n",
    "                                                    regularization = 1e-3,\n",
    "                                                    linear_regularization = 1e-14\n",
    "                                                    )"
   ]
  },
  {
   "cell_type": "code",
   "execution_count": null,
   "metadata": {
    "collapsed": false
   },
   "outputs": [],
   "source": [
    "rec_engine_baseline.evaluate_rmse(glRatingsTest, target='rating')['rmse_overall']"
   ]
  },
  {
   "cell_type": "code",
   "execution_count": 378,
   "metadata": {
    "collapsed": false,
    "scrolled": true
   },
   "outputs": [
    {
     "data": {
      "text/html": [
       "<pre>Recsys training: model = factorization_recommender</pre>"
      ],
      "text/plain": [
       "Recsys training: model = factorization_recommender"
      ]
     },
     "metadata": {},
     "output_type": "display_data"
    },
    {
     "data": {
      "text/html": [
       "<pre>Preparing data set.</pre>"
      ],
      "text/plain": [
       "Preparing data set."
      ]
     },
     "metadata": {},
     "output_type": "display_data"
    },
    {
     "data": {
      "text/html": [
       "<pre>    Data has 55587 observations with 1183 users and 1332 items.</pre>"
      ],
      "text/plain": [
       "    Data has 55587 observations with 1183 users and 1332 items."
      ]
     },
     "metadata": {},
     "output_type": "display_data"
    },
    {
     "data": {
      "text/html": [
       "<pre>    Data prepared in: 0.125851s</pre>"
      ],
      "text/plain": [
       "    Data prepared in: 0.125851s"
      ]
     },
     "metadata": {},
     "output_type": "display_data"
    },
    {
     "data": {
      "text/html": [
       "<pre>Training factorization_recommender for recommendations.</pre>"
      ],
      "text/plain": [
       "Training factorization_recommender for recommendations."
      ]
     },
     "metadata": {},
     "output_type": "display_data"
    },
    {
     "data": {
      "text/html": [
       "<pre>+--------------------------------+--------------------------------------------------+----------+</pre>"
      ],
      "text/plain": [
       "+--------------------------------+--------------------------------------------------+----------+"
      ]
     },
     "metadata": {},
     "output_type": "display_data"
    },
    {
     "data": {
      "text/html": [
       "<pre>| Parameter                      | Description                                      | Value    |</pre>"
      ],
      "text/plain": [
       "| Parameter                      | Description                                      | Value    |"
      ]
     },
     "metadata": {},
     "output_type": "display_data"
    },
    {
     "data": {
      "text/html": [
       "<pre>+--------------------------------+--------------------------------------------------+----------+</pre>"
      ],
      "text/plain": [
       "+--------------------------------+--------------------------------------------------+----------+"
      ]
     },
     "metadata": {},
     "output_type": "display_data"
    },
    {
     "data": {
      "text/html": [
       "<pre>| num_factors                    | Factor Dimension                                 | 4        |</pre>"
      ],
      "text/plain": [
       "| num_factors                    | Factor Dimension                                 | 4        |"
      ]
     },
     "metadata": {},
     "output_type": "display_data"
    },
    {
     "data": {
      "text/html": [
       "<pre>| regularization                 | L2 Regularization on Factors                     | 0.001    |</pre>"
      ],
      "text/plain": [
       "| regularization                 | L2 Regularization on Factors                     | 0.001    |"
      ]
     },
     "metadata": {},
     "output_type": "display_data"
    },
    {
     "data": {
      "text/html": [
       "<pre>| solver                         | Solver used for training                         | sgd      |</pre>"
      ],
      "text/plain": [
       "| solver                         | Solver used for training                         | sgd      |"
      ]
     },
     "metadata": {},
     "output_type": "display_data"
    },
    {
     "data": {
      "text/html": [
       "<pre>| linear_regularization          | L2 Regularization on Linear Coefficients         | 1e-14    |</pre>"
      ],
      "text/plain": [
       "| linear_regularization          | L2 Regularization on Linear Coefficients         | 1e-14    |"
      ]
     },
     "metadata": {},
     "output_type": "display_data"
    },
    {
     "data": {
      "text/html": [
       "<pre>| max_iterations                 | Maximum Number of Iterations                     | 50       |</pre>"
      ],
      "text/plain": [
       "| max_iterations                 | Maximum Number of Iterations                     | 50       |"
      ]
     },
     "metadata": {},
     "output_type": "display_data"
    },
    {
     "data": {
      "text/html": [
       "<pre>+--------------------------------+--------------------------------------------------+----------+</pre>"
      ],
      "text/plain": [
       "+--------------------------------+--------------------------------------------------+----------+"
      ]
     },
     "metadata": {},
     "output_type": "display_data"
    },
    {
     "data": {
      "text/html": [
       "<pre>  Optimizing model using SGD; tuning step size.</pre>"
      ],
      "text/plain": [
       "  Optimizing model using SGD; tuning step size."
      ]
     },
     "metadata": {},
     "output_type": "display_data"
    },
    {
     "data": {
      "text/html": [
       "<pre>  Using 10000 / 55587 points for tuning the step size.</pre>"
      ],
      "text/plain": [
       "  Using 10000 / 55587 points for tuning the step size."
      ]
     },
     "metadata": {},
     "output_type": "display_data"
    },
    {
     "data": {
      "text/html": [
       "<pre>+---------+-------------------+------------------------------------------+</pre>"
      ],
      "text/plain": [
       "+---------+-------------------+------------------------------------------+"
      ]
     },
     "metadata": {},
     "output_type": "display_data"
    },
    {
     "data": {
      "text/html": [
       "<pre>| Attempt | Initial Step Size | Estimated Objective Value                |</pre>"
      ],
      "text/plain": [
       "| Attempt | Initial Step Size | Estimated Objective Value                |"
      ]
     },
     "metadata": {},
     "output_type": "display_data"
    },
    {
     "data": {
      "text/html": [
       "<pre>+---------+-------------------+------------------------------------------+</pre>"
      ],
      "text/plain": [
       "+---------+-------------------+------------------------------------------+"
      ]
     },
     "metadata": {},
     "output_type": "display_data"
    },
    {
     "data": {
      "text/html": [
       "<pre>| 0       | 1.32466           | No Decrease (1.61041 >= 1.00097)         |</pre>"
      ],
      "text/plain": [
       "| 0       | 1.32466           | No Decrease (1.61041 >= 1.00097)         |"
      ]
     },
     "metadata": {},
     "output_type": "display_data"
    },
    {
     "data": {
      "text/html": [
       "<pre>| 1       | 0.331165          | No Decrease (2.22256 >= 1.00097)         |</pre>"
      ],
      "text/plain": [
       "| 1       | 0.331165          | No Decrease (2.22256 >= 1.00097)         |"
      ]
     },
     "metadata": {},
     "output_type": "display_data"
    },
    {
     "data": {
      "text/html": [
       "<pre>| 2       | 0.0827913         | 0.642513                                 |</pre>"
      ],
      "text/plain": [
       "| 2       | 0.0827913         | 0.642513                                 |"
      ]
     },
     "metadata": {},
     "output_type": "display_data"
    },
    {
     "data": {
      "text/html": [
       "<pre>| 3       | 0.0413956         | 0.672232                                 |</pre>"
      ],
      "text/plain": [
       "| 3       | 0.0413956         | 0.672232                                 |"
      ]
     },
     "metadata": {},
     "output_type": "display_data"
    },
    {
     "data": {
      "text/html": [
       "<pre>| 4       | 0.0206978         | 0.712826                                 |</pre>"
      ],
      "text/plain": [
       "| 4       | 0.0206978         | 0.712826                                 |"
      ]
     },
     "metadata": {},
     "output_type": "display_data"
    },
    {
     "data": {
      "text/html": [
       "<pre>| 5       | 0.0103489         | 0.761989                                 |</pre>"
      ],
      "text/plain": [
       "| 5       | 0.0103489         | 0.761989                                 |"
      ]
     },
     "metadata": {},
     "output_type": "display_data"
    },
    {
     "data": {
      "text/html": [
       "<pre>+---------+-------------------+------------------------------------------+</pre>"
      ],
      "text/plain": [
       "+---------+-------------------+------------------------------------------+"
      ]
     },
     "metadata": {},
     "output_type": "display_data"
    },
    {
     "data": {
      "text/html": [
       "<pre>| Final   | 0.0827913         | 0.642513                                 |</pre>"
      ],
      "text/plain": [
       "| Final   | 0.0827913         | 0.642513                                 |"
      ]
     },
     "metadata": {},
     "output_type": "display_data"
    },
    {
     "data": {
      "text/html": [
       "<pre>+---------+-------------------+------------------------------------------+</pre>"
      ],
      "text/plain": [
       "+---------+-------------------+------------------------------------------+"
      ]
     },
     "metadata": {},
     "output_type": "display_data"
    },
    {
     "data": {
      "text/html": [
       "<pre>Starting Optimization.</pre>"
      ],
      "text/plain": [
       "Starting Optimization."
      ]
     },
     "metadata": {},
     "output_type": "display_data"
    },
    {
     "data": {
      "text/html": [
       "<pre>+---------+--------------+-------------------+-----------------------+-------------+</pre>"
      ],
      "text/plain": [
       "+---------+--------------+-------------------+-----------------------+-------------+"
      ]
     },
     "metadata": {},
     "output_type": "display_data"
    },
    {
     "data": {
      "text/html": [
       "<pre>| Iter.   | Elapsed Time | Approx. Objective | Approx. Training RMSE | Step Size   |</pre>"
      ],
      "text/plain": [
       "| Iter.   | Elapsed Time | Approx. Objective | Approx. Training RMSE | Step Size   |"
      ]
     },
     "metadata": {},
     "output_type": "display_data"
    },
    {
     "data": {
      "text/html": [
       "<pre>+---------+--------------+-------------------+-----------------------+-------------+</pre>"
      ],
      "text/plain": [
       "+---------+--------------+-------------------+-----------------------+-------------+"
      ]
     },
     "metadata": {},
     "output_type": "display_data"
    },
    {
     "data": {
      "text/html": [
       "<pre>| Initial | 100us        | 0.995659          | 0.997827              |             |</pre>"
      ],
      "text/plain": [
       "| Initial | 100us        | 0.995659          | 0.997827              |             |"
      ]
     },
     "metadata": {},
     "output_type": "display_data"
    },
    {
     "data": {
      "text/html": [
       "<pre>+---------+--------------+-------------------+-----------------------+-------------+</pre>"
      ],
      "text/plain": [
       "+---------+--------------+-------------------+-----------------------+-------------+"
      ]
     },
     "metadata": {},
     "output_type": "display_data"
    },
    {
     "data": {
      "text/html": [
       "<pre>| 1       | 581.931ms    | DIVERGED          | DIVERGED              | 0.0827913   |</pre>"
      ],
      "text/plain": [
       "| 1       | 581.931ms    | DIVERGED          | DIVERGED              | 0.0827913   |"
      ]
     },
     "metadata": {},
     "output_type": "display_data"
    },
    {
     "data": {
      "text/html": [
       "<pre>| RESET   | 626.244ms    | 0.995687          | 0.997841              |             |</pre>"
      ],
      "text/plain": [
       "| RESET   | 626.244ms    | 0.995687          | 0.997841              |             |"
      ]
     },
     "metadata": {},
     "output_type": "display_data"
    },
    {
     "data": {
      "text/html": [
       "<pre>| 1       | 1.15s        | DIVERGED          | DIVERGED              | 0.0413956   |</pre>"
      ],
      "text/plain": [
       "| 1       | 1.15s        | DIVERGED          | DIVERGED              | 0.0413956   |"
      ]
     },
     "metadata": {},
     "output_type": "display_data"
    },
    {
     "data": {
      "text/html": [
       "<pre>| RESET   | 1.20s        | 0.995661          | 0.997828              |             |</pre>"
      ],
      "text/plain": [
       "| RESET   | 1.20s        | 0.995661          | 0.997828              |             |"
      ]
     },
     "metadata": {},
     "output_type": "display_data"
    },
    {
     "data": {
      "text/html": [
       "<pre>| 1       | 1.70s        | 0.85305           | 0.923606              | 0.0206978   |</pre>"
      ],
      "text/plain": [
       "| 1       | 1.70s        | 0.85305           | 0.923606              | 0.0206978   |"
      ]
     },
     "metadata": {},
     "output_type": "display_data"
    },
    {
     "data": {
      "text/html": [
       "<pre>| 2       | 2.21s        | 0.772114          | 0.8787                | 0.00962452  |</pre>"
      ],
      "text/plain": [
       "| 2       | 2.21s        | 0.772114          | 0.8787                | 0.00962452  |"
      ]
     },
     "metadata": {},
     "output_type": "display_data"
    },
    {
     "data": {
      "text/html": [
       "<pre>| 3       | 2.73s        | 0.75604           | 0.869506              | 0.00627005  |</pre>"
      ],
      "text/plain": [
       "| 3       | 2.73s        | 0.75604           | 0.869506              | 0.00627005  |"
      ]
     },
     "metadata": {},
     "output_type": "display_data"
    },
    {
     "data": {
      "text/html": [
       "<pre>| 4       | 3.25s        | 0.749266          | 0.865602              | 0.00464954  |</pre>"
      ],
      "text/plain": [
       "| 4       | 3.25s        | 0.749266          | 0.865602              | 0.00464954  |"
      ]
     },
     "metadata": {},
     "output_type": "display_data"
    },
    {
     "data": {
      "text/html": [
       "<pre>| 5       | 3.77s        | 0.745303          | 0.863309              | 0.00369464  |</pre>"
      ],
      "text/plain": [
       "| 5       | 3.77s        | 0.745303          | 0.863309              | 0.00369464  |"
      ]
     },
     "metadata": {},
     "output_type": "display_data"
    },
    {
     "data": {
      "text/html": [
       "<pre>| 6       | 4.30s        | 0.742786          | 0.861851              | 0.00306514  |</pre>"
      ],
      "text/plain": [
       "| 6       | 4.30s        | 0.742786          | 0.861851              | 0.00306514  |"
      ]
     },
     "metadata": {},
     "output_type": "display_data"
    },
    {
     "data": {
      "text/html": [
       "<pre>| 8       | 5.35s        | 0.739654          | 0.860031              | 0.00228612  |</pre>"
      ],
      "text/plain": [
       "| 8       | 5.35s        | 0.739654          | 0.860031              | 0.00228612  |"
      ]
     },
     "metadata": {},
     "output_type": "display_data"
    },
    {
     "data": {
      "text/html": [
       "<pre>| 11      | 6.93s        | 0.737127          | 0.858561              | 0.00165512  |</pre>"
      ],
      "text/plain": [
       "| 11      | 6.93s        | 0.737127          | 0.858561              | 0.00165512  |"
      ]
     },
     "metadata": {},
     "output_type": "display_data"
    },
    {
     "data": {
      "text/html": [
       "<pre>| 13      | 7.99s        | 0.736091          | 0.857958              | 0.0013979   |</pre>"
      ],
      "text/plain": [
       "| 13      | 7.99s        | 0.736091          | 0.857958              | 0.0013979   |"
      ]
     },
     "metadata": {},
     "output_type": "display_data"
    },
    {
     "data": {
      "text/html": [
       "<pre>| 18      | 10.59s       | 0.734482          | 0.857019              | 0.00100675  |</pre>"
      ],
      "text/plain": [
       "| 18      | 10.59s       | 0.734482          | 0.857019              | 0.00100675  |"
      ]
     },
     "metadata": {},
     "output_type": "display_data"
    },
    {
     "data": {
      "text/html": [
       "<pre>| 23      | 13.19s       | 0.733558          | 0.85648               | 0.000786641 |</pre>"
      ],
      "text/plain": [
       "| 23      | 13.19s       | 0.733558          | 0.85648               | 0.000786641 |"
      ]
     },
     "metadata": {},
     "output_type": "display_data"
    },
    {
     "data": {
      "text/html": [
       "<pre>| 28      | 15.82s       | 0.732957          | 0.856129              | 0.00064551  |</pre>"
      ],
      "text/plain": [
       "| 28      | 15.82s       | 0.732957          | 0.856129              | 0.00064551  |"
      ]
     },
     "metadata": {},
     "output_type": "display_data"
    },
    {
     "data": {
      "text/html": [
       "<pre>| 33      | 18.48s       | 0.732532          | 0.855881              | 0.000547316 |</pre>"
      ],
      "text/plain": [
       "| 33      | 18.48s       | 0.732532          | 0.855881              | 0.000547316 |"
      ]
     },
     "metadata": {},
     "output_type": "display_data"
    },
    {
     "data": {
      "text/html": [
       "<pre>| 38      | 21.08s       | 0.732212          | 0.855694              | 0.000475052 |</pre>"
      ],
      "text/plain": [
       "| 38      | 21.08s       | 0.732212          | 0.855694              | 0.000475052 |"
      ]
     },
     "metadata": {},
     "output_type": "display_data"
    },
    {
     "data": {
      "text/html": [
       "<pre>| 43      | 23.73s       | 0.731963          | 0.855548              | 0.000419645 |</pre>"
      ],
      "text/plain": [
       "| 43      | 23.73s       | 0.731963          | 0.855548              | 0.000419645 |"
      ]
     },
     "metadata": {},
     "output_type": "display_data"
    },
    {
     "data": {
      "text/html": [
       "<pre>| 48      | 26.49s       | 0.731764          | 0.855432              | 0.000375812 |</pre>"
      ],
      "text/plain": [
       "| 48      | 26.49s       | 0.731764          | 0.855432              | 0.000375812 |"
      ]
     },
     "metadata": {},
     "output_type": "display_data"
    },
    {
     "data": {
      "text/html": [
       "<pre>+---------+--------------+-------------------+-----------------------+-------------+</pre>"
      ],
      "text/plain": [
       "+---------+--------------+-------------------+-----------------------+-------------+"
      ]
     },
     "metadata": {},
     "output_type": "display_data"
    },
    {
     "data": {
      "text/html": [
       "<pre>Optimization Complete: Maximum number of passes through the data reached.</pre>"
      ],
      "text/plain": [
       "Optimization Complete: Maximum number of passes through the data reached."
      ]
     },
     "metadata": {},
     "output_type": "display_data"
    },
    {
     "data": {
      "text/html": [
       "<pre>Computing final objective value and training RMSE.</pre>"
      ],
      "text/plain": [
       "Computing final objective value and training RMSE."
      ]
     },
     "metadata": {},
     "output_type": "display_data"
    },
    {
     "data": {
      "text/html": [
       "<pre>       Final objective value: 0.730647</pre>"
      ],
      "text/plain": [
       "       Final objective value: 0.730647"
      ]
     },
     "metadata": {},
     "output_type": "display_data"
    },
    {
     "data": {
      "text/html": [
       "<pre>       Final training RMSE: 0.854779</pre>"
      ],
      "text/plain": [
       "       Final training RMSE: 0.854779"
      ]
     },
     "metadata": {},
     "output_type": "display_data"
    }
   ],
   "source": [
    "rec_engine = gl.factorization_recommender.create(   observation_data=glRatingsTrain, \n",
    "                                                    user_id=\"userID\", \n",
    "                                                    item_id=\"bookID\", \n",
    "                                                    target='rating',\n",
    "                                                    num_factors=4,\n",
    "                                                    solver='auto',\n",
    "                                                    max_iterations=50,\n",
    "                                                    regularization = 1e-3,\n",
    "                                                    linear_regularization = 1e-14\n",
    "                                                    )"
   ]
  },
  {
   "cell_type": "code",
   "execution_count": 270,
   "metadata": {
    "collapsed": false
   },
   "outputs": [
    {
     "name": "stdout",
     "output_type": "stream",
     "text": [
      "0.902195459686\n",
      "-0.000836410557539\n"
     ]
    }
   ],
   "source": [
    "print rec_engine.evaluate_rmse(glRatingsTest, target='rating')['rmse_overall']\n",
    "print rec_engine.evaluate_rmse(glRatingsTest, target='rating')['rmse_overall'] - rec_engine_baseline.evaluate_rmse(glRatingsTest, target='rating')['rmse_overall']"
   ]
  },
  {
   "cell_type": "code",
   "execution_count": null,
   "metadata": {
    "collapsed": true
   },
   "outputs": [],
   "source": [
    "0.915861596669\n",
    "-0.00688058216447\n",
    "In [ ]:\n"
   ]
  },
  {
   "cell_type": "code",
   "execution_count": 271,
   "metadata": {
    "collapsed": false
   },
   "outputs": [
    {
     "data": {
      "text/html": [
       "<div style=\"max-height:1000px;max-width:1500px;overflow:auto;\"><table frame=\"box\" rules=\"cols\">\n",
       "    <tr>\n",
       "        <th style=\"padding-left: 1em; padding-right: 1em; text-align: center\">userID</th>\n",
       "        <th style=\"padding-left: 1em; padding-right: 1em; text-align: center\">linear_terms</th>\n",
       "        <th style=\"padding-left: 1em; padding-right: 1em; text-align: center\">factors</th>\n",
       "    </tr>\n",
       "    <tr>\n",
       "        <td style=\"padding-left: 1em; padding-right: 1em; text-align: center; vertical-align: top\">13389</td>\n",
       "        <td style=\"padding-left: 1em; padding-right: 1em; text-align: center; vertical-align: top\">0.408277273178</td>\n",
       "        <td style=\"padding-left: 1em; padding-right: 1em; text-align: center; vertical-align: top\">[7.02396860675e-08,<br>-2.01466104954e-06, ...</td>\n",
       "    </tr>\n",
       "    <tr>\n",
       "        <td style=\"padding-left: 1em; padding-right: 1em; text-align: center; vertical-align: top\">147129</td>\n",
       "        <td style=\"padding-left: 1em; padding-right: 1em; text-align: center; vertical-align: top\">0.0150987012312</td>\n",
       "        <td style=\"padding-left: 1em; padding-right: 1em; text-align: center; vertical-align: top\">[-2.93334867507e-08,<br>-8.29567113669e-07, ...</td>\n",
       "    </tr>\n",
       "    <tr>\n",
       "        <td style=\"padding-left: 1em; padding-right: 1em; text-align: center; vertical-align: top\">12436</td>\n",
       "        <td style=\"padding-left: 1em; padding-right: 1em; text-align: center; vertical-align: top\">0.348031163216</td>\n",
       "        <td style=\"padding-left: 1em; padding-right: 1em; text-align: center; vertical-align: top\">[3.33587991008e-07,<br>2.15540865156e-07, ...</td>\n",
       "    </tr>\n",
       "    <tr>\n",
       "        <td style=\"padding-left: 1em; padding-right: 1em; text-align: center; vertical-align: top\">82625</td>\n",
       "        <td style=\"padding-left: 1em; padding-right: 1em; text-align: center; vertical-align: top\">0.212555542588</td>\n",
       "        <td style=\"padding-left: 1em; padding-right: 1em; text-align: center; vertical-align: top\">[-4.34433445662e-07,<br>-2.06525851354e-06, ...</td>\n",
       "    </tr>\n",
       "    <tr>\n",
       "        <td style=\"padding-left: 1em; padding-right: 1em; text-align: center; vertical-align: top\">12251</td>\n",
       "        <td style=\"padding-left: 1em; padding-right: 1em; text-align: center; vertical-align: top\">0.628338217735</td>\n",
       "        <td style=\"padding-left: 1em; padding-right: 1em; text-align: center; vertical-align: top\">[2.31951412388e-06,<br>8.30909812066e-07, ...</td>\n",
       "    </tr>\n",
       "    <tr>\n",
       "        <td style=\"padding-left: 1em; padding-right: 1em; text-align: center; vertical-align: top\">160216</td>\n",
       "        <td style=\"padding-left: 1em; padding-right: 1em; text-align: center; vertical-align: top\">0.0376140251756</td>\n",
       "        <td style=\"padding-left: 1em; padding-right: 1em; text-align: center; vertical-align: top\">[1.32905483952e-06,<br>5.16647276072e-07, ...</td>\n",
       "    </tr>\n",
       "    <tr>\n",
       "        <td style=\"padding-left: 1em; padding-right: 1em; text-align: center; vertical-align: top\">1</td>\n",
       "        <td style=\"padding-left: 1em; padding-right: 1em; text-align: center; vertical-align: top\">0.350370317698</td>\n",
       "        <td style=\"padding-left: 1em; padding-right: 1em; text-align: center; vertical-align: top\">[-2.14164674617e-06,<br>-1.04649161585e-05, ...</td>\n",
       "    </tr>\n",
       "    <tr>\n",
       "        <td style=\"padding-left: 1em; padding-right: 1em; text-align: center; vertical-align: top\">546</td>\n",
       "        <td style=\"padding-left: 1em; padding-right: 1em; text-align: center; vertical-align: top\">0.445780366659</td>\n",
       "        <td style=\"padding-left: 1em; padding-right: 1em; text-align: center; vertical-align: top\">[7.48280899643e-06,<br>-2.87329976345e-06, ...</td>\n",
       "    </tr>\n",
       "    <tr>\n",
       "        <td style=\"padding-left: 1em; padding-right: 1em; text-align: center; vertical-align: top\">609</td>\n",
       "        <td style=\"padding-left: 1em; padding-right: 1em; text-align: center; vertical-align: top\">-0.123878024518</td>\n",
       "        <td style=\"padding-left: 1em; padding-right: 1em; text-align: center; vertical-align: top\">[-4.99544921695e-06,<br>-1.01922626072e-06, ...</td>\n",
       "    </tr>\n",
       "    <tr>\n",
       "        <td style=\"padding-left: 1em; padding-right: 1em; text-align: center; vertical-align: top\">657</td>\n",
       "        <td style=\"padding-left: 1em; padding-right: 1em; text-align: center; vertical-align: top\">0.260246366262</td>\n",
       "        <td style=\"padding-left: 1em; padding-right: 1em; text-align: center; vertical-align: top\">[1.61602292792e-06,<br>1.9003205125e-06, ...</td>\n",
       "    </tr>\n",
       "</table>\n",
       "[1183 rows x 3 columns]<br/>Note: Only the head of the SFrame is printed.<br/>You can use print_rows(num_rows=m, num_columns=n) to print more rows and columns.\n",
       "</div>"
      ],
      "text/plain": [
       "Columns:\n",
       "\tuserID\tint\n",
       "\tlinear_terms\tfloat\n",
       "\tfactors\tarray\n",
       "\n",
       "Rows: 1183\n",
       "\n",
       "Data:\n",
       "+--------+-----------------+-------------------------------+\n",
       "| userID |   linear_terms  |            factors            |\n",
       "+--------+-----------------+-------------------------------+\n",
       "| 13389  |  0.408277273178 | [7.02396860675e-08, -2.014... |\n",
       "| 147129 | 0.0150987012312 | [-2.93334867507e-08, -8.29... |\n",
       "| 12436  |  0.348031163216 | [3.33587991008e-07, 2.1554... |\n",
       "| 82625  |  0.212555542588 | [-4.34433445662e-07, -2.06... |\n",
       "| 12251  |  0.628338217735 | [2.31951412388e-06, 8.3090... |\n",
       "| 160216 | 0.0376140251756 | [1.32905483952e-06, 5.1664... |\n",
       "|   1    |  0.350370317698 | [-2.14164674617e-06, -1.04... |\n",
       "|  546   |  0.445780366659 | [7.48280899643e-06, -2.873... |\n",
       "|  609   | -0.123878024518 | [-4.99544921695e-06, -1.01... |\n",
       "|  657   |  0.260246366262 | [1.61602292792e-06, 1.9003... |\n",
       "+--------+-----------------+-------------------------------+\n",
       "[1183 rows x 3 columns]\n",
       "Note: Only the head of the SFrame is printed.\n",
       "You can use print_rows(num_rows=m, num_columns=n) to print more rows and columns."
      ]
     },
     "execution_count": 271,
     "metadata": {},
     "output_type": "execute_result"
    }
   ],
   "source": [
    "rec_engine.get('coefficients')['userID']"
   ]
  },
  {
   "cell_type": "markdown",
   "metadata": {},
   "source": [
    "SOCIAL MODELS"
   ]
  },
  {
   "cell_type": "code",
   "execution_count": 364,
   "metadata": {
    "collapsed": false
   },
   "outputs": [],
   "source": [
    "glCommMeansTrain, glCommBookMeansTrain, commMeansTrain, commBookMeansTrain = \\\n",
    "makeSocialModelInputs(glRatingsTrainWithComm)"
   ]
  },
  {
   "cell_type": "code",
   "execution_count": 381,
   "metadata": {
    "collapsed": false,
    "scrolled": true
   },
   "outputs": [],
   "source": [
    "bootstrapRmsesFake = []\n",
    "\n",
    "for bootstrapIndex in range(10):\n",
    "    glRatingsTrainFakeComms = glRatingsTrain.copy()\n",
    "\n",
    "    commUIDs = [uID for comm in allComms for uID in comm]\n",
    "    fakeUserIndices = np.random.permutation(len(commUIDs))\n",
    "\n",
    "    runningTotal = 0\n",
    "    fakeComms = []\n",
    "    for comm in allComms:\n",
    "        fakeComms.append([commUIDs[index] for index in list(fakeUserIndices)[runningTotal:runningTotal+len(comm)]])\n",
    "        runningTotal += len(comm)\n",
    "    fakeCommDict = {uID: i for i, comm in enumerate(fakeComms) for uID in comm}\n",
    "    glRatingsTrainFakeComms['comm'] = glRatingsTrainFakeComms['userID'].apply(lambda x: fakeCommDict[x])\n",
    "\n",
    "    fakeGlCommMeansTrain, fakeGlCommBookMeansTrain, fakeCommMeansTrain, fakeCommBookMeansTrain = \\\n",
    "    makeSocialModelInputs(glRatingsTrainFakeComms)\n",
    "    \n",
    "    glRatingsTestFakeComms = glRatingsTest.copy()\n",
    "    glRatingsTestFakeComms['comm'] = glRatingsTestFakeComms['userID'].apply(lambda x: fakeCommDict[x])\n",
    "    \n",
    "    rmsesFake = []\n",
    "\n",
    "    for weight in meanWeights:\n",
    "        rmsesFake.append(\\\n",
    "                    mixedPred(glRatingsTestFakeComms, \\\n",
    "                              fakeCommMeansTrain, fakeCommBookMeansTrain, fakeCommBookMeansTrain, rec_engine, rec_engine, \\\n",
    "                              numTrainRatings_Test,\\\n",
    "                              False, False, False, weight)[1])\n",
    "\n",
    "\n",
    "    bootstrapRmsesFake.append(rmsesFake)\n",
    "    #print [min(rmsesFake) < min(rmsesSimpleNoBookMeans) for rmsesFake in bootstrapRmsesFake]\n",
    "trainSplitRmsesFake.append(bootstrapRmsesFake)"
   ]
  },
  {
   "cell_type": "code",
   "execution_count": 255,
   "metadata": {
    "collapsed": false
   },
   "outputs": [
    {
     "name": "stdout",
     "output_type": "stream",
     "text": [
      "0.898976726851\n"
     ]
    },
    {
     "data": {
      "text/plain": [
       "0.89938232242735483"
      ]
     },
     "execution_count": 255,
     "metadata": {},
     "output_type": "execute_result"
    },
    {
     "data": {
      "image/png": "[encoded data removed]",
      "text/plain": [
       "<matplotlib.figure.Figure at 0x7f8314191110>"
      ]
     },
     "metadata": {},
     "output_type": "display_data"
    }
   ],
   "source": [
    "plt.hist(bootstrapRmsesFake - min(rmsesSimpleNoBookMeans))\n",
    "print min(rmsesSimpleNoBookMeans)\n",
    "np.mean(bootstrapRmsesFake)"
   ]
  },
  {
   "cell_type": "code",
   "execution_count": 379,
   "metadata": {
    "collapsed": false
   },
   "outputs": [],
   "source": [
    "numRatingsByUser = glRatingsTrain.groupby(['userID'], {'numRatings': gl.aggregate.COUNT('rating')})\n",
    "numRatingsByUserDict = defaultdict(int, {r['userID']: r['numRatings'] for r in numRatingsByUser})\n",
    "numTrainRatings_Test = np.array(glRatingsTestWithComm['userID'].apply(lambda x: numRatingsByUserDict[x]))"
   ]
  },
  {
   "cell_type": "code",
   "execution_count": 382,
   "metadata": {
    "collapsed": false
   },
   "outputs": [
    {
     "name": "stdout",
     "output_type": "stream",
     "text": [
      "3\n",
      "3\n"
     ]
    }
   ],
   "source": [
    "print len(trainSplitRmses)\n",
    "print len(trainSplitRmsesFake)"
   ]
  },
  {
   "cell_type": "code",
   "execution_count": 326,
   "metadata": {
    "collapsed": false
   },
   "outputs": [
    {
     "data": {
      "text/plain": [
       "[<matplotlib.lines.Line2D at 0x7f829407bcd0>]"
      ]
     },
     "execution_count": 326,
     "metadata": {},
     "output_type": "execute_result"
    },
    {
     "data": {
      "image/png": "[encoded data removed]",
      "text/plain": [
       "<matplotlib.figure.Figure at 0x7f829407bb50>"
      ]
     },
     "metadata": {},
     "output_type": "display_data"
    }
   ],
   "source": [
    "'''\n",
    "adjWeights=(100. - np.linspace(0,100,100))/100.\n",
    "adjWeights[adjWeights<0]=0\n",
    "adjWeights = adjWeights**(0.5)\n",
    "plt.plot(np.linspace(0,100,100), adjWeights)\n",
    "'''\n",
    "adjX = np.linspace(0,150,100)\n",
    "adjWeights = 0.5*(adjX<30) + 0.5*(adjX < 150)\n",
    "adjWeights2 = np.tan(-2.5*(adjX-75)/150)\n",
    "adjWeights2 = adjWeights2 / (2*max(adjWeights2))\n",
    "adjWeights2 = adjWeights2 - min(adjWeights2)\n",
    "plt.plot(adjX, adjWeights)\n",
    "plt.plot(adjX, adjWeights2)\n"
   ]
  },
  {
   "cell_type": "code",
   "execution_count": 380,
   "metadata": {
    "collapsed": false
   },
   "outputs": [
    {
     "data": {
      "text/plain": [
       "'\\nrmsesFake = []\\n\\nfor weight in meanWeights:\\n    rmsesFake.append(                mixedPred(glRatingsTestFakeComms,                           fakeCommMeansTrain, fakeCommBookMeansTrain, fakeCommBookMeansTrain, rec_engine, rec_engine,                           numTrainRatings_Test,                          False, False, False, weight)[1])\\n\\n#FACTORIZING COMM MEANS\\nrmsesFac = []\\nfor weight in meanWeights:\\n    rmsesFac.append(                mixedPred(glRatingsTestWithComm,                           commMeansTrain, commBookMeansTrain, rec_engine_8, rec_engine_8                           commMeans_rec_engine_baseline, True, False, True, weight)[1])\\n'"
      ]
     },
     "execution_count": 380,
     "metadata": {},
     "output_type": "execute_result"
    }
   ],
   "source": [
    "meanWeights = np.linspace(0,0.6,20)\n",
    "\n",
    "#SIMPLE PREDICTION FROM COMM MEANS\n",
    "'''\n",
    "rmsesSimple = []\n",
    "\n",
    "for weight in meanWeights:\n",
    "    rmsesSimple.append(\\\n",
    "                mixedPred(glRatingsTestWithComm, \\\n",
    "                          commMeansTrain, commBookMeansTrain, commBookMeansTrain, rec_engine, rec_engine, \\\n",
    "                          False, False, True, weight)[1])\n",
    "\n",
    "'''\n",
    "\n",
    "#SIMPLE PREDICTION FROM COMM MEANS (no book means)\n",
    "rmsesSimpleNoBookMeans = []\n",
    "\n",
    "for weight in meanWeights:\n",
    "    rmsesSimpleNoBookMeans.append(\\\n",
    "                mixedPred(glRatingsTestWithComm, \\\n",
    "                          commMeansTrain, commBookMeansTrain, commBookMeansTrain, rec_engine, rec_engine, \\\n",
    "                          numTrainRatings_Test, \\\n",
    "                          False, False, False, weight)[1])\n",
    "\n",
    "trainSplitRmses.append(rmsesSimpleNoBookMeans)\n",
    "    \n",
    "#SANITY CHECK\n",
    "'''\n",
    "rmsesFake = []\n",
    "\n",
    "for weight in meanWeights:\n",
    "    rmsesFake.append(\\\n",
    "                mixedPred(glRatingsTestFakeComms, \\\n",
    "                          fakeCommMeansTrain, fakeCommBookMeansTrain, fakeCommBookMeansTrain, rec_engine, rec_engine, \\\n",
    "                          numTrainRatings_Test,\\\n",
    "                          False, False, False, weight)[1])\n",
    "\n",
    "#FACTORIZING COMM MEANS\n",
    "rmsesFac = []\n",
    "for weight in meanWeights:\n",
    "    rmsesFac.append(\\\n",
    "                mixedPred(glRatingsTestWithComm, \\\n",
    "                          commMeansTrain, commBookMeansTrain, rec_engine_8, rec_engine_8 \\\n",
    "                          commMeans_rec_engine_baseline, True, False, True, weight)[1])\n",
    "'''"
   ]
  },
  {
   "cell_type": "code",
   "execution_count": 402,
   "metadata": {
    "collapsed": false
   },
   "outputs": [
    {
     "data": {
      "image/png": "[encoded data removed]",
      "text/plain": [
       "<matplotlib.figure.Figure at 0x7f8260715690>"
      ]
     },
     "metadata": {},
     "output_type": "display_data"
    }
   ],
   "source": [
    "plt.figure(figsize=(14,8))\n",
    "\n",
    "blueLabel = {0: 'Ensemble Models', 1: None, 2: None}\n",
    "greenLabel = defaultdict(lambda: None,{0: 'Fake Community Models'})\n",
    "\n",
    "for i, rmsesSimpleNoBookMeans in enumerate(trainSplitRmses):\n",
    "    plt.plot(meanWeights, rmsesSimpleNoBookMeans, '-', color='b', label=blueLabel[i], alpha=0.85);\n",
    "#plt.plot(meanWeights, rmsesFake, '-', label='Sanity check');\n",
    "plt.axhline(rmsesSimpleNoBookMeans[0],color='k',linestyle='--', label='Base Model');\n",
    "#plt.axhline(rmsesSimpleNoBookMeans[np.argmin(rmsesSimpleNoBookMeans)],linestyle='--',label='Best Combined Model')\n",
    "\n",
    "for i, curve in enumerate([curve for bootstrapRmsesFake in trainSplitRmsesFake for curve in bootstrapRmsesFake]):\n",
    "    plt.plot(meanWeights, curve, color='g', label=greenLabel[i], alpha=0.25)\n",
    "#plt.axhline(np.mean(bootstrapRmsesFake),linestyle='--',color='g',label='Mean Sanity Check Model')\n",
    "\n",
    "plt.xlabel('Ensemble weight',fontsize=16)\n",
    "plt.ylabel('RMSE',fontsize=16)\n",
    "plt.xticks(fontsize=14)\n",
    "plt.yticks(fontsize=14)\n",
    "plt.legend(loc='best',fontsize=16);"
   ]
  },
  {
   "cell_type": "code",
   "execution_count": 338,
   "metadata": {
    "collapsed": false
   },
   "outputs": [
    {
     "name": "stdout",
     "output_type": "stream",
     "text": [
      "\n",
      "0.315789473684\n",
      "0.898996257624\n"
     ]
    }
   ],
   "source": [
    "#print meanWeights[np.argmin(rmsesFake)]\n",
    "#print rmsesFake[np.argmin(rmsesFake)]\n",
    "\n",
    "print ''\n",
    "\n",
    "print meanWeights[np.argmin(rmsesSimpleNoBookMeans)]\n",
    "print rmsesSimpleNoBookMeans[np.argmin(rmsesSimpleNoBookMeans)]"
   ]
  },
  {
   "cell_type": "code",
   "execution_count": 339,
   "metadata": {
    "collapsed": false
   },
   "outputs": [
    {
     "ename": "SyntaxError",
     "evalue": "invalid syntax (<ipython-input-339-95983e06353e>, line 3)",
     "output_type": "error",
     "traceback": [
      "\u001b[0;36m  File \u001b[0;32m\"<ipython-input-339-95983e06353e>\"\u001b[0;36m, line \u001b[0;32m3\u001b[0m\n\u001b[0;31m    In [ ]:\u001b[0m\n\u001b[0m         ^\u001b[0m\n\u001b[0;31mSyntaxError\u001b[0m\u001b[0;31m:\u001b[0m invalid syntax\n"
     ]
    }
   ],
   "source": [
    "0.252631578947\n",
    "0.898785990465\n",
    "In [ ]:\n",
    "In [ ]:\n",
    "In [ ]:\n",
    "In [ ]:\n"
   ]
  },
  {
   "cell_type": "markdown",
   "metadata": {
    "collapsed": false
   },
   "source": [
    "USING COMMUNITY MEANS OF RECOMMENDER PREDICTIONS"
   ]
  },
  {
   "cell_type": "code",
   "execution_count": 912,
   "metadata": {
    "collapsed": false
   },
   "outputs": [],
   "source": [
    "test = [(bookID, userID) for bookID, userID in product(glRatings['bookID'].unique(), glRatings['userID'].unique())]"
   ]
  },
  {
   "cell_type": "code",
   "execution_count": 913,
   "metadata": {
    "collapsed": false
   },
   "outputs": [],
   "source": [
    "#test\n",
    "testDict = {}\n",
    "npTest = np.array(test)\n",
    "testDict['bookID'] = npTest[:,0]\n",
    "testDict['userID'] = npTest[:,1]\n",
    "sfTest = gl.SFrame(testDict)"
   ]
  },
  {
   "cell_type": "code",
   "execution_count": 914,
   "metadata": {
    "collapsed": false
   },
   "outputs": [],
   "source": [
    "allPreds = rec_engine.predict(sfTest)"
   ]
  },
  {
   "cell_type": "code",
   "execution_count": 915,
   "metadata": {
    "collapsed": false
   },
   "outputs": [
    {
     "data": {
      "text/html": [
       "<div style=\"max-height:1000px;max-width:1500px;overflow:auto;\"><table frame=\"box\" rules=\"cols\">\n",
       "    <tr>\n",
       "        <th style=\"padding-left: 1em; padding-right: 1em; text-align: center\">bookID</th>\n",
       "        <th style=\"padding-left: 1em; padding-right: 1em; text-align: center\">userID</th>\n",
       "        <th style=\"padding-left: 1em; padding-right: 1em; text-align: center\">preds</th>\n",
       "    </tr>\n",
       "    <tr>\n",
       "        <td style=\"padding-left: 1em; padding-right: 1em; text-align: center; vertical-align: top\">1162543</td>\n",
       "        <td style=\"padding-left: 1em; padding-right: 1em; text-align: center; vertical-align: top\">32119</td>\n",
       "        <td style=\"padding-left: 1em; padding-right: 1em; text-align: center; vertical-align: top\">3.03590595132</td>\n",
       "    </tr>\n",
       "    <tr>\n",
       "        <td style=\"padding-left: 1em; padding-right: 1em; text-align: center; vertical-align: top\">1162543</td>\n",
       "        <td style=\"padding-left: 1em; padding-right: 1em; text-align: center; vertical-align: top\">271433</td>\n",
       "        <td style=\"padding-left: 1em; padding-right: 1em; text-align: center; vertical-align: top\">3.03590595132</td>\n",
       "    </tr>\n",
       "    <tr>\n",
       "        <td style=\"padding-left: 1em; padding-right: 1em; text-align: center; vertical-align: top\">1162543</td>\n",
       "        <td style=\"padding-left: 1em; padding-right: 1em; text-align: center; vertical-align: top\">135475</td>\n",
       "        <td style=\"padding-left: 1em; padding-right: 1em; text-align: center; vertical-align: top\">3.03590595132</td>\n",
       "    </tr>\n",
       "    <tr>\n",
       "        <td style=\"padding-left: 1em; padding-right: 1em; text-align: center; vertical-align: top\">1162543</td>\n",
       "        <td style=\"padding-left: 1em; padding-right: 1em; text-align: center; vertical-align: top\">5247</td>\n",
       "        <td style=\"padding-left: 1em; padding-right: 1em; text-align: center; vertical-align: top\">3.03590595132</td>\n",
       "    </tr>\n",
       "    <tr>\n",
       "        <td style=\"padding-left: 1em; padding-right: 1em; text-align: center; vertical-align: top\">1162543</td>\n",
       "        <td style=\"padding-left: 1em; padding-right: 1em; text-align: center; vertical-align: top\">14871</td>\n",
       "        <td style=\"padding-left: 1em; padding-right: 1em; text-align: center; vertical-align: top\">3.03590595132</td>\n",
       "    </tr>\n",
       "    <tr>\n",
       "        <td style=\"padding-left: 1em; padding-right: 1em; text-align: center; vertical-align: top\">1162543</td>\n",
       "        <td style=\"padding-left: 1em; padding-right: 1em; text-align: center; vertical-align: top\">247244</td>\n",
       "        <td style=\"padding-left: 1em; padding-right: 1em; text-align: center; vertical-align: top\">3.03590595132</td>\n",
       "    </tr>\n",
       "    <tr>\n",
       "        <td style=\"padding-left: 1em; padding-right: 1em; text-align: center; vertical-align: top\">1162543</td>\n",
       "        <td style=\"padding-left: 1em; padding-right: 1em; text-align: center; vertical-align: top\">147129</td>\n",
       "        <td style=\"padding-left: 1em; padding-right: 1em; text-align: center; vertical-align: top\">3.03590595132</td>\n",
       "    </tr>\n",
       "    <tr>\n",
       "        <td style=\"padding-left: 1em; padding-right: 1em; text-align: center; vertical-align: top\">1162543</td>\n",
       "        <td style=\"padding-left: 1em; padding-right: 1em; text-align: center; vertical-align: top\">9169100</td>\n",
       "        <td style=\"padding-left: 1em; padding-right: 1em; text-align: center; vertical-align: top\">3.03590595132</td>\n",
       "    </tr>\n",
       "    <tr>\n",
       "        <td style=\"padding-left: 1em; padding-right: 1em; text-align: center; vertical-align: top\">1162543</td>\n",
       "        <td style=\"padding-left: 1em; padding-right: 1em; text-align: center; vertical-align: top\">94664</td>\n",
       "        <td style=\"padding-left: 1em; padding-right: 1em; text-align: center; vertical-align: top\">3.03590595132</td>\n",
       "    </tr>\n",
       "    <tr>\n",
       "        <td style=\"padding-left: 1em; padding-right: 1em; text-align: center; vertical-align: top\">1162543</td>\n",
       "        <td style=\"padding-left: 1em; padding-right: 1em; text-align: center; vertical-align: top\">24243723</td>\n",
       "        <td style=\"padding-left: 1em; padding-right: 1em; text-align: center; vertical-align: top\">3.03590595132</td>\n",
       "    </tr>\n",
       "</table>\n",
       "[1572207 rows x 3 columns]<br/>Note: Only the head of the SFrame is printed.<br/>You can use print_rows(num_rows=m, num_columns=n) to print more rows and columns.\n",
       "</div>"
      ],
      "text/plain": [
       "Columns:\n",
       "\tbookID\tstr\n",
       "\tuserID\tstr\n",
       "\tpreds\tfloat\n",
       "\n",
       "Rows: 1572207\n",
       "\n",
       "Data:\n",
       "+---------+----------+---------------+\n",
       "|  bookID |  userID  |     preds     |\n",
       "+---------+----------+---------------+\n",
       "| 1162543 |  32119   | 3.03590595132 |\n",
       "| 1162543 |  271433  | 3.03590595132 |\n",
       "| 1162543 |  135475  | 3.03590595132 |\n",
       "| 1162543 |   5247   | 3.03590595132 |\n",
       "| 1162543 |  14871   | 3.03590595132 |\n",
       "| 1162543 |  247244  | 3.03590595132 |\n",
       "| 1162543 |  147129  | 3.03590595132 |\n",
       "| 1162543 | 9169100  | 3.03590595132 |\n",
       "| 1162543 |  94664   | 3.03590595132 |\n",
       "| 1162543 | 24243723 | 3.03590595132 |\n",
       "+---------+----------+---------------+\n",
       "[1572207 rows x 3 columns]\n",
       "Note: Only the head of the SFrame is printed.\n",
       "You can use print_rows(num_rows=m, num_columns=n) to print more rows and columns."
      ]
     },
     "execution_count": 915,
     "metadata": {},
     "output_type": "execute_result"
    }
   ],
   "source": [
    "sfTest.add_column(allPreds, 'preds')"
   ]
  },
  {
   "cell_type": "code",
   "execution_count": 916,
   "metadata": {
    "collapsed": false
   },
   "outputs": [
    {
     "data": {
      "text/html": [
       "<div style=\"max-height:1000px;max-width:1500px;overflow:auto;\"><table frame=\"box\" rules=\"cols\">\n",
       "    <tr>\n",
       "        <th style=\"padding-left: 1em; padding-right: 1em; text-align: center\">bookID</th>\n",
       "        <th style=\"padding-left: 1em; padding-right: 1em; text-align: center\">userID</th>\n",
       "        <th style=\"padding-left: 1em; padding-right: 1em; text-align: center\">preds</th>\n",
       "        <th style=\"padding-left: 1em; padding-right: 1em; text-align: center\">comm</th>\n",
       "    </tr>\n",
       "    <tr>\n",
       "        <td style=\"padding-left: 1em; padding-right: 1em; text-align: center; vertical-align: top\">1162543</td>\n",
       "        <td style=\"padding-left: 1em; padding-right: 1em; text-align: center; vertical-align: top\">32119</td>\n",
       "        <td style=\"padding-left: 1em; padding-right: 1em; text-align: center; vertical-align: top\">3.03590595132</td>\n",
       "        <td style=\"padding-left: 1em; padding-right: 1em; text-align: center; vertical-align: top\">8</td>\n",
       "    </tr>\n",
       "    <tr>\n",
       "        <td style=\"padding-left: 1em; padding-right: 1em; text-align: center; vertical-align: top\">1162543</td>\n",
       "        <td style=\"padding-left: 1em; padding-right: 1em; text-align: center; vertical-align: top\">271433</td>\n",
       "        <td style=\"padding-left: 1em; padding-right: 1em; text-align: center; vertical-align: top\">3.03590595132</td>\n",
       "        <td style=\"padding-left: 1em; padding-right: 1em; text-align: center; vertical-align: top\">55</td>\n",
       "    </tr>\n",
       "    <tr>\n",
       "        <td style=\"padding-left: 1em; padding-right: 1em; text-align: center; vertical-align: top\">1162543</td>\n",
       "        <td style=\"padding-left: 1em; padding-right: 1em; text-align: center; vertical-align: top\">135475</td>\n",
       "        <td style=\"padding-left: 1em; padding-right: 1em; text-align: center; vertical-align: top\">3.03590595132</td>\n",
       "        <td style=\"padding-left: 1em; padding-right: 1em; text-align: center; vertical-align: top\">41</td>\n",
       "    </tr>\n",
       "    <tr>\n",
       "        <td style=\"padding-left: 1em; padding-right: 1em; text-align: center; vertical-align: top\">1162543</td>\n",
       "        <td style=\"padding-left: 1em; padding-right: 1em; text-align: center; vertical-align: top\">5247</td>\n",
       "        <td style=\"padding-left: 1em; padding-right: 1em; text-align: center; vertical-align: top\">3.03590595132</td>\n",
       "        <td style=\"padding-left: 1em; padding-right: 1em; text-align: center; vertical-align: top\">21</td>\n",
       "    </tr>\n",
       "    <tr>\n",
       "        <td style=\"padding-left: 1em; padding-right: 1em; text-align: center; vertical-align: top\">1162543</td>\n",
       "        <td style=\"padding-left: 1em; padding-right: 1em; text-align: center; vertical-align: top\">14871</td>\n",
       "        <td style=\"padding-left: 1em; padding-right: 1em; text-align: center; vertical-align: top\">3.03590595132</td>\n",
       "        <td style=\"padding-left: 1em; padding-right: 1em; text-align: center; vertical-align: top\">22</td>\n",
       "    </tr>\n",
       "    <tr>\n",
       "        <td style=\"padding-left: 1em; padding-right: 1em; text-align: center; vertical-align: top\">1162543</td>\n",
       "        <td style=\"padding-left: 1em; padding-right: 1em; text-align: center; vertical-align: top\">247244</td>\n",
       "        <td style=\"padding-left: 1em; padding-right: 1em; text-align: center; vertical-align: top\">3.03590595132</td>\n",
       "        <td style=\"padding-left: 1em; padding-right: 1em; text-align: center; vertical-align: top\">17</td>\n",
       "    </tr>\n",
       "    <tr>\n",
       "        <td style=\"padding-left: 1em; padding-right: 1em; text-align: center; vertical-align: top\">1162543</td>\n",
       "        <td style=\"padding-left: 1em; padding-right: 1em; text-align: center; vertical-align: top\">147129</td>\n",
       "        <td style=\"padding-left: 1em; padding-right: 1em; text-align: center; vertical-align: top\">3.03590595132</td>\n",
       "        <td style=\"padding-left: 1em; padding-right: 1em; text-align: center; vertical-align: top\">46</td>\n",
       "    </tr>\n",
       "    <tr>\n",
       "        <td style=\"padding-left: 1em; padding-right: 1em; text-align: center; vertical-align: top\">1162543</td>\n",
       "        <td style=\"padding-left: 1em; padding-right: 1em; text-align: center; vertical-align: top\">9169100</td>\n",
       "        <td style=\"padding-left: 1em; padding-right: 1em; text-align: center; vertical-align: top\">3.03590595132</td>\n",
       "        <td style=\"padding-left: 1em; padding-right: 1em; text-align: center; vertical-align: top\">68</td>\n",
       "    </tr>\n",
       "    <tr>\n",
       "        <td style=\"padding-left: 1em; padding-right: 1em; text-align: center; vertical-align: top\">1162543</td>\n",
       "        <td style=\"padding-left: 1em; padding-right: 1em; text-align: center; vertical-align: top\">94664</td>\n",
       "        <td style=\"padding-left: 1em; padding-right: 1em; text-align: center; vertical-align: top\">3.03590595132</td>\n",
       "        <td style=\"padding-left: 1em; padding-right: 1em; text-align: center; vertical-align: top\">30</td>\n",
       "    </tr>\n",
       "    <tr>\n",
       "        <td style=\"padding-left: 1em; padding-right: 1em; text-align: center; vertical-align: top\">1162543</td>\n",
       "        <td style=\"padding-left: 1em; padding-right: 1em; text-align: center; vertical-align: top\">24243723</td>\n",
       "        <td style=\"padding-left: 1em; padding-right: 1em; text-align: center; vertical-align: top\">3.03590595132</td>\n",
       "        <td style=\"padding-left: 1em; padding-right: 1em; text-align: center; vertical-align: top\">48</td>\n",
       "    </tr>\n",
       "</table>\n",
       "[1572207 rows x 4 columns]<br/>Note: Only the head of the SFrame is printed.<br/>You can use print_rows(num_rows=m, num_columns=n) to print more rows and columns.\n",
       "</div>"
      ],
      "text/plain": [
       "Columns:\n",
       "\tbookID\tstr\n",
       "\tuserID\tstr\n",
       "\tpreds\tfloat\n",
       "\tcomm\tint\n",
       "\n",
       "Rows: 1572207\n",
       "\n",
       "Data:\n",
       "+---------+----------+---------------+------+\n",
       "|  bookID |  userID  |     preds     | comm |\n",
       "+---------+----------+---------------+------+\n",
       "| 1162543 |  32119   | 3.03590595132 |  8   |\n",
       "| 1162543 |  271433  | 3.03590595132 |  55  |\n",
       "| 1162543 |  135475  | 3.03590595132 |  41  |\n",
       "| 1162543 |   5247   | 3.03590595132 |  21  |\n",
       "| 1162543 |  14871   | 3.03590595132 |  22  |\n",
       "| 1162543 |  247244  | 3.03590595132 |  17  |\n",
       "| 1162543 |  147129  | 3.03590595132 |  46  |\n",
       "| 1162543 | 9169100  | 3.03590595132 |  68  |\n",
       "| 1162543 |  94664   | 3.03590595132 |  30  |\n",
       "| 1162543 | 24243723 | 3.03590595132 |  48  |\n",
       "+---------+----------+---------------+------+\n",
       "[1572207 rows x 4 columns]\n",
       "Note: Only the head of the SFrame is printed.\n",
       "You can use print_rows(num_rows=m, num_columns=n) to print more rows and columns."
      ]
     },
     "execution_count": 916,
     "metadata": {},
     "output_type": "execute_result"
    }
   ],
   "source": [
    "commDict = {uID: i for i, comm in enumerate(allComms) for uID in comm}\n",
    "\n",
    "sfTest.add_column(sfTest['userID'].apply(lambda x: commDict[int(x)]), 'comm')"
   ]
  },
  {
   "cell_type": "code",
   "execution_count": 917,
   "metadata": {
    "collapsed": false
   },
   "outputs": [
    {
     "data": {
      "text/html": [
       "<div style=\"max-height:1000px;max-width:1500px;overflow:auto;\"><table frame=\"box\" rules=\"cols\">\n",
       "    <tr>\n",
       "        <th style=\"padding-left: 1em; padding-right: 1em; text-align: center\">bookID</th>\n",
       "        <th style=\"padding-left: 1em; padding-right: 1em; text-align: center\">comm</th>\n",
       "        <th style=\"padding-left: 1em; padding-right: 1em; text-align: center\">avgPreds</th>\n",
       "    </tr>\n",
       "    <tr>\n",
       "        <td style=\"padding-left: 1em; padding-right: 1em; text-align: center; vertical-align: top\">10569</td>\n",
       "        <td style=\"padding-left: 1em; padding-right: 1em; text-align: center; vertical-align: top\">55</td>\n",
       "        <td style=\"padding-left: 1em; padding-right: 1em; text-align: center; vertical-align: top\">4.00803316539</td>\n",
       "    </tr>\n",
       "    <tr>\n",
       "        <td style=\"padding-left: 1em; padding-right: 1em; text-align: center; vertical-align: top\">11278959</td>\n",
       "        <td style=\"padding-left: 1em; padding-right: 1em; text-align: center; vertical-align: top\">59</td>\n",
       "        <td style=\"padding-left: 1em; padding-right: 1em; text-align: center; vertical-align: top\">3.47377260929</td>\n",
       "    </tr>\n",
       "    <tr>\n",
       "        <td style=\"padding-left: 1em; padding-right: 1em; text-align: center; vertical-align: top\">28381</td>\n",
       "        <td style=\"padding-left: 1em; padding-right: 1em; text-align: center; vertical-align: top\">4</td>\n",
       "        <td style=\"padding-left: 1em; padding-right: 1em; text-align: center; vertical-align: top\">3.93346711403</td>\n",
       "    </tr>\n",
       "    <tr>\n",
       "        <td style=\"padding-left: 1em; padding-right: 1em; text-align: center; vertical-align: top\">17336704</td>\n",
       "        <td style=\"padding-left: 1em; padding-right: 1em; text-align: center; vertical-align: top\">24</td>\n",
       "        <td style=\"padding-left: 1em; padding-right: 1em; text-align: center; vertical-align: top\">3.63113679891</td>\n",
       "    </tr>\n",
       "    <tr>\n",
       "        <td style=\"padding-left: 1em; padding-right: 1em; text-align: center; vertical-align: top\">485894</td>\n",
       "        <td style=\"padding-left: 1em; padding-right: 1em; text-align: center; vertical-align: top\">49</td>\n",
       "        <td style=\"padding-left: 1em; padding-right: 1em; text-align: center; vertical-align: top\">3.94561145609</td>\n",
       "    </tr>\n",
       "    <tr>\n",
       "        <td style=\"padding-left: 1em; padding-right: 1em; text-align: center; vertical-align: top\">7937843</td>\n",
       "        <td style=\"padding-left: 1em; padding-right: 1em; text-align: center; vertical-align: top\">46</td>\n",
       "        <td style=\"padding-left: 1em; padding-right: 1em; text-align: center; vertical-align: top\">3.83564817315</td>\n",
       "    </tr>\n",
       "    <tr>\n",
       "        <td style=\"padding-left: 1em; padding-right: 1em; text-align: center; vertical-align: top\">29209</td>\n",
       "        <td style=\"padding-left: 1em; padding-right: 1em; text-align: center; vertical-align: top\">2</td>\n",
       "        <td style=\"padding-left: 1em; padding-right: 1em; text-align: center; vertical-align: top\">3.78459570525</td>\n",
       "    </tr>\n",
       "    <tr>\n",
       "        <td style=\"padding-left: 1em; padding-right: 1em; text-align: center; vertical-align: top\">420282</td>\n",
       "        <td style=\"padding-left: 1em; padding-right: 1em; text-align: center; vertical-align: top\">2</td>\n",
       "        <td style=\"padding-left: 1em; padding-right: 1em; text-align: center; vertical-align: top\">4.0451092661</td>\n",
       "    </tr>\n",
       "    <tr>\n",
       "        <td style=\"padding-left: 1em; padding-right: 1em; text-align: center; vertical-align: top\">216363</td>\n",
       "        <td style=\"padding-left: 1em; padding-right: 1em; text-align: center; vertical-align: top\">4</td>\n",
       "        <td style=\"padding-left: 1em; padding-right: 1em; text-align: center; vertical-align: top\">3.92858416741</td>\n",
       "    </tr>\n",
       "    <tr>\n",
       "        <td style=\"padding-left: 1em; padding-right: 1em; text-align: center; vertical-align: top\">11590</td>\n",
       "        <td style=\"padding-left: 1em; padding-right: 1em; text-align: center; vertical-align: top\">30</td>\n",
       "        <td style=\"padding-left: 1em; padding-right: 1em; text-align: center; vertical-align: top\">3.48331939583</td>\n",
       "    </tr>\n",
       "</table>\n",
       "[95688 rows x 3 columns]<br/>Note: Only the head of the SFrame is printed.<br/>You can use print_rows(num_rows=m, num_columns=n) to print more rows and columns.\n",
       "</div>"
      ],
      "text/plain": [
       "Columns:\n",
       "\tbookID\tstr\n",
       "\tcomm\tint\n",
       "\tavgPreds\tfloat\n",
       "\n",
       "Rows: 95688\n",
       "\n",
       "Data:\n",
       "+----------+------+---------------+\n",
       "|  bookID  | comm |    avgPreds   |\n",
       "+----------+------+---------------+\n",
       "|  10569   |  55  | 4.00803316539 |\n",
       "| 11278959 |  59  | 3.47377260929 |\n",
       "|  28381   |  4   | 3.93346711403 |\n",
       "| 17336704 |  24  | 3.63113679891 |\n",
       "|  485894  |  49  | 3.94561145609 |\n",
       "| 7937843  |  46  | 3.83564817315 |\n",
       "|  29209   |  2   | 3.78459570525 |\n",
       "|  420282  |  2   |  4.0451092661 |\n",
       "|  216363  |  4   | 3.92858416741 |\n",
       "|  11590   |  30  | 3.48331939583 |\n",
       "+----------+------+---------------+\n",
       "[95688 rows x 3 columns]\n",
       "Note: Only the head of the SFrame is printed.\n",
       "You can use print_rows(num_rows=m, num_columns=n) to print more rows and columns."
      ]
     },
     "execution_count": 917,
     "metadata": {},
     "output_type": "execute_result"
    }
   ],
   "source": [
    "sfTest[['bookID', 'preds', 'comm']].groupby(['bookID', 'comm'], {'avgPreds': gl.aggregate.AVG('preds')})"
   ]
  },
  {
   "cell_type": "code",
   "execution_count": 918,
   "metadata": {
    "collapsed": true
   },
   "outputs": [],
   "source": [
    "factorCommBookMeansTrain = {}\n",
    "for row in sfTest:\n",
    "    factorCommBookMeansTrain[(row['bookID'], row['comm'])] = row['preds']\n"
   ]
  },
  {
   "cell_type": "code",
   "execution_count": 919,
   "metadata": {
    "collapsed": false
   },
   "outputs": [
    {
     "data": {
      "text/plain": [
       "[<matplotlib.lines.Line2D at 0x7fafdb4cbd10>]"
      ]
     },
     "execution_count": 919,
     "metadata": {},
     "output_type": "execute_result"
    },
    {
     "data": {
      "image/png": "[encoded data removed]",
      "text/plain": [
       "<matplotlib.figure.Figure at 0x7faf0c6f7f50>"
      ]
     },
     "metadata": {},
     "output_type": "display_data"
    }
   ],
   "source": [
    "meanWeights = np.linspace(0,1,30)\n",
    "\n",
    "#SIMPLE PREDICTION FROM COMM MEANS\n",
    "rmsesSimple = []\n",
    "\n",
    "for weight in meanWeights:\n",
    "    rmsesSimple.append(\\\n",
    "                mixedPred(glRatingsTestWithComm, \\\n",
    "                          commMeansTrain, commBookMeansTrain, commBookMeansTrain, rec_engine, rec_engine, \\\n",
    "                          False, False, True, weight)[1])\n",
    "\n",
    "#SIMPLE PREDICTION FROM COMM MEANS (no book means)\n",
    "rmsesSimpleNoBookMeans = []\n",
    "\n",
    "for weight in meanWeights:\n",
    "    rmsesSimpleNoBookMeans.append(\\\n",
    "                mixedPred(glRatingsTestWithComm, \\\n",
    "                          commMeansTrain, commBookMeansTrain, commBookMeansTrain, rec_engine, rec_engine, \\\n",
    "                          False, False, False, weight)[1])\n",
    "    \n",
    "#FACTORIZING COMM MEANS\n",
    "\n",
    "rmsesFac = []\n",
    "for weight in meanWeights:\n",
    "    rmsesFac.append(\\\n",
    "                mixedPred(glRatingsTestWithComm, \\\n",
    "                          commMeansTrain, commBookMeansTrain, factorCommBookMeansTrain, rec_engine, rec_engine, \\\n",
    "                          True, False, True, weight)[1])\n",
    "\n",
    "plt.plot(meanWeights, rmsesSimple, '-');\n",
    "plt.plot(meanWeights, rmsesSimpleNoBookMeans, '-');\n",
    "plt.plot(meanWeights, rmsesFac, '-')"
   ]
  },
  {
   "cell_type": "code",
   "execution_count": 826,
   "metadata": {
    "collapsed": false
   },
   "outputs": [
    {
     "name": "stdout",
     "output_type": "stream",
     "text": [
      "0.137931034483\n",
      "0.887995003275\n"
     ]
    }
   ],
   "source": [
    "print meanWeights[np.argmin(rmsesSimple)]\n",
    "print rmsesSimple[np.argmin(rmsesSimple)]"
   ]
  },
  {
   "cell_type": "markdown",
   "metadata": {},
   "source": [
    "FACTORIZATION RECOMMENDER FOR RAW (COMMUNITY-BOOK-RATING) DATA"
   ]
  },
  {
   "cell_type": "code",
   "execution_count": 930,
   "metadata": {
    "collapsed": false
   },
   "outputs": [
    {
     "data": {
      "text/html": [
       "<div style=\"max-height:1000px;max-width:1500px;overflow:auto;\"><table frame=\"box\" rules=\"cols\">\n",
       "    <tr>\n",
       "        <th style=\"padding-left: 1em; padding-right: 1em; text-align: center\">bookID</th>\n",
       "        <th style=\"padding-left: 1em; padding-right: 1em; text-align: center\">comm</th>\n",
       "        <th style=\"padding-left: 1em; padding-right: 1em; text-align: center\">rating</th>\n",
       "    </tr>\n",
       "    <tr>\n",
       "        <td style=\"padding-left: 1em; padding-right: 1em; text-align: center; vertical-align: top\">485894</td>\n",
       "        <td style=\"padding-left: 1em; padding-right: 1em; text-align: center; vertical-align: top\">49</td>\n",
       "        <td style=\"padding-left: 1em; padding-right: 1em; text-align: center; vertical-align: top\">3.0</td>\n",
       "    </tr>\n",
       "    <tr>\n",
       "        <td style=\"padding-left: 1em; padding-right: 1em; text-align: center; vertical-align: top\">7937843</td>\n",
       "        <td style=\"padding-left: 1em; padding-right: 1em; text-align: center; vertical-align: top\">46</td>\n",
       "        <td style=\"padding-left: 1em; padding-right: 1em; text-align: center; vertical-align: top\">2.5</td>\n",
       "    </tr>\n",
       "    <tr>\n",
       "        <td style=\"padding-left: 1em; padding-right: 1em; text-align: center; vertical-align: top\">5043</td>\n",
       "        <td style=\"padding-left: 1em; padding-right: 1em; text-align: center; vertical-align: top\">24</td>\n",
       "        <td style=\"padding-left: 1em; padding-right: 1em; text-align: center; vertical-align: top\">3.0</td>\n",
       "    </tr>\n",
       "    <tr>\n",
       "        <td style=\"padding-left: 1em; padding-right: 1em; text-align: center; vertical-align: top\">4407</td>\n",
       "        <td style=\"padding-left: 1em; padding-right: 1em; text-align: center; vertical-align: top\">30</td>\n",
       "        <td style=\"padding-left: 1em; padding-right: 1em; text-align: center; vertical-align: top\">3.0</td>\n",
       "    </tr>\n",
       "    <tr>\n",
       "        <td style=\"padding-left: 1em; padding-right: 1em; text-align: center; vertical-align: top\">6334</td>\n",
       "        <td style=\"padding-left: 1em; padding-right: 1em; text-align: center; vertical-align: top\">49</td>\n",
       "        <td style=\"padding-left: 1em; padding-right: 1em; text-align: center; vertical-align: top\">3.66666666667</td>\n",
       "    </tr>\n",
       "    <tr>\n",
       "        <td style=\"padding-left: 1em; padding-right: 1em; text-align: center; vertical-align: top\">2696</td>\n",
       "        <td style=\"padding-left: 1em; padding-right: 1em; text-align: center; vertical-align: top\">49</td>\n",
       "        <td style=\"padding-left: 1em; padding-right: 1em; text-align: center; vertical-align: top\">4.0</td>\n",
       "    </tr>\n",
       "    <tr>\n",
       "        <td style=\"padding-left: 1em; padding-right: 1em; text-align: center; vertical-align: top\">22328</td>\n",
       "        <td style=\"padding-left: 1em; padding-right: 1em; text-align: center; vertical-align: top\">3</td>\n",
       "        <td style=\"padding-left: 1em; padding-right: 1em; text-align: center; vertical-align: top\">5.0</td>\n",
       "    </tr>\n",
       "    <tr>\n",
       "        <td style=\"padding-left: 1em; padding-right: 1em; text-align: center; vertical-align: top\">2429135</td>\n",
       "        <td style=\"padding-left: 1em; padding-right: 1em; text-align: center; vertical-align: top\">46</td>\n",
       "        <td style=\"padding-left: 1em; padding-right: 1em; text-align: center; vertical-align: top\">3.25</td>\n",
       "    </tr>\n",
       "    <tr>\n",
       "        <td style=\"padding-left: 1em; padding-right: 1em; text-align: center; vertical-align: top\">2612</td>\n",
       "        <td style=\"padding-left: 1em; padding-right: 1em; text-align: center; vertical-align: top\">70</td>\n",
       "        <td style=\"padding-left: 1em; padding-right: 1em; text-align: center; vertical-align: top\">3.0</td>\n",
       "    </tr>\n",
       "    <tr>\n",
       "        <td style=\"padding-left: 1em; padding-right: 1em; text-align: center; vertical-align: top\">4953</td>\n",
       "        <td style=\"padding-left: 1em; padding-right: 1em; text-align: center; vertical-align: top\">23</td>\n",
       "        <td style=\"padding-left: 1em; padding-right: 1em; text-align: center; vertical-align: top\">3.5</td>\n",
       "    </tr>\n",
       "</table>\n",
       "[22220 rows x 3 columns]<br/>Note: Only the head of the SFrame is printed.<br/>You can use print_rows(num_rows=m, num_columns=n) to print more rows and columns.\n",
       "</div>"
      ],
      "text/plain": [
       "Columns:\n",
       "\tbookID\tstr\n",
       "\tcomm\tint\n",
       "\trating\tfloat\n",
       "\n",
       "Rows: 22220\n",
       "\n",
       "Data:\n",
       "+---------+------+---------------+\n",
       "|  bookID | comm |     rating    |\n",
       "+---------+------+---------------+\n",
       "|  485894 |  49  |      3.0      |\n",
       "| 7937843 |  46  |      2.5      |\n",
       "|   5043  |  24  |      3.0      |\n",
       "|   4407  |  30  |      3.0      |\n",
       "|   6334  |  49  | 3.66666666667 |\n",
       "|   2696  |  49  |      4.0      |\n",
       "|  22328  |  3   |      5.0      |\n",
       "| 2429135 |  46  |      3.25     |\n",
       "|   2612  |  70  |      3.0      |\n",
       "|   4953  |  23  |      3.5      |\n",
       "+---------+------+---------------+\n",
       "[22220 rows x 3 columns]\n",
       "Note: Only the head of the SFrame is printed.\n",
       "You can use print_rows(num_rows=m, num_columns=n) to print more rows and columns."
      ]
     },
     "execution_count": 930,
     "metadata": {},
     "output_type": "execute_result"
    }
   ],
   "source": [
    "#glCommTrain = glRatingsTrainWithComm.copy()['bookID', 'comm', 'rating']\n",
    "#glCommTest = glRatingsTestWithComm.copy()['bookID', 'comm', 'rating']\n",
    "glCommTrain = glCommBookMeansTrain.copy()\n",
    "\n",
    "glCommTrain['rating'] = glCommTrain['meanBookRatingByComm']\n",
    "glCommTrain.remove_column('meanBookRatingByComm')"
   ]
  },
  {
   "cell_type": "code",
   "execution_count": 931,
   "metadata": {
    "collapsed": false
   },
   "outputs": [
    {
     "data": {
      "text/html": [
       "<div style=\"max-height:1000px;max-width:1500px;overflow:auto;\"><table frame=\"box\" rules=\"cols\">\n",
       "    <tr>\n",
       "        <th style=\"padding-left: 1em; padding-right: 1em; text-align: center\">bookID</th>\n",
       "        <th style=\"padding-left: 1em; padding-right: 1em; text-align: center\">comm</th>\n",
       "        <th style=\"padding-left: 1em; padding-right: 1em; text-align: center\">rating</th>\n",
       "    </tr>\n",
       "    <tr>\n",
       "        <td style=\"padding-left: 1em; padding-right: 1em; text-align: center; vertical-align: top\">1971304</td>\n",
       "        <td style=\"padding-left: 1em; padding-right: 1em; text-align: center; vertical-align: top\">49</td>\n",
       "        <td style=\"padding-left: 1em; padding-right: 1em; text-align: center; vertical-align: top\">5.0</td>\n",
       "    </tr>\n",
       "    <tr>\n",
       "        <td style=\"padding-left: 1em; padding-right: 1em; text-align: center; vertical-align: top\">2429135</td>\n",
       "        <td style=\"padding-left: 1em; padding-right: 1em; text-align: center; vertical-align: top\">46</td>\n",
       "        <td style=\"padding-left: 1em; padding-right: 1em; text-align: center; vertical-align: top\">1.0</td>\n",
       "    </tr>\n",
       "    <tr>\n",
       "        <td style=\"padding-left: 1em; padding-right: 1em; text-align: center; vertical-align: top\">11</td>\n",
       "        <td style=\"padding-left: 1em; padding-right: 1em; text-align: center; vertical-align: top\">4</td>\n",
       "        <td style=\"padding-left: 1em; padding-right: 1em; text-align: center; vertical-align: top\">4.0</td>\n",
       "    </tr>\n",
       "    <tr>\n",
       "        <td style=\"padding-left: 1em; padding-right: 1em; text-align: center; vertical-align: top\">12220</td>\n",
       "        <td style=\"padding-left: 1em; padding-right: 1em; text-align: center; vertical-align: top\">55</td>\n",
       "        <td style=\"padding-left: 1em; padding-right: 1em; text-align: center; vertical-align: top\">5.0</td>\n",
       "    </tr>\n",
       "    <tr>\n",
       "        <td style=\"padding-left: 1em; padding-right: 1em; text-align: center; vertical-align: top\">249747</td>\n",
       "        <td style=\"padding-left: 1em; padding-right: 1em; text-align: center; vertical-align: top\">69</td>\n",
       "        <td style=\"padding-left: 1em; padding-right: 1em; text-align: center; vertical-align: top\">4.0</td>\n",
       "    </tr>\n",
       "    <tr>\n",
       "        <td style=\"padding-left: 1em; padding-right: 1em; text-align: center; vertical-align: top\">8520610</td>\n",
       "        <td style=\"padding-left: 1em; padding-right: 1em; text-align: center; vertical-align: top\">46</td>\n",
       "        <td style=\"padding-left: 1em; padding-right: 1em; text-align: center; vertical-align: top\">5.0</td>\n",
       "    </tr>\n",
       "    <tr>\n",
       "        <td style=\"padding-left: 1em; padding-right: 1em; text-align: center; vertical-align: top\">13335037</td>\n",
       "        <td style=\"padding-left: 1em; padding-right: 1em; text-align: center; vertical-align: top\">13</td>\n",
       "        <td style=\"padding-left: 1em; padding-right: 1em; text-align: center; vertical-align: top\">5.0</td>\n",
       "    </tr>\n",
       "    <tr>\n",
       "        <td style=\"padding-left: 1em; padding-right: 1em; text-align: center; vertical-align: top\">13256917</td>\n",
       "        <td style=\"padding-left: 1em; padding-right: 1em; text-align: center; vertical-align: top\">2</td>\n",
       "        <td style=\"padding-left: 1em; padding-right: 1em; text-align: center; vertical-align: top\">3.5</td>\n",
       "    </tr>\n",
       "    <tr>\n",
       "        <td style=\"padding-left: 1em; padding-right: 1em; text-align: center; vertical-align: top\">9361589</td>\n",
       "        <td style=\"padding-left: 1em; padding-right: 1em; text-align: center; vertical-align: top\">49</td>\n",
       "        <td style=\"padding-left: 1em; padding-right: 1em; text-align: center; vertical-align: top\">4.0</td>\n",
       "    </tr>\n",
       "    <tr>\n",
       "        <td style=\"padding-left: 1em; padding-right: 1em; text-align: center; vertical-align: top\">21</td>\n",
       "        <td style=\"padding-left: 1em; padding-right: 1em; text-align: center; vertical-align: top\">49</td>\n",
       "        <td style=\"padding-left: 1em; padding-right: 1em; text-align: center; vertical-align: top\">5.0</td>\n",
       "    </tr>\n",
       "</table>\n",
       "[6053 rows x 3 columns]<br/>Note: Only the head of the SFrame is printed.<br/>You can use print_rows(num_rows=m, num_columns=n) to print more rows and columns.\n",
       "</div>"
      ],
      "text/plain": [
       "Columns:\n",
       "\tbookID\tstr\n",
       "\tcomm\tint\n",
       "\trating\tfloat\n",
       "\n",
       "Rows: 6053\n",
       "\n",
       "Data:\n",
       "+----------+------+--------+\n",
       "|  bookID  | comm | rating |\n",
       "+----------+------+--------+\n",
       "| 1971304  |  49  |  5.0   |\n",
       "| 2429135  |  46  |  1.0   |\n",
       "|    11    |  4   |  4.0   |\n",
       "|  12220   |  55  |  5.0   |\n",
       "|  249747  |  69  |  4.0   |\n",
       "| 8520610  |  46  |  5.0   |\n",
       "| 13335037 |  13  |  5.0   |\n",
       "| 13256917 |  2   |  3.5   |\n",
       "| 9361589  |  49  |  4.0   |\n",
       "|    21    |  49  |  5.0   |\n",
       "+----------+------+--------+\n",
       "[6053 rows x 3 columns]\n",
       "Note: Only the head of the SFrame is printed.\n",
       "You can use print_rows(num_rows=m, num_columns=n) to print more rows and columns."
      ]
     },
     "execution_count": 931,
     "metadata": {},
     "output_type": "execute_result"
    }
   ],
   "source": [
    "glCommMeansTest, glCommBookMeansTest, commMeansTest, commBookMeansTest = \\\n",
    "makeSocialModelInputs(glRatingsTestWithComm)\n",
    "\n",
    "glCommTest = glCommBookMeansTest.copy()\n",
    "glCommTest['rating'] = glCommTest['meanBookRatingByComm']\n",
    "glCommTest.remove_column('meanBookRatingByComm')"
   ]
  },
  {
   "cell_type": "code",
   "execution_count": 932,
   "metadata": {
    "collapsed": false,
    "scrolled": true
   },
   "outputs": [
    {
     "name": "stdout",
     "output_type": "stream",
     "text": [
      "22220 observations\n",
      "72 users\n",
      "1270 books\n",
      "\n",
      "A recommender with 0 factor(s) (plus linear terms) would use 6.0% of the degrees of freedom present in the data.\n",
      "(16.6 observations per model degree of freedom)\n",
      "\n",
      "A recommender with 1 factor(s) (plus linear terms) would use 12.1% of the degrees of freedom present in the data.\n",
      "(8.3 observations per model degree of freedom)\n",
      "\n",
      "A recommender with 2 factor(s) (plus linear terms) would use 18.1% of the degrees of freedom present in the data.\n",
      "(5.5 observations per model degree of freedom)\n",
      "\n",
      "A recommender with 3 factor(s) (plus linear terms) would use 24.2% of the degrees of freedom present in the data.\n",
      "(4.1 observations per model degree of freedom)\n",
      "\n",
      "A recommender with 4 factor(s) (plus linear terms) would use 30.2% of the degrees of freedom present in the data.\n",
      "(3.3 observations per model degree of freedom)\n",
      "\n",
      "A recommender with 5 factor(s) (plus linear terms) would use 36.2% of the degrees of freedom present in the data.\n",
      "(2.8 observations per model degree of freedom)\n",
      "\n",
      "A recommender with 6 factor(s) (plus linear terms) would use 42.3% of the degrees of freedom present in the data.\n",
      "(2.4 observations per model degree of freedom)\n",
      "\n",
      "A recommender with 7 factor(s) (plus linear terms) would use 48.3% of the degrees of freedom present in the data.\n",
      "(2.1 observations per model degree of freedom)\n",
      "\n",
      "A recommender with 8 factor(s) (plus linear terms) would use 54.4% of the degrees of freedom present in the data.\n",
      "(1.8 observations per model degree of freedom)\n",
      "\n"
     ]
    }
   ],
   "source": [
    "degreesOfFreedomStats(glCommTrain)"
   ]
  },
  {
   "cell_type": "code",
   "execution_count": 939,
   "metadata": {
    "collapsed": false
   },
   "outputs": [
    {
     "data": {
      "text/html": [
       "<pre>Recsys training: model = factorization_recommender</pre>"
      ],
      "text/plain": [
       "Recsys training: model = factorization_recommender"
      ]
     },
     "metadata": {},
     "output_type": "display_data"
    },
    {
     "data": {
      "text/html": [
       "<pre>Preparing data set.</pre>"
      ],
      "text/plain": [
       "Preparing data set."
      ]
     },
     "metadata": {},
     "output_type": "display_data"
    },
    {
     "data": {
      "text/html": [
       "<pre>    Data has 22220 observations with 72 users and 1270 items.</pre>"
      ],
      "text/plain": [
       "    Data has 22220 observations with 72 users and 1270 items."
      ]
     },
     "metadata": {},
     "output_type": "display_data"
    },
    {
     "data": {
      "text/html": [
       "<pre>    Data prepared in: 0.124427s</pre>"
      ],
      "text/plain": [
       "    Data prepared in: 0.124427s"
      ]
     },
     "metadata": {},
     "output_type": "display_data"
    },
    {
     "data": {
      "text/html": [
       "<pre>Training factorization_recommender for recommendations.</pre>"
      ],
      "text/plain": [
       "Training factorization_recommender for recommendations."
      ]
     },
     "metadata": {},
     "output_type": "display_data"
    },
    {
     "data": {
      "text/html": [
       "<pre>+--------------------------------+--------------------------------------------------+----------+</pre>"
      ],
      "text/plain": [
       "+--------------------------------+--------------------------------------------------+----------+"
      ]
     },
     "metadata": {},
     "output_type": "display_data"
    },
    {
     "data": {
      "text/html": [
       "<pre>| Parameter                      | Description                                      | Value    |</pre>"
      ],
      "text/plain": [
       "| Parameter                      | Description                                      | Value    |"
      ]
     },
     "metadata": {},
     "output_type": "display_data"
    },
    {
     "data": {
      "text/html": [
       "<pre>+--------------------------------+--------------------------------------------------+----------+</pre>"
      ],
      "text/plain": [
       "+--------------------------------+--------------------------------------------------+----------+"
      ]
     },
     "metadata": {},
     "output_type": "display_data"
    },
    {
     "data": {
      "text/html": [
       "<pre>| num_factors                    | Factor Dimension                                 | 0        |</pre>"
      ],
      "text/plain": [
       "| num_factors                    | Factor Dimension                                 | 0        |"
      ]
     },
     "metadata": {},
     "output_type": "display_data"
    },
    {
     "data": {
      "text/html": [
       "<pre>| regularization                 | L2 Regularization on Factors                     | 0.01     |</pre>"
      ],
      "text/plain": [
       "| regularization                 | L2 Regularization on Factors                     | 0.01     |"
      ]
     },
     "metadata": {},
     "output_type": "display_data"
    },
    {
     "data": {
      "text/html": [
       "<pre>| solver                         | Solver used for training                         | sgd      |</pre>"
      ],
      "text/plain": [
       "| solver                         | Solver used for training                         | sgd      |"
      ]
     },
     "metadata": {},
     "output_type": "display_data"
    },
    {
     "data": {
      "text/html": [
       "<pre>| linear_regularization          | L2 Regularization on Linear Coefficients         | 0.0001   |</pre>"
      ],
      "text/plain": [
       "| linear_regularization          | L2 Regularization on Linear Coefficients         | 0.0001   |"
      ]
     },
     "metadata": {},
     "output_type": "display_data"
    },
    {
     "data": {
      "text/html": [
       "<pre>| max_iterations                 | Maximum Number of Iterations                     | 50       |</pre>"
      ],
      "text/plain": [
       "| max_iterations                 | Maximum Number of Iterations                     | 50       |"
      ]
     },
     "metadata": {},
     "output_type": "display_data"
    },
    {
     "data": {
      "text/html": [
       "<pre>+--------------------------------+--------------------------------------------------+----------+</pre>"
      ],
      "text/plain": [
       "+--------------------------------+--------------------------------------------------+----------+"
      ]
     },
     "metadata": {},
     "output_type": "display_data"
    },
    {
     "data": {
      "text/html": [
       "<pre>  Optimizing model using SGD; tuning step size.</pre>"
      ],
      "text/plain": [
       "  Optimizing model using SGD; tuning step size."
      ]
     },
     "metadata": {},
     "output_type": "display_data"
    },
    {
     "data": {
      "text/html": [
       "<pre>  Using 10000 / 22220 points for tuning the step size.</pre>"
      ],
      "text/plain": [
       "  Using 10000 / 22220 points for tuning the step size."
      ]
     },
     "metadata": {},
     "output_type": "display_data"
    },
    {
     "data": {
      "text/html": [
       "<pre>+---------+-------------------+------------------------------------------+</pre>"
      ],
      "text/plain": [
       "+---------+-------------------+------------------------------------------+"
      ]
     },
     "metadata": {},
     "output_type": "display_data"
    },
    {
     "data": {
      "text/html": [
       "<pre>| Attempt | Initial Step Size | Estimated Objective Value                |</pre>"
      ],
      "text/plain": [
       "| Attempt | Initial Step Size | Estimated Objective Value                |"
      ]
     },
     "metadata": {},
     "output_type": "display_data"
    },
    {
     "data": {
      "text/html": [
       "<pre>+---------+-------------------+------------------------------------------+</pre>"
      ],
      "text/plain": [
       "+---------+-------------------+------------------------------------------+"
      ]
     },
     "metadata": {},
     "output_type": "display_data"
    },
    {
     "data": {
      "text/html": [
       "<pre>| 0       | 0.331056          | No Decrease (0.79202 >= 0.777007)        |</pre>"
      ],
      "text/plain": [
       "| 0       | 0.331056          | No Decrease (0.79202 >= 0.777007)        |"
      ]
     },
     "metadata": {},
     "output_type": "display_data"
    },
    {
     "data": {
      "text/html": [
       "<pre>| 1       | 0.0827641         | 0.603607                                 |</pre>"
      ],
      "text/plain": [
       "| 1       | 0.0827641         | 0.603607                                 |"
      ]
     },
     "metadata": {},
     "output_type": "display_data"
    },
    {
     "data": {
      "text/html": [
       "<pre>| 2       | 0.041382          | 0.608211                                 |</pre>"
      ],
      "text/plain": [
       "| 2       | 0.041382          | 0.608211                                 |"
      ]
     },
     "metadata": {},
     "output_type": "display_data"
    },
    {
     "data": {
      "text/html": [
       "<pre>| 3       | 0.020691          | 0.630366                                 |</pre>"
      ],
      "text/plain": [
       "| 3       | 0.020691          | 0.630366                                 |"
      ]
     },
     "metadata": {},
     "output_type": "display_data"
    },
    {
     "data": {
      "text/html": [
       "<pre>| 4       | 0.0103455         | 0.656499                                 |</pre>"
      ],
      "text/plain": [
       "| 4       | 0.0103455         | 0.656499                                 |"
      ]
     },
     "metadata": {},
     "output_type": "display_data"
    },
    {
     "data": {
      "text/html": [
       "<pre>+---------+-------------------+------------------------------------------+</pre>"
      ],
      "text/plain": [
       "+---------+-------------------+------------------------------------------+"
      ]
     },
     "metadata": {},
     "output_type": "display_data"
    },
    {
     "data": {
      "text/html": [
       "<pre>| Final   | 0.0827641         | 0.603607                                 |</pre>"
      ],
      "text/plain": [
       "| Final   | 0.0827641         | 0.603607                                 |"
      ]
     },
     "metadata": {},
     "output_type": "display_data"
    },
    {
     "data": {
      "text/html": [
       "<pre>+---------+-------------------+------------------------------------------+</pre>"
      ],
      "text/plain": [
       "+---------+-------------------+------------------------------------------+"
      ]
     },
     "metadata": {},
     "output_type": "display_data"
    },
    {
     "data": {
      "text/html": [
       "<pre>Starting Optimization.</pre>"
      ],
      "text/plain": [
       "Starting Optimization."
      ]
     },
     "metadata": {},
     "output_type": "display_data"
    },
    {
     "data": {
      "text/html": [
       "<pre>+---------+--------------+-------------------+-----------------------+-------------+</pre>"
      ],
      "text/plain": [
       "+---------+--------------+-------------------+-----------------------+-------------+"
      ]
     },
     "metadata": {},
     "output_type": "display_data"
    },
    {
     "data": {
      "text/html": [
       "<pre>| Iter.   | Elapsed Time | Approx. Objective | Approx. Training RMSE | Step Size   |</pre>"
      ],
      "text/plain": [
       "| Iter.   | Elapsed Time | Approx. Objective | Approx. Training RMSE | Step Size   |"
      ]
     },
     "metadata": {},
     "output_type": "display_data"
    },
    {
     "data": {
      "text/html": [
       "<pre>+---------+--------------+-------------------+-----------------------+-------------+</pre>"
      ],
      "text/plain": [
       "+---------+--------------+-------------------+-----------------------+-------------+"
      ]
     },
     "metadata": {},
     "output_type": "display_data"
    },
    {
     "data": {
      "text/html": [
       "<pre>| Initial | 99us         | 0.76868           | 0.876744              |             |</pre>"
      ],
      "text/plain": [
       "| Initial | 99us         | 0.76868           | 0.876744              |             |"
      ]
     },
     "metadata": {},
     "output_type": "display_data"
    },
    {
     "data": {
      "text/html": [
       "<pre>+---------+--------------+-------------------+-----------------------+-------------+</pre>"
      ],
      "text/plain": [
       "+---------+--------------+-------------------+-----------------------+-------------+"
      ]
     },
     "metadata": {},
     "output_type": "display_data"
    },
    {
     "data": {
      "text/html": [
       "<pre>| 1       | 660.22ms     | 0.784455          | 0.876689              | 0.0827641   |</pre>"
      ],
      "text/plain": [
       "| 1       | 660.22ms     | 0.784455          | 0.876689              | 0.0827641   |"
      ]
     },
     "metadata": {},
     "output_type": "display_data"
    },
    {
     "data": {
      "text/html": [
       "<pre>| 2       | 1.32s        | 0.663837          | 0.805691              | 0.00426835  |</pre>"
      ],
      "text/plain": [
       "| 2       | 1.32s        | 0.663837          | 0.805691              | 0.00426835  |"
      ]
     },
     "metadata": {},
     "output_type": "display_data"
    },
    {
     "data": {
      "text/html": [
       "<pre>| 3       | 1.99s        | 0.642378          | 0.792447              | 0.00219066  |</pre>"
      ],
      "text/plain": [
       "| 3       | 1.99s        | 0.642378          | 0.792447              | 0.00219066  |"
      ]
     },
     "metadata": {},
     "output_type": "display_data"
    },
    {
     "data": {
      "text/html": [
       "<pre>| 4       | 2.65s        | 0.63687           | 0.789062              | 0.0014685   |</pre>"
      ],
      "text/plain": [
       "| 4       | 2.65s        | 0.63687           | 0.789062              | 0.0014685   |"
      ]
     },
     "metadata": {},
     "output_type": "display_data"
    },
    {
     "data": {
      "text/html": [
       "<pre>| 5       | 3.30s        | 0.634114          | 0.787374              | 0.00110721  |</pre>"
      ],
      "text/plain": [
       "| 5       | 3.30s        | 0.634114          | 0.787374              | 0.00110721  |"
      ]
     },
     "metadata": {},
     "output_type": "display_data"
    },
    {
     "data": {
      "text/html": [
       "<pre>| 6       | 3.95s        | 0.63222           | 0.786212              | 0.000888598 |</pre>"
      ],
      "text/plain": [
       "| 6       | 3.95s        | 0.63222           | 0.786212              | 0.000888598 |"
      ]
     },
     "metadata": {},
     "output_type": "display_data"
    },
    {
     "data": {
      "text/html": [
       "<pre>| 10      | 6.55s        | 0.628514          | 0.78394               | 0.000496483 |</pre>"
      ],
      "text/plain": [
       "| 10      | 6.55s        | 0.628514          | 0.78394               | 0.000496483 |"
      ]
     },
     "metadata": {},
     "output_type": "display_data"
    },
    {
     "data": {
      "text/html": [
       "<pre>| 11      | 7.23s        | 0.627972          | 0.783607              | 0.000447153 |</pre>"
      ],
      "text/plain": [
       "| 11      | 7.23s        | 0.627972          | 0.783607              | 0.000447153 |"
      ]
     },
     "metadata": {},
     "output_type": "display_data"
    },
    {
     "data": {
      "text/html": [
       "<pre>| 15      | 9.89s        | 0.626452          | 0.782673              | 0.000319983 |</pre>"
      ],
      "text/plain": [
       "| 15      | 9.89s        | 0.626452          | 0.782673              | 0.000319983 |"
      ]
     },
     "metadata": {},
     "output_type": "display_data"
    },
    {
     "data": {
      "text/html": [
       "<pre>| 20      | 13.19s       | 0.625307          | 0.781968              | 0.000236062 |</pre>"
      ],
      "text/plain": [
       "| 20      | 13.19s       | 0.625307          | 0.781968              | 0.000236062 |"
      ]
     },
     "metadata": {},
     "output_type": "display_data"
    },
    {
     "data": {
      "text/html": [
       "<pre>| 25      | 16.51s       | 0.624551          | 0.781502              | 0.000187015 |</pre>"
      ],
      "text/plain": [
       "| 25      | 16.51s       | 0.624551          | 0.781502              | 0.000187015 |"
      ]
     },
     "metadata": {},
     "output_type": "display_data"
    },
    {
     "data": {
      "text/html": [
       "<pre>| 30      | 19.80s       | 0.624005          | 0.781164              | 0.000154843 |</pre>"
      ],
      "text/plain": [
       "| 30      | 19.80s       | 0.624005          | 0.781164              | 0.000154843 |"
      ]
     },
     "metadata": {},
     "output_type": "display_data"
    },
    {
     "data": {
      "text/html": [
       "<pre>| 35      | 23.07s       | 0.623586          | 0.780904              | 0.000132115 |</pre>"
      ],
      "text/plain": [
       "| 35      | 23.07s       | 0.623586          | 0.780904              | 0.000132115 |"
      ]
     },
     "metadata": {},
     "output_type": "display_data"
    },
    {
     "data": {
      "text/html": [
       "<pre>| 40      | 26.39s       | 0.623249          | 0.780695              | 0.000115205 |</pre>"
      ],
      "text/plain": [
       "| 40      | 26.39s       | 0.623249          | 0.780695              | 0.000115205 |"
      ]
     },
     "metadata": {},
     "output_type": "display_data"
    },
    {
     "data": {
      "text/html": [
       "<pre>| 45      | 29.77s       | 0.622973          | 0.780523              | 0.000102133 |</pre>"
      ],
      "text/plain": [
       "| 45      | 29.77s       | 0.622973          | 0.780523              | 0.000102133 |"
      ]
     },
     "metadata": {},
     "output_type": "display_data"
    },
    {
     "data": {
      "text/html": [
       "<pre>| 50      | 33.09s       | 0.622739          | 0.780377              | 9.17249e-05 |</pre>"
      ],
      "text/plain": [
       "| 50      | 33.09s       | 0.622739          | 0.780377              | 9.17249e-05 |"
      ]
     },
     "metadata": {},
     "output_type": "display_data"
    },
    {
     "data": {
      "text/html": [
       "<pre>+---------+--------------+-------------------+-----------------------+-------------+</pre>"
      ],
      "text/plain": [
       "+---------+--------------+-------------------+-----------------------+-------------+"
      ]
     },
     "metadata": {},
     "output_type": "display_data"
    },
    {
     "data": {
      "text/html": [
       "<pre>Optimization Complete: Maximum number of passes through the data reached.</pre>"
      ],
      "text/plain": [
       "Optimization Complete: Maximum number of passes through the data reached."
      ]
     },
     "metadata": {},
     "output_type": "display_data"
    },
    {
     "data": {
      "text/html": [
       "<pre>Computing final objective value and training RMSE.</pre>"
      ],
      "text/plain": [
       "Computing final objective value and training RMSE."
      ]
     },
     "metadata": {},
     "output_type": "display_data"
    },
    {
     "data": {
      "text/html": [
       "<pre>       Final objective value: 0.622501</pre>"
      ],
      "text/plain": [
       "       Final objective value: 0.622501"
      ]
     },
     "metadata": {},
     "output_type": "display_data"
    },
    {
     "data": {
      "text/html": [
       "<pre>       Final training RMSE: 0.780225</pre>"
      ],
      "text/plain": [
       "       Final training RMSE: 0.780225"
      ]
     },
     "metadata": {},
     "output_type": "display_data"
    }
   ],
   "source": [
    "rec_engine_comm_baseline = gl.factorization_recommender.create(   observation_data=glCommTrain, \n",
    "                                                    user_id=\"comm\", \n",
    "                                                    item_id=\"bookID\", \n",
    "                                                    target='rating',\n",
    "                                                    num_factors=0,\n",
    "                                                    solver='auto',\n",
    "                                                    max_iterations=50,\n",
    "                                                    regularization = 1e-2,\n",
    "                                                    linear_regularization = 1e-4\n",
    "                                                    )"
   ]
  },
  {
   "cell_type": "code",
   "execution_count": 940,
   "metadata": {
    "collapsed": false
   },
   "outputs": [
    {
     "data": {
      "text/plain": [
       "0.8492236017877337"
      ]
     },
     "execution_count": 940,
     "metadata": {},
     "output_type": "execute_result"
    }
   ],
   "source": [
    "rec_engine_comm_baseline.evaluate_rmse(glCommTest, target='rating')['rmse_overall']"
   ]
  },
  {
   "cell_type": "code",
   "execution_count": 945,
   "metadata": {
    "collapsed": false,
    "scrolled": true
   },
   "outputs": [
    {
     "data": {
      "text/html": [
       "<pre>Recsys training: model = factorization_recommender</pre>"
      ],
      "text/plain": [
       "Recsys training: model = factorization_recommender"
      ]
     },
     "metadata": {},
     "output_type": "display_data"
    },
    {
     "data": {
      "text/html": [
       "<pre>Preparing data set.</pre>"
      ],
      "text/plain": [
       "Preparing data set."
      ]
     },
     "metadata": {},
     "output_type": "display_data"
    },
    {
     "data": {
      "text/html": [
       "<pre>    Data has 22220 observations with 72 users and 1270 items.</pre>"
      ],
      "text/plain": [
       "    Data has 22220 observations with 72 users and 1270 items."
      ]
     },
     "metadata": {},
     "output_type": "display_data"
    },
    {
     "data": {
      "text/html": [
       "<pre>    Data prepared in: 0.141546s</pre>"
      ],
      "text/plain": [
       "    Data prepared in: 0.141546s"
      ]
     },
     "metadata": {},
     "output_type": "display_data"
    },
    {
     "data": {
      "text/html": [
       "<pre>Training factorization_recommender for recommendations.</pre>"
      ],
      "text/plain": [
       "Training factorization_recommender for recommendations."
      ]
     },
     "metadata": {},
     "output_type": "display_data"
    },
    {
     "data": {
      "text/html": [
       "<pre>+--------------------------------+--------------------------------------------------+----------+</pre>"
      ],
      "text/plain": [
       "+--------------------------------+--------------------------------------------------+----------+"
      ]
     },
     "metadata": {},
     "output_type": "display_data"
    },
    {
     "data": {
      "text/html": [
       "<pre>| Parameter                      | Description                                      | Value    |</pre>"
      ],
      "text/plain": [
       "| Parameter                      | Description                                      | Value    |"
      ]
     },
     "metadata": {},
     "output_type": "display_data"
    },
    {
     "data": {
      "text/html": [
       "<pre>+--------------------------------+--------------------------------------------------+----------+</pre>"
      ],
      "text/plain": [
       "+--------------------------------+--------------------------------------------------+----------+"
      ]
     },
     "metadata": {},
     "output_type": "display_data"
    },
    {
     "data": {
      "text/html": [
       "<pre>| num_factors                    | Factor Dimension                                 | 4        |</pre>"
      ],
      "text/plain": [
       "| num_factors                    | Factor Dimension                                 | 4        |"
      ]
     },
     "metadata": {},
     "output_type": "display_data"
    },
    {
     "data": {
      "text/html": [
       "<pre>| regularization                 | L2 Regularization on Factors                     | 0.001    |</pre>"
      ],
      "text/plain": [
       "| regularization                 | L2 Regularization on Factors                     | 0.001    |"
      ]
     },
     "metadata": {},
     "output_type": "display_data"
    },
    {
     "data": {
      "text/html": [
       "<pre>| solver                         | Solver used for training                         | sgd      |</pre>"
      ],
      "text/plain": [
       "| solver                         | Solver used for training                         | sgd      |"
      ]
     },
     "metadata": {},
     "output_type": "display_data"
    },
    {
     "data": {
      "text/html": [
       "<pre>| linear_regularization          | L2 Regularization on Linear Coefficients         | 0.0001   |</pre>"
      ],
      "text/plain": [
       "| linear_regularization          | L2 Regularization on Linear Coefficients         | 0.0001   |"
      ]
     },
     "metadata": {},
     "output_type": "display_data"
    },
    {
     "data": {
      "text/html": [
       "<pre>| max_iterations                 | Maximum Number of Iterations                     | 50       |</pre>"
      ],
      "text/plain": [
       "| max_iterations                 | Maximum Number of Iterations                     | 50       |"
      ]
     },
     "metadata": {},
     "output_type": "display_data"
    },
    {
     "data": {
      "text/html": [
       "<pre>+--------------------------------+--------------------------------------------------+----------+</pre>"
      ],
      "text/plain": [
       "+--------------------------------+--------------------------------------------------+----------+"
      ]
     },
     "metadata": {},
     "output_type": "display_data"
    },
    {
     "data": {
      "text/html": [
       "<pre>  Optimizing model using SGD; tuning step size.</pre>"
      ],
      "text/plain": [
       "  Optimizing model using SGD; tuning step size."
      ]
     },
     "metadata": {},
     "output_type": "display_data"
    },
    {
     "data": {
      "text/html": [
       "<pre>  Using 10000 / 22220 points for tuning the step size.</pre>"
      ],
      "text/plain": [
       "  Using 10000 / 22220 points for tuning the step size."
      ]
     },
     "metadata": {},
     "output_type": "display_data"
    },
    {
     "data": {
      "text/html": [
       "<pre>+---------+-------------------+------------------------------------------+</pre>"
      ],
      "text/plain": [
       "+---------+-------------------+------------------------------------------+"
      ]
     },
     "metadata": {},
     "output_type": "display_data"
    },
    {
     "data": {
      "text/html": [
       "<pre>| Attempt | Initial Step Size | Estimated Objective Value                |</pre>"
      ],
      "text/plain": [
       "| Attempt | Initial Step Size | Estimated Objective Value                |"
      ]
     },
     "metadata": {},
     "output_type": "display_data"
    },
    {
     "data": {
      "text/html": [
       "<pre>+---------+-------------------+------------------------------------------+</pre>"
      ],
      "text/plain": [
       "+---------+-------------------+------------------------------------------+"
      ]
     },
     "metadata": {},
     "output_type": "display_data"
    },
    {
     "data": {
      "text/html": [
       "<pre>| 0       | 3.31056           | 0.707354                                 |</pre>"
      ],
      "text/plain": [
       "| 0       | 3.31056           | 0.707354                                 |"
      ]
     },
     "metadata": {},
     "output_type": "display_data"
    },
    {
     "data": {
      "text/html": [
       "<pre>| 1       | 1.65528           | 0.754305                                 |</pre>"
      ],
      "text/plain": [
       "| 1       | 1.65528           | 0.754305                                 |"
      ]
     },
     "metadata": {},
     "output_type": "display_data"
    },
    {
     "data": {
      "text/html": [
       "<pre>| 2       | 0.827641          | Not Viable                               |</pre>"
      ],
      "text/plain": [
       "| 2       | 0.827641          | Not Viable                               |"
      ]
     },
     "metadata": {},
     "output_type": "display_data"
    },
    {
     "data": {
      "text/html": [
       "<pre>| 3       | 0.20691           | No Decrease (1.08416 >= 0.777007)        |</pre>"
      ],
      "text/plain": [
       "| 3       | 0.20691           | No Decrease (1.08416 >= 0.777007)        |"
      ]
     },
     "metadata": {},
     "output_type": "display_data"
    },
    {
     "data": {
      "text/html": [
       "<pre>+---------+-------------------+------------------------------------------+</pre>"
      ],
      "text/plain": [
       "+---------+-------------------+------------------------------------------+"
      ]
     },
     "metadata": {},
     "output_type": "display_data"
    },
    {
     "data": {
      "text/html": [
       "<pre>| Final   | 3.31056           | 0.707354                                 |</pre>"
      ],
      "text/plain": [
       "| Final   | 3.31056           | 0.707354                                 |"
      ]
     },
     "metadata": {},
     "output_type": "display_data"
    },
    {
     "data": {
      "text/html": [
       "<pre>+---------+-------------------+------------------------------------------+</pre>"
      ],
      "text/plain": [
       "+---------+-------------------+------------------------------------------+"
      ]
     },
     "metadata": {},
     "output_type": "display_data"
    },
    {
     "data": {
      "text/html": [
       "<pre>Starting Optimization.</pre>"
      ],
      "text/plain": [
       "Starting Optimization."
      ]
     },
     "metadata": {},
     "output_type": "display_data"
    },
    {
     "data": {
      "text/html": [
       "<pre>+---------+--------------+-------------------+-----------------------+-------------+</pre>"
      ],
      "text/plain": [
       "+---------+--------------+-------------------+-----------------------+-------------+"
      ]
     },
     "metadata": {},
     "output_type": "display_data"
    },
    {
     "data": {
      "text/html": [
       "<pre>| Iter.   | Elapsed Time | Approx. Objective | Approx. Training RMSE | Step Size   |</pre>"
      ],
      "text/plain": [
       "| Iter.   | Elapsed Time | Approx. Objective | Approx. Training RMSE | Step Size   |"
      ]
     },
     "metadata": {},
     "output_type": "display_data"
    },
    {
     "data": {
      "text/html": [
       "<pre>+---------+--------------+-------------------+-----------------------+-------------+</pre>"
      ],
      "text/plain": [
       "+---------+--------------+-------------------+-----------------------+-------------+"
      ]
     },
     "metadata": {},
     "output_type": "display_data"
    },
    {
     "data": {
      "text/html": [
       "<pre>| Initial | 93us         | 0.76868           | 0.876744              |             |</pre>"
      ],
      "text/plain": [
       "| Initial | 93us         | 0.76868           | 0.876744              |             |"
      ]
     },
     "metadata": {},
     "output_type": "display_data"
    },
    {
     "data": {
      "text/html": [
       "<pre>+---------+--------------+-------------------+-----------------------+-------------+</pre>"
      ],
      "text/plain": [
       "+---------+--------------+-------------------+-----------------------+-------------+"
      ]
     },
     "metadata": {},
     "output_type": "display_data"
    },
    {
     "data": {
      "text/html": [
       "<pre>| 1       | 461.388ms    | DIVERGED          | DIVERGED              | 3.31056     |</pre>"
      ],
      "text/plain": [
       "| 1       | 461.388ms    | DIVERGED          | DIVERGED              | 3.31056     |"
      ]
     },
     "metadata": {},
     "output_type": "display_data"
    },
    {
     "data": {
      "text/html": [
       "<pre>| RESET   | 512.836ms    | 0.768676          | 0.876742              |             |</pre>"
      ],
      "text/plain": [
       "| RESET   | 512.836ms    | 0.768676          | 0.876742              |             |"
      ]
     },
     "metadata": {},
     "output_type": "display_data"
    },
    {
     "data": {
      "text/html": [
       "<pre>| 1       | 1.22s        | DIVERGED          | DIVERGED              | 1.65528     |</pre>"
      ],
      "text/plain": [
       "| 1       | 1.22s        | DIVERGED          | DIVERGED              | 1.65528     |"
      ]
     },
     "metadata": {},
     "output_type": "display_data"
    },
    {
     "data": {
      "text/html": [
       "<pre>| RESET   | 1.26s        | 0.768676          | 0.876742              |             |</pre>"
      ],
      "text/plain": [
       "| RESET   | 1.26s        | 0.768676          | 0.876742              |             |"
      ]
     },
     "metadata": {},
     "output_type": "display_data"
    },
    {
     "data": {
      "text/html": [
       "<pre>| 1       | 1.98s        | DIVERGED          | DIVERGED              | 0.827641    |</pre>"
      ],
      "text/plain": [
       "| 1       | 1.98s        | DIVERGED          | DIVERGED              | 0.827641    |"
      ]
     },
     "metadata": {},
     "output_type": "display_data"
    },
    {
     "data": {
      "text/html": [
       "<pre>| RESET   | 2.03s        | 0.768676          | 0.876742              |             |</pre>"
      ],
      "text/plain": [
       "| RESET   | 2.03s        | 0.768676          | 0.876742              |             |"
      ]
     },
     "metadata": {},
     "output_type": "display_data"
    },
    {
     "data": {
      "text/html": [
       "<pre>| 1       | 2.71s        | DIVERGED          | DIVERGED              | 0.41382     |</pre>"
      ],
      "text/plain": [
       "| 1       | 2.71s        | DIVERGED          | DIVERGED              | 0.41382     |"
      ]
     },
     "metadata": {},
     "output_type": "display_data"
    },
    {
     "data": {
      "text/html": [
       "<pre>| RESET   | 2.76s        | 0.768673          | 0.87674               |             |</pre>"
      ],
      "text/plain": [
       "| RESET   | 2.76s        | 0.768673          | 0.87674               |             |"
      ]
     },
     "metadata": {},
     "output_type": "display_data"
    },
    {
     "data": {
      "text/html": [
       "<pre>| 1       | 3.43s        | DIVERGED          | DIVERGED              | 0.20691     |</pre>"
      ],
      "text/plain": [
       "| 1       | 3.43s        | DIVERGED          | DIVERGED              | 0.20691     |"
      ]
     },
     "metadata": {},
     "output_type": "display_data"
    },
    {
     "data": {
      "text/html": [
       "<pre>| RESET   | 3.44s        | 0.768678          | 0.876743              |             |</pre>"
      ],
      "text/plain": [
       "| RESET   | 3.44s        | 0.768678          | 0.876743              |             |"
      ]
     },
     "metadata": {},
     "output_type": "display_data"
    },
    {
     "data": {
      "text/html": [
       "<pre>| 1       | 4.17s        | DIVERGED          | DIVERGED              | 0.103455    |</pre>"
      ],
      "text/plain": [
       "| 1       | 4.17s        | DIVERGED          | DIVERGED              | 0.103455    |"
      ]
     },
     "metadata": {},
     "output_type": "display_data"
    },
    {
     "data": {
      "text/html": [
       "<pre>| RESET   | 4.21s        | 0.76868           | 0.876744              |             |</pre>"
      ],
      "text/plain": [
       "| RESET   | 4.21s        | 0.76868           | 0.876744              |             |"
      ]
     },
     "metadata": {},
     "output_type": "display_data"
    },
    {
     "data": {
      "text/html": [
       "<pre>| 1       | 4.86s        | 0.740041          | 0.853386              | 0.0517275   |</pre>"
      ],
      "text/plain": [
       "| 1       | 4.86s        | 0.740041          | 0.853386              | 0.0517275   |"
      ]
     },
     "metadata": {},
     "output_type": "display_data"
    },
    {
     "data": {
      "text/html": [
       "<pre>| 2       | 5.45s        | 0.666843          | 0.808914              | 0.0240662   |</pre>"
      ],
      "text/plain": [
       "| 2       | 5.45s        | 0.666843          | 0.808914              | 0.0240662   |"
      ]
     },
     "metadata": {},
     "output_type": "display_data"
    },
    {
     "data": {
      "text/html": [
       "<pre>| 3       | 6.10s        | 0.648065          | 0.79693               | 0.0156808   |</pre>"
      ],
      "text/plain": [
       "| 3       | 6.10s        | 0.648065          | 0.79693               | 0.0156808   |"
      ]
     },
     "metadata": {},
     "output_type": "display_data"
    },
    {
     "data": {
      "text/html": [
       "<pre>| 4       | 6.76s        | 0.640544          | 0.791955              | 0.011629    |</pre>"
      ],
      "text/plain": [
       "| 4       | 6.76s        | 0.640544          | 0.791955              | 0.011629    |"
      ]
     },
     "metadata": {},
     "output_type": "display_data"
    },
    {
     "data": {
      "text/html": [
       "<pre>| 5       | 7.42s        | 0.635988          | 0.788959              | 0.00924111  |</pre>"
      ],
      "text/plain": [
       "| 5       | 7.42s        | 0.635988          | 0.788959              | 0.00924111  |"
      ]
     },
     "metadata": {},
     "output_type": "display_data"
    },
    {
     "data": {
      "text/html": [
       "<pre>| 6       | 8.06s        | 0.63309           | 0.786992              | 0.00766683  |</pre>"
      ],
      "text/plain": [
       "| 6       | 8.06s        | 0.63309           | 0.786992              | 0.00766683  |"
      ]
     },
     "metadata": {},
     "output_type": "display_data"
    },
    {
     "data": {
      "text/html": [
       "<pre>| 9       | 10.00s       | 0.627889          | 0.783522              | 0.00507377  |</pre>"
      ],
      "text/plain": [
       "| 9       | 10.00s       | 0.627889          | 0.783522              | 0.00507377  |"
      ]
     },
     "metadata": {},
     "output_type": "display_data"
    },
    {
     "data": {
      "text/html": [
       "<pre>| 11      | 11.29s       | 0.625847          | 0.782141              | 0.00414024  |</pre>"
      ],
      "text/plain": [
       "| 11      | 11.29s       | 0.625847          | 0.782141              | 0.00414024  |"
      ]
     },
     "metadata": {},
     "output_type": "display_data"
    },
    {
     "data": {
      "text/html": [
       "<pre>| 14      | 13.39s       | 0.624321          | 0.781089              | 0.00324473  |</pre>"
      ],
      "text/plain": [
       "| 14      | 13.39s       | 0.624321          | 0.781089              | 0.00324473  |"
      ]
     },
     "metadata": {},
     "output_type": "display_data"
    },
    {
     "data": {
      "text/html": [
       "<pre>| 19      | 16.75s       | 0.622531          | 0.779837              | 0.00238497  |</pre>"
      ],
      "text/plain": [
       "| 19      | 16.75s       | 0.622531          | 0.779837              | 0.00238497  |"
      ]
     },
     "metadata": {},
     "output_type": "display_data"
    },
    {
     "data": {
      "text/html": [
       "<pre>| 24      | 20.02s       | 0.621532          | 0.779142              | 0.0018854   |</pre>"
      ],
      "text/plain": [
       "| 24      | 20.02s       | 0.621532          | 0.779142              | 0.0018854   |"
      ]
     },
     "metadata": {},
     "output_type": "display_data"
    },
    {
     "data": {
      "text/html": [
       "<pre>| 29      | 23.35s       | 0.620829          | 0.778641              | 0.00155887  |</pre>"
      ],
      "text/plain": [
       "| 29      | 23.35s       | 0.620829          | 0.778641              | 0.00155887  |"
      ]
     },
     "metadata": {},
     "output_type": "display_data"
    },
    {
     "data": {
      "text/html": [
       "<pre>| 34      | 26.65s       | 0.620275          | 0.778248              | 0.00132874  |</pre>"
      ],
      "text/plain": [
       "| 34      | 26.65s       | 0.620275          | 0.778248              | 0.00132874  |"
      ]
     },
     "metadata": {},
     "output_type": "display_data"
    },
    {
     "data": {
      "text/html": [
       "<pre>| 39      | 29.89s       | 0.619893          | 0.77797               | 0.00113247  |</pre>"
      ],
      "text/plain": [
       "| 39      | 29.89s       | 0.619893          | 0.77797               | 0.00113247  |"
      ]
     },
     "metadata": {},
     "output_type": "display_data"
    },
    {
     "data": {
      "text/html": [
       "<pre>| 44      | 33.18s       | 0.619605          | 0.77776               | 0.000998562 |</pre>"
      ],
      "text/plain": [
       "| 44      | 33.18s       | 0.619605          | 0.77776               | 0.000998562 |"
      ]
     },
     "metadata": {},
     "output_type": "display_data"
    },
    {
     "data": {
      "text/html": [
       "<pre>| 49      | 36.54s       | 0.619406          | 0.777608              | 0.000898844 |</pre>"
      ],
      "text/plain": [
       "| 49      | 36.54s       | 0.619406          | 0.777608              | 0.000898844 |"
      ]
     },
     "metadata": {},
     "output_type": "display_data"
    },
    {
     "data": {
      "text/html": [
       "<pre>+---------+--------------+-------------------+-----------------------+-------------+</pre>"
      ],
      "text/plain": [
       "+---------+--------------+-------------------+-----------------------+-------------+"
      ]
     },
     "metadata": {},
     "output_type": "display_data"
    },
    {
     "data": {
      "text/html": [
       "<pre>Optimization Complete: Maximum number of passes through the data reached (hard limit).</pre>"
      ],
      "text/plain": [
       "Optimization Complete: Maximum number of passes through the data reached (hard limit)."
      ]
     },
     "metadata": {},
     "output_type": "display_data"
    },
    {
     "data": {
      "text/html": [
       "<pre>Computing final objective value and training RMSE.</pre>"
      ],
      "text/plain": [
       "Computing final objective value and training RMSE."
      ]
     },
     "metadata": {},
     "output_type": "display_data"
    },
    {
     "data": {
      "text/html": [
       "<pre>       Final objective value: 0.617394</pre>"
      ],
      "text/plain": [
       "       Final objective value: 0.617394"
      ]
     },
     "metadata": {},
     "output_type": "display_data"
    },
    {
     "data": {
      "text/html": [
       "<pre>       Final training RMSE: 0.776313</pre>"
      ],
      "text/plain": [
       "       Final training RMSE: 0.776313"
      ]
     },
     "metadata": {},
     "output_type": "display_data"
    }
   ],
   "source": [
    "rec_engine_comm = gl.factorization_recommender.create(   observation_data=glCommTrain, \n",
    "                                                    user_id=\"comm\", \n",
    "                                                    item_id=\"bookID\", \n",
    "                                                    target='rating',\n",
    "                                                    num_factors=4,\n",
    "                                                    solver='auto',\n",
    "                                                    max_iterations=50,\n",
    "                                                    regularization = 1e-3,\n",
    "                                                    linear_regularization = 1e-4\n",
    "                                                    )"
   ]
  },
  {
   "cell_type": "code",
   "execution_count": 946,
   "metadata": {
    "collapsed": false
   },
   "outputs": [
    {
     "name": "stdout",
     "output_type": "stream",
     "text": [
      "0.84850909904\n",
      "-0.00071450274821\n"
     ]
    }
   ],
   "source": [
    "print rec_engine_comm.evaluate_rmse(glCommTest, target='rating')['rmse_overall']\n",
    "print rec_engine_comm.evaluate_rmse(glCommTest, target='rating')['rmse_overall'] - rec_engine_comm_baseline.evaluate_rmse(glCommTest, target='rating')['rmse_overall']"
   ]
  },
  {
   "cell_type": "code",
   "execution_count": null,
   "metadata": {
    "collapsed": true
   },
   "outputs": [],
   "source": [
    "0.848510407994\n",
    "-0.000713193794181\n",
    "In [ ]:\n",
    "In [ ]:\n",
    "In [ ]:\n"
   ]
  },
  {
   "cell_type": "code",
   "execution_count": 947,
   "metadata": {
    "collapsed": false
   },
   "outputs": [
    {
     "data": {
      "text/html": [
       "<div style=\"max-height:1000px;max-width:1500px;overflow:auto;\"><table frame=\"box\" rules=\"cols\">\n",
       "    <tr>\n",
       "        <th style=\"padding-left: 1em; padding-right: 1em; text-align: center\">comm</th>\n",
       "        <th style=\"padding-left: 1em; padding-right: 1em; text-align: center\">linear_terms</th>\n",
       "        <th style=\"padding-left: 1em; padding-right: 1em; text-align: center\">factors</th>\n",
       "    </tr>\n",
       "    <tr>\n",
       "        <td style=\"padding-left: 1em; padding-right: 1em; text-align: center; vertical-align: top\">49</td>\n",
       "        <td style=\"padding-left: 1em; padding-right: 1em; text-align: center; vertical-align: top\">-0.0485175698996</td>\n",
       "        <td style=\"padding-left: 1em; padding-right: 1em; text-align: center; vertical-align: top\">[0.00232555577531,<br>0.00428900169209, ...</td>\n",
       "    </tr>\n",
       "    <tr>\n",
       "        <td style=\"padding-left: 1em; padding-right: 1em; text-align: center; vertical-align: top\">46</td>\n",
       "        <td style=\"padding-left: 1em; padding-right: 1em; text-align: center; vertical-align: top\">-0.0348515696824</td>\n",
       "        <td style=\"padding-left: 1em; padding-right: 1em; text-align: center; vertical-align: top\">[0.00304393609986,<br>0.00289199361578, ...</td>\n",
       "    </tr>\n",
       "    <tr>\n",
       "        <td style=\"padding-left: 1em; padding-right: 1em; text-align: center; vertical-align: top\">24</td>\n",
       "        <td style=\"padding-left: 1em; padding-right: 1em; text-align: center; vertical-align: top\">0.318906158209</td>\n",
       "        <td style=\"padding-left: 1em; padding-right: 1em; text-align: center; vertical-align: top\">[0.000162804426509,<br>0.000785160227679, ...</td>\n",
       "    </tr>\n",
       "    <tr>\n",
       "        <td style=\"padding-left: 1em; padding-right: 1em; text-align: center; vertical-align: top\">30</td>\n",
       "        <td style=\"padding-left: 1em; padding-right: 1em; text-align: center; vertical-align: top\">0.135711625218</td>\n",
       "        <td style=\"padding-left: 1em; padding-right: 1em; text-align: center; vertical-align: top\">[-5.40788641956e-05,<br>0.00510933995247, ...</td>\n",
       "    </tr>\n",
       "    <tr>\n",
       "        <td style=\"padding-left: 1em; padding-right: 1em; text-align: center; vertical-align: top\">3</td>\n",
       "        <td style=\"padding-left: 1em; padding-right: 1em; text-align: center; vertical-align: top\">0.0516358315945</td>\n",
       "        <td style=\"padding-left: 1em; padding-right: 1em; text-align: center; vertical-align: top\">[-9.04402259039e-05,<br>0.000493495434057, ...</td>\n",
       "    </tr>\n",
       "    <tr>\n",
       "        <td style=\"padding-left: 1em; padding-right: 1em; text-align: center; vertical-align: top\">70</td>\n",
       "        <td style=\"padding-left: 1em; padding-right: 1em; text-align: center; vertical-align: top\">-0.257359296083</td>\n",
       "        <td style=\"padding-left: 1em; padding-right: 1em; text-align: center; vertical-align: top\">[-0.00256620999426,<br>0.00144182541408, ...</td>\n",
       "    </tr>\n",
       "    <tr>\n",
       "        <td style=\"padding-left: 1em; padding-right: 1em; text-align: center; vertical-align: top\">23</td>\n",
       "        <td style=\"padding-left: 1em; padding-right: 1em; text-align: center; vertical-align: top\">-0.284745752811</td>\n",
       "        <td style=\"padding-left: 1em; padding-right: 1em; text-align: center; vertical-align: top\">[0.000749856524635,<br>0.000388702406781, ...</td>\n",
       "    </tr>\n",
       "    <tr>\n",
       "        <td style=\"padding-left: 1em; padding-right: 1em; text-align: center; vertical-align: top\">59</td>\n",
       "        <td style=\"padding-left: 1em; padding-right: 1em; text-align: center; vertical-align: top\">0.31371113658</td>\n",
       "        <td style=\"padding-left: 1em; padding-right: 1em; text-align: center; vertical-align: top\">[0.000384650717024,<br>-0.000852791592479, ...</td>\n",
       "    </tr>\n",
       "    <tr>\n",
       "        <td style=\"padding-left: 1em; padding-right: 1em; text-align: center; vertical-align: top\">60</td>\n",
       "        <td style=\"padding-left: 1em; padding-right: 1em; text-align: center; vertical-align: top\">-0.284195005894</td>\n",
       "        <td style=\"padding-left: 1em; padding-right: 1em; text-align: center; vertical-align: top\">[0.00193695141934,<br>0.000471268198453, ...</td>\n",
       "    </tr>\n",
       "    <tr>\n",
       "        <td style=\"padding-left: 1em; padding-right: 1em; text-align: center; vertical-align: top\">71</td>\n",
       "        <td style=\"padding-left: 1em; padding-right: 1em; text-align: center; vertical-align: top\">-0.176614835858</td>\n",
       "        <td style=\"padding-left: 1em; padding-right: 1em; text-align: center; vertical-align: top\">[-0.000641892198473,<br>0.00163679639809, ...</td>\n",
       "    </tr>\n",
       "</table>\n",
       "[72 rows x 3 columns]<br/>Note: Only the head of the SFrame is printed.<br/>You can use print_rows(num_rows=m, num_columns=n) to print more rows and columns.\n",
       "</div>"
      ],
      "text/plain": [
       "Columns:\n",
       "\tcomm\tint\n",
       "\tlinear_terms\tfloat\n",
       "\tfactors\tarray\n",
       "\n",
       "Rows: 72\n",
       "\n",
       "Data:\n",
       "+------+------------------+-------------------------------+\n",
       "| comm |   linear_terms   |            factors            |\n",
       "+------+------------------+-------------------------------+\n",
       "|  49  | -0.0485175698996 | [0.00232555577531, 0.00428... |\n",
       "|  46  | -0.0348515696824 | [0.00304393609986, 0.00289... |\n",
       "|  24  |  0.318906158209  | [0.000162804426509, 0.0007... |\n",
       "|  30  |  0.135711625218  | [-5.40788641956e-05, 0.005... |\n",
       "|  3   | 0.0516358315945  | [-9.04402259039e-05, 0.000... |\n",
       "|  70  | -0.257359296083  | [-0.00256620999426, 0.0014... |\n",
       "|  23  | -0.284745752811  | [0.000749856524635, 0.0003... |\n",
       "|  59  |  0.31371113658   | [0.000384650717024, -0.000... |\n",
       "|  60  | -0.284195005894  | [0.00193695141934, 0.00047... |\n",
       "|  71  | -0.176614835858  | [-0.000641892198473, 0.001... |\n",
       "+------+------------------+-------------------------------+\n",
       "[72 rows x 3 columns]\n",
       "Note: Only the head of the SFrame is printed.\n",
       "You can use print_rows(num_rows=m, num_columns=n) to print more rows and columns."
      ]
     },
     "execution_count": 947,
     "metadata": {},
     "output_type": "execute_result"
    }
   ],
   "source": [
    "rec_engine_comm.get('coefficients')['comm']"
   ]
  },
  {
   "cell_type": "code",
   "execution_count": 1009,
   "metadata": {
    "collapsed": false
   },
   "outputs": [
    {
     "data": {
      "image/png": "[encoded data removed]",
      "text/plain": [
       "<matplotlib.figure.Figure at 0x7fae72ba0990>"
      ]
     },
     "metadata": {},
     "output_type": "display_data"
    }
   ],
   "source": [
    "meanWeights = np.linspace(0,1,20)\n",
    "\n",
    "#SIMPLE PREDICTION FROM COMM MEANS\n",
    "\n",
    "rmsesSimple = []\n",
    "for weight in meanWeights:\n",
    "    rmsesSimple.append(\\\n",
    "                mixedPred(glRatingsTestWithComm, \\\n",
    "                          commMeansTrain, commBookMeansTrain, commBookMeansTrain, rec_engine, rec_engine, \\\n",
    "                          False, False, True, weight)[1])\n",
    "\n",
    "#SIMPLE PREDICTION FROM COMM MEANS (no book means)\n",
    "rmsesSimpleNoBookMeans = []\n",
    "\n",
    "for weight in meanWeights:\n",
    "    rmsesSimpleNoBookMeans.append(\\\n",
    "                mixedPred(glRatingsTestWithComm, \\\n",
    "                          commMeansTrain, commBookMeansTrain, commBookMeansTrain, rec_engine, rec_engine, \\\n",
    "                          False, False, False, weight)[1])\n",
    "                          \n",
    "\n",
    "#FACTORIZATION RECOMMENDER FOR RAW (COMMUNITY-BOOK-RATING) DATA\n",
    "rmsesSocialRec = []\n",
    "\n",
    "for weight in meanWeights:\n",
    "    rmsesSocialRec.append(\\\n",
    "                mixedPred(glRatingsTestWithComm, \\\n",
    "                          commMeansTrain, commBookMeansTrain, commBookMeansTrain, rec_engine, rec_engine_comm, \\\n",
    "                          False, True, False, weight)[1])\n",
    "\n",
    "\n",
    "plt.plot(meanWeights, rmsesSimple, '-');\n",
    "plt.plot(meanWeights, rmsesSimpleNoBookMeans, '-');\n",
    "#plt.plot(meanWeights, rmsesSocialRec, '-');\n"
   ]
  },
  {
   "cell_type": "code",
   "execution_count": 765,
   "metadata": {
    "collapsed": false
   },
   "outputs": [
    {
     "name": "stderr",
     "output_type": "stream",
     "text": [
      "[INFO] graphlab.deploy.job: Validating job.\n",
      "[INFO] graphlab.deploy.map_job: Validation complete. Job: 'Model-Parameter-Search-Nov-28-2016-20-38-1500000' ready for execution\n",
      "[INFO] graphlab.deploy.map_job: Job: 'Model-Parameter-Search-Nov-28-2016-20-38-1500000' scheduled.\n"
     ]
    }
   ],
   "source": [
    "\n",
    "models = gl.toolkits.model_parameter_search.grid_search.create((glCommTrain, glCommTest),\n",
    "                                                     gl.factorization_recommender.create,\n",
    "                                                     {'user_id': 'comm',\n",
    "                                                      'item_id': 'bookID',\n",
    "                                                      'target': 'rating',\n",
    "                                                      'num_factors': [8, 32],\n",
    "                                                      'max_iterations': 1000,\n",
    "                                                      'regularization': [1e-2, 1e-3, 1e-4, 1e-7],\n",
    "                                                      'linear_regularization': 1e-4\n",
    "                                                      },\n",
    "                                                      perform_trial_run=False)\n",
    "                                                      "
   ]
  },
  {
   "cell_type": "code",
   "execution_count": 949,
   "metadata": {
    "collapsed": false
   },
   "outputs": [
    {
     "data": {
      "text/plain": [
       "{'Canceled': 0, 'Completed': 8, 'Failed': 0, 'Pending': 0, 'Running': 0}"
      ]
     },
     "execution_count": 949,
     "metadata": {},
     "output_type": "execute_result"
    }
   ],
   "source": [
    "models.get_status()\n",
    "#models.get_results(wait=False).sort('validation_rmse')"
   ]
  },
  {
   "cell_type": "code",
   "execution_count": 989,
   "metadata": {
    "collapsed": false
   },
   "outputs": [
    {
     "name": "stdout",
     "output_type": "stream",
     "text": [
      "0.210526315789\n",
      "0.907890443148\n",
      "\n",
      "0.263157894737\n",
      "0.907227957204\n",
      "\n",
      "0.315789473684\n",
      "0.910720455053\n"
     ]
    }
   ],
   "source": [
    "print meanWeights[np.argmin(rmsesSimple)]\n",
    "print rmsesSimple[np.argmin(rmsesSimple)]\n",
    "\n",
    "print ''\n",
    "\n",
    "print meanWeights[np.argmin(rmsesSimpleNoBookMeans)]\n",
    "print rmsesSimpleNoBookMeans[np.argmin(rmsesSimpleNoBookMeans)]\n",
    "\n",
    "print ''\n",
    "\n",
    "\n",
    "print meanWeights[np.argmin(rmsesSocialRec)]\n",
    "print rmsesSocialRec[np.argmin(rmsesSocialRec)]"
   ]
  },
  {
   "cell_type": "code",
   "execution_count": 990,
   "metadata": {
    "collapsed": false
   },
   "outputs": [],
   "source": [
    "bestWeightComm = meanWeights[np.argmin(rmsesSimpleNoBookMeans)]\n",
    "\n",
    "predsComm = mixedPred(glRatingsTestWithComm, \\\n",
    "                          commMeansTrain, commBookMeansTrain, commBookMeansTrain, rec_engine, rec_engine_comm, \\\n",
    "                          False, False, False, bestWeightComm)[0]\n",
    "\n",
    "predsBase = mixedPred(glRatingsTestWithComm, \\\n",
    "                          commMeansTrain, commBookMeansTrain, commBookMeansTrain, rec_engine, rec_engine_comm, \\\n",
    "                          False, False, False, 0)[0]"
   ]
  },
  {
   "cell_type": "code",
   "execution_count": 1002,
   "metadata": {
    "collapsed": false
   },
   "outputs": [
    {
     "data": {
      "text/html": [
       "<div style=\"max-height:1000px;max-width:1500px;overflow:auto;\"><table frame=\"box\" rules=\"cols\">\n",
       "    <tr>\n",
       "        <th style=\"padding-left: 1em; padding-right: 1em; text-align: center\">bookID</th>\n",
       "        <th style=\"padding-left: 1em; padding-right: 1em; text-align: center\">userID</th>\n",
       "        <th style=\"padding-left: 1em; padding-right: 1em; text-align: center\">comm</th>\n",
       "        <th style=\"padding-left: 1em; padding-right: 1em; text-align: center\">rating</th>\n",
       "        <th style=\"padding-left: 1em; padding-right: 1em; text-align: center\">predsComm</th>\n",
       "        <th style=\"padding-left: 1em; padding-right: 1em; text-align: center\">predsBase</th>\n",
       "    </tr>\n",
       "    <tr>\n",
       "        <td style=\"padding-left: 1em; padding-right: 1em; text-align: center; vertical-align: top\">6194</td>\n",
       "        <td style=\"padding-left: 1em; padding-right: 1em; text-align: center; vertical-align: top\">12436</td>\n",
       "        <td style=\"padding-left: 1em; padding-right: 1em; text-align: center; vertical-align: top\">72</td>\n",
       "        <td style=\"padding-left: 1em; padding-right: 1em; text-align: center; vertical-align: top\">5</td>\n",
       "        <td style=\"padding-left: 1em; padding-right: 1em; text-align: center; vertical-align: top\">4.05259808782</td>\n",
       "        <td style=\"padding-left: 1em; padding-right: 1em; text-align: center; vertical-align: top\">4.06019743686</td>\n",
       "    </tr>\n",
       "    <tr>\n",
       "        <td style=\"padding-left: 1em; padding-right: 1em; text-align: center; vertical-align: top\">13586707</td>\n",
       "        <td style=\"padding-left: 1em; padding-right: 1em; text-align: center; vertical-align: top\">12436</td>\n",
       "        <td style=\"padding-left: 1em; padding-right: 1em; text-align: center; vertical-align: top\">72</td>\n",
       "        <td style=\"padding-left: 1em; padding-right: 1em; text-align: center; vertical-align: top\">5</td>\n",
       "        <td style=\"padding-left: 1em; padding-right: 1em; text-align: center; vertical-align: top\">3.8606226668</td>\n",
       "        <td style=\"padding-left: 1em; padding-right: 1em; text-align: center; vertical-align: top\">3.79965936547</td>\n",
       "    </tr>\n",
       "    <tr>\n",
       "        <td style=\"padding-left: 1em; padding-right: 1em; text-align: center; vertical-align: top\">7331435</td>\n",
       "        <td style=\"padding-left: 1em; padding-right: 1em; text-align: center; vertical-align: top\">12436</td>\n",
       "        <td style=\"padding-left: 1em; padding-right: 1em; text-align: center; vertical-align: top\">72</td>\n",
       "        <td style=\"padding-left: 1em; padding-right: 1em; text-align: center; vertical-align: top\">5</td>\n",
       "        <td style=\"padding-left: 1em; padding-right: 1em; text-align: center; vertical-align: top\">3.71201353679</td>\n",
       "        <td style=\"padding-left: 1em; padding-right: 1em; text-align: center; vertical-align: top\">3.59797554618</td>\n",
       "    </tr>\n",
       "    <tr>\n",
       "        <td style=\"padding-left: 1em; padding-right: 1em; text-align: center; vertical-align: top\">18143977</td>\n",
       "        <td style=\"padding-left: 1em; padding-right: 1em; text-align: center; vertical-align: top\">12436</td>\n",
       "        <td style=\"padding-left: 1em; padding-right: 1em; text-align: center; vertical-align: top\">72</td>\n",
       "        <td style=\"padding-left: 1em; padding-right: 1em; text-align: center; vertical-align: top\">4</td>\n",
       "        <td style=\"padding-left: 1em; padding-right: 1em; text-align: center; vertical-align: top\">3.8606226668</td>\n",
       "        <td style=\"padding-left: 1em; padding-right: 1em; text-align: center; vertical-align: top\">3.79965936547</td>\n",
       "    </tr>\n",
       "    <tr>\n",
       "        <td style=\"padding-left: 1em; padding-right: 1em; text-align: center; vertical-align: top\">22034</td>\n",
       "        <td style=\"padding-left: 1em; padding-right: 1em; text-align: center; vertical-align: top\">1</td>\n",
       "        <td style=\"padding-left: 1em; padding-right: 1em; text-align: center; vertical-align: top\">31</td>\n",
       "        <td style=\"padding-left: 1em; padding-right: 1em; text-align: center; vertical-align: top\">5</td>\n",
       "        <td style=\"padding-left: 1em; padding-right: 1em; text-align: center; vertical-align: top\">4.3160943172</td>\n",
       "        <td style=\"padding-left: 1em; padding-right: 1em; text-align: center; vertical-align: top\">4.53024527079</td>\n",
       "    </tr>\n",
       "    <tr>\n",
       "        <td style=\"padding-left: 1em; padding-right: 1em; text-align: center; vertical-align: top\">4948</td>\n",
       "        <td style=\"padding-left: 1em; padding-right: 1em; text-align: center; vertical-align: top\">1</td>\n",
       "        <td style=\"padding-left: 1em; padding-right: 1em; text-align: center; vertical-align: top\">31</td>\n",
       "        <td style=\"padding-left: 1em; padding-right: 1em; text-align: center; vertical-align: top\">5</td>\n",
       "        <td style=\"padding-left: 1em; padding-right: 1em; text-align: center; vertical-align: top\">4.48917493162</td>\n",
       "        <td style=\"padding-left: 1em; padding-right: 1em; text-align: center; vertical-align: top\">4.76514039036</td>\n",
       "    </tr>\n",
       "    <tr>\n",
       "        <td style=\"padding-left: 1em; padding-right: 1em; text-align: center; vertical-align: top\">22318578</td>\n",
       "        <td style=\"padding-left: 1em; padding-right: 1em; text-align: center; vertical-align: top\">1</td>\n",
       "        <td style=\"padding-left: 1em; padding-right: 1em; text-align: center; vertical-align: top\">31</td>\n",
       "        <td style=\"padding-left: 1em; padding-right: 1em; text-align: center; vertical-align: top\">5</td>\n",
       "        <td style=\"padding-left: 1em; padding-right: 1em; text-align: center; vertical-align: top\">4.04929489689</td>\n",
       "        <td style=\"padding-left: 1em; padding-right: 1em; text-align: center; vertical-align: top\">4.16816034322</td>\n",
       "    </tr>\n",
       "    <tr>\n",
       "        <td style=\"padding-left: 1em; padding-right: 1em; text-align: center; vertical-align: top\">13526165</td>\n",
       "        <td style=\"padding-left: 1em; padding-right: 1em; text-align: center; vertical-align: top\">1</td>\n",
       "        <td style=\"padding-left: 1em; padding-right: 1em; text-align: center; vertical-align: top\">31</td>\n",
       "        <td style=\"padding-left: 1em; padding-right: 1em; text-align: center; vertical-align: top\">4</td>\n",
       "        <td style=\"padding-left: 1em; padding-right: 1em; text-align: center; vertical-align: top\">4.10272208422</td>\n",
       "        <td style=\"padding-left: 1em; padding-right: 1em; text-align: center; vertical-align: top\">4.24066866888</td>\n",
       "    </tr>\n",
       "    <tr>\n",
       "        <td style=\"padding-left: 1em; padding-right: 1em; text-align: center; vertical-align: top\">231850</td>\n",
       "        <td style=\"padding-left: 1em; padding-right: 1em; text-align: center; vertical-align: top\">1</td>\n",
       "        <td style=\"padding-left: 1em; padding-right: 1em; text-align: center; vertical-align: top\">31</td>\n",
       "        <td style=\"padding-left: 1em; padding-right: 1em; text-align: center; vertical-align: top\">5</td>\n",
       "        <td style=\"padding-left: 1em; padding-right: 1em; text-align: center; vertical-align: top\">4.42062762133</td>\n",
       "        <td style=\"padding-left: 1em; padding-right: 1em; text-align: center; vertical-align: top\">4.67211189782</td>\n",
       "    </tr>\n",
       "    <tr>\n",
       "        <td style=\"padding-left: 1em; padding-right: 1em; text-align: center; vertical-align: top\">31196</td>\n",
       "        <td style=\"padding-left: 1em; padding-right: 1em; text-align: center; vertical-align: top\">1</td>\n",
       "        <td style=\"padding-left: 1em; padding-right: 1em; text-align: center; vertical-align: top\">31</td>\n",
       "        <td style=\"padding-left: 1em; padding-right: 1em; text-align: center; vertical-align: top\">5</td>\n",
       "        <td style=\"padding-left: 1em; padding-right: 1em; text-align: center; vertical-align: top\">4.46873210819</td>\n",
       "        <td style=\"padding-left: 1em; padding-right: 1em; text-align: center; vertical-align: top\">4.73739655856</td>\n",
       "    </tr>\n",
       "</table>\n",
       "[16320 rows x 6 columns]<br/>Note: Only the head of the SFrame is printed.<br/>You can use print_rows(num_rows=m, num_columns=n) to print more rows and columns.\n",
       "</div>"
      ],
      "text/plain": [
       "Columns:\n",
       "\tbookID\tstr\n",
       "\tuserID\tint\n",
       "\tcomm\tint\n",
       "\trating\tint\n",
       "\tpredsComm\tfloat\n",
       "\tpredsBase\tfloat\n",
       "\n",
       "Rows: 16320\n",
       "\n",
       "Data:\n",
       "+----------+--------+------+--------+---------------+---------------+\n",
       "|  bookID  | userID | comm | rating |   predsComm   |   predsBase   |\n",
       "+----------+--------+------+--------+---------------+---------------+\n",
       "|   6194   | 12436  |  72  |   5    | 4.05259808782 | 4.06019743686 |\n",
       "| 13586707 | 12436  |  72  |   5    |  3.8606226668 | 3.79965936547 |\n",
       "| 7331435  | 12436  |  72  |   5    | 3.71201353679 | 3.59797554618 |\n",
       "| 18143977 | 12436  |  72  |   4    |  3.8606226668 | 3.79965936547 |\n",
       "|  22034   |   1    |  31  |   5    |  4.3160943172 | 4.53024527079 |\n",
       "|   4948   |   1    |  31  |   5    | 4.48917493162 | 4.76514039036 |\n",
       "| 22318578 |   1    |  31  |   5    | 4.04929489689 | 4.16816034322 |\n",
       "| 13526165 |   1    |  31  |   4    | 4.10272208422 | 4.24066866888 |\n",
       "|  231850  |   1    |  31  |   5    | 4.42062762133 | 4.67211189782 |\n",
       "|  31196   |   1    |  31  |   5    | 4.46873210819 | 4.73739655856 |\n",
       "+----------+--------+------+--------+---------------+---------------+\n",
       "[16320 rows x 6 columns]\n",
       "Note: Only the head of the SFrame is printed.\n",
       "You can use print_rows(num_rows=m, num_columns=n) to print more rows and columns."
      ]
     },
     "execution_count": 1002,
     "metadata": {},
     "output_type": "execute_result"
    }
   ],
   "source": [
    "signTestFrame = glRatingsTestWithComm[['bookID','userID','comm','rating']].copy()\n",
    "signTestFrame.add_column(gl.SArray(predsComm), 'predsComm')\n",
    "signTestFrame.add_column(gl.SArray(predsBase), 'predsBase')"
   ]
  },
  {
   "cell_type": "code",
   "execution_count": 1003,
   "metadata": {
    "collapsed": false
   },
   "outputs": [
    {
     "data": {
      "text/plain": [
       "0.50594362745098043"
      ]
     },
     "execution_count": 1003,
     "metadata": {},
     "output_type": "execute_result"
    }
   ],
   "source": [
    "errsBase = np.abs(np.array(signTestFrame['rating'] - signTestFrame['predsBase'])**2)\n",
    "errsBase\n",
    "\n",
    "errsComm = np.abs(np.array(signTestFrame['rating'] - signTestFrame['predsComm'])**2)\n",
    "(errsComm < errsBase).mean()"
   ]
  },
  {
   "cell_type": "code",
   "execution_count": 1004,
   "metadata": {
    "collapsed": false
   },
   "outputs": [
    {
     "data": {
      "text/html": [
       "<div style=\"max-height:1000px;max-width:1500px;overflow:auto;\"><table frame=\"box\" rules=\"cols\">\n",
       "    <tr>\n",
       "        <th style=\"padding-left: 1em; padding-right: 1em; text-align: center\">bookID</th>\n",
       "        <th style=\"padding-left: 1em; padding-right: 1em; text-align: center\">userID</th>\n",
       "        <th style=\"padding-left: 1em; padding-right: 1em; text-align: center\">comm</th>\n",
       "        <th style=\"padding-left: 1em; padding-right: 1em; text-align: center\">rating</th>\n",
       "        <th style=\"padding-left: 1em; padding-right: 1em; text-align: center\">predsComm</th>\n",
       "        <th style=\"padding-left: 1em; padding-right: 1em; text-align: center\">predsBase</th>\n",
       "        <th style=\"padding-left: 1em; padding-right: 1em; text-align: center\">errsComm</th>\n",
       "        <th style=\"padding-left: 1em; padding-right: 1em; text-align: center\">errsBase</th>\n",
       "    </tr>\n",
       "    <tr>\n",
       "        <td style=\"padding-left: 1em; padding-right: 1em; text-align: center; vertical-align: top\">6194</td>\n",
       "        <td style=\"padding-left: 1em; padding-right: 1em; text-align: center; vertical-align: top\">12436</td>\n",
       "        <td style=\"padding-left: 1em; padding-right: 1em; text-align: center; vertical-align: top\">72</td>\n",
       "        <td style=\"padding-left: 1em; padding-right: 1em; text-align: center; vertical-align: top\">5</td>\n",
       "        <td style=\"padding-left: 1em; padding-right: 1em; text-align: center; vertical-align: top\">4.05259808782</td>\n",
       "        <td style=\"padding-left: 1em; padding-right: 1em; text-align: center; vertical-align: top\">4.06019743686</td>\n",
       "        <td style=\"padding-left: 1em; padding-right: 1em; text-align: center; vertical-align: top\">0.897570383195</td>\n",
       "        <td style=\"padding-left: 1em; padding-right: 1em; text-align: center; vertical-align: top\">0.883228857679</td>\n",
       "    </tr>\n",
       "    <tr>\n",
       "        <td style=\"padding-left: 1em; padding-right: 1em; text-align: center; vertical-align: top\">13586707</td>\n",
       "        <td style=\"padding-left: 1em; padding-right: 1em; text-align: center; vertical-align: top\">12436</td>\n",
       "        <td style=\"padding-left: 1em; padding-right: 1em; text-align: center; vertical-align: top\">72</td>\n",
       "        <td style=\"padding-left: 1em; padding-right: 1em; text-align: center; vertical-align: top\">5</td>\n",
       "        <td style=\"padding-left: 1em; padding-right: 1em; text-align: center; vertical-align: top\">3.8606226668</td>\n",
       "        <td style=\"padding-left: 1em; padding-right: 1em; text-align: center; vertical-align: top\">3.79965936547</td>\n",
       "        <td style=\"padding-left: 1em; padding-right: 1em; text-align: center; vertical-align: top\">1.29818070742</td>\n",
       "        <td style=\"padding-left: 1em; padding-right: 1em; text-align: center; vertical-align: top\">1.44081763891</td>\n",
       "    </tr>\n",
       "    <tr>\n",
       "        <td style=\"padding-left: 1em; padding-right: 1em; text-align: center; vertical-align: top\">7331435</td>\n",
       "        <td style=\"padding-left: 1em; padding-right: 1em; text-align: center; vertical-align: top\">12436</td>\n",
       "        <td style=\"padding-left: 1em; padding-right: 1em; text-align: center; vertical-align: top\">72</td>\n",
       "        <td style=\"padding-left: 1em; padding-right: 1em; text-align: center; vertical-align: top\">5</td>\n",
       "        <td style=\"padding-left: 1em; padding-right: 1em; text-align: center; vertical-align: top\">3.71201353679</td>\n",
       "        <td style=\"padding-left: 1em; padding-right: 1em; text-align: center; vertical-align: top\">3.59797554618</td>\n",
       "        <td style=\"padding-left: 1em; padding-right: 1em; text-align: center; vertical-align: top\">1.65890912941</td>\n",
       "        <td style=\"padding-left: 1em; padding-right: 1em; text-align: center; vertical-align: top\">1.96567256912</td>\n",
       "    </tr>\n",
       "    <tr>\n",
       "        <td style=\"padding-left: 1em; padding-right: 1em; text-align: center; vertical-align: top\">18143977</td>\n",
       "        <td style=\"padding-left: 1em; padding-right: 1em; text-align: center; vertical-align: top\">12436</td>\n",
       "        <td style=\"padding-left: 1em; padding-right: 1em; text-align: center; vertical-align: top\">72</td>\n",
       "        <td style=\"padding-left: 1em; padding-right: 1em; text-align: center; vertical-align: top\">4</td>\n",
       "        <td style=\"padding-left: 1em; padding-right: 1em; text-align: center; vertical-align: top\">3.8606226668</td>\n",
       "        <td style=\"padding-left: 1em; padding-right: 1em; text-align: center; vertical-align: top\">3.79965936547</td>\n",
       "        <td style=\"padding-left: 1em; padding-right: 1em; text-align: center; vertical-align: top\">0.0194260410108</td>\n",
       "        <td style=\"padding-left: 1em; padding-right: 1em; text-align: center; vertical-align: top\">0.0401363698442</td>\n",
       "    </tr>\n",
       "    <tr>\n",
       "        <td style=\"padding-left: 1em; padding-right: 1em; text-align: center; vertical-align: top\">22034</td>\n",
       "        <td style=\"padding-left: 1em; padding-right: 1em; text-align: center; vertical-align: top\">1</td>\n",
       "        <td style=\"padding-left: 1em; padding-right: 1em; text-align: center; vertical-align: top\">31</td>\n",
       "        <td style=\"padding-left: 1em; padding-right: 1em; text-align: center; vertical-align: top\">5</td>\n",
       "        <td style=\"padding-left: 1em; padding-right: 1em; text-align: center; vertical-align: top\">4.3160943172</td>\n",
       "        <td style=\"padding-left: 1em; padding-right: 1em; text-align: center; vertical-align: top\">4.53024527079</td>\n",
       "        <td style=\"padding-left: 1em; padding-right: 1em; text-align: center; vertical-align: top\">0.46772698296</td>\n",
       "        <td style=\"padding-left: 1em; padding-right: 1em; text-align: center; vertical-align: top\">0.220669505615</td>\n",
       "    </tr>\n",
       "    <tr>\n",
       "        <td style=\"padding-left: 1em; padding-right: 1em; text-align: center; vertical-align: top\">4948</td>\n",
       "        <td style=\"padding-left: 1em; padding-right: 1em; text-align: center; vertical-align: top\">1</td>\n",
       "        <td style=\"padding-left: 1em; padding-right: 1em; text-align: center; vertical-align: top\">31</td>\n",
       "        <td style=\"padding-left: 1em; padding-right: 1em; text-align: center; vertical-align: top\">5</td>\n",
       "        <td style=\"padding-left: 1em; padding-right: 1em; text-align: center; vertical-align: top\">4.48917493162</td>\n",
       "        <td style=\"padding-left: 1em; padding-right: 1em; text-align: center; vertical-align: top\">4.76514039036</td>\n",
       "        <td style=\"padding-left: 1em; padding-right: 1em; text-align: center; vertical-align: top\">0.260942250482</td>\n",
       "        <td style=\"padding-left: 1em; padding-right: 1em; text-align: center; vertical-align: top\">0.0551590362411</td>\n",
       "    </tr>\n",
       "    <tr>\n",
       "        <td style=\"padding-left: 1em; padding-right: 1em; text-align: center; vertical-align: top\">22318578</td>\n",
       "        <td style=\"padding-left: 1em; padding-right: 1em; text-align: center; vertical-align: top\">1</td>\n",
       "        <td style=\"padding-left: 1em; padding-right: 1em; text-align: center; vertical-align: top\">31</td>\n",
       "        <td style=\"padding-left: 1em; padding-right: 1em; text-align: center; vertical-align: top\">5</td>\n",
       "        <td style=\"padding-left: 1em; padding-right: 1em; text-align: center; vertical-align: top\">4.04929489689</td>\n",
       "        <td style=\"padding-left: 1em; padding-right: 1em; text-align: center; vertical-align: top\">4.16816034322</td>\n",
       "        <td style=\"padding-left: 1em; padding-right: 1em; text-align: center; vertical-align: top\">0.903840193075</td>\n",
       "        <td style=\"padding-left: 1em; padding-right: 1em; text-align: center; vertical-align: top\">0.691957214586</td>\n",
       "    </tr>\n",
       "    <tr>\n",
       "        <td style=\"padding-left: 1em; padding-right: 1em; text-align: center; vertical-align: top\">13526165</td>\n",
       "        <td style=\"padding-left: 1em; padding-right: 1em; text-align: center; vertical-align: top\">1</td>\n",
       "        <td style=\"padding-left: 1em; padding-right: 1em; text-align: center; vertical-align: top\">31</td>\n",
       "        <td style=\"padding-left: 1em; padding-right: 1em; text-align: center; vertical-align: top\">4</td>\n",
       "        <td style=\"padding-left: 1em; padding-right: 1em; text-align: center; vertical-align: top\">4.10272208422</td>\n",
       "        <td style=\"padding-left: 1em; padding-right: 1em; text-align: center; vertical-align: top\">4.24066866888</td>\n",
       "        <td style=\"padding-left: 1em; padding-right: 1em; text-align: center; vertical-align: top\">0.0105518265866</td>\n",
       "        <td style=\"padding-left: 1em; padding-right: 1em; text-align: center; vertical-align: top\">0.0579214081822</td>\n",
       "    </tr>\n",
       "    <tr>\n",
       "        <td style=\"padding-left: 1em; padding-right: 1em; text-align: center; vertical-align: top\">231850</td>\n",
       "        <td style=\"padding-left: 1em; padding-right: 1em; text-align: center; vertical-align: top\">1</td>\n",
       "        <td style=\"padding-left: 1em; padding-right: 1em; text-align: center; vertical-align: top\">31</td>\n",
       "        <td style=\"padding-left: 1em; padding-right: 1em; text-align: center; vertical-align: top\">5</td>\n",
       "        <td style=\"padding-left: 1em; padding-right: 1em; text-align: center; vertical-align: top\">4.42062762133</td>\n",
       "        <td style=\"padding-left: 1em; padding-right: 1em; text-align: center; vertical-align: top\">4.67211189782</td>\n",
       "        <td style=\"padding-left: 1em; padding-right: 1em; text-align: center; vertical-align: top\">0.335672353168</td>\n",
       "        <td style=\"padding-left: 1em; padding-right: 1em; text-align: center; vertical-align: top\">0.107510607554</td>\n",
       "    </tr>\n",
       "    <tr>\n",
       "        <td style=\"padding-left: 1em; padding-right: 1em; text-align: center; vertical-align: top\">31196</td>\n",
       "        <td style=\"padding-left: 1em; padding-right: 1em; text-align: center; vertical-align: top\">1</td>\n",
       "        <td style=\"padding-left: 1em; padding-right: 1em; text-align: center; vertical-align: top\">31</td>\n",
       "        <td style=\"padding-left: 1em; padding-right: 1em; text-align: center; vertical-align: top\">5</td>\n",
       "        <td style=\"padding-left: 1em; padding-right: 1em; text-align: center; vertical-align: top\">4.46873210819</td>\n",
       "        <td style=\"padding-left: 1em; padding-right: 1em; text-align: center; vertical-align: top\">4.73739655856</td>\n",
       "        <td style=\"padding-left: 1em; padding-right: 1em; text-align: center; vertical-align: top\">0.282245572864</td>\n",
       "        <td style=\"padding-left: 1em; padding-right: 1em; text-align: center; vertical-align: top\">0.0689605674552</td>\n",
       "    </tr>\n",
       "</table>\n",
       "[16320 rows x 8 columns]<br/>Note: Only the head of the SFrame is printed.<br/>You can use print_rows(num_rows=m, num_columns=n) to print more rows and columns.\n",
       "</div>"
      ],
      "text/plain": [
       "Columns:\n",
       "\tbookID\tstr\n",
       "\tuserID\tint\n",
       "\tcomm\tint\n",
       "\trating\tint\n",
       "\tpredsComm\tfloat\n",
       "\tpredsBase\tfloat\n",
       "\terrsComm\tfloat\n",
       "\terrsBase\tfloat\n",
       "\n",
       "Rows: 16320\n",
       "\n",
       "Data:\n",
       "+----------+--------+------+--------+---------------+---------------+\n",
       "|  bookID  | userID | comm | rating |   predsComm   |   predsBase   |\n",
       "+----------+--------+------+--------+---------------+---------------+\n",
       "|   6194   | 12436  |  72  |   5    | 4.05259808782 | 4.06019743686 |\n",
       "| 13586707 | 12436  |  72  |   5    |  3.8606226668 | 3.79965936547 |\n",
       "| 7331435  | 12436  |  72  |   5    | 3.71201353679 | 3.59797554618 |\n",
       "| 18143977 | 12436  |  72  |   4    |  3.8606226668 | 3.79965936547 |\n",
       "|  22034   |   1    |  31  |   5    |  4.3160943172 | 4.53024527079 |\n",
       "|   4948   |   1    |  31  |   5    | 4.48917493162 | 4.76514039036 |\n",
       "| 22318578 |   1    |  31  |   5    | 4.04929489689 | 4.16816034322 |\n",
       "| 13526165 |   1    |  31  |   4    | 4.10272208422 | 4.24066866888 |\n",
       "|  231850  |   1    |  31  |   5    | 4.42062762133 | 4.67211189782 |\n",
       "|  31196   |   1    |  31  |   5    | 4.46873210819 | 4.73739655856 |\n",
       "+----------+--------+------+--------+---------------+---------------+\n",
       "+-----------------+-----------------+\n",
       "|     errsComm    |     errsBase    |\n",
       "+-----------------+-----------------+\n",
       "|  0.897570383195 |  0.883228857679 |\n",
       "|  1.29818070742  |  1.44081763891  |\n",
       "|  1.65890912941  |  1.96567256912  |\n",
       "| 0.0194260410108 | 0.0401363698442 |\n",
       "|  0.46772698296  |  0.220669505615 |\n",
       "|  0.260942250482 | 0.0551590362411 |\n",
       "|  0.903840193075 |  0.691957214586 |\n",
       "| 0.0105518265866 | 0.0579214081822 |\n",
       "|  0.335672353168 |  0.107510607554 |\n",
       "|  0.282245572864 | 0.0689605674552 |\n",
       "+-----------------+-----------------+\n",
       "[16320 rows x 8 columns]\n",
       "Note: Only the head of the SFrame is printed.\n",
       "You can use print_rows(num_rows=m, num_columns=n) to print more rows and columns."
      ]
     },
     "execution_count": 1004,
     "metadata": {},
     "output_type": "execute_result"
    }
   ],
   "source": [
    "signTestFrame.add_column(gl.SArray(errsComm), 'errsComm')\n",
    "signTestFrame.add_column(gl.SArray(errsBase), 'errsBase')"
   ]
  },
  {
   "cell_type": "code",
   "execution_count": 1008,
   "metadata": {
    "collapsed": false
   },
   "outputs": [
    {
     "data": {
      "text/html": [
       "<div style=\"max-height:1000px;max-width:1500px;overflow:auto;\"><table frame=\"box\" rules=\"cols\">\n",
       "    <tr>\n",
       "        <th style=\"padding-left: 1em; padding-right: 1em; text-align: center\">rating</th>\n",
       "        <th style=\"padding-left: 1em; padding-right: 1em; text-align: center\">errsBaseAvg</th>\n",
       "        <th style=\"padding-left: 1em; padding-right: 1em; text-align: center\">errsCommAvg</th>\n",
       "    </tr>\n",
       "    <tr>\n",
       "        <td style=\"padding-left: 1em; padding-right: 1em; text-align: center; vertical-align: top\">1</td>\n",
       "        <td style=\"padding-left: 1em; padding-right: 1em; text-align: center; vertical-align: top\">5.90448534451</td>\n",
       "        <td style=\"padding-left: 1em; padding-right: 1em; text-align: center; vertical-align: top\">6.15340499184</td>\n",
       "    </tr>\n",
       "    <tr>\n",
       "        <td style=\"padding-left: 1em; padding-right: 1em; text-align: center; vertical-align: top\">2</td>\n",
       "        <td style=\"padding-left: 1em; padding-right: 1em; text-align: center; vertical-align: top\">2.6688149994</td>\n",
       "        <td style=\"padding-left: 1em; padding-right: 1em; text-align: center; vertical-align: top\">2.67606710604</td>\n",
       "    </tr>\n",
       "    <tr>\n",
       "        <td style=\"padding-left: 1em; padding-right: 1em; text-align: center; vertical-align: top\">3</td>\n",
       "        <td style=\"padding-left: 1em; padding-right: 1em; text-align: center; vertical-align: top\">0.655697848018</td>\n",
       "        <td style=\"padding-left: 1em; padding-right: 1em; text-align: center; vertical-align: top\">0.582972461962</td>\n",
       "    </tr>\n",
       "    <tr>\n",
       "        <td style=\"padding-left: 1em; padding-right: 1em; text-align: center; vertical-align: top\">4</td>\n",
       "        <td style=\"padding-left: 1em; padding-right: 1em; text-align: center; vertical-align: top\">0.169955042012</td>\n",
       "        <td style=\"padding-left: 1em; padding-right: 1em; text-align: center; vertical-align: top\">0.117052225647</td>\n",
       "    </tr>\n",
       "    <tr>\n",
       "        <td style=\"padding-left: 1em; padding-right: 1em; text-align: center; vertical-align: top\">5</td>\n",
       "        <td style=\"padding-left: 1em; padding-right: 1em; text-align: center; vertical-align: top\">1.18143082173</td>\n",
       "        <td style=\"padding-left: 1em; padding-right: 1em; text-align: center; vertical-align: top\">1.25054546585</td>\n",
       "    </tr>\n",
       "</table>\n",
       "[5 rows x 3 columns]<br/>\n",
       "</div>"
      ],
      "text/plain": [
       "Columns:\n",
       "\trating\tint\n",
       "\terrsBaseAvg\tfloat\n",
       "\terrsCommAvg\tfloat\n",
       "\n",
       "Rows: 5\n",
       "\n",
       "Data:\n",
       "+--------+----------------+----------------+\n",
       "| rating |  errsBaseAvg   |  errsCommAvg   |\n",
       "+--------+----------------+----------------+\n",
       "|   1    | 5.90448534451  | 6.15340499184  |\n",
       "|   2    |  2.6688149994  | 2.67606710604  |\n",
       "|   3    | 0.655697848018 | 0.582972461962 |\n",
       "|   4    | 0.169955042012 | 0.117052225647 |\n",
       "|   5    | 1.18143082173  | 1.25054546585  |\n",
       "+--------+----------------+----------------+\n",
       "[5 rows x 3 columns]"
      ]
     },
     "execution_count": 1008,
     "metadata": {},
     "output_type": "execute_result"
    }
   ],
   "source": [
    "signTestFrame.groupby(['rating'], {'errsCommAvg': gl.aggregate.AVG('errsComm'),\\\n",
    "                                  'errsBaseAvg': gl.aggregate.AVG('errsBase')}).sort('rating')"
   ]
  },
  {
   "cell_type": "code",
   "execution_count": 993,
   "metadata": {
    "collapsed": false
   },
   "outputs": [],
   "source": [
    "roundedPredsBase = np.round(predsBase)\n",
    "roundedPredsComm = np.round(predsComm)"
   ]
  },
  {
   "cell_type": "code",
   "execution_count": 994,
   "metadata": {
    "collapsed": false
   },
   "outputs": [
    {
     "data": {
      "text/plain": [
       "0.41200980392156861"
      ]
     },
     "execution_count": 994,
     "metadata": {},
     "output_type": "execute_result"
    }
   ],
   "source": [
    "(roundedPredsBase == signTestFrame['rating']).mean()"
   ]
  },
  {
   "cell_type": "code",
   "execution_count": 995,
   "metadata": {
    "collapsed": false
   },
   "outputs": [
    {
     "data": {
      "text/plain": [
       "0.41409313725490199"
      ]
     },
     "execution_count": 995,
     "metadata": {},
     "output_type": "execute_result"
    }
   ],
   "source": [
    "(roundedPredsComm == signTestFrame['rating']).mean()"
   ]
  },
  {
   "cell_type": "code",
   "execution_count": 998,
   "metadata": {
    "collapsed": false
   },
   "outputs": [
    {
     "data": {
      "image/png": "[encoded data removed]",
      "text/plain": [
       "<matplotlib.figure.Figure at 0x7fae72365150>"
      ]
     },
     "metadata": {},
     "output_type": "display_data"
    }
   ],
   "source": [
    "preds_by_rating = []\n",
    "rating_cats = range(1,6)\n",
    "\n",
    "for rating in rating_cats:\n",
    "    preds_by_rating.append(list(predsComm[np.array(glRatingsTest['rating']) == rating]\\\n",
    "                          -predsBase[np.array(glRatingsTest['rating']) == rating]))\n",
    "\n",
    "plt.violinplot(preds_by_rating, positions=rating_cats);\n",
    "plt.xlabel('Observed rating');\n",
    "plt.ylabel('Predicted rating');\n",
    "#for rating in rating_cats:\n",
    "#    plt.axhline(rating,linestyle='--',linewidth=1,alpha=0.5)"
   ]
  },
  {
   "cell_type": "code",
   "execution_count": 999,
   "metadata": {
    "collapsed": false
   },
   "outputs": [
    {
     "name": "stdout",
     "output_type": "stream",
     "text": [
      "(1, 0.058961325610539461)\n",
      "(2, 0.019585672106249952)\n",
      "(3, -0.0023628270171291987)\n",
      "(4, -0.039621774063719251)\n",
      "(5, -0.062194621033736741)\n"
     ]
    }
   ],
   "source": [
    "for i, category in enumerate(preds_by_rating):\n",
    "    print (i+1, np.median(category))"
   ]
  },
  {
   "cell_type": "code",
   "execution_count": 1012,
   "metadata": {
    "collapsed": false
   },
   "outputs": [
    {
     "data": {
      "text/plain": [
       "3.7996593654691644"
      ]
     },
     "execution_count": 1012,
     "metadata": {},
     "output_type": "execute_result"
    },
    {
     "data": {
      "image/png": "[encoded data removed]",
      "text/plain": [
       "<matplotlib.figure.Figure at 0x7faf186d5550>"
      ]
     },
     "metadata": {},
     "output_type": "display_data"
    }
   ],
   "source": [
    "plt.hist(glRatingsTrain['rating'])\n",
    "(glRatingsTrain['rating']).mean()"
   ]
  },
  {
   "cell_type": "code",
   "execution_count": 963,
   "metadata": {
    "collapsed": true
   },
   "outputs": [],
   "source": [
    "coef_dict = rec_engine.get('coefficients')"
   ]
  },
  {
   "cell_type": "code",
   "execution_count": 964,
   "metadata": {
    "collapsed": false
   },
   "outputs": [
    {
     "data": {
      "text/html": [
       "<div style=\"max-height:1000px;max-width:1500px;overflow:auto;\"><table frame=\"box\" rules=\"cols\">\n",
       "    <tr>\n",
       "        <th style=\"padding-left: 1em; padding-right: 1em; text-align: center\">userID</th>\n",
       "        <th style=\"padding-left: 1em; padding-right: 1em; text-align: center\">linear_terms</th>\n",
       "        <th style=\"padding-left: 1em; padding-right: 1em; text-align: center\">factors</th>\n",
       "    </tr>\n",
       "    <tr>\n",
       "        <td style=\"padding-left: 1em; padding-right: 1em; text-align: center; vertical-align: top\">13389</td>\n",
       "        <td style=\"padding-left: 1em; padding-right: 1em; text-align: center; vertical-align: top\">0.449082821608</td>\n",
       "        <td style=\"padding-left: 1em; padding-right: 1em; text-align: center; vertical-align: top\">[-2.9401418189e-08,<br>-2.47457433034e-06, ...</td>\n",
       "    </tr>\n",
       "    <tr>\n",
       "        <td style=\"padding-left: 1em; padding-right: 1em; text-align: center; vertical-align: top\">147129</td>\n",
       "        <td style=\"padding-left: 1em; padding-right: 1em; text-align: center; vertical-align: top\">0.018716853112</td>\n",
       "        <td style=\"padding-left: 1em; padding-right: 1em; text-align: center; vertical-align: top\">[6.31890827663e-07,<br>-1.23543497921e-06, ...</td>\n",
       "    </tr>\n",
       "    <tr>\n",
       "        <td style=\"padding-left: 1em; padding-right: 1em; text-align: center; vertical-align: top\">82625</td>\n",
       "        <td style=\"padding-left: 1em; padding-right: 1em; text-align: center; vertical-align: top\">0.256159394979</td>\n",
       "        <td style=\"padding-left: 1em; padding-right: 1em; text-align: center; vertical-align: top\">[1.29775025925e-06,<br>1.10020755528e-06, ...</td>\n",
       "    </tr>\n",
       "    <tr>\n",
       "        <td style=\"padding-left: 1em; padding-right: 1em; text-align: center; vertical-align: top\">12251</td>\n",
       "        <td style=\"padding-left: 1em; padding-right: 1em; text-align: center; vertical-align: top\">0.671747028828</td>\n",
       "        <td style=\"padding-left: 1em; padding-right: 1em; text-align: center; vertical-align: top\">[-1.14628380743e-06,<br>-3.97139643837e-07, ...</td>\n",
       "    </tr>\n",
       "    <tr>\n",
       "        <td style=\"padding-left: 1em; padding-right: 1em; text-align: center; vertical-align: top\">160216</td>\n",
       "        <td style=\"padding-left: 1em; padding-right: 1em; text-align: center; vertical-align: top\">0.0298878327012</td>\n",
       "        <td style=\"padding-left: 1em; padding-right: 1em; text-align: center; vertical-align: top\">[5.05336538481e-06,<br>7.61476530897e-06, ...</td>\n",
       "    </tr>\n",
       "    <tr>\n",
       "        <td style=\"padding-left: 1em; padding-right: 1em; text-align: center; vertical-align: top\">1</td>\n",
       "        <td style=\"padding-left: 1em; padding-right: 1em; text-align: center; vertical-align: top\">0.368342787027</td>\n",
       "        <td style=\"padding-left: 1em; padding-right: 1em; text-align: center; vertical-align: top\">[-3.67200627807e-05,<br>5.10490754095e-05, ...</td>\n",
       "    </tr>\n",
       "    <tr>\n",
       "        <td style=\"padding-left: 1em; padding-right: 1em; text-align: center; vertical-align: top\">546</td>\n",
       "        <td style=\"padding-left: 1em; padding-right: 1em; text-align: center; vertical-align: top\">0.484111756086</td>\n",
       "        <td style=\"padding-left: 1em; padding-right: 1em; text-align: center; vertical-align: top\">[-2.40624467551e-06,<br>-3.51996568497e-05, ...</td>\n",
       "    </tr>\n",
       "    <tr>\n",
       "        <td style=\"padding-left: 1em; padding-right: 1em; text-align: center; vertical-align: top\">609</td>\n",
       "        <td style=\"padding-left: 1em; padding-right: 1em; text-align: center; vertical-align: top\">-0.215856999159</td>\n",
       "        <td style=\"padding-left: 1em; padding-right: 1em; text-align: center; vertical-align: top\">[-2.25407035259e-07,<br>8.75285149959e-06, ...</td>\n",
       "    </tr>\n",
       "    <tr>\n",
       "        <td style=\"padding-left: 1em; padding-right: 1em; text-align: center; vertical-align: top\">657</td>\n",
       "        <td style=\"padding-left: 1em; padding-right: 1em; text-align: center; vertical-align: top\">0.242997214198</td>\n",
       "        <td style=\"padding-left: 1em; padding-right: 1em; text-align: center; vertical-align: top\">[3.48835055775e-06,<br>1.58360251135e-06, ...</td>\n",
       "    </tr>\n",
       "    <tr>\n",
       "        <td style=\"padding-left: 1em; padding-right: 1em; text-align: center; vertical-align: top\">25943</td>\n",
       "        <td style=\"padding-left: 1em; padding-right: 1em; text-align: center; vertical-align: top\">-0.445351481438</td>\n",
       "        <td style=\"padding-left: 1em; padding-right: 1em; text-align: center; vertical-align: top\">[1.295065249e-05,<br>-2.90351563308e-05, ...</td>\n",
       "    </tr>\n",
       "</table>\n",
       "[940 rows x 3 columns]<br/>Note: Only the head of the SFrame is printed.<br/>You can use print_rows(num_rows=m, num_columns=n) to print more rows and columns.\n",
       "</div>"
      ],
      "text/plain": [
       "Columns:\n",
       "\tuserID\tint\n",
       "\tlinear_terms\tfloat\n",
       "\tfactors\tarray\n",
       "\n",
       "Rows: 940\n",
       "\n",
       "Data:\n",
       "+--------+-----------------+-------------------------------+\n",
       "| userID |   linear_terms  |            factors            |\n",
       "+--------+-----------------+-------------------------------+\n",
       "| 13389  |  0.449082821608 | [-2.9401418189e-08, -2.474... |\n",
       "| 147129 |  0.018716853112 | [6.31890827663e-07, -1.235... |\n",
       "| 82625  |  0.256159394979 | [1.29775025925e-06, 1.1002... |\n",
       "| 12251  |  0.671747028828 | [-1.14628380743e-06, -3.97... |\n",
       "| 160216 | 0.0298878327012 | [5.05336538481e-06, 7.6147... |\n",
       "|   1    |  0.368342787027 | [-3.67200627807e-05, 5.104... |\n",
       "|  546   |  0.484111756086 | [-2.40624467551e-06, -3.51... |\n",
       "|  609   | -0.215856999159 | [-2.25407035259e-07, 8.752... |\n",
       "|  657   |  0.242997214198 | [3.48835055775e-06, 1.5836... |\n",
       "| 25943  | -0.445351481438 | [1.295065249e-05, -2.90351... |\n",
       "+--------+-----------------+-------------------------------+\n",
       "[940 rows x 3 columns]\n",
       "Note: Only the head of the SFrame is printed.\n",
       "You can use print_rows(num_rows=m, num_columns=n) to print more rows and columns."
      ]
     },
     "execution_count": 964,
     "metadata": {},
     "output_type": "execute_result"
    }
   ],
   "source": [
    "coef_dict['userID']"
   ]
  },
  {
   "cell_type": "code",
   "execution_count": 881,
   "metadata": {
    "collapsed": false
   },
   "outputs": [],
   "source": [
    "s = set(glRatings['bookID'].unique())\n",
    "numCommsByBook = {k: len(v) for k, v in booksToRaterComms.items() if str(k) in s}"
   ]
  },
  {
   "cell_type": "code",
   "execution_count": 882,
   "metadata": {
    "collapsed": false
   },
   "outputs": [
    {
     "data": {
      "text/plain": [
       "[(6310, 40),\n",
       " (49041, 40),\n",
       " (7445, 40),\n",
       " (6514, 40),\n",
       " (4473, 40),\n",
       " (37415, 40),\n",
       " (62291, 40),\n",
       " (11275, 40),\n",
       " (7588, 40),\n",
       " (1622, 40)]"
      ]
     },
     "execution_count": 882,
     "metadata": {},
     "output_type": "execute_result"
    }
   ],
   "source": [
    "[(k, v) for k, v in numCommsByBook.items() if v == 40]"
   ]
  },
  {
   "cell_type": "code",
   "execution_count": 892,
   "metadata": {
    "collapsed": false
   },
   "outputs": [
    {
     "name": "stdout",
     "output_type": "stream",
     "text": [
      "2429135\n",
      "(u'The Girl with the Dragon Tattoo\\n      \\n          (Millennium #1)', 1766752)\n",
      "48855\n",
      "(u'The Diary of a Young Girl', 1900271)\n",
      "168668\n",
      "(u'Catch-22\\n      \\n          (Catch-22 #1)', 540094)\n",
      "13496\n",
      "(u'A Game of Thrones\\n      \\n          (A Song of Ice and Fire #1)', 1300530)\n",
      "41865\n",
      "(u'Twilight\\n      \\n          (Twilight  #1)', 3635695)\n",
      "43641\n",
      "(u'Water for Elephants', 1044043)\n",
      "3985\n",
      "(u'The Amazing Adventures of Kavalier & Clay', 147815)\n"
     ]
    }
   ],
   "source": [
    "for bID in [k for k, v in numCommsByBook.items() if v  == 50]:\n",
    "    print bID\n",
    "    print bookTitle(bID)"
   ]
  },
  {
   "cell_type": "code",
   "execution_count": 894,
   "metadata": {
    "collapsed": false
   },
   "outputs": [
    {
     "name": "stdout",
     "output_type": "stream",
     "text": [
      "Community 46\n",
      "5 raters\n",
      "2.8 mean rating\n",
      "Earliest rating on Sep 25, 2008\n",
      "\n",
      "Total raters thus far: 5\n",
      "\n",
      "Community 10\n",
      "14 raters\n",
      "3.4 mean rating\n",
      "Earliest rating on Nov 17, 2008\n",
      "\n",
      "Total raters thus far: 22\n",
      "\n",
      "Community 70\n",
      "4 raters\n",
      "4.0 mean rating\n",
      "Earliest rating on Jan 23, 2009\n",
      "\n",
      "Total raters thus far: 26\n",
      "\n",
      "Community 65\n",
      "12 raters\n",
      "3.7 mean rating\n",
      "Earliest rating on Apr 11, 2009\n",
      "\n",
      "Total raters thus far: 41\n",
      "\n",
      "Community 21\n",
      "7 raters\n",
      "3.4 mean rating\n",
      "Earliest rating on Jul 15, 2009\n",
      "\n",
      "Total raters thus far: 50\n",
      "\n",
      "Community 33\n",
      "8 raters\n",
      "3.0 mean rating\n",
      "Earliest rating on Aug 05, 2009\n",
      "\n",
      "Total raters thus far: 58\n",
      "\n",
      "Community 23\n",
      "6 raters\n",
      "3.2 mean rating\n",
      "Earliest rating on Aug 05, 2009\n",
      "\n",
      "Total raters thus far: 64\n",
      "\n",
      "Community 49\n",
      "9 raters\n",
      "3.6 mean rating\n",
      "Earliest rating on Aug 05, 2009\n",
      "\n",
      "Total raters thus far: 73\n",
      "\n",
      "Community 68\n",
      "13 raters\n",
      "3.7 mean rating\n",
      "Earliest rating on Aug 28, 2009\n",
      "\n",
      "Total raters thus far: 86\n",
      "\n",
      "Community 17\n",
      "4 raters\n",
      "2.5 mean rating\n",
      "Earliest rating on Sep 23, 2009\n",
      "\n",
      "Total raters thus far: 90\n",
      "\n",
      "Community 67\n",
      "4 raters\n",
      "4.2 mean rating\n",
      "Earliest rating on Sep 30, 2009\n",
      "\n",
      "Total raters thus far: 94\n",
      "\n",
      "Community 63\n",
      "5 raters\n",
      "3.2 mean rating\n",
      "Earliest rating on Oct 25, 2009\n",
      "\n",
      "Total raters thus far: 101\n",
      "\n",
      "Community 73\n",
      "4 raters\n",
      "3.8 mean rating\n",
      "Earliest rating on Nov 25, 2009\n",
      "\n",
      "Total raters thus far: 107\n",
      "\n",
      "Community 7\n",
      "4 raters\n",
      "2.0 mean rating\n",
      "Earliest rating on Dec 01, 2009\n",
      "\n",
      "Total raters thus far: 114\n",
      "\n",
      "Community 18\n",
      "9 raters\n",
      "4.3 mean rating\n",
      "Earliest rating on Jan 26, 2010\n",
      "\n",
      "Total raters thus far: 127\n",
      "\n",
      "Community 71\n",
      "4 raters\n",
      "4.0 mean rating\n",
      "Earliest rating on Jan 31, 2010\n",
      "\n",
      "Total raters thus far: 131\n",
      "\n",
      "Community 50\n",
      "5 raters\n",
      "2.8 mean rating\n",
      "Earliest rating on Jun 03, 2010\n",
      "\n",
      "Total raters thus far: 142\n",
      "\n",
      "Community 22\n",
      "5 raters\n",
      "3.8 mean rating\n",
      "Earliest rating on Jul 11, 2010\n",
      "\n",
      "Total raters thus far: 148\n",
      "\n",
      "Community 15\n",
      "7 raters\n",
      "3.4 mean rating\n",
      "Earliest rating on Jul 11, 2010\n",
      "\n",
      "Total raters thus far: 155\n",
      "\n",
      "Community 48\n",
      "20 raters\n",
      "3.8 mean rating\n",
      "Earliest rating on Apr 18, 2011\n",
      "\n",
      "Total raters thus far: 180\n",
      "\n",
      "Community 2\n",
      "8 raters\n",
      "3.5 mean rating\n",
      "Earliest rating on Jul 18, 2012\n",
      "\n",
      "Total raters thus far: 199\n",
      "\n"
     ]
    }
   ],
   "source": [
    "testBID = 2429135\n",
    "\n",
    "commIndices = []\n",
    "allCommBookRatings = []\n",
    "numRaters = []\n",
    "meanRatings = []\n",
    "earliestTimes = []\n",
    "\n",
    "uIDsInGL = set(glRatings['userID'].unique())\n",
    "\n",
    "for commIndex in booksToRaterComms[testBID]:\n",
    "    commRatings = ratingsFull.find({'userID': {'$in': list(set(allComms[commIndex]) & uIDsInGL)}})\n",
    "    commBookRatings = [(r['ratings'][str(testBID)][0], \\\n",
    "                        datetime.strptime(r['ratings'][str(testBID)][2], grDateFormat), \\\n",
    "                        r['userID'])\\\n",
    "                       for r in commRatings if str(testBID) in r['ratings'].keys()]\n",
    "    allCommBookRatings.append(commBookRatings)\n",
    "    \n",
    "    commIndices.append(commIndex)\n",
    "    numRaters.append(len(commBookRatings))\n",
    "    meanRatings.append(np.mean(np.array(commBookRatings)[:,0]))\n",
    "    earliestTimes.append(min(r[1] for r in commBookRatings))\n",
    "\n",
    "timeOrder = np.argsort(earliestTimes)\n",
    "\n",
    "numRatersCumSum = 0\n",
    "for i in timeOrder:\n",
    "    numRatersCumSum += numRaters[i]\n",
    "    if numRaters[i] > 3:\n",
    "        print 'Community %d' % commIndices[i]\n",
    "        print '%d raters' % numRaters[i]\n",
    "        print '%.1f mean rating' % meanRatings[i]\n",
    "        print 'Earliest rating on %s' % datetime.strftime(earliestTimes[i], grDateFormat)\n",
    "        print '\\nTotal raters thus far: %d\\n' % numRatersCumSum"
   ]
  },
  {
   "cell_type": "code",
   "execution_count": 103,
   "metadata": {
    "collapsed": false
   },
   "outputs": [
    {
     "name": "stdout",
     "output_type": "stream",
     "text": [
      "+--------+------+--------+----------+\n",
      "| bookID | comm | rating |  userID  |\n",
      "+--------+------+--------+----------+\n",
      "| 11275  |  48  |   4    | 5455905  |\n",
      "| 11275  |  48  |   4    | 8943786  |\n",
      "| 11275  |  48  |   3    | 19569261 |\n",
      "| 11275  |  48  |   4    | 8864511  |\n",
      "| 11275  |  48  |   4    | 23434392 |\n",
      "| 11275  |  48  |   5    | 9069989  |\n",
      "| 11275  |  48  |   5    | 48801419 |\n",
      "| 11275  |  48  |   4    | 8068801  |\n",
      "| 11275  |  48  |   4    | 7551020  |\n",
      "| 11275  |  48  |   5    | 2392247  |\n",
      "| 11275  |  48  |   4    | 6512932  |\n",
      "| 11275  |  48  |   3    | 5011787  |\n",
      "| 11275  |  48  |   4    | 5724539  |\n",
      "| 11275  |  48  |   5    | 40547054 |\n",
      "| 11275  |  48  |   1    | 9136579  |\n",
      "| 11275  |  48  |   5    | 20931024 |\n",
      "| 11275  |  48  |   4    | 8481252  |\n",
      "| 11275  |  48  |   5    | 25218011 |\n",
      "| 11275  |  48  |   4    | 6308393  |\n",
      "| 11275  |  48  |   5    | 20187777 |\n",
      "| 11275  |  48  |   5    | 43756219 |\n",
      "| 11275  |  48  |   3    | 26363295 |\n",
      "| 11275  |  48  |   4    | 7756517  |\n",
      "| 11275  |  48  |   5    | 42492733 |\n",
      "| 11275  |  48  |   5    | 19571542 |\n",
      "| 11275  |  48  |   5    | 5473130  |\n",
      "| 11275  |  48  |   4    | 4365464  |\n",
      "| 11275  |  48  |   5    | 4318144  |\n",
      "| 11275  |  48  |   4    | 14810189 |\n",
      "| 11275  |  48  |   4    | 7865435  |\n",
      "| 11275  |  48  |   4    | 18828555 |\n",
      "| 11275  |  48  |   5    | 5285276  |\n",
      "| 11275  |  48  |   5    | 17645156 |\n",
      "| 11275  |  48  |   4    | 13395605 |\n",
      "| 11275  |  48  |   4    | 12070558 |\n",
      "| 11275  |  48  |   3    | 20194939 |\n",
      "| 11275  |  48  |   5    | 20123295 |\n",
      "| 11275  |  48  |   4    | 3145513  |\n",
      "| 11275  |  48  |   4    | 19134258 |\n",
      "| 11275  |  48  |   5    | 5250698  |\n",
      "| 11275  |  48  |   4    | 4011888  |\n",
      "| 11275  |  48  |   5    | 21171872 |\n",
      "+--------+------+--------+----------+\n",
      "[42 rows x 4 columns]\n",
      "\n"
     ]
    }
   ],
   "source": [
    "relevantGLratings = glRatings[glRatings.apply(lambda x: x['comm'] == 48 and x['bookID'] == str(testBID))]\n",
    "relevantGLratings.print_rows(num_rows=42)"
   ]
  },
  {
   "cell_type": "code",
   "execution_count": 124,
   "metadata": {
    "collapsed": false
   },
   "outputs": [
    {
     "name": "stdout",
     "output_type": "stream",
     "text": [
      "0.607146395116\n",
      "0.592260112867\n"
     ]
    }
   ],
   "source": [
    "relevantGLratings = signTestFrame[signTestFrame.apply(lambda x: x['comm'] == 48 and x['bookID'] == str(testBID))]\n",
    "relevantGLratings.add_column(gl.SArray(\\\n",
    "                             np.abs(np.array(relevantGLratings['rating'] - relevantGLratings['predsBase']))), \\\n",
    "                             'errsBase')\n",
    "relevantGLratings.add_column(gl.SArray(\\\n",
    "                             np.abs(np.array(relevantGLratings['rating'] - relevantGLratings['predsComm']))), \\\n",
    "                             'errsComm')\n",
    "\n",
    "#relevantGLratings.print_rows(num_rows=42, num_columns=8)\n",
    "print relevantGLratings['errsBase'].mean()\n",
    "print relevantGLratings['errsComm'].mean()"
   ]
  },
  {
   "cell_type": "code",
   "execution_count": 45,
   "metadata": {
    "collapsed": false
   },
   "outputs": [
    {
     "data": {
      "image/png": "[encoded data removed]",
      "text/plain": [
       "<matplotlib.figure.Figure at 0x7f831423b950>"
      ]
     },
     "metadata": {},
     "output_type": "display_data"
    }
   ],
   "source": [
    "numRatingsByUser = glRatingsTrain.groupby(['userID'], {'numRatings': gl.aggregate.COUNT('rating')})\n",
    "plt.hist(numRatingsByUser['numRatings']);"
   ]
  },
  {
   "cell_type": "code",
   "execution_count": 46,
   "metadata": {
    "collapsed": false
   },
   "outputs": [],
   "source": [
    "pdRatingsTrain = glRatingsTrainWithComm.to_dataframe()\n",
    "pdRatingsTest = glRatingsTestWithComm.to_dataframe()"
   ]
  },
  {
   "cell_type": "code",
   "execution_count": 47,
   "metadata": {
    "collapsed": false
   },
   "outputs": [],
   "source": [
    "numRatingsByUser = glRatingsTrain.groupby(['userID'], {'numRatings': gl.aggregate.COUNT('rating')})\n",
    "numRatingsByUserDict = defaultdict(int, {r['userID']: r['numRatings'] for r in numRatingsByUser})"
   ]
  },
  {
   "cell_type": "code",
   "execution_count": 48,
   "metadata": {
    "collapsed": false
   },
   "outputs": [],
   "source": [
    "pdRatingsTest['numRatingsByUser'] = pdRatingsTest['userID'].apply(lambda x: numRatingsByUserDict[x])"
   ]
  },
  {
   "cell_type": "code",
   "execution_count": 49,
   "metadata": {
    "collapsed": false
   },
   "outputs": [
    {
     "data": {
      "text/plain": [
       "count    11464.000000\n",
       "mean        86.299285\n",
       "std         65.267275\n",
       "min          0.000000\n",
       "25%         40.000000\n",
       "50%         69.000000\n",
       "75%        109.000000\n",
       "max        349.000000\n",
       "Name: numRatingsByUser, dtype: float64"
      ]
     },
     "execution_count": 49,
     "metadata": {},
     "output_type": "execute_result"
    }
   ],
   "source": [
    "pdRatingsTest['numRatingsByUser'].describe()"
   ]
  },
  {
   "cell_type": "code",
   "execution_count": 235,
   "metadata": {
    "collapsed": false
   },
   "outputs": [
    {
     "name": "stdout",
     "output_type": "stream",
     "text": [
      "0.14017794836\n"
     ]
    }
   ],
   "source": [
    "numRatingsCutoffHigh = 100000\n",
    "numRatingsCutoffLow = 150\n",
    "pdManyRatings = pdRatingsTest[(pdRatingsTest['numRatingsByUser'] > numRatingsCutoffLow) & (pdRatingsTest['numRatingsByUser'] < numRatingsCutoffHigh)]\n",
    "print ((pdRatingsTest['numRatingsByUser'] > numRatingsCutoffLow) & (pdRatingsTest['numRatingsByUser'] < numRatingsCutoffHigh)).mean()"
   ]
  },
  {
   "cell_type": "code",
   "execution_count": 236,
   "metadata": {
    "collapsed": false
   },
   "outputs": [
    {
     "data": {
      "text/plain": [
       "\"\\npredsBase2 = mixedPred(gl.SFrame(pdManyRatings[['userID','bookID','comm','rating']]),                           commMeansTrain, commBookMeansTrain, factorCommBookMeansTrain, rec_engine, rec_engine_comm,                           False, True, False, 0)[0]\\n1 - (np.abs(3.8 - predsBase2) / np.max(np.abs(3.8 - predsBase2)))\\n\""
      ]
     },
     "execution_count": 236,
     "metadata": {},
     "output_type": "execute_result"
    }
   ],
   "source": [
    "'''\n",
    "predsBase2 = mixedPred(gl.SFrame(pdManyRatings[['userID','bookID','comm','rating']]), \\\n",
    "                          commMeansTrain, commBookMeansTrain, factorCommBookMeansTrain, rec_engine, rec_engine_comm, \\\n",
    "                          False, True, False, 0)[0]\n",
    "1 - (np.abs(3.8 - predsBase2) / np.max(np.abs(3.8 - predsBase2)))\n",
    "'''"
   ]
  },
  {
   "cell_type": "code",
   "execution_count": 237,
   "metadata": {
    "collapsed": false
   },
   "outputs": [
    {
     "data": {
      "text/plain": [
       "\"\\nrmsesFacManyRatings = []\\nfor weight in meanWeights:\\n    rmsesFacManyRatings.append(mixedPred(gl.SFrame(pdManyRatings[['userID','bookID','comm','rating']]),                           commMeansTrain, commBookMeansTrain, factorCommBookMeansTrain, rec_engine, rec_engine_comm,                           False, True, False, weight)[1])\\n\""
      ]
     },
     "execution_count": 237,
     "metadata": {},
     "output_type": "execute_result"
    }
   ],
   "source": [
    "meanWeights = np.linspace(0,0.6,60)\n",
    "\n",
    "rmsesSimpleManyRatings = []\n",
    "for weight in meanWeights:\n",
    "    rmsesSimpleManyRatings.append(mixedPred(gl.SFrame(pdManyRatings[['userID','bookID','comm','rating']]), \\\n",
    "                          commMeansTrain, commBookMeansTrain, commBookMeansTrain, rec_engine, rec_engine, \\\n",
    "                                            numTrainRatings_Test, \\\n",
    "                        False, False, False, weight)[1])\n",
    "'''\n",
    "rmsesFacManyRatings = []\n",
    "for weight in meanWeights:\n",
    "    rmsesFacManyRatings.append(mixedPred(gl.SFrame(pdManyRatings[['userID','bookID','comm','rating']]), \\\n",
    "                          commMeansTrain, commBookMeansTrain, factorCommBookMeansTrain, rec_engine, rec_engine_comm, \\\n",
    "                          False, True, False, weight)[1])\n",
    "'''"
   ]
  },
  {
   "cell_type": "code",
   "execution_count": 238,
   "metadata": {
    "collapsed": false
   },
   "outputs": [
    {
     "data": {
      "text/plain": [
       "[<matplotlib.lines.Line2D at 0x7f82f469da50>]"
      ]
     },
     "execution_count": 238,
     "metadata": {},
     "output_type": "execute_result"
    },
    {
     "data": {
      "image/png": "[encoded data removed]",
      "text/plain": [
       "<matplotlib.figure.Figure at 0x7f82d4368b90>"
      ]
     },
     "metadata": {},
     "output_type": "display_data"
    }
   ],
   "source": [
    "#plt.plot(meanWeights, rmsesSimpleNoBookMeans)\n",
    "plt.plot(meanWeights, rmsesSimpleManyRatings)\n",
    "\n",
    "#plt.plot(meanWeights, rmsesFacManyRatings)"
   ]
  },
  {
   "cell_type": "code",
   "execution_count": 239,
   "metadata": {
    "collapsed": false
   },
   "outputs": [
    {
     "name": "stdout",
     "output_type": "stream",
     "text": [
      "0.0\n",
      "0.955848817733\n"
     ]
    }
   ],
   "source": [
    "print meanWeights[np.argmin(rmsesSimpleManyRatings)]\n",
    "print rmsesSimpleManyRatings[np.argmin(rmsesSimpleManyRatings)]"
   ]
  },
  {
   "cell_type": "code",
   "execution_count": null,
   "metadata": {
    "collapsed": true
   },
   "outputs": [],
   "source": [
    "[150, inf]: 0.0\n",
    "[100, 150]: 0.11186440678\n",
    "[70, 100]: 0.142372881356\n",
    "[50, 70]: 0.122033898305\n",
    "[30, 50]: 0.152542372881\n",
    "[0, 30]: 0.264406779661"
   ]
  },
  {
   "cell_type": "code",
   "execution_count": 240,
   "metadata": {
    "collapsed": false
   },
   "outputs": [
    {
     "data": {
      "text/plain": [
       "[<matplotlib.lines.Line2D at 0x7f8314043f10>]"
      ]
     },
     "execution_count": 240,
     "metadata": {},
     "output_type": "execute_result"
    },
    {
     "data": {
      "image/png": "[encoded data removed]",
      "text/plain": [
       "<matplotlib.figure.Figure at 0x7f82d4581fd0>"
      ]
     },
     "metadata": {},
     "output_type": "display_data"
    }
   ],
   "source": [
    "plt.plot([0.264406779661, 0.152542372881, 0.122033898305, 0.142372881356, 0.11186440678, 0])"
   ]
  },
  {
   "cell_type": "code",
   "execution_count": 636,
   "metadata": {
    "collapsed": false
   },
   "outputs": [
    {
     "data": {
      "image/png": "[encoded data removed]",
      "text/plain": [
       "<matplotlib.figure.Figure at 0x7faf647ed790>"
      ]
     },
     "metadata": {},
     "output_type": "display_data"
    }
   ],
   "source": [
    "numRatingsByComm = glRatingsTrainWithComm.groupby(['comm'], {'numRatings': gl.aggregate.COUNT('rating')})\n",
    "plt.hist(numRatingsByComm['numRatings']);"
   ]
  },
  {
   "cell_type": "code",
   "execution_count": 637,
   "metadata": {
    "collapsed": false
   },
   "outputs": [],
   "source": [
    "pdRatingsTrain = glRatingsTrainWithComm.to_dataframe()\n",
    "pdRatingsTest = glRatingsTestWithComm.to_dataframe()"
   ]
  },
  {
   "cell_type": "code",
   "execution_count": 639,
   "metadata": {
    "collapsed": false
   },
   "outputs": [],
   "source": [
    "numRatingsByCommDict = defaultdict(int, {r['comm']: r['numRatings'] for r in numRatingsByComm})"
   ]
  },
  {
   "cell_type": "code",
   "execution_count": 640,
   "metadata": {
    "collapsed": false
   },
   "outputs": [],
   "source": [
    "pdRatingsTest['numRatingsByComm'] = pdRatingsTest['comm'].apply(lambda x: numRatingsByCommDict[x])"
   ]
  },
  {
   "cell_type": "code",
   "execution_count": 641,
   "metadata": {
    "collapsed": false
   },
   "outputs": [
    {
     "data": {
      "text/plain": [
       "count    15168.000000\n",
       "mean       767.916930\n",
       "std        472.438757\n",
       "min          0.000000\n",
       "25%        400.000000\n",
       "50%        751.000000\n",
       "75%       1180.000000\n",
       "max       1806.000000\n",
       "Name: numRatingsByComm, dtype: float64"
      ]
     },
     "execution_count": 641,
     "metadata": {},
     "output_type": "execute_result"
    }
   ],
   "source": [
    "pdRatingsTest['numRatingsByComm'].describe()"
   ]
  },
  {
   "cell_type": "code",
   "execution_count": 657,
   "metadata": {
    "collapsed": false
   },
   "outputs": [
    {
     "name": "stdout",
     "output_type": "stream",
     "text": [
      "0.165545886076\n"
     ]
    }
   ],
   "source": [
    "numRatingsCutoff = 1180\n",
    "pdManyRatings = pdRatingsTest[(pdRatingsTest['numRatingsByComm'] > numRatingsCutoff) & (pdRatingsTest['numRatingsByComm'] > 0)]\n",
    "print ((pdRatingsTest['numRatingsByComm'] > numRatingsCutoff) * (pdRatingsTest['numRatingsByComm'] > 0)).mean()"
   ]
  },
  {
   "cell_type": "code",
   "execution_count": 658,
   "metadata": {
    "collapsed": false
   },
   "outputs": [
    {
     "data": {
      "text/plain": [
       "(2511, 5)"
      ]
     },
     "execution_count": 658,
     "metadata": {},
     "output_type": "execute_result"
    }
   ],
   "source": [
    "pdManyRatings.shape"
   ]
  },
  {
   "cell_type": "code",
   "execution_count": 659,
   "metadata": {
    "collapsed": false
   },
   "outputs": [],
   "source": [
    "meanWeights = np.linspace(0,1,30)\n",
    "\n",
    "rmsesSimpleManyRatings = []\n",
    "for weight in meanWeights:\n",
    "    rmsesSimpleManyRatings.append(mixedPred(gl.SFrame(pdManyRatings[['userID','bookID','comm','rating']]), \\\n",
    "                          commMeansTrain, commBookMeansTrain, factorCommBookMeansTrain, rec_engine, rec_engine_comm, \\\n",
    "                          False, False, False, weight)[1])\n",
    "    \n",
    "rmsesFacManyRatings = []\n",
    "for weight in meanWeights:\n",
    "    rmsesFacManyRatings.append(mixedPred(gl.SFrame(pdManyRatings[['userID','bookID','comm','rating']]), \\\n",
    "                          commMeansTrain, commBookMeansTrain, factorCommBookMeansTrain, rec_engine, rec_engine_comm, \\\n",
    "                          False, True, False, weight)[1])"
   ]
  },
  {
   "cell_type": "code",
   "execution_count": 660,
   "metadata": {
    "collapsed": false
   },
   "outputs": [
    {
     "data": {
      "text/plain": [
       "[<matplotlib.lines.Line2D at 0x7fafdb600790>]"
      ]
     },
     "execution_count": 660,
     "metadata": {},
     "output_type": "execute_result"
    },
    {
     "data": {
      "image/png": "[encoded data removed]",
      "text/plain": [
       "<matplotlib.figure.Figure at 0x7fafdb600610>"
      ]
     },
     "metadata": {},
     "output_type": "display_data"
    }
   ],
   "source": [
    "plt.plot(meanWeights, rmsesSimpleManyRatings)\n",
    "plt.plot(meanWeights, rmsesFacManyRatings)"
   ]
  },
  {
   "cell_type": "code",
   "execution_count": 661,
   "metadata": {
    "collapsed": false
   },
   "outputs": [
    {
     "name": "stdout",
     "output_type": "stream",
     "text": [
      "0.344827586207\n",
      "0.885610939914\n"
     ]
    }
   ],
   "source": [
    "print meanWeights[np.argmin(rmsesSimpleManyRatings)]\n",
    "print rmsesSimpleManyRatings[np.argmin(rmsesSimpleManyRatings)]"
   ]
  },
  {
   "cell_type": "code",
   "execution_count": null,
   "metadata": {
    "collapsed": true
   },
   "outputs": [],
   "source": [
    "0.448275862069\n",
    "0.945779144527\n",
    "In [ ]:\n",
    "In [ ]:\n",
    "In [ ]:\n",
    "In [ ]:\n",
    "In [ ]:\n"
   ]
  }
 ],
 "metadata": {
  "anaconda-cloud": {},
  "kernelspec": {
   "display_name": "Python [conda root]",
   "language": "python",
   "name": "conda-root-py"
  },
  "language_info": {
   "codemirror_mode": {
    "name": "ipython",
    "version": 2
   },
   "file_extension": ".py",
   "mimetype": "text/x-python",
   "name": "python",
   "nbconvert_exporter": "python",
   "pygments_lexer": "ipython2",
   "version": "2.7.12"
  }
 },
 "nbformat": 4,
 "nbformat_minor": 1
}

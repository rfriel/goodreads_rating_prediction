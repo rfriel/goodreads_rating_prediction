{
 "cells": [
  {
   "cell_type": "code",
   "execution_count": 1,
   "metadata": {
    "collapsed": false
   },
   "outputs": [],
   "source": [
    "from selenium import webdriver\n",
    "from selenium.webdriver.support.ui import Select\n",
    "from bs4 import BeautifulSoup\n",
    "\n",
    "import time\n",
    "\n",
    "from pymongo import MongoClient"
   ]
  },
  {
   "cell_type": "code",
   "execution_count": 32,
   "metadata": {
    "collapsed": true
   },
   "outputs": [],
   "source": [
    "# tor"
   ]
  },
  {
   "cell_type": "code",
   "execution_count": 33,
   "metadata": {
    "collapsed": false
   },
   "outputs": [],
   "source": [
    "#from stem import "
   ]
  },
  {
   "cell_type": "code",
   "execution_count": 34,
   "metadata": {
    "collapsed": true
   },
   "outputs": [],
   "source": [
    "#import socks\n",
    "#import socket\n",
    "#import requests\n",
    "\n",
    "#socks.setdefaultproxy(proxy_type=socks.PROXY_TYPE_SOCKS5, addr=\"127.0.0.1\", port=9050)\n",
    "#socket.socket = socks.socksocket"
   ]
  },
  {
   "cell_type": "code",
   "execution_count": 35,
   "metadata": {
    "collapsed": false
   },
   "outputs": [],
   "source": [
    "#print requests.get(\"http://icanhazip.com\").text"
   ]
  },
  {
   "cell_type": "code",
   "execution_count": 2,
   "metadata": {
    "collapsed": false
   },
   "outputs": [],
   "source": [
    "#path_to_chromedriver = '/home/ubuntu/chromedriver'\n",
    "#browser = webdriver.Chrome(executable_path = path_to_chromedriver)\n",
    "\n",
    "#fp = webdriver.FirefoxProfile()\n",
    "#fp.set_preference(\"http.response.timeout\", 1)\n",
    "#fp.set_preference(\"dom.max_script_run_time\", 1)\n",
    "#fp.set_preference(\"javascript.enabled\", False)\n",
    "\n",
    "from selenium.webdriver.common.desired_capabilities import DesiredCapabilities\n",
    "firefox_capabilities = DesiredCapabilities.FIREFOX\n",
    "\n",
    "firefox_capabilities['marionette'] = True\n",
    "firefox_capabilities['binary'] = '/home/ubuntu/firefox/firefox'\n",
    "\n",
    "capstone_profile = webdriver.FirefoxProfile('/home/ubuntu/.mozilla/firefox/a64vis0x.capstone')\n",
    "\n",
    "browser = webdriver.Firefox(capstone_profile, capabilities=firefox_capabilities)"
   ]
  },
  {
   "cell_type": "code",
   "execution_count": 3,
   "metadata": {
    "collapsed": false
   },
   "outputs": [],
   "source": [
    "client = MongoClient('mongodb://localhost:27017/')"
   ]
  },
  {
   "cell_type": "code",
   "execution_count": 4,
   "metadata": {
    "collapsed": true
   },
   "outputs": [],
   "source": [
    "#logging in"
   ]
  },
  {
   "cell_type": "code",
   "execution_count": 5,
   "metadata": {
    "collapsed": false
   },
   "outputs": [],
   "source": [
    "url = 'https://www.goodreads.com/'\n",
    "browser.get(url)"
   ]
  },
  {
   "cell_type": "code",
   "execution_count": 6,
   "metadata": {
    "collapsed": false
   },
   "outputs": [],
   "source": [
    "username = browser.find_element_by_id('userSignInFormEmail')\n",
    "password = browser.find_element_by_id('user_password')"
   ]
  },
  {
   "cell_type": "code",
   "execution_count": 7,
   "metadata": {
    "collapsed": false
   },
   "outputs": [],
   "source": [
    "with open('login.txt') as f:\n",
    "    login = f.read().split('\\n')\n",
    "\n",
    "username.send_keys(login[0])\n",
    "password.send_keys(login[1])"
   ]
  },
  {
   "cell_type": "code",
   "execution_count": 8,
   "metadata": {
    "collapsed": false
   },
   "outputs": [],
   "source": [
    "signIn = browser.find_element_by_xpath(\"/html[@class='desktop no-touchevents cssanimations flexbox flexwrap csstransforms es5date es5array es5object strictmode es5function es5string json es5undefined es5syntax es5']/body[@id='signedOutHome']/div[@class='content']/div[@id='siteheader']/div[@class='mainContent']/div[@id='navBar']/div[@id='signInForm']/form[@id='sign_in']/div[@class='formBox'][3]/input[@class='gr-button gr-button--dark']\")"
   ]
  },
  {
   "cell_type": "code",
   "execution_count": 9,
   "metadata": {
    "collapsed": false
   },
   "outputs": [],
   "source": [
    "signIn.click()"
   ]
  },
  {
   "cell_type": "code",
   "execution_count": 10,
   "metadata": {
    "collapsed": true
   },
   "outputs": [],
   "source": [
    "# now we are logged in"
   ]
  },
  {
   "cell_type": "code",
   "execution_count": 11,
   "metadata": {
    "collapsed": true
   },
   "outputs": [],
   "source": [
    "# getting a user's friends"
   ]
  },
  {
   "cell_type": "code",
   "execution_count": 12,
   "metadata": {
    "collapsed": true
   },
   "outputs": [],
   "source": [
    "curUserID = 7607437"
   ]
  },
  {
   "cell_type": "code",
   "execution_count": 13,
   "metadata": {
    "collapsed": false
   },
   "outputs": [],
   "source": [
    "url = 'https://www.goodreads.com/friend/user/' + str(curUserID)\n",
    "browser.get(url)"
   ]
  },
  {
   "cell_type": "code",
   "execution_count": 14,
   "metadata": {
    "collapsed": false
   },
   "outputs": [],
   "source": [
    "friendCount = browser.find_element_by_class_name('smallText').text"
   ]
  },
  {
   "cell_type": "code",
   "execution_count": 15,
   "metadata": {
    "collapsed": false
   },
   "outputs": [
    {
     "data": {
      "text/plain": [
       "u'(showing 1-30 of 238)'"
      ]
     },
     "execution_count": 15,
     "metadata": {},
     "output_type": "execute_result"
    }
   ],
   "source": [
    "friendCount"
   ]
  },
  {
   "cell_type": "code",
   "execution_count": 16,
   "metadata": {
    "collapsed": true
   },
   "outputs": [],
   "source": [
    "soup = BeautifulSoup(browser.page_source, 'html.parser')"
   ]
  },
  {
   "cell_type": "code",
   "execution_count": 17,
   "metadata": {
    "collapsed": false
   },
   "outputs": [],
   "source": [
    "friendIDs = []\n",
    "\n",
    "numFriends = int(friendCount[friendCount.rfind(' ') +  1 : friendCount.rfind(')')])\n",
    "numPages = numFriends/30 + 1\n",
    "\n",
    "for i in range(1,numPages+1):\n",
    "    url = 'https://www.goodreads.com/friend/user/' + str(curUserID) + '?page=' + str(i)\n",
    "\n",
    "    browser.get(url)\n",
    "    test=Select(browser.find_element_by_tag_name('select'))\n",
    "    test.select_by_index(0)\n",
    "        \n",
    "    soup = BeautifulSoup(browser.page_source, 'html.parser')\n",
    "    friendTable = soup.find(id='friendTable')\n",
    "    \n",
    "    friendHrefs = [link.get('href') for link in friendTable.findAll('a')]\n",
    "    friendHrefs = filter(lambda s: s is not None, friendHrefs)\n",
    "    \n",
    "    friendComps = filter(lambda s: s[:14]=='/user/compare/', friendHrefs)\n",
    "    friendIDs.extend([int(s[14:]) for s in friendComps])\n",
    "\n",
    "    time.sleep(1)"
   ]
  },
  {
   "cell_type": "code",
   "execution_count": 18,
   "metadata": {
    "collapsed": false
   },
   "outputs": [],
   "source": [
    "if len(friendIDs) != numFriends:\n",
    "    print 'user %d has %d friends, but retrieved %d friends instead' % (curUserID,numFriends,len(friendIDs))"
   ]
  },
  {
   "cell_type": "code",
   "execution_count": 19,
   "metadata": {
    "collapsed": false
   },
   "outputs": [],
   "source": [
    "# entering into mongodb"
   ]
  },
  {
   "cell_type": "code",
   "execution_count": 20,
   "metadata": {
    "collapsed": false
   },
   "outputs": [],
   "source": [
    "db = client['goodreads']"
   ]
  },
  {
   "cell_type": "code",
   "execution_count": 21,
   "metadata": {
    "collapsed": false
   },
   "outputs": [],
   "source": [
    "#db.create_collection('reviews')\n",
    "#db.create_collection('friends')"
   ]
  },
  {
   "cell_type": "code",
   "execution_count": 22,
   "metadata": {
    "collapsed": false
   },
   "outputs": [],
   "source": [
    "friends = db['friends']"
   ]
  },
  {
   "cell_type": "code",
   "execution_count": 30,
   "metadata": {
    "collapsed": false
   },
   "outputs": [],
   "source": [
    "# add curUserID's friends\n",
    "friends.update_one(\n",
    "    {\"userID\": curUserID}, \n",
    "    {\"$addToSet\": {\"friends\": {\"$each\": friendIDs}}}, \n",
    "    upsert=True)\n",
    "\n",
    "# add curUserID to f-list of each of their friends\n",
    "\n",
    "for friend in friendIDs:\n",
    "    friends.update_one(\n",
    "    {\"userID\": friend}, \n",
    "    {\"$addToSet\": {\"friends\": curUserID}}, \n",
    "    upsert=True)\n"
   ]
  },
  {
   "cell_type": "code",
   "execution_count": 35,
   "metadata": {
    "collapsed": false
   },
   "outputs": [
    {
     "data": {
      "text/plain": [
       "{u'_id': ObjectId('58156aebb59515fedb9f7bb7'),\n",
       " u'friends': [7607437],\n",
       " u'userID': 1938805}"
      ]
     },
     "execution_count": 35,
     "metadata": {},
     "output_type": "execute_result"
    }
   ],
   "source": [
    "friends.find_one({\"userID\": friendIDs[1]})"
   ]
  },
  {
   "cell_type": "code",
   "execution_count": null,
   "metadata": {
    "collapsed": true
   },
   "outputs": [],
   "source": []
  }
 ],
 "metadata": {
  "anaconda-cloud": {},
  "kernelspec": {
   "display_name": "Python [conda root]",
   "language": "python",
   "name": "conda-root-py"
  },
  "language_info": {
   "codemirror_mode": {
    "name": "ipython",
    "version": 2
   },
   "file_extension": ".py",
   "mimetype": "text/x-python",
   "name": "python",
   "nbconvert_exporter": "python",
   "pygments_lexer": "ipython2",
   "version": "2.7.12"
  }
 },
 "nbformat": 4,
 "nbformat_minor": 0
}

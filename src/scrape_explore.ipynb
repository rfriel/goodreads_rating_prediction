{
 "cells": [
  {
   "cell_type": "code",
   "execution_count": 279,
   "metadata": {
    "collapsed": false
   },
   "outputs": [],
   "source": [
    "%reload_ext autoreload\n",
    "%autoreload 2\n",
    "from scrape_GR_tools import *\n",
    "from scrape_explore import *\n",
    "#put this in scrape_GR_tools\n",
    "import pandas as pd\n",
    "\n",
    "import graphlab as gl\n",
    "\n",
    "from datetime import datetime\n",
    "grDateFormat = '%b %d, %Y'\n",
    "\n",
    "%matplotlib inline\n",
    "import matplotlib.pyplot as plt"
   ]
  },
  {
   "cell_type": "code",
   "execution_count": 2,
   "metadata": {
    "collapsed": false
   },
   "outputs": [],
   "source": [
    "# setting up mongodb\n",
    "\n",
    "client = MongoClient('mongodb://localhost:27017/')\n",
    "'''\n",
    "db = client['goodreads_explore_multigraph']\n",
    "\n",
    "friendsUnbiased = db['friends']\n",
    "ratingsUnbiased = db['reviews']\n",
    "booksUnbiased = db['books']\n",
    "\n",
    "dbBiased = client['goodreads_explore_multigraph_biased_sampling']\n",
    "\n",
    "friendsBiased = dbBiased['friends']\n",
    "ratingsBiased = dbBiased['reviews']\n",
    "booksBiased = dbBiased['books']\n",
    "'''\n",
    "dbFromBook = client['goodreads_explore_from_book']\n",
    "\n",
    "friendsFromBook = dbFromBook['friends']\n",
    "ratingsFromBook = dbFromBook['reviews']\n",
    "booksFromBook = dbFromBook['books']"
   ]
  },
  {
   "cell_type": "code",
   "execution_count": 3,
   "metadata": {
    "collapsed": true
   },
   "outputs": [],
   "source": [
    "def reset_colls(friends, ratings, books):\n",
    "    friends.delete_many({})\n",
    "    ratings.delete_many({})\n",
    "    books.delete_many({})"
   ]
  },
  {
   "cell_type": "code",
   "execution_count": 4,
   "metadata": {
    "collapsed": false
   },
   "outputs": [],
   "source": [
    "checkBiased = False\n",
    "checkFromBook = True"
   ]
  },
  {
   "cell_type": "code",
   "execution_count": 181,
   "metadata": {
    "collapsed": false
   },
   "outputs": [],
   "source": [
    "tidewaterID = 118154 # The Tidewater Tales\n",
    "#exploreFromBook(bookID, ratingsFromBook, friendsFromBook, booksFromBook, 0.05)"
   ]
  },
  {
   "cell_type": "code",
   "execution_count": 6,
   "metadata": {
    "collapsed": false
   },
   "outputs": [
    {
     "name": "stdout",
     "output_type": "stream",
     "text": [
      "325 users\n",
      "77299 books\n",
      "0 users have scraped friend lists\n",
      "\n",
      "25.99% of books have >1 ratings\n",
      "(20089 books)\n",
      "\n",
      "14.88% of books have >2 ratings\n",
      "(11502 books)\n",
      "\n",
      "6.22% of books have >5 ratings\n",
      "(4806 books)\n",
      "\n",
      "2.86% of books have >10 ratings\n",
      "(2212 books)\n",
      "\n",
      "Descriptive statistics for ratings:\n"
     ]
    },
    {
     "data": {
      "text/plain": [
       "count    77299.000000\n",
       "mean         2.265010\n",
       "std          5.598601\n",
       "min          1.000000\n",
       "25%          1.000000\n",
       "50%          1.000000\n",
       "75%          2.000000\n",
       "max        291.000000\n",
       "dtype: float64"
      ]
     },
     "execution_count": 6,
     "metadata": {},
     "output_type": "execute_result"
    }
   ],
   "source": [
    "# checking what we've got\n",
    "\n",
    "if checkBiased:\n",
    "    friends = friendsBiased\n",
    "    ratings = ratingsBiased\n",
    "    books = booksBiased\n",
    "elif checkFromBook:\n",
    "    friends = friendsFromBook\n",
    "    ratings = ratingsFromBook\n",
    "    books = booksFromBook\n",
    "else:\n",
    "    friends = friendsUnbiased\n",
    "    ratings = ratingsUnbiased\n",
    "    books = booksUnbiased\n",
    "\n",
    "t = books.find()\n",
    "countList = []\n",
    "\n",
    "for b in t:\n",
    "    countList.append(len(b['ratings']))\n",
    "\n",
    "clS = pd.Series(countList)\n",
    "print '%d users' % ratings.count()\n",
    "print '%d books' % books.count()\n",
    "print '%d users have scraped friend lists\\n' % friends.count()\n",
    "\n",
    "print '%.2f%% of books have >1 ratings' % float(100*(clS>1).mean())\n",
    "print '(%d books)\\n' %(clS>1).sum()\n",
    "\n",
    "print '%.2f%% of books have >2 ratings' % float(100*(clS>2).mean())\n",
    "print '(%d books)\\n' %(clS>2).sum()\n",
    "\n",
    "print '%.2f%% of books have >5 ratings' % float(100*(clS>5).mean())\n",
    "print '(%d books)\\n' %(clS>5).sum()\n",
    "\n",
    "print '%.2f%% of books have >10 ratings' % float(100*(clS>10).mean())\n",
    "print '(%d books)\\n' %(clS>10).sum()\n",
    "\n",
    "print 'Descriptive statistics for ratings:'\n",
    "clS.describe()"
   ]
  },
  {
   "cell_type": "code",
   "execution_count": 322,
   "metadata": {
    "collapsed": false
   },
   "outputs": [
    {
     "name": "stdout",
     "output_type": "stream",
     "text": [
      "291\n",
      "0.250859106529\n"
     ]
    }
   ],
   "source": [
    "targetRatings = books.find_one({'bookID': tidewaterID})['ratings']\n",
    "targetRatingDates = np.array([datetime.strptime(r[2], grDateFormat) for r in targetRatings.values()])\n",
    "#strictCutoff = min(targetRatingDates)\n",
    "#print strictCutoff.strftime(grDateFormat)\n",
    "print len(targetRatingDates)\n",
    "print sum(targetRatingDates > datetime.strptime('Jan 1, 2014', grDateFormat)) / float(len(targetRatingDates))\n",
    "cutoffDate = datetime.strptime('Jan 1, 2014', grDateFormat)"
   ]
  },
  {
   "cell_type": "code",
   "execution_count": 332,
   "metadata": {
    "collapsed": false
   },
   "outputs": [],
   "source": [
    "glRatingDictTrain = makeRatingDictForGL(ratings, cutoffDate)\n",
    "glRatingsTrain = gl.SFrame(glRatingDictTrain)"
   ]
  },
  {
   "cell_type": "code",
   "execution_count": 353,
   "metadata": {
    "collapsed": false
   },
   "outputs": [],
   "source": [
    "glRatingDictTest = makeRatingDictForGL(ratings, cutoffDate, upperBound=False)\n",
    "glRatingsTest = gl.SFrame(glRatingDictTest)"
   ]
  },
  {
   "cell_type": "code",
   "execution_count": null,
   "metadata": {
    "collapsed": false
   },
   "outputs": [
    {
     "data": {
      "text/html": [
       "<pre>Recsys training: model = factorization_recommender</pre>"
      ],
      "text/plain": [
       "Recsys training: model = factorization_recommender"
      ]
     },
     "metadata": {},
     "output_type": "display_data"
    },
    {
     "data": {
      "text/html": [
       "<pre>Preparing data set.</pre>"
      ],
      "text/plain": [
       "Preparing data set."
      ]
     },
     "metadata": {},
     "output_type": "display_data"
    },
    {
     "data": {
      "text/html": [
       "<pre>    Data has 114753 observations with 273 users and 50571 items.</pre>"
      ],
      "text/plain": [
       "    Data has 114753 observations with 273 users and 50571 items."
      ]
     },
     "metadata": {},
     "output_type": "display_data"
    },
    {
     "data": {
      "text/html": [
       "<pre>    Data prepared in: 0.248767s</pre>"
      ],
      "text/plain": [
       "    Data prepared in: 0.248767s"
      ]
     },
     "metadata": {},
     "output_type": "display_data"
    },
    {
     "data": {
      "text/html": [
       "<pre>Training factorization_recommender for recommendations.</pre>"
      ],
      "text/plain": [
       "Training factorization_recommender for recommendations."
      ]
     },
     "metadata": {},
     "output_type": "display_data"
    },
    {
     "data": {
      "text/html": [
       "<pre>+--------------------------------+--------------------------------------------------+----------+</pre>"
      ],
      "text/plain": [
       "+--------------------------------+--------------------------------------------------+----------+"
      ]
     },
     "metadata": {},
     "output_type": "display_data"
    },
    {
     "data": {
      "text/html": [
       "<pre>| Parameter                      | Description                                      | Value    |</pre>"
      ],
      "text/plain": [
       "| Parameter                      | Description                                      | Value    |"
      ]
     },
     "metadata": {},
     "output_type": "display_data"
    },
    {
     "data": {
      "text/html": [
       "<pre>+--------------------------------+--------------------------------------------------+----------+</pre>"
      ],
      "text/plain": [
       "+--------------------------------+--------------------------------------------------+----------+"
      ]
     },
     "metadata": {},
     "output_type": "display_data"
    },
    {
     "data": {
      "text/html": [
       "<pre>| num_factors                    | Factor Dimension                                 | 1        |</pre>"
      ],
      "text/plain": [
       "| num_factors                    | Factor Dimension                                 | 1        |"
      ]
     },
     "metadata": {},
     "output_type": "display_data"
    },
    {
     "data": {
      "text/html": [
       "<pre>| regularization                 | L2 Regularization on Factors                     | 1e-08    |</pre>"
      ],
      "text/plain": [
       "| regularization                 | L2 Regularization on Factors                     | 1e-08    |"
      ]
     },
     "metadata": {},
     "output_type": "display_data"
    },
    {
     "data": {
      "text/html": [
       "<pre>| solver                         | Solver used for training                         | sgd      |</pre>"
      ],
      "text/plain": [
       "| solver                         | Solver used for training                         | sgd      |"
      ]
     },
     "metadata": {},
     "output_type": "display_data"
    },
    {
     "data": {
      "text/html": [
       "<pre>| linear_regularization          | L2 Regularization on Linear Coefficients         | 1e-10    |</pre>"
      ],
      "text/plain": [
       "| linear_regularization          | L2 Regularization on Linear Coefficients         | 1e-10    |"
      ]
     },
     "metadata": {},
     "output_type": "display_data"
    },
    {
     "data": {
      "text/html": [
       "<pre>| max_iterations                 | Maximum Number of Iterations                     | 50       |</pre>"
      ],
      "text/plain": [
       "| max_iterations                 | Maximum Number of Iterations                     | 50       |"
      ]
     },
     "metadata": {},
     "output_type": "display_data"
    },
    {
     "data": {
      "text/html": [
       "<pre>+--------------------------------+--------------------------------------------------+----------+</pre>"
      ],
      "text/plain": [
       "+--------------------------------+--------------------------------------------------+----------+"
      ]
     },
     "metadata": {},
     "output_type": "display_data"
    },
    {
     "data": {
      "text/html": [
       "<pre>  Optimizing model using SGD; tuning step size.</pre>"
      ],
      "text/plain": [
       "  Optimizing model using SGD; tuning step size."
      ]
     },
     "metadata": {},
     "output_type": "display_data"
    },
    {
     "data": {
      "text/html": [
       "<pre>  Using 14344 / 114753 points for tuning the step size.</pre>"
      ],
      "text/plain": [
       "  Using 14344 / 114753 points for tuning the step size."
      ]
     },
     "metadata": {},
     "output_type": "display_data"
    },
    {
     "data": {
      "text/html": [
       "<pre>+---------+-------------------+------------------------------------------+</pre>"
      ],
      "text/plain": [
       "+---------+-------------------+------------------------------------------+"
      ]
     },
     "metadata": {},
     "output_type": "display_data"
    },
    {
     "data": {
      "text/html": [
       "<pre>| Attempt | Initial Step Size | Estimated Objective Value                |</pre>"
      ],
      "text/plain": [
       "| Attempt | Initial Step Size | Estimated Objective Value                |"
      ]
     },
     "metadata": {},
     "output_type": "display_data"
    },
    {
     "data": {
      "text/html": [
       "<pre>+---------+-------------------+------------------------------------------+</pre>"
      ],
      "text/plain": [
       "+---------+-------------------+------------------------------------------+"
      ]
     },
     "metadata": {},
     "output_type": "display_data"
    },
    {
     "data": {
      "text/html": [
       "<pre>| 0       | 25                | No Decrease (4.37692 >= 0.893015)        |</pre>"
      ],
      "text/plain": [
       "| 0       | 25                | No Decrease (4.37692 >= 0.893015)        |"
      ]
     },
     "metadata": {},
     "output_type": "display_data"
    },
    {
     "data": {
      "text/html": [
       "<pre>| 1       | 6.25              | No Decrease (3.38689 >= 0.893015)        |</pre>"
      ],
      "text/plain": [
       "| 1       | 6.25              | No Decrease (3.38689 >= 0.893015)        |"
      ]
     },
     "metadata": {},
     "output_type": "display_data"
    },
    {
     "data": {
      "text/html": [
       "<pre>| 2       | 1.5625            | No Decrease (1.6282 >= 0.893015)         |</pre>"
      ],
      "text/plain": [
       "| 2       | 1.5625            | No Decrease (1.6282 >= 0.893015)         |"
      ]
     },
     "metadata": {},
     "output_type": "display_data"
    },
    {
     "data": {
      "text/html": [
       "<pre>| 3       | 0.390625          | 0.221847                                 |</pre>"
      ],
      "text/plain": [
       "| 3       | 0.390625          | 0.221847                                 |"
      ]
     },
     "metadata": {},
     "output_type": "display_data"
    },
    {
     "data": {
      "text/html": [
       "<pre>| 4       | 0.195312          | 0.272079                                 |</pre>"
      ],
      "text/plain": [
       "| 4       | 0.195312          | 0.272079                                 |"
      ]
     },
     "metadata": {},
     "output_type": "display_data"
    },
    {
     "data": {
      "text/html": [
       "<pre>| 5       | 0.0976562         | 0.340077                                 |</pre>"
      ],
      "text/plain": [
       "| 5       | 0.0976562         | 0.340077                                 |"
      ]
     },
     "metadata": {},
     "output_type": "display_data"
    },
    {
     "data": {
      "text/html": [
       "<pre>| 6       | 0.0488281         | 0.454313                                 |</pre>"
      ],
      "text/plain": [
       "| 6       | 0.0488281         | 0.454313                                 |"
      ]
     },
     "metadata": {},
     "output_type": "display_data"
    },
    {
     "data": {
      "text/html": [
       "<pre>+---------+-------------------+------------------------------------------+</pre>"
      ],
      "text/plain": [
       "+---------+-------------------+------------------------------------------+"
      ]
     },
     "metadata": {},
     "output_type": "display_data"
    },
    {
     "data": {
      "text/html": [
       "<pre>| Final   | 0.390625          | 0.221847                                 |</pre>"
      ],
      "text/plain": [
       "| Final   | 0.390625          | 0.221847                                 |"
      ]
     },
     "metadata": {},
     "output_type": "display_data"
    },
    {
     "data": {
      "text/html": [
       "<pre>+---------+-------------------+------------------------------------------+</pre>"
      ],
      "text/plain": [
       "+---------+-------------------+------------------------------------------+"
      ]
     },
     "metadata": {},
     "output_type": "display_data"
    },
    {
     "data": {
      "text/html": [
       "<pre>Starting Optimization.</pre>"
      ],
      "text/plain": [
       "Starting Optimization."
      ]
     },
     "metadata": {},
     "output_type": "display_data"
    },
    {
     "data": {
      "text/html": [
       "<pre>+---------+--------------+-------------------+-----------------------+-------------+</pre>"
      ],
      "text/plain": [
       "+---------+--------------+-------------------+-----------------------+-------------+"
      ]
     },
     "metadata": {},
     "output_type": "display_data"
    },
    {
     "data": {
      "text/html": [
       "<pre>| Iter.   | Elapsed Time | Approx. Objective | Approx. Training RMSE | Step Size   |</pre>"
      ],
      "text/plain": [
       "| Iter.   | Elapsed Time | Approx. Objective | Approx. Training RMSE | Step Size   |"
      ]
     },
     "metadata": {},
     "output_type": "display_data"
    },
    {
     "data": {
      "text/html": [
       "<pre>+---------+--------------+-------------------+-----------------------+-------------+</pre>"
      ],
      "text/plain": [
       "+---------+--------------+-------------------+-----------------------+-------------+"
      ]
     },
     "metadata": {},
     "output_type": "display_data"
    },
    {
     "data": {
      "text/html": [
       "<pre>| Initial | 88us         | 0.892595          | 0.944772              |             |</pre>"
      ],
      "text/plain": [
       "| Initial | 88us         | 0.892595          | 0.944772              |             |"
      ]
     },
     "metadata": {},
     "output_type": "display_data"
    },
    {
     "data": {
      "text/html": [
       "<pre>+---------+--------------+-------------------+-----------------------+-------------+</pre>"
      ],
      "text/plain": [
       "+---------+--------------+-------------------+-----------------------+-------------+"
      ]
     },
     "metadata": {},
     "output_type": "display_data"
    },
    {
     "data": {
      "text/html": [
       "<pre>| 1       | 1.80s        | 1.59126           | 1.2613                | 0.390625    |</pre>"
      ],
      "text/plain": [
       "| 1       | 1.80s        | 1.59126           | 1.2613                | 0.390625    |"
      ]
     },
     "metadata": {},
     "output_type": "display_data"
    },
    {
     "data": {
      "text/html": [
       "<pre>| 2       | 3.24s        | 1.03577           | 1.01763               | 0.232267    |</pre>"
      ],
      "text/plain": [
       "| 2       | 3.24s        | 1.03577           | 1.01763               | 0.232267    |"
      ]
     },
     "metadata": {},
     "output_type": "display_data"
    },
    {
     "data": {
      "text/html": [
       "<pre>| 3       | 4.55s        | 0.716354          | 0.8463                | 0.171364    |</pre>"
      ],
      "text/plain": [
       "| 3       | 4.55s        | 0.716354          | 0.8463                | 0.171364    |"
      ]
     },
     "metadata": {},
     "output_type": "display_data"
    },
    {
     "data": {
      "text/html": [
       "<pre>| 4       | 5.80s        | 0.547776          | 0.740045              | 0.116134    |</pre>"
      ],
      "text/plain": [
       "| 4       | 5.80s        | 0.547776          | 0.740045              | 0.116134    |"
      ]
     },
     "metadata": {},
     "output_type": "display_data"
    },
    {
     "data": {
      "text/html": [
       "<pre>| 5       | 7.02s        | 0.488247          | 0.698673              | 0.098237    |</pre>"
      ],
      "text/plain": [
       "| 5       | 7.02s        | 0.488247          | 0.698673              | 0.098237    |"
      ]
     },
     "metadata": {},
     "output_type": "display_data"
    },
    {
     "data": {
      "text/html": [
       "<pre>| 6       | 8.23s        | 0.457288          | 0.676155              | 0.0856819   |</pre>"
      ],
      "text/plain": [
       "| 6       | 8.23s        | 0.457288          | 0.676155              | 0.0856819   |"
      ]
     },
     "metadata": {},
     "output_type": "display_data"
    },
    {
     "data": {
      "text/html": [
       "<pre>| 7       | 9.58s        | 0.435257          | 0.659663              | 0.0763271   |</pre>"
      ],
      "text/plain": [
       "| 7       | 9.58s        | 0.435257          | 0.659663              | 0.0763271   |"
      ]
     },
     "metadata": {},
     "output_type": "display_data"
    },
    {
     "data": {
      "text/html": [
       "<pre>| 8       | 11.29s       | 0.419489          | 0.647601              | 0.0690534   |</pre>"
      ],
      "text/plain": [
       "| 8       | 11.29s       | 0.419489          | 0.647601              | 0.0690534   |"
      ]
     },
     "metadata": {},
     "output_type": "display_data"
    },
    {
     "data": {
      "text/html": [
       "<pre>| 9       | 12.60s       | 0.40724           | 0.638073              | 0.0632151   |</pre>"
      ],
      "text/plain": [
       "| 9       | 12.60s       | 0.40724           | 0.638073              | 0.0632151   |"
      ]
     },
     "metadata": {},
     "output_type": "display_data"
    },
    {
     "data": {
      "text/html": [
       "<pre>| 10      | 13.95s       | 0.399119          | 0.631677              | 0.0584121   |</pre>"
      ],
      "text/plain": [
       "| 10      | 13.95s       | 0.399119          | 0.631677              | 0.0584121   |"
      ]
     },
     "metadata": {},
     "output_type": "display_data"
    },
    {
     "data": {
      "text/html": [
       "<pre>| 11      | 15.15s       | 0.391685          | 0.625766              | 0.0543824   |</pre>"
      ],
      "text/plain": [
       "| 11      | 15.15s       | 0.391685          | 0.625766              | 0.0543824   |"
      ]
     },
     "metadata": {},
     "output_type": "display_data"
    },
    {
     "data": {
      "text/html": [
       "<pre>| 12      | 16.36s       | 0.386325          | 0.621468              | 0.0509468   |</pre>"
      ],
      "text/plain": [
       "| 12      | 16.36s       | 0.386325          | 0.621468              | 0.0509468   |"
      ]
     },
     "metadata": {},
     "output_type": "display_data"
    },
    {
     "data": {
      "text/html": [
       "<pre>| 13      | 17.56s       | 0.380939          | 0.617119              | 0.0479783   |</pre>"
      ],
      "text/plain": [
       "| 13      | 17.56s       | 0.380939          | 0.617119              | 0.0479783   |"
      ]
     },
     "metadata": {},
     "output_type": "display_data"
    },
    {
     "data": {
      "text/html": [
       "<pre>| 14      | 18.76s       | 0.376881          | 0.613822              | 0.0453844   |</pre>"
      ],
      "text/plain": [
       "| 14      | 18.76s       | 0.376881          | 0.613822              | 0.0453844   |"
      ]
     },
     "metadata": {},
     "output_type": "display_data"
    },
    {
     "data": {
      "text/html": [
       "<pre>| 15      | 20.01s       | 0.373318          | 0.610913              | 0.0430957   |</pre>"
      ],
      "text/plain": [
       "| 15      | 20.01s       | 0.373318          | 0.610913              | 0.0430957   |"
      ]
     },
     "metadata": {},
     "output_type": "display_data"
    },
    {
     "data": {
      "text/html": [
       "<pre>| 16      | 21.18s       | 0.368201          | 0.606711              | 0.0410594   |</pre>"
      ],
      "text/plain": [
       "| 16      | 21.18s       | 0.368201          | 0.606711              | 0.0410594   |"
      ]
     },
     "metadata": {},
     "output_type": "display_data"
    },
    {
     "data": {
      "text/html": [
       "<pre>| 17      | 22.41s       | 0.367287          | 0.605957              | 0.0392343   |</pre>"
      ],
      "text/plain": [
       "| 17      | 22.41s       | 0.367287          | 0.605957              | 0.0392343   |"
      ]
     },
     "metadata": {},
     "output_type": "display_data"
    },
    {
     "data": {
      "text/html": [
       "<pre>| 18      | 23.66s       | 0.361991          | 0.601572              | 0.0375879   |</pre>"
      ],
      "text/plain": [
       "| 18      | 23.66s       | 0.361991          | 0.601572              | 0.0375879   |"
      ]
     },
     "metadata": {},
     "output_type": "display_data"
    },
    {
     "data": {
      "text/html": [
       "<pre>| 19      | 24.88s       | 0.3618            | 0.601413              | 0.0360942   |</pre>"
      ],
      "text/plain": [
       "| 19      | 24.88s       | 0.3618            | 0.601413              | 0.0360942   |"
      ]
     },
     "metadata": {},
     "output_type": "display_data"
    },
    {
     "data": {
      "text/html": [
       "<pre>| 20      | 26.09s       | 0.359443          | 0.59945               | 0.034732    |</pre>"
      ],
      "text/plain": [
       "| 20      | 26.09s       | 0.359443          | 0.59945               | 0.034732    |"
      ]
     },
     "metadata": {},
     "output_type": "display_data"
    },
    {
     "data": {
      "text/html": [
       "<pre>| 21      | 27.31s       | 0.357891          | 0.598154              | 0.0334841   |</pre>"
      ],
      "text/plain": [
       "| 21      | 27.31s       | 0.357891          | 0.598154              | 0.0334841   |"
      ]
     },
     "metadata": {},
     "output_type": "display_data"
    },
    {
     "data": {
      "text/html": [
       "<pre>| 22      | 28.51s       | 0.356015          | 0.596584              | 0.0323359   |</pre>"
      ],
      "text/plain": [
       "| 22      | 28.51s       | 0.356015          | 0.596584              | 0.0323359   |"
      ]
     },
     "metadata": {},
     "output_type": "display_data"
    },
    {
     "data": {
      "text/html": [
       "<pre>| 23      | 29.72s       | 0.354005          | 0.594897              | 0.0312757   |</pre>"
      ],
      "text/plain": [
       "| 23      | 29.72s       | 0.354005          | 0.594897              | 0.0312757   |"
      ]
     },
     "metadata": {},
     "output_type": "display_data"
    }
   ],
   "source": [
    "rec_engine = gl.factorization_recommender.create(   observation_data=glRatingsTrain, \n",
    "                                                    user_id=\"userID\", \n",
    "                                                    item_id=\"bookID\", \n",
    "                                                    target='rating',\n",
    "                                                    num_factors=4,\n",
    "                                                    solver='auto'\n",
    "                                                    )"
   ]
  },
  {
   "cell_type": "code",
   "execution_count": 448,
   "metadata": {
    "collapsed": false
   },
   "outputs": [
    {
     "data": {
      "text/plain": [
       "0.898924490374494"
      ]
     },
     "execution_count": 448,
     "metadata": {},
     "output_type": "execute_result"
    }
   ],
   "source": [
    "rec_engine.evaluate_rmse(glRatingsTest, target='rating')['rmse_overall']"
   ]
  },
  {
   "cell_type": "code",
   "execution_count": 338,
   "metadata": {
    "collapsed": false
   },
   "outputs": [
    {
     "name": "stdout",
     "output_type": "stream",
     "text": [
      "['rmse_by_user', 'rmse_by_item', 'rmse_overall']\n",
      "0.922858519514\n"
     ]
    }
   ],
   "source": [
    "eval = rec_engine.evaluate_rmse(glRatingsTest, target='rating')\n",
    "print eval.keys()\n",
    "print eval['rmse_overall']"
   ]
  },
  {
   "cell_type": "code",
   "execution_count": 429,
   "metadata": {
    "collapsed": false
   },
   "outputs": [],
   "source": [
    "bookWeightings = rec_engine.get('coefficients')['bookID']\n",
    "npBookWeightings = bookWeightings['factors'].to_numpy()\n",
    "for i, row in enumerate(npBookWeightings):\n",
    "    npBookWeightings[i,:] /= np.linalg.norm(row)\n",
    "bookWeightings['factors'] = gl.SArray(npBookWeightings)\n",
    "bookWeightings = bookWeightings.unpack('factors')"
   ]
  },
  {
   "cell_type": "code",
   "execution_count": 438,
   "metadata": {
    "collapsed": false
   },
   "outputs": [
    {
     "name": "stdout",
     "output_type": "stream",
     "text": [
      "Six Easy Pieces: Essentials of Physics By Its Most Brilliant Teacher\n",
      "The Happy Hocky Family\n",
      "      \n",
      "          (The Happy Hocky Family)\n",
      "Death of a Cad\n",
      "      \n",
      "          (Hamish Macbeth  #2)\n",
      "The House at Pooh Corner and Now We Are Six\n",
      "The Way of the Seeded Earth\n",
      "------\n",
      "Automated Alice\n",
      "      \n",
      "          (Vurt #3)\n",
      "Blood Hunt\n",
      "Lean Tales\n",
      "The Wind-Up Bird Chronicle\n",
      "      \n",
      "          (ねじまき鳥クロニクル #1-3)\n",
      "Burning Angel\n",
      "      \n",
      "          (Dave Robicheaux #8)\n"
     ]
    }
   ],
   "source": [
    "print '\\n'.join([bookTitle(int(bID)) for bID in bookWeightings.sort('factors.0', ascending=False)['bookID'][:5]])\n",
    "print '------'\n",
    "print '\\n'.join([bookTitle(int(bID)) for bID in bookWeightings.sort('factors.0', ascending=True)['bookID'][:5]])"
   ]
  },
  {
   "cell_type": "code",
   "execution_count": 439,
   "metadata": {
    "collapsed": false
   },
   "outputs": [
    {
     "name": "stdout",
     "output_type": "stream",
     "text": [
      "Zeno's Conscience\n",
      "S.\n",
      "Sexus\n",
      "      \n",
      "          (The Rosy Crucifixion #1)\n",
      "An Atomic Romance\n",
      "Cimarron Rose\n",
      "      \n",
      "          (Billy Bob Holland #1)\n",
      "------\n",
      "Swallowing Clouds\n",
      "Prophecy\n",
      "      \n",
      "          (Giordano Bruno #2)\n",
      "The Jaguar's Shadow: Searching for a Mythic Cat\n",
      "Cornhuskers\n",
      "Language and Mind\n"
     ]
    }
   ],
   "source": [
    "print '\\n'.join([bookTitle(int(bID)) for bID in bookWeightings.sort('factors.1', ascending=False)['bookID'][:5]])\n",
    "print '------'\n",
    "print '\\n'.join([bookTitle(int(bID)) for bID in bookWeightings.sort('factors.1', ascending=True)['bookID'][:5]])"
   ]
  },
  {
   "cell_type": "code",
   "execution_count": 440,
   "metadata": {
    "collapsed": false
   },
   "outputs": [
    {
     "name": "stdout",
     "output_type": "stream",
     "text": [
      "The Royals\n",
      "Sizzling Sixteen\n",
      "      \n",
      "          (Stephanie Plum #16)\n",
      "Ed King\n",
      "Under Fire\n",
      "Floating Clouds\n",
      "------\n",
      "The Grouchy Ladybug\n",
      "Perelandra\n",
      "      \n",
      "          (Space Trilogy #2)\n",
      "The Black House\n",
      "Bruce\n",
      "Neighbors\n"
     ]
    }
   ],
   "source": [
    "print '\\n'.join([bookTitle(int(bID)) for bID in bookWeightings.sort('factors.2', ascending=False)['bookID'][:5]])\n",
    "print '------'\n",
    "print '\\n'.join([bookTitle(int(bID)) for bID in bookWeightings.sort('factors.2', ascending=True)['bookID'][:5]])"
   ]
  },
  {
   "cell_type": "code",
   "execution_count": 441,
   "metadata": {
    "collapsed": false
   },
   "outputs": [
    {
     "name": "stdout",
     "output_type": "stream",
     "text": [
      "The Austere Academy\n",
      "      \n",
      "          (A Series of Unfortunate Events #5)\n",
      "No Laughing Matter: The Life and Times of Flann O'Brien\n",
      "Mangoes & Curry Leaves: Culinary Travels Through the Great Subcontinent\n",
      "The Complete Poetry\n",
      "Copenhagen Noir\n",
      "      \n",
      "          (Akashic Noir)\n",
      "------\n",
      "Memphis Afternoons\n",
      "Frank Comma and the Time-Slip\n",
      "The Game from Where I Stand: A Ballplayer's Inside View\n",
      "Ship of Fools\n",
      "The Frozen Rabbi\n"
     ]
    }
   ],
   "source": [
    "print '\\n'.join([bookTitle(int(bID)) for bID in bookWeightings.sort('factors.3', ascending=False)['bookID'][:5]])\n",
    "print '------'\n",
    "print '\\n'.join([bookTitle(int(bID)) for bID in bookWeightings.sort('factors.3', ascending=True)['bookID'][:5]])"
   ]
  },
  {
   "cell_type": "code",
   "execution_count": 345,
   "metadata": {
    "collapsed": false
   },
   "outputs": [],
   "source": [
    "dfBookWeightings = bookWeightings.to_dataframe()"
   ]
  },
  {
   "cell_type": "code",
   "execution_count": 346,
   "metadata": {
    "collapsed": false
   },
   "outputs": [
    {
     "data": {
      "text/html": [
       "<div>\n",
       "<table border=\"1\" class=\"dataframe\">\n",
       "  <thead>\n",
       "    <tr style=\"text-align: right;\">\n",
       "      <th></th>\n",
       "      <th>bookID</th>\n",
       "      <th>linear_terms</th>\n",
       "      <th>factors.0</th>\n",
       "      <th>factors.1</th>\n",
       "      <th>factors.2</th>\n",
       "      <th>factors.3</th>\n",
       "    </tr>\n",
       "  </thead>\n",
       "  <tbody>\n",
       "    <tr>\n",
       "      <th>11</th>\n",
       "      <td>118154</td>\n",
       "      <td>0.194842</td>\n",
       "      <td>0.023419</td>\n",
       "      <td>0.128196</td>\n",
       "      <td>-0.025241</td>\n",
       "      <td>0.283176</td>\n",
       "    </tr>\n",
       "  </tbody>\n",
       "</table>\n",
       "</div>"
      ],
      "text/plain": [
       "    bookID  linear_terms  factors.0  factors.1  factors.2  factors.3\n",
       "11  118154      0.194842   0.023419   0.128196  -0.025241   0.283176"
      ]
     },
     "execution_count": 346,
     "metadata": {},
     "output_type": "execute_result"
    }
   ],
   "source": [
    "dfBookWeightings[dfBookWeightings['bookID']==str(tidewaterID)]"
   ]
  },
  {
   "cell_type": "code",
   "execution_count": 347,
   "metadata": {
    "collapsed": true
   },
   "outputs": [],
   "source": [
    "userWeightings = rec_engine.get('coefficients')['userID'].unpack('factors')"
   ]
  },
  {
   "cell_type": "code",
   "execution_count": 348,
   "metadata": {
    "collapsed": true
   },
   "outputs": [],
   "source": [
    "dfUserWeightings = userWeightings.to_dataframe()"
   ]
  },
  {
   "cell_type": "code",
   "execution_count": 349,
   "metadata": {
    "collapsed": false
   },
   "outputs": [
    {
     "data": {
      "text/html": [
       "<div>\n",
       "<table border=\"1\" class=\"dataframe\">\n",
       "  <thead>\n",
       "    <tr style=\"text-align: right;\">\n",
       "      <th></th>\n",
       "      <th>userID</th>\n",
       "      <th>linear_terms</th>\n",
       "      <th>factors.0</th>\n",
       "      <th>factors.1</th>\n",
       "      <th>factors.2</th>\n",
       "      <th>factors.3</th>\n",
       "    </tr>\n",
       "  </thead>\n",
       "  <tbody>\n",
       "    <tr>\n",
       "      <th>7</th>\n",
       "      <td>7607437</td>\n",
       "      <td>0.818722</td>\n",
       "      <td>0.72847</td>\n",
       "      <td>0.14561</td>\n",
       "      <td>0.440161</td>\n",
       "      <td>-0.427731</td>\n",
       "    </tr>\n",
       "  </tbody>\n",
       "</table>\n",
       "</div>"
      ],
      "text/plain": [
       "    userID  linear_terms  factors.0  factors.1  factors.2  factors.3\n",
       "7  7607437      0.818722    0.72847    0.14561   0.440161  -0.427731"
      ]
     },
     "execution_count": 349,
     "metadata": {},
     "output_type": "execute_result"
    }
   ],
   "source": [
    "dfUserWeightings[dfUserWeightings['userID']==7607437] #N.R."
   ]
  },
  {
   "cell_type": "code",
   "execution_count": 359,
   "metadata": {
    "collapsed": false
   },
   "outputs": [],
   "source": [
    "barthTruth = glRatingsTest[glRatingsTest['bookID'] == str(tidewaterID)]"
   ]
  },
  {
   "cell_type": "code",
   "execution_count": 373,
   "metadata": {
    "collapsed": false
   },
   "outputs": [
    {
     "data": {
      "text/plain": [
       "dtype: int\n",
       "Rows: 75\n",
       "[4, 5, 5, 3, 4, 5, 5, 4, 3, 5, 5, 4, 3, 4, 5, 5, 4, 3, 5, 5, 3, 3, 4, 4, 5, 4, 4, 4, 5, 4, 5, 4, 3, 3, 4, 4, 4, 5, 4, 4, 4, 3, 5, 3, 3, 3, 5, 5, 4, 5, 4, 4, 5, 5, 5, 2, 4, 2, 2, 5, 5, 5, 4, 4, 5, 3, 5, 4, 5, 3, 5, 3, 5, 5, 4]"
      ]
     },
     "execution_count": 373,
     "metadata": {},
     "output_type": "execute_result"
    }
   ],
   "source": [
    "barthPreds = barthTruth['userID','rating'].add_column(rec_engine.predict(barthTruth), name=\"modelRating\")\n",
    "barthPreds['rating']"
   ]
  },
  {
   "cell_type": "code",
   "execution_count": null,
   "metadata": {
    "collapsed": true
   },
   "outputs": [],
   "source": []
  },
  {
   "cell_type": "code",
   "execution_count": null,
   "metadata": {
    "collapsed": true
   },
   "outputs": [],
   "source": [
    "barthTruth['userID','rating'].add_column"
   ]
  },
  {
   "cell_type": "code",
   "execution_count": null,
   "metadata": {
    "collapsed": true
   },
   "outputs": [],
   "source": [
    "barthPreds = barthTruth['userID','rating'].add_column"
   ]
  },
  {
   "cell_type": "code",
   "execution_count": 366,
   "metadata": {
    "collapsed": false
   },
   "outputs": [
    {
     "name": "stdout",
     "output_type": "stream",
     "text": [
      "0.888040534664\n",
      "-0.0348179848496\n"
     ]
    }
   ],
   "source": [
    "evalBarth = rec_engine.evaluate_rmse(barthTruth, target='rating')\n",
    "print evalBarth['rmse_overall']\n",
    "print evalBarth['rmse_overall'] - eval['rmse_overall']"
   ]
  },
  {
   "cell_type": "code",
   "execution_count": null,
   "metadata": {
    "collapsed": true
   },
   "outputs": [],
   "source": []
  }
 ],
 "metadata": {
  "anaconda-cloud": {},
  "kernelspec": {
   "display_name": "Python [default]",
   "language": "python",
   "name": "python2"
  },
  "language_info": {
   "codemirror_mode": {
    "name": "ipython",
    "version": 2
   },
   "file_extension": ".py",
   "mimetype": "text/x-python",
   "name": "python",
   "nbconvert_exporter": "python",
   "pygments_lexer": "ipython2",
   "version": "2.7.12"
  }
 },
 "nbformat": 4,
 "nbformat_minor": 1
}

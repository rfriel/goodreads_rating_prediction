{
 "cells": [
  {
   "cell_type": "code",
   "execution_count": 2,
   "metadata": {
    "collapsed": false
   },
   "outputs": [
    {
     "name": "stderr",
     "output_type": "stream",
     "text": [
      "[INFO] graphlab.cython.cy_server: GraphLab Create v2.1 started. Logging: /tmp/graphlab_server_1480031438.log\n"
     ]
    },
    {
     "name": "stdout",
     "output_type": "stream",
     "text": [
      "This non-commercial license of GraphLab Create for academic use is assigned to ref302@nyu.edu and will expire on October 13, 2017.\n"
     ]
    }
   ],
   "source": [
    "%reload_ext autoreload\n",
    "%autoreload 2\n",
    "from scrape_GR_tools import *\n",
    "from scrape_explore import *\n",
    "#put this in scrape_GR_tools\n",
    "import pandas as pd\n",
    "\n",
    "import graphlab as gl\n",
    "\n",
    "import networkx as nx\n",
    "import nxpd as nxpd\n",
    "from IPython.display import display, Image\n",
    "import community\n",
    "\n",
    "from datetime import date, datetime\n",
    "grDateFormat = '%b %d, %Y'\n",
    "\n",
    "%matplotlib inline\n",
    "import matplotlib.pyplot as plt\n",
    "from matplotlib import colors"
   ]
  },
  {
   "cell_type": "code",
   "execution_count": 3,
   "metadata": {
    "collapsed": false
   },
   "outputs": [
    {
     "name": "stdout",
     "output_type": "stream",
     "text": [
      "Focal book: 19486412 (Big Little Lies), with 239406 ratings\n"
     ]
    }
   ],
   "source": [
    "with open('focalbook.txt') as f:\n",
    "    focalBookID = int(f.next())\n",
    "    focalBookCollectionTag = f.next().rstrip()\n",
    "\n",
    "focalBookInfo = bookTitle(focalBookID)\n",
    "print 'Focal book: %d (%s), with %d ratings' %(focalBookID, focalBookInfo[0], focalBookInfo[1])\n",
    "#exploreFromBook(focalBookID, ratingsFromBook, friendsFromBook, booksFromBook, 0.05)"
   ]
  },
  {
   "cell_type": "code",
   "execution_count": 8,
   "metadata": {
    "collapsed": false
   },
   "outputs": [],
   "source": [
    "# setting up mongodb\n",
    "\n",
    "client = MongoClient('mongodb://localhost:27017/')\n",
    "\n",
    "db = client['goodreads_explore_multigraph']\n",
    "\n",
    "friendsUnbiased = db['friends']\n",
    "ratingsUnbiased = db['reviews']\n",
    "booksUnbiased = db['books']\n",
    "\n",
    "dbBiased = client['goodreads_explore_multigraph_biased_sampling']\n",
    "\n",
    "friendsBiased = dbBiased['friends']\n",
    "ratingsBiased = dbBiased['reviews']\n",
    "booksBiased = dbBiased['books']\n",
    "\n",
    "focalBookCollectionTag = 'jest'\n",
    "dbFromBook = client['goodreads_explore_from_book_' + focalBookCollectionTag]\n",
    "\n",
    "friendsFromBook = dbFromBook['friends']\n",
    "ratingsFromBook = dbFromBook['reviews']\n",
    "booksFromBook = dbFromBook['books']\n",
    "\n",
    "dbSnowball = client['goodreads_snowball']\n",
    "friendsSnowball = dbSnowball['friends']\n",
    "ratingsSnowball = dbSnowball['reviews']\n",
    "booksSnowball = dbSnowball['books']\n",
    "\n",
    "dbFull = client['goodreads_full']\n",
    "friendsFull = dbFull['friends']\n",
    "ratingsFull = dbFull['ratings']\n",
    "booksFull = dbFull['books']"
   ]
  },
  {
   "cell_type": "code",
   "execution_count": 9,
   "metadata": {
    "collapsed": false
   },
   "outputs": [],
   "source": [
    "checkBiased = False\n",
    "checkFromBook = False\n",
    "checkSnowball = False\n",
    "checkFull = True"
   ]
  },
  {
   "cell_type": "code",
   "execution_count": 10,
   "metadata": {
    "collapsed": false
   },
   "outputs": [
    {
     "name": "stdout",
     "output_type": "stream",
     "text": [
      "716 users\n",
      "103899 books\n",
      "3614 users have scraped friend lists\n",
      "\n",
      "24.30% of books have >1 ratings\n",
      "(25251 books)\n",
      "\n",
      "13.33% of books have >2 ratings\n",
      "(13850 books)\n",
      "\n",
      "5.62% of books have >5 ratings\n",
      "(5836 books)\n",
      "\n",
      "2.64% of books have >10 ratings\n",
      "(2744 books)\n",
      "\n",
      "Descriptive statistics for ratings:\n",
      "count    103899.000000\n",
      "mean          2.101541\n",
      "std           4.652577\n",
      "min           1.000000\n",
      "25%           1.000000\n",
      "50%           1.000000\n",
      "75%           1.000000\n",
      "max         197.000000\n",
      "dtype: float64\n"
     ]
    }
   ],
   "source": [
    "# checking what we've got\n",
    "\n",
    "if checkBiased:\n",
    "    friends = friendsBiased\n",
    "    ratings = ratingsBiased\n",
    "    books = booksBiased\n",
    "elif checkFromBook:\n",
    "    friends = friendsFromBook\n",
    "    ratings = ratingsFromBook\n",
    "    books = booksFromBook\n",
    "elif checkSnowball:\n",
    "    friends = friendsSnowball\n",
    "    ratings = ratingsSnowball\n",
    "    books = booksSnowball\n",
    "elif checkFull:\n",
    "    friends = friendsFull\n",
    "    ratings = ratingsFull\n",
    "    books = booksFull\n",
    "\n",
    "else:\n",
    "    friends = friendsUnbiased\n",
    "    ratings = ratingsUnbiased\n",
    "    books = booksUnbiased\n",
    "\n",
    "print '%d users' % ratings.count()\n",
    "print '%d books' % books.count()\n",
    "print '%d users have scraped friend lists\\n' % friends.count()\n",
    "\n",
    "if ratings.count() > 0:\n",
    "    t = books.find()\n",
    "    countList = []\n",
    "\n",
    "    for b in t:\n",
    "        countList.append(len(b['ratings']))\n",
    "\n",
    "    clS = pd.Series(countList)\n",
    "        \n",
    "    print '%.2f%% of books have >1 ratings' % float(100*(clS>1).mean())\n",
    "    print '(%d books)\\n' %(clS>1).sum()\n",
    "\n",
    "    print '%.2f%% of books have >2 ratings' % float(100*(clS>2).mean())\n",
    "    print '(%d books)\\n' %(clS>2).sum()\n",
    "\n",
    "    print '%.2f%% of books have >5 ratings' % float(100*(clS>5).mean())\n",
    "    print '(%d books)\\n' %(clS>5).sum()\n",
    "\n",
    "    print '%.2f%% of books have >10 ratings' % float(100*(clS>10).mean())\n",
    "    print '(%d books)\\n' %(clS>10).sum()\n",
    "\n",
    "    print 'Descriptive statistics for ratings:'\n",
    "    print clS.describe()"
   ]
  },
  {
   "cell_type": "code",
   "execution_count": 11,
   "metadata": {
    "collapsed": false
   },
   "outputs": [],
   "source": [
    "nUserCounts = []\n",
    "for i, row in enumerate(ratings.find()):\n",
    "    nUserCounts.append(len(row['ratings']))\n",
    "    \n",
    "nBookCounts = []\n",
    "bookIDlist = []\n",
    "for i, row in enumerate(books.find()):\n",
    "    nBookCounts.append(len(row['ratings']))\n",
    "    bookIDlist.append(row['bookID'])"
   ]
  },
  {
   "cell_type": "code",
   "execution_count": 12,
   "metadata": {
    "collapsed": false
   },
   "outputs": [
    {
     "data": {
      "text/plain": [
       "'\\nfor index in np.argsort(nBookCounts)[::-1][20:]:\\n    print (bookTitle(bookIDlist[index]),nBookCounts[index])\\n'"
      ]
     },
     "execution_count": 12,
     "metadata": {},
     "output_type": "execute_result"
    }
   ],
   "source": [
    "'''\n",
    "for index in np.argsort(nBookCounts)[::-1][20:]:\n",
    "    print (bookTitle(bookIDlist[index]),nBookCounts[index])\n",
    "'''"
   ]
  },
  {
   "cell_type": "code",
   "execution_count": 13,
   "metadata": {
    "collapsed": false
   },
   "outputs": [
    {
     "name": "stdout",
     "output_type": "stream",
     "text": [
      "0.0851955307263\n",
      "0.756965899576\n",
      "3156\n"
     ]
    }
   ],
   "source": [
    "nUserCounts = pd.Series(nUserCounts)\n",
    "print (nUserCounts < 10).mean()\n",
    "\n",
    "nBookCounts = pd.Series(nBookCounts)\n",
    "print (nBookCounts < 2).mean()\n",
    "\n",
    "bookIDlist = pd.Series(bookIDlist)\n",
    "booksToExclude = set(bookIDlist[nBookCounts < 10])\n",
    "print (nBookCounts >= 10).sum()"
   ]
  },
  {
   "cell_type": "code",
   "execution_count": 14,
   "metadata": {
    "collapsed": false
   },
   "outputs": [
    {
     "data": {
      "text/plain": [
       "count    3156.000000\n",
       "mean       21.730989\n",
       "std        16.337531\n",
       "min        10.000000\n",
       "25%        12.000000\n",
       "50%        16.000000\n",
       "75%        25.000000\n",
       "max       197.000000\n",
       "dtype: float64"
      ]
     },
     "execution_count": 14,
     "metadata": {},
     "output_type": "execute_result"
    }
   ],
   "source": [
    "nBookCounts[nBookCounts>=10].describe()"
   ]
  },
  {
   "cell_type": "code",
   "execution_count": 15,
   "metadata": {
    "collapsed": false
   },
   "outputs": [
    {
     "data": {
      "text/plain": [
       "count     716.000000\n",
       "mean      307.449721\n",
       "std       612.958883\n",
       "min         1.000000\n",
       "25%        42.000000\n",
       "50%       120.000000\n",
       "75%       301.000000\n",
       "max      8816.000000\n",
       "dtype: float64"
      ]
     },
     "execution_count": 15,
     "metadata": {},
     "output_type": "execute_result"
    }
   ],
   "source": [
    "nUserCounts.describe()"
   ]
  },
  {
   "cell_type": "code",
   "execution_count": 16,
   "metadata": {
    "collapsed": false
   },
   "outputs": [
    {
     "name": "stdout",
     "output_type": "stream",
     "text": [
      "5\n",
      "1.0\n"
     ]
    }
   ],
   "source": [
    "targetRatings = books.find_one({'bookID': focalBookID})['ratings']\n",
    "targetRatingDates = np.array([datetime.strptime(r[2], grDateFormat) for r in targetRatings.values()])\n",
    "#strictCutoff = min(targetRatingDates)\n",
    "#print strictCutoff.strftime(grDateFormat)\n",
    "print len(targetRatingDates)\n",
    "print sum(targetRatingDates > datetime.strptime('Jan 1, 2014', grDateFormat)) / float(len(targetRatingDates))\n",
    "cutoffDate = datetime.strptime('Jan 1, 2014', grDateFormat)\n",
    "todayDate = date.today()\n",
    "today = datetime(todayDate.year, todayDate.month, todayDate.day)"
   ]
  },
  {
   "cell_type": "code",
   "execution_count": 17,
   "metadata": {
    "collapsed": false
   },
   "outputs": [],
   "source": [
    "commList = [client['goodreads_explore_from_book_mice_and_men']['comms'].find_one()['comms'],\n",
    "           client['goodreads_full']['comms'].find_one()['comms']\n",
    "           ]\n",
    "allComms = reduce(lambda a,b: a+b,  [comm for comm in commList])"
   ]
  },
  {
   "cell_type": "code",
   "execution_count": 18,
   "metadata": {
    "collapsed": false
   },
   "outputs": [
    {
     "name": "stdout",
     "output_type": "stream",
     "text": [
      "0.0\n",
      "0.0096247317106\n"
     ]
    },
    {
     "ename": "KeyboardInterrupt",
     "evalue": "",
     "output_type": "error",
     "traceback": [
      "\u001b[0;31m---------------------------------------------------------------------------\u001b[0m",
      "\u001b[0;31mKeyboardInterrupt\u001b[0m                         Traceback (most recent call last)",
      "\u001b[0;32m<ipython-input-18-84545f4e6edd>\u001b[0m in \u001b[0;36m<module>\u001b[0;34m()\u001b[0m\n\u001b[1;32m      9\u001b[0m             \u001b[0;34m{\u001b[0m\u001b[0;34m\"bookID\"\u001b[0m\u001b[0;34m:\u001b[0m \u001b[0mbookID\u001b[0m\u001b[0;34m}\u001b[0m\u001b[0;34m,\u001b[0m\u001b[0;34m\u001b[0m\u001b[0m\n\u001b[1;32m     10\u001b[0m             \u001b[0;34m{\u001b[0m\u001b[0;34m\"$set\"\u001b[0m\u001b[0;34m:\u001b[0m \u001b[0;34m{\u001b[0m\u001b[0;34m'commsOfRaters'\u001b[0m\u001b[0;34m:\u001b[0m \u001b[0mcommsOfRaters\u001b[0m\u001b[0;34m}\u001b[0m\u001b[0;34m}\u001b[0m\u001b[0;34m,\u001b[0m\u001b[0;34m\u001b[0m\u001b[0m\n\u001b[0;32m---> 11\u001b[0;31m             upsert=True)\n\u001b[0m\u001b[1;32m     12\u001b[0m     \u001b[0;32mif\u001b[0m \u001b[0mj\u001b[0m \u001b[0;34m%\u001b[0m \u001b[0;36m1000\u001b[0m \u001b[0;34m==\u001b[0m \u001b[0;36m0\u001b[0m\u001b[0;34m:\u001b[0m\u001b[0;34m\u001b[0m\u001b[0m\n\u001b[1;32m     13\u001b[0m         \u001b[0;32mprint\u001b[0m \u001b[0mfloat\u001b[0m\u001b[0;34m(\u001b[0m\u001b[0mj\u001b[0m\u001b[0;34m)\u001b[0m \u001b[0;34m/\u001b[0m \u001b[0mdbFull\u001b[0m\u001b[0;34m[\u001b[0m\u001b[0;34m'books'\u001b[0m\u001b[0;34m]\u001b[0m\u001b[0;34m.\u001b[0m\u001b[0mcount\u001b[0m\u001b[0;34m(\u001b[0m\u001b[0;34m)\u001b[0m\u001b[0;34m\u001b[0m\u001b[0m\n",
      "\u001b[0;32m/home/ubuntu/anaconda/lib/python2.7/site-packages/pymongo/collection.pyc\u001b[0m in \u001b[0;36mupdate_one\u001b[0;34m(self, filter, update, upsert, bypass_document_validation)\u001b[0m\n\u001b[1;32m    839\u001b[0m             result = self._update(sock_info, filter, update, upsert,\n\u001b[1;32m    840\u001b[0m                                   \u001b[0mcheck_keys\u001b[0m\u001b[0;34m=\u001b[0m\u001b[0mFalse\u001b[0m\u001b[0;34m,\u001b[0m\u001b[0;34m\u001b[0m\u001b[0m\n\u001b[0;32m--> 841\u001b[0;31m                                   bypass_doc_val=bypass_document_validation)\n\u001b[0m\u001b[1;32m    842\u001b[0m         \u001b[0;32mreturn\u001b[0m \u001b[0mUpdateResult\u001b[0m\u001b[0;34m(\u001b[0m\u001b[0mresult\u001b[0m\u001b[0;34m,\u001b[0m \u001b[0mself\u001b[0m\u001b[0;34m.\u001b[0m\u001b[0mwrite_concern\u001b[0m\u001b[0;34m.\u001b[0m\u001b[0macknowledged\u001b[0m\u001b[0;34m)\u001b[0m\u001b[0;34m\u001b[0m\u001b[0m\n\u001b[1;32m    843\u001b[0m \u001b[0;34m\u001b[0m\u001b[0m\n",
      "\u001b[0;32m/home/ubuntu/anaconda/lib/python2.7/site-packages/pymongo/collection.pyc\u001b[0m in \u001b[0;36m_update\u001b[0;34m(self, sock_info, criteria, document, upsert, check_keys, multi, manipulate, write_concern, op_id, ordered, bypass_doc_val)\u001b[0m\n\u001b[1;32m    713\u001b[0m                 \u001b[0mself\u001b[0m\u001b[0;34m.\u001b[0m\u001b[0m__database\u001b[0m\u001b[0;34m.\u001b[0m\u001b[0mname\u001b[0m\u001b[0;34m,\u001b[0m\u001b[0;34m\u001b[0m\u001b[0m\n\u001b[1;32m    714\u001b[0m                 \u001b[0mcommand\u001b[0m\u001b[0;34m,\u001b[0m\u001b[0;34m\u001b[0m\u001b[0m\n\u001b[0;32m--> 715\u001b[0;31m                 codec_options=self.__write_response_codec_options).copy()\n\u001b[0m\u001b[1;32m    716\u001b[0m             \u001b[0m_check_write_command_response\u001b[0m\u001b[0;34m(\u001b[0m\u001b[0;34m[\u001b[0m\u001b[0;34m(\u001b[0m\u001b[0;36m0\u001b[0m\u001b[0;34m,\u001b[0m \u001b[0mresult\u001b[0m\u001b[0;34m)\u001b[0m\u001b[0;34m]\u001b[0m\u001b[0;34m)\u001b[0m\u001b[0;34m\u001b[0m\u001b[0m\n\u001b[1;32m    717\u001b[0m             \u001b[0;31m# Add the updatedExisting field for compatibility.\u001b[0m\u001b[0;34m\u001b[0m\u001b[0;34m\u001b[0m\u001b[0m\n",
      "\u001b[0;32m/home/ubuntu/anaconda/lib/python2.7/site-packages/pymongo/pool.pyc\u001b[0m in \u001b[0;36mcommand\u001b[0;34m(self, dbname, spec, slave_ok, read_preference, codec_options, check, allowable_errors, check_keys, read_concern)\u001b[0m\n\u001b[1;32m    242\u001b[0m         \u001b[0;31m# Catch socket.error, KeyboardInterrupt, etc. and close ourselves.\u001b[0m\u001b[0;34m\u001b[0m\u001b[0;34m\u001b[0m\u001b[0m\n\u001b[1;32m    243\u001b[0m         \u001b[0;32mexcept\u001b[0m \u001b[0mBaseException\u001b[0m \u001b[0;32mas\u001b[0m \u001b[0merror\u001b[0m\u001b[0;34m:\u001b[0m\u001b[0;34m\u001b[0m\u001b[0m\n\u001b[0;32m--> 244\u001b[0;31m             \u001b[0mself\u001b[0m\u001b[0;34m.\u001b[0m\u001b[0m_raise_connection_failure\u001b[0m\u001b[0;34m(\u001b[0m\u001b[0merror\u001b[0m\u001b[0;34m)\u001b[0m\u001b[0;34m\u001b[0m\u001b[0m\n\u001b[0m\u001b[1;32m    245\u001b[0m \u001b[0;34m\u001b[0m\u001b[0m\n\u001b[1;32m    246\u001b[0m     \u001b[0;32mdef\u001b[0m \u001b[0msend_message\u001b[0m\u001b[0;34m(\u001b[0m\u001b[0mself\u001b[0m\u001b[0;34m,\u001b[0m \u001b[0mmessage\u001b[0m\u001b[0;34m,\u001b[0m \u001b[0mmax_doc_size\u001b[0m\u001b[0;34m)\u001b[0m\u001b[0;34m:\u001b[0m\u001b[0;34m\u001b[0m\u001b[0m\n",
      "\u001b[0;32m/home/ubuntu/anaconda/lib/python2.7/site-packages/pymongo/pool.pyc\u001b[0m in \u001b[0;36m_raise_connection_failure\u001b[0;34m(self, error)\u001b[0m\n\u001b[1;32m    370\u001b[0m             \u001b[0m_raise_connection_failure\u001b[0m\u001b[0;34m(\u001b[0m\u001b[0mself\u001b[0m\u001b[0;34m.\u001b[0m\u001b[0maddress\u001b[0m\u001b[0;34m,\u001b[0m \u001b[0merror\u001b[0m\u001b[0;34m)\u001b[0m\u001b[0;34m\u001b[0m\u001b[0m\n\u001b[1;32m    371\u001b[0m         \u001b[0;32melse\u001b[0m\u001b[0;34m:\u001b[0m\u001b[0;34m\u001b[0m\u001b[0m\n\u001b[0;32m--> 372\u001b[0;31m             \u001b[0;32mraise\u001b[0m \u001b[0merror\u001b[0m\u001b[0;34m\u001b[0m\u001b[0m\n\u001b[0m\u001b[1;32m    373\u001b[0m \u001b[0;34m\u001b[0m\u001b[0m\n\u001b[1;32m    374\u001b[0m     \u001b[0;32mdef\u001b[0m \u001b[0m__eq__\u001b[0m\u001b[0;34m(\u001b[0m\u001b[0mself\u001b[0m\u001b[0;34m,\u001b[0m \u001b[0mother\u001b[0m\u001b[0;34m)\u001b[0m\u001b[0;34m:\u001b[0m\u001b[0;34m\u001b[0m\u001b[0m\n",
      "\u001b[0;31mKeyboardInterrupt\u001b[0m: "
     ]
    }
   ],
   "source": [
    "dbFull = client['goodreads_full']\n",
    "commSets = [set(comm) for comm in allComms]\n",
    "\n",
    "for j, b in enumerate(dbFull['books'].find()):\n",
    "    bookID = b['bookID']\n",
    "    ratingSet = set([int(k) for k in b['ratings'].keys()])\n",
    "    commsOfRaters = [i for i, comm in enumerate(commSets)\\\n",
    "                    if len(comm & ratingSet) > 0]\n",
    "    dbFull['books'].update_one(\n",
    "            {\"bookID\": bookID},\n",
    "            {\"$set\": {'commsOfRaters': commsOfRaters}},\n",
    "            upsert=True)\n",
    "    if j % 1000 == 0:\n",
    "        print float(j) / dbFull['books'].count()"
   ]
  },
  {
   "cell_type": "code",
   "execution_count": 346,
   "metadata": {
    "collapsed": false
   },
   "outputs": [
    {
     "name": "stdout",
     "output_type": "stream",
     "text": [
      "102096\n",
      "1803\n",
      "325\n",
      "391\n"
     ]
    }
   ],
   "source": [
    "booksToExclude = set()\n",
    "booksToInclude = set()\n",
    "\n",
    "usersToExclude = set()\n",
    "usersToInclude = set()\n",
    "\n",
    "\n",
    "allCommIDs = set([uID for comm in allComms for uID in comm])\n",
    "\n",
    "for b in books.find():\n",
    "    if len(b['commsOfRaters']) < 1 or len(b['ratings']) < 5:\n",
    "        booksToExclude.add(b['bookID'])\n",
    "    else:\n",
    "        booksToInclude.add(b['bookID'])\n",
    "\n",
    "for r in ratings.find():\n",
    "    curUID = r['userID']\n",
    "    if curUID in allCommIDs:\n",
    "        usersToInclude.add(curUID)\n",
    "    else:\n",
    "        usersToExclude.add(curUID)\n",
    "\n",
    "print len(booksToExclude)\n",
    "print len(booksToInclude)\n",
    "\n",
    "print len(usersToExclude)\n",
    "print len(usersToInclude)"
   ]
  },
  {
   "cell_type": "code",
   "execution_count": 347,
   "metadata": {
    "collapsed": false
   },
   "outputs": [],
   "source": [
    "commDict = {uID: i for i, comm in enumerate(allComms) for uID in comm}"
   ]
  },
  {
   "cell_type": "code",
   "execution_count": 348,
   "metadata": {
    "collapsed": false
   },
   "outputs": [],
   "source": [
    "glRatingDict = makeRatingDictForGL(ratings, commDict, booksToExclude, usersToExclude)\n",
    "glRatings = gl.SFrame(glRatingDict)"
   ]
  },
  {
   "cell_type": "code",
   "execution_count": 349,
   "metadata": {
    "collapsed": false
   },
   "outputs": [],
   "source": [
    "glRatingsTrain, glRatingsTest = gl.recommender.util.random_split_by_user(glRatings, \n",
    "                                                    user_id=\"userID\", \n",
    "                                                    item_id=\"bookID\")"
   ]
  },
  {
   "cell_type": "code",
   "execution_count": 350,
   "metadata": {
    "collapsed": false
   },
   "outputs": [
    {
     "data": {
      "text/plain": [
       "count    1803.000000\n",
       "mean       10.530227\n",
       "std        10.395751\n",
       "min         5.000000\n",
       "25%         5.000000\n",
       "50%         7.000000\n",
       "75%        11.000000\n",
       "max       119.000000\n",
       "dtype: float64"
      ]
     },
     "execution_count": 350,
     "metadata": {},
     "output_type": "execute_result"
    }
   ],
   "source": [
    "nBookCounts = []\n",
    "for b in books.find({'bookID': {'$in': list(booksToInclude)}}):\n",
    "    nBookCounts.append(len(b['ratings']))\n",
    "nBookCounts = pd.Series(nBookCounts)\n",
    "nBookCounts.describe()"
   ]
  },
  {
   "cell_type": "code",
   "execution_count": 351,
   "metadata": {
    "collapsed": false
   },
   "outputs": [
    {
     "name": "stdout",
     "output_type": "stream",
     "text": [
      "20473 367 1800\n",
      "9.44762344255\n",
      "4.72381172127\n",
      "3.14920781418\n",
      "2.36190586064\n",
      "1.88952468851\n"
     ]
    }
   ],
   "source": [
    "nTrainObs = glRatingsTrain.shape[0]\n",
    "nTrainUsers = len(glRatingsTrain['userID'].unique())\n",
    "nTrainItems = len(glRatingsTrain['bookID'].unique())\n",
    "\n",
    "print nTrainObs, nTrainUsers, nTrainItems\n",
    "\n",
    "for n in range(1,6):\n",
    "    print nTrainObs / (n*float(nTrainUsers + nTrainItems))"
   ]
  },
  {
   "cell_type": "code",
   "execution_count": 352,
   "metadata": {
    "collapsed": false
   },
   "outputs": [
    {
     "data": {
      "text/plain": [
       "(0, 35)"
      ]
     },
     "execution_count": 352,
     "metadata": {},
     "output_type": "execute_result"
    },
    {
     "data": {
      "image/png": "[encoded data removed]",
      "text/plain": [
       "<matplotlib.figure.Figure at 0x7fa1d5677610>"
      ]
     },
     "metadata": {},
     "output_type": "display_data"
    }
   ],
   "source": [
    "plt.hist(nBookCounts,range(2,35));\n",
    "plt.xlim(0,35)"
   ]
  },
  {
   "cell_type": "code",
   "execution_count": 356,
   "metadata": {
    "collapsed": false
   },
   "outputs": [
    {
     "data": {
      "image/png": "[encoded data removed]",
      "text/plain": [
       "<matplotlib.figure.Figure at 0x7fa190105e50>"
      ]
     },
     "metadata": {},
     "output_type": "display_data"
    }
   ],
   "source": [
    "def get_cdf(a):\n",
    "    sortedA = np.sort(a)\n",
    "    yvals = np.arange(len(sortedA))/float(len(sortedA))\n",
    "    return sortedA, yvals\n",
    "\n",
    "sortedA, yvals = get_cdf(nBookCounts)\n",
    "plt.plot(sortedA, yvals);\n",
    "plt.xlim(0,50);\n",
    "#plt.ylim(0.5,1);"
   ]
  },
  {
   "cell_type": "code",
   "execution_count": 357,
   "metadata": {
    "collapsed": false
   },
   "outputs": [
    {
     "data": {
      "text/html": [
       "<div style=\"max-height:1000px;max-width:1500px;overflow:auto;\"><table frame=\"box\" rules=\"cols\">\n",
       "    <tr>\n",
       "        <th style=\"padding-left: 1em; padding-right: 1em; text-align: center\">comm</th>\n",
       "        <th style=\"padding-left: 1em; padding-right: 1em; text-align: center\">meanRatingByComm</th>\n",
       "    </tr>\n",
       "    <tr>\n",
       "        <td style=\"padding-left: 1em; padding-right: 1em; text-align: center; vertical-align: top\">2</td>\n",
       "        <td style=\"padding-left: 1em; padding-right: 1em; text-align: center; vertical-align: top\">3.74623267028</td>\n",
       "    </tr>\n",
       "    <tr>\n",
       "        <td style=\"padding-left: 1em; padding-right: 1em; text-align: center; vertical-align: top\">3</td>\n",
       "        <td style=\"padding-left: 1em; padding-right: 1em; text-align: center; vertical-align: top\">3.83446272991</td>\n",
       "    </tr>\n",
       "    <tr>\n",
       "        <td style=\"padding-left: 1em; padding-right: 1em; text-align: center; vertical-align: top\">0</td>\n",
       "        <td style=\"padding-left: 1em; padding-right: 1em; text-align: center; vertical-align: top\">4.00854700855</td>\n",
       "    </tr>\n",
       "    <tr>\n",
       "        <td style=\"padding-left: 1em; padding-right: 1em; text-align: center; vertical-align: top\">6</td>\n",
       "        <td style=\"padding-left: 1em; padding-right: 1em; text-align: center; vertical-align: top\">4.08051529791</td>\n",
       "    </tr>\n",
       "    <tr>\n",
       "        <td style=\"padding-left: 1em; padding-right: 1em; text-align: center; vertical-align: top\">1</td>\n",
       "        <td style=\"padding-left: 1em; padding-right: 1em; text-align: center; vertical-align: top\">4.06194690265</td>\n",
       "    </tr>\n",
       "    <tr>\n",
       "        <td style=\"padding-left: 1em; padding-right: 1em; text-align: center; vertical-align: top\">4</td>\n",
       "        <td style=\"padding-left: 1em; padding-right: 1em; text-align: center; vertical-align: top\">3.55424528302</td>\n",
       "    </tr>\n",
       "    <tr>\n",
       "        <td style=\"padding-left: 1em; padding-right: 1em; text-align: center; vertical-align: top\">16</td>\n",
       "        <td style=\"padding-left: 1em; padding-right: 1em; text-align: center; vertical-align: top\">3.70967741935</td>\n",
       "    </tr>\n",
       "    <tr>\n",
       "        <td style=\"padding-left: 1em; padding-right: 1em; text-align: center; vertical-align: top\">15</td>\n",
       "        <td style=\"padding-left: 1em; padding-right: 1em; text-align: center; vertical-align: top\">3.7641025641</td>\n",
       "    </tr>\n",
       "    <tr>\n",
       "        <td style=\"padding-left: 1em; padding-right: 1em; text-align: center; vertical-align: top\">10</td>\n",
       "        <td style=\"padding-left: 1em; padding-right: 1em; text-align: center; vertical-align: top\">3.78947368421</td>\n",
       "    </tr>\n",
       "    <tr>\n",
       "        <td style=\"padding-left: 1em; padding-right: 1em; text-align: center; vertical-align: top\">18</td>\n",
       "        <td style=\"padding-left: 1em; padding-right: 1em; text-align: center; vertical-align: top\">3.79061685491</td>\n",
       "    </tr>\n",
       "</table>\n",
       "[30 rows x 2 columns]<br/>Note: Only the head of the SFrame is printed.<br/>You can use print_rows(num_rows=m, num_columns=n) to print more rows and columns.\n",
       "</div>"
      ],
      "text/plain": [
       "Columns:\n",
       "\tcomm\tint\n",
       "\tmeanRatingByComm\tfloat\n",
       "\n",
       "Rows: 30\n",
       "\n",
       "Data:\n",
       "+------+------------------+\n",
       "| comm | meanRatingByComm |\n",
       "+------+------------------+\n",
       "|  2   |  3.74623267028   |\n",
       "|  3   |  3.83446272991   |\n",
       "|  0   |  4.00854700855   |\n",
       "|  6   |  4.08051529791   |\n",
       "|  1   |  4.06194690265   |\n",
       "|  4   |  3.55424528302   |\n",
       "|  16  |  3.70967741935   |\n",
       "|  15  |   3.7641025641   |\n",
       "|  10  |  3.78947368421   |\n",
       "|  18  |  3.79061685491   |\n",
       "+------+------------------+\n",
       "[30 rows x 2 columns]\n",
       "Note: Only the head of the SFrame is printed.\n",
       "You can use print_rows(num_rows=m, num_columns=n) to print more rows and columns."
      ]
     },
     "execution_count": 357,
     "metadata": {},
     "output_type": "execute_result"
    }
   ],
   "source": [
    "glCommMeansTrain = glRatingsTrain.groupby(['comm'], {'meanRatingByComm': gl.aggregate.MEAN('rating')})\n",
    "glCommMeansTrain"
   ]
  },
  {
   "cell_type": "code",
   "execution_count": 358,
   "metadata": {
    "collapsed": false
   },
   "outputs": [
    {
     "data": {
      "text/html": [
       "<div style=\"max-height:1000px;max-width:1500px;overflow:auto;\"><table frame=\"box\" rules=\"cols\">\n",
       "    <tr>\n",
       "        <th style=\"padding-left: 1em; padding-right: 1em; text-align: center\">bookID</th>\n",
       "        <th style=\"padding-left: 1em; padding-right: 1em; text-align: center\">comm</th>\n",
       "        <th style=\"padding-left: 1em; padding-right: 1em; text-align: center\">meanBookRatingByComm</th>\n",
       "    </tr>\n",
       "    <tr>\n",
       "        <td style=\"padding-left: 1em; padding-right: 1em; text-align: center; vertical-align: top\">19501</td>\n",
       "        <td style=\"padding-left: 1em; padding-right: 1em; text-align: center; vertical-align: top\">12</td>\n",
       "        <td style=\"padding-left: 1em; padding-right: 1em; text-align: center; vertical-align: top\">3.0</td>\n",
       "    </tr>\n",
       "    <tr>\n",
       "        <td style=\"padding-left: 1em; padding-right: 1em; text-align: center; vertical-align: top\">420282</td>\n",
       "        <td style=\"padding-left: 1em; padding-right: 1em; text-align: center; vertical-align: top\">2</td>\n",
       "        <td style=\"padding-left: 1em; padding-right: 1em; text-align: center; vertical-align: top\">5.0</td>\n",
       "    </tr>\n",
       "    <tr>\n",
       "        <td style=\"padding-left: 1em; padding-right: 1em; text-align: center; vertical-align: top\">216363</td>\n",
       "        <td style=\"padding-left: 1em; padding-right: 1em; text-align: center; vertical-align: top\">4</td>\n",
       "        <td style=\"padding-left: 1em; padding-right: 1em; text-align: center; vertical-align: top\">3.0</td>\n",
       "    </tr>\n",
       "    <tr>\n",
       "        <td style=\"padding-left: 1em; padding-right: 1em; text-align: center; vertical-align: top\">77013</td>\n",
       "        <td style=\"padding-left: 1em; padding-right: 1em; text-align: center; vertical-align: top\">12</td>\n",
       "        <td style=\"padding-left: 1em; padding-right: 1em; text-align: center; vertical-align: top\">3.33333333333</td>\n",
       "    </tr>\n",
       "    <tr>\n",
       "        <td style=\"padding-left: 1em; padding-right: 1em; text-align: center; vertical-align: top\">22328</td>\n",
       "        <td style=\"padding-left: 1em; padding-right: 1em; text-align: center; vertical-align: top\">3</td>\n",
       "        <td style=\"padding-left: 1em; padding-right: 1em; text-align: center; vertical-align: top\">5.0</td>\n",
       "    </tr>\n",
       "    <tr>\n",
       "        <td style=\"padding-left: 1em; padding-right: 1em; text-align: center; vertical-align: top\">77168</td>\n",
       "        <td style=\"padding-left: 1em; padding-right: 1em; text-align: center; vertical-align: top\">12</td>\n",
       "        <td style=\"padding-left: 1em; padding-right: 1em; text-align: center; vertical-align: top\">3.0</td>\n",
       "    </tr>\n",
       "    <tr>\n",
       "        <td style=\"padding-left: 1em; padding-right: 1em; text-align: center; vertical-align: top\">4953</td>\n",
       "        <td style=\"padding-left: 1em; padding-right: 1em; text-align: center; vertical-align: top\">23</td>\n",
       "        <td style=\"padding-left: 1em; padding-right: 1em; text-align: center; vertical-align: top\">3.5</td>\n",
       "    </tr>\n",
       "    <tr>\n",
       "        <td style=\"padding-left: 1em; padding-right: 1em; text-align: center; vertical-align: top\">64865</td>\n",
       "        <td style=\"padding-left: 1em; padding-right: 1em; text-align: center; vertical-align: top\">24</td>\n",
       "        <td style=\"padding-left: 1em; padding-right: 1em; text-align: center; vertical-align: top\">3.0</td>\n",
       "    </tr>\n",
       "    <tr>\n",
       "        <td style=\"padding-left: 1em; padding-right: 1em; text-align: center; vertical-align: top\">6149</td>\n",
       "        <td style=\"padding-left: 1em; padding-right: 1em; text-align: center; vertical-align: top\">2</td>\n",
       "        <td style=\"padding-left: 1em; padding-right: 1em; text-align: center; vertical-align: top\">5.0</td>\n",
       "    </tr>\n",
       "    <tr>\n",
       "        <td style=\"padding-left: 1em; padding-right: 1em; text-align: center; vertical-align: top\">17262203</td>\n",
       "        <td style=\"padding-left: 1em; padding-right: 1em; text-align: center; vertical-align: top\">4</td>\n",
       "        <td style=\"padding-left: 1em; padding-right: 1em; text-align: center; vertical-align: top\">3.0</td>\n",
       "    </tr>\n",
       "</table>\n",
       "[12180 rows x 3 columns]<br/>Note: Only the head of the SFrame is printed.<br/>You can use print_rows(num_rows=m, num_columns=n) to print more rows and columns.\n",
       "</div>"
      ],
      "text/plain": [
       "Columns:\n",
       "\tbookID\tstr\n",
       "\tcomm\tint\n",
       "\tmeanBookRatingByComm\tfloat\n",
       "\n",
       "Rows: 12180\n",
       "\n",
       "Data:\n",
       "+----------+------+----------------------+\n",
       "|  bookID  | comm | meanBookRatingByComm |\n",
       "+----------+------+----------------------+\n",
       "|  19501   |  12  |         3.0          |\n",
       "|  420282  |  2   |         5.0          |\n",
       "|  216363  |  4   |         3.0          |\n",
       "|  77013   |  12  |    3.33333333333     |\n",
       "|  22328   |  3   |         5.0          |\n",
       "|  77168   |  12  |         3.0          |\n",
       "|   4953   |  23  |         3.5          |\n",
       "|  64865   |  24  |         3.0          |\n",
       "|   6149   |  2   |         5.0          |\n",
       "| 17262203 |  4   |         3.0          |\n",
       "+----------+------+----------------------+\n",
       "[12180 rows x 3 columns]\n",
       "Note: Only the head of the SFrame is printed.\n",
       "You can use print_rows(num_rows=m, num_columns=n) to print more rows and columns."
      ]
     },
     "execution_count": 358,
     "metadata": {},
     "output_type": "execute_result"
    }
   ],
   "source": [
    "glCommBookMeansTrain = glRatingsTrain.groupby(['comm', 'bookID'], {'meanBookRatingByComm': gl.aggregate.MEAN('rating')})\n",
    "glCommBookMeansTrain"
   ]
  },
  {
   "cell_type": "code",
   "execution_count": 359,
   "metadata": {
    "collapsed": false
   },
   "outputs": [],
   "source": [
    "commMeansTrain = {}\n",
    "commBookMeansTrain = {}\n",
    "\n",
    "for row in glCommMeansTrain:\n",
    "    commMeansTrain[row['comm']] = row['meanRatingByComm']\n",
    "    \n",
    "for row in glCommBookMeansTrain:\n",
    "    commBookMeansTrain[(row['bookID'], row['comm'])] = row['meanBookRatingByComm']\n",
    "\n",
    "    \n",
    "glRatingsTrainWithComm = glRatingsTrain.copy()\n",
    "glRatingsTestWithComm = glRatingsTest.copy()\n",
    "\n",
    "if 'comm' in glRatingsTrain.column_names():\n",
    "    glRatingsTrain.remove_column('comm');\n",
    "if 'comm' in glRatingsTest.column_names():\n",
    "    glRatingsTest.remove_column('comm');"
   ]
  },
  {
   "cell_type": "code",
   "execution_count": 381,
   "metadata": {
    "collapsed": false
   },
   "outputs": [
    {
     "name": "stdout",
     "output_type": "stream",
     "text": [
      "12180 30 1800\n",
      "6.65573770492\n",
      "3.32786885246\n",
      "2.21857923497\n",
      "1.66393442623\n",
      "1.33114754098\n"
     ]
    }
   ],
   "source": [
    "nTrainObs = glCommBookMeansTrain.shape[0]\n",
    "nTrainUsers = len(glCommBookMeansTrain['comm'].unique())\n",
    "nTrainItems = len(glCommBookMeansTrain['bookID'].unique())\n",
    "\n",
    "print nTrainObs, nTrainUsers, nTrainItems\n",
    "\n",
    "for n in range(1,6):\n",
    "    print nTrainObs / (n*float(nTrainUsers + nTrainItems))"
   ]
  },
  {
   "cell_type": "code",
   "execution_count": null,
   "metadata": {
    "collapsed": true
   },
   "outputs": [],
   "source": [
    "#FACTORIZING COMM MEANS"
   ]
  },
  {
   "cell_type": "code",
   "execution_count": 382,
   "metadata": {
    "collapsed": false
   },
   "outputs": [
    {
     "data": {
      "text/html": [
       "<pre>Recsys training: model = factorization_recommender</pre>"
      ],
      "text/plain": [
       "Recsys training: model = factorization_recommender"
      ]
     },
     "metadata": {},
     "output_type": "display_data"
    },
    {
     "data": {
      "text/html": [
       "<pre>Preparing data set.</pre>"
      ],
      "text/plain": [
       "Preparing data set."
      ]
     },
     "metadata": {},
     "output_type": "display_data"
    },
    {
     "data": {
      "text/html": [
       "<pre>    Data has 12180 observations with 30 users and 1800 items.</pre>"
      ],
      "text/plain": [
       "    Data has 12180 observations with 30 users and 1800 items."
      ]
     },
     "metadata": {},
     "output_type": "display_data"
    },
    {
     "data": {
      "text/html": [
       "<pre>    Data prepared in: 0.109099s</pre>"
      ],
      "text/plain": [
       "    Data prepared in: 0.109099s"
      ]
     },
     "metadata": {},
     "output_type": "display_data"
    },
    {
     "data": {
      "text/html": [
       "<pre>Training factorization_recommender for recommendations.</pre>"
      ],
      "text/plain": [
       "Training factorization_recommender for recommendations."
      ]
     },
     "metadata": {},
     "output_type": "display_data"
    },
    {
     "data": {
      "text/html": [
       "<pre>+--------------------------------+--------------------------------------------------+----------+</pre>"
      ],
      "text/plain": [
       "+--------------------------------+--------------------------------------------------+----------+"
      ]
     },
     "metadata": {},
     "output_type": "display_data"
    },
    {
     "data": {
      "text/html": [
       "<pre>| Parameter                      | Description                                      | Value    |</pre>"
      ],
      "text/plain": [
       "| Parameter                      | Description                                      | Value    |"
      ]
     },
     "metadata": {},
     "output_type": "display_data"
    },
    {
     "data": {
      "text/html": [
       "<pre>+--------------------------------+--------------------------------------------------+----------+</pre>"
      ],
      "text/plain": [
       "+--------------------------------+--------------------------------------------------+----------+"
      ]
     },
     "metadata": {},
     "output_type": "display_data"
    },
    {
     "data": {
      "text/html": [
       "<pre>| num_factors                    | Factor Dimension                                 | 4        |</pre>"
      ],
      "text/plain": [
       "| num_factors                    | Factor Dimension                                 | 4        |"
      ]
     },
     "metadata": {},
     "output_type": "display_data"
    },
    {
     "data": {
      "text/html": [
       "<pre>| regularization                 | L2 Regularization on Factors                     | 0.001    |</pre>"
      ],
      "text/plain": [
       "| regularization                 | L2 Regularization on Factors                     | 0.001    |"
      ]
     },
     "metadata": {},
     "output_type": "display_data"
    },
    {
     "data": {
      "text/html": [
       "<pre>| solver                         | Solver used for training                         | sgd      |</pre>"
      ],
      "text/plain": [
       "| solver                         | Solver used for training                         | sgd      |"
      ]
     },
     "metadata": {},
     "output_type": "display_data"
    },
    {
     "data": {
      "text/html": [
       "<pre>| linear_regularization          | L2 Regularization on Linear Coefficients         | 1e-12    |</pre>"
      ],
      "text/plain": [
       "| linear_regularization          | L2 Regularization on Linear Coefficients         | 1e-12    |"
      ]
     },
     "metadata": {},
     "output_type": "display_data"
    },
    {
     "data": {
      "text/html": [
       "<pre>| max_iterations                 | Maximum Number of Iterations                     | 200      |</pre>"
      ],
      "text/plain": [
       "| max_iterations                 | Maximum Number of Iterations                     | 200      |"
      ]
     },
     "metadata": {},
     "output_type": "display_data"
    },
    {
     "data": {
      "text/html": [
       "<pre>+--------------------------------+--------------------------------------------------+----------+</pre>"
      ],
      "text/plain": [
       "+--------------------------------+--------------------------------------------------+----------+"
      ]
     },
     "metadata": {},
     "output_type": "display_data"
    },
    {
     "data": {
      "text/html": [
       "<pre>  Optimizing model using SGD; tuning step size.</pre>"
      ],
      "text/plain": [
       "  Optimizing model using SGD; tuning step size."
      ]
     },
     "metadata": {},
     "output_type": "display_data"
    },
    {
     "data": {
      "text/html": [
       "<pre>  Using 10000 / 12180 points for tuning the step size.</pre>"
      ],
      "text/plain": [
       "  Using 10000 / 12180 points for tuning the step size."
      ]
     },
     "metadata": {},
     "output_type": "display_data"
    },
    {
     "data": {
      "text/html": [
       "<pre>+---------+-------------------+------------------------------------------+</pre>"
      ],
      "text/plain": [
       "+---------+-------------------+------------------------------------------+"
      ]
     },
     "metadata": {},
     "output_type": "display_data"
    },
    {
     "data": {
      "text/html": [
       "<pre>| Attempt | Initial Step Size | Estimated Objective Value                |</pre>"
      ],
      "text/plain": [
       "| Attempt | Initial Step Size | Estimated Objective Value                |"
      ]
     },
     "metadata": {},
     "output_type": "display_data"
    },
    {
     "data": {
      "text/html": [
       "<pre>+---------+-------------------+------------------------------------------+</pre>"
      ],
      "text/plain": [
       "+---------+-------------------+------------------------------------------+"
      ]
     },
     "metadata": {},
     "output_type": "display_data"
    },
    {
     "data": {
      "text/html": [
       "<pre>| 0       | 6.03122           | Not Viable                               |</pre>"
      ],
      "text/plain": [
       "| 0       | 6.03122           | Not Viable                               |"
      ]
     },
     "metadata": {},
     "output_type": "display_data"
    },
    {
     "data": {
      "text/html": [
       "<pre>| 1       | 1.50781           | 0.711133                                 |</pre>"
      ],
      "text/plain": [
       "| 1       | 1.50781           | 0.711133                                 |"
      ]
     },
     "metadata": {},
     "output_type": "display_data"
    },
    {
     "data": {
      "text/html": [
       "<pre>| 2       | 0.753903          | Not Viable                               |</pre>"
      ],
      "text/plain": [
       "| 2       | 0.753903          | Not Viable                               |"
      ]
     },
     "metadata": {},
     "output_type": "display_data"
    },
    {
     "data": {
      "text/html": [
       "<pre>| 3       | 0.188476          | 0.739148                                 |</pre>"
      ],
      "text/plain": [
       "| 3       | 0.188476          | 0.739148                                 |"
      ]
     },
     "metadata": {},
     "output_type": "display_data"
    },
    {
     "data": {
      "text/html": [
       "<pre>| 4       | 0.0942379         | 0.55651                                  |</pre>"
      ],
      "text/plain": [
       "| 4       | 0.0942379         | 0.55651                                  |"
      ]
     },
     "metadata": {},
     "output_type": "display_data"
    },
    {
     "data": {
      "text/html": [
       "<pre>| 5       | 0.0471189         | 0.569675                                 |</pre>"
      ],
      "text/plain": [
       "| 5       | 0.0471189         | 0.569675                                 |"
      ]
     },
     "metadata": {},
     "output_type": "display_data"
    },
    {
     "data": {
      "text/html": [
       "<pre>| 6       | 0.0235595         | 0.599688                                 |</pre>"
      ],
      "text/plain": [
       "| 6       | 0.0235595         | 0.599688                                 |"
      ]
     },
     "metadata": {},
     "output_type": "display_data"
    },
    {
     "data": {
      "text/html": [
       "<pre>| 7       | 0.0117797         | 0.647495                                 |</pre>"
      ],
      "text/plain": [
       "| 7       | 0.0117797         | 0.647495                                 |"
      ]
     },
     "metadata": {},
     "output_type": "display_data"
    },
    {
     "data": {
      "text/html": [
       "<pre>+---------+-------------------+------------------------------------------+</pre>"
      ],
      "text/plain": [
       "+---------+-------------------+------------------------------------------+"
      ]
     },
     "metadata": {},
     "output_type": "display_data"
    },
    {
     "data": {
      "text/html": [
       "<pre>| Final   | 0.0942379         | 0.55651                                  |</pre>"
      ],
      "text/plain": [
       "| Final   | 0.0942379         | 0.55651                                  |"
      ]
     },
     "metadata": {},
     "output_type": "display_data"
    },
    {
     "data": {
      "text/html": [
       "<pre>+---------+-------------------+------------------------------------------+</pre>"
      ],
      "text/plain": [
       "+---------+-------------------+------------------------------------------+"
      ]
     },
     "metadata": {},
     "output_type": "display_data"
    },
    {
     "data": {
      "text/html": [
       "<pre>Starting Optimization.</pre>"
      ],
      "text/plain": [
       "Starting Optimization."
      ]
     },
     "metadata": {},
     "output_type": "display_data"
    },
    {
     "data": {
      "text/html": [
       "<pre>+---------+--------------+-------------------+-----------------------+-------------+</pre>"
      ],
      "text/plain": [
       "+---------+--------------+-------------------+-----------------------+-------------+"
      ]
     },
     "metadata": {},
     "output_type": "display_data"
    },
    {
     "data": {
      "text/html": [
       "<pre>| Iter.   | Elapsed Time | Approx. Objective | Approx. Training RMSE | Step Size   |</pre>"
      ],
      "text/plain": [
       "| Iter.   | Elapsed Time | Approx. Objective | Approx. Training RMSE | Step Size   |"
      ]
     },
     "metadata": {},
     "output_type": "display_data"
    },
    {
     "data": {
      "text/html": [
       "<pre>+---------+--------------+-------------------+-----------------------+-------------+</pre>"
      ],
      "text/plain": [
       "+---------+--------------+-------------------+-----------------------+-------------+"
      ]
     },
     "metadata": {},
     "output_type": "display_data"
    },
    {
     "data": {
      "text/html": [
       "<pre>| Initial | 64us         | 0.798429          | 0.893548              |             |</pre>"
      ],
      "text/plain": [
       "| Initial | 64us         | 0.798429          | 0.893548              |             |"
      ]
     },
     "metadata": {},
     "output_type": "display_data"
    },
    {
     "data": {
      "text/html": [
       "<pre>+---------+--------------+-------------------+-----------------------+-------------+</pre>"
      ],
      "text/plain": [
       "+---------+--------------+-------------------+-----------------------+-------------+"
      ]
     },
     "metadata": {},
     "output_type": "display_data"
    },
    {
     "data": {
      "text/html": [
       "<pre>| 1       | 659.481ms    | 0.822353          | 0.906832              | 0.0942379   |</pre>"
      ],
      "text/plain": [
       "| 1       | 659.481ms    | 0.822353          | 0.906832              | 0.0942379   |"
      ]
     },
     "metadata": {},
     "output_type": "display_data"
    },
    {
     "data": {
      "text/html": [
       "<pre>| 2       | 1.29s        | 0.659511          | 0.812091              | 0.0438761   |</pre>"
      ],
      "text/plain": [
       "| 2       | 1.29s        | 0.659511          | 0.812091              | 0.0438761   |"
      ]
     },
     "metadata": {},
     "output_type": "display_data"
    },
    {
     "data": {
      "text/html": [
       "<pre>| 3       | 1.90s        | 0.620421          | 0.787625              | 0.0285948   |</pre>"
      ],
      "text/plain": [
       "| 3       | 1.90s        | 0.620421          | 0.787625              | 0.0285948   |"
      ]
     },
     "metadata": {},
     "output_type": "display_data"
    },
    {
     "data": {
      "text/html": [
       "<pre>| 4       | 2.54s        | 0.600833          | 0.775001              | 0.0203421   |</pre>"
      ],
      "text/plain": [
       "| 4       | 2.54s        | 0.600833          | 0.775001              | 0.0203421   |"
      ]
     },
     "metadata": {},
     "output_type": "display_data"
    },
    {
     "data": {
      "text/html": [
       "<pre>| 5       | 3.14s        | 0.593714          | 0.770187              | 0.0163028   |</pre>"
      ],
      "text/plain": [
       "| 5       | 3.14s        | 0.593714          | 0.770187              | 0.0163028   |"
      ]
     },
     "metadata": {},
     "output_type": "display_data"
    },
    {
     "data": {
      "text/html": [
       "<pre>| 6       | 3.79s        | 0.586349          | 0.764979              | 0.0136019   |</pre>"
      ],
      "text/plain": [
       "| 6       | 3.79s        | 0.586349          | 0.764979              | 0.0136019   |"
      ]
     },
     "metadata": {},
     "output_type": "display_data"
    },
    {
     "data": {
      "text/html": [
       "<pre>| 10      | 6.31s        | 0.572284          | 0.749686              | 0.00818068  |</pre>"
      ],
      "text/plain": [
       "| 10      | 6.31s        | 0.572284          | 0.749686              | 0.00818068  |"
      ]
     },
     "metadata": {},
     "output_type": "display_data"
    },
    {
     "data": {
      "text/html": [
       "<pre>| 11      | 6.94s        | 0.570074          | 0.745153              | 0.00743941  |</pre>"
      ],
      "text/plain": [
       "| 11      | 6.94s        | 0.570074          | 0.745153              | 0.00743941  |"
      ]
     },
     "metadata": {},
     "output_type": "display_data"
    },
    {
     "data": {
      "text/html": [
       "<pre>| 15      | 9.47s        | 0.559892          | 0.721699              | 0.00546033  |</pre>"
      ],
      "text/plain": [
       "| 15      | 9.47s        | 0.559892          | 0.721699              | 0.00546033  |"
      ]
     },
     "metadata": {},
     "output_type": "display_data"
    },
    {
     "data": {
      "text/html": [
       "<pre>| 20      | 12.64s       | 0.551572          | 0.694563              | 0.0040977   |</pre>"
      ],
      "text/plain": [
       "| 20      | 12.64s       | 0.551572          | 0.694563              | 0.0040977   |"
      ]
     },
     "metadata": {},
     "output_type": "display_data"
    },
    {
     "data": {
      "text/html": [
       "<pre>| 25      | 15.82s       | 0.546187          | 0.671718              | 0.00327934  |</pre>"
      ],
      "text/plain": [
       "| 25      | 15.82s       | 0.546187          | 0.671718              | 0.00327934  |"
      ]
     },
     "metadata": {},
     "output_type": "display_data"
    },
    {
     "data": {
      "text/html": [
       "<pre>| 30      | 18.95s       | 0.543017          | 0.652511              | 0.00273344  |</pre>"
      ],
      "text/plain": [
       "| 30      | 18.95s       | 0.543017          | 0.652511              | 0.00273344  |"
      ]
     },
     "metadata": {},
     "output_type": "display_data"
    },
    {
     "data": {
      "text/html": [
       "<pre>| 35      | 22.16s       | 0.54063           | 0.635598              | 0.00234335  |</pre>"
      ],
      "text/plain": [
       "| 35      | 22.16s       | 0.54063           | 0.635598              | 0.00234335  |"
      ]
     },
     "metadata": {},
     "output_type": "display_data"
    },
    {
     "data": {
      "text/html": [
       "<pre>| 40      | 25.35s       | 0.539475          | 0.621333              | 0.0020507   |</pre>"
      ],
      "text/plain": [
       "| 40      | 25.35s       | 0.539475          | 0.621333              | 0.0020507   |"
      ]
     },
     "metadata": {},
     "output_type": "display_data"
    },
    {
     "data": {
      "text/html": [
       "<pre>| 45      | 28.55s       | 0.53907           | 0.609623              | 0.00179487  |</pre>"
      ],
      "text/plain": [
       "| 45      | 28.55s       | 0.53907           | 0.609623              | 0.00179487  |"
      ]
     },
     "metadata": {},
     "output_type": "display_data"
    },
    {
     "data": {
      "text/html": [
       "<pre>| 50      | 31.73s       | 0.536624          | 0.59873               | 0.000996444 |</pre>"
      ],
      "text/plain": [
       "| 50      | 31.73s       | 0.536624          | 0.59873               | 0.000996444 |"
      ]
     },
     "metadata": {},
     "output_type": "display_data"
    },
    {
     "data": {
      "text/html": [
       "<pre>| 51      | 32.37s       | 0.535907          | 0.597234              | 0.000825554 |</pre>"
      ],
      "text/plain": [
       "| 51      | 32.37s       | 0.535907          | 0.597234              | 0.000825554 |"
      ]
     },
     "metadata": {},
     "output_type": "display_data"
    },
    {
     "data": {
      "text/html": [
       "<pre>| 55      | 34.89s       | 0.534751          | 0.593732              | 0.000463851 |</pre>"
      ],
      "text/plain": [
       "| 55      | 34.89s       | 0.534751          | 0.593732              | 0.000463851 |"
      ]
     },
     "metadata": {},
     "output_type": "display_data"
    },
    {
     "data": {
      "text/html": [
       "<pre>| 60      | 38.07s       | 0.533946          | 0.591432              | 0.000217274 |</pre>"
      ],
      "text/plain": [
       "| 60      | 38.07s       | 0.533946          | 0.591432              | 0.000217274 |"
      ]
     },
     "metadata": {},
     "output_type": "display_data"
    },
    {
     "data": {
      "text/html": [
       "<pre>| 65      | 41.26s       | 0.533672          | 0.590397              | 0.000121664 |</pre>"
      ],
      "text/plain": [
       "| 65      | 41.26s       | 0.533672          | 0.590397              | 0.000121664 |"
      ]
     },
     "metadata": {},
     "output_type": "display_data"
    },
    {
     "data": {
      "text/html": [
       "<pre>| 70      | 44.52s       | 0.533457          | 0.589827              | 5.75433e-05 |</pre>"
      ],
      "text/plain": [
       "| 70      | 44.52s       | 0.533457          | 0.589827              | 5.75433e-05 |"
      ]
     },
     "metadata": {},
     "output_type": "display_data"
    },
    {
     "data": {
      "text/html": [
       "<pre>| 75      | 47.74s       | 0.533359          | 0.589555              | 2.73207e-05 |</pre>"
      ],
      "text/plain": [
       "| 75      | 47.74s       | 0.533359          | 0.589555              | 2.73207e-05 |"
      ]
     },
     "metadata": {},
     "output_type": "display_data"
    },
    {
     "data": {
      "text/html": [
       "<pre>| 80      | 50.88s       | 0.533314          | 0.589423              | 1.30149e-05 |</pre>"
      ],
      "text/plain": [
       "| 80      | 50.88s       | 0.533314          | 0.589423              | 1.30149e-05 |"
      ]
     },
     "metadata": {},
     "output_type": "display_data"
    },
    {
     "data": {
      "text/html": [
       "<pre>| 85      | 54.02s       | 0.533297          | 0.589361              | 7.39471e-06 |</pre>"
      ],
      "text/plain": [
       "| 85      | 54.02s       | 0.533297          | 0.589361              | 7.39471e-06 |"
      ]
     },
     "metadata": {},
     "output_type": "display_data"
    },
    {
     "data": {
      "text/html": [
       "<pre>+---------+--------------+-------------------+-----------------------+-------------+</pre>"
      ],
      "text/plain": [
       "+---------+--------------+-------------------+-----------------------+-------------+"
      ]
     },
     "metadata": {},
     "output_type": "display_data"
    },
    {
     "data": {
      "text/html": [
       "<pre>Optimization Complete: Convergence on objective within bounds.</pre>"
      ],
      "text/plain": [
       "Optimization Complete: Convergence on objective within bounds."
      ]
     },
     "metadata": {},
     "output_type": "display_data"
    },
    {
     "data": {
      "text/html": [
       "<pre>Computing final objective value and training RMSE.</pre>"
      ],
      "text/plain": [
       "Computing final objective value and training RMSE."
      ]
     },
     "metadata": {},
     "output_type": "display_data"
    },
    {
     "data": {
      "text/html": [
       "<pre>       Final objective value: 0.533285</pre>"
      ],
      "text/plain": [
       "       Final objective value: 0.533285"
      ]
     },
     "metadata": {},
     "output_type": "display_data"
    },
    {
     "data": {
      "text/html": [
       "<pre>       Final training RMSE: 0.589344</pre>"
      ],
      "text/plain": [
       "       Final training RMSE: 0.589344"
      ]
     },
     "metadata": {},
     "output_type": "display_data"
    }
   ],
   "source": [
    "commMeans_rec_engine_baseline = gl.factorization_recommender.create(\n",
    "                                                    observation_data=glCommBookMeansTrain, \n",
    "                                                    user_id=\"comm\", \n",
    "                                                    item_id=\"bookID\", \n",
    "                                                    target='meanBookRatingByComm',\n",
    "                                                    num_factors=4,\n",
    "                                                    solver='auto',\n",
    "                                                    max_iterations=200,\n",
    "                                                    regularization = 1e-3,\n",
    "                                                    linear_regularization = 1e-12\n",
    "                                                    )"
   ]
  },
  {
   "cell_type": "code",
   "execution_count": null,
   "metadata": {
    "collapsed": true
   },
   "outputs": [],
   "source": []
  },
  {
   "cell_type": "code",
   "execution_count": null,
   "metadata": {
    "collapsed": true
   },
   "outputs": [],
   "source": []
  },
  {
   "cell_type": "code",
   "execution_count": null,
   "metadata": {
    "collapsed": true
   },
   "outputs": [],
   "source": []
  },
  {
   "cell_type": "code",
   "execution_count": 250,
   "metadata": {
    "collapsed": false
   },
   "outputs": [],
   "source": [
    "#SIMPLE PREDICTION FROM COMM MEANS\n",
    "def predictFromCommMeans(bookIDs, commIDs, commMeansTrain, commBookMeansTrain, useBookMeans):\n",
    "    predictedRatings = []\n",
    "    for bID, comm in zip(bookIDs, commIDs):\n",
    "        if useBookMeans and ((bID, comm) in commBookMeansTrain):\n",
    "            predictedRatings.append(commBookMeansTrain[(bID, comm)])\n",
    "        else:\n",
    "            predictedRatings.append(commMeansTrain[comm])\n",
    "    return np.array(predictedRatings)"
   ]
  },
  {
   "cell_type": "code",
   "execution_count": 380,
   "metadata": {
    "collapsed": false
   },
   "outputs": [
    {
     "name": "stdout",
     "output_type": "stream",
     "text": [
      "1.03126259896\n",
      "0.893865789104\n"
     ]
    }
   ],
   "source": [
    "preds = predictFromCommMeans(glRatingsTestWithComm['bookID'], glRatingsTestWithComm['comm'], commMeansTrain, commBookMeansTrain, True)\n",
    "sse = sum((np.array(preds) - glRatingsTest['rating'].to_numpy())**2)\n",
    "rmse = np.sqrt(sse/len(preds))\n",
    "print rmse\n",
    "\n",
    "preds = rec_engine_8.predict(glRatingsTest)\n",
    "sse = sum((np.array(preds) - glRatingsTest['rating'].to_numpy())**2)\n",
    "rmse = np.sqrt(sse/len(preds))\n",
    "print rmse"
   ]
  },
  {
   "cell_type": "code",
   "execution_count": 252,
   "metadata": {
    "collapsed": true
   },
   "outputs": [],
   "source": [
    "def mixedPred(glRatingsTestWithComm, commMeansTrain, commBookMeansTrain, rec_engine,\\\n",
    "              commMeans_rec_engine, socialRec, useBookMeans, meanWeight):\n",
    "    if socialRec:\n",
    "        preds = meanWeight*commMeans_rec_engine.predict(glRatingsTestWithComm['bookID', 'comm'])\n",
    "    else:\n",
    "        preds = meanWeight*predictFromCommMeans(\\\n",
    "                                              glRatingsTestWithComm['bookID'],\n",
    "                                              glRatingsTestWithComm['comm'],\n",
    "                                              commMeansTrain, commBookMeansTrain,\n",
    "                                              useBookMeans\n",
    "                                               )\n",
    "    preds += (1-meanWeight)*rec_engine.predict(glRatingsTestWithComm['bookID', 'userID'])\n",
    "    sse = sum((np.array(preds) - glRatingsTest['rating'].to_numpy())**2)\n",
    "    rmse = np.sqrt(sse/len(preds))\n",
    "    return preds, rmse"
   ]
  },
  {
   "cell_type": "code",
   "execution_count": 368,
   "metadata": {
    "collapsed": false
   },
   "outputs": [
    {
     "data": {
      "text/plain": [
       "1.0312625989644253"
      ]
     },
     "execution_count": 368,
     "metadata": {},
     "output_type": "execute_result"
    }
   ],
   "source": [
    "mixedPred(glRatingsTestWithComm, commMeansTrain, commBookMeansTrain, rec_engine_8,\\\n",
    "          commMeans_rec_engine_baseline, False, True, 1)[1]"
   ]
  },
  {
   "cell_type": "code",
   "execution_count": 369,
   "metadata": {
    "collapsed": false
   },
   "outputs": [
    {
     "data": {
      "text/plain": [
       "0.93351886796558314"
      ]
     },
     "execution_count": 369,
     "metadata": {},
     "output_type": "execute_result"
    }
   ],
   "source": [
    "mixedPred(glRatingsTestWithComm, commMeansTrain, commBookMeansTrain, rec_engine_8,\\\n",
    "          commMeans_rec_engine_baseline, True, True, 1)[1]"
   ]
  },
  {
   "cell_type": "code",
   "execution_count": 387,
   "metadata": {
    "collapsed": false
   },
   "outputs": [
    {
     "data": {
      "text/plain": [
       "[<matplotlib.lines.Line2D at 0x7fa1507b3e90>]"
      ]
     },
     "execution_count": 387,
     "metadata": {},
     "output_type": "execute_result"
    },
    {
     "data": {
      "image/png": "[encoded data removed]",
      "text/plain": [
       "<matplotlib.figure.Figure at 0x7fa1d4508090>"
      ]
     },
     "metadata": {},
     "output_type": "display_data"
    }
   ],
   "source": [
    "meanWeights = np.linspace(0,1,100)\n",
    "\n",
    "#SIMPLE PREDICTION FROM COMM MEANS\n",
    "rmsesSimple = []\n",
    "\n",
    "for weight in meanWeights:\n",
    "    rmsesSimple.append(\\\n",
    "                mixedPred(glRatingsTestWithComm, \\\n",
    "                          commMeansTrain, commBookMeansTrain, rec_engine_8, \\\n",
    "                          commMeans_rec_engine_baseline, False, True, weight)[1])\n",
    "\n",
    "#SIMPLE PREDICTION FROM COMM MEANS (no book means)\n",
    "rmsesSimpleNoBookMeans = []\n",
    "\n",
    "for weight in meanWeights:\n",
    "    rmsesSimpleNoBookMeans.append(\\\n",
    "                mixedPred(glRatingsTestWithComm, \\\n",
    "                          commMeansTrain, commBookMeansTrain, rec_engine_8, \\\n",
    "                          commMeans_rec_engine_baseline, False, False, weight)[1])\n",
    "    \n",
    "#FACTORIZING COMM MEANS\n",
    "rmsesFac = []\n",
    "for weight in meanWeights:\n",
    "    rmsesFac.append(\\\n",
    "                mixedPred(glRatingsTestWithComm, \\\n",
    "                          commMeansTrain, commBookMeansTrain, rec_engine_8, \\\n",
    "                          commMeans_rec_engine_baseline, True, True, weight)[1])\n",
    "\n",
    "plt.plot(meanWeights, rmsesSimple, '-');\n",
    "plt.plot(meanWeights, rmsesSimpleNoBookMeans, '-');\n",
    "plt.plot(meanWeights, rmsesFac, '-')"
   ]
  },
  {
   "cell_type": "code",
   "execution_count": 388,
   "metadata": {
    "collapsed": false
   },
   "outputs": [
    {
     "name": "stdout",
     "output_type": "stream",
     "text": [
      "0.20202020202\n",
      "0.883037218308\n",
      "\n",
      "0.292929292929\n",
      "0.882063448561\n"
     ]
    }
   ],
   "source": [
    "print meanWeights[np.argmin(rmsesSimple)]\n",
    "print rmsesSimple[np.argmin(rmsesSimple)]\n",
    "\n",
    "print ''\n",
    "\n",
    "print meanWeights[np.argmin(rmsesSimpleNoBookMeans)]\n",
    "print rmsesSimpleNoBookMeans[np.argmin(rmsesSimpleNoBookMeans)]"
   ]
  },
  {
   "cell_type": "code",
   "execution_count": 389,
   "metadata": {
    "collapsed": false
   },
   "outputs": [],
   "source": [
    "randCommIndices = {i: j for i, j in enumerate(np.random.permutation(len(allComms)))}\n",
    "\n",
    "sanityCheck_commMeansTrain = {}\n",
    "sanityCheck_commBookMeansTrain = {}\n",
    "\n",
    "for row in glCommMeansTrain:\n",
    "    sanityCheck_commMeansTrain[randCommIndices[row['comm']]] = row['meanRatingByComm']\n",
    "    \n",
    "for row in glCommBookMeansTrain:\n",
    "    sanityCheck_commBookMeansTrain[(row['bookID'], randCommIndices[row['comm']])]\\\n",
    "                                   = row['meanBookRatingByComm']"
   ]
  },
  {
   "cell_type": "code",
   "execution_count": 390,
   "metadata": {
    "collapsed": false
   },
   "outputs": [],
   "source": [
    "#SIMPLE PREDICTION FROM COMM MEANS: sanity check\n",
    "meanWeights = np.linspace(0,1,100)\n",
    "rmsesSanityCheck = []\n",
    "for weight in meanWeights:\n",
    "    rmsesSanityCheck.append(\\\n",
    "                mixedPred(glRatingsTestWithComm, \\\n",
    "                          sanityCheck_commMeansTrain, sanityCheck_commBookMeansTrain,\\\n",
    "                          rec_engine_8, commMeans_rec_engine_baseline, False, True, weight)[1])"
   ]
  },
  {
   "cell_type": "code",
   "execution_count": 391,
   "metadata": {
    "collapsed": false
   },
   "outputs": [
    {
     "data": {
      "text/plain": [
       "<matplotlib.lines.Line2D at 0x7fa170290c50>"
      ]
     },
     "execution_count": 391,
     "metadata": {},
     "output_type": "execute_result"
    },
    {
     "data": {
      "image/png": "[encoded data removed]",
      "text/plain": [
       "<matplotlib.figure.Figure at 0x7fa1900de950>"
      ]
     },
     "metadata": {},
     "output_type": "display_data"
    }
   ],
   "source": [
    "plt.plot(meanWeights, rmsesSimple, '-', label='Simple commMeans');\n",
    "plt.plot(meanWeights, rmsesSimpleNoBookMeans, '-', label='Simple commMeans (no book)');\n",
    "plt.plot(meanWeights, rmsesFac, '-', label='Factorized commMeans')\n",
    "plt.plot(meanWeights, rmsesSanityCheck, '-', label='Sanity Check (Simple commMeans)')\n",
    "plt.legend()\n",
    "plt.xlim(0, 0.5)\n",
    "plt.ylim(0.87, 0.95)\n",
    "plt.axhline(rmsesSimple[0],linestyle='--',color='k')"
   ]
  },
  {
   "cell_type": "code",
   "execution_count": 213,
   "metadata": {
    "collapsed": false
   },
   "outputs": [],
   "source": [
    "#cutoff date based\n",
    "\n",
    "#glRatingDictTrain = makeRatingDictForGL(ratings, cutoffDate)\n",
    "#glRatingsTrain = gl.SFrame(glRatingDictTrain)\n",
    "#glRatingDictTest = makeRatingDictForGL(ratings, cutoffDate, upperBound=False)\n",
    "#glRatingsTest = gl.SFrame(glRatingDictTest)"
   ]
  },
  {
   "cell_type": "code",
   "execution_count": 393,
   "metadata": {
    "collapsed": false
   },
   "outputs": [
    {
     "name": "stderr",
     "output_type": "stream",
     "text": [
      "[INFO] graphlab.deploy.job: Validating job.\n",
      "[INFO] graphlab.deploy.map_job: Validation complete. Job: 'Model-Parameter-Search-Nov-26-2016-00-55-0100000' ready for execution\n",
      "[INFO] graphlab.deploy.map_job: Job: 'Model-Parameter-Search-Nov-26-2016-00-55-0100000' scheduled.\n",
      "[INFO] graphlab.deploy.job: Validating job.\n",
      "[INFO] graphlab.deploy.map_job: A job with name 'Model-Parameter-Search-Nov-26-2016-00-55-0100000' already exists. Renaming the job to 'Model-Parameter-Search-Nov-26-2016-00-55-0100000-38608'.\n",
      "[INFO] graphlab.deploy.map_job: Validation complete. Job: 'Model-Parameter-Search-Nov-26-2016-00-55-0100000-38608' ready for execution\n",
      "[INFO] graphlab.deploy.map_job: Job: 'Model-Parameter-Search-Nov-26-2016-00-55-0100000-38608' scheduled.\n",
      "[INFO] graphlab.deploy.job: Validating job.\n",
      "[INFO] graphlab.deploy.map_job: Validation complete. Job: 'Model-Parameter-Search-Nov-26-2016-00-55-0100001' ready for execution\n",
      "[INFO] graphlab.deploy.map_job: Job: 'Model-Parameter-Search-Nov-26-2016-00-55-0100001' scheduled.\n"
     ]
    },
    {
     "data": {
      "text/plain": [
       "\"\\nmodels = gl.toolkits.model_parameter_search.grid_search.create((glRatingsTrain, glRatingsTest),\\n                                                     gl.factorization_recommender.create,\\n                                                     {'user_id': 'userID',\\n                                                      'item_id': 'bookID',\\n                                                      'target': 'rating',\\n                                                      'num_factors': 0,\\n                                                      'max_iterations': 200,\\n                                                      'regularization': 1e-3,\\n                                                      'linear_regularization': \\n                                                      [10**i for i in range(-15,-4)]\\n                                                      })\\n\""
      ]
     },
     "execution_count": 393,
     "metadata": {},
     "output_type": "execute_result"
    }
   ],
   "source": [
    "\n",
    "models = gl.toolkits.model_parameter_search.grid_search.create((glRatingsTrain, glRatingsTest),\n",
    "                                                     gl.factorization_recommender.create,\n",
    "                                                     {'user_id': 'userID',\n",
    "                                                      'item_id': 'bookID',\n",
    "                                                      'target': 'rating',\n",
    "                                                      'num_factors': [2, 4, 8],\n",
    "                                                      'max_iterations': [200, 1000],\n",
    "                                                      'regularization': [1e-2, 1e-3, 1e-4],\n",
    "                                                      'linear_regularization': 1e-12\n",
    "                                                      })\n",
    "\n",
    "'''\n",
    "models = gl.toolkits.model_parameter_search.grid_search.create((glRatingsTrain, glRatingsTest),\n",
    "                                                     gl.factorization_recommender.create,\n",
    "                                                     {'user_id': 'userID',\n",
    "                                                      'item_id': 'bookID',\n",
    "                                                      'target': 'rating',\n",
    "                                                      'num_factors': 0,\n",
    "                                                      'max_iterations': 200,\n",
    "                                                      'regularization': 1e-3,\n",
    "                                                      'linear_regularization': \n",
    "                                                      [10**i for i in range(-15,-4)]\n",
    "                                                      })\n",
    "'''"
   ]
  },
  {
   "cell_type": "code",
   "execution_count": 394,
   "metadata": {
    "collapsed": false
   },
   "outputs": [
    {
     "data": {
      "text/plain": [
       "{'Canceled': 0, 'Completed': 0, 'Failed': 0, 'Pending': 18, 'Running': 0}"
      ]
     },
     "execution_count": 394,
     "metadata": {},
     "output_type": "execute_result"
    }
   ],
   "source": [
    "models.get_status()\n",
    "#models.get_results(wait=False).sort('validation_rmse')"
   ]
  },
  {
   "cell_type": "code",
   "execution_count": 383,
   "metadata": {
    "collapsed": false,
    "scrolled": true
   },
   "outputs": [
    {
     "data": {
      "text/html": [
       "<pre>Recsys training: model = factorization_recommender</pre>"
      ],
      "text/plain": [
       "Recsys training: model = factorization_recommender"
      ]
     },
     "metadata": {},
     "output_type": "display_data"
    },
    {
     "data": {
      "text/html": [
       "<pre>Preparing data set.</pre>"
      ],
      "text/plain": [
       "Preparing data set."
      ]
     },
     "metadata": {},
     "output_type": "display_data"
    },
    {
     "data": {
      "text/html": [
       "<pre>    Data has 20473 observations with 367 users and 1800 items.</pre>"
      ],
      "text/plain": [
       "    Data has 20473 observations with 367 users and 1800 items."
      ]
     },
     "metadata": {},
     "output_type": "display_data"
    },
    {
     "data": {
      "text/html": [
       "<pre>    Data prepared in: 0.136898s</pre>"
      ],
      "text/plain": [
       "    Data prepared in: 0.136898s"
      ]
     },
     "metadata": {},
     "output_type": "display_data"
    },
    {
     "data": {
      "text/html": [
       "<pre>Training factorization_recommender for recommendations.</pre>"
      ],
      "text/plain": [
       "Training factorization_recommender for recommendations."
      ]
     },
     "metadata": {},
     "output_type": "display_data"
    },
    {
     "data": {
      "text/html": [
       "<pre>+--------------------------------+--------------------------------------------------+----------+</pre>"
      ],
      "text/plain": [
       "+--------------------------------+--------------------------------------------------+----------+"
      ]
     },
     "metadata": {},
     "output_type": "display_data"
    },
    {
     "data": {
      "text/html": [
       "<pre>| Parameter                      | Description                                      | Value    |</pre>"
      ],
      "text/plain": [
       "| Parameter                      | Description                                      | Value    |"
      ]
     },
     "metadata": {},
     "output_type": "display_data"
    },
    {
     "data": {
      "text/html": [
       "<pre>+--------------------------------+--------------------------------------------------+----------+</pre>"
      ],
      "text/plain": [
       "+--------------------------------+--------------------------------------------------+----------+"
      ]
     },
     "metadata": {},
     "output_type": "display_data"
    },
    {
     "data": {
      "text/html": [
       "<pre>| num_factors                    | Factor Dimension                                 | 0        |</pre>"
      ],
      "text/plain": [
       "| num_factors                    | Factor Dimension                                 | 0        |"
      ]
     },
     "metadata": {},
     "output_type": "display_data"
    },
    {
     "data": {
      "text/html": [
       "<pre>| regularization                 | L2 Regularization on Factors                     | 0.001    |</pre>"
      ],
      "text/plain": [
       "| regularization                 | L2 Regularization on Factors                     | 0.001    |"
      ]
     },
     "metadata": {},
     "output_type": "display_data"
    },
    {
     "data": {
      "text/html": [
       "<pre>| solver                         | Solver used for training                         | sgd      |</pre>"
      ],
      "text/plain": [
       "| solver                         | Solver used for training                         | sgd      |"
      ]
     },
     "metadata": {},
     "output_type": "display_data"
    },
    {
     "data": {
      "text/html": [
       "<pre>| linear_regularization          | L2 Regularization on Linear Coefficients         | 1e-12    |</pre>"
      ],
      "text/plain": [
       "| linear_regularization          | L2 Regularization on Linear Coefficients         | 1e-12    |"
      ]
     },
     "metadata": {},
     "output_type": "display_data"
    },
    {
     "data": {
      "text/html": [
       "<pre>| max_iterations                 | Maximum Number of Iterations                     | 200      |</pre>"
      ],
      "text/plain": [
       "| max_iterations                 | Maximum Number of Iterations                     | 200      |"
      ]
     },
     "metadata": {},
     "output_type": "display_data"
    },
    {
     "data": {
      "text/html": [
       "<pre>+--------------------------------+--------------------------------------------------+----------+</pre>"
      ],
      "text/plain": [
       "+--------------------------------+--------------------------------------------------+----------+"
      ]
     },
     "metadata": {},
     "output_type": "display_data"
    },
    {
     "data": {
      "text/html": [
       "<pre>  Optimizing model using SGD; tuning step size.</pre>"
      ],
      "text/plain": [
       "  Optimizing model using SGD; tuning step size."
      ]
     },
     "metadata": {},
     "output_type": "display_data"
    },
    {
     "data": {
      "text/html": [
       "<pre>  Using 10000 / 20473 points for tuning the step size.</pre>"
      ],
      "text/plain": [
       "  Using 10000 / 20473 points for tuning the step size."
      ]
     },
     "metadata": {},
     "output_type": "display_data"
    },
    {
     "data": {
      "text/html": [
       "<pre>+---------+-------------------+------------------------------------------+</pre>"
      ],
      "text/plain": [
       "+---------+-------------------+------------------------------------------+"
      ]
     },
     "metadata": {},
     "output_type": "display_data"
    },
    {
     "data": {
      "text/html": [
       "<pre>| Attempt | Initial Step Size | Estimated Objective Value                |</pre>"
      ],
      "text/plain": [
       "| Attempt | Initial Step Size | Estimated Objective Value                |"
      ]
     },
     "metadata": {},
     "output_type": "display_data"
    },
    {
     "data": {
      "text/html": [
       "<pre>+---------+-------------------+------------------------------------------+</pre>"
      ],
      "text/plain": [
       "+---------+-------------------+------------------------------------------+"
      ]
     },
     "metadata": {},
     "output_type": "display_data"
    },
    {
     "data": {
      "text/html": [
       "<pre>| 0       | 3.59255           | 0.673222                                 |</pre>"
      ],
      "text/plain": [
       "| 0       | 3.59255           | 0.673222                                 |"
      ]
     },
     "metadata": {},
     "output_type": "display_data"
    },
    {
     "data": {
      "text/html": [
       "<pre>| 1       | 1.79628           | 0.663334                                 |</pre>"
      ],
      "text/plain": [
       "| 1       | 1.79628           | 0.663334                                 |"
      ]
     },
     "metadata": {},
     "output_type": "display_data"
    },
    {
     "data": {
      "text/html": [
       "<pre>| 2       | 0.898138          | 0.647873                                 |</pre>"
      ],
      "text/plain": [
       "| 2       | 0.898138          | 0.647873                                 |"
      ]
     },
     "metadata": {},
     "output_type": "display_data"
    },
    {
     "data": {
      "text/html": [
       "<pre>| 3       | 0.449069          | 0.629164                                 |</pre>"
      ],
      "text/plain": [
       "| 3       | 0.449069          | 0.629164                                 |"
      ]
     },
     "metadata": {},
     "output_type": "display_data"
    },
    {
     "data": {
      "text/html": [
       "<pre>| 4       | 0.224534          | 0.605789                                 |</pre>"
      ],
      "text/plain": [
       "| 4       | 0.224534          | 0.605789                                 |"
      ]
     },
     "metadata": {},
     "output_type": "display_data"
    },
    {
     "data": {
      "text/html": [
       "<pre>| 5       | 0.112267          | 0.609007                                 |</pre>"
      ],
      "text/plain": [
       "| 5       | 0.112267          | 0.609007                                 |"
      ]
     },
     "metadata": {},
     "output_type": "display_data"
    },
    {
     "data": {
      "text/html": [
       "<pre>| 6       | 0.0561336         | 0.628044                                 |</pre>"
      ],
      "text/plain": [
       "| 6       | 0.0561336         | 0.628044                                 |"
      ]
     },
     "metadata": {},
     "output_type": "display_data"
    },
    {
     "data": {
      "text/html": [
       "<pre>| 7       | 0.0280668         | 0.65656                                  |</pre>"
      ],
      "text/plain": [
       "| 7       | 0.0280668         | 0.65656                                  |"
      ]
     },
     "metadata": {},
     "output_type": "display_data"
    },
    {
     "data": {
      "text/html": [
       "<pre>+---------+-------------------+------------------------------------------+</pre>"
      ],
      "text/plain": [
       "+---------+-------------------+------------------------------------------+"
      ]
     },
     "metadata": {},
     "output_type": "display_data"
    },
    {
     "data": {
      "text/html": [
       "<pre>| Final   | 0.224534          | 0.605789                                 |</pre>"
      ],
      "text/plain": [
       "| Final   | 0.224534          | 0.605789                                 |"
      ]
     },
     "metadata": {},
     "output_type": "display_data"
    },
    {
     "data": {
      "text/html": [
       "<pre>+---------+-------------------+------------------------------------------+</pre>"
      ],
      "text/plain": [
       "+---------+-------------------+------------------------------------------+"
      ]
     },
     "metadata": {},
     "output_type": "display_data"
    },
    {
     "data": {
      "text/html": [
       "<pre>Starting Optimization.</pre>"
      ],
      "text/plain": [
       "Starting Optimization."
      ]
     },
     "metadata": {},
     "output_type": "display_data"
    },
    {
     "data": {
      "text/html": [
       "<pre>+---------+--------------+-------------------+-----------------------+-------------+</pre>"
      ],
      "text/plain": [
       "+---------+--------------+-------------------+-----------------------+-------------+"
      ]
     },
     "metadata": {},
     "output_type": "display_data"
    },
    {
     "data": {
      "text/html": [
       "<pre>| Iter.   | Elapsed Time | Approx. Objective | Approx. Training RMSE | Step Size   |</pre>"
      ],
      "text/plain": [
       "| Iter.   | Elapsed Time | Approx. Objective | Approx. Training RMSE | Step Size   |"
      ]
     },
     "metadata": {},
     "output_type": "display_data"
    },
    {
     "data": {
      "text/html": [
       "<pre>+---------+--------------+-------------------+-----------------------+-------------+</pre>"
      ],
      "text/plain": [
       "+---------+--------------+-------------------+-----------------------+-------------+"
      ]
     },
     "metadata": {},
     "output_type": "display_data"
    },
    {
     "data": {
      "text/html": [
       "<pre>| Initial | 92us         | 0.934628          | 0.966762              |             |</pre>"
      ],
      "text/plain": [
       "| Initial | 92us         | 0.934628          | 0.966762              |             |"
      ]
     },
     "metadata": {},
     "output_type": "display_data"
    },
    {
     "data": {
      "text/html": [
       "<pre>+---------+--------------+-------------------+-----------------------+-------------+</pre>"
      ],
      "text/plain": [
       "+---------+--------------+-------------------+-----------------------+-------------+"
      ]
     },
     "metadata": {},
     "output_type": "display_data"
    },
    {
     "data": {
      "text/html": [
       "<pre>| 1       | 661.841ms    | 1.24013           | 1.11361               | 0.224534    |</pre>"
      ],
      "text/plain": [
       "| 1       | 661.841ms    | 1.24013           | 1.11361               | 0.224534    |"
      ]
     },
     "metadata": {},
     "output_type": "display_data"
    },
    {
     "data": {
      "text/html": [
       "<pre>| 2       | 1.31s        | 0.835101          | 0.913838              | 0.0401177   |</pre>"
      ],
      "text/plain": [
       "| 2       | 1.31s        | 0.835101          | 0.913838              | 0.0401177   |"
      ]
     },
     "metadata": {},
     "output_type": "display_data"
    },
    {
     "data": {
      "text/html": [
       "<pre>| 3       | 1.94s        | 0.727887          | 0.853163              | 0.0220266   |</pre>"
      ],
      "text/plain": [
       "| 3       | 1.94s        | 0.727887          | 0.853163              | 0.0220266   |"
      ]
     },
     "metadata": {},
     "output_type": "display_data"
    },
    {
     "data": {
      "text/html": [
       "<pre>| 4       | 2.55s        | 0.703999          | 0.839047              | 0.0149891   |</pre>"
      ],
      "text/plain": [
       "| 4       | 2.55s        | 0.703999          | 0.839047              | 0.0149891   |"
      ]
     },
     "metadata": {},
     "output_type": "display_data"
    },
    {
     "data": {
      "text/html": [
       "<pre>| 5       | 3.18s        | 0.693943          | 0.833032              | 0.0114694   |</pre>"
      ],
      "text/plain": [
       "| 5       | 3.18s        | 0.693943          | 0.833032              | 0.0114694   |"
      ]
     },
     "metadata": {},
     "output_type": "display_data"
    },
    {
     "data": {
      "text/html": [
       "<pre>| 6       | 3.78s        | 0.68777           | 0.829319              | 0.00928839  |</pre>"
      ],
      "text/plain": [
       "| 6       | 3.78s        | 0.68777           | 0.829319              | 0.00928839  |"
      ]
     },
     "metadata": {},
     "output_type": "display_data"
    },
    {
     "data": {
      "text/html": [
       "<pre>| 10      | 6.28s        | 0.675957          | 0.822166              | 0.00527556  |</pre>"
      ],
      "text/plain": [
       "| 10      | 6.28s        | 0.675957          | 0.822166              | 0.00527556  |"
      ]
     },
     "metadata": {},
     "output_type": "display_data"
    },
    {
     "data": {
      "text/html": [
       "<pre>| 11      | 6.91s        | 0.674364          | 0.821196              | 0.00476131  |</pre>"
      ],
      "text/plain": [
       "| 11      | 6.91s        | 0.674364          | 0.821196              | 0.00476131  |"
      ]
     },
     "metadata": {},
     "output_type": "display_data"
    },
    {
     "data": {
      "text/html": [
       "<pre>| 15      | 9.37s        | 0.670459          | 0.818815              | 0.00342562  |</pre>"
      ],
      "text/plain": [
       "| 15      | 9.37s        | 0.670459          | 0.818815              | 0.00342562  |"
      ]
     },
     "metadata": {},
     "output_type": "display_data"
    },
    {
     "data": {
      "text/html": [
       "<pre>| 20      | 12.45s       | 0.667825          | 0.817206              | 0.00253625  |</pre>"
      ],
      "text/plain": [
       "| 20      | 12.45s       | 0.667825          | 0.817206              | 0.00253625  |"
      ]
     },
     "metadata": {},
     "output_type": "display_data"
    },
    {
     "data": {
      "text/html": [
       "<pre>| 25      | 15.56s       | 0.666175          | 0.816195              | 0.0020135   |</pre>"
      ],
      "text/plain": [
       "| 25      | 15.56s       | 0.666175          | 0.816195              | 0.0020135   |"
      ]
     },
     "metadata": {},
     "output_type": "display_data"
    },
    {
     "data": {
      "text/html": [
       "<pre>| 30      | 18.64s       | 0.665146          | 0.815565              | 0.00166941  |</pre>"
      ],
      "text/plain": [
       "| 30      | 18.64s       | 0.665146          | 0.815565              | 0.00166941  |"
      ]
     },
     "metadata": {},
     "output_type": "display_data"
    },
    {
     "data": {
      "text/html": [
       "<pre>| 35      | 21.75s       | 0.664348          | 0.815075              | 0.00142576  |</pre>"
      ],
      "text/plain": [
       "| 35      | 21.75s       | 0.664348          | 0.815075              | 0.00142576  |"
      ]
     },
     "metadata": {},
     "output_type": "display_data"
    },
    {
     "data": {
      "text/html": [
       "<pre>| 40      | 24.86s       | 0.663781          | 0.814727              | 0.00124418  |</pre>"
      ],
      "text/plain": [
       "| 40      | 24.86s       | 0.663781          | 0.814727              | 0.00124418  |"
      ]
     },
     "metadata": {},
     "output_type": "display_data"
    },
    {
     "data": {
      "text/html": [
       "<pre>| 45      | 28.00s       | 0.663332          | 0.814452              | 0.00110362  |</pre>"
      ],
      "text/plain": [
       "| 45      | 28.00s       | 0.663332          | 0.814452              | 0.00110362  |"
      ]
     },
     "metadata": {},
     "output_type": "display_data"
    },
    {
     "data": {
      "text/html": [
       "<pre>| 50      | 31.15s       | 0.662961          | 0.814224              | 0.000991598 |</pre>"
      ],
      "text/plain": [
       "| 50      | 31.15s       | 0.662961          | 0.814224              | 0.000991598 |"
      ]
     },
     "metadata": {},
     "output_type": "display_data"
    },
    {
     "data": {
      "text/html": [
       "<pre>| 51      | 31.76s       | 0.662893          | 0.814182              | 0.000971868 |</pre>"
      ],
      "text/plain": [
       "| 51      | 31.76s       | 0.662893          | 0.814182              | 0.000971868 |"
      ]
     },
     "metadata": {},
     "output_type": "display_data"
    },
    {
     "data": {
      "text/html": [
       "<pre>| 55      | 34.18s       | 0.662656          | 0.814037              | 0.000900221 |</pre>"
      ],
      "text/plain": [
       "| 55      | 34.18s       | 0.662656          | 0.814037              | 0.000900221 |"
      ]
     },
     "metadata": {},
     "output_type": "display_data"
    },
    {
     "data": {
      "text/html": [
       "<pre>| 60      | 37.32s       | 0.662416          | 0.813889              | 0.000824264 |</pre>"
      ],
      "text/plain": [
       "| 60      | 37.32s       | 0.662416          | 0.813889              | 0.000824264 |"
      ]
     },
     "metadata": {},
     "output_type": "display_data"
    },
    {
     "data": {
      "text/html": [
       "<pre>| 65      | 40.43s       | 0.662195          | 0.813754              | 0.000760128 |</pre>"
      ],
      "text/plain": [
       "| 65      | 40.43s       | 0.662195          | 0.813754              | 0.000760128 |"
      ]
     },
     "metadata": {},
     "output_type": "display_data"
    },
    {
     "data": {
      "text/html": [
       "<pre>| 70      | 43.57s       | 0.662015          | 0.813643              | 0.000705252 |</pre>"
      ],
      "text/plain": [
       "| 70      | 43.57s       | 0.662015          | 0.813643              | 0.000705252 |"
      ]
     },
     "metadata": {},
     "output_type": "display_data"
    },
    {
     "data": {
      "text/html": [
       "<pre>| 75      | 46.65s       | 0.661852          | 0.813543              | 0.000657766 |</pre>"
      ],
      "text/plain": [
       "| 75      | 46.65s       | 0.661852          | 0.813543              | 0.000657766 |"
      ]
     },
     "metadata": {},
     "output_type": "display_data"
    },
    {
     "data": {
      "text/html": [
       "<pre>| 80      | 49.68s       | 0.661714          | 0.813458              | 0.000616271 |</pre>"
      ],
      "text/plain": [
       "| 80      | 49.68s       | 0.661714          | 0.813458              | 0.000616271 |"
      ]
     },
     "metadata": {},
     "output_type": "display_data"
    },
    {
     "data": {
      "text/html": [
       "<pre>| 85      | 52.89s       | 0.661588          | 0.813381              | 0.000579701 |</pre>"
      ],
      "text/plain": [
       "| 85      | 52.89s       | 0.661588          | 0.813381              | 0.000579701 |"
      ]
     },
     "metadata": {},
     "output_type": "display_data"
    },
    {
     "data": {
      "text/html": [
       "<pre>| 90      | 56.00s       | 0.661478          | 0.813313              | 0.000547228 |</pre>"
      ],
      "text/plain": [
       "| 90      | 56.00s       | 0.661478          | 0.813313              | 0.000547228 |"
      ]
     },
     "metadata": {},
     "output_type": "display_data"
    },
    {
     "data": {
      "text/html": [
       "<pre>| 95      | 59.09s       | 0.661377          | 0.813251              | 0.0005182   |</pre>"
      ],
      "text/plain": [
       "| 95      | 59.09s       | 0.661377          | 0.813251              | 0.0005182   |"
      ]
     },
     "metadata": {},
     "output_type": "display_data"
    },
    {
     "data": {
      "text/html": [
       "<pre>| 100     | 1m 2s        | 0.661287          | 0.813195              | 0.000492096 |</pre>"
      ],
      "text/plain": [
       "| 100     | 1m 2s        | 0.661287          | 0.813195              | 0.000492096 |"
      ]
     },
     "metadata": {},
     "output_type": "display_data"
    },
    {
     "data": {
      "text/html": [
       "<pre>| 101     | 1m 2s        | 0.661272          | 0.813186              | 0.000487188 |</pre>"
      ],
      "text/plain": [
       "| 101     | 1m 2s        | 0.661272          | 0.813186              | 0.000487188 |"
      ]
     },
     "metadata": {},
     "output_type": "display_data"
    },
    {
     "data": {
      "text/html": [
       "<pre>| 105     | 1m 5s        | 0.661205          | 0.813145              | 0.000468496 |</pre>"
      ],
      "text/plain": [
       "| 105     | 1m 5s        | 0.661205          | 0.813145              | 0.000468496 |"
      ]
     },
     "metadata": {},
     "output_type": "display_data"
    },
    {
     "data": {
      "text/html": [
       "<pre>| 110     | 1m 8s        | 0.661132          | 0.8131                | 0.000447057 |</pre>"
      ],
      "text/plain": [
       "| 110     | 1m 8s        | 0.661132          | 0.8131                | 0.000447057 |"
      ]
     },
     "metadata": {},
     "output_type": "display_data"
    },
    {
     "data": {
      "text/html": [
       "<pre>| 115     | 1m 11s       | 0.66106           | 0.813056              | 0.000427493 |</pre>"
      ],
      "text/plain": [
       "| 115     | 1m 11s       | 0.66106           | 0.813056              | 0.000427493 |"
      ]
     },
     "metadata": {},
     "output_type": "display_data"
    },
    {
     "data": {
      "text/html": [
       "<pre>| 120     | 1m 14s       | 0.660997          | 0.813017              | 0.00040957  |</pre>"
      ],
      "text/plain": [
       "| 120     | 1m 14s       | 0.660997          | 0.813017              | 0.00040957  |"
      ]
     },
     "metadata": {},
     "output_type": "display_data"
    },
    {
     "data": {
      "text/html": [
       "<pre>| 125     | 1m 17s       | 0.660939          | 0.812982              | 0.00039309  |</pre>"
      ],
      "text/plain": [
       "| 125     | 1m 17s       | 0.660939          | 0.812982              | 0.00039309  |"
      ]
     },
     "metadata": {},
     "output_type": "display_data"
    },
    {
     "data": {
      "text/html": [
       "<pre>| 130     | 1m 20s       | 0.660885          | 0.812948              | 0.000377884 |</pre>"
      ],
      "text/plain": [
       "| 130     | 1m 20s       | 0.660885          | 0.812948              | 0.000377884 |"
      ]
     },
     "metadata": {},
     "output_type": "display_data"
    },
    {
     "data": {
      "text/html": [
       "<pre>| 135     | 1m 23s       | 0.660835          | 0.812917              | 0.000363811 |</pre>"
      ],
      "text/plain": [
       "| 135     | 1m 23s       | 0.660835          | 0.812917              | 0.000363811 |"
      ]
     },
     "metadata": {},
     "output_type": "display_data"
    },
    {
     "data": {
      "text/html": [
       "<pre>| 140     | 1m 26s       | 0.660789          | 0.81289               | 0.000350749 |</pre>"
      ],
      "text/plain": [
       "| 140     | 1m 26s       | 0.660789          | 0.81289               | 0.000350749 |"
      ]
     },
     "metadata": {},
     "output_type": "display_data"
    },
    {
     "data": {
      "text/html": [
       "<pre>| 145     | 1m 29s       | 0.660743          | 0.812861              | 0.000338592 |</pre>"
      ],
      "text/plain": [
       "| 145     | 1m 29s       | 0.660743          | 0.812861              | 0.000338592 |"
      ]
     },
     "metadata": {},
     "output_type": "display_data"
    },
    {
     "data": {
      "text/html": [
       "<pre>| 150     | 1m 33s       | 0.660703          | 0.812837              | 0.000327249 |</pre>"
      ],
      "text/plain": [
       "| 150     | 1m 33s       | 0.660703          | 0.812837              | 0.000327249 |"
      ]
     },
     "metadata": {},
     "output_type": "display_data"
    },
    {
     "data": {
      "text/html": [
       "<pre>| 155     | 1m 36s       | 0.660664          | 0.812812              | 0.000316642 |</pre>"
      ],
      "text/plain": [
       "| 155     | 1m 36s       | 0.660664          | 0.812812              | 0.000316642 |"
      ]
     },
     "metadata": {},
     "output_type": "display_data"
    },
    {
     "data": {
      "text/html": [
       "<pre>| 160     | 1m 39s       | 0.660628          | 0.81279               | 0.000306701 |</pre>"
      ],
      "text/plain": [
       "| 160     | 1m 39s       | 0.660628          | 0.81279               | 0.000306701 |"
      ]
     },
     "metadata": {},
     "output_type": "display_data"
    },
    {
     "data": {
      "text/html": [
       "<pre>| 165     | 1m 42s       | 0.660593          | 0.812769              | 0.000297365 |</pre>"
      ],
      "text/plain": [
       "| 165     | 1m 42s       | 0.660593          | 0.812769              | 0.000297365 |"
      ]
     },
     "metadata": {},
     "output_type": "display_data"
    },
    {
     "data": {
      "text/html": [
       "<pre>| 170     | 1m 45s       | 0.660561          | 0.812749              | 0.000288581 |</pre>"
      ],
      "text/plain": [
       "| 170     | 1m 45s       | 0.660561          | 0.812749              | 0.000288581 |"
      ]
     },
     "metadata": {},
     "output_type": "display_data"
    },
    {
     "data": {
      "text/html": [
       "<pre>| 175     | 1m 48s       | 0.660531          | 0.812731              | 0.000280301 |</pre>"
      ],
      "text/plain": [
       "| 175     | 1m 48s       | 0.660531          | 0.812731              | 0.000280301 |"
      ]
     },
     "metadata": {},
     "output_type": "display_data"
    },
    {
     "data": {
      "text/html": [
       "<pre>| 180     | 1m 51s       | 0.660502          | 0.812712              | 0.000272482 |</pre>"
      ],
      "text/plain": [
       "| 180     | 1m 51s       | 0.660502          | 0.812712              | 0.000272482 |"
      ]
     },
     "metadata": {},
     "output_type": "display_data"
    },
    {
     "data": {
      "text/html": [
       "<pre>| 185     | 1m 54s       | 0.660474          | 0.812695              | 0.000265088 |</pre>"
      ],
      "text/plain": [
       "| 185     | 1m 54s       | 0.660474          | 0.812695              | 0.000265088 |"
      ]
     },
     "metadata": {},
     "output_type": "display_data"
    },
    {
     "data": {
      "text/html": [
       "<pre>| 190     | 1m 57s       | 0.660448          | 0.812679              | 0.000258085 |</pre>"
      ],
      "text/plain": [
       "| 190     | 1m 57s       | 0.660448          | 0.812679              | 0.000258085 |"
      ]
     },
     "metadata": {},
     "output_type": "display_data"
    },
    {
     "data": {
      "text/html": [
       "<pre>| 195     | 2m 0s        | 0.660423          | 0.812664              | 0.000251442 |</pre>"
      ],
      "text/plain": [
       "| 195     | 2m 0s        | 0.660423          | 0.812664              | 0.000251442 |"
      ]
     },
     "metadata": {},
     "output_type": "display_data"
    },
    {
     "data": {
      "text/html": [
       "<pre>| 200     | 2m 3s        | 0.660399          | 0.812649              | 0.000245133 |</pre>"
      ],
      "text/plain": [
       "| 200     | 2m 3s        | 0.660399          | 0.812649              | 0.000245133 |"
      ]
     },
     "metadata": {},
     "output_type": "display_data"
    },
    {
     "data": {
      "text/html": [
       "<pre>+---------+--------------+-------------------+-----------------------+-------------+</pre>"
      ],
      "text/plain": [
       "+---------+--------------+-------------------+-----------------------+-------------+"
      ]
     },
     "metadata": {},
     "output_type": "display_data"
    },
    {
     "data": {
      "text/html": [
       "<pre>Optimization Complete: Maximum number of passes through the data reached.</pre>"
      ],
      "text/plain": [
       "Optimization Complete: Maximum number of passes through the data reached."
      ]
     },
     "metadata": {},
     "output_type": "display_data"
    },
    {
     "data": {
      "text/html": [
       "<pre>Computing final objective value and training RMSE.</pre>"
      ],
      "text/plain": [
       "Computing final objective value and training RMSE."
      ]
     },
     "metadata": {},
     "output_type": "display_data"
    },
    {
     "data": {
      "text/html": [
       "<pre>       Final objective value: 0.659756</pre>"
      ],
      "text/plain": [
       "       Final objective value: 0.659756"
      ]
     },
     "metadata": {},
     "output_type": "display_data"
    },
    {
     "data": {
      "text/html": [
       "<pre>       Final training RMSE: 0.812253</pre>"
      ],
      "text/plain": [
       "       Final training RMSE: 0.812253"
      ]
     },
     "metadata": {},
     "output_type": "display_data"
    }
   ],
   "source": [
    "rec_engine_baseline = gl.factorization_recommender.create(   observation_data=glRatingsTrain, \n",
    "                                                    user_id=\"userID\", \n",
    "                                                    item_id=\"bookID\", \n",
    "                                                    target='rating',\n",
    "                                                    num_factors=0,\n",
    "                                                    solver='auto',\n",
    "                                                    max_iterations=200,\n",
    "                                                    regularization = 1e-3,\n",
    "                                                    linear_regularization = 1e-12\n",
    "                                                    )"
   ]
  },
  {
   "cell_type": "code",
   "execution_count": 384,
   "metadata": {
    "collapsed": false
   },
   "outputs": [
    {
     "data": {
      "text/plain": [
       "0.8990755748218312"
      ]
     },
     "execution_count": 384,
     "metadata": {},
     "output_type": "execute_result"
    }
   ],
   "source": [
    "rec_engine_baseline.evaluate_rmse(glRatingsTest, target='rating')['rmse_overall']"
   ]
  },
  {
   "cell_type": "code",
   "execution_count": 385,
   "metadata": {
    "collapsed": false,
    "scrolled": false
   },
   "outputs": [
    {
     "data": {
      "text/html": [
       "<pre>Recsys training: model = factorization_recommender</pre>"
      ],
      "text/plain": [
       "Recsys training: model = factorization_recommender"
      ]
     },
     "metadata": {},
     "output_type": "display_data"
    },
    {
     "data": {
      "text/html": [
       "<pre>Preparing data set.</pre>"
      ],
      "text/plain": [
       "Preparing data set."
      ]
     },
     "metadata": {},
     "output_type": "display_data"
    },
    {
     "data": {
      "text/html": [
       "<pre>    Data has 20473 observations with 367 users and 1800 items.</pre>"
      ],
      "text/plain": [
       "    Data has 20473 observations with 367 users and 1800 items."
      ]
     },
     "metadata": {},
     "output_type": "display_data"
    },
    {
     "data": {
      "text/html": [
       "<pre>    Data prepared in: 0.093508s</pre>"
      ],
      "text/plain": [
       "    Data prepared in: 0.093508s"
      ]
     },
     "metadata": {},
     "output_type": "display_data"
    },
    {
     "data": {
      "text/html": [
       "<pre>Training factorization_recommender for recommendations.</pre>"
      ],
      "text/plain": [
       "Training factorization_recommender for recommendations."
      ]
     },
     "metadata": {},
     "output_type": "display_data"
    },
    {
     "data": {
      "text/html": [
       "<pre>+--------------------------------+--------------------------------------------------+----------+</pre>"
      ],
      "text/plain": [
       "+--------------------------------+--------------------------------------------------+----------+"
      ]
     },
     "metadata": {},
     "output_type": "display_data"
    },
    {
     "data": {
      "text/html": [
       "<pre>| Parameter                      | Description                                      | Value    |</pre>"
      ],
      "text/plain": [
       "| Parameter                      | Description                                      | Value    |"
      ]
     },
     "metadata": {},
     "output_type": "display_data"
    },
    {
     "data": {
      "text/html": [
       "<pre>+--------------------------------+--------------------------------------------------+----------+</pre>"
      ],
      "text/plain": [
       "+--------------------------------+--------------------------------------------------+----------+"
      ]
     },
     "metadata": {},
     "output_type": "display_data"
    },
    {
     "data": {
      "text/html": [
       "<pre>| num_factors                    | Factor Dimension                                 | 8        |</pre>"
      ],
      "text/plain": [
       "| num_factors                    | Factor Dimension                                 | 8        |"
      ]
     },
     "metadata": {},
     "output_type": "display_data"
    },
    {
     "data": {
      "text/html": [
       "<pre>| regularization                 | L2 Regularization on Factors                     | 0.001    |</pre>"
      ],
      "text/plain": [
       "| regularization                 | L2 Regularization on Factors                     | 0.001    |"
      ]
     },
     "metadata": {},
     "output_type": "display_data"
    },
    {
     "data": {
      "text/html": [
       "<pre>| solver                         | Solver used for training                         | sgd      |</pre>"
      ],
      "text/plain": [
       "| solver                         | Solver used for training                         | sgd      |"
      ]
     },
     "metadata": {},
     "output_type": "display_data"
    },
    {
     "data": {
      "text/html": [
       "<pre>| linear_regularization          | L2 Regularization on Linear Coefficients         | 1e-12    |</pre>"
      ],
      "text/plain": [
       "| linear_regularization          | L2 Regularization on Linear Coefficients         | 1e-12    |"
      ]
     },
     "metadata": {},
     "output_type": "display_data"
    },
    {
     "data": {
      "text/html": [
       "<pre>| max_iterations                 | Maximum Number of Iterations                     | 200      |</pre>"
      ],
      "text/plain": [
       "| max_iterations                 | Maximum Number of Iterations                     | 200      |"
      ]
     },
     "metadata": {},
     "output_type": "display_data"
    },
    {
     "data": {
      "text/html": [
       "<pre>+--------------------------------+--------------------------------------------------+----------+</pre>"
      ],
      "text/plain": [
       "+--------------------------------+--------------------------------------------------+----------+"
      ]
     },
     "metadata": {},
     "output_type": "display_data"
    },
    {
     "data": {
      "text/html": [
       "<pre>  Optimizing model using SGD; tuning step size.</pre>"
      ],
      "text/plain": [
       "  Optimizing model using SGD; tuning step size."
      ]
     },
     "metadata": {},
     "output_type": "display_data"
    },
    {
     "data": {
      "text/html": [
       "<pre>  Using 10000 / 20473 points for tuning the step size.</pre>"
      ],
      "text/plain": [
       "  Using 10000 / 20473 points for tuning the step size."
      ]
     },
     "metadata": {},
     "output_type": "display_data"
    },
    {
     "data": {
      "text/html": [
       "<pre>+---------+-------------------+------------------------------------------+</pre>"
      ],
      "text/plain": [
       "+---------+-------------------+------------------------------------------+"
      ]
     },
     "metadata": {},
     "output_type": "display_data"
    },
    {
     "data": {
      "text/html": [
       "<pre>| Attempt | Initial Step Size | Estimated Objective Value                |</pre>"
      ],
      "text/plain": [
       "| Attempt | Initial Step Size | Estimated Objective Value                |"
      ]
     },
     "metadata": {},
     "output_type": "display_data"
    },
    {
     "data": {
      "text/html": [
       "<pre>+---------+-------------------+------------------------------------------+</pre>"
      ],
      "text/plain": [
       "+---------+-------------------+------------------------------------------+"
      ]
     },
     "metadata": {},
     "output_type": "display_data"
    },
    {
     "data": {
      "text/html": [
       "<pre>| 0       | 3.59255           | 0.900368                                 |</pre>"
      ],
      "text/plain": [
       "| 0       | 3.59255           | 0.900368                                 |"
      ]
     },
     "metadata": {},
     "output_type": "display_data"
    },
    {
     "data": {
      "text/html": [
       "<pre>| 1       | 1.79628           | Not Viable                               |</pre>"
      ],
      "text/plain": [
       "| 1       | 1.79628           | Not Viable                               |"
      ]
     },
     "metadata": {},
     "output_type": "display_data"
    },
    {
     "data": {
      "text/html": [
       "<pre>| 2       | 0.449069          | Not Viable                               |</pre>"
      ],
      "text/plain": [
       "| 2       | 0.449069          | Not Viable                               |"
      ]
     },
     "metadata": {},
     "output_type": "display_data"
    },
    {
     "data": {
      "text/html": [
       "<pre>| 3       | 0.112267          | 0.60851                                  |</pre>"
      ],
      "text/plain": [
       "| 3       | 0.112267          | 0.60851                                  |"
      ]
     },
     "metadata": {},
     "output_type": "display_data"
    },
    {
     "data": {
      "text/html": [
       "<pre>| 4       | 0.0561336         | 0.627655                                 |</pre>"
      ],
      "text/plain": [
       "| 4       | 0.0561336         | 0.627655                                 |"
      ]
     },
     "metadata": {},
     "output_type": "display_data"
    },
    {
     "data": {
      "text/html": [
       "<pre>| 5       | 0.0280668         | 0.65667                                  |</pre>"
      ],
      "text/plain": [
       "| 5       | 0.0280668         | 0.65667                                  |"
      ]
     },
     "metadata": {},
     "output_type": "display_data"
    },
    {
     "data": {
      "text/html": [
       "<pre>| 6       | 0.0140334         | 0.706189                                 |</pre>"
      ],
      "text/plain": [
       "| 6       | 0.0140334         | 0.706189                                 |"
      ]
     },
     "metadata": {},
     "output_type": "display_data"
    },
    {
     "data": {
      "text/html": [
       "<pre>+---------+-------------------+------------------------------------------+</pre>"
      ],
      "text/plain": [
       "+---------+-------------------+------------------------------------------+"
      ]
     },
     "metadata": {},
     "output_type": "display_data"
    },
    {
     "data": {
      "text/html": [
       "<pre>| Final   | 0.112267          | 0.60851                                  |</pre>"
      ],
      "text/plain": [
       "| Final   | 0.112267          | 0.60851                                  |"
      ]
     },
     "metadata": {},
     "output_type": "display_data"
    },
    {
     "data": {
      "text/html": [
       "<pre>+---------+-------------------+------------------------------------------+</pre>"
      ],
      "text/plain": [
       "+---------+-------------------+------------------------------------------+"
      ]
     },
     "metadata": {},
     "output_type": "display_data"
    },
    {
     "data": {
      "text/html": [
       "<pre>Starting Optimization.</pre>"
      ],
      "text/plain": [
       "Starting Optimization."
      ]
     },
     "metadata": {},
     "output_type": "display_data"
    },
    {
     "data": {
      "text/html": [
       "<pre>+---------+--------------+-------------------+-----------------------+-------------+</pre>"
      ],
      "text/plain": [
       "+---------+--------------+-------------------+-----------------------+-------------+"
      ]
     },
     "metadata": {},
     "output_type": "display_data"
    },
    {
     "data": {
      "text/html": [
       "<pre>| Iter.   | Elapsed Time | Approx. Objective | Approx. Training RMSE | Step Size   |</pre>"
      ],
      "text/plain": [
       "| Iter.   | Elapsed Time | Approx. Objective | Approx. Training RMSE | Step Size   |"
      ]
     },
     "metadata": {},
     "output_type": "display_data"
    },
    {
     "data": {
      "text/html": [
       "<pre>+---------+--------------+-------------------+-----------------------+-------------+</pre>"
      ],
      "text/plain": [
       "+---------+--------------+-------------------+-----------------------+-------------+"
      ]
     },
     "metadata": {},
     "output_type": "display_data"
    },
    {
     "data": {
      "text/html": [
       "<pre>| Initial | 75us         | 0.934628          | 0.966762              |             |</pre>"
      ],
      "text/plain": [
       "| Initial | 75us         | 0.934628          | 0.966762              |             |"
      ]
     },
     "metadata": {},
     "output_type": "display_data"
    },
    {
     "data": {
      "text/html": [
       "<pre>+---------+--------------+-------------------+-----------------------+-------------+</pre>"
      ],
      "text/plain": [
       "+---------+--------------+-------------------+-----------------------+-------------+"
      ]
     },
     "metadata": {},
     "output_type": "display_data"
    },
    {
     "data": {
      "text/html": [
       "<pre>| 1       | 704.056ms    | DIVERGED          | DIVERGED              | 0.112267    |</pre>"
      ],
      "text/plain": [
       "| 1       | 704.056ms    | DIVERGED          | DIVERGED              | 0.112267    |"
      ]
     },
     "metadata": {},
     "output_type": "display_data"
    },
    {
     "data": {
      "text/html": [
       "<pre>| RESET   | 748.65ms     | 0.9346            | 0.966747              |             |</pre>"
      ],
      "text/plain": [
       "| RESET   | 748.65ms     | 0.9346            | 0.966747              |             |"
      ]
     },
     "metadata": {},
     "output_type": "display_data"
    },
    {
     "data": {
      "text/html": [
       "<pre>| 1       | 1.36s        | 0.85435           | 0.92431               | 0.0561336   |</pre>"
      ],
      "text/plain": [
       "| 1       | 1.36s        | 0.85435           | 0.92431               | 0.0561336   |"
      ]
     },
     "metadata": {},
     "output_type": "display_data"
    },
    {
     "data": {
      "text/html": [
       "<pre>| 2       | 1.98s        | 0.745059          | 0.863168              | 0.0261181   |</pre>"
      ],
      "text/plain": [
       "| 2       | 1.98s        | 0.745059          | 0.863168              | 0.0261181   |"
      ]
     },
     "metadata": {},
     "output_type": "display_data"
    },
    {
     "data": {
      "text/html": [
       "<pre>| 3       | 2.59s        | 0.71512           | 0.845647              | 0.0170182   |</pre>"
      ],
      "text/plain": [
       "| 3       | 2.59s        | 0.71512           | 0.845647              | 0.0170182   |"
      ]
     },
     "metadata": {},
     "output_type": "display_data"
    },
    {
     "data": {
      "text/html": [
       "<pre>| 4       | 3.20s        | 0.700664          | 0.837056              | 0.0126209   |</pre>"
      ],
      "text/plain": [
       "| 4       | 3.20s        | 0.700664          | 0.837056              | 0.0126209   |"
      ]
     },
     "metadata": {},
     "output_type": "display_data"
    },
    {
     "data": {
      "text/html": [
       "<pre>| 5       | 3.82s        | 0.692989          | 0.832459              | 0.0100294   |</pre>"
      ],
      "text/plain": [
       "| 5       | 3.82s        | 0.692989          | 0.832459              | 0.0100294   |"
      ]
     },
     "metadata": {},
     "output_type": "display_data"
    },
    {
     "data": {
      "text/html": [
       "<pre>| 6       | 4.46s        | 0.688033          | 0.829477              | 0.00832088  |</pre>"
      ],
      "text/plain": [
       "| 6       | 4.46s        | 0.688033          | 0.829477              | 0.00832088  |"
      ]
     },
     "metadata": {},
     "output_type": "display_data"
    },
    {
     "data": {
      "text/html": [
       "<pre>| 9       | 6.31s        | 0.67939           | 0.824251              | 0.00550665  |</pre>"
      ],
      "text/plain": [
       "| 9       | 6.31s        | 0.67939           | 0.824251              | 0.00550665  |"
      ]
     },
     "metadata": {},
     "output_type": "display_data"
    },
    {
     "data": {
      "text/html": [
       "<pre>| 11      | 7.55s        | 0.676206          | 0.822317              | 0.00449348  |</pre>"
      ],
      "text/plain": [
       "| 11      | 7.55s        | 0.676206          | 0.822317              | 0.00449348  |"
      ]
     },
     "metadata": {},
     "output_type": "display_data"
    },
    {
     "data": {
      "text/html": [
       "<pre>| 14      | 9.42s        | 0.673237          | 0.820509              | 0.00352158  |</pre>"
      ],
      "text/plain": [
       "| 14      | 9.42s        | 0.673237          | 0.820509              | 0.00352158  |"
      ]
     },
     "metadata": {},
     "output_type": "display_data"
    },
    {
     "data": {
      "text/html": [
       "<pre>| 19      | 12.46s       | 0.670115          | 0.818604              | 0.00258847  |</pre>"
      ],
      "text/plain": [
       "| 19      | 12.46s       | 0.670115          | 0.818604              | 0.00258847  |"
      ]
     },
     "metadata": {},
     "output_type": "display_data"
    },
    {
     "data": {
      "text/html": [
       "<pre>| 24      | 15.58s       | 0.668264          | 0.817471              | 0.00204627  |</pre>"
      ],
      "text/plain": [
       "| 24      | 15.58s       | 0.668264          | 0.817471              | 0.00204627  |"
      ]
     },
     "metadata": {},
     "output_type": "display_data"
    },
    {
     "data": {
      "text/html": [
       "<pre>| 29      | 18.64s       | 0.667009          | 0.816703              | 0.00169188  |</pre>"
      ],
      "text/plain": [
       "| 29      | 18.64s       | 0.667009          | 0.816703              | 0.00169188  |"
      ]
     },
     "metadata": {},
     "output_type": "display_data"
    },
    {
     "data": {
      "text/html": [
       "<pre>| 34      | 21.69s       | 0.666109          | 0.81615               | 0.00144212  |</pre>"
      ],
      "text/plain": [
       "| 34      | 21.69s       | 0.666109          | 0.81615               | 0.00144212  |"
      ]
     },
     "metadata": {},
     "output_type": "display_data"
    },
    {
     "data": {
      "text/html": [
       "<pre>| 39      | 24.81s       | 0.665416          | 0.815724              | 0.00125662  |</pre>"
      ],
      "text/plain": [
       "| 39      | 24.81s       | 0.665416          | 0.815724              | 0.00125662  |"
      ]
     },
     "metadata": {},
     "output_type": "display_data"
    },
    {
     "data": {
      "text/html": [
       "<pre>| 44      | 27.87s       | 0.664886          | 0.815398              | 0.0011134   |</pre>"
      ],
      "text/plain": [
       "| 44      | 27.87s       | 0.664886          | 0.815398              | 0.0011134   |"
      ]
     },
     "metadata": {},
     "output_type": "display_data"
    },
    {
     "data": {
      "text/html": [
       "<pre>| 49      | 31.01s       | 0.664456          | 0.815133              | 0.000999482 |</pre>"
      ],
      "text/plain": [
       "| 49      | 31.01s       | 0.664456          | 0.815133              | 0.000999482 |"
      ]
     },
     "metadata": {},
     "output_type": "display_data"
    },
    {
     "data": {
      "text/html": [
       "<pre>| 51      | 32.25s       | 0.664295          | 0.815034              | 0.000960186 |</pre>"
      ],
      "text/plain": [
       "| 51      | 32.25s       | 0.664295          | 0.815034              | 0.000960186 |"
      ]
     },
     "metadata": {},
     "output_type": "display_data"
    },
    {
     "data": {
      "text/html": [
       "<pre>| 54      | 34.15s       | 0.664087          | 0.814905              | 0.000906714 |</pre>"
      ],
      "text/plain": [
       "| 54      | 34.15s       | 0.664087          | 0.814905              | 0.000906714 |"
      ]
     },
     "metadata": {},
     "output_type": "display_data"
    },
    {
     "data": {
      "text/html": [
       "<pre>| 59      | 37.22s       | 0.663788          | 0.81472               | 0.000829704 |</pre>"
      ],
      "text/plain": [
       "| 59      | 37.22s       | 0.663788          | 0.81472               | 0.000829704 |"
      ]
     },
     "metadata": {},
     "output_type": "display_data"
    },
    {
     "data": {
      "text/html": [
       "<pre>| 64      | 40.25s       | 0.663525          | 0.814557              | 0.000764752 |</pre>"
      ],
      "text/plain": [
       "| 64      | 40.25s       | 0.663525          | 0.814557              | 0.000764752 |"
      ]
     },
     "metadata": {},
     "output_type": "display_data"
    },
    {
     "data": {
      "text/html": [
       "<pre>| 69      | 42.78s       | 0.663306          | 0.814421              | 0.000709231 |</pre>"
      ],
      "text/plain": [
       "| 69      | 42.78s       | 0.663306          | 0.814421              | 0.000709231 |"
      ]
     },
     "metadata": {},
     "output_type": "display_data"
    },
    {
     "data": {
      "text/html": [
       "<pre>| 74      | 45.93s       | 0.66311           | 0.814298              | 0.000661225 |</pre>"
      ],
      "text/plain": [
       "| 74      | 45.93s       | 0.66311           | 0.814298              | 0.000661225 |"
      ]
     },
     "metadata": {},
     "output_type": "display_data"
    },
    {
     "data": {
      "text/html": [
       "<pre>| 79      | 49.06s       | 0.662936          | 0.814189              | 0.000619307 |</pre>"
      ],
      "text/plain": [
       "| 79      | 49.06s       | 0.662936          | 0.814189              | 0.000619307 |"
      ]
     },
     "metadata": {},
     "output_type": "display_data"
    },
    {
     "data": {
      "text/html": [
       "<pre>| 84      | 52.21s       | 0.662781          | 0.814092              | 0.000582386 |</pre>"
      ],
      "text/plain": [
       "| 84      | 52.21s       | 0.662781          | 0.814092              | 0.000582386 |"
      ]
     },
     "metadata": {},
     "output_type": "display_data"
    },
    {
     "data": {
      "text/html": [
       "<pre>| 89      | 55.29s       | 0.662636          | 0.814                 | 0.00054962  |</pre>"
      ],
      "text/plain": [
       "| 89      | 55.29s       | 0.662636          | 0.814                 | 0.00054962  |"
      ]
     },
     "metadata": {},
     "output_type": "display_data"
    },
    {
     "data": {
      "text/html": [
       "<pre>| 94      | 58.40s       | 0.662519          | 0.813926              | 0.000520345 |</pre>"
      ],
      "text/plain": [
       "| 94      | 58.40s       | 0.662519          | 0.813926              | 0.000520345 |"
      ]
     },
     "metadata": {},
     "output_type": "display_data"
    },
    {
     "data": {
      "text/html": [
       "<pre>| 99      | 1m 1s        | 0.662406          | 0.813855              | 0.00049403  |</pre>"
      ],
      "text/plain": [
       "| 99      | 1m 1s        | 0.662406          | 0.813855              | 0.00049403  |"
      ]
     },
     "metadata": {},
     "output_type": "display_data"
    },
    {
     "data": {
      "text/html": [
       "<pre>| 101     | 1m 2s        | 0.662362          | 0.813827              | 0.000484235 |</pre>"
      ],
      "text/plain": [
       "| 101     | 1m 2s        | 0.662362          | 0.813827              | 0.000484235 |"
      ]
     },
     "metadata": {},
     "output_type": "display_data"
    },
    {
     "data": {
      "text/html": [
       "<pre>| 104     | 1m 4s        | 0.6623            | 0.813787              | 0.000470249 |</pre>"
      ],
      "text/plain": [
       "| 104     | 1m 4s        | 0.6623            | 0.813787              | 0.000470249 |"
      ]
     },
     "metadata": {},
     "output_type": "display_data"
    },
    {
     "data": {
      "text/html": [
       "<pre>| 109     | 1m 7s        | 0.662208          | 0.813728              | 0.000448652 |</pre>"
      ],
      "text/plain": [
       "| 109     | 1m 7s        | 0.662208          | 0.813728              | 0.000448652 |"
      ]
     },
     "metadata": {},
     "output_type": "display_data"
    },
    {
     "data": {
      "text/html": [
       "<pre>| 114     | 1m 10s       | 0.662121          | 0.813671              | 0.000428952 |</pre>"
      ],
      "text/plain": [
       "| 114     | 1m 10s       | 0.662121          | 0.813671              | 0.000428952 |"
      ]
     },
     "metadata": {},
     "output_type": "display_data"
    },
    {
     "data": {
      "text/html": [
       "<pre>| 119     | 1m 13s       | 0.66204           | 0.813619              | 0.000410909 |</pre>"
      ],
      "text/plain": [
       "| 119     | 1m 13s       | 0.66204           | 0.813619              | 0.000410909 |"
      ]
     },
     "metadata": {},
     "output_type": "display_data"
    },
    {
     "data": {
      "text/html": [
       "<pre>| 124     | 1m 16s       | 0.661966          | 0.813571              | 0.000394323 |</pre>"
      ],
      "text/plain": [
       "| 124     | 1m 16s       | 0.661966          | 0.813571              | 0.000394323 |"
      ]
     },
     "metadata": {},
     "output_type": "display_data"
    },
    {
     "data": {
      "text/html": [
       "<pre>| 129     | 1m 19s       | 0.661896          | 0.813524              | 0.000379024 |</pre>"
      ],
      "text/plain": [
       "| 129     | 1m 19s       | 0.661896          | 0.813524              | 0.000379024 |"
      ]
     },
     "metadata": {},
     "output_type": "display_data"
    },
    {
     "data": {
      "text/html": [
       "<pre>| 134     | 1m 22s       | 0.661833          | 0.813482              | 0.000364867 |</pre>"
      ],
      "text/plain": [
       "| 134     | 1m 22s       | 0.661833          | 0.813482              | 0.000364867 |"
      ]
     },
     "metadata": {},
     "output_type": "display_data"
    },
    {
     "data": {
      "text/html": [
       "<pre>| 139     | 1m 25s       | 0.661771          | 0.813441              | 0.00035173  |</pre>"
      ],
      "text/plain": [
       "| 139     | 1m 25s       | 0.661771          | 0.813441              | 0.00035173  |"
      ]
     },
     "metadata": {},
     "output_type": "display_data"
    },
    {
     "data": {
      "text/html": [
       "<pre>| 144     | 1m 28s       | 0.661716          | 0.813404              | 0.000339506 |</pre>"
      ],
      "text/plain": [
       "| 144     | 1m 28s       | 0.661716          | 0.813404              | 0.000339506 |"
      ]
     },
     "metadata": {},
     "output_type": "display_data"
    },
    {
     "data": {
      "text/html": [
       "<pre>| 149     | 1m 31s       | 0.661664          | 0.813369              | 0.000328104 |</pre>"
      ],
      "text/plain": [
       "| 149     | 1m 31s       | 0.661664          | 0.813369              | 0.000328104 |"
      ]
     },
     "metadata": {},
     "output_type": "display_data"
    },
    {
     "data": {
      "text/html": [
       "<pre>| 154     | 1m 34s       | 0.661613          | 0.813334              | 0.000317442 |</pre>"
      ],
      "text/plain": [
       "| 154     | 1m 34s       | 0.661613          | 0.813334              | 0.000317442 |"
      ]
     },
     "metadata": {},
     "output_type": "display_data"
    },
    {
     "data": {
      "text/html": [
       "<pre>| 159     | 1m 37s       | 0.661566          | 0.813302              | 0.000307451 |</pre>"
      ],
      "text/plain": [
       "| 159     | 1m 37s       | 0.661566          | 0.813302              | 0.000307451 |"
      ]
     },
     "metadata": {},
     "output_type": "display_data"
    },
    {
     "data": {
      "text/html": [
       "<pre>| 164     | 1m 40s       | 0.661521          | 0.813271              | 0.00029807  |</pre>"
      ],
      "text/plain": [
       "| 164     | 1m 40s       | 0.661521          | 0.813271              | 0.00029807  |"
      ]
     },
     "metadata": {},
     "output_type": "display_data"
    },
    {
     "data": {
      "text/html": [
       "<pre>| 169     | 1m 43s       | 0.661478          | 0.813241              | 0.000289245 |</pre>"
      ],
      "text/plain": [
       "| 169     | 1m 43s       | 0.661478          | 0.813241              | 0.000289245 |"
      ]
     },
     "metadata": {},
     "output_type": "display_data"
    },
    {
     "data": {
      "text/html": [
       "<pre>| 174     | 1m 46s       | 0.66144           | 0.813213              | 0.000280927 |</pre>"
      ],
      "text/plain": [
       "| 174     | 1m 46s       | 0.66144           | 0.813213              | 0.000280927 |"
      ]
     },
     "metadata": {},
     "output_type": "display_data"
    },
    {
     "data": {
      "text/html": [
       "<pre>| 179     | 1m 49s       | 0.661402          | 0.813186              | 0.000273074 |</pre>"
      ],
      "text/plain": [
       "| 179     | 1m 49s       | 0.661402          | 0.813186              | 0.000273074 |"
      ]
     },
     "metadata": {},
     "output_type": "display_data"
    },
    {
     "data": {
      "text/html": [
       "<pre>| 184     | 1m 52s       | 0.661366          | 0.81316               | 0.000265648 |</pre>"
      ],
      "text/plain": [
       "| 184     | 1m 52s       | 0.661366          | 0.81316               | 0.000265648 |"
      ]
     },
     "metadata": {},
     "output_type": "display_data"
    },
    {
     "data": {
      "text/html": [
       "<pre>| 189     | 1m 55s       | 0.661331          | 0.813135              | 0.000258616 |</pre>"
      ],
      "text/plain": [
       "| 189     | 1m 55s       | 0.661331          | 0.813135              | 0.000258616 |"
      ]
     },
     "metadata": {},
     "output_type": "display_data"
    },
    {
     "data": {
      "text/html": [
       "<pre>| 194     | 1m 57s       | 0.661299          | 0.813111              | 0.000251946 |</pre>"
      ],
      "text/plain": [
       "| 194     | 1m 57s       | 0.661299          | 0.813111              | 0.000251946 |"
      ]
     },
     "metadata": {},
     "output_type": "display_data"
    },
    {
     "data": {
      "text/html": [
       "<pre>| 199     | 2m 0s        | 0.661268          | 0.813088              | 0.000245612 |</pre>"
      ],
      "text/plain": [
       "| 199     | 2m 0s        | 0.661268          | 0.813088              | 0.000245612 |"
      ]
     },
     "metadata": {},
     "output_type": "display_data"
    },
    {
     "data": {
      "text/html": [
       "<pre>+---------+--------------+-------------------+-----------------------+-------------+</pre>"
      ],
      "text/plain": [
       "+---------+--------------+-------------------+-----------------------+-------------+"
      ]
     },
     "metadata": {},
     "output_type": "display_data"
    },
    {
     "data": {
      "text/html": [
       "<pre>Optimization Complete: Maximum number of passes through the data reached.</pre>"
      ],
      "text/plain": [
       "Optimization Complete: Maximum number of passes through the data reached."
      ]
     },
     "metadata": {},
     "output_type": "display_data"
    },
    {
     "data": {
      "text/html": [
       "<pre>Computing final objective value and training RMSE.</pre>"
      ],
      "text/plain": [
       "Computing final objective value and training RMSE."
      ]
     },
     "metadata": {},
     "output_type": "display_data"
    },
    {
     "data": {
      "text/html": [
       "<pre>       Final objective value: 0.660619</pre>"
      ],
      "text/plain": [
       "       Final objective value: 0.660619"
      ]
     },
     "metadata": {},
     "output_type": "display_data"
    },
    {
     "data": {
      "text/html": [
       "<pre>       Final training RMSE: 0.812688</pre>"
      ],
      "text/plain": [
       "       Final training RMSE: 0.812688"
      ]
     },
     "metadata": {},
     "output_type": "display_data"
    }
   ],
   "source": [
    "rec_engine_8 = gl.factorization_recommender.create(   observation_data=glRatingsTrain, \n",
    "                                                    user_id=\"userID\", \n",
    "                                                    item_id=\"bookID\", \n",
    "                                                    target='rating',\n",
    "                                                    num_factors=8,\n",
    "                                                    solver='auto',\n",
    "                                                    max_iterations=200,\n",
    "                                                    regularization = 0.001,\n",
    "                                                    linear_regularization = 1e-12\n",
    "                                                    )"
   ]
  },
  {
   "cell_type": "code",
   "execution_count": 386,
   "metadata": {
    "collapsed": false
   },
   "outputs": [
    {
     "name": "stdout",
     "output_type": "stream",
     "text": [
      "0.893759935074\n",
      "-0.00531563974822\n"
     ]
    }
   ],
   "source": [
    "print rec_engine_8.evaluate_rmse(glRatingsTest, target='rating')['rmse_overall']\n",
    "print rec_engine_8.evaluate_rmse(glRatingsTest, target='rating')['rmse_overall'] - rec_engine_baseline.evaluate_rmse(glRatingsTest, target='rating')['rmse_overall']"
   ]
  },
  {
   "cell_type": "code",
   "execution_count": null,
   "metadata": {
    "collapsed": true
   },
   "outputs": [],
   "source": [
    "0.880022805682\n",
    "-0.00584060243154"
   ]
  },
  {
   "cell_type": "code",
   "execution_count": 1224,
   "metadata": {
    "collapsed": false
   },
   "outputs": [],
   "source": [
    "friendCounts = []\n",
    "userIDlist = []\n",
    "\n",
    "for f in friends.find():\n",
    "    userIDlist.append(f['userID'])\n",
    "    \n",
    "userIDset = set(userIDlist)\n",
    "\n",
    "for f in friends.find():\n",
    "    friendCounts.append(len(set(f['friends']) & userIDset))"
   ]
  },
  {
   "cell_type": "code",
   "execution_count": 1225,
   "metadata": {
    "collapsed": false
   },
   "outputs": [
    {
     "data": {
      "text/plain": [
       "count    926.00000\n",
       "mean       4.11987\n",
       "std        9.86458\n",
       "min        0.00000\n",
       "25%        0.00000\n",
       "50%        1.00000\n",
       "75%        2.00000\n",
       "max       66.00000\n",
       "dtype: float64"
      ]
     },
     "execution_count": 1225,
     "metadata": {},
     "output_type": "execute_result"
    }
   ],
   "source": [
    "friendCounts = pd.Series(friendCounts)\n",
    "friendCounts.describe()"
   ]
  },
  {
   "cell_type": "code",
   "execution_count": 1226,
   "metadata": {
    "collapsed": false
   },
   "outputs": [
    {
     "data": {
      "text/plain": [
       "471"
      ]
     },
     "execution_count": 1226,
     "metadata": {},
     "output_type": "execute_result"
    }
   ],
   "source": [
    "(friendCounts > 0).sum()"
   ]
  },
  {
   "cell_type": "code",
   "execution_count": 1227,
   "metadata": {
    "collapsed": false
   },
   "outputs": [],
   "source": [
    "adj_dict = {}\n",
    "for f in friends.find():\n",
    "    curFlist = set(f['friends'])\n",
    "    friendsInData = curFlist & set(userIDlist)\n",
    "    if len(friendsInData) > 0:\n",
    "        adj_dict[f['userID']] = list(friendsInData)"
   ]
  },
  {
   "cell_type": "code",
   "execution_count": 1228,
   "metadata": {
    "collapsed": false
   },
   "outputs": [
    {
     "data": {
      "text/plain": [
       "471"
      ]
     },
     "execution_count": 1228,
     "metadata": {},
     "output_type": "execute_result"
    }
   ],
   "source": [
    "len(adj_dict)"
   ]
  },
  {
   "cell_type": "code",
   "execution_count": 1229,
   "metadata": {
    "collapsed": true
   },
   "outputs": [],
   "source": [
    "g = nx.from_dict_of_lists(adj_dict)"
   ]
  },
  {
   "cell_type": "code",
   "execution_count": 1230,
   "metadata": {
    "collapsed": false
   },
   "outputs": [],
   "source": [
    "#nx.draw(g, node_size=10, alpha=0.25)"
   ]
  },
  {
   "cell_type": "code",
   "execution_count": 1231,
   "metadata": {
    "collapsed": false
   },
   "outputs": [
    {
     "data": {
      "text/plain": [
       "68"
      ]
     },
     "execution_count": 1231,
     "metadata": {},
     "output_type": "execute_result"
    }
   ],
   "source": [
    "commDict = community.best_partition(g)\n",
    "#colorDict = {k: min(v+1,11) + int(v>11) for k, v in commDict.items()}\n",
    "colorNames = colors.cnames.keys()\n",
    "colorDict = {k: colorNames[v % len(colorNames)] for k, v  in commDict.items()}\n",
    "max(commDict.values())"
   ]
  },
  {
   "cell_type": "code",
   "execution_count": 1276,
   "metadata": {
    "collapsed": false
   },
   "outputs": [],
   "source": [
    "g.graph['overlap']='True'\n",
    "#g.graph['size'] = '16, 9'\n",
    "#g.graph['ratio'] = 0\n",
    "\n",
    "nx.set_node_attributes(g, 'color', colorDict)\n",
    "nx.set_node_attributes(g, 'colorscheme', 'svg')\n",
    "nx.set_node_attributes(g, 'style', 'filled')"
   ]
  },
  {
   "cell_type": "code",
   "execution_count": 1277,
   "metadata": {
    "collapsed": false
   },
   "outputs": [
    {
     "data": {
      "image/png": "[encoded data removed]",
      "text/plain": [
       "<IPython.core.display.Image object>"
      ]
     },
     "execution_count": 1277,
     "metadata": {},
     "output_type": "execute_result"
    }
   ],
   "source": [
    "nxpd.draw(g.subgraph(filter(lambda node: commDict[node] < 2, g.nodes())), \\\n",
    "          layout='neato', show='ipynb')"
   ]
  },
  {
   "cell_type": "code",
   "execution_count": 1282,
   "metadata": {
    "collapsed": false
   },
   "outputs": [],
   "source": [
    "communityNodes = [nodes for nodes in nx.connected_components(g)]\n",
    "#communityNodes = \\\n",
    "#[[uID for uID in commDict if commDict[uID] == i] for i in range(max(commDict.values()))]"
   ]
  },
  {
   "cell_type": "code",
   "execution_count": 1283,
   "metadata": {
    "collapsed": false
   },
   "outputs": [],
   "source": [
    "communitySizes = [len(nodes) for nodes in communityNodes]"
   ]
  },
  {
   "cell_type": "code",
   "execution_count": 1284,
   "metadata": {
    "collapsed": false
   },
   "outputs": [
    {
     "data": {
      "text/plain": [
       "[(3, 3),\n",
       " (4, 3),\n",
       " (5, 3),\n",
       " (7, 3),\n",
       " (8, 3),\n",
       " (10, 5),\n",
       " (12, 3),\n",
       " (16, 3),\n",
       " (19, 4),\n",
       " (20, 6),\n",
       " (24, 3),\n",
       " (28, 3),\n",
       " (30, 3),\n",
       " (31, 3),\n",
       " (43, 4),\n",
       " (45, 3),\n",
       " (48, 3)]"
      ]
     },
     "execution_count": 1284,
     "metadata": {},
     "output_type": "execute_result"
    }
   ],
   "source": [
    "commsOfInterest = [(i, communitySizes[i]) for i in range(len(communitySizes))\\\n",
    "                   if communitySizes[i] > 2 and communitySizes[i] < 30]\n",
    "commsOfInterest"
   ]
  },
  {
   "cell_type": "code",
   "execution_count": 1297,
   "metadata": {
    "collapsed": false
   },
   "outputs": [
    {
     "name": "stdout",
     "output_type": "stream",
     "text": [
      "0\n",
      "{}\n",
      "\n",
      "1\n",
      "{}\n",
      "\n",
      "2\n",
      "{}\n",
      "\n",
      "3\n",
      "{}\n",
      "\n",
      "4\n",
      "{}\n",
      "\n",
      "5\n",
      "{147144: 1.0, 146673: 1.0, 147162: 1.0, 147284: 1.0, 146629: 1.0}\n",
      "\n",
      "6\n",
      "{}\n",
      "\n",
      "7\n",
      "{}\n",
      "\n",
      "8\n",
      "{}\n",
      "\n",
      "9\n",
      "{135817: 1.0, 134021: 1.0, 52823: 1.0}\n",
      "\n",
      "10\n",
      "{94664: 1.0, 94819: 1.0, 105159: 1.0}\n",
      "\n",
      "11\n",
      "{}\n",
      "\n",
      "12\n",
      "{}\n",
      "\n",
      "13\n",
      "{}\n",
      "\n",
      "14\n",
      "{58672: 1.0, 56276: 1.0, 56692: 1.0, 56493: 1.0}\n",
      "\n",
      "15\n",
      "{}\n",
      "\n",
      "16\n",
      "{}\n",
      "\n"
     ]
    },
    {
     "data": {
      "image/png": "[encoded data removed]",
      "text/plain": [
       "<matplotlib.figure.Figure at 0x7fe6984f99d0>"
      ]
     },
     "metadata": {},
     "output_type": "display_data"
    },
    {
     "data": {
      "image/png": "[encoded data removed]",
      "text/plain": [
       "<matplotlib.figure.Figure at 0x7fe6e5ad3fd0>"
      ]
     },
     "metadata": {},
     "output_type": "display_data"
    },
    {
     "data": {
      "image/png": "[encoded data removed]",
      "text/plain": [
       "<matplotlib.figure.Figure at 0x7fe6e6d7e5d0>"
      ]
     },
     "metadata": {},
     "output_type": "display_data"
    },
    {
     "data": {
      "image/png": "[encoded data removed]",
      "text/plain": [
       "<matplotlib.figure.Figure at 0x7fe6786f9150>"
      ]
     },
     "metadata": {},
     "output_type": "display_data"
    },
    {
     "data": {
      "image/png": "[encoded data removed]",
      "text/plain": [
       "<matplotlib.figure.Figure at 0x7fe6786f9bd0>"
      ]
     },
     "metadata": {},
     "output_type": "display_data"
    },
    {
     "data": {
      "image/png": "[encoded data removed]",
      "text/plain": [
       "<matplotlib.figure.Figure at 0x7fe6e5b18850>"
      ]
     },
     "metadata": {},
     "output_type": "display_data"
    },
    {
     "data": {
      "image/png": "[encoded data removed]",
      "text/plain": [
       "<matplotlib.figure.Figure at 0x7fe6382500d0>"
      ]
     },
     "metadata": {},
     "output_type": "display_data"
    },
    {
     "data": {
      "image/png": "[encoded data removed]",
      "text/plain": [
       "<matplotlib.figure.Figure at 0x7fe6f05bae10>"
      ]
     },
     "metadata": {},
     "output_type": "display_data"
    },
    {
     "data": {
      "image/png": "[encoded data removed]",
      "text/plain": [
       "<matplotlib.figure.Figure at 0x7fe6d4463310>"
      ]
     },
     "metadata": {},
     "output_type": "display_data"
    },
    {
     "data": {
      "image/png": "[encoded data removed]",
      "text/plain": [
       "<matplotlib.figure.Figure at 0x7fe6f05bfcd0>"
      ]
     },
     "metadata": {},
     "output_type": "display_data"
    },
    {
     "data": {
      "image/png": "[encoded data removed]",
      "text/plain": [
       "<matplotlib.figure.Figure at 0x7fe658252f10>"
      ]
     },
     "metadata": {},
     "output_type": "display_data"
    },
    {
     "data": {
      "image/png": "[encoded data removed]",
      "text/plain": [
       "<matplotlib.figure.Figure at 0x7fe5303c6810>"
      ]
     },
     "metadata": {},
     "output_type": "display_data"
    },
    {
     "data": {
      "image/png": "[encoded data removed]",
      "text/plain": [
       "<matplotlib.figure.Figure at 0x7fe6e6ad9c50>"
      ]
     },
     "metadata": {},
     "output_type": "display_data"
    },
    {
     "data": {
      "image/png": "[encoded data removed]",
      "text/plain": [
       "<matplotlib.figure.Figure at 0x7fe6582aac90>"
      ]
     },
     "metadata": {},
     "output_type": "display_data"
    },
    {
     "data": {
      "image/png": "[encoded data removed]",
      "text/plain": [
       "<matplotlib.figure.Figure at 0x7fe6581e9d50>"
      ]
     },
     "metadata": {},
     "output_type": "display_data"
    },
    {
     "data": {
      "image/png": "[encoded data removed]",
      "text/plain": [
       "<matplotlib.figure.Figure at 0x7fe7086b8990>"
      ]
     },
     "metadata": {},
     "output_type": "display_data"
    },
    {
     "data": {
      "image/png": "[encoded data removed]",
      "text/plain": [
       "<matplotlib.figure.Figure at 0x7fe65875b610>"
      ]
     },
     "metadata": {},
     "output_type": "display_data"
    }
   ],
   "source": [
    "reducedCommsOfInterest = []\n",
    "for i, commIndex in enumerate(commsOfInterest):\n",
    "    sg = g.subgraph(communityNodes[commIndex[0]])\n",
    "    sgClustering = nx.clustering(sg)\n",
    "    reducedComm = [node for node in communityNodes[commIndex[0]]\\\n",
    "                  if sgClustering[node] > 0]\n",
    "    if True:#len(reducedComm) > 0 and nx.number_connected_components(sg.subgraph(reducedComm)) == 1:\n",
    "        reducedCommsOfInterest.append(reducedComm)\n",
    "\n",
    "\n",
    "for i, comm in enumerate(reducedCommsOfInterest):\n",
    "    sg = g.subgraph(comm)\n",
    "    plt.figure()\n",
    "    print str(i) + '\\n' + str(nx.clustering(sg)) + '\\n'\n",
    "    plt.title(i)\n",
    "    nx.draw(sg, pos=nx.fruchterman_reingold_layout(sg, k=1))"
   ]
  },
  {
   "cell_type": "code",
   "execution_count": 414,
   "metadata": {
    "collapsed": false
   },
   "outputs": [
    {
     "data": {
      "text/plain": [
       "\"\\nfor i, commIndex in enumerate(commsOfInterest):\\n    sg = g.subgraph(communityNodes[commIndex[0]])\\n    sg.graph['overlap'] = 'scale'\\n    plt.figure()\\n    plt.title(str(i) + '\\n' + str(nx.average_clustering(sg)))\\n    nx.draw(sg, labels = nx.clustering(sg), pos=nx.fruchterman_reingold_layout(sg))\\n\""
      ]
     },
     "execution_count": 414,
     "metadata": {},
     "output_type": "execute_result"
    }
   ],
   "source": [
    "'''\n",
    "for i, commIndex in enumerate(commsOfInterest):\n",
    "    sg = g.subgraph(communityNodes[commIndex[0]])\n",
    "    sg.graph['overlap'] = 'scale'\n",
    "    plt.figure()\n",
    "    plt.title(str(i) + '\\n' + str(nx.average_clustering(sg)))\n",
    "    nx.draw(sg, labels = nx.clustering(sg), pos=nx.fruchterman_reingold_layout(sg))\n",
    "'''"
   ]
  },
  {
   "cell_type": "code",
   "execution_count": 1298,
   "metadata": {
    "collapsed": false
   },
   "outputs": [],
   "source": [
    "completedCommsOfInterest = []\n",
    "for comm in reducedCommsOfInterest:\n",
    "    commFriendsLevel1 = {f['userID']: f['friends'] \\\n",
    "                         for f in friends.find({'userID': {'$in': comm}})\\\n",
    "                        }\n",
    "    graphCommFriendsLevel1 = nx.from_dict_of_lists(commFriendsLevel1)\n",
    "    \n",
    "    completedCommsOfInterest.append([node for node in graphCommFriendsLevel1.nodes() \\\n",
    "     if nx.clustering(graphCommFriendsLevel1)[node] > 0])"
   ]
  },
  {
   "cell_type": "code",
   "execution_count": 1299,
   "metadata": {
    "collapsed": false
   },
   "outputs": [
    {
     "data": {
      "image/png": "[encoded data removed]",
      "text/plain": [
       "<matplotlib.figure.Figure at 0x7fe6e61d2990>"
      ]
     },
     "metadata": {},
     "output_type": "display_data"
    },
    {
     "data": {
      "image/png": "[encoded data removed]",
      "text/plain": [
       "<matplotlib.figure.Figure at 0x7fe6d44a3510>"
      ]
     },
     "metadata": {},
     "output_type": "display_data"
    },
    {
     "data": {
      "image/png": "[encoded data removed]",
      "text/plain": [
       "<matplotlib.figure.Figure at 0x7fe69859f910>"
      ]
     },
     "metadata": {},
     "output_type": "display_data"
    },
    {
     "data": {
      "image/png": "[encoded data removed]",
      "text/plain": [
       "<matplotlib.figure.Figure at 0x7fe6e57148d0>"
      ]
     },
     "metadata": {},
     "output_type": "display_data"
    },
    {
     "data": {
      "image/png": "[encoded data removed]",
      "text/plain": [
       "<matplotlib.figure.Figure at 0x7fe530df9990>"
      ]
     },
     "metadata": {},
     "output_type": "display_data"
    },
    {
     "data": {
      "image/png": "[encoded data removed]",
      "text/plain": [
       "<matplotlib.figure.Figure at 0x7fe530df9e50>"
      ]
     },
     "metadata": {},
     "output_type": "display_data"
    },
    {
     "data": {
      "image/png": "[encoded data removed]",
      "text/plain": [
       "<matplotlib.figure.Figure at 0x7fe52a110b10>"
      ]
     },
     "metadata": {},
     "output_type": "display_data"
    },
    {
     "data": {
      "image/png": "[encoded data removed]",
      "text/plain": [
       "<matplotlib.figure.Figure at 0x7fe6e76b7b50>"
      ]
     },
     "metadata": {},
     "output_type": "display_data"
    },
    {
     "data": {
      "image/png": "[encoded data removed]",
      "text/plain": [
       "<matplotlib.figure.Figure at 0x7fe6986dc150>"
      ]
     },
     "metadata": {},
     "output_type": "display_data"
    },
    {
     "data": {
      "image/png": "[encoded data removed]",
      "text/plain": [
       "<matplotlib.figure.Figure at 0x7fe52bbcf510>"
      ]
     },
     "metadata": {},
     "output_type": "display_data"
    },
    {
     "data": {
      "image/png": "[encoded data removed]",
      "text/plain": [
       "<matplotlib.figure.Figure at 0x7fe7095941d0>"
      ]
     },
     "metadata": {},
     "output_type": "display_data"
    },
    {
     "data": {
      "image/png": "[encoded data removed]",
      "text/plain": [
       "<matplotlib.figure.Figure at 0x7fe7095944d0>"
      ]
     },
     "metadata": {},
     "output_type": "display_data"
    },
    {
     "data": {
      "image/png": "[encoded data removed]",
      "text/plain": [
       "<matplotlib.figure.Figure at 0x7fe65843b210>"
      ]
     },
     "metadata": {},
     "output_type": "display_data"
    },
    {
     "data": {
      "image/png": "[encoded data removed]",
      "text/plain": [
       "<matplotlib.figure.Figure at 0x7fe6f3c55690>"
      ]
     },
     "metadata": {},
     "output_type": "display_data"
    },
    {
     "data": {
      "image/png": "[encoded data removed]",
      "text/plain": [
       "<matplotlib.figure.Figure at 0x7fe5524b6750>"
      ]
     },
     "metadata": {},
     "output_type": "display_data"
    },
    {
     "data": {
      "image/png": "[encoded data removed]",
      "text/plain": [
       "<matplotlib.figure.Figure at 0x7fe51b6f3250>"
      ]
     },
     "metadata": {},
     "output_type": "display_data"
    },
    {
     "data": {
      "image/png": "[encoded data removed]",
      "text/plain": [
       "<matplotlib.figure.Figure at 0x7fe70a685950>"
      ]
     },
     "metadata": {},
     "output_type": "display_data"
    }
   ],
   "source": [
    "for i, (comm1, comm2) in enumerate(zip(reducedCommsOfInterest, completedCommsOfInterest)):\n",
    "    commFriendsLevel1 = {f['userID']: f['friends'] \\\n",
    "                         for f in friends.find({'userID': {'$in': comm1}})\\\n",
    "                        }\n",
    "    graphCommFriendsLevel1 = nx.from_dict_of_lists(commFriendsLevel1)\n",
    "    sg = graphCommFriendsLevel1.subgraph(comm2)\n",
    "    colorDict = {True: 'r', False: 'b'}\n",
    "    \n",
    "    plt.figure()\n",
    "    plt.title(i)\n",
    "    nx.draw(sg, pos=nx.fruchterman_reingold_layout(sg), \\\n",
    "            node_color = [colorDict[node in comm1] for node in sg.nodes()]\\\n",
    "           )"
   ]
  },
  {
   "cell_type": "code",
   "execution_count": 762,
   "metadata": {
    "collapsed": false
   },
   "outputs": [],
   "source": [
    "dbFromBook['comms'].delete_many({});\n",
    "dbFromBook['comms'].insert_one({'comms': completedCommsOfInterest});"
   ]
  },
  {
   "cell_type": "code",
   "execution_count": 920,
   "metadata": {
    "collapsed": false
   },
   "outputs": [
    {
     "data": {
      "text/plain": [
       "[u'adj_dict',\n",
       " u'books',\n",
       " u'commBooks',\n",
       " u'commFriends',\n",
       " u'commRatings',\n",
       " u'comms',\n",
       " u'friends',\n",
       " u'reviews',\n",
       " u'system.indexes']"
      ]
     },
     "execution_count": 920,
     "metadata": {},
     "output_type": "execute_result"
    }
   ],
   "source": [
    "dbFromBook.collection_names()"
   ]
  },
  {
   "cell_type": "code",
   "execution_count": 764,
   "metadata": {
    "collapsed": false
   },
   "outputs": [
    {
     "name": "stdout",
     "output_type": "stream",
     "text": [
      "6326\n",
      "65\n",
      "280\n"
     ]
    }
   ],
   "source": [
    "books = dbFromBook['commBooks']\n",
    "ratings = dbFromBook['commRatings']\n",
    "friends = dbFromBook['commFriends']\n",
    "\n",
    "print books.count()\n",
    "print ratings.count()\n",
    "print sum([len(comm) for comm in completedCommsOfInterest])"
   ]
  },
  {
   "cell_type": "code",
   "execution_count": 571,
   "metadata": {
    "collapsed": false
   },
   "outputs": [],
   "source": [
    "commRatingMeans = []\n",
    "for commIndex in completedCommsOfInterest:\n",
    "    commRatings = []\n",
    "    for r in ratings.find({'userID': {'$in': commIndex}}):\n",
    "        if str(focalBookID) in r['ratings']:\n",
    "            commRatings.append(r['ratings'][str(focalBookID)][0])\n",
    "    commRatingMeans.append(np.mean(commRatings))"
   ]
  },
  {
   "cell_type": "code",
   "execution_count": 869,
   "metadata": {
    "collapsed": false
   },
   "outputs": [
    {
     "name": "stdout",
     "output_type": "stream",
     "text": [
      "0.0\n",
      "0.0147338333014\n",
      "0.0294676666028\n",
      "0.0442014999042\n",
      "0.0589353332056\n",
      "0.0736691665071\n",
      "0.0884029998085\n",
      "0.10313683311\n",
      "0.117870666411\n",
      "0.132604499713\n",
      "0.147338333014\n",
      "0.162072166316\n",
      "0.176805999617\n",
      "0.191539832918\n",
      "0.20627366622\n",
      "0.221007499521\n",
      "0.235741332823\n",
      "0.250475166124\n",
      "0.265208999425\n",
      "0.279942832727\n",
      "0.294676666028\n",
      "0.30941049933\n",
      "0.324144332631\n",
      "0.338878165932\n",
      "0.353611999234\n",
      "0.368345832535\n",
      "0.383079665837\n",
      "0.397813499138\n",
      "0.412547332439\n",
      "0.427281165741\n",
      "0.442014999042\n",
      "0.456748832344\n",
      "0.471482665645\n",
      "0.486216498947\n",
      "0.500950332248\n",
      "0.515684165549\n",
      "0.530417998851\n",
      "0.545151832152\n",
      "0.559885665454\n",
      "0.574619498755\n",
      "0.589353332056\n",
      "0.604087165358\n",
      "0.618820998659\n",
      "0.633554831961\n",
      "0.648288665262\n",
      "0.663022498563\n",
      "0.677756331865\n",
      "0.692490165166\n",
      "0.707223998468\n",
      "0.721957831769\n",
      "0.736691665071\n",
      "0.751425498372\n",
      "0.766159331673\n",
      "0.780893164975\n",
      "0.795626998276\n",
      "0.810360831578\n",
      "0.825094664879\n",
      "0.83982849818\n",
      "0.854562331482\n",
      "0.869296164783\n",
      "0.884029998085\n",
      "0.898763831386\n",
      "0.913497664687\n",
      "0.928231497989\n",
      "0.94296533129\n",
      "0.957699164592\n",
      "0.972432997893\n",
      "0.987166831194\n",
      "1.0019006645\n",
      "1.0166344978\n",
      "1.0313683311\n",
      "1.0461021644\n",
      "1.0608359977\n",
      "1.075569831\n",
      "1.0903036643\n",
      "1.10503749761\n",
      "1.11977133091\n",
      "1.13450516421\n",
      "1.14923899751\n",
      "1.16397283081\n",
      "1.17870666411\n",
      "1.19344049741\n",
      "1.20817433072\n",
      "1.22290816402\n",
      "1.23764199732\n",
      "1.25237583062\n",
      "1.26710966392\n",
      "1.28184349722\n",
      "1.29657733052\n",
      "1.31131116383\n",
      "1.32604499713\n",
      "1.34077883043\n",
      "1.35551266373\n",
      "1.37024649703\n",
      "1.38498033033\n",
      "1.39971416363\n",
      "1.41444799694\n",
      "1.42918183024\n",
      "1.44391566354\n",
      "1.45864949684\n",
      "1.47338333014\n",
      "1.48811716344\n",
      "1.50285099674\n",
      "1.51758483005\n",
      "1.53231866335\n",
      "1.54705249665\n",
      "1.56178632995\n",
      "1.57652016325\n",
      "1.59125399655\n",
      "1.60598782985\n",
      "1.62072166316\n",
      "1.63545549646\n",
      "1.65018932976\n",
      "1.66492316306\n",
      "1.67965699636\n",
      "1.69439082966\n",
      "1.70912466296\n",
      "1.72385849626\n",
      "1.73859232957\n",
      "1.75332616287\n",
      "1.76805999617\n",
      "1.78279382947\n"
     ]
    }
   ],
   "source": [
    "commSets = [set(comm) for comm in completedCommsOfInterest]\n",
    "\n",
    "for j, b in enumerate(dbFull['books'].find()):\n",
    "    bookID = b['bookID']\n",
    "    ratingSet = set([int(k) for k in b['ratings'].keys()])\n",
    "    commsOfRaters = [i for i, comm in enumerate(commSets)\\\n",
    "                    if len(comm & ratingSet) > 0]\n",
    "    dbFull['books'].update_one(\n",
    "            {\"bookID\": bookID},\n",
    "            {\"$set\": {'commsOfRaters': commsOfRaters}},\n",
    "            upsert=True)\n",
    "    if j % 1000 == 0:\n",
    "        print float(j) / dbFull['books'].count()"
   ]
  },
  {
   "cell_type": "code",
   "execution_count": 910,
   "metadata": {
    "collapsed": false
   },
   "outputs": [],
   "source": [
    "booksToExclude = set()\n",
    "booksToInclude = set()\n",
    "\n",
    "for b in books.find():\n",
    "    if len(b['commsOfRaters']) < 2 or len(b['ratings']) < 10:\n",
    "        booksToExclude.add(b['bookID'])\n",
    "    else:\n",
    "        booksToInclude.add(b['bookID'])"
   ]
  },
  {
   "cell_type": "code",
   "execution_count": 911,
   "metadata": {
    "collapsed": false
   },
   "outputs": [
    {
     "name": "stdout",
     "output_type": "stream",
     "text": [
      "67318\n",
      "553\n",
      "355\n"
     ]
    }
   ],
   "source": [
    "print len(booksToExclude)\n",
    "print len(booksToInclude)\n",
    "print ratings.count()"
   ]
  },
  {
   "cell_type": "code",
   "execution_count": 912,
   "metadata": {
    "collapsed": false
   },
   "outputs": [],
   "source": [
    "nUserCounts = []\n",
    "for i, row in enumerate(ratings.find()):\n",
    "    nUserCounts.append(len(row['ratings']))\n",
    "    \n",
    "nBookCounts = []\n",
    "bookIDlist = []\n",
    "for i, row in enumerate(books.find({'bookID': {'$in': list(booksToInclude)}})):\n",
    "    nBookCounts.append(len(row['ratings']))\n",
    "    bookIDlist.append(row['bookID'])"
   ]
  },
  {
   "cell_type": "code",
   "execution_count": 913,
   "metadata": {
    "collapsed": false
   },
   "outputs": [
    {
     "name": "stdout",
     "output_type": "stream",
     "text": [
      "count    553.000000\n",
      "mean      20.106691\n",
      "std       14.703883\n",
      "min       10.000000\n",
      "25%       11.000000\n",
      "50%       15.000000\n",
      "75%       23.000000\n",
      "max      119.000000\n",
      "dtype: float64\n"
     ]
    }
   ],
   "source": [
    "nUserCounts = pd.Series(nUserCounts)\n",
    "nBookCounts = pd.Series(nBookCounts)\n",
    "\n",
    "print nBookCounts.describe()"
   ]
  },
  {
   "cell_type": "code",
   "execution_count": 915,
   "metadata": {
    "collapsed": true
   },
   "outputs": [],
   "source": [
    "glRatingDict = makeRatingDictForGL(ratings, booksToExclude)\n",
    "glRatings = gl.SFrame(glRatingDict)"
   ]
  },
  {
   "cell_type": "code",
   "execution_count": 916,
   "metadata": {
    "collapsed": false
   },
   "outputs": [],
   "source": [
    "glRatingsTrain, glRatingsTest = gl.recommender.util.random_split_by_user(glRatings, \n",
    "                                                    user_id=\"userID\", \n",
    "                                                    item_id=\"bookID\")"
   ]
  },
  {
   "cell_type": "code",
   "execution_count": 917,
   "metadata": {
    "collapsed": false
   },
   "outputs": [
    {
     "name": "stdout",
     "output_type": "stream",
     "text": [
      "14630 331 553\n",
      "16.5497737557\n",
      "8.27488687783\n",
      "5.51659125189\n",
      "4.13744343891\n",
      "3.30995475113\n",
      "2.75829562594\n",
      "2.36425339367\n",
      "2.06872171946\n"
     ]
    }
   ],
   "source": [
    "nTrainObs = glRatingsTrain.shape[0]\n",
    "nTrainUsers = len(glRatingsTrain['userID'].unique())\n",
    "nTrainItems = len(glRatingsTrain['bookID'].unique())\n",
    "\n",
    "print nTrainObs, nTrainUsers, nTrainItems\n",
    "\n",
    "for n in range(1,9):\n",
    "    print nTrainObs / (n*float(nTrainUsers + nTrainItems))"
   ]
  },
  {
   "cell_type": "code",
   "execution_count": 918,
   "metadata": {
    "collapsed": false
   },
   "outputs": [
    {
     "name": "stdout",
     "output_type": "stream",
     "text": [
      "(0, 12, 504)\n",
      "(1, 13, 703)\n",
      "(2, 12, 210)\n",
      "(3, 40, 829)\n",
      "(4, 4, 121)\n",
      "(5, 10, 334)\n",
      "(6, 17, 599)\n",
      "(7, 17, 680)\n",
      "(8, 7, 208)\n",
      "(9, 15, 246)\n",
      "(10, 13, 619)\n",
      "(11, 4, 93)\n",
      "(12, 22, 588)\n",
      "(13, 17, 490)\n",
      "(14, 6, 151)\n",
      "(15, 16, 894)\n",
      "(16, 24, 655)\n",
      "(17, 12, 321)\n",
      "(18, 19, 690)\n"
     ]
    }
   ],
   "source": [
    "for i in range(len(completedCommsOfInterest)):\n",
    "    commratings = \\\n",
    "    np.array([row['rating'] for row in glRatingsTrain if row['userID'] in completedCommsOfInterest[i]])\n",
    "    print (i, len(completedCommsOfInterest[i]), len(commratings))"
   ]
  },
  {
   "cell_type": "code",
   "execution_count": 789,
   "metadata": {
    "collapsed": false
   },
   "outputs": [],
   "source": [
    "clientJest = MongoClient(\"mongodb://35.163.255.3\")\n",
    "dbJest = clientJest['goodreads_explore_from_book_jest']\n",
    "\n",
    "clientUlysses = MongoClient(\"mongodb://35.161.242.150\")\n",
    "dbUlysses = clientUlysses['goodreads_explore_from_book_ulysses']\n",
    "\n",
    "clientAtlas = MongoClient(\"mongodb://35.161.154.87\")\n",
    "dbAtlas = clientAtlas['goodreads_explore_from_book_atlas']\n",
    "\n",
    "clientManifesto = MongoClient(\"mongodb://35.160.173.218\")\n",
    "dbManifesto = clientManifesto['goodreads_explore_from_book_manifesto']\n",
    "\n",
    "dbList = [dbJest, dbUlysses, dbAtlas, dbManifesto]"
   ]
  },
  {
   "cell_type": "code",
   "execution_count": 800,
   "metadata": {
    "collapsed": false
   },
   "outputs": [
    {
     "name": "stdout",
     "output_type": "stream",
     "text": [
      "71038\n"
     ]
    }
   ],
   "source": []
  },
  {
   "cell_type": "code",
   "execution_count": 828,
   "metadata": {
    "collapsed": false
   },
   "outputs": [
    {
     "data": {
      "text/plain": [
       "{u'_id': ObjectId('5833403cae0a79b494b90c49'),\n",
       " u'bookID': 18194,\n",
       " u'commsOfRaters': [0],\n",
       " u'ratings': {u'146050': [0, u'Jan 2003', u'Jun 22, 2007'],\n",
       "  u'147144': [3, u'not set', u'Jun 22, 2007']}}"
      ]
     },
     "execution_count": 828,
     "metadata": {},
     "output_type": "execute_result"
    }
   ],
   "source": [
    "books.find_one({'bookID': int(ratings.find_one()['ratings'].keys()[0])})"
   ]
  },
  {
   "cell_type": "code",
   "execution_count": 830,
   "metadata": {
    "collapsed": false
   },
   "outputs": [
    {
     "name": "stdout",
     "output_type": "stream",
     "text": [
      "0\n",
      "10\n",
      "20\n",
      "30\n",
      "40\n",
      "50\n",
      "60\n",
      "0\n",
      "10\n",
      "20\n",
      "0\n",
      "10\n",
      "20\n",
      "30\n",
      "0\n",
      "10\n",
      "20\n",
      "30\n"
     ]
    }
   ],
   "source": [
    "#friendsFull.insert_many(dbJest['friends'].find())\n",
    "#friendsFull.insert_many(dbUlysses['friends'].find())\n",
    "#friendsFull.insert_many(dbAtlas['friends'].find())\n",
    "#friendsFull.insert_many(dbManifesto['friends'].find())\n",
    "\n",
    "for db in dbList:\n",
    "    for i, r in enumerate(db['commRatings'].find()):\n",
    "        if ratings.find({'userID': r['userID']}).count() == 0:\n",
    "            ratings.insert_one(r)\n",
    "        for bookID in r['ratings'].keys():\n",
    "            if books.find({'bookID': int(bookID)}).count() == 0:\n",
    "                b = db['commBooks'].find_one({'bookID': int(bookID)})\n",
    "                if b is not None:\n",
    "                    books.insert_one(b)\n",
    "        if i % 10 == 0:\n",
    "            print i\n",
    "    '''\n",
    "    for b in db['commBooks'].find():\n",
    "        if books.find({'bookID': b['bookID']}).count() == 0:\n",
    "            books.insert_one(b)\n",
    "        if books.count() % 1000 == 0:\n",
    "            print float(books.count()) / sum([db['commBooks'].count() for db in dbList])\n",
    "    '''"
   ]
  },
  {
   "cell_type": "code",
   "execution_count": 833,
   "metadata": {
    "collapsed": true
   },
   "outputs": [],
   "source": [
    "dbFull['comms'].delete_many({});\n",
    "dbFull['comms'].insert_one({'comms': completedCommsOfInterest});"
   ]
  },
  {
   "cell_type": "code",
   "execution_count": 941,
   "metadata": {
    "collapsed": false
   },
   "outputs": [
    {
     "data": {
      "text/plain": [
       "[u'goodreads_explore_from_book_tnc',\n",
       " u'goodreads_explore_multigraph_biased_sampling',\n",
       " u'goodreads_explore',\n",
       " u'goodreads_full',\n",
       " u'goodreads_explore_from_book_hedgehog',\n",
       " u'goodreads_explore_from_book_mice_and_men',\n",
       " u'local',\n",
       " u'goodreads_explore_from_book_jest',\n",
       " u'goodreads_explore_from_book_swiftly',\n",
       " u'goodreads_explore_from_book',\n",
       " u'goodreads_explore_from_book_lies',\n",
       " u'goodreads',\n",
       " u'goodreads_explore_from_book_divergent',\n",
       " u'goodreads_explore_multigraph']"
      ]
     },
     "execution_count": 941,
     "metadata": {},
     "output_type": "execute_result"
    }
   ],
   "source": [
    "client.database_names()"
   ]
  },
  {
   "cell_type": "code",
   "execution_count": 90,
   "metadata": {
    "collapsed": false
   },
   "outputs": [
    {
     "ename": "SyntaxError",
     "evalue": "keyword argument repeated (<ipython-input-90-2a5669fd64c7>, line 7)",
     "output_type": "error",
     "traceback": [
      "\u001b[0;36m  File \u001b[0;32m\"<ipython-input-90-2a5669fd64c7>\"\u001b[0;36m, line \u001b[0;32m7\u001b[0m\n\u001b[0;31m    max_iterations=1000,                                                  max_iterations=1000,\u001b[0m\n\u001b[0;31mSyntaxError\u001b[0m\u001b[0;31m:\u001b[0m keyword argument repeated\n"
     ]
    }
   ],
   "source": [
    "rec_engine_8 = gl.factorization_recommender.create(   observation_data=glRatingsTrain, \n",
    "                                                    user_id=\"userID\", \n",
    "                                                    item_id=\"bookID\", \n",
    "                                                    target='rating',\n",
    "                                                    num_factors=8,\n",
    "                                                    solver='auto',\n",
    "                                                    max_iterations=1000,                                                  max_iterations=1000,\n",
    "                                                    regularization = 1e-12,\n",
    "                                                    linear_regularization = 1\n",
    "                                                    )"
   ]
  },
  {
   "cell_type": "code",
   "execution_count": null,
   "metadata": {
    "collapsed": false
   },
   "outputs": [],
   "source": [
    "print rec_engine_8.evaluate_rmse(glRatingsTest, target='rating')['rmse_overall']\n",
    "print rec_engine_8.evaluate_rmse(glRatingsTest, target='rating')['rmse_overall'] - rec_engine_baseline.evaluate_rmse(glRatingsTest, target='rating')['rmse_overall']"
   ]
  },
  {
   "cell_type": "code",
   "execution_count": 33,
   "metadata": {
    "collapsed": false
   },
   "outputs": [],
   "source": [
    "rec_engine = rec_engine_8\n",
    "\n",
    "bookWeightings = rec_engine.get('coefficients')['bookID']\n",
    "npBookWeightings = bookWeightings['factors'].to_numpy()\n",
    "for i, row in enumerate(npBookWeightings):\n",
    "    npBookWeightings[i,:] /= np.linalg.norm(row)\n",
    "bookWeightings['factors'] = gl.SArray(npBookWeightings)\n",
    "bookWeightings = bookWeightings.unpack('factors')"
   ]
  },
  {
   "cell_type": "code",
   "execution_count": 52,
   "metadata": {
    "collapsed": false
   },
   "outputs": [
    {
     "data": {
      "text/plain": [
       "0.9777261449253141"
      ]
     },
     "execution_count": 52,
     "metadata": {},
     "output_type": "execute_result"
    }
   ],
   "source": [
    "bookWeightings.sort('factors.0', ascending=False)['factors.0'][50]"
   ]
  },
  {
   "cell_type": "code",
   "execution_count": 55,
   "metadata": {
    "collapsed": false
   },
   "outputs": [
    {
     "name": "stdout",
     "output_type": "stream",
     "text": [
      "Flow My Tears, the Policeman Said\n",
      "The Left Hand of Darkness\n",
      "      \n",
      "          (Hainish Cycle #6)\n",
      "On Beauty\n",
      "Dance Dance Dance\n",
      "      \n",
      "          (The Rat #4)\n",
      "The Mote in God's Eye\n",
      "      \n",
      "          (Moties #1)\n",
      "Labyrinths:  Selected Stories and Other Writings\n",
      "------\n",
      "Swann's Way\n",
      "      \n",
      "          (À la recherche du temps perdu #1)\n",
      "Exodus\n"
     ]
    }
   ],
   "source": [
    "print '\\n'.join([bookTitle(int(bID)) \n",
    "                 for bID in bookWeightings.sort('factors.0', ascending=False)['bookID'][:100]\n",
    "                 if len(books.find_one({'bookID': int(bID)})['ratings']) > 20])\n",
    "print '------'\n",
    "print '\\n'.join([bookTitle(int(bID)) \n",
    "                 for bID in bookWeightings.sort('factors.0', ascending=True)['bookID'][:100]\n",
    "                 if len(books.find_one({'bookID': int(bID)})['ratings']) > 20])"
   ]
  },
  {
   "cell_type": "code",
   "execution_count": 59,
   "metadata": {
    "collapsed": false
   },
   "outputs": [
    {
     "name": "stdout",
     "output_type": "stream",
     "text": [
      "The Taming of the Shrew\n",
      "Mansfield Park\n",
      "The Power and the Glory\n",
      "------\n",
      "To Say Nothing of the Dog\n",
      "      \n",
      "          (Oxford Time Travel #2)\n",
      "A History of the World in 10½  Chapters\n"
     ]
    }
   ],
   "source": [
    "print '\\n'.join([bookTitle(int(bID)) \n",
    "                 for bID in bookWeightings.sort('factors.1', ascending=False)['bookID'][:100]\n",
    "                 if len(books.find_one({'bookID': int(bID)})['ratings']) > 20])\n",
    "print '------'\n",
    "print '\\n'.join([bookTitle(int(bID)) \n",
    "                 for bID in bookWeightings.sort('factors.1', ascending=True)['bookID'][:100]\n",
    "                 if len(books.find_one({'bookID': int(bID)})['ratings']) > 20])"
   ]
  },
  {
   "cell_type": "code",
   "execution_count": 61,
   "metadata": {
    "collapsed": false
   },
   "outputs": [
    {
     "name": "stdout",
     "output_type": "stream",
     "text": [
      "Waiting\n",
      "The War of the Worlds\n",
      "The Sandman, Vol. 2: The Doll's House\n",
      "      \n",
      "          (The Sandman #2)\n",
      "------\n",
      "\n"
     ]
    }
   ],
   "source": [
    "print '\\n'.join([bookTitle(int(bID)) \n",
    "                 for bID in bookWeightings.sort('factors.2', ascending=False)['bookID'][:100]\n",
    "                 if len(books.find_one({'bookID': int(bID)})['ratings']) > 10])\n",
    "print '------'\n",
    "print '\\n'.join([bookTitle(int(bID)) \n",
    "                 for bID in bookWeightings.sort('factors.2', ascending=True)['bookID'][:100]\n",
    "                 if len(books.find_one({'bookID': int(bID)})['ratings']) > 10])"
   ]
  },
  {
   "cell_type": "code",
   "execution_count": 57,
   "metadata": {
    "collapsed": false
   },
   "outputs": [
    {
     "name": "stdout",
     "output_type": "stream",
     "text": [
      "Player Piano\n",
      "The Snows of Kilimanjaro and Other Stories\n",
      "------\n",
      "The Time Traveler's Wife\n",
      "The Silence of the Lambs\n",
      "      \n",
      "          (Hannibal Lecter #2)\n",
      "Foundation's Edge\n",
      "      \n",
      "          (Foundation (Publication Order) #4)\n"
     ]
    }
   ],
   "source": [
    "print '\\n'.join([bookTitle(int(bID)) \n",
    "                 for bID in bookWeightings.sort('factors.3', ascending=False)['bookID'][:100]\n",
    "                 if len(books.find_one({'bookID': int(bID)})['ratings']) > 20])\n",
    "print '------'\n",
    "print '\\n'.join([bookTitle(int(bID)) \n",
    "                 for bID in bookWeightings.sort('factors.3', ascending=True)['bookID'][:100]\n",
    "                 if len(books.find_one({'bookID': int(bID)})['ratings']) > 20])"
   ]
  },
  {
   "cell_type": "code",
   "execution_count": 58,
   "metadata": {
    "collapsed": false
   },
   "outputs": [
    {
     "name": "stdout",
     "output_type": "stream",
     "text": [
      "Casino Moon\n",
      "Out on the Rim\n",
      "      \n",
      "          (Arthur Case Wu #2)\n",
      "Outsider in Amsterdam\n",
      "      \n",
      "          (Amsterdam Cops Mysteries #1)\n",
      "Dark Canyon\n",
      "What's Not to Love?: The Adventures of a Mildly Perverted Young Writer\n",
      "------\n",
      "Hidden History: Exploring Our Secret Past\n",
      "Among the Believers : An Islamic Journey\n",
      "The Bottoms\n",
      "American Scream\n",
      "Fenwick Travers and the Years of Empire: An Entertainment\n"
     ]
    }
   ],
   "source": [
    "print '\\n'.join([bookTitle(int(bID)) for bID in bookWeightings.sort('factors.3', ascending=False)['bookID'][:5]])\n",
    "print '------'\n",
    "print '\\n'.join([bookTitle(int(bID)) for bID in bookWeightings.sort('factors.3', ascending=True)['bookID'][:5]])"
   ]
  },
  {
   "cell_type": "code",
   "execution_count": 21,
   "metadata": {
    "collapsed": false
   },
   "outputs": [],
   "source": [
    "dfBookWeightings = bookWeightings.to_dataframe()"
   ]
  },
  {
   "cell_type": "code",
   "execution_count": 22,
   "metadata": {
    "collapsed": false
   },
   "outputs": [
    {
     "data": {
      "text/html": [
       "<div>\n",
       "<table border=\"1\" class=\"dataframe\">\n",
       "  <thead>\n",
       "    <tr style=\"text-align: right;\">\n",
       "      <th></th>\n",
       "      <th>bookID</th>\n",
       "      <th>linear_terms</th>\n",
       "      <th>factors.0</th>\n",
       "      <th>factors.1</th>\n",
       "      <th>factors.2</th>\n",
       "      <th>factors.3</th>\n",
       "    </tr>\n",
       "  </thead>\n",
       "  <tbody>\n",
       "    <tr>\n",
       "      <th>11</th>\n",
       "      <td>118154</td>\n",
       "      <td>0.154152</td>\n",
       "      <td>0.347579</td>\n",
       "      <td>0.171606</td>\n",
       "      <td>0.851917</td>\n",
       "      <td>0.352106</td>\n",
       "    </tr>\n",
       "  </tbody>\n",
       "</table>\n",
       "</div>"
      ],
      "text/plain": [
       "    bookID  linear_terms  factors.0  factors.1  factors.2  factors.3\n",
       "11  118154      0.154152   0.347579   0.171606   0.851917   0.352106"
      ]
     },
     "execution_count": 22,
     "metadata": {},
     "output_type": "execute_result"
    }
   ],
   "source": [
    "dfBookWeightings[dfBookWeightings['bookID']==str(focalBookID)]"
   ]
  },
  {
   "cell_type": "code",
   "execution_count": 23,
   "metadata": {
    "collapsed": true
   },
   "outputs": [],
   "source": [
    "userWeightings = rec_engine.get('coefficients')['userID'].unpack('factors')"
   ]
  },
  {
   "cell_type": "code",
   "execution_count": 24,
   "metadata": {
    "collapsed": true
   },
   "outputs": [],
   "source": [
    "dfUserWeightings = userWeightings.to_dataframe()"
   ]
  },
  {
   "cell_type": "code",
   "execution_count": 62,
   "metadata": {
    "collapsed": false
   },
   "outputs": [
    {
     "data": {
      "text/html": [
       "<div>\n",
       "<table border=\"1\" class=\"dataframe\">\n",
       "  <thead>\n",
       "    <tr style=\"text-align: right;\">\n",
       "      <th></th>\n",
       "      <th>userID</th>\n",
       "      <th>linear_terms</th>\n",
       "      <th>factors.0</th>\n",
       "      <th>factors.1</th>\n",
       "      <th>factors.2</th>\n",
       "      <th>factors.3</th>\n",
       "    </tr>\n",
       "  </thead>\n",
       "  <tbody>\n",
       "    <tr>\n",
       "      <th>7</th>\n",
       "      <td>7607437</td>\n",
       "      <td>0.759385</td>\n",
       "      <td>0.278522</td>\n",
       "      <td>-0.682661</td>\n",
       "      <td>0.481648</td>\n",
       "      <td>0.093921</td>\n",
       "    </tr>\n",
       "  </tbody>\n",
       "</table>\n",
       "</div>"
      ],
      "text/plain": [
       "    userID  linear_terms  factors.0  factors.1  factors.2  factors.3\n",
       "7  7607437      0.759385   0.278522  -0.682661   0.481648   0.093921"
      ]
     },
     "execution_count": 62,
     "metadata": {},
     "output_type": "execute_result"
    }
   ],
   "source": [
    "dfUserWeightings[dfUserWeightings['userID']==7607437] #N.R."
   ]
  },
  {
   "cell_type": "code",
   "execution_count": 235,
   "metadata": {
    "collapsed": false
   },
   "outputs": [
    {
     "data": {
      "text/plain": [
       "(15, 3)"
      ]
     },
     "execution_count": 235,
     "metadata": {},
     "output_type": "execute_result"
    }
   ],
   "source": [
    "targetTruth = glRatingsTest[glRatingsTest['bookID'] == str(focalBookID)]"
   ]
  },
  {
   "cell_type": "code",
   "execution_count": 61,
   "metadata": {
    "collapsed": false
   },
   "outputs": [
    {
     "ename": "NameError",
     "evalue": "name 'rec_engine' is not defined",
     "output_type": "error",
     "traceback": [
      "\u001b[0;31m---------------------------------------------------------------------------\u001b[0m",
      "\u001b[0;31mNameError\u001b[0m                                 Traceback (most recent call last)",
      "\u001b[0;32m<ipython-input-61-bc997d9e3ef4>\u001b[0m in \u001b[0;36m<module>\u001b[0;34m()\u001b[0m\n\u001b[0;32m----> 1\u001b[0;31m \u001b[0mbarthPreds\u001b[0m \u001b[0;34m=\u001b[0m \u001b[0mbarthTruth\u001b[0m\u001b[0;34m[\u001b[0m\u001b[0;34m'userID'\u001b[0m\u001b[0;34m,\u001b[0m\u001b[0;34m'rating'\u001b[0m\u001b[0;34m]\u001b[0m\u001b[0;34m.\u001b[0m\u001b[0madd_column\u001b[0m\u001b[0;34m(\u001b[0m\u001b[0mrec_engine\u001b[0m\u001b[0;34m.\u001b[0m\u001b[0mpredict\u001b[0m\u001b[0;34m(\u001b[0m\u001b[0mbarthTruth\u001b[0m\u001b[0;34m)\u001b[0m\u001b[0;34m,\u001b[0m \u001b[0mname\u001b[0m\u001b[0;34m=\u001b[0m\u001b[0;34m\"modelRating\"\u001b[0m\u001b[0;34m)\u001b[0m\u001b[0;34m\u001b[0m\u001b[0m\n\u001b[0m\u001b[1;32m      2\u001b[0m \u001b[0mbarthPreds\u001b[0m\u001b[0;34m[\u001b[0m\u001b[0;34m'rating'\u001b[0m\u001b[0;34m]\u001b[0m\u001b[0;34m\u001b[0m\u001b[0m\n",
      "\u001b[0;31mNameError\u001b[0m: name 'rec_engine' is not defined"
     ]
    }
   ],
   "source": [
    "targetPreds = barthTruth['userID','rating'].add_column(rec_engine.predict(targetTruth), name=\"modelRating\")"
   ]
  },
  {
   "cell_type": "code",
   "execution_count": 366,
   "metadata": {
    "collapsed": false
   },
   "outputs": [
    {
     "name": "stdout",
     "output_type": "stream",
     "text": [
      "0.888040534664\n",
      "-0.0348179848496\n"
     ]
    }
   ],
   "source": [
    "evalTarget = rec_engine.evaluate_rmse(targetTruth, target='rating')\n",
    "print evalTarget['rmse_overall']\n",
    "print evalTarget['rmse_overall'] - eval['rmse_overall']"
   ]
  },
  {
   "cell_type": "code",
   "execution_count": 11,
   "metadata": {
    "collapsed": false
   },
   "outputs": [],
   "source": [
    "allFriendIDs = reduce(lambda l1, l2: l1+l2, [f['friends'] for f in friends.find()])"
   ]
  },
  {
   "cell_type": "code",
   "execution_count": 12,
   "metadata": {
    "collapsed": false
   },
   "outputs": [
    {
     "data": {
      "text/plain": [
       "7651"
      ]
     },
     "execution_count": 12,
     "metadata": {},
     "output_type": "execute_result"
    }
   ],
   "source": [
    "len(allFriendIDs) - len(set(allFriendIDs))"
   ]
  },
  {
   "cell_type": "code",
   "execution_count": 17,
   "metadata": {
    "collapsed": false
   },
   "outputs": [],
   "source": [
    "df = pd.DataFrame([userIDlist, list(friendCounts)]).T\n",
    "friendLocs = df.iloc[:,0][df.iloc[:,1]>0]"
   ]
  },
  {
   "cell_type": "code",
   "execution_count": 18,
   "metadata": {
    "collapsed": false
   },
   "outputs": [
    {
     "ename": "NameError",
     "evalue": "name 'glRatings' is not defined",
     "output_type": "error",
     "traceback": [
      "\u001b[0;31m---------------------------------------------------------------------------\u001b[0m",
      "\u001b[0;31mNameError\u001b[0m                                 Traceback (most recent call last)",
      "\u001b[0;32m<ipython-input-18-fca8fce4ebd3>\u001b[0m in \u001b[0;36m<module>\u001b[0;34m()\u001b[0m\n\u001b[0;32m----> 1\u001b[0;31m \u001b[0mfullTargetTruth\u001b[0m \u001b[0;34m=\u001b[0m \u001b[0mglRatings\u001b[0m\u001b[0;34m[\u001b[0m\u001b[0mglRatings\u001b[0m\u001b[0;34m[\u001b[0m\u001b[0;34m'bookID'\u001b[0m\u001b[0;34m]\u001b[0m \u001b[0;34m==\u001b[0m \u001b[0mstr\u001b[0m\u001b[0;34m(\u001b[0m\u001b[0mfocalBookID\u001b[0m\u001b[0;34m)\u001b[0m\u001b[0;34m]\u001b[0m\u001b[0;34m\u001b[0m\u001b[0m\n\u001b[0m\u001b[1;32m      2\u001b[0m \u001b[0mfullTargetTruthDf\u001b[0m \u001b[0;34m=\u001b[0m \u001b[0mfullTargetTruth\u001b[0m\u001b[0;34m.\u001b[0m\u001b[0mto_dataframe\u001b[0m\u001b[0;34m(\u001b[0m\u001b[0;34m)\u001b[0m\u001b[0;34m\u001b[0m\u001b[0m\n\u001b[1;32m      3\u001b[0m \u001b[0mfullTargetTruthDf\u001b[0m\u001b[0;34m.\u001b[0m\u001b[0mset_index\u001b[0m\u001b[0;34m(\u001b[0m\u001b[0;34m'userID'\u001b[0m\u001b[0;34m,\u001b[0m\u001b[0minplace\u001b[0m\u001b[0;34m=\u001b[0m\u001b[0mTrue\u001b[0m\u001b[0;34m)\u001b[0m\u001b[0;34m\u001b[0m\u001b[0m\n\u001b[1;32m      4\u001b[0m \u001b[0mfullTargetTruthDf\u001b[0m\u001b[0;34m[\u001b[0m\u001b[0;34m'rating'\u001b[0m\u001b[0;34m]\u001b[0m\u001b[0;34m.\u001b[0m\u001b[0mdescribe\u001b[0m\u001b[0;34m(\u001b[0m\u001b[0;34m)\u001b[0m\u001b[0;34m\u001b[0m\u001b[0m\n",
      "\u001b[0;31mNameError\u001b[0m: name 'glRatings' is not defined"
     ]
    }
   ],
   "source": [
    "fullTargetTruth = glRatings[glRatings['bookID'] == str(focalBookID)]\n",
    "fullTargetTruthDf = fullTargetTruth.to_dataframe()\n",
    "fullTargetTruthDf.set_index('userID',inplace=True)\n",
    "fullTargetTruthDf['rating'].describe()"
   ]
  },
  {
   "cell_type": "code",
   "execution_count": 19,
   "metadata": {
    "collapsed": false
   },
   "outputs": [
    {
     "ename": "NameError",
     "evalue": "name 'fullTargetTruthDf' is not defined",
     "output_type": "error",
     "traceback": [
      "\u001b[0;31m---------------------------------------------------------------------------\u001b[0m",
      "\u001b[0;31mNameError\u001b[0m                                 Traceback (most recent call last)",
      "\u001b[0;32m<ipython-input-19-38f9a374cbfd>\u001b[0m in \u001b[0;36m<module>\u001b[0;34m()\u001b[0m\n\u001b[0;32m----> 1\u001b[0;31m \u001b[0mfullTargetTruthDf\u001b[0m\u001b[0;34m.\u001b[0m\u001b[0mloc\u001b[0m\u001b[0;34m[\u001b[0m\u001b[0mfriendLocs\u001b[0m\u001b[0;34m,\u001b[0m\u001b[0;34m:\u001b[0m\u001b[0;34m]\u001b[0m\u001b[0;34m\u001b[0m\u001b[0m\n\u001b[0m",
      "\u001b[0;31mNameError\u001b[0m: name 'fullTargetTruthDf' is not defined"
     ]
    }
   ],
   "source": [
    "fullTargetTruthDf.loc[friendLocs,:]"
   ]
  }
 ],
 "metadata": {
  "anaconda-cloud": {},
  "kernelspec": {
   "display_name": "Python [default]",
   "language": "python",
   "name": "python2"
  },
  "language_info": {
   "codemirror_mode": {
    "name": "ipython",
    "version": 2
   },
   "file_extension": ".py",
   "mimetype": "text/x-python",
   "name": "python",
   "nbconvert_exporter": "python",
   "pygments_lexer": "ipython2",
   "version": "2.7.12"
  }
 },
 "nbformat": 4,
 "nbformat_minor": 1
}

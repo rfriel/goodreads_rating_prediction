{
 "cells": [
  {
   "cell_type": "code",
   "execution_count": 17,
   "metadata": {
    "collapsed": false
   },
   "outputs": [],
   "source": [
    "%reload_ext autoreload\n",
    "%autoreload 2\n",
    "from scrape_GR_tools import *\n",
    "from scrape_explore import *\n",
    "#put this in scrape_GR_tools\n",
    "import pandas as pd\n",
    "\n",
    "import graphlab as gl\n",
    "\n",
    "import networkx as nx\n",
    "import nxpd as nxpd\n",
    "\n",
    "from datetime import date, datetime\n",
    "grDateFormat = '%b %d, %Y'\n",
    "\n",
    "%matplotlib inline\n",
    "import matplotlib.pyplot as plt"
   ]
  },
  {
   "cell_type": "code",
   "execution_count": 3,
   "metadata": {
    "collapsed": false
   },
   "outputs": [],
   "source": [
    "# setting up mongodb\n",
    "\n",
    "client = MongoClient('mongodb://localhost:27017/')\n",
    "\n",
    "db = client['goodreads_explore_multigraph']\n",
    "\n",
    "friendsUnbiased = db['friends']\n",
    "ratingsUnbiased = db['reviews']\n",
    "booksUnbiased = db['books']\n",
    "\n",
    "dbBiased = client['goodreads_explore_multigraph_biased_sampling']\n",
    "\n",
    "friendsBiased = dbBiased['friends']\n",
    "ratingsBiased = dbBiased['reviews']\n",
    "booksBiased = dbBiased['books']\n",
    "\n",
    "#dbFromBook = client['goodreads_explore_from_book']\n",
    "dbFromBook = client['goodreads_explore_from_book_tunnel']\n",
    "\n",
    "friendsFromBook = dbFromBook['friends']\n",
    "ratingsFromBook = dbFromBook['reviews']\n",
    "booksFromBook = dbFromBook['books']\n",
    "\n",
    "dbSnowball = client['goodreads_snowball']\n",
    "friendsSnowball = dbSnowball['friends']\n",
    "ratingsSnowball = dbSnowball['reviews']\n",
    "booksSnowball = dbSnowball['books']"
   ]
  },
  {
   "cell_type": "code",
   "execution_count": 4,
   "metadata": {
    "collapsed": true
   },
   "outputs": [],
   "source": [
    "def reset_colls(friends, ratings, books):\n",
    "    friends.delete_many({})\n",
    "    ratings.delete_many({})\n",
    "    books.delete_many({})"
   ]
  },
  {
   "cell_type": "code",
   "execution_count": 5,
   "metadata": {
    "collapsed": false
   },
   "outputs": [],
   "source": [
    "checkBiased = False\n",
    "checkFromBook = True\n",
    "checkSnowball = False"
   ]
  },
  {
   "cell_type": "code",
   "execution_count": 8,
   "metadata": {
    "collapsed": false
   },
   "outputs": [],
   "source": [
    "focalBookID = 156182 # The Tunnel\n",
    "#exploreFromBook(focalBookID, ratingsFromBook, friendsFromBook, booksFromBook, 0.05)"
   ]
  },
  {
   "cell_type": "code",
   "execution_count": 9,
   "metadata": {
    "collapsed": false
   },
   "outputs": [],
   "source": [
    "#nrID = 7607437\n",
    "#searchIDs = snowballSample(ratingsSnowball, friendsSnowball, booksSnowball, nrID, 1, 0.05)"
   ]
  },
  {
   "cell_type": "code",
   "execution_count": 10,
   "metadata": {
    "collapsed": false
   },
   "outputs": [
    {
     "name": "stdout",
     "output_type": "stream",
     "text": [
      "320 users\n",
      "95297 books\n",
      "323 users have scraped friend lists\n",
      "\n",
      "23.09% of books have >1 ratings\n",
      "(22008 books)\n",
      "\n",
      "11.89% of books have >2 ratings\n",
      "(11328 books)\n",
      "\n",
      "4.39% of books have >5 ratings\n",
      "(4179 books)\n",
      "\n",
      "1.96% of books have >10 ratings\n",
      "(1869 books)\n",
      "\n",
      "Descriptive statistics for ratings:\n"
     ]
    },
    {
     "data": {
      "text/plain": [
       "count    95297.000000\n",
       "mean         1.921015\n",
       "std          4.414134\n",
       "min          1.000000\n",
       "25%          1.000000\n",
       "50%          1.000000\n",
       "75%          1.000000\n",
       "max        264.000000\n",
       "dtype: float64"
      ]
     },
     "execution_count": 10,
     "metadata": {},
     "output_type": "execute_result"
    }
   ],
   "source": [
    "# checking what we've got\n",
    "\n",
    "if checkBiased:\n",
    "    friends = friendsBiased\n",
    "    ratings = ratingsBiased\n",
    "    books = booksBiased\n",
    "elif checkFromBook:\n",
    "    friends = friendsFromBook\n",
    "    ratings = ratingsFromBook\n",
    "    books = booksFromBook\n",
    "elif checkSnowball:\n",
    "    friends = friendsSnowball\n",
    "    ratings = ratingsSnowball\n",
    "    books = booksSnowball\n",
    "else:\n",
    "    friends = friendsUnbiased\n",
    "    ratings = ratingsUnbiased\n",
    "    books = booksUnbiased\n",
    "\n",
    "t = books.find()\n",
    "countList = []\n",
    "\n",
    "for b in t:\n",
    "    countList.append(len(b['ratings']))\n",
    "\n",
    "clS = pd.Series(countList)\n",
    "print '%d users' % ratings.count()\n",
    "print '%d books' % books.count()\n",
    "print '%d users have scraped friend lists\\n' % friends.count()\n",
    "\n",
    "print '%.2f%% of books have >1 ratings' % float(100*(clS>1).mean())\n",
    "print '(%d books)\\n' %(clS>1).sum()\n",
    "\n",
    "print '%.2f%% of books have >2 ratings' % float(100*(clS>2).mean())\n",
    "print '(%d books)\\n' %(clS>2).sum()\n",
    "\n",
    "print '%.2f%% of books have >5 ratings' % float(100*(clS>5).mean())\n",
    "print '(%d books)\\n' %(clS>5).sum()\n",
    "\n",
    "print '%.2f%% of books have >10 ratings' % float(100*(clS>10).mean())\n",
    "print '(%d books)\\n' %(clS>10).sum()\n",
    "\n",
    "print 'Descriptive statistics for ratings:'\n",
    "clS.describe()"
   ]
  },
  {
   "cell_type": "code",
   "execution_count": 258,
   "metadata": {
    "collapsed": false
   },
   "outputs": [],
   "source": [
    "nUserCounts = []\n",
    "for i, row in enumerate(ratings.find()):\n",
    "    nUserCounts.append(len(row['ratings']))\n",
    "    \n",
    "nBookCounts = []\n",
    "bookIDlist = []\n",
    "for i, row in enumerate(books.find()):\n",
    "    nBookCounts.append(len(row['ratings']))\n",
    "    bookIDlist.append(row['bookID'])"
   ]
  },
  {
   "cell_type": "code",
   "execution_count": 259,
   "metadata": {
    "collapsed": false
   },
   "outputs": [
    {
     "data": {
      "text/plain": [
       "'\\nfor index in np.argsort(nBookCounts)[::-1][20:]:\\n    print (bookTitle(bookIDlist[index]),nBookCounts[index])\\n'"
      ]
     },
     "execution_count": 259,
     "metadata": {},
     "output_type": "execute_result"
    }
   ],
   "source": [
    "'''\n",
    "for index in np.argsort(nBookCounts)[::-1][20:]:\n",
    "    print (bookTitle(bookIDlist[index]),nBookCounts[index])\n",
    "'''"
   ]
  },
  {
   "cell_type": "code",
   "execution_count": 260,
   "metadata": {
    "collapsed": false
   },
   "outputs": [
    {
     "name": "stdout",
     "output_type": "stream",
     "text": [
      "0.0\n",
      "0.821432455358\n",
      "605\n"
     ]
    }
   ],
   "source": [
    "nUserCounts = pd.Series(nUserCounts)\n",
    "print (nUserCounts < 10).mean()\n",
    "\n",
    "nBookCounts = pd.Series(nBookCounts)\n",
    "print (nBookCounts < 2).mean()\n",
    "\n",
    "bookIDlist = pd.Series(bookIDlist)\n",
    "booksToExclude = set(bookIDlist[nBookCounts < 10])\n",
    "print (nBookCounts >= 10).sum()"
   ]
  },
  {
   "cell_type": "code",
   "execution_count": 221,
   "metadata": {
    "collapsed": false
   },
   "outputs": [
    {
     "data": {
      "text/plain": [
       "count    478.000000\n",
       "mean      17.248954\n",
       "std        8.746053\n",
       "min       10.000000\n",
       "25%       11.000000\n",
       "50%       14.000000\n",
       "75%       20.000000\n",
       "max       86.000000\n",
       "dtype: float64"
      ]
     },
     "execution_count": 221,
     "metadata": {},
     "output_type": "execute_result"
    }
   ],
   "source": [
    "nBookCounts[nBookCounts>=10].describe()"
   ]
  },
  {
   "cell_type": "code",
   "execution_count": 222,
   "metadata": {
    "collapsed": false
   },
   "outputs": [
    {
     "data": {
      "text/plain": [
       "count      105.000000\n",
       "mean       624.942857\n",
       "std       1358.742234\n",
       "min         16.000000\n",
       "25%        121.000000\n",
       "50%        253.000000\n",
       "75%        627.000000\n",
       "max      12547.000000\n",
       "dtype: float64"
      ]
     },
     "execution_count": 222,
     "metadata": {},
     "output_type": "execute_result"
    }
   ],
   "source": [
    "nUserCounts.describe()"
   ]
  },
  {
   "cell_type": "code",
   "execution_count": 56,
   "metadata": {
    "collapsed": false
   },
   "outputs": [
    {
     "name": "stdout",
     "output_type": "stream",
     "text": [
      "291\n",
      "0.250859106529\n"
     ]
    }
   ],
   "source": [
    "targetRatings = books.find_one({'bookID': focalBookID})['ratings']\n",
    "targetRatingDates = np.array([datetime.strptime(r[2], grDateFormat) for r in targetRatings.values()])\n",
    "#strictCutoff = min(targetRatingDates)\n",
    "#print strictCutoff.strftime(grDateFormat)\n",
    "print len(targetRatingDates)\n",
    "print sum(targetRatingDates > datetime.strptime('Jan 1, 2014', grDateFormat)) / float(len(targetRatingDates))\n",
    "cutoffDate = datetime.strptime('Jan 1, 2014', grDateFormat)\n",
    "todayDate = date.today()\n",
    "today = datetime(todayDate.year, todayDate.month, todayDate.day)"
   ]
  },
  {
   "cell_type": "code",
   "execution_count": 261,
   "metadata": {
    "collapsed": false
   },
   "outputs": [],
   "source": [
    "glRatingDict = makeRatingDictForGL(ratings, booksToExclude)\n",
    "glRatings = gl.SFrame(glRatingDict)"
   ]
  },
  {
   "cell_type": "code",
   "execution_count": 262,
   "metadata": {
    "collapsed": false
   },
   "outputs": [],
   "source": [
    "glRatingsTrain, glRatingsTest = gl.recommender.util.random_split_by_user(glRatings, \n",
    "                                                    user_id=\"userID\", \n",
    "                                                    item_id=\"bookID\")"
   ]
  },
  {
   "cell_type": "code",
   "execution_count": 263,
   "metadata": {
    "collapsed": false
   },
   "outputs": [
    {
     "name": "stdout",
     "output_type": "stream",
     "text": [
      "7954 118 605\n",
      "11.0013831259\n",
      "5.50069156293\n",
      "3.66712770862\n",
      "2.75034578147\n",
      "2.20027662517\n"
     ]
    }
   ],
   "source": [
    "nTrainObs = glRatingsTrain.shape[0]\n",
    "nTrainUsers = len(glRatingsTrain['userID'].unique())\n",
    "nTrainItems = len(glRatingsTrain['bookID'].unique())\n",
    "\n",
    "print nTrainObs, nTrainUsers, nTrainItems\n",
    "\n",
    "for n in range(1,6):\n",
    "    print nTrainObs / (n*float(nTrainUsers + nTrainItems))"
   ]
  },
  {
   "cell_type": "code",
   "execution_count": 59,
   "metadata": {
    "collapsed": false
   },
   "outputs": [],
   "source": [
    "gl.recommender.util.random_split_by_user?"
   ]
  },
  {
   "cell_type": "code",
   "execution_count": 8,
   "metadata": {
    "collapsed": false
   },
   "outputs": [],
   "source": [
    "#cutoff date based\n",
    "\n",
    "#glRatingDictTrain = makeRatingDictForGL(ratings, cutoffDate)\n",
    "#glRatingsTrain = gl.SFrame(glRatingDictTrain)\n",
    "#glRatingDictTest = makeRatingDictForGL(ratings, cutoffDate, upperBound=False)\n",
    "#glRatingsTest = gl.SFrame(glRatingDictTest)"
   ]
  },
  {
   "cell_type": "code",
   "execution_count": 64,
   "metadata": {
    "collapsed": false
   },
   "outputs": [
    {
     "name": "stderr",
     "output_type": "stream",
     "text": [
      "[INFO] graphlab.deploy.job: Validating job.\n",
      "[INFO] graphlab.deploy.map_job: Validation complete. Job: 'Model-Parameter-Search-Nov-17-2016-17-01-3100000' ready for execution\n",
      "[INFO] graphlab.deploy.map_job: Job: 'Model-Parameter-Search-Nov-17-2016-17-01-3100000' scheduled.\n",
      "[INFO] graphlab.deploy.job: Validating job.\n",
      "[INFO] graphlab.deploy.map_job: A job with name 'Model-Parameter-Search-Nov-17-2016-17-01-3100000' already exists. Renaming the job to 'Model-Parameter-Search-Nov-17-2016-17-01-3100000-9015a'.\n",
      "[INFO] graphlab.deploy.map_job: Validation complete. Job: 'Model-Parameter-Search-Nov-17-2016-17-01-3100000-9015a' ready for execution\n",
      "[INFO] graphlab.deploy.map_job: Job: 'Model-Parameter-Search-Nov-17-2016-17-01-3100000-9015a' scheduled.\n"
     ]
    }
   ],
   "source": [
    "models = gl.toolkits.model_parameter_search.create((glRatingsTrain, glRatingsTest),\n",
    "                                                     gl.factorization_recommender.create,\n",
    "                                                     {'user_id': 'userID',\n",
    "                                                      'item_id': 'bookID',\n",
    "                                                      'target': 'rating',\n",
    "                                                      'num_factors': 0\n",
    "                                                      })"
   ]
  },
  {
   "cell_type": "code",
   "execution_count": 86,
   "metadata": {
    "collapsed": false,
    "scrolled": true
   },
   "outputs": [
    {
     "data": {
      "text/html": [
       "<pre>Recsys training: model = factorization_recommender</pre>"
      ],
      "text/plain": [
       "Recsys training: model = factorization_recommender"
      ]
     },
     "metadata": {},
     "output_type": "display_data"
    },
    {
     "data": {
      "text/html": [
       "<pre>Preparing data set.</pre>"
      ],
      "text/plain": [
       "Preparing data set."
      ]
     },
     "metadata": {},
     "output_type": "display_data"
    },
    {
     "data": {
      "text/html": [
       "<pre>    Data has 46371 observations with 323 users and 2649 items.</pre>"
      ],
      "text/plain": [
       "    Data has 46371 observations with 323 users and 2649 items."
      ]
     },
     "metadata": {},
     "output_type": "display_data"
    },
    {
     "data": {
      "text/html": [
       "<pre>    Data prepared in: 0.199116s</pre>"
      ],
      "text/plain": [
       "    Data prepared in: 0.199116s"
      ]
     },
     "metadata": {},
     "output_type": "display_data"
    },
    {
     "data": {
      "text/html": [
       "<pre>Training factorization_recommender for recommendations.</pre>"
      ],
      "text/plain": [
       "Training factorization_recommender for recommendations."
      ]
     },
     "metadata": {},
     "output_type": "display_data"
    },
    {
     "data": {
      "text/html": [
       "<pre>+--------------------------------+--------------------------------------------------+----------+</pre>"
      ],
      "text/plain": [
       "+--------------------------------+--------------------------------------------------+----------+"
      ]
     },
     "metadata": {},
     "output_type": "display_data"
    },
    {
     "data": {
      "text/html": [
       "<pre>| Parameter                      | Description                                      | Value    |</pre>"
      ],
      "text/plain": [
       "| Parameter                      | Description                                      | Value    |"
      ]
     },
     "metadata": {},
     "output_type": "display_data"
    },
    {
     "data": {
      "text/html": [
       "<pre>+--------------------------------+--------------------------------------------------+----------+</pre>"
      ],
      "text/plain": [
       "+--------------------------------+--------------------------------------------------+----------+"
      ]
     },
     "metadata": {},
     "output_type": "display_data"
    },
    {
     "data": {
      "text/html": [
       "<pre>| num_factors                    | Factor Dimension                                 | 0        |</pre>"
      ],
      "text/plain": [
       "| num_factors                    | Factor Dimension                                 | 0        |"
      ]
     },
     "metadata": {},
     "output_type": "display_data"
    },
    {
     "data": {
      "text/html": [
       "<pre>| regularization                 | L2 Regularization on Factors                     | 1e-10    |</pre>"
      ],
      "text/plain": [
       "| regularization                 | L2 Regularization on Factors                     | 1e-10    |"
      ]
     },
     "metadata": {},
     "output_type": "display_data"
    },
    {
     "data": {
      "text/html": [
       "<pre>| solver                         | Solver used for training                         | sgd      |</pre>"
      ],
      "text/plain": [
       "| solver                         | Solver used for training                         | sgd      |"
      ]
     },
     "metadata": {},
     "output_type": "display_data"
    },
    {
     "data": {
      "text/html": [
       "<pre>| linear_regularization          | L2 Regularization on Linear Coefficients         | 1e-12    |</pre>"
      ],
      "text/plain": [
       "| linear_regularization          | L2 Regularization on Linear Coefficients         | 1e-12    |"
      ]
     },
     "metadata": {},
     "output_type": "display_data"
    },
    {
     "data": {
      "text/html": [
       "<pre>| max_iterations                 | Maximum Number of Iterations                     | 1000     |</pre>"
      ],
      "text/plain": [
       "| max_iterations                 | Maximum Number of Iterations                     | 1000     |"
      ]
     },
     "metadata": {},
     "output_type": "display_data"
    },
    {
     "data": {
      "text/html": [
       "<pre>+--------------------------------+--------------------------------------------------+----------+</pre>"
      ],
      "text/plain": [
       "+--------------------------------+--------------------------------------------------+----------+"
      ]
     },
     "metadata": {},
     "output_type": "display_data"
    },
    {
     "data": {
      "text/html": [
       "<pre>  Optimizing model using SGD; tuning step size.</pre>"
      ],
      "text/plain": [
       "  Optimizing model using SGD; tuning step size."
      ]
     },
     "metadata": {},
     "output_type": "display_data"
    },
    {
     "data": {
      "text/html": [
       "<pre>  Using 10000 / 46371 points for tuning the step size.</pre>"
      ],
      "text/plain": [
       "  Using 10000 / 46371 points for tuning the step size."
      ]
     },
     "metadata": {},
     "output_type": "display_data"
    },
    {
     "data": {
      "text/html": [
       "<pre>+---------+-------------------+------------------------------------------+</pre>"
      ],
      "text/plain": [
       "+---------+-------------------+------------------------------------------+"
      ]
     },
     "metadata": {},
     "output_type": "display_data"
    },
    {
     "data": {
      "text/html": [
       "<pre>| Attempt | Initial Step Size | Estimated Objective Value                |</pre>"
      ],
      "text/plain": [
       "| Attempt | Initial Step Size | Estimated Objective Value                |"
      ]
     },
     "metadata": {},
     "output_type": "display_data"
    },
    {
     "data": {
      "text/html": [
       "<pre>+---------+-------------------+------------------------------------------+</pre>"
      ],
      "text/plain": [
       "+---------+-------------------+------------------------------------------+"
      ]
     },
     "metadata": {},
     "output_type": "display_data"
    },
    {
     "data": {
      "text/html": [
       "<pre>| 0       | 25                | No Decrease (2.52066 >= 0.912255)        |</pre>"
      ],
      "text/plain": [
       "| 0       | 25                | No Decrease (2.52066 >= 0.912255)        |"
      ]
     },
     "metadata": {},
     "output_type": "display_data"
    },
    {
     "data": {
      "text/html": [
       "<pre>| 1       | 6.25              | No Decrease (2.4945 >= 0.912255)         |</pre>"
      ],
      "text/plain": [
       "| 1       | 6.25              | No Decrease (2.4945 >= 0.912255)         |"
      ]
     },
     "metadata": {},
     "output_type": "display_data"
    },
    {
     "data": {
      "text/html": [
       "<pre>| 2       | 1.5625            | No Decrease (1.43365 >= 0.912255)        |</pre>"
      ],
      "text/plain": [
       "| 2       | 1.5625            | No Decrease (1.43365 >= 0.912255)        |"
      ]
     },
     "metadata": {},
     "output_type": "display_data"
    },
    {
     "data": {
      "text/html": [
       "<pre>| 3       | 0.390625          | 0.641436                                 |</pre>"
      ],
      "text/plain": [
       "| 3       | 0.390625          | 0.641436                                 |"
      ]
     },
     "metadata": {},
     "output_type": "display_data"
    },
    {
     "data": {
      "text/html": [
       "<pre>| 4       | 0.195312          | 0.544918                                 |</pre>"
      ],
      "text/plain": [
       "| 4       | 0.195312          | 0.544918                                 |"
      ]
     },
     "metadata": {},
     "output_type": "display_data"
    },
    {
     "data": {
      "text/html": [
       "<pre>| 5       | 0.0976562         | 0.530009                                 |</pre>"
      ],
      "text/plain": [
       "| 5       | 0.0976562         | 0.530009                                 |"
      ]
     },
     "metadata": {},
     "output_type": "display_data"
    },
    {
     "data": {
      "text/html": [
       "<pre>| 6       | 0.0488281         | 0.552163                                 |</pre>"
      ],
      "text/plain": [
       "| 6       | 0.0488281         | 0.552163                                 |"
      ]
     },
     "metadata": {},
     "output_type": "display_data"
    },
    {
     "data": {
      "text/html": [
       "<pre>| 7       | 0.0244141         | 0.595269                                 |</pre>"
      ],
      "text/plain": [
       "| 7       | 0.0244141         | 0.595269                                 |"
      ]
     },
     "metadata": {},
     "output_type": "display_data"
    },
    {
     "data": {
      "text/html": [
       "<pre>| 8       | 0.012207          | 0.645926                                 |</pre>"
      ],
      "text/plain": [
       "| 8       | 0.012207          | 0.645926                                 |"
      ]
     },
     "metadata": {},
     "output_type": "display_data"
    },
    {
     "data": {
      "text/html": [
       "<pre>+---------+-------------------+------------------------------------------+</pre>"
      ],
      "text/plain": [
       "+---------+-------------------+------------------------------------------+"
      ]
     },
     "metadata": {},
     "output_type": "display_data"
    },
    {
     "data": {
      "text/html": [
       "<pre>| Final   | 0.0976562         | 0.530009                                 |</pre>"
      ],
      "text/plain": [
       "| Final   | 0.0976562         | 0.530009                                 |"
      ]
     },
     "metadata": {},
     "output_type": "display_data"
    },
    {
     "data": {
      "text/html": [
       "<pre>+---------+-------------------+------------------------------------------+</pre>"
      ],
      "text/plain": [
       "+---------+-------------------+------------------------------------------+"
      ]
     },
     "metadata": {},
     "output_type": "display_data"
    },
    {
     "data": {
      "text/html": [
       "<pre>Starting Optimization.</pre>"
      ],
      "text/plain": [
       "Starting Optimization."
      ]
     },
     "metadata": {},
     "output_type": "display_data"
    },
    {
     "data": {
      "text/html": [
       "<pre>+---------+--------------+-------------------+-----------------------+-------------+</pre>"
      ],
      "text/plain": [
       "+---------+--------------+-------------------+-----------------------+-------------+"
      ]
     },
     "metadata": {},
     "output_type": "display_data"
    },
    {
     "data": {
      "text/html": [
       "<pre>| Iter.   | Elapsed Time | Approx. Objective | Approx. Training RMSE | Step Size   |</pre>"
      ],
      "text/plain": [
       "| Iter.   | Elapsed Time | Approx. Objective | Approx. Training RMSE | Step Size   |"
      ]
     },
     "metadata": {},
     "output_type": "display_data"
    },
    {
     "data": {
      "text/html": [
       "<pre>+---------+--------------+-------------------+-----------------------+-------------+</pre>"
      ],
      "text/plain": [
       "+---------+--------------+-------------------+-----------------------+-------------+"
      ]
     },
     "metadata": {},
     "output_type": "display_data"
    },
    {
     "data": {
      "text/html": [
       "<pre>| Initial | 97us         | 0.895685          | 0.946406              |             |</pre>"
      ],
      "text/plain": [
       "| Initial | 97us         | 0.895685          | 0.946406              |             |"
      ]
     },
     "metadata": {},
     "output_type": "display_data"
    },
    {
     "data": {
      "text/html": [
       "<pre>+---------+--------------+-------------------+-----------------------+-------------+</pre>"
      ],
      "text/plain": [
       "+---------+--------------+-------------------+-----------------------+-------------+"
      ]
     },
     "metadata": {},
     "output_type": "display_data"
    },
    {
     "data": {
      "text/html": [
       "<pre>| 1       | 1.19s        | 0.825496          | 0.908566              | 0.0976562   |</pre>"
      ],
      "text/plain": [
       "| 1       | 1.19s        | 0.825496          | 0.908566              | 0.0976562   |"
      ]
     },
     "metadata": {},
     "output_type": "display_data"
    },
    {
     "data": {
      "text/html": [
       "<pre>| 2       | 2.34s        | 0.733602          | 0.856505              | 0.0580668   |</pre>"
      ],
      "text/plain": [
       "| 2       | 2.34s        | 0.733602          | 0.856505              | 0.0580668   |"
      ]
     },
     "metadata": {},
     "output_type": "display_data"
    },
    {
     "data": {
      "text/html": [
       "<pre>| 3       | 3.51s        | 0.701837          | 0.837757              | 0.042841    |</pre>"
      ],
      "text/plain": [
       "| 3       | 3.51s        | 0.701837          | 0.837757              | 0.042841    |"
      ]
     },
     "metadata": {},
     "output_type": "display_data"
    },
    {
     "data": {
      "text/html": [
       "<pre>| 4       | 4.66s        | 0.687072          | 0.828898              | 0.0345267   |</pre>"
      ],
      "text/plain": [
       "| 4       | 4.66s        | 0.687072          | 0.828898              | 0.0345267   |"
      ]
     },
     "metadata": {},
     "output_type": "display_data"
    },
    {
     "data": {
      "text/html": [
       "<pre>| 5       | 5.83s        | 0.677245          | 0.822949              | 0.029206    |</pre>"
      ],
      "text/plain": [
       "| 5       | 5.83s        | 0.677245          | 0.822949              | 0.029206    |"
      ]
     },
     "metadata": {},
     "output_type": "display_data"
    },
    {
     "data": {
      "text/html": [
       "<pre>| 6       | 7.05s        | 0.670455          | 0.818813              | 0.0254734   |</pre>"
      ],
      "text/plain": [
       "| 6       | 7.05s        | 0.670455          | 0.818813              | 0.0254734   |"
      ]
     },
     "metadata": {},
     "output_type": "display_data"
    },
    {
     "data": {
      "text/html": [
       "<pre>| 7       | 8.28s        | 0.665506          | 0.815786              | 0.0226922   |</pre>"
      ],
      "text/plain": [
       "| 7       | 8.28s        | 0.665506          | 0.815786              | 0.0226922   |"
      ]
     },
     "metadata": {},
     "output_type": "display_data"
    },
    {
     "data": {
      "text/html": [
       "<pre>| 8       | 9.47s        | 0.661278          | 0.81319               | 0.0205297   |</pre>"
      ],
      "text/plain": [
       "| 8       | 9.47s        | 0.661278          | 0.81319               | 0.0205297   |"
      ]
     },
     "metadata": {},
     "output_type": "display_data"
    },
    {
     "data": {
      "text/html": [
       "<pre>| 9       | 10.66s       | 0.657731          | 0.811006              | 0.018794    |</pre>"
      ],
      "text/plain": [
       "| 9       | 10.66s       | 0.657731          | 0.811006              | 0.018794    |"
      ]
     },
     "metadata": {},
     "output_type": "display_data"
    },
    {
     "data": {
      "text/html": [
       "<pre>| 10      | 11.82s       | 0.656528          | 0.810264              | 0.017366    |</pre>"
      ],
      "text/plain": [
       "| 10      | 11.82s       | 0.656528          | 0.810264              | 0.017366    |"
      ]
     },
     "metadata": {},
     "output_type": "display_data"
    },
    {
     "data": {
      "text/html": [
       "<pre>| 11      | 13.00s       | 0.65385           | 0.80861               | 0.016168    |</pre>"
      ],
      "text/plain": [
       "| 11      | 13.00s       | 0.65385           | 0.80861               | 0.016168    |"
      ]
     },
     "metadata": {},
     "output_type": "display_data"
    },
    {
     "data": {
      "text/html": [
       "<pre>| 12      | 14.21s       | 0.652557          | 0.80781               | 0.0151466   |</pre>"
      ],
      "text/plain": [
       "| 12      | 14.21s       | 0.652557          | 0.80781               | 0.0151466   |"
      ]
     },
     "metadata": {},
     "output_type": "display_data"
    },
    {
     "data": {
      "text/html": [
       "<pre>| 13      | 15.38s       | 0.650411          | 0.806481              | 0.014264    |</pre>"
      ],
      "text/plain": [
       "| 13      | 15.38s       | 0.650411          | 0.806481              | 0.014264    |"
      ]
     },
     "metadata": {},
     "output_type": "display_data"
    },
    {
     "data": {
      "text/html": [
       "<pre>| 14      | 16.54s       | 0.649038          | 0.805629              | 0.0134929   |</pre>"
      ],
      "text/plain": [
       "| 14      | 16.54s       | 0.649038          | 0.805629              | 0.0134929   |"
      ]
     },
     "metadata": {},
     "output_type": "display_data"
    },
    {
     "data": {
      "text/html": [
       "<pre>| 15      | 17.68s       | 0.647917          | 0.804933              | 0.0128124   |</pre>"
      ],
      "text/plain": [
       "| 15      | 17.68s       | 0.647917          | 0.804933              | 0.0128124   |"
      ]
     },
     "metadata": {},
     "output_type": "display_data"
    },
    {
     "data": {
      "text/html": [
       "<pre>| 16      | 18.90s       | 0.646968          | 0.804343              | 0.012207    |</pre>"
      ],
      "text/plain": [
       "| 16      | 18.90s       | 0.646968          | 0.804343              | 0.012207    |"
      ]
     },
     "metadata": {},
     "output_type": "display_data"
    },
    {
     "data": {
      "text/html": [
       "<pre>| 17      | 20.11s       | 0.645939          | 0.803703              | 0.0116644   |</pre>"
      ],
      "text/plain": [
       "| 17      | 20.11s       | 0.645939          | 0.803703              | 0.0116644   |"
      ]
     },
     "metadata": {},
     "output_type": "display_data"
    },
    {
     "data": {
      "text/html": [
       "<pre>| 18      | 21.35s       | 0.645311          | 0.803312              | 0.011175    |</pre>"
      ],
      "text/plain": [
       "| 18      | 21.35s       | 0.645311          | 0.803312              | 0.011175    |"
      ]
     },
     "metadata": {},
     "output_type": "display_data"
    },
    {
     "data": {
      "text/html": [
       "<pre>| 19      | 22.55s       | 0.644329          | 0.802701              | 0.0107309   |</pre>"
      ],
      "text/plain": [
       "| 19      | 22.55s       | 0.644329          | 0.802701              | 0.0107309   |"
      ]
     },
     "metadata": {},
     "output_type": "display_data"
    },
    {
     "data": {
      "text/html": [
       "<pre>| 20      | 23.70s       | 0.643528          | 0.802202              | 0.0103259   |</pre>"
      ],
      "text/plain": [
       "| 20      | 23.70s       | 0.643528          | 0.802202              | 0.0103259   |"
      ]
     },
     "metadata": {},
     "output_type": "display_data"
    },
    {
     "data": {
      "text/html": [
       "<pre>| 21      | 24.87s       | 0.642884          | 0.801801              | 0.00995487  |</pre>"
      ],
      "text/plain": [
       "| 21      | 24.87s       | 0.642884          | 0.801801              | 0.00995487  |"
      ]
     },
     "metadata": {},
     "output_type": "display_data"
    },
    {
     "data": {
      "text/html": [
       "<pre>| 22      | 26.05s       | 0.642421          | 0.801512              | 0.00961353  |</pre>"
      ],
      "text/plain": [
       "| 22      | 26.05s       | 0.642421          | 0.801512              | 0.00961353  |"
      ]
     },
     "metadata": {},
     "output_type": "display_data"
    },
    {
     "data": {
      "text/html": [
       "<pre>| 23      | 27.25s       | 0.641637          | 0.801022              | 0.00929831  |</pre>"
      ],
      "text/plain": [
       "| 23      | 27.25s       | 0.641637          | 0.801022              | 0.00929831  |"
      ]
     },
     "metadata": {},
     "output_type": "display_data"
    },
    {
     "data": {
      "text/html": [
       "<pre>| 24      | 28.45s       | 0.641063          | 0.800664              | 0.0090062   |</pre>"
      ],
      "text/plain": [
       "| 24      | 28.45s       | 0.641063          | 0.800664              | 0.0090062   |"
      ]
     },
     "metadata": {},
     "output_type": "display_data"
    },
    {
     "data": {
      "text/html": [
       "<pre>| 25      | 29.58s       | 0.640783          | 0.800489              | 0.00873464  |</pre>"
      ],
      "text/plain": [
       "| 25      | 29.58s       | 0.640783          | 0.800489              | 0.00873464  |"
      ]
     },
     "metadata": {},
     "output_type": "display_data"
    },
    {
     "data": {
      "text/html": [
       "<pre>| 26      | 30.74s       | 0.640026          | 0.800016              | 0.00848145  |</pre>"
      ],
      "text/plain": [
       "| 26      | 30.74s       | 0.640026          | 0.800016              | 0.00848145  |"
      ]
     },
     "metadata": {},
     "output_type": "display_data"
    },
    {
     "data": {
      "text/html": [
       "<pre>| 27      | 31.92s       | 0.640292          | 0.800182              | 0.00824474  |</pre>"
      ],
      "text/plain": [
       "| 27      | 31.92s       | 0.640292          | 0.800182              | 0.00824474  |"
      ]
     },
     "metadata": {},
     "output_type": "display_data"
    },
    {
     "data": {
      "text/html": [
       "<pre>| 28      | 33.14s       | 0.637075          | 0.79817               | 0.00674643  |</pre>"
      ],
      "text/plain": [
       "| 28      | 33.14s       | 0.637075          | 0.79817               | 0.00674643  |"
      ]
     },
     "metadata": {},
     "output_type": "display_data"
    },
    {
     "data": {
      "text/html": [
       "<pre>| 29      | 34.29s       | 0.634864          | 0.796784              | 0.00552569  |</pre>"
      ],
      "text/plain": [
       "| 29      | 34.29s       | 0.634864          | 0.796784              | 0.00552569  |"
      ]
     },
     "metadata": {},
     "output_type": "display_data"
    },
    {
     "data": {
      "text/html": [
       "<pre>| 30      | 35.41s       | 0.63309           | 0.79567               | 0.00452988  |</pre>"
      ],
      "text/plain": [
       "| 30      | 35.41s       | 0.63309           | 0.79567               | 0.00452988  |"
      ]
     },
     "metadata": {},
     "output_type": "display_data"
    },
    {
     "data": {
      "text/html": [
       "<pre>| 31      | 36.57s       | 0.633131          | 0.795696              | 0.00441984  |</pre>"
      ],
      "text/plain": [
       "| 31      | 36.57s       | 0.633131          | 0.795696              | 0.00441984  |"
      ]
     },
     "metadata": {},
     "output_type": "display_data"
    },
    {
     "data": {
      "text/html": [
       "<pre>| 32      | 37.79s       | 0.631326          | 0.79456               | 0.00362917  |</pre>"
      ],
      "text/plain": [
       "| 32      | 37.79s       | 0.631326          | 0.79456               | 0.00362917  |"
      ]
     },
     "metadata": {},
     "output_type": "display_data"
    },
    {
     "data": {
      "text/html": [
       "<pre>| 33      | 38.92s       | 0.629912          | 0.79367               | 0.00298213  |</pre>"
      ],
      "text/plain": [
       "| 33      | 38.92s       | 0.629912          | 0.79367               | 0.00298213  |"
      ]
     },
     "metadata": {},
     "output_type": "display_data"
    },
    {
     "data": {
      "text/html": [
       "<pre>| 34      | 40.06s       | 0.629023          | 0.79311               | 0.00245214  |</pre>"
      ],
      "text/plain": [
       "| 34      | 40.06s       | 0.629023          | 0.79311               | 0.00245214  |"
      ]
     },
     "metadata": {},
     "output_type": "display_data"
    },
    {
     "data": {
      "text/html": [
       "<pre>| 35      | 41.22s       | 0.628799          | 0.792968              | 0.00239941  |</pre>"
      ],
      "text/plain": [
       "| 35      | 41.22s       | 0.628799          | 0.792968              | 0.00239941  |"
      ]
     },
     "metadata": {},
     "output_type": "display_data"
    },
    {
     "data": {
      "text/html": [
       "<pre>| 36      | 42.35s       | 0.628682          | 0.792895              | 0.00234924  |</pre>"
      ],
      "text/plain": [
       "| 36      | 42.35s       | 0.628682          | 0.792895              | 0.00234924  |"
      ]
     },
     "metadata": {},
     "output_type": "display_data"
    },
    {
     "data": {
      "text/html": [
       "<pre>| 37      | 43.52s       | 0.628541          | 0.792806              | 0.00230146  |</pre>"
      ],
      "text/plain": [
       "| 37      | 43.52s       | 0.628541          | 0.792806              | 0.00230146  |"
      ]
     },
     "metadata": {},
     "output_type": "display_data"
    },
    {
     "data": {
      "text/html": [
       "<pre>| 38      | 44.71s       | 0.628553          | 0.792813              | 0.00225589  |</pre>"
      ],
      "text/plain": [
       "| 38      | 44.71s       | 0.628553          | 0.792813              | 0.00225589  |"
      ]
     },
     "metadata": {},
     "output_type": "display_data"
    },
    {
     "data": {
      "text/html": [
       "<pre>| 39      | 45.87s       | 0.627752          | 0.792308              | 0.00186037  |</pre>"
      ],
      "text/plain": [
       "| 39      | 45.87s       | 0.627752          | 0.792308              | 0.00186037  |"
      ]
     },
     "metadata": {},
     "output_type": "display_data"
    },
    {
     "data": {
      "text/html": [
       "<pre>| 40      | 47.07s       | 0.626987          | 0.791825              | 0.00153495  |</pre>"
      ],
      "text/plain": [
       "| 40      | 47.07s       | 0.626987          | 0.791825              | 0.00153495  |"
      ]
     },
     "metadata": {},
     "output_type": "display_data"
    },
    {
     "data": {
      "text/html": [
       "<pre>| 41      | 48.21s       | 0.626442          | 0.791481              | 0.00126705  |</pre>"
      ],
      "text/plain": [
       "| 41      | 48.21s       | 0.626442          | 0.791481              | 0.00126705  |"
      ]
     },
     "metadata": {},
     "output_type": "display_data"
    },
    {
     "data": {
      "text/html": [
       "<pre>| 42      | 49.32s       | 0.626348          | 0.791421              | 0.00124436  |</pre>"
      ],
      "text/plain": [
       "| 42      | 49.32s       | 0.626348          | 0.791421              | 0.00124436  |"
      ]
     },
     "metadata": {},
     "output_type": "display_data"
    },
    {
     "data": {
      "text/html": [
       "<pre>| 43      | 50.53s       | 0.626301          | 0.791392              | 0.00122259  |</pre>"
      ],
      "text/plain": [
       "| 43      | 50.53s       | 0.626301          | 0.791392              | 0.00122259  |"
      ]
     },
     "metadata": {},
     "output_type": "display_data"
    },
    {
     "data": {
      "text/html": [
       "<pre>| 44      | 51.71s       | 0.626271          | 0.791373              | 0.00120169  |</pre>"
      ],
      "text/plain": [
       "| 44      | 51.71s       | 0.626271          | 0.791373              | 0.00120169  |"
      ]
     },
     "metadata": {},
     "output_type": "display_data"
    },
    {
     "data": {
      "text/html": [
       "<pre>| 45      | 52.87s       | 0.626222          | 0.791342              | 0.00118161  |</pre>"
      ],
      "text/plain": [
       "| 45      | 52.87s       | 0.626222          | 0.791342              | 0.00118161  |"
      ]
     },
     "metadata": {},
     "output_type": "display_data"
    },
    {
     "data": {
      "text/html": [
       "<pre>| 46      | 54.00s       | 0.626153          | 0.791298              | 0.00116229  |</pre>"
      ],
      "text/plain": [
       "| 46      | 54.00s       | 0.626153          | 0.791298              | 0.00116229  |"
      ]
     },
     "metadata": {},
     "output_type": "display_data"
    },
    {
     "data": {
      "text/html": [
       "<pre>| 47      | 55.18s       | 0.626095          | 0.791262              | 0.00114369  |</pre>"
      ],
      "text/plain": [
       "| 47      | 55.18s       | 0.626095          | 0.791262              | 0.00114369  |"
      ]
     },
     "metadata": {},
     "output_type": "display_data"
    },
    {
     "data": {
      "text/html": [
       "<pre>| 48      | 56.32s       | 0.626071          | 0.791246              | 0.00112578  |</pre>"
      ],
      "text/plain": [
       "| 48      | 56.32s       | 0.626071          | 0.791246              | 0.00112578  |"
      ]
     },
     "metadata": {},
     "output_type": "display_data"
    },
    {
     "data": {
      "text/html": [
       "<pre>| 49      | 57.47s       | 0.626053          | 0.791235              | 0.0011085   |</pre>"
      ],
      "text/plain": [
       "| 49      | 57.47s       | 0.626053          | 0.791235              | 0.0011085   |"
      ]
     },
     "metadata": {},
     "output_type": "display_data"
    },
    {
     "data": {
      "text/html": [
       "<pre>| 50      | 58.60s       | 0.626003          | 0.791204              | 0.00109183  |</pre>"
      ],
      "text/plain": [
       "| 50      | 58.60s       | 0.626003          | 0.791204              | 0.00109183  |"
      ]
     },
     "metadata": {},
     "output_type": "display_data"
    },
    {
     "data": {
      "text/html": [
       "<pre>| 51      | 59.75s       | 0.62596           | 0.791176              | 0.00107573  |</pre>"
      ],
      "text/plain": [
       "| 51      | 59.75s       | 0.62596           | 0.791176              | 0.00107573  |"
      ]
     },
     "metadata": {},
     "output_type": "display_data"
    },
    {
     "data": {
      "text/html": [
       "<pre>| 52      | 1m 0s        | 0.625919          | 0.791151              | 0.00106018  |</pre>"
      ],
      "text/plain": [
       "| 52      | 1m 0s        | 0.625919          | 0.791151              | 0.00106018  |"
      ]
     },
     "metadata": {},
     "output_type": "display_data"
    },
    {
     "data": {
      "text/html": [
       "<pre>| 53      | 1m 2s        | 0.625899          | 0.791138              | 0.00104514  |</pre>"
      ],
      "text/plain": [
       "| 53      | 1m 2s        | 0.625899          | 0.791138              | 0.00104514  |"
      ]
     },
     "metadata": {},
     "output_type": "display_data"
    },
    {
     "data": {
      "text/html": [
       "<pre>| 54      | 1m 3s        | 0.625866          | 0.791117              | 0.00103059  |</pre>"
      ],
      "text/plain": [
       "| 54      | 1m 3s        | 0.625866          | 0.791117              | 0.00103059  |"
      ]
     },
     "metadata": {},
     "output_type": "display_data"
    },
    {
     "data": {
      "text/html": [
       "<pre>| 55      | 1m 4s        | 0.625824          | 0.791091              | 0.00101651  |</pre>"
      ],
      "text/plain": [
       "| 55      | 1m 4s        | 0.625824          | 0.791091              | 0.00101651  |"
      ]
     },
     "metadata": {},
     "output_type": "display_data"
    },
    {
     "data": {
      "text/html": [
       "<pre>| 56      | 1m 5s        | 0.625794          | 0.791071              | 0.00100286  |</pre>"
      ],
      "text/plain": [
       "| 56      | 1m 5s        | 0.625794          | 0.791071              | 0.00100286  |"
      ]
     },
     "metadata": {},
     "output_type": "display_data"
    },
    {
     "data": {
      "text/html": [
       "<pre>| 57      | 1m 6s        | 0.625766          | 0.791054              | 0.000989638 |</pre>"
      ],
      "text/plain": [
       "| 57      | 1m 6s        | 0.625766          | 0.791054              | 0.000989638 |"
      ]
     },
     "metadata": {},
     "output_type": "display_data"
    },
    {
     "data": {
      "text/html": [
       "<pre>| 58      | 1m 7s        | 0.625722          | 0.791026              | 0.000976813 |</pre>"
      ],
      "text/plain": [
       "| 58      | 1m 7s        | 0.625722          | 0.791026              | 0.000976813 |"
      ]
     },
     "metadata": {},
     "output_type": "display_data"
    },
    {
     "data": {
      "text/html": [
       "<pre>| 59      | 1m 9s        | 0.625679          | 0.790999              | 0.00096437  |</pre>"
      ],
      "text/plain": [
       "| 59      | 1m 9s        | 0.625679          | 0.790999              | 0.00096437  |"
      ]
     },
     "metadata": {},
     "output_type": "display_data"
    },
    {
     "data": {
      "text/html": [
       "<pre>| 60      | 1m 10s       | 0.625707          | 0.791016              | 0.00095229  |</pre>"
      ],
      "text/plain": [
       "| 60      | 1m 10s       | 0.625707          | 0.791016              | 0.00095229  |"
      ]
     },
     "metadata": {},
     "output_type": "display_data"
    },
    {
     "data": {
      "text/html": [
       "<pre>| 61      | 1m 11s       | 0.625291          | 0.790753              | 0.000790911 |</pre>"
      ],
      "text/plain": [
       "| 61      | 1m 11s       | 0.625291          | 0.790753              | 0.000790911 |"
      ]
     },
     "metadata": {},
     "output_type": "display_data"
    },
    {
     "data": {
      "text/html": [
       "<pre>| 62      | 1m 12s       | 0.625003          | 0.790571              | 0.000657013 |</pre>"
      ],
      "text/plain": [
       "| 62      | 1m 12s       | 0.625003          | 0.790571              | 0.000657013 |"
      ]
     },
     "metadata": {},
     "output_type": "display_data"
    },
    {
     "data": {
      "text/html": [
       "<pre>| 63      | 1m 13s       | 0.624741          | 0.790406              | 0.000545889 |</pre>"
      ],
      "text/plain": [
       "| 63      | 1m 13s       | 0.624741          | 0.790406              | 0.000545889 |"
      ]
     },
     "metadata": {},
     "output_type": "display_data"
    },
    {
     "data": {
      "text/html": [
       "<pre>| 64      | 1m 14s       | 0.624723          | 0.790394              | 0.00053948  |</pre>"
      ],
      "text/plain": [
       "| 64      | 1m 14s       | 0.624723          | 0.790394              | 0.00053948  |"
      ]
     },
     "metadata": {},
     "output_type": "display_data"
    },
    {
     "data": {
      "text/html": [
       "<pre>| 65      | 1m 16s       | 0.624702          | 0.790381              | 0.000533243 |</pre>"
      ],
      "text/plain": [
       "| 65      | 1m 16s       | 0.624702          | 0.790381              | 0.000533243 |"
      ]
     },
     "metadata": {},
     "output_type": "display_data"
    },
    {
     "data": {
      "text/html": [
       "<pre>| 66      | 1m 17s       | 0.624687          | 0.790372              | 0.000527172 |</pre>"
      ],
      "text/plain": [
       "| 66      | 1m 17s       | 0.624687          | 0.790372              | 0.000527172 |"
      ]
     },
     "metadata": {},
     "output_type": "display_data"
    },
    {
     "data": {
      "text/html": [
       "<pre>| 67      | 1m 18s       | 0.624679          | 0.790367              | 0.000521259 |</pre>"
      ],
      "text/plain": [
       "| 67      | 1m 18s       | 0.624679          | 0.790367              | 0.000521259 |"
      ]
     },
     "metadata": {},
     "output_type": "display_data"
    },
    {
     "data": {
      "text/html": [
       "<pre>| 68      | 1m 19s       | 0.624664          | 0.790357              | 0.0005155   |</pre>"
      ],
      "text/plain": [
       "| 68      | 1m 19s       | 0.624664          | 0.790357              | 0.0005155   |"
      ]
     },
     "metadata": {},
     "output_type": "display_data"
    },
    {
     "data": {
      "text/html": [
       "<pre>| 69      | 1m 20s       | 0.624649          | 0.790348              | 0.000509886 |</pre>"
      ],
      "text/plain": [
       "| 69      | 1m 20s       | 0.624649          | 0.790348              | 0.000509886 |"
      ]
     },
     "metadata": {},
     "output_type": "display_data"
    },
    {
     "data": {
      "text/html": [
       "<pre>| 70      | 1m 21s       | 0.624635          | 0.790339              | 0.000504413 |</pre>"
      ],
      "text/plain": [
       "| 70      | 1m 21s       | 0.624635          | 0.790339              | 0.000504413 |"
      ]
     },
     "metadata": {},
     "output_type": "display_data"
    },
    {
     "data": {
      "text/html": [
       "<pre>| 71      | 1m 22s       | 0.624621          | 0.79033               | 0.000499076 |</pre>"
      ],
      "text/plain": [
       "| 71      | 1m 22s       | 0.624621          | 0.79033               | 0.000499076 |"
      ]
     },
     "metadata": {},
     "output_type": "display_data"
    },
    {
     "data": {
      "text/html": [
       "<pre>| 72      | 1m 24s       | 0.624612          | 0.790324              | 0.000493868 |</pre>"
      ],
      "text/plain": [
       "| 72      | 1m 24s       | 0.624612          | 0.790324              | 0.000493868 |"
      ]
     },
     "metadata": {},
     "output_type": "display_data"
    },
    {
     "data": {
      "text/html": [
       "<pre>| 73      | 1m 25s       | 0.624596          | 0.790314              | 0.000488785 |</pre>"
      ],
      "text/plain": [
       "| 73      | 1m 25s       | 0.624596          | 0.790314              | 0.000488785 |"
      ]
     },
     "metadata": {},
     "output_type": "display_data"
    },
    {
     "data": {
      "text/html": [
       "<pre>| 74      | 1m 26s       | 0.624585          | 0.790307              | 0.000483823 |</pre>"
      ],
      "text/plain": [
       "| 74      | 1m 26s       | 0.624585          | 0.790307              | 0.000483823 |"
      ]
     },
     "metadata": {},
     "output_type": "display_data"
    },
    {
     "data": {
      "text/html": [
       "<pre>| 75      | 1m 27s       | 0.624575          | 0.7903                | 0.000478976 |</pre>"
      ],
      "text/plain": [
       "| 75      | 1m 27s       | 0.624575          | 0.7903                | 0.000478976 |"
      ]
     },
     "metadata": {},
     "output_type": "display_data"
    },
    {
     "data": {
      "text/html": [
       "<pre>| 76      | 1m 28s       | 0.62456           | 0.790291              | 0.000474242 |</pre>"
      ],
      "text/plain": [
       "| 76      | 1m 28s       | 0.62456           | 0.790291              | 0.000474242 |"
      ]
     },
     "metadata": {},
     "output_type": "display_data"
    },
    {
     "data": {
      "text/html": [
       "<pre>| 77      | 1m 29s       | 0.624551          | 0.790286              | 0.000469615 |</pre>"
      ],
      "text/plain": [
       "| 77      | 1m 29s       | 0.624551          | 0.790286              | 0.000469615 |"
      ]
     },
     "metadata": {},
     "output_type": "display_data"
    },
    {
     "data": {
      "text/html": [
       "<pre>| 78      | 1m 30s       | 0.624541          | 0.790279              | 0.000465092 |</pre>"
      ],
      "text/plain": [
       "| 78      | 1m 30s       | 0.624541          | 0.790279              | 0.000465092 |"
      ]
     },
     "metadata": {},
     "output_type": "display_data"
    },
    {
     "data": {
      "text/html": [
       "<pre>| 79      | 1m 32s       | 0.624526          | 0.79027               | 0.00046067  |</pre>"
      ],
      "text/plain": [
       "| 79      | 1m 32s       | 0.624526          | 0.79027               | 0.00046067  |"
      ]
     },
     "metadata": {},
     "output_type": "display_data"
    },
    {
     "data": {
      "text/html": [
       "<pre>| 80      | 1m 33s       | 0.624519          | 0.790265              | 0.000456344 |</pre>"
      ],
      "text/plain": [
       "| 80      | 1m 33s       | 0.624519          | 0.790265              | 0.000456344 |"
      ]
     },
     "metadata": {},
     "output_type": "display_data"
    },
    {
     "data": {
      "text/html": [
       "<pre>| 81      | 1m 34s       | 0.624507          | 0.790257              | 0.000452112 |</pre>"
      ],
      "text/plain": [
       "| 81      | 1m 34s       | 0.624507          | 0.790257              | 0.000452112 |"
      ]
     },
     "metadata": {},
     "output_type": "display_data"
    },
    {
     "data": {
      "text/html": [
       "<pre>| 82      | 1m 35s       | 0.624496          | 0.790251              | 0.000447971 |</pre>"
      ],
      "text/plain": [
       "| 82      | 1m 35s       | 0.624496          | 0.790251              | 0.000447971 |"
      ]
     },
     "metadata": {},
     "output_type": "display_data"
    },
    {
     "data": {
      "text/html": [
       "<pre>| 83      | 1m 36s       | 0.62449           | 0.790247              | 0.000443917 |</pre>"
      ],
      "text/plain": [
       "| 83      | 1m 36s       | 0.62449           | 0.790247              | 0.000443917 |"
      ]
     },
     "metadata": {},
     "output_type": "display_data"
    },
    {
     "data": {
      "text/html": [
       "<pre>| 84      | 1m 37s       | 0.62448           | 0.790241              | 0.000439947 |</pre>"
      ],
      "text/plain": [
       "| 84      | 1m 37s       | 0.62448           | 0.790241              | 0.000439947 |"
      ]
     },
     "metadata": {},
     "output_type": "display_data"
    },
    {
     "data": {
      "text/html": [
       "<pre>| 85      | 1m 39s       | 0.624467          | 0.790232              | 0.00043606  |</pre>"
      ],
      "text/plain": [
       "| 85      | 1m 39s       | 0.624467          | 0.790232              | 0.00043606  |"
      ]
     },
     "metadata": {},
     "output_type": "display_data"
    },
    {
     "data": {
      "text/html": [
       "<pre>| 86      | 1m 40s       | 0.624461          | 0.790228              | 0.000432251 |</pre>"
      ],
      "text/plain": [
       "| 86      | 1m 40s       | 0.624461          | 0.790228              | 0.000432251 |"
      ]
     },
     "metadata": {},
     "output_type": "display_data"
    },
    {
     "data": {
      "text/html": [
       "<pre>| 87      | 1m 41s       | 0.624454          | 0.790224              | 0.00042852  |</pre>"
      ],
      "text/plain": [
       "| 87      | 1m 41s       | 0.624454          | 0.790224              | 0.00042852  |"
      ]
     },
     "metadata": {},
     "output_type": "display_data"
    },
    {
     "data": {
      "text/html": [
       "<pre>| 88      | 1m 42s       | 0.624436          | 0.790213              | 0.000424862 |</pre>"
      ],
      "text/plain": [
       "| 88      | 1m 42s       | 0.624436          | 0.790213              | 0.000424862 |"
      ]
     },
     "metadata": {},
     "output_type": "display_data"
    },
    {
     "data": {
      "text/html": [
       "<pre>| 89      | 1m 43s       | 0.624432          | 0.79021               | 0.000421277 |</pre>"
      ],
      "text/plain": [
       "| 89      | 1m 43s       | 0.624432          | 0.79021               | 0.000421277 |"
      ]
     },
     "metadata": {},
     "output_type": "display_data"
    },
    {
     "data": {
      "text/html": [
       "<pre>| 90      | 1m 44s       | 0.624426          | 0.790206              | 0.000417761 |</pre>"
      ],
      "text/plain": [
       "| 90      | 1m 44s       | 0.624426          | 0.790206              | 0.000417761 |"
      ]
     },
     "metadata": {},
     "output_type": "display_data"
    },
    {
     "data": {
      "text/html": [
       "<pre>| 91      | 1m 45s       | 0.624417          | 0.7902                | 0.000414313 |</pre>"
      ],
      "text/plain": [
       "| 91      | 1m 45s       | 0.624417          | 0.7902                | 0.000414313 |"
      ]
     },
     "metadata": {},
     "output_type": "display_data"
    },
    {
     "data": {
      "text/html": [
       "<pre>| 92      | 1m 47s       | 0.624401          | 0.79019               | 0.000410931 |</pre>"
      ],
      "text/plain": [
       "| 92      | 1m 47s       | 0.624401          | 0.79019               | 0.000410931 |"
      ]
     },
     "metadata": {},
     "output_type": "display_data"
    },
    {
     "data": {
      "text/html": [
       "<pre>| 93      | 1m 48s       | 0.624394          | 0.790186              | 0.000407613 |</pre>"
      ],
      "text/plain": [
       "| 93      | 1m 48s       | 0.624394          | 0.790186              | 0.000407613 |"
      ]
     },
     "metadata": {},
     "output_type": "display_data"
    },
    {
     "data": {
      "text/html": [
       "<pre>| 94      | 1m 49s       | 0.624389          | 0.790183              | 0.000404356 |</pre>"
      ],
      "text/plain": [
       "| 94      | 1m 49s       | 0.624389          | 0.790183              | 0.000404356 |"
      ]
     },
     "metadata": {},
     "output_type": "display_data"
    },
    {
     "data": {
      "text/html": [
       "<pre>| 95      | 1m 50s       | 0.624379          | 0.790176              | 0.00040116  |</pre>"
      ],
      "text/plain": [
       "| 95      | 1m 50s       | 0.624379          | 0.790176              | 0.00040116  |"
      ]
     },
     "metadata": {},
     "output_type": "display_data"
    },
    {
     "data": {
      "text/html": [
       "<pre>| 96      | 1m 51s       | 0.62437           | 0.790171              | 0.000398022 |</pre>"
      ],
      "text/plain": [
       "| 96      | 1m 51s       | 0.62437           | 0.790171              | 0.000398022 |"
      ]
     },
     "metadata": {},
     "output_type": "display_data"
    },
    {
     "data": {
      "text/html": [
       "<pre>| 97      | 1m 52s       | 0.62437           | 0.790171              | 0.00039494  |</pre>"
      ],
      "text/plain": [
       "| 97      | 1m 52s       | 0.62437           | 0.790171              | 0.00039494  |"
      ]
     },
     "metadata": {},
     "output_type": "display_data"
    },
    {
     "data": {
      "text/html": [
       "<pre>| 98      | 1m 54s       | 0.624357          | 0.790162              | 0.000391914 |</pre>"
      ],
      "text/plain": [
       "| 98      | 1m 54s       | 0.624357          | 0.790162              | 0.000391914 |"
      ]
     },
     "metadata": {},
     "output_type": "display_data"
    },
    {
     "data": {
      "text/html": [
       "<pre>| 99      | 1m 55s       | 0.624351          | 0.790159              | 0.000388941 |</pre>"
      ],
      "text/plain": [
       "| 99      | 1m 55s       | 0.624351          | 0.790159              | 0.000388941 |"
      ]
     },
     "metadata": {},
     "output_type": "display_data"
    },
    {
     "data": {
      "text/html": [
       "<pre>| 100     | 1m 56s       | 0.624346          | 0.790156              | 0.00038602  |</pre>"
      ],
      "text/plain": [
       "| 100     | 1m 56s       | 0.624346          | 0.790156              | 0.00038602  |"
      ]
     },
     "metadata": {},
     "output_type": "display_data"
    },
    {
     "data": {
      "text/html": [
       "<pre>| 101     | 1m 57s       | 0.624339          | 0.790151              | 0.00038315  |</pre>"
      ],
      "text/plain": [
       "| 101     | 1m 57s       | 0.624339          | 0.790151              | 0.00038315  |"
      ]
     },
     "metadata": {},
     "output_type": "display_data"
    },
    {
     "data": {
      "text/html": [
       "<pre>| 102     | 1m 58s       | 0.624329          | 0.790145              | 0.000380329 |</pre>"
      ],
      "text/plain": [
       "| 102     | 1m 58s       | 0.624329          | 0.790145              | 0.000380329 |"
      ]
     },
     "metadata": {},
     "output_type": "display_data"
    },
    {
     "data": {
      "text/html": [
       "<pre>| 103     | 1m 59s       | 0.624321          | 0.79014               | 0.000377557 |</pre>"
      ],
      "text/plain": [
       "| 103     | 1m 59s       | 0.624321          | 0.79014               | 0.000377557 |"
      ]
     },
     "metadata": {},
     "output_type": "display_data"
    },
    {
     "data": {
      "text/html": [
       "<pre>| 104     | 2m 1s        | 0.624316          | 0.790137              | 0.000374831 |</pre>"
      ],
      "text/plain": [
       "| 104     | 2m 1s        | 0.624316          | 0.790137              | 0.000374831 |"
      ]
     },
     "metadata": {},
     "output_type": "display_data"
    },
    {
     "data": {
      "text/html": [
       "<pre>| 105     | 2m 2s        | 0.624311          | 0.790133              | 0.00037215  |</pre>"
      ],
      "text/plain": [
       "| 105     | 2m 2s        | 0.624311          | 0.790133              | 0.00037215  |"
      ]
     },
     "metadata": {},
     "output_type": "display_data"
    },
    {
     "data": {
      "text/html": [
       "<pre>| 106     | 2m 3s        | 0.624303          | 0.790128              | 0.000369514 |</pre>"
      ],
      "text/plain": [
       "| 106     | 2m 3s        | 0.624303          | 0.790128              | 0.000369514 |"
      ]
     },
     "metadata": {},
     "output_type": "display_data"
    },
    {
     "data": {
      "text/html": [
       "<pre>| 107     | 2m 4s        | 0.624298          | 0.790125              | 0.000366921 |</pre>"
      ],
      "text/plain": [
       "| 107     | 2m 4s        | 0.624298          | 0.790125              | 0.000366921 |"
      ]
     },
     "metadata": {},
     "output_type": "display_data"
    },
    {
     "data": {
      "text/html": [
       "<pre>| 108     | 2m 5s        | 0.624288          | 0.790119              | 0.00036437  |</pre>"
      ],
      "text/plain": [
       "| 108     | 2m 5s        | 0.624288          | 0.790119              | 0.00036437  |"
      ]
     },
     "metadata": {},
     "output_type": "display_data"
    },
    {
     "data": {
      "text/html": [
       "<pre>| 109     | 2m 6s        | 0.624284          | 0.790117              | 0.00036186  |</pre>"
      ],
      "text/plain": [
       "| 109     | 2m 6s        | 0.624284          | 0.790117              | 0.00036186  |"
      ]
     },
     "metadata": {},
     "output_type": "display_data"
    },
    {
     "data": {
      "text/html": [
       "<pre>| 110     | 2m 7s        | 0.624276          | 0.790111              | 0.00035939  |</pre>"
      ],
      "text/plain": [
       "| 110     | 2m 7s        | 0.624276          | 0.790111              | 0.00035939  |"
      ]
     },
     "metadata": {},
     "output_type": "display_data"
    },
    {
     "data": {
      "text/html": [
       "<pre>| 111     | 2m 8s        | 0.624271          | 0.790108              | 0.000356959 |</pre>"
      ],
      "text/plain": [
       "| 111     | 2m 8s        | 0.624271          | 0.790108              | 0.000356959 |"
      ]
     },
     "metadata": {},
     "output_type": "display_data"
    },
    {
     "data": {
      "text/html": [
       "<pre>| 112     | 2m 10s       | 0.624267          | 0.790106              | 0.000354566 |</pre>"
      ],
      "text/plain": [
       "| 112     | 2m 10s       | 0.624267          | 0.790106              | 0.000354566 |"
      ]
     },
     "metadata": {},
     "output_type": "display_data"
    },
    {
     "data": {
      "text/html": [
       "<pre>| 113     | 2m 11s       | 0.624262          | 0.790103              | 0.00035221  |</pre>"
      ],
      "text/plain": [
       "| 113     | 2m 11s       | 0.624262          | 0.790103              | 0.00035221  |"
      ]
     },
     "metadata": {},
     "output_type": "display_data"
    },
    {
     "data": {
      "text/html": [
       "<pre>| 114     | 2m 12s       | 0.624252          | 0.790096              | 0.00034989  |</pre>"
      ],
      "text/plain": [
       "| 114     | 2m 12s       | 0.624252          | 0.790096              | 0.00034989  |"
      ]
     },
     "metadata": {},
     "output_type": "display_data"
    },
    {
     "data": {
      "text/html": [
       "<pre>| 115     | 2m 13s       | 0.62425           | 0.790095              | 0.000347606 |</pre>"
      ],
      "text/plain": [
       "| 115     | 2m 13s       | 0.62425           | 0.790095              | 0.000347606 |"
      ]
     },
     "metadata": {},
     "output_type": "display_data"
    },
    {
     "data": {
      "text/html": [
       "<pre>| 116     | 2m 14s       | 0.624243          | 0.790091              | 0.000345356 |</pre>"
      ],
      "text/plain": [
       "| 116     | 2m 14s       | 0.624243          | 0.790091              | 0.000345356 |"
      ]
     },
     "metadata": {},
     "output_type": "display_data"
    },
    {
     "data": {
      "text/html": [
       "<pre>| 117     | 2m 15s       | 0.624236          | 0.790086              | 0.000343139 |</pre>"
      ],
      "text/plain": [
       "| 117     | 2m 15s       | 0.624236          | 0.790086              | 0.000343139 |"
      ]
     },
     "metadata": {},
     "output_type": "display_data"
    },
    {
     "data": {
      "text/html": [
       "<pre>| 118     | 2m 17s       | 0.62423           | 0.790083              | 0.000340956 |</pre>"
      ],
      "text/plain": [
       "| 118     | 2m 17s       | 0.62423           | 0.790083              | 0.000340956 |"
      ]
     },
     "metadata": {},
     "output_type": "display_data"
    },
    {
     "data": {
      "text/html": [
       "<pre>| 119     | 2m 18s       | 0.624228          | 0.790081              | 0.000338805 |</pre>"
      ],
      "text/plain": [
       "| 119     | 2m 18s       | 0.624228          | 0.790081              | 0.000338805 |"
      ]
     },
     "metadata": {},
     "output_type": "display_data"
    },
    {
     "data": {
      "text/html": [
       "<pre>| 120     | 2m 19s       | 0.624221          | 0.790077              | 0.000336685 |</pre>"
      ],
      "text/plain": [
       "| 120     | 2m 19s       | 0.624221          | 0.790077              | 0.000336685 |"
      ]
     },
     "metadata": {},
     "output_type": "display_data"
    },
    {
     "data": {
      "text/html": [
       "<pre>| 121     | 2m 20s       | 0.624216          | 0.790073              | 0.000334596 |</pre>"
      ],
      "text/plain": [
       "| 121     | 2m 20s       | 0.624216          | 0.790073              | 0.000334596 |"
      ]
     },
     "metadata": {},
     "output_type": "display_data"
    },
    {
     "data": {
      "text/html": [
       "<pre>| 122     | 2m 21s       | 0.624209          | 0.790069              | 0.000332537 |</pre>"
      ],
      "text/plain": [
       "| 122     | 2m 21s       | 0.624209          | 0.790069              | 0.000332537 |"
      ]
     },
     "metadata": {},
     "output_type": "display_data"
    },
    {
     "data": {
      "text/html": [
       "<pre>| 123     | 2m 22s       | 0.624206          | 0.790067              | 0.000330507 |</pre>"
      ],
      "text/plain": [
       "| 123     | 2m 22s       | 0.624206          | 0.790067              | 0.000330507 |"
      ]
     },
     "metadata": {},
     "output_type": "display_data"
    },
    {
     "data": {
      "text/html": [
       "<pre>| 124     | 2m 24s       | 0.624203          | 0.790065              | 0.000328506 |</pre>"
      ],
      "text/plain": [
       "| 124     | 2m 24s       | 0.624203          | 0.790065              | 0.000328506 |"
      ]
     },
     "metadata": {},
     "output_type": "display_data"
    },
    {
     "data": {
      "text/html": [
       "<pre>| 125     | 2m 25s       | 0.624197          | 0.790061              | 0.000326533 |</pre>"
      ],
      "text/plain": [
       "| 125     | 2m 25s       | 0.624197          | 0.790061              | 0.000326533 |"
      ]
     },
     "metadata": {},
     "output_type": "display_data"
    },
    {
     "data": {
      "text/html": [
       "<pre>| 126     | 2m 26s       | 0.624193          | 0.790059              | 0.000324588 |</pre>"
      ],
      "text/plain": [
       "| 126     | 2m 26s       | 0.624193          | 0.790059              | 0.000324588 |"
      ]
     },
     "metadata": {},
     "output_type": "display_data"
    },
    {
     "data": {
      "text/html": [
       "<pre>| 127     | 2m 27s       | 0.624186          | 0.790054              | 0.000322669 |</pre>"
      ],
      "text/plain": [
       "| 127     | 2m 27s       | 0.624186          | 0.790054              | 0.000322669 |"
      ]
     },
     "metadata": {},
     "output_type": "display_data"
    },
    {
     "data": {
      "text/html": [
       "<pre>| 128     | 2m 28s       | 0.624182          | 0.790052              | 0.000320777 |</pre>"
      ],
      "text/plain": [
       "| 128     | 2m 28s       | 0.624182          | 0.790052              | 0.000320777 |"
      ]
     },
     "metadata": {},
     "output_type": "display_data"
    },
    {
     "data": {
      "text/html": [
       "<pre>| 129     | 2m 30s       | 0.624177          | 0.790049              | 0.00031891  |</pre>"
      ],
      "text/plain": [
       "| 129     | 2m 30s       | 0.624177          | 0.790049              | 0.00031891  |"
      ]
     },
     "metadata": {},
     "output_type": "display_data"
    },
    {
     "data": {
      "text/html": [
       "<pre>| 130     | 2m 31s       | 0.624168          | 0.790043              | 0.000317068 |</pre>"
      ],
      "text/plain": [
       "| 130     | 2m 31s       | 0.624168          | 0.790043              | 0.000317068 |"
      ]
     },
     "metadata": {},
     "output_type": "display_data"
    },
    {
     "data": {
      "text/html": [
       "<pre>| 131     | 2m 32s       | 0.624166          | 0.790042              | 0.000315251 |</pre>"
      ],
      "text/plain": [
       "| 131     | 2m 32s       | 0.624166          | 0.790042              | 0.000315251 |"
      ]
     },
     "metadata": {},
     "output_type": "display_data"
    },
    {
     "data": {
      "text/html": [
       "<pre>| 132     | 2m 33s       | 0.624163          | 0.79004               | 0.000313458 |</pre>"
      ],
      "text/plain": [
       "| 132     | 2m 33s       | 0.624163          | 0.79004               | 0.000313458 |"
      ]
     },
     "metadata": {},
     "output_type": "display_data"
    },
    {
     "data": {
      "text/html": [
       "<pre>| 133     | 2m 34s       | 0.624159          | 0.790037              | 0.000311689 |</pre>"
      ],
      "text/plain": [
       "| 133     | 2m 34s       | 0.624159          | 0.790037              | 0.000311689 |"
      ]
     },
     "metadata": {},
     "output_type": "display_data"
    },
    {
     "data": {
      "text/html": [
       "<pre>+---------+--------------+-------------------+-----------------------+-------------+</pre>"
      ],
      "text/plain": [
       "+---------+--------------+-------------------+-----------------------+-------------+"
      ]
     },
     "metadata": {},
     "output_type": "display_data"
    },
    {
     "data": {
      "text/html": [
       "<pre>Optimization Complete: Convergence on objective within bounds.</pre>"
      ],
      "text/plain": [
       "Optimization Complete: Convergence on objective within bounds."
      ]
     },
     "metadata": {},
     "output_type": "display_data"
    },
    {
     "data": {
      "text/html": [
       "<pre>Computing final objective value and training RMSE.</pre>"
      ],
      "text/plain": [
       "Computing final objective value and training RMSE."
      ]
     },
     "metadata": {},
     "output_type": "display_data"
    },
    {
     "data": {
      "text/html": [
       "<pre>       Final objective value: 0.623396</pre>"
      ],
      "text/plain": [
       "       Final objective value: 0.623396"
      ]
     },
     "metadata": {},
     "output_type": "display_data"
    },
    {
     "data": {
      "text/html": [
       "<pre>       Final training RMSE: 0.789554</pre>"
      ],
      "text/plain": [
       "       Final training RMSE: 0.789554"
      ]
     },
     "metadata": {},
     "output_type": "display_data"
    }
   ],
   "source": [
    "rec_engine_baseline = gl.factorization_recommender.create(   observation_data=glRatingsTrain, \n",
    "                                                    user_id=\"userID\", \n",
    "                                                    item_id=\"bookID\", \n",
    "                                                    target='rating',\n",
    "                                                    num_factors=0,\n",
    "                                                    solver='auto',\n",
    "                                                    max_iterations=1000,\n",
    "                                                    regularization = 1e-10,\n",
    "                                                    linear_regularization = 1e-12\n",
    "                                                    )"
   ]
  },
  {
   "cell_type": "code",
   "execution_count": 87,
   "metadata": {
    "collapsed": false
   },
   "outputs": [
    {
     "data": {
      "text/html": [
       "<pre>Using default 16 lambda workers.</pre>"
      ],
      "text/plain": [
       "Using default 16 lambda workers."
      ]
     },
     "metadata": {},
     "output_type": "display_data"
    },
    {
     "data": {
      "text/html": [
       "<pre>To maximize the degree of parallelism, add the following code to the beginning of the program:</pre>"
      ],
      "text/plain": [
       "To maximize the degree of parallelism, add the following code to the beginning of the program:"
      ]
     },
     "metadata": {},
     "output_type": "display_data"
    },
    {
     "data": {
      "text/html": [
       "<pre>\"graphlab.set_runtime_config('GRAPHLAB_DEFAULT_NUM_PYLAMBDA_WORKERS', 64)\"</pre>"
      ],
      "text/plain": [
       "\"graphlab.set_runtime_config('GRAPHLAB_DEFAULT_NUM_PYLAMBDA_WORKERS', 64)\""
      ]
     },
     "metadata": {},
     "output_type": "display_data"
    },
    {
     "data": {
      "text/html": [
       "<pre>Note that increasing the degree of parallelism also increases the memory footprint.</pre>"
      ],
      "text/plain": [
       "Note that increasing the degree of parallelism also increases the memory footprint."
      ]
     },
     "metadata": {},
     "output_type": "display_data"
    },
    {
     "data": {
      "text/plain": [
       "0.8426026494362266"
      ]
     },
     "execution_count": 87,
     "metadata": {},
     "output_type": "execute_result"
    }
   ],
   "source": [
    "rec_engine_baseline.evaluate_rmse(glRatingsTest, target='rating')['rmse_overall']"
   ]
  },
  {
   "cell_type": "code",
   "execution_count": 91,
   "metadata": {
    "collapsed": false,
    "scrolled": false
   },
   "outputs": [
    {
     "data": {
      "text/html": [
       "<pre>Recsys training: model = factorization_recommender</pre>"
      ],
      "text/plain": [
       "Recsys training: model = factorization_recommender"
      ]
     },
     "metadata": {},
     "output_type": "display_data"
    },
    {
     "data": {
      "text/html": [
       "<pre>Preparing data set.</pre>"
      ],
      "text/plain": [
       "Preparing data set."
      ]
     },
     "metadata": {},
     "output_type": "display_data"
    },
    {
     "data": {
      "text/html": [
       "<pre>    Data has 46371 observations with 323 users and 2649 items.</pre>"
      ],
      "text/plain": [
       "    Data has 46371 observations with 323 users and 2649 items."
      ]
     },
     "metadata": {},
     "output_type": "display_data"
    },
    {
     "data": {
      "text/html": [
       "<pre>    Data prepared in: 0.168181s</pre>"
      ],
      "text/plain": [
       "    Data prepared in: 0.168181s"
      ]
     },
     "metadata": {},
     "output_type": "display_data"
    },
    {
     "data": {
      "text/html": [
       "<pre>Training factorization_recommender for recommendations.</pre>"
      ],
      "text/plain": [
       "Training factorization_recommender for recommendations."
      ]
     },
     "metadata": {},
     "output_type": "display_data"
    },
    {
     "data": {
      "text/html": [
       "<pre>+--------------------------------+--------------------------------------------------+----------+</pre>"
      ],
      "text/plain": [
       "+--------------------------------+--------------------------------------------------+----------+"
      ]
     },
     "metadata": {},
     "output_type": "display_data"
    },
    {
     "data": {
      "text/html": [
       "<pre>| Parameter                      | Description                                      | Value    |</pre>"
      ],
      "text/plain": [
       "| Parameter                      | Description                                      | Value    |"
      ]
     },
     "metadata": {},
     "output_type": "display_data"
    },
    {
     "data": {
      "text/html": [
       "<pre>+--------------------------------+--------------------------------------------------+----------+</pre>"
      ],
      "text/plain": [
       "+--------------------------------+--------------------------------------------------+----------+"
      ]
     },
     "metadata": {},
     "output_type": "display_data"
    },
    {
     "data": {
      "text/html": [
       "<pre>| num_factors                    | Factor Dimension                                 | 1        |</pre>"
      ],
      "text/plain": [
       "| num_factors                    | Factor Dimension                                 | 1        |"
      ]
     },
     "metadata": {},
     "output_type": "display_data"
    },
    {
     "data": {
      "text/html": [
       "<pre>| regularization                 | L2 Regularization on Factors                     | 1        |</pre>"
      ],
      "text/plain": [
       "| regularization                 | L2 Regularization on Factors                     | 1        |"
      ]
     },
     "metadata": {},
     "output_type": "display_data"
    },
    {
     "data": {
      "text/html": [
       "<pre>| solver                         | Solver used for training                         | sgd      |</pre>"
      ],
      "text/plain": [
       "| solver                         | Solver used for training                         | sgd      |"
      ]
     },
     "metadata": {},
     "output_type": "display_data"
    },
    {
     "data": {
      "text/html": [
       "<pre>| linear_regularization          | L2 Regularization on Linear Coefficients         | 1e-12    |</pre>"
      ],
      "text/plain": [
       "| linear_regularization          | L2 Regularization on Linear Coefficients         | 1e-12    |"
      ]
     },
     "metadata": {},
     "output_type": "display_data"
    },
    {
     "data": {
      "text/html": [
       "<pre>| max_iterations                 | Maximum Number of Iterations                     | 100      |</pre>"
      ],
      "text/plain": [
       "| max_iterations                 | Maximum Number of Iterations                     | 100      |"
      ]
     },
     "metadata": {},
     "output_type": "display_data"
    },
    {
     "data": {
      "text/html": [
       "<pre>+--------------------------------+--------------------------------------------------+----------+</pre>"
      ],
      "text/plain": [
       "+--------------------------------+--------------------------------------------------+----------+"
      ]
     },
     "metadata": {},
     "output_type": "display_data"
    },
    {
     "data": {
      "text/html": [
       "<pre>  Optimizing model using SGD; tuning step size.</pre>"
      ],
      "text/plain": [
       "  Optimizing model using SGD; tuning step size."
      ]
     },
     "metadata": {},
     "output_type": "display_data"
    },
    {
     "data": {
      "text/html": [
       "<pre>  Using 10000 / 46371 points for tuning the step size.</pre>"
      ],
      "text/plain": [
       "  Using 10000 / 46371 points for tuning the step size."
      ]
     },
     "metadata": {},
     "output_type": "display_data"
    },
    {
     "data": {
      "text/html": [
       "<pre>+---------+-------------------+------------------------------------------+</pre>"
      ],
      "text/plain": [
       "+---------+-------------------+------------------------------------------+"
      ]
     },
     "metadata": {},
     "output_type": "display_data"
    },
    {
     "data": {
      "text/html": [
       "<pre>| Attempt | Initial Step Size | Estimated Objective Value                |</pre>"
      ],
      "text/plain": [
       "| Attempt | Initial Step Size | Estimated Objective Value                |"
      ]
     },
     "metadata": {},
     "output_type": "display_data"
    },
    {
     "data": {
      "text/html": [
       "<pre>+---------+-------------------+------------------------------------------+</pre>"
      ],
      "text/plain": [
       "+---------+-------------------+------------------------------------------+"
      ]
     },
     "metadata": {},
     "output_type": "display_data"
    },
    {
     "data": {
      "text/html": [
       "<pre>| 0       | 0.00158772        | Not Viable                               |</pre>"
      ],
      "text/plain": [
       "| 0       | 0.00158772        | Not Viable                               |"
      ]
     },
     "metadata": {},
     "output_type": "display_data"
    },
    {
     "data": {
      "text/html": [
       "<pre>| 1       | 0.00039693        | 0.885183                                 |</pre>"
      ],
      "text/plain": [
       "| 1       | 0.00039693        | 0.885183                                 |"
      ]
     },
     "metadata": {},
     "output_type": "display_data"
    },
    {
     "data": {
      "text/html": [
       "<pre>| 2       | 0.000198465       | 0.892168                                 |</pre>"
      ],
      "text/plain": [
       "| 2       | 0.000198465       | 0.892168                                 |"
      ]
     },
     "metadata": {},
     "output_type": "display_data"
    },
    {
     "data": {
      "text/html": [
       "<pre>| 3       | 9.92326e-05       | 0.895875                                 |</pre>"
      ],
      "text/plain": [
       "| 3       | 9.92326e-05       | 0.895875                                 |"
      ]
     },
     "metadata": {},
     "output_type": "display_data"
    },
    {
     "data": {
      "text/html": [
       "<pre>| 4       | 4.96163e-05       | 0.897879                                 |</pre>"
      ],
      "text/plain": [
       "| 4       | 4.96163e-05       | 0.897879                                 |"
      ]
     },
     "metadata": {},
     "output_type": "display_data"
    },
    {
     "data": {
      "text/html": [
       "<pre>+---------+-------------------+------------------------------------------+</pre>"
      ],
      "text/plain": [
       "+---------+-------------------+------------------------------------------+"
      ]
     },
     "metadata": {},
     "output_type": "display_data"
    },
    {
     "data": {
      "text/html": [
       "<pre>| Final   | 0.00039693        | 0.885183                                 |</pre>"
      ],
      "text/plain": [
       "| Final   | 0.00039693        | 0.885183                                 |"
      ]
     },
     "metadata": {},
     "output_type": "display_data"
    },
    {
     "data": {
      "text/html": [
       "<pre>+---------+-------------------+------------------------------------------+</pre>"
      ],
      "text/plain": [
       "+---------+-------------------+------------------------------------------+"
      ]
     },
     "metadata": {},
     "output_type": "display_data"
    },
    {
     "data": {
      "text/html": [
       "<pre>Starting Optimization.</pre>"
      ],
      "text/plain": [
       "Starting Optimization."
      ]
     },
     "metadata": {},
     "output_type": "display_data"
    },
    {
     "data": {
      "text/html": [
       "<pre>+---------+--------------+-------------------+-----------------------+-------------+</pre>"
      ],
      "text/plain": [
       "+---------+--------------+-------------------+-----------------------+-------------+"
      ]
     },
     "metadata": {},
     "output_type": "display_data"
    },
    {
     "data": {
      "text/html": [
       "<pre>| Iter.   | Elapsed Time | Approx. Objective | Approx. Training RMSE | Step Size   |</pre>"
      ],
      "text/plain": [
       "| Iter.   | Elapsed Time | Approx. Objective | Approx. Training RMSE | Step Size   |"
      ]
     },
     "metadata": {},
     "output_type": "display_data"
    },
    {
     "data": {
      "text/html": [
       "<pre>+---------+--------------+-------------------+-----------------------+-------------+</pre>"
      ],
      "text/plain": [
       "+---------+--------------+-------------------+-----------------------+-------------+"
      ]
     },
     "metadata": {},
     "output_type": "display_data"
    },
    {
     "data": {
      "text/html": [
       "<pre>| Initial | 132us        | 0.895731          | 0.946414              |             |</pre>"
      ],
      "text/plain": [
       "| Initial | 132us        | 0.895731          | 0.946414              |             |"
      ]
     },
     "metadata": {},
     "output_type": "display_data"
    },
    {
     "data": {
      "text/html": [
       "<pre>+---------+--------------+-------------------+-----------------------+-------------+</pre>"
      ],
      "text/plain": [
       "+---------+--------------+-------------------+-----------------------+-------------+"
      ]
     },
     "metadata": {},
     "output_type": "display_data"
    },
    {
     "data": {
      "text/html": [
       "<pre>| 1       | 1.25s        | DIVERGED          | DIVERGED              | 0.00039693  |</pre>"
      ],
      "text/plain": [
       "| 1       | 1.25s        | DIVERGED          | DIVERGED              | 0.00039693  |"
      ]
     },
     "metadata": {},
     "output_type": "display_data"
    },
    {
     "data": {
      "text/html": [
       "<pre>| RESET   | 1.26s        | 0.895726          | 0.946412              |             |</pre>"
      ],
      "text/plain": [
       "| RESET   | 1.26s        | 0.895726          | 0.946412              |             |"
      ]
     },
     "metadata": {},
     "output_type": "display_data"
    },
    {
     "data": {
      "text/html": [
       "<pre>| 1       | 2.45s        | DIVERGED          | DIVERGED              | 0.000198465 |</pre>"
      ],
      "text/plain": [
       "| 1       | 2.45s        | DIVERGED          | DIVERGED              | 0.000198465 |"
      ]
     },
     "metadata": {},
     "output_type": "display_data"
    },
    {
     "data": {
      "text/html": [
       "<pre>| RESET   | 2.46s        | 0.895739          | 0.946418              |             |</pre>"
      ],
      "text/plain": [
       "| RESET   | 2.46s        | 0.895739          | 0.946418              |             |"
      ]
     },
     "metadata": {},
     "output_type": "display_data"
    },
    {
     "data": {
      "text/html": [
       "<pre>| 1       | 3.61s        | 0.888114          | 0.942398              | 9.92326e-05 |</pre>"
      ],
      "text/plain": [
       "| 1       | 3.61s        | 0.888114          | 0.942398              | 9.92326e-05 |"
      ]
     },
     "metadata": {},
     "output_type": "display_data"
    },
    {
     "data": {
      "text/html": [
       "<pre>| 2       | 4.83s        | 0.878951          | 0.937524              | 1.77153e-05 |</pre>"
      ],
      "text/plain": [
       "| 2       | 4.83s        | 0.878951          | 0.937524              | 1.77153e-05 |"
      ]
     },
     "metadata": {},
     "output_type": "display_data"
    },
    {
     "data": {
      "text/html": [
       "<pre>| 3       | 6.00s        | 0.876958          | 0.93646               | 9.7258e-06  |</pre>"
      ],
      "text/plain": [
       "| 3       | 6.00s        | 0.876958          | 0.93646               | 9.7258e-06  |"
      ]
     },
     "metadata": {},
     "output_type": "display_data"
    },
    {
     "data": {
      "text/html": [
       "<pre>| 4       | 7.19s        | 0.875789          | 0.935836              | 6.70285e-06 |</pre>"
      ],
      "text/plain": [
       "| 4       | 7.19s        | 0.875789          | 0.935836              | 6.70285e-06 |"
      ]
     },
     "metadata": {},
     "output_type": "display_data"
    },
    {
     "data": {
      "text/html": [
       "<pre>| 5       | 8.34s        | 0.874958          | 0.935392              | 5.11349e-06 |</pre>"
      ],
      "text/plain": [
       "| 5       | 8.34s        | 0.874958          | 0.935392              | 5.11349e-06 |"
      ]
     },
     "metadata": {},
     "output_type": "display_data"
    },
    {
     "data": {
      "text/html": [
       "<pre>| 6       | 9.49s        | 0.874313          | 0.935047              | 4.13339e-06 |</pre>"
      ],
      "text/plain": [
       "| 6       | 9.49s        | 0.874313          | 0.935047              | 4.13339e-06 |"
      ]
     },
     "metadata": {},
     "output_type": "display_data"
    },
    {
     "data": {
      "text/html": [
       "<pre>| 7       | 10.66s       | 0.873787          | 0.934766              | 3.46857e-06 |</pre>"
      ],
      "text/plain": [
       "| 7       | 10.66s       | 0.873787          | 0.934766              | 3.46857e-06 |"
      ]
     },
     "metadata": {},
     "output_type": "display_data"
    },
    {
     "data": {
      "text/html": [
       "<pre>| 8       | 11.79s       | 0.873342          | 0.934527              | 2.98798e-06 |</pre>"
      ],
      "text/plain": [
       "| 8       | 11.79s       | 0.873342          | 0.934527              | 2.98798e-06 |"
      ]
     },
     "metadata": {},
     "output_type": "display_data"
    },
    {
     "data": {
      "text/html": [
       "<pre>| 9       | 12.95s       | 0.872957          | 0.934322              | 2.62436e-06 |</pre>"
      ],
      "text/plain": [
       "| 9       | 12.95s       | 0.872957          | 0.934322              | 2.62436e-06 |"
      ]
     },
     "metadata": {},
     "output_type": "display_data"
    },
    {
     "data": {
      "text/html": [
       "<pre>| 10      | 14.10s       | 0.872618          | 0.93414               | 2.33964e-06 |</pre>"
      ],
      "text/plain": [
       "| 10      | 14.10s       | 0.872618          | 0.93414               | 2.33964e-06 |"
      ]
     },
     "metadata": {},
     "output_type": "display_data"
    },
    {
     "data": {
      "text/html": [
       "<pre>| 11      | 15.26s       | 0.872315          | 0.933978              | 2.11065e-06 |</pre>"
      ],
      "text/plain": [
       "| 11      | 15.26s       | 0.872315          | 0.933978              | 2.11065e-06 |"
      ]
     },
     "metadata": {},
     "output_type": "display_data"
    },
    {
     "data": {
      "text/html": [
       "<pre>| 12      | 16.38s       | 0.872041          | 0.933831              | 1.92249e-06 |</pre>"
      ],
      "text/plain": [
       "| 12      | 16.38s       | 0.872041          | 0.933831              | 1.92249e-06 |"
      ]
     },
     "metadata": {},
     "output_type": "display_data"
    },
    {
     "data": {
      "text/html": [
       "<pre>| 13      | 17.52s       | 0.871791          | 0.933698              | 1.76513e-06 |</pre>"
      ],
      "text/plain": [
       "| 13      | 17.52s       | 0.871791          | 0.933698              | 1.76513e-06 |"
      ]
     },
     "metadata": {},
     "output_type": "display_data"
    },
    {
     "data": {
      "text/html": [
       "<pre>| 14      | 18.70s       | 0.871562          | 0.933575              | 1.63159e-06 |</pre>"
      ],
      "text/plain": [
       "| 14      | 18.70s       | 0.871562          | 0.933575              | 1.63159e-06 |"
      ]
     },
     "metadata": {},
     "output_type": "display_data"
    },
    {
     "data": {
      "text/html": [
       "<pre>| 15      | 19.85s       | 0.87135           | 0.933461              | 1.51683e-06 |</pre>"
      ],
      "text/plain": [
       "| 15      | 19.85s       | 0.87135           | 0.933461              | 1.51683e-06 |"
      ]
     },
     "metadata": {},
     "output_type": "display_data"
    },
    {
     "data": {
      "text/html": [
       "<pre>| 16      | 21.03s       | 0.871152          | 0.933355              | 1.41715e-06 |</pre>"
      ],
      "text/plain": [
       "| 16      | 21.03s       | 0.871152          | 0.933355              | 1.41715e-06 |"
      ]
     },
     "metadata": {},
     "output_type": "display_data"
    },
    {
     "data": {
      "text/html": [
       "<pre>| 17      | 22.19s       | 0.870968          | 0.933257              | 1.32976e-06 |</pre>"
      ],
      "text/plain": [
       "| 17      | 22.19s       | 0.870968          | 0.933257              | 1.32976e-06 |"
      ]
     },
     "metadata": {},
     "output_type": "display_data"
    },
    {
     "data": {
      "text/html": [
       "<pre>| 18      | 23.36s       | 0.870795          | 0.933164              | 1.25253e-06 |</pre>"
      ],
      "text/plain": [
       "| 18      | 23.36s       | 0.870795          | 0.933164              | 1.25253e-06 |"
      ]
     },
     "metadata": {},
     "output_type": "display_data"
    },
    {
     "data": {
      "text/html": [
       "<pre>| 19      | 24.53s       | 0.870632          | 0.933077              | 1.18377e-06 |</pre>"
      ],
      "text/plain": [
       "| 19      | 24.53s       | 0.870632          | 0.933077              | 1.18377e-06 |"
      ]
     },
     "metadata": {},
     "output_type": "display_data"
    },
    {
     "data": {
      "text/html": [
       "<pre>| 20      | 25.69s       | 0.870478          | 0.932994              | 1.12218e-06 |</pre>"
      ],
      "text/plain": [
       "| 20      | 25.69s       | 0.870478          | 0.932994              | 1.12218e-06 |"
      ]
     },
     "metadata": {},
     "output_type": "display_data"
    },
    {
     "data": {
      "text/html": [
       "<pre>| 21      | 26.89s       | 0.870332          | 0.932916              | 1.06667e-06 |</pre>"
      ],
      "text/plain": [
       "| 21      | 26.89s       | 0.870332          | 0.932916              | 1.06667e-06 |"
      ]
     },
     "metadata": {},
     "output_type": "display_data"
    },
    {
     "data": {
      "text/html": [
       "<pre>| 22      | 28.03s       | 0.870194          | 0.932842              | 1.0164e-06  |</pre>"
      ],
      "text/plain": [
       "| 22      | 28.03s       | 0.870194          | 0.932842              | 1.0164e-06  |"
      ]
     },
     "metadata": {},
     "output_type": "display_data"
    },
    {
     "data": {
      "text/html": [
       "<pre>| 23      | 29.21s       | 0.870062          | 0.932771              | 9.70648e-07 |</pre>"
      ],
      "text/plain": [
       "| 23      | 29.21s       | 0.870062          | 0.932771              | 9.70648e-07 |"
      ]
     },
     "metadata": {},
     "output_type": "display_data"
    },
    {
     "data": {
      "text/html": [
       "<pre>| 24      | 30.37s       | 0.869936          | 0.932703              | 9.28841e-07 |</pre>"
      ],
      "text/plain": [
       "| 24      | 30.37s       | 0.869936          | 0.932703              | 9.28841e-07 |"
      ]
     },
     "metadata": {},
     "output_type": "display_data"
    },
    {
     "data": {
      "text/html": [
       "<pre>| 25      | 31.52s       | 0.869815          | 0.932639              | 8.90487e-07 |</pre>"
      ],
      "text/plain": [
       "| 25      | 31.52s       | 0.869815          | 0.932639              | 8.90487e-07 |"
      ]
     },
     "metadata": {},
     "output_type": "display_data"
    },
    {
     "data": {
      "text/html": [
       "<pre>| 26      | 32.68s       | 0.869699          | 0.932577              | 8.55174e-07 |</pre>"
      ],
      "text/plain": [
       "| 26      | 32.68s       | 0.869699          | 0.932577              | 8.55174e-07 |"
      ]
     },
     "metadata": {},
     "output_type": "display_data"
    },
    {
     "data": {
      "text/html": [
       "<pre>| 27      | 33.81s       | 0.869588          | 0.932517              | 8.22556e-07 |</pre>"
      ],
      "text/plain": [
       "| 27      | 33.81s       | 0.869588          | 0.932517              | 8.22556e-07 |"
      ]
     },
     "metadata": {},
     "output_type": "display_data"
    },
    {
     "data": {
      "text/html": [
       "<pre>| 28      | 34.97s       | 0.869482          | 0.93246               | 7.92334e-07 |</pre>"
      ],
      "text/plain": [
       "| 28      | 34.97s       | 0.869482          | 0.93246               | 7.92334e-07 |"
      ]
     },
     "metadata": {},
     "output_type": "display_data"
    },
    {
     "data": {
      "text/html": [
       "<pre>| 29      | 36.13s       | 0.869379          | 0.932405              | 7.64254e-07 |</pre>"
      ],
      "text/plain": [
       "| 29      | 36.13s       | 0.869379          | 0.932405              | 7.64254e-07 |"
      ]
     },
     "metadata": {},
     "output_type": "display_data"
    },
    {
     "data": {
      "text/html": [
       "<pre>| 30      | 37.37s       | 0.86928           | 0.932352              | 7.38097e-07 |</pre>"
      ],
      "text/plain": [
       "| 30      | 37.37s       | 0.86928           | 0.932352              | 7.38097e-07 |"
      ]
     },
     "metadata": {},
     "output_type": "display_data"
    },
    {
     "data": {
      "text/html": [
       "<pre>| 31      | 38.63s       | 0.869184          | 0.932301              | 7.1367e-07  |</pre>"
      ],
      "text/plain": [
       "| 31      | 38.63s       | 0.869184          | 0.932301              | 7.1367e-07  |"
      ]
     },
     "metadata": {},
     "output_type": "display_data"
    },
    {
     "data": {
      "text/html": [
       "<pre>| 32      | 39.79s       | 0.869092          | 0.932251              | 6.90809e-07 |</pre>"
      ],
      "text/plain": [
       "| 32      | 39.79s       | 0.869092          | 0.932251              | 6.90809e-07 |"
      ]
     },
     "metadata": {},
     "output_type": "display_data"
    },
    {
     "data": {
      "text/html": [
       "<pre>| 33      | 40.96s       | 0.869003          | 0.932203              | 6.69367e-07 |</pre>"
      ],
      "text/plain": [
       "| 33      | 40.96s       | 0.869003          | 0.932203              | 6.69367e-07 |"
      ]
     },
     "metadata": {},
     "output_type": "display_data"
    },
    {
     "data": {
      "text/html": [
       "<pre>| 34      | 42.14s       | 0.868916          | 0.932157              | 6.49216e-07 |</pre>"
      ],
      "text/plain": [
       "| 34      | 42.14s       | 0.868916          | 0.932157              | 6.49216e-07 |"
      ]
     },
     "metadata": {},
     "output_type": "display_data"
    },
    {
     "data": {
      "text/html": [
       "<pre>| 35      | 43.32s       | 0.868832          | 0.932112              | 6.30242e-07 |</pre>"
      ],
      "text/plain": [
       "| 35      | 43.32s       | 0.868832          | 0.932112              | 6.30242e-07 |"
      ]
     },
     "metadata": {},
     "output_type": "display_data"
    },
    {
     "data": {
      "text/html": [
       "<pre>| 36      | 44.48s       | 0.868751          | 0.932068              | 6.12346e-07 |</pre>"
      ],
      "text/plain": [
       "| 36      | 44.48s       | 0.868751          | 0.932068              | 6.12346e-07 |"
      ]
     },
     "metadata": {},
     "output_type": "display_data"
    },
    {
     "data": {
      "text/html": [
       "<pre>| 37      | 45.62s       | 0.868671          | 0.932025              | 5.95439e-07 |</pre>"
      ],
      "text/plain": [
       "| 37      | 45.62s       | 0.868671          | 0.932025              | 5.95439e-07 |"
      ]
     },
     "metadata": {},
     "output_type": "display_data"
    },
    {
     "data": {
      "text/html": [
       "<pre>| 38      | 46.79s       | 0.868594          | 0.931984              | 5.7944e-07  |</pre>"
      ],
      "text/plain": [
       "| 38      | 46.79s       | 0.868594          | 0.931984              | 5.7944e-07  |"
      ]
     },
     "metadata": {},
     "output_type": "display_data"
    },
    {
     "data": {
      "text/html": [
       "<pre>| 39      | 47.93s       | 0.86852           | 0.931944              | 5.64278e-07 |</pre>"
      ],
      "text/plain": [
       "| 39      | 47.93s       | 0.86852           | 0.931944              | 5.64278e-07 |"
      ]
     },
     "metadata": {},
     "output_type": "display_data"
    },
    {
     "data": {
      "text/html": [
       "<pre>| 40      | 49.10s       | 0.868447          | 0.931905              | 5.4989e-07  |</pre>"
      ],
      "text/plain": [
       "| 40      | 49.10s       | 0.868447          | 0.931905              | 5.4989e-07  |"
      ]
     },
     "metadata": {},
     "output_type": "display_data"
    },
    {
     "data": {
      "text/html": [
       "<pre>| 41      | 50.27s       | 0.868376          | 0.931867              | 5.36217e-07 |</pre>"
      ],
      "text/plain": [
       "| 41      | 50.27s       | 0.868376          | 0.931867              | 5.36217e-07 |"
      ]
     },
     "metadata": {},
     "output_type": "display_data"
    },
    {
     "data": {
      "text/html": [
       "<pre>| 42      | 51.50s       | 0.868307          | 0.93183               | 5.23207e-07 |</pre>"
      ],
      "text/plain": [
       "| 42      | 51.50s       | 0.868307          | 0.93183               | 5.23207e-07 |"
      ]
     },
     "metadata": {},
     "output_type": "display_data"
    },
    {
     "data": {
      "text/html": [
       "<pre>| 43      | 52.96s       | 0.868239          | 0.931794              | 5.10814e-07 |</pre>"
      ],
      "text/plain": [
       "| 43      | 52.96s       | 0.868239          | 0.931794              | 5.10814e-07 |"
      ]
     },
     "metadata": {},
     "output_type": "display_data"
    },
    {
     "data": {
      "text/html": [
       "<pre>| 44      | 54.15s       | 0.868174          | 0.931758              | 4.98994e-07 |</pre>"
      ],
      "text/plain": [
       "| 44      | 54.15s       | 0.868174          | 0.931758              | 4.98994e-07 |"
      ]
     },
     "metadata": {},
     "output_type": "display_data"
    },
    {
     "data": {
      "text/html": [
       "<pre>| 45      | 55.31s       | 0.868109          | 0.931724              | 4.87709e-07 |</pre>"
      ],
      "text/plain": [
       "| 45      | 55.31s       | 0.868109          | 0.931724              | 4.87709e-07 |"
      ]
     },
     "metadata": {},
     "output_type": "display_data"
    },
    {
     "data": {
      "text/html": [
       "<pre>| 46      | 56.47s       | 0.868046          | 0.93169               | 4.76923e-07 |</pre>"
      ],
      "text/plain": [
       "| 46      | 56.47s       | 0.868046          | 0.93169               | 4.76923e-07 |"
      ]
     },
     "metadata": {},
     "output_type": "display_data"
    },
    {
     "data": {
      "text/html": [
       "<pre>| 47      | 57.61s       | 0.867985          | 0.931657              | 4.66604e-07 |</pre>"
      ],
      "text/plain": [
       "| 47      | 57.61s       | 0.867985          | 0.931657              | 4.66604e-07 |"
      ]
     },
     "metadata": {},
     "output_type": "display_data"
    },
    {
     "data": {
      "text/html": [
       "<pre>| 48      | 58.78s       | 0.867925          | 0.931625              | 4.56722e-07 |</pre>"
      ],
      "text/plain": [
       "| 48      | 58.78s       | 0.867925          | 0.931625              | 4.56722e-07 |"
      ]
     },
     "metadata": {},
     "output_type": "display_data"
    },
    {
     "data": {
      "text/html": [
       "<pre>| 49      | 59.95s       | 0.867866          | 0.931593              | 4.4725e-07  |</pre>"
      ],
      "text/plain": [
       "| 49      | 59.95s       | 0.867866          | 0.931593              | 4.4725e-07  |"
      ]
     },
     "metadata": {},
     "output_type": "display_data"
    },
    {
     "data": {
      "text/html": [
       "<pre>| 50      | 1m 1s        | 0.867809          | 0.931563              | 4.38163e-07 |</pre>"
      ],
      "text/plain": [
       "| 50      | 1m 1s        | 0.867809          | 0.931563              | 4.38163e-07 |"
      ]
     },
     "metadata": {},
     "output_type": "display_data"
    },
    {
     "data": {
      "text/html": [
       "<pre>| 51      | 1m 2s        | 0.867753          | 0.931532              | 4.29438e-07 |</pre>"
      ],
      "text/plain": [
       "| 51      | 1m 2s        | 0.867753          | 0.931532              | 4.29438e-07 |"
      ]
     },
     "metadata": {},
     "output_type": "display_data"
    },
    {
     "data": {
      "text/html": [
       "<pre>| 52      | 1m 3s        | 0.867697          | 0.931503              | 4.21053e-07 |</pre>"
      ],
      "text/plain": [
       "| 52      | 1m 3s        | 0.867697          | 0.931503              | 4.21053e-07 |"
      ]
     },
     "metadata": {},
     "output_type": "display_data"
    },
    {
     "data": {
      "text/html": [
       "<pre>| 53      | 1m 4s        | 0.867643          | 0.931474              | 4.12989e-07 |</pre>"
      ],
      "text/plain": [
       "| 53      | 1m 4s        | 0.867643          | 0.931474              | 4.12989e-07 |"
      ]
     },
     "metadata": {},
     "output_type": "display_data"
    },
    {
     "data": {
      "text/html": [
       "<pre>| 54      | 1m 5s        | 0.86759           | 0.931445              | 4.05229e-07 |</pre>"
      ],
      "text/plain": [
       "| 54      | 1m 5s        | 0.86759           | 0.931445              | 4.05229e-07 |"
      ]
     },
     "metadata": {},
     "output_type": "display_data"
    },
    {
     "data": {
      "text/html": [
       "<pre>| 55      | 1m 7s        | 0.867538          | 0.931417              | 3.97755e-07 |</pre>"
      ],
      "text/plain": [
       "| 55      | 1m 7s        | 0.867538          | 0.931417              | 3.97755e-07 |"
      ]
     },
     "metadata": {},
     "output_type": "display_data"
    },
    {
     "data": {
      "text/html": [
       "<pre>| 56      | 1m 8s        | 0.867487          | 0.93139               | 3.90551e-07 |</pre>"
      ],
      "text/plain": [
       "| 56      | 1m 8s        | 0.867487          | 0.93139               | 3.90551e-07 |"
      ]
     },
     "metadata": {},
     "output_type": "display_data"
    },
    {
     "data": {
      "text/html": [
       "<pre>| 57      | 1m 9s        | 0.867437          | 0.931363              | 3.83604e-07 |</pre>"
      ],
      "text/plain": [
       "| 57      | 1m 9s        | 0.867437          | 0.931363              | 3.83604e-07 |"
      ]
     },
     "metadata": {},
     "output_type": "display_data"
    },
    {
     "data": {
      "text/html": [
       "<pre>| 58      | 1m 10s       | 0.867388          | 0.931337              | 3.769e-07   |</pre>"
      ],
      "text/plain": [
       "| 58      | 1m 10s       | 0.867388          | 0.931337              | 3.769e-07   |"
      ]
     },
     "metadata": {},
     "output_type": "display_data"
    },
    {
     "data": {
      "text/html": [
       "<pre>| 59      | 1m 11s       | 0.86734           | 0.931311              | 3.70426e-07 |</pre>"
      ],
      "text/plain": [
       "| 59      | 1m 11s       | 0.86734           | 0.931311              | 3.70426e-07 |"
      ]
     },
     "metadata": {},
     "output_type": "display_data"
    },
    {
     "data": {
      "text/html": [
       "<pre>| 60      | 1m 12s       | 0.867292          | 0.931285              | 3.64171e-07 |</pre>"
      ],
      "text/plain": [
       "| 60      | 1m 12s       | 0.867292          | 0.931285              | 3.64171e-07 |"
      ]
     },
     "metadata": {},
     "output_type": "display_data"
    },
    {
     "data": {
      "text/html": [
       "<pre>| 61      | 1m 14s       | 0.867246          | 0.93126               | 3.58123e-07 |</pre>"
      ],
      "text/plain": [
       "| 61      | 1m 14s       | 0.867246          | 0.93126               | 3.58123e-07 |"
      ]
     },
     "metadata": {},
     "output_type": "display_data"
    },
    {
     "data": {
      "text/html": [
       "<pre>| 62      | 1m 15s       | 0.8672            | 0.931236              | 3.52273e-07 |</pre>"
      ],
      "text/plain": [
       "| 62      | 1m 15s       | 0.8672            | 0.931236              | 3.52273e-07 |"
      ]
     },
     "metadata": {},
     "output_type": "display_data"
    },
    {
     "data": {
      "text/html": [
       "<pre>| 63      | 1m 16s       | 0.867155          | 0.931211              | 3.46611e-07 |</pre>"
      ],
      "text/plain": [
       "| 63      | 1m 16s       | 0.867155          | 0.931211              | 3.46611e-07 |"
      ]
     },
     "metadata": {},
     "output_type": "display_data"
    },
    {
     "data": {
      "text/html": [
       "<pre>| 64      | 1m 17s       | 0.86711           | 0.931188              | 3.41128e-07 |</pre>"
      ],
      "text/plain": [
       "| 64      | 1m 17s       | 0.86711           | 0.931188              | 3.41128e-07 |"
      ]
     },
     "metadata": {},
     "output_type": "display_data"
    },
    {
     "data": {
      "text/html": [
       "<pre>| 65      | 1m 18s       | 0.867067          | 0.931164              | 3.35816e-07 |</pre>"
      ],
      "text/plain": [
       "| 65      | 1m 18s       | 0.867067          | 0.931164              | 3.35816e-07 |"
      ]
     },
     "metadata": {},
     "output_type": "display_data"
    },
    {
     "data": {
      "text/html": [
       "<pre>| 66      | 1m 19s       | 0.867024          | 0.931141              | 3.30667e-07 |</pre>"
      ],
      "text/plain": [
       "| 66      | 1m 19s       | 0.867024          | 0.931141              | 3.30667e-07 |"
      ]
     },
     "metadata": {},
     "output_type": "display_data"
    },
    {
     "data": {
      "text/html": [
       "<pre>| 67      | 1m 21s       | 0.866982          | 0.931119              | 3.25673e-07 |</pre>"
      ],
      "text/plain": [
       "| 67      | 1m 21s       | 0.866982          | 0.931119              | 3.25673e-07 |"
      ]
     },
     "metadata": {},
     "output_type": "display_data"
    },
    {
     "data": {
      "text/html": [
       "<pre>| 68      | 1m 22s       | 0.86694           | 0.931096              | 3.20828e-07 |</pre>"
      ],
      "text/plain": [
       "| 68      | 1m 22s       | 0.86694           | 0.931096              | 3.20828e-07 |"
      ]
     },
     "metadata": {},
     "output_type": "display_data"
    },
    {
     "data": {
      "text/html": [
       "<pre>| 69      | 1m 23s       | 0.866899          | 0.931074              | 3.16125e-07 |</pre>"
      ],
      "text/plain": [
       "| 69      | 1m 23s       | 0.866899          | 0.931074              | 3.16125e-07 |"
      ]
     },
     "metadata": {},
     "output_type": "display_data"
    },
    {
     "data": {
      "text/html": [
       "<pre>| 70      | 1m 24s       | 0.866859          | 0.931052              | 3.11558e-07 |</pre>"
      ],
      "text/plain": [
       "| 70      | 1m 24s       | 0.866859          | 0.931052              | 3.11558e-07 |"
      ]
     },
     "metadata": {},
     "output_type": "display_data"
    },
    {
     "data": {
      "text/html": [
       "<pre>| 71      | 1m 25s       | 0.866819          | 0.931031              | 3.07121e-07 |</pre>"
      ],
      "text/plain": [
       "| 71      | 1m 25s       | 0.866819          | 0.931031              | 3.07121e-07 |"
      ]
     },
     "metadata": {},
     "output_type": "display_data"
    },
    {
     "data": {
      "text/html": [
       "<pre>| 72      | 1m 26s       | 0.86678           | 0.93101               | 3.02808e-07 |</pre>"
      ],
      "text/plain": [
       "| 72      | 1m 26s       | 0.86678           | 0.93101               | 3.02808e-07 |"
      ]
     },
     "metadata": {},
     "output_type": "display_data"
    },
    {
     "data": {
      "text/html": [
       "<pre>| 73      | 1m 28s       | 0.866741          | 0.930989              | 2.98615e-07 |</pre>"
      ],
      "text/plain": [
       "| 73      | 1m 28s       | 0.866741          | 0.930989              | 2.98615e-07 |"
      ]
     },
     "metadata": {},
     "output_type": "display_data"
    },
    {
     "data": {
      "text/html": [
       "<pre>| 74      | 1m 29s       | 0.866703          | 0.930969              | 2.94537e-07 |</pre>"
      ],
      "text/plain": [
       "| 74      | 1m 29s       | 0.866703          | 0.930969              | 2.94537e-07 |"
      ]
     },
     "metadata": {},
     "output_type": "display_data"
    },
    {
     "data": {
      "text/html": [
       "<pre>| 75      | 1m 30s       | 0.866666          | 0.930949              | 2.90568e-07 |</pre>"
      ],
      "text/plain": [
       "| 75      | 1m 30s       | 0.866666          | 0.930949              | 2.90568e-07 |"
      ]
     },
     "metadata": {},
     "output_type": "display_data"
    },
    {
     "data": {
      "text/html": [
       "<pre>| 76      | 1m 31s       | 0.866629          | 0.930929              | 2.86705e-07 |</pre>"
      ],
      "text/plain": [
       "| 76      | 1m 31s       | 0.866629          | 0.930929              | 2.86705e-07 |"
      ]
     },
     "metadata": {},
     "output_type": "display_data"
    },
    {
     "data": {
      "text/html": [
       "<pre>| 77      | 1m 32s       | 0.866592          | 0.930909              | 2.82944e-07 |</pre>"
      ],
      "text/plain": [
       "| 77      | 1m 32s       | 0.866592          | 0.930909              | 2.82944e-07 |"
      ]
     },
     "metadata": {},
     "output_type": "display_data"
    },
    {
     "data": {
      "text/html": [
       "<pre>| 78      | 1m 33s       | 0.866556          | 0.93089               | 2.79279e-07 |</pre>"
      ],
      "text/plain": [
       "| 78      | 1m 33s       | 0.866556          | 0.93089               | 2.79279e-07 |"
      ]
     },
     "metadata": {},
     "output_type": "display_data"
    },
    {
     "data": {
      "text/html": [
       "<pre>| 79      | 1m 35s       | 0.86652           | 0.930871              | 2.75709e-07 |</pre>"
      ],
      "text/plain": [
       "| 79      | 1m 35s       | 0.86652           | 0.930871              | 2.75709e-07 |"
      ]
     },
     "metadata": {},
     "output_type": "display_data"
    },
    {
     "data": {
      "text/html": [
       "<pre>| 80      | 1m 36s       | 0.866485          | 0.930852              | 2.72228e-07 |</pre>"
      ],
      "text/plain": [
       "| 80      | 1m 36s       | 0.866485          | 0.930852              | 2.72228e-07 |"
      ]
     },
     "metadata": {},
     "output_type": "display_data"
    },
    {
     "data": {
      "text/html": [
       "<pre>| 81      | 1m 37s       | 0.866451          | 0.930833              | 2.68835e-07 |</pre>"
      ],
      "text/plain": [
       "| 81      | 1m 37s       | 0.866451          | 0.930833              | 2.68835e-07 |"
      ]
     },
     "metadata": {},
     "output_type": "display_data"
    },
    {
     "data": {
      "text/html": [
       "<pre>| 82      | 1m 38s       | 0.866416          | 0.930815              | 2.65525e-07 |</pre>"
      ],
      "text/plain": [
       "| 82      | 1m 38s       | 0.866416          | 0.930815              | 2.65525e-07 |"
      ]
     },
     "metadata": {},
     "output_type": "display_data"
    },
    {
     "data": {
      "text/html": [
       "<pre>| 83      | 1m 39s       | 0.866383          | 0.930797              | 2.62295e-07 |</pre>"
      ],
      "text/plain": [
       "| 83      | 1m 39s       | 0.866383          | 0.930797              | 2.62295e-07 |"
      ]
     },
     "metadata": {},
     "output_type": "display_data"
    },
    {
     "data": {
      "text/html": [
       "<pre>| 84      | 1m 40s       | 0.866349          | 0.930779              | 2.59143e-07 |</pre>"
      ],
      "text/plain": [
       "| 84      | 1m 40s       | 0.866349          | 0.930779              | 2.59143e-07 |"
      ]
     },
     "metadata": {},
     "output_type": "display_data"
    },
    {
     "data": {
      "text/html": [
       "<pre>| 85      | 1m 41s       | 0.866316          | 0.930761              | 2.56066e-07 |</pre>"
      ],
      "text/plain": [
       "| 85      | 1m 41s       | 0.866316          | 0.930761              | 2.56066e-07 |"
      ]
     },
     "metadata": {},
     "output_type": "display_data"
    },
    {
     "data": {
      "text/html": [
       "<pre>| 86      | 1m 43s       | 0.866284          | 0.930744              | 2.53061e-07 |</pre>"
      ],
      "text/plain": [
       "| 86      | 1m 43s       | 0.866284          | 0.930744              | 2.53061e-07 |"
      ]
     },
     "metadata": {},
     "output_type": "display_data"
    },
    {
     "data": {
      "text/html": [
       "<pre>| 87      | 1m 44s       | 0.866252          | 0.930726              | 2.50126e-07 |</pre>"
      ],
      "text/plain": [
       "| 87      | 1m 44s       | 0.866252          | 0.930726              | 2.50126e-07 |"
      ]
     },
     "metadata": {},
     "output_type": "display_data"
    },
    {
     "data": {
      "text/html": [
       "<pre>| 88      | 1m 45s       | 0.86622           | 0.930709              | 2.47258e-07 |</pre>"
      ],
      "text/plain": [
       "| 88      | 1m 45s       | 0.86622           | 0.930709              | 2.47258e-07 |"
      ]
     },
     "metadata": {},
     "output_type": "display_data"
    },
    {
     "data": {
      "text/html": [
       "<pre>| 89      | 1m 46s       | 0.866188          | 0.930692              | 2.44455e-07 |</pre>"
      ],
      "text/plain": [
       "| 89      | 1m 46s       | 0.866188          | 0.930692              | 2.44455e-07 |"
      ]
     },
     "metadata": {},
     "output_type": "display_data"
    },
    {
     "data": {
      "text/html": [
       "<pre>| 90      | 1m 47s       | 0.866157          | 0.930676              | 2.41715e-07 |</pre>"
      ],
      "text/plain": [
       "| 90      | 1m 47s       | 0.866157          | 0.930676              | 2.41715e-07 |"
      ]
     },
     "metadata": {},
     "output_type": "display_data"
    },
    {
     "data": {
      "text/html": [
       "<pre>| 91      | 1m 48s       | 0.866127          | 0.930659              | 2.39036e-07 |</pre>"
      ],
      "text/plain": [
       "| 91      | 1m 48s       | 0.866127          | 0.930659              | 2.39036e-07 |"
      ]
     },
     "metadata": {},
     "output_type": "display_data"
    },
    {
     "data": {
      "text/html": [
       "<pre>| 92      | 1m 50s       | 0.866096          | 0.930643              | 2.36416e-07 |</pre>"
      ],
      "text/plain": [
       "| 92      | 1m 50s       | 0.866096          | 0.930643              | 2.36416e-07 |"
      ]
     },
     "metadata": {},
     "output_type": "display_data"
    },
    {
     "data": {
      "text/html": [
       "<pre>| 93      | 1m 51s       | 0.866066          | 0.930627              | 2.33852e-07 |</pre>"
      ],
      "text/plain": [
       "| 93      | 1m 51s       | 0.866066          | 0.930627              | 2.33852e-07 |"
      ]
     },
     "metadata": {},
     "output_type": "display_data"
    },
    {
     "data": {
      "text/html": [
       "<pre>| 94      | 1m 52s       | 0.866037          | 0.930611              | 2.31343e-07 |</pre>"
      ],
      "text/plain": [
       "| 94      | 1m 52s       | 0.866037          | 0.930611              | 2.31343e-07 |"
      ]
     },
     "metadata": {},
     "output_type": "display_data"
    },
    {
     "data": {
      "text/html": [
       "<pre>| 95      | 1m 53s       | 0.866007          | 0.930595              | 2.28888e-07 |</pre>"
      ],
      "text/plain": [
       "| 95      | 1m 53s       | 0.866007          | 0.930595              | 2.28888e-07 |"
      ]
     },
     "metadata": {},
     "output_type": "display_data"
    },
    {
     "data": {
      "text/html": [
       "<pre>| 96      | 1m 54s       | 0.865978          | 0.93058               | 2.26484e-07 |</pre>"
      ],
      "text/plain": [
       "| 96      | 1m 54s       | 0.865978          | 0.93058               | 2.26484e-07 |"
      ]
     },
     "metadata": {},
     "output_type": "display_data"
    },
    {
     "data": {
      "text/html": [
       "<pre>| 97      | 1m 56s       | 0.86595           | 0.930564              | 2.2413e-07  |</pre>"
      ],
      "text/plain": [
       "| 97      | 1m 56s       | 0.86595           | 0.930564              | 2.2413e-07  |"
      ]
     },
     "metadata": {},
     "output_type": "display_data"
    },
    {
     "data": {
      "text/html": [
       "<pre>| 98      | 1m 57s       | 0.865921          | 0.930549              | 2.21825e-07 |</pre>"
      ],
      "text/plain": [
       "| 98      | 1m 57s       | 0.865921          | 0.930549              | 2.21825e-07 |"
      ]
     },
     "metadata": {},
     "output_type": "display_data"
    },
    {
     "data": {
      "text/html": [
       "<pre>| 99      | 1m 58s       | 0.865893          | 0.930534              | 2.19566e-07 |</pre>"
      ],
      "text/plain": [
       "| 99      | 1m 58s       | 0.865893          | 0.930534              | 2.19566e-07 |"
      ]
     },
     "metadata": {},
     "output_type": "display_data"
    },
    {
     "data": {
      "text/html": [
       "<pre>| 100     | 1m 59s       | 0.865865          | 0.930519              | 2.17353e-07 |</pre>"
      ],
      "text/plain": [
       "| 100     | 1m 59s       | 0.865865          | 0.930519              | 2.17353e-07 |"
      ]
     },
     "metadata": {},
     "output_type": "display_data"
    },
    {
     "data": {
      "text/html": [
       "<pre>+---------+--------------+-------------------+-----------------------+-------------+</pre>"
      ],
      "text/plain": [
       "+---------+--------------+-------------------+-----------------------+-------------+"
      ]
     },
     "metadata": {},
     "output_type": "display_data"
    },
    {
     "data": {
      "text/html": [
       "<pre>Optimization Complete: Maximum number of passes through the data reached.</pre>"
      ],
      "text/plain": [
       "Optimization Complete: Maximum number of passes through the data reached."
      ]
     },
     "metadata": {},
     "output_type": "display_data"
    },
    {
     "data": {
      "text/html": [
       "<pre>Computing final objective value and training RMSE.</pre>"
      ],
      "text/plain": [
       "Computing final objective value and training RMSE."
      ]
     },
     "metadata": {},
     "output_type": "display_data"
    },
    {
     "data": {
      "text/html": [
       "<pre>       Final objective value: 0.865851</pre>"
      ],
      "text/plain": [
       "       Final objective value: 0.865851"
      ]
     },
     "metadata": {},
     "output_type": "display_data"
    },
    {
     "data": {
      "text/html": [
       "<pre>       Final training RMSE: 0.930511</pre>"
      ],
      "text/plain": [
       "       Final training RMSE: 0.930511"
      ]
     },
     "metadata": {},
     "output_type": "display_data"
    }
   ],
   "source": [
    "rec_engine_1 = gl.factorization_recommender.create(   observation_data=glRatingsTrain, \n",
    "                                                    user_id=\"userID\", \n",
    "                                                    item_id=\"bookID\", \n",
    "                                                    target='rating',\n",
    "                                                    num_factors=1,\n",
    "                                                    solver='auto',\n",
    "                                                    max_iterations=100,\n",
    "                                                    regularization = 1,\n",
    "                                                    linear_regularization = 1e-12\n",
    "                                                    )"
   ]
  },
  {
   "cell_type": "code",
   "execution_count": 89,
   "metadata": {
    "collapsed": false
   },
   "outputs": [
    {
     "name": "stdout",
     "output_type": "stream",
     "text": [
      "0.935480271011\n",
      "0.0928776215748\n"
     ]
    }
   ],
   "source": [
    "print rec_engine_1.evaluate_rmse(glRatingsTest, target='rating')['rmse_overall']\n",
    "print rec_engine_1.evaluate_rmse(glRatingsTest, target='rating')['rmse_overall'] - rec_engine_baseline.evaluate_rmse(glRatingsTest, target='rating')['rmse_overall']"
   ]
  },
  {
   "cell_type": "code",
   "execution_count": 90,
   "metadata": {
    "collapsed": false
   },
   "outputs": [
    {
     "ename": "SyntaxError",
     "evalue": "keyword argument repeated (<ipython-input-90-2a5669fd64c7>, line 7)",
     "output_type": "error",
     "traceback": [
      "\u001b[0;36m  File \u001b[0;32m\"<ipython-input-90-2a5669fd64c7>\"\u001b[0;36m, line \u001b[0;32m7\u001b[0m\n\u001b[0;31m    max_iterations=1000,                                                  max_iterations=1000,\u001b[0m\n\u001b[0;31mSyntaxError\u001b[0m\u001b[0;31m:\u001b[0m keyword argument repeated\n"
     ]
    }
   ],
   "source": [
    "rec_engine_8 = gl.factorization_recommender.create(   observation_data=glRatingsTrain, \n",
    "                                                    user_id=\"userID\", \n",
    "                                                    item_id=\"bookID\", \n",
    "                                                    target='rating',\n",
    "                                                    num_factors=8,\n",
    "                                                    solver='auto',\n",
    "                                                    max_iterations=1000,                                                  max_iterations=1000,\n",
    "                                                    regularization = 1e-12,\n",
    "                                                    linear_regularization = 1\n",
    "                                                    )"
   ]
  },
  {
   "cell_type": "code",
   "execution_count": null,
   "metadata": {
    "collapsed": false
   },
   "outputs": [],
   "source": [
    "print rec_engine_8.evaluate_rmse(glRatingsTest, target='rating')['rmse_overall']\n",
    "print rec_engine_8.evaluate_rmse(glRatingsTest, target='rating')['rmse_overall'] - rec_engine_baseline.evaluate_rmse(glRatingsTest, target='rating')['rmse_overall']"
   ]
  },
  {
   "cell_type": "code",
   "execution_count": 33,
   "metadata": {
    "collapsed": false
   },
   "outputs": [],
   "source": [
    "rec_engine = rec_engine_8\n",
    "\n",
    "bookWeightings = rec_engine.get('coefficients')['bookID']\n",
    "npBookWeightings = bookWeightings['factors'].to_numpy()\n",
    "for i, row in enumerate(npBookWeightings):\n",
    "    npBookWeightings[i,:] /= np.linalg.norm(row)\n",
    "bookWeightings['factors'] = gl.SArray(npBookWeightings)\n",
    "bookWeightings = bookWeightings.unpack('factors')"
   ]
  },
  {
   "cell_type": "code",
   "execution_count": 52,
   "metadata": {
    "collapsed": false
   },
   "outputs": [
    {
     "data": {
      "text/plain": [
       "0.9777261449253141"
      ]
     },
     "execution_count": 52,
     "metadata": {},
     "output_type": "execute_result"
    }
   ],
   "source": [
    "bookWeightings.sort('factors.0', ascending=False)['factors.0'][50]"
   ]
  },
  {
   "cell_type": "code",
   "execution_count": 55,
   "metadata": {
    "collapsed": false
   },
   "outputs": [
    {
     "name": "stdout",
     "output_type": "stream",
     "text": [
      "Flow My Tears, the Policeman Said\n",
      "The Left Hand of Darkness\n",
      "      \n",
      "          (Hainish Cycle #6)\n",
      "On Beauty\n",
      "Dance Dance Dance\n",
      "      \n",
      "          (The Rat #4)\n",
      "The Mote in God's Eye\n",
      "      \n",
      "          (Moties #1)\n",
      "Labyrinths:  Selected Stories and Other Writings\n",
      "------\n",
      "Swann's Way\n",
      "      \n",
      "          (À la recherche du temps perdu #1)\n",
      "Exodus\n"
     ]
    }
   ],
   "source": [
    "print '\\n'.join([bookTitle(int(bID)) \n",
    "                 for bID in bookWeightings.sort('factors.0', ascending=False)['bookID'][:100]\n",
    "                 if len(books.find_one({'bookID': int(bID)})['ratings']) > 20])\n",
    "print '------'\n",
    "print '\\n'.join([bookTitle(int(bID)) \n",
    "                 for bID in bookWeightings.sort('factors.0', ascending=True)['bookID'][:100]\n",
    "                 if len(books.find_one({'bookID': int(bID)})['ratings']) > 20])"
   ]
  },
  {
   "cell_type": "code",
   "execution_count": 59,
   "metadata": {
    "collapsed": false
   },
   "outputs": [
    {
     "name": "stdout",
     "output_type": "stream",
     "text": [
      "The Taming of the Shrew\n",
      "Mansfield Park\n",
      "The Power and the Glory\n",
      "------\n",
      "To Say Nothing of the Dog\n",
      "      \n",
      "          (Oxford Time Travel #2)\n",
      "A History of the World in 10½  Chapters\n"
     ]
    }
   ],
   "source": [
    "print '\\n'.join([bookTitle(int(bID)) \n",
    "                 for bID in bookWeightings.sort('factors.1', ascending=False)['bookID'][:100]\n",
    "                 if len(books.find_one({'bookID': int(bID)})['ratings']) > 20])\n",
    "print '------'\n",
    "print '\\n'.join([bookTitle(int(bID)) \n",
    "                 for bID in bookWeightings.sort('factors.1', ascending=True)['bookID'][:100]\n",
    "                 if len(books.find_one({'bookID': int(bID)})['ratings']) > 20])"
   ]
  },
  {
   "cell_type": "code",
   "execution_count": 61,
   "metadata": {
    "collapsed": false
   },
   "outputs": [
    {
     "name": "stdout",
     "output_type": "stream",
     "text": [
      "Waiting\n",
      "The War of the Worlds\n",
      "The Sandman, Vol. 2: The Doll's House\n",
      "      \n",
      "          (The Sandman #2)\n",
      "------\n",
      "\n"
     ]
    }
   ],
   "source": [
    "print '\\n'.join([bookTitle(int(bID)) \n",
    "                 for bID in bookWeightings.sort('factors.2', ascending=False)['bookID'][:100]\n",
    "                 if len(books.find_one({'bookID': int(bID)})['ratings']) > 10])\n",
    "print '------'\n",
    "print '\\n'.join([bookTitle(int(bID)) \n",
    "                 for bID in bookWeightings.sort('factors.2', ascending=True)['bookID'][:100]\n",
    "                 if len(books.find_one({'bookID': int(bID)})['ratings']) > 10])"
   ]
  },
  {
   "cell_type": "code",
   "execution_count": 57,
   "metadata": {
    "collapsed": false
   },
   "outputs": [
    {
     "name": "stdout",
     "output_type": "stream",
     "text": [
      "Player Piano\n",
      "The Snows of Kilimanjaro and Other Stories\n",
      "------\n",
      "The Time Traveler's Wife\n",
      "The Silence of the Lambs\n",
      "      \n",
      "          (Hannibal Lecter #2)\n",
      "Foundation's Edge\n",
      "      \n",
      "          (Foundation (Publication Order) #4)\n"
     ]
    }
   ],
   "source": [
    "print '\\n'.join([bookTitle(int(bID)) \n",
    "                 for bID in bookWeightings.sort('factors.3', ascending=False)['bookID'][:100]\n",
    "                 if len(books.find_one({'bookID': int(bID)})['ratings']) > 20])\n",
    "print '------'\n",
    "print '\\n'.join([bookTitle(int(bID)) \n",
    "                 for bID in bookWeightings.sort('factors.3', ascending=True)['bookID'][:100]\n",
    "                 if len(books.find_one({'bookID': int(bID)})['ratings']) > 20])"
   ]
  },
  {
   "cell_type": "code",
   "execution_count": 58,
   "metadata": {
    "collapsed": false
   },
   "outputs": [
    {
     "name": "stdout",
     "output_type": "stream",
     "text": [
      "Casino Moon\n",
      "Out on the Rim\n",
      "      \n",
      "          (Arthur Case Wu #2)\n",
      "Outsider in Amsterdam\n",
      "      \n",
      "          (Amsterdam Cops Mysteries #1)\n",
      "Dark Canyon\n",
      "What's Not to Love?: The Adventures of a Mildly Perverted Young Writer\n",
      "------\n",
      "Hidden History: Exploring Our Secret Past\n",
      "Among the Believers : An Islamic Journey\n",
      "The Bottoms\n",
      "American Scream\n",
      "Fenwick Travers and the Years of Empire: An Entertainment\n"
     ]
    }
   ],
   "source": [
    "print '\\n'.join([bookTitle(int(bID)) for bID in bookWeightings.sort('factors.3', ascending=False)['bookID'][:5]])\n",
    "print '------'\n",
    "print '\\n'.join([bookTitle(int(bID)) for bID in bookWeightings.sort('factors.3', ascending=True)['bookID'][:5]])"
   ]
  },
  {
   "cell_type": "code",
   "execution_count": 21,
   "metadata": {
    "collapsed": false
   },
   "outputs": [],
   "source": [
    "dfBookWeightings = bookWeightings.to_dataframe()"
   ]
  },
  {
   "cell_type": "code",
   "execution_count": 22,
   "metadata": {
    "collapsed": false
   },
   "outputs": [
    {
     "data": {
      "text/html": [
       "<div>\n",
       "<table border=\"1\" class=\"dataframe\">\n",
       "  <thead>\n",
       "    <tr style=\"text-align: right;\">\n",
       "      <th></th>\n",
       "      <th>bookID</th>\n",
       "      <th>linear_terms</th>\n",
       "      <th>factors.0</th>\n",
       "      <th>factors.1</th>\n",
       "      <th>factors.2</th>\n",
       "      <th>factors.3</th>\n",
       "    </tr>\n",
       "  </thead>\n",
       "  <tbody>\n",
       "    <tr>\n",
       "      <th>11</th>\n",
       "      <td>118154</td>\n",
       "      <td>0.154152</td>\n",
       "      <td>0.347579</td>\n",
       "      <td>0.171606</td>\n",
       "      <td>0.851917</td>\n",
       "      <td>0.352106</td>\n",
       "    </tr>\n",
       "  </tbody>\n",
       "</table>\n",
       "</div>"
      ],
      "text/plain": [
       "    bookID  linear_terms  factors.0  factors.1  factors.2  factors.3\n",
       "11  118154      0.154152   0.347579   0.171606   0.851917   0.352106"
      ]
     },
     "execution_count": 22,
     "metadata": {},
     "output_type": "execute_result"
    }
   ],
   "source": [
    "dfBookWeightings[dfBookWeightings['bookID']==str(focalBookID)]"
   ]
  },
  {
   "cell_type": "code",
   "execution_count": 23,
   "metadata": {
    "collapsed": true
   },
   "outputs": [],
   "source": [
    "userWeightings = rec_engine.get('coefficients')['userID'].unpack('factors')"
   ]
  },
  {
   "cell_type": "code",
   "execution_count": 24,
   "metadata": {
    "collapsed": true
   },
   "outputs": [],
   "source": [
    "dfUserWeightings = userWeightings.to_dataframe()"
   ]
  },
  {
   "cell_type": "code",
   "execution_count": 62,
   "metadata": {
    "collapsed": false
   },
   "outputs": [
    {
     "data": {
      "text/html": [
       "<div>\n",
       "<table border=\"1\" class=\"dataframe\">\n",
       "  <thead>\n",
       "    <tr style=\"text-align: right;\">\n",
       "      <th></th>\n",
       "      <th>userID</th>\n",
       "      <th>linear_terms</th>\n",
       "      <th>factors.0</th>\n",
       "      <th>factors.1</th>\n",
       "      <th>factors.2</th>\n",
       "      <th>factors.3</th>\n",
       "    </tr>\n",
       "  </thead>\n",
       "  <tbody>\n",
       "    <tr>\n",
       "      <th>7</th>\n",
       "      <td>7607437</td>\n",
       "      <td>0.759385</td>\n",
       "      <td>0.278522</td>\n",
       "      <td>-0.682661</td>\n",
       "      <td>0.481648</td>\n",
       "      <td>0.093921</td>\n",
       "    </tr>\n",
       "  </tbody>\n",
       "</table>\n",
       "</div>"
      ],
      "text/plain": [
       "    userID  linear_terms  factors.0  factors.1  factors.2  factors.3\n",
       "7  7607437      0.759385   0.278522  -0.682661   0.481648   0.093921"
      ]
     },
     "execution_count": 62,
     "metadata": {},
     "output_type": "execute_result"
    }
   ],
   "source": [
    "dfUserWeightings[dfUserWeightings['userID']==7607437] #N.R."
   ]
  },
  {
   "cell_type": "code",
   "execution_count": 235,
   "metadata": {
    "collapsed": false
   },
   "outputs": [
    {
     "data": {
      "text/plain": [
       "(15, 3)"
      ]
     },
     "execution_count": 235,
     "metadata": {},
     "output_type": "execute_result"
    }
   ],
   "source": [
    "targetTruth = glRatingsTest[glRatingsTest['bookID'] == str(focalBookID)]"
   ]
  },
  {
   "cell_type": "code",
   "execution_count": 61,
   "metadata": {
    "collapsed": false
   },
   "outputs": [
    {
     "ename": "NameError",
     "evalue": "name 'rec_engine' is not defined",
     "output_type": "error",
     "traceback": [
      "\u001b[0;31m---------------------------------------------------------------------------\u001b[0m",
      "\u001b[0;31mNameError\u001b[0m                                 Traceback (most recent call last)",
      "\u001b[0;32m<ipython-input-61-bc997d9e3ef4>\u001b[0m in \u001b[0;36m<module>\u001b[0;34m()\u001b[0m\n\u001b[0;32m----> 1\u001b[0;31m \u001b[0mbarthPreds\u001b[0m \u001b[0;34m=\u001b[0m \u001b[0mbarthTruth\u001b[0m\u001b[0;34m[\u001b[0m\u001b[0;34m'userID'\u001b[0m\u001b[0;34m,\u001b[0m\u001b[0;34m'rating'\u001b[0m\u001b[0;34m]\u001b[0m\u001b[0;34m.\u001b[0m\u001b[0madd_column\u001b[0m\u001b[0;34m(\u001b[0m\u001b[0mrec_engine\u001b[0m\u001b[0;34m.\u001b[0m\u001b[0mpredict\u001b[0m\u001b[0;34m(\u001b[0m\u001b[0mbarthTruth\u001b[0m\u001b[0;34m)\u001b[0m\u001b[0;34m,\u001b[0m \u001b[0mname\u001b[0m\u001b[0;34m=\u001b[0m\u001b[0;34m\"modelRating\"\u001b[0m\u001b[0;34m)\u001b[0m\u001b[0;34m\u001b[0m\u001b[0m\n\u001b[0m\u001b[1;32m      2\u001b[0m \u001b[0mbarthPreds\u001b[0m\u001b[0;34m[\u001b[0m\u001b[0;34m'rating'\u001b[0m\u001b[0;34m]\u001b[0m\u001b[0;34m\u001b[0m\u001b[0m\n",
      "\u001b[0;31mNameError\u001b[0m: name 'rec_engine' is not defined"
     ]
    }
   ],
   "source": [
    "targetPreds = barthTruth['userID','rating'].add_column(rec_engine.predict(targetTruth), name=\"modelRating\")"
   ]
  },
  {
   "cell_type": "code",
   "execution_count": 366,
   "metadata": {
    "collapsed": false
   },
   "outputs": [
    {
     "name": "stdout",
     "output_type": "stream",
     "text": [
      "0.888040534664\n",
      "-0.0348179848496\n"
     ]
    }
   ],
   "source": [
    "evalTarget = rec_engine.evaluate_rmse(targetTruth, target='rating')\n",
    "print evalTarget['rmse_overall']\n",
    "print evalTarget['rmse_overall'] - eval['rmse_overall']"
   ]
  },
  {
   "cell_type": "code",
   "execution_count": 11,
   "metadata": {
    "collapsed": false
   },
   "outputs": [],
   "source": [
    "allFriendIDs = reduce(lambda l1, l2: l1+l2, [f['friends'] for f in friends.find()])"
   ]
  },
  {
   "cell_type": "code",
   "execution_count": 12,
   "metadata": {
    "collapsed": false
   },
   "outputs": [
    {
     "data": {
      "text/plain": [
       "7651"
      ]
     },
     "execution_count": 12,
     "metadata": {},
     "output_type": "execute_result"
    }
   ],
   "source": [
    "len(allFriendIDs) - len(set(allFriendIDs))"
   ]
  },
  {
   "cell_type": "code",
   "execution_count": 22,
   "metadata": {
    "collapsed": false
   },
   "outputs": [],
   "source": [
    "friendCounts = []\n",
    "userIDlist = []\n",
    "\n",
    "for f in friends.find():\n",
    "    userIDlist.append(f['userID'])\n",
    "    \n",
    "userIDset = set(userIDlist)\n",
    "\n",
    "for f in friends.find():\n",
    "    friendCounts.append(len(set(f['friends']) & userIDset))"
   ]
  },
  {
   "cell_type": "code",
   "execution_count": 14,
   "metadata": {
    "collapsed": false
   },
   "outputs": [
    {
     "data": {
      "text/plain": [
       "count    323.000000\n",
       "mean       1.566563\n",
       "std        4.490611\n",
       "min        0.000000\n",
       "25%        0.000000\n",
       "50%        0.000000\n",
       "75%        0.000000\n",
       "max       31.000000\n",
       "dtype: float64"
      ]
     },
     "execution_count": 14,
     "metadata": {},
     "output_type": "execute_result"
    }
   ],
   "source": [
    "friendCounts = pd.Series(friendCounts)\n",
    "friendCounts.describe()"
   ]
  },
  {
   "cell_type": "code",
   "execution_count": 15,
   "metadata": {
    "collapsed": false
   },
   "outputs": [
    {
     "data": {
      "text/plain": [
       "79"
      ]
     },
     "execution_count": 15,
     "metadata": {},
     "output_type": "execute_result"
    }
   ],
   "source": [
    "(friendCounts > 0).sum()"
   ]
  },
  {
   "cell_type": "code",
   "execution_count": 16,
   "metadata": {
    "collapsed": false
   },
   "outputs": [],
   "source": [
    "df = pd.DataFrame([userIDlist, list(friendCounts)]).T\n",
    "friendLocs = df.iloc[:,0][df.iloc[:,1]>0]"
   ]
  },
  {
   "cell_type": "code",
   "execution_count": 268,
   "metadata": {
    "collapsed": false
   },
   "outputs": [
    {
     "data": {
      "text/plain": [
       "count    96.000000\n",
       "mean      3.916667\n",
       "std       1.166792\n",
       "min       1.000000\n",
       "25%       3.000000\n",
       "50%       4.000000\n",
       "75%       5.000000\n",
       "max       5.000000\n",
       "Name: rating, dtype: float64"
      ]
     },
     "execution_count": 268,
     "metadata": {},
     "output_type": "execute_result"
    }
   ],
   "source": [
    "fullTargetTruth = glRatings[glRatings['bookID'] == str(focalBookID)]\n",
    "fullTargetTruthDf = fullTargetTruth.to_dataframe()\n",
    "fullTargetTruthDf.set_index('userID',inplace=True)\n",
    "fullTargetTruthDf['rating'].describe()"
   ]
  },
  {
   "cell_type": "code",
   "execution_count": 269,
   "metadata": {
    "collapsed": false
   },
   "outputs": [
    {
     "data": {
      "text/html": [
       "<div>\n",
       "<table border=\"1\" class=\"dataframe\">\n",
       "  <thead>\n",
       "    <tr style=\"text-align: right;\">\n",
       "      <th></th>\n",
       "      <th>bookID</th>\n",
       "      <th>rating</th>\n",
       "    </tr>\n",
       "    <tr>\n",
       "      <th>userID</th>\n",
       "      <th></th>\n",
       "      <th></th>\n",
       "    </tr>\n",
       "  </thead>\n",
       "  <tbody>\n",
       "    <tr>\n",
       "      <th>5960716</th>\n",
       "      <td>NaN</td>\n",
       "      <td>NaN</td>\n",
       "    </tr>\n",
       "    <tr>\n",
       "      <th>5163439</th>\n",
       "      <td>156182</td>\n",
       "      <td>4.0</td>\n",
       "    </tr>\n",
       "    <tr>\n",
       "      <th>13368360</th>\n",
       "      <td>156182</td>\n",
       "      <td>3.0</td>\n",
       "    </tr>\n",
       "    <tr>\n",
       "      <th>10074154</th>\n",
       "      <td>156182</td>\n",
       "      <td>4.0</td>\n",
       "    </tr>\n",
       "    <tr>\n",
       "      <th>6214700</th>\n",
       "      <td>NaN</td>\n",
       "      <td>NaN</td>\n",
       "    </tr>\n",
       "    <tr>\n",
       "      <th>5022264</th>\n",
       "      <td>156182</td>\n",
       "      <td>4.0</td>\n",
       "    </tr>\n",
       "    <tr>\n",
       "      <th>20612160</th>\n",
       "      <td>156182</td>\n",
       "      <td>5.0</td>\n",
       "    </tr>\n",
       "    <tr>\n",
       "      <th>5484622</th>\n",
       "      <td>156182</td>\n",
       "      <td>5.0</td>\n",
       "    </tr>\n",
       "    <tr>\n",
       "      <th>7324260</th>\n",
       "      <td>156182</td>\n",
       "      <td>5.0</td>\n",
       "    </tr>\n",
       "    <tr>\n",
       "      <th>1439856</th>\n",
       "      <td>156182</td>\n",
       "      <td>4.0</td>\n",
       "    </tr>\n",
       "    <tr>\n",
       "      <th>13984676</th>\n",
       "      <td>156182</td>\n",
       "      <td>4.0</td>\n",
       "    </tr>\n",
       "    <tr>\n",
       "      <th>4058765</th>\n",
       "      <td>NaN</td>\n",
       "      <td>NaN</td>\n",
       "    </tr>\n",
       "    <tr>\n",
       "      <th>3604115</th>\n",
       "      <td>156182</td>\n",
       "      <td>5.0</td>\n",
       "    </tr>\n",
       "    <tr>\n",
       "      <th>4100763</th>\n",
       "      <td>NaN</td>\n",
       "      <td>NaN</td>\n",
       "    </tr>\n",
       "    <tr>\n",
       "      <th>1349804</th>\n",
       "      <td>NaN</td>\n",
       "      <td>NaN</td>\n",
       "    </tr>\n",
       "    <tr>\n",
       "      <th>442654</th>\n",
       "      <td>NaN</td>\n",
       "      <td>NaN</td>\n",
       "    </tr>\n",
       "    <tr>\n",
       "      <th>869064</th>\n",
       "      <td>156182</td>\n",
       "      <td>5.0</td>\n",
       "    </tr>\n",
       "    <tr>\n",
       "      <th>4055243</th>\n",
       "      <td>156182</td>\n",
       "      <td>5.0</td>\n",
       "    </tr>\n",
       "    <tr>\n",
       "      <th>7619789</th>\n",
       "      <td>156182</td>\n",
       "      <td>3.0</td>\n",
       "    </tr>\n",
       "    <tr>\n",
       "      <th>531153</th>\n",
       "      <td>156182</td>\n",
       "      <td>5.0</td>\n",
       "    </tr>\n",
       "  </tbody>\n",
       "</table>\n",
       "</div>"
      ],
      "text/plain": [
       "          bookID  rating\n",
       "userID                  \n",
       "5960716      NaN     NaN\n",
       "5163439   156182     4.0\n",
       "13368360  156182     3.0\n",
       "10074154  156182     4.0\n",
       "6214700      NaN     NaN\n",
       "5022264   156182     4.0\n",
       "20612160  156182     5.0\n",
       "5484622   156182     5.0\n",
       "7324260   156182     5.0\n",
       "1439856   156182     4.0\n",
       "13984676  156182     4.0\n",
       "4058765      NaN     NaN\n",
       "3604115   156182     5.0\n",
       "4100763      NaN     NaN\n",
       "1349804      NaN     NaN\n",
       "442654       NaN     NaN\n",
       "869064    156182     5.0\n",
       "4055243   156182     5.0\n",
       "7619789   156182     3.0\n",
       "531153    156182     5.0"
      ]
     },
     "execution_count": 269,
     "metadata": {},
     "output_type": "execute_result"
    }
   ],
   "source": [
    "fullTargetTruthDf.loc[friendLocs,:]"
   ]
  },
  {
   "cell_type": "code",
   "execution_count": 23,
   "metadata": {
    "collapsed": false
   },
   "outputs": [],
   "source": [
    "adj_dict = {}\n",
    "for f in friends.find():\n",
    "    curFlist = set(f['friends'])\n",
    "    friendsInData = curFlist & set(userIDlist)\n",
    "    if len(friendsInData) > 0:\n",
    "        adj_dict[f['userID']] = list(friendsInData)"
   ]
  },
  {
   "cell_type": "code",
   "execution_count": 25,
   "metadata": {
    "collapsed": false
   },
   "outputs": [
    {
     "data": {
      "text/plain": [
       "83"
      ]
     },
     "execution_count": 25,
     "metadata": {},
     "output_type": "execute_result"
    }
   ],
   "source": [
    "len(adj_dict)"
   ]
  },
  {
   "cell_type": "code",
   "execution_count": 26,
   "metadata": {
    "collapsed": true
   },
   "outputs": [],
   "source": [
    "g = nx.from_dict_of_lists(adj_dict)"
   ]
  },
  {
   "cell_type": "code",
   "execution_count": 29,
   "metadata": {
    "collapsed": false
   },
   "outputs": [
    {
     "data": {
      "image/png": "[encoded data removed]",
      "text/plain": [
       "<matplotlib.figure.Figure at 0x7f394e705e10>"
      ]
     },
     "metadata": {},
     "output_type": "display_data"
    }
   ],
   "source": [
    "nx.draw(g, node_size=10, alpha=0.25)"
   ]
  },
  {
   "cell_type": "code",
   "execution_count": null,
   "metadata": {
    "collapsed": true
   },
   "outputs": [],
   "source": []
  }
 ],
 "metadata": {
  "anaconda-cloud": {},
  "kernelspec": {
   "display_name": "Python [default]",
   "language": "python",
   "name": "python2"
  },
  "language_info": {
   "codemirror_mode": {
    "name": "ipython",
    "version": 2
   },
   "file_extension": ".py",
   "mimetype": "text/x-python",
   "name": "python",
   "nbconvert_exporter": "python",
   "pygments_lexer": "ipython2",
   "version": "2.7.12"
  }
 },
 "nbformat": 4,
 "nbformat_minor": 1
}
